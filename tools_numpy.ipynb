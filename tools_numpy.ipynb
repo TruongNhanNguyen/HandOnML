{
 "cells": [
  {
   "cell_type": "markdown",
   "source": "**Tools - NumPy**\n\n*NumPy is the fundamental library for scientific computing with Python. NumPy is centered around a powerful N-dimensional array object, and it also contains useful linear algebra, Fourier transform, and random number functions.*",
   "metadata": {
    "id": "eFhM2jnBL1T6",
    "cell_id": "7cf01e1f-719c-4345-8902-c3ee36cd83d1",
    "deepnote_cell_type": "markdown",
    "deepnote_cell_height": 133.5625
   }
  },
  {
   "cell_type": "markdown",
   "source": "# Creating Arrays",
   "metadata": {
    "id": "EVhLHaw0L1UJ",
    "cell_id": "00001-b3eef59d-b8c9-4c7f-bd5b-a9ae6fc57b2d",
    "deepnote_cell_type": "markdown",
    "deepnote_cell_height": 82
   }
  },
  {
   "cell_type": "markdown",
   "source": "Now let's import `numpy`. Most people import it as `np`:",
   "metadata": {
    "id": "i9IOygLUL1UL",
    "cell_id": "00002-8b9851ec-2ce4-4ce5-9d2c-1eb16051a976",
    "deepnote_cell_type": "markdown",
    "deepnote_cell_height": 52.390625
   }
  },
  {
   "cell_type": "code",
   "metadata": {
    "id": "5EU7LpTzL1UM",
    "cell_id": "00003-d2992012-87c0-49f4-bfe4-17419c5c3c4a",
    "deepnote_to_be_reexecuted": false,
    "source_hash": "c2602aa8",
    "execution_start": 1659773139530,
    "execution_millis": 0,
    "deepnote_cell_type": "code",
    "deepnote_cell_height": 76
   },
   "source": "import numpy as np",
   "outputs": [],
   "execution_count": null
  },
  {
   "cell_type": "markdown",
   "source": "## `np.zeros`",
   "metadata": {
    "id": "xDaGsICWL1UQ",
    "cell_id": "00004-2a144288-f719-43f4-b300-c9198eafdd55",
    "deepnote_cell_type": "markdown",
    "deepnote_cell_height": 70
   }
  },
  {
   "cell_type": "markdown",
   "source": "The `zeros` function creates an array containing any number of zeros:",
   "metadata": {
    "id": "ELwiXga1L1US",
    "cell_id": "00005-51e36bcc-1457-4013-bd49-17e5b6c998ab",
    "deepnote_cell_type": "markdown",
    "deepnote_cell_height": 52.390625
   }
  },
  {
   "cell_type": "code",
   "metadata": {
    "id": "MQLFGYagL1UV",
    "outputId": "98a8e8a6-3e9c-4b90-ba46-fcd97a7bd61f",
    "cell_id": "00006-375722d7-3d7e-4ace-96f8-bbd2096becbc",
    "deepnote_to_be_reexecuted": false,
    "source_hash": "bdf3dc11",
    "execution_start": 1659773139531,
    "execution_millis": 3,
    "deepnote_cell_type": "code",
    "deepnote_cell_height": 113.1875,
    "deepnote_output_heights": [
     21.1875
    ]
   },
   "source": "np.zeros(5)",
   "outputs": [
    {
     "output_type": "execute_result",
     "execution_count": 2,
     "data": {
      "text/plain": "array([0., 0., 0., 0., 0.])"
     },
     "metadata": {}
    }
   ],
   "execution_count": null
  },
  {
   "cell_type": "markdown",
   "source": "It's just as easy to create a 2D array (ie. a matrix) by providing a tuple with the desired number of rows and columns. For example, here's a 3x4 matrix:",
   "metadata": {
    "id": "pW5ncJRvL1UY",
    "cell_id": "00007-d5ca38dc-bc96-426a-ab96-50c23afcc0cf",
    "deepnote_cell_type": "markdown",
    "deepnote_cell_height": 74.78125
   }
  },
  {
   "cell_type": "code",
   "metadata": {
    "id": "IUxzJ4L3L1Ua",
    "outputId": "cd0f1f09-db31-4e1b-9daa-ea7ad22d1f9a",
    "cell_id": "00008-eb2629e0-9113-4b72-af45-de53c1953e66",
    "deepnote_to_be_reexecuted": false,
    "source_hash": "5e699a29",
    "execution_start": 1659773139531,
    "execution_millis": 3,
    "deepnote_cell_type": "code",
    "deepnote_cell_height": 151.5625,
    "deepnote_output_heights": [
     59.5625
    ]
   },
   "source": "np.zeros((3,4))",
   "outputs": [
    {
     "output_type": "execute_result",
     "execution_count": 3,
     "data": {
      "text/plain": "array([[0., 0., 0., 0.],\n       [0., 0., 0., 0.],\n       [0., 0., 0., 0.]])"
     },
     "metadata": {}
    }
   ],
   "execution_count": null
  },
  {
   "cell_type": "markdown",
   "source": "## Some vocabulary\n\n* In NumPy, each dimension is called an **axis**.\n* The number of axes is called the **rank**.\n    * For example, the above 3x4 matrix is an array of rank 2 (it is 2-dimensional).\n    * The first axis has length 3, the second has length 4.\n* An array's list of axis lengths is called the **shape** of the array.\n    * For example, the above matrix's shape is `(3, 4)`.\n    * The rank is equal to the shape's length.\n* The **size** of an array is the total number of elements, which is the product of all axis lengths (eg. 3*4=12)",
   "metadata": {
    "id": "5IMPHlXeL1Ub",
    "cell_id": "00009-3dc6d9e2-a48d-4f7f-9e80-f0fde2ec1d34",
    "deepnote_cell_type": "markdown",
    "deepnote_cell_height": 344.515625
   }
  },
  {
   "cell_type": "code",
   "metadata": {
    "id": "yKvGk9XNL1Ud",
    "outputId": "8d2667d9-ca61-4cf4-d25d-f3d033b4da19",
    "cell_id": "00010-2685adcc-e524-4e9b-9917-bb598bd8cfc6",
    "deepnote_to_be_reexecuted": false,
    "source_hash": "67cab21",
    "execution_start": 1659773139538,
    "execution_millis": 11,
    "deepnote_cell_type": "code",
    "deepnote_cell_height": 169.5625,
    "deepnote_output_heights": [
     59.5625
    ]
   },
   "source": "a = np.zeros((3,4))\na",
   "outputs": [
    {
     "output_type": "execute_result",
     "execution_count": 4,
     "data": {
      "text/plain": "array([[0., 0., 0., 0.],\n       [0., 0., 0., 0.],\n       [0., 0., 0., 0.]])"
     },
     "metadata": {}
    }
   ],
   "execution_count": null
  },
  {
   "cell_type": "code",
   "metadata": {
    "id": "PwQBfqJAL1Ug",
    "outputId": "f207fb66-1ea8-4812-a3ec-a59451f16240",
    "cell_id": "00011-040459b1-59ea-4a77-8798-0e2433ebe1e5",
    "deepnote_to_be_reexecuted": false,
    "source_hash": "755c6a00",
    "execution_start": 1659773139550,
    "execution_millis": 1,
    "deepnote_cell_type": "code",
    "deepnote_cell_height": 113.1875,
    "deepnote_output_heights": [
     21.1875
    ]
   },
   "source": "a.shape",
   "outputs": [
    {
     "output_type": "execute_result",
     "execution_count": 5,
     "data": {
      "text/plain": "(3, 4)"
     },
     "metadata": {}
    }
   ],
   "execution_count": null
  },
  {
   "cell_type": "code",
   "metadata": {
    "id": "xGv2wb0uL1Ui",
    "outputId": "cc5db12d-1094-4abf-c935-45ee6d15c53d",
    "cell_id": "00012-3a7e9abf-1eeb-4074-aa0b-f820d23e8d4b",
    "deepnote_to_be_reexecuted": false,
    "source_hash": "6f0b4051",
    "execution_start": 1659773139568,
    "deepnote_cell_type": "code",
    "deepnote_cell_height": 113.1875,
    "deepnote_output_heights": [
     21.1875
    ]
   },
   "source": "a.ndim  # equal to len(a.shape)",
   "outputs": [
    {
     "output_type": "execute_result",
     "execution_count": 6,
     "data": {
      "text/plain": "2"
     },
     "metadata": {}
    }
   ],
   "execution_count": null
  },
  {
   "cell_type": "code",
   "metadata": {
    "id": "QMHCNJLTL1Ul",
    "outputId": "34a9c1f2-9978-450c-f01a-143b251b2b8c",
    "cell_id": "00013-f215edc0-70e5-4917-8426-55811e15ff31",
    "deepnote_to_be_reexecuted": false,
    "source_hash": "d753b94b",
    "execution_start": 1659773139573,
    "deepnote_cell_type": "code",
    "deepnote_cell_height": 113.1875,
    "deepnote_output_heights": [
     21.1875
    ]
   },
   "source": "a.size",
   "outputs": [
    {
     "output_type": "execute_result",
     "execution_count": 7,
     "data": {
      "text/plain": "12"
     },
     "metadata": {}
    }
   ],
   "execution_count": null
  },
  {
   "cell_type": "markdown",
   "source": "## N-dimensional arrays\nYou can also create an N-dimensional array of arbitrary rank. For example, here's a 3D array (rank=3), with shape `(2,3,4)`:",
   "metadata": {
    "id": "f_P97qP3L1Um",
    "cell_id": "00014-f175f345-83f6-40cd-85c2-04854de76999",
    "deepnote_cell_type": "markdown",
    "deepnote_cell_height": 130.78125
   }
  },
  {
   "cell_type": "code",
   "metadata": {
    "id": "MWiAH4-KL1Un",
    "outputId": "48214a40-167e-4510-8977-a2f0d5150384",
    "cell_id": "00015-31f31810-57f6-4411-a3b1-51a3606d5d5f",
    "deepnote_to_be_reexecuted": false,
    "source_hash": "250c8186",
    "execution_start": 1659773139580,
    "deepnote_cell_type": "code",
    "deepnote_cell_height": 228.3125,
    "deepnote_output_heights": [
     136.3125
    ]
   },
   "source": "np.zeros((2,3,4))",
   "outputs": [
    {
     "output_type": "execute_result",
     "execution_count": 8,
     "data": {
      "text/plain": "array([[[0., 0., 0., 0.],\n        [0., 0., 0., 0.],\n        [0., 0., 0., 0.]],\n\n       [[0., 0., 0., 0.],\n        [0., 0., 0., 0.],\n        [0., 0., 0., 0.]]])"
     },
     "metadata": {}
    }
   ],
   "execution_count": null
  },
  {
   "cell_type": "markdown",
   "source": "## Array type\nNumPy arrays have the type `ndarray`s:",
   "metadata": {
    "id": "DFUp_mPqL1Ur",
    "cell_id": "00016-c23b42ed-47a9-4990-87a2-3bde35187af0",
    "deepnote_cell_type": "markdown",
    "deepnote_cell_height": 108.390625
   }
  },
  {
   "cell_type": "code",
   "metadata": {
    "id": "KKv1LAOnL1Us",
    "outputId": "bfa21963-ee54-4118-da81-d372da733fa8",
    "cell_id": "00017-db1822dc-139b-4562-87e3-99d6a9b8d536",
    "deepnote_to_be_reexecuted": false,
    "source_hash": "b948d2d3",
    "execution_start": 1659773139588,
    "execution_millis": 2,
    "deepnote_cell_type": "code",
    "deepnote_cell_height": 113.1875,
    "deepnote_output_heights": [
     21.1875
    ]
   },
   "source": "type(np.zeros((3,4)))",
   "outputs": [
    {
     "output_type": "execute_result",
     "execution_count": 9,
     "data": {
      "text/plain": "numpy.ndarray"
     },
     "metadata": {}
    }
   ],
   "execution_count": null
  },
  {
   "cell_type": "markdown",
   "source": "## `np.ones`\nMany other NumPy functions create `ndarrays`.\n\nHere's a 3x4 matrix full of ones:",
   "metadata": {
    "id": "WanW-yJ_L1Us",
    "cell_id": "00018-3e5a5110-81d9-4ab9-b966-1777eebcd7d4",
    "deepnote_cell_type": "markdown",
    "deepnote_cell_height": 144.78125
   }
  },
  {
   "cell_type": "code",
   "metadata": {
    "id": "Gb5YAbLEL1Ut",
    "outputId": "812a73cd-9679-4715-f2a3-a37cce54f1ce",
    "cell_id": "00019-20776634-05f6-4bca-8725-54ccdba4925d",
    "deepnote_to_be_reexecuted": false,
    "source_hash": "bc365fa7",
    "execution_start": 1659773139591,
    "execution_millis": 5,
    "deepnote_cell_type": "code",
    "deepnote_cell_height": 151.5625,
    "deepnote_output_heights": [
     59.5625
    ]
   },
   "source": "np.ones((3,4))",
   "outputs": [
    {
     "output_type": "execute_result",
     "execution_count": 10,
     "data": {
      "text/plain": "array([[1., 1., 1., 1.],\n       [1., 1., 1., 1.],\n       [1., 1., 1., 1.]])"
     },
     "metadata": {}
    }
   ],
   "execution_count": null
  },
  {
   "cell_type": "markdown",
   "source": "## `np.full`\nCreates an array of the given shape initialized with the given value. Here's a 3x4 matrix full of `π`.",
   "metadata": {
    "id": "Zsfw9hThL1Uu",
    "cell_id": "00020-04158e2d-ab34-443d-9cb4-694da6a6e228",
    "deepnote_cell_type": "markdown",
    "deepnote_cell_height": 108.390625
   }
  },
  {
   "cell_type": "code",
   "metadata": {
    "id": "P_6QDmpLL1Uv",
    "outputId": "33f7e799-faa5-4922-ed74-c7986aa3dc12",
    "cell_id": "00021-73f9112f-8cea-4c27-ad98-adba1a861a08",
    "deepnote_to_be_reexecuted": false,
    "source_hash": "91eef948",
    "execution_start": 1659773139604,
    "deepnote_cell_type": "code",
    "deepnote_cell_height": 151.5625,
    "deepnote_output_heights": [
     59.5625
    ]
   },
   "source": "np.full((3,4), np.pi)",
   "outputs": [
    {
     "output_type": "execute_result",
     "execution_count": 11,
     "data": {
      "text/plain": "array([[3.14159265, 3.14159265, 3.14159265, 3.14159265],\n       [3.14159265, 3.14159265, 3.14159265, 3.14159265],\n       [3.14159265, 3.14159265, 3.14159265, 3.14159265]])"
     },
     "metadata": {}
    }
   ],
   "execution_count": null
  },
  {
   "cell_type": "markdown",
   "source": "## `np.empty`\nAn uninitialized 2x3 array (its content is not predictable, as it is whatever is in memory at that point):",
   "metadata": {
    "id": "Cw6x62DHL1Uw",
    "cell_id": "00022-b316805a-7c3d-42b4-90fd-76d07abcc1b2",
    "deepnote_cell_type": "markdown",
    "deepnote_cell_height": 108.390625
   }
  },
  {
   "cell_type": "code",
   "metadata": {
    "scrolled": true,
    "id": "uUYKawNRL1Uy",
    "outputId": "36d3b349-7d12-4175-c096-ea86970afe8a",
    "cell_id": "00023-5dc50b6d-9132-424b-8d85-2ae2f067b0a1",
    "deepnote_to_be_reexecuted": false,
    "source_hash": "a743e953",
    "execution_start": 1659773139614,
    "execution_millis": 3,
    "deepnote_cell_type": "code",
    "deepnote_cell_height": 132.375,
    "deepnote_output_heights": [
     40.375
    ]
   },
   "source": "np.empty((2,3))",
   "outputs": [
    {
     "output_type": "execute_result",
     "execution_count": 12,
     "data": {
      "text/plain": "array([[4.65083044e-310, 0.00000000e+000, 0.00000000e+000],\n       [0.00000000e+000, 0.00000000e+000, 0.00000000e+000]])"
     },
     "metadata": {}
    }
   ],
   "execution_count": null
  },
  {
   "cell_type": "markdown",
   "source": "## np.array\nOf course you can initialize an `ndarray` using a regular python array. Just call the `array` function:",
   "metadata": {
    "id": "ODMsRii2L1Uy",
    "cell_id": "00024-1e11719e-6ccf-4e0a-9df6-5d260949ef04",
    "deepnote_cell_type": "markdown",
    "deepnote_cell_height": 108.390625
   }
  },
  {
   "cell_type": "code",
   "metadata": {
    "id": "4m11AFuVL1Uz",
    "outputId": "752e6f24-9842-43bc-ad1d-bfec57572cb1",
    "cell_id": "00025-16524834-7ca1-43a1-8d03-a884e85d1b8a",
    "deepnote_to_be_reexecuted": false,
    "source_hash": "bbf3acb6",
    "execution_start": 1659773139616,
    "execution_millis": 7,
    "deepnote_cell_type": "code",
    "deepnote_cell_height": 132.375,
    "deepnote_output_heights": [
     40.375
    ]
   },
   "source": "np.array([[1,2,3,4], [10, 20, 30, 40]])",
   "outputs": [
    {
     "output_type": "execute_result",
     "execution_count": 13,
     "data": {
      "text/plain": "array([[ 1,  2,  3,  4],\n       [10, 20, 30, 40]])"
     },
     "metadata": {}
    }
   ],
   "execution_count": null
  },
  {
   "cell_type": "markdown",
   "source": "## `np.arange`\nYou can create an `ndarray` using NumPy's `arange` function, which is similar to python's built-in `range` function:",
   "metadata": {
    "id": "uOOFHq68L1Uz",
    "cell_id": "00026-0fd31f87-00bf-48a5-a3af-be35a71e64b2",
    "deepnote_cell_type": "markdown",
    "deepnote_cell_height": 130.78125
   }
  },
  {
   "cell_type": "code",
   "metadata": {
    "scrolled": true,
    "id": "9kjMvAWaL1U0",
    "outputId": "67c0c612-efeb-46a5-a256-91006e89db25",
    "cell_id": "00027-2c8ee467-72a2-4dba-ad7f-8a06d7500345",
    "deepnote_to_be_reexecuted": false,
    "source_hash": "223ad45b",
    "execution_start": 1659773139623,
    "execution_millis": 15,
    "deepnote_cell_type": "code",
    "deepnote_cell_height": 113.1875,
    "deepnote_output_heights": [
     21.1875
    ]
   },
   "source": "np.arange(1, 5)",
   "outputs": [
    {
     "output_type": "execute_result",
     "execution_count": 14,
     "data": {
      "text/plain": "array([1, 2, 3, 4])"
     },
     "metadata": {}
    }
   ],
   "execution_count": null
  },
  {
   "cell_type": "markdown",
   "source": "It also works with floats:",
   "metadata": {
    "id": "SCZqR80nL1U1",
    "cell_id": "00028-bde62740-6b29-4258-a125-0dcd987b6a38",
    "deepnote_cell_type": "markdown",
    "deepnote_cell_height": 52.390625
   }
  },
  {
   "cell_type": "code",
   "metadata": {
    "id": "q40eRp0fL1U2",
    "outputId": "af5411d4-78aa-456f-ee2f-37d5733947b6",
    "cell_id": "00029-e8ab691d-8c09-418f-81b9-df0a2c531819",
    "deepnote_to_be_reexecuted": false,
    "source_hash": "d19b02b5",
    "execution_start": 1659773139643,
    "execution_millis": 6,
    "deepnote_cell_type": "code",
    "deepnote_cell_height": 113.1875,
    "deepnote_output_heights": [
     21.1875
    ]
   },
   "source": "np.arange(1.0, 5.0)",
   "outputs": [
    {
     "output_type": "execute_result",
     "execution_count": 15,
     "data": {
      "text/plain": "array([1., 2., 3., 4.])"
     },
     "metadata": {}
    }
   ],
   "execution_count": null
  },
  {
   "cell_type": "markdown",
   "source": "Of course you can provide a step parameter:",
   "metadata": {
    "id": "k2JhtqKRL1U2",
    "cell_id": "00030-103ad347-6ad0-4fff-a202-eca9cb3bbeb1",
    "deepnote_cell_type": "markdown",
    "deepnote_cell_height": 52.390625
   }
  },
  {
   "cell_type": "code",
   "metadata": {
    "id": "OmXtYAZbL1U3",
    "outputId": "8db5cca2-3cb7-466c-998c-ae864065df80",
    "cell_id": "00031-3c856803-ab74-481b-88fe-5d5c0eb42fc9",
    "deepnote_to_be_reexecuted": false,
    "source_hash": "d4da634a",
    "execution_start": 1659773139652,
    "execution_millis": 14,
    "deepnote_cell_type": "code",
    "deepnote_cell_height": 113.1875,
    "deepnote_output_heights": [
     21.1875
    ]
   },
   "source": "np.arange(1, 5, 0.5)",
   "outputs": [
    {
     "output_type": "execute_result",
     "execution_count": 16,
     "data": {
      "text/plain": "array([1. , 1.5, 2. , 2.5, 3. , 3.5, 4. , 4.5])"
     },
     "metadata": {}
    }
   ],
   "execution_count": null
  },
  {
   "cell_type": "markdown",
   "source": "However, when dealing with floats, the exact number of elements in the array is not always predictible. For example, consider this:",
   "metadata": {
    "id": "oWe32SvTL1U3",
    "cell_id": "00032-e465c57b-f81e-4176-a0cb-73c62e0338b5",
    "deepnote_cell_type": "markdown",
    "deepnote_cell_height": 74.78125
   }
  },
  {
   "cell_type": "code",
   "metadata": {
    "id": "Ushhb7XDL1U3",
    "outputId": "eaa710a4-9a92-4485-fa2b-243da2295528",
    "cell_id": "00033-f9d4763c-033c-4aa4-913e-02439c757a6b",
    "deepnote_to_be_reexecuted": false,
    "source_hash": "4d44814b",
    "execution_start": 1659773139666,
    "execution_millis": 9,
    "deepnote_cell_type": "code",
    "deepnote_cell_height": 206.5625
   },
   "source": "print(np.arange(0, 5/3, 1/3)) # depending on floating point errors, the max value is 4/3 or 5/3.\nprint(np.arange(0, 5/3, 0.333333333))\nprint(np.arange(0, 5/3, 0.333333334))\n",
   "outputs": [
    {
     "name": "stdout",
     "text": "[0.         0.33333333 0.66666667 1.         1.33333333 1.66666667]\n[0.         0.33333333 0.66666667 1.         1.33333333 1.66666667]\n[0.         0.33333333 0.66666667 1.         1.33333334]\n",
     "output_type": "stream"
    }
   ],
   "execution_count": null
  },
  {
   "cell_type": "markdown",
   "source": "## `np.linspace`\nFor this reason, it is generally preferable to use the `linspace` function instead of `arange` when working with floats. The `linspace` function returns an array containing a specific number of points evenly distributed between two values (note that the maximum value is *included*, contrary to `arange`):",
   "metadata": {
    "id": "gBEBe5CIL1U4",
    "cell_id": "00034-6f483964-3fe9-4eed-80e2-9d32035d2517",
    "deepnote_cell_type": "markdown",
    "deepnote_cell_height": 175.5625
   }
  },
  {
   "cell_type": "code",
   "metadata": {
    "id": "q2n2VBS-L1U5",
    "outputId": "7a77d112-e056-43b6-91b2-728d60adb49b",
    "cell_id": "00035-9e9de14d-584c-4b8b-bf8a-21dbe0d3ce48",
    "deepnote_to_be_reexecuted": false,
    "source_hash": "4926fcf1",
    "execution_start": 1659773139680,
    "execution_millis": 7,
    "deepnote_cell_type": "code",
    "deepnote_cell_height": 107.1875
   },
   "source": "print(np.linspace(0, 5/3, 6))",
   "outputs": [
    {
     "name": "stdout",
     "text": "[0.         0.33333333 0.66666667 1.         1.33333333 1.66666667]\n",
     "output_type": "stream"
    }
   ],
   "execution_count": null
  },
  {
   "cell_type": "markdown",
   "source": "## `np.rand` and `np.randn`\nA number of functions are available in NumPy's `random` module to create `ndarray`s initialized with random values.\nFor example, here is a 3x4 matrix initialized with random floats between 0 and 1 (uniform distribution):",
   "metadata": {
    "id": "eMpszgvqL1U5",
    "cell_id": "00036-1064c3bd-de31-4aec-acc4-9389a625275e",
    "deepnote_cell_type": "markdown",
    "deepnote_cell_height": 175.5625
   }
  },
  {
   "cell_type": "code",
   "metadata": {
    "id": "e6xlbLvGL1U5",
    "outputId": "29a25f70-d270-449a-bddc-f40237232f8a",
    "cell_id": "00037-dfe1440c-33af-408c-a869-59cc5adfb76f",
    "deepnote_to_be_reexecuted": false,
    "source_hash": "82b370d4",
    "execution_start": 1659773139685,
    "execution_millis": 8,
    "deepnote_cell_type": "code",
    "deepnote_cell_height": 151.5625,
    "deepnote_output_heights": [
     59.5625
    ]
   },
   "source": "np.random.rand(3,4)",
   "outputs": [
    {
     "output_type": "execute_result",
     "execution_count": 19,
     "data": {
      "text/plain": "array([[0.1306784 , 0.91913008, 0.09315256, 0.65965421],\n       [0.3515231 , 0.58428448, 0.63661154, 0.64208412],\n       [0.73156376, 0.53293836, 0.43959967, 0.45196566]])"
     },
     "metadata": {}
    }
   ],
   "execution_count": null
  },
  {
   "cell_type": "markdown",
   "source": "Here's a 3x4 matrix containing random floats sampled from a univariate [normal distribution](https://en.wikipedia.org/wiki/Normal_distribution) (Gaussian distribution) of mean 0 and variance 1:",
   "metadata": {
    "id": "LhuJROuIL1U6",
    "cell_id": "00038-ba88c062-58b8-48cc-8020-dc06738d57cd",
    "deepnote_cell_type": "markdown",
    "deepnote_cell_height": 74.78125
   }
  },
  {
   "cell_type": "code",
   "metadata": {
    "id": "zp0eWnOHL1U6",
    "outputId": "61d26398-3b02-4ce2-8dea-355d65b41337",
    "cell_id": "00039-8797982b-3034-4cf5-8d8d-16d941f021fa",
    "deepnote_to_be_reexecuted": false,
    "source_hash": "957c90d9",
    "execution_start": 1659773139692,
    "execution_millis": 56,
    "deepnote_cell_type": "code",
    "deepnote_cell_height": 151.5625,
    "deepnote_output_heights": [
     59.5625
    ]
   },
   "source": "np.random.randn(3,4)",
   "outputs": [
    {
     "output_type": "execute_result",
     "execution_count": 20,
     "data": {
      "text/plain": "array([[-2.25064931,  0.73680731, -2.43750652, -0.34406697],\n       [-0.31494573,  0.97024389, -1.09895511, -1.38588346],\n       [ 0.3472597 ,  0.2388364 ,  0.77174139,  1.13330837]])"
     },
     "metadata": {}
    }
   ],
   "execution_count": null
  },
  {
   "cell_type": "markdown",
   "source": "To give you a feel of what these distributions look like, let's use matplotlib (see the [matplotlib tutorial](tools_matplotlib.ipynb) for more details):",
   "metadata": {
    "id": "iZ7_DYFKL1U7",
    "cell_id": "00040-3b366851-04d7-4129-9c1c-a91d6f29a8b6",
    "deepnote_cell_type": "markdown",
    "deepnote_cell_height": 74.78125
   }
  },
  {
   "cell_type": "code",
   "metadata": {
    "id": "0G4DS4TwL1U7",
    "cell_id": "00041-de00b900-50b7-4a76-95f9-c4ace12a081c",
    "deepnote_to_be_reexecuted": false,
    "source_hash": "5ee82a3",
    "execution_start": 1659773139745,
    "execution_millis": 1031,
    "deepnote_cell_type": "code",
    "deepnote_cell_height": 94
   },
   "source": "%matplotlib inline\nimport matplotlib.pyplot as plt",
   "outputs": [],
   "execution_count": null
  },
  {
   "cell_type": "code",
   "metadata": {
    "id": "lFehOpMBL1U7",
    "outputId": "0bdac8c2-48db-4acb-bb30-78a667374cbd",
    "cell_id": "00042-64fc3b29-1e93-4c70-b7c2-276ba0a23373",
    "deepnote_to_be_reexecuted": false,
    "source_hash": "25b3befe",
    "execution_start": 1659773140783,
    "execution_millis": 236,
    "deepnote_cell_type": "code",
    "deepnote_cell_height": 503,
    "deepnote_output_heights": [
     280
    ]
   },
   "source": "plt.hist(np.random.rand(100000), density=True, bins=100, histtype=\"step\", color=\"blue\", label=\"rand\")\nplt.hist(np.random.randn(100000), density=True, bins=100, histtype=\"step\", color=\"red\", label=\"randn\")\nplt.axis([-2.5, 2.5, 0, 1.1])\nplt.legend(loc = \"upper left\")\nplt.title(\"Random distributions\")\nplt.xlabel(\"Value\")\nplt.ylabel(\"Density\")\nplt.show()",
   "outputs": [
    {
     "data": {
      "text/plain": "<Figure size 432x288 with 1 Axes>",
      "image/png": "[encoded data removed]"
     },
     "metadata": {
      "needs_background": "light",
      "image/png": {
       "width": 386,
       "height": 278
      }
     },
     "output_type": "display_data"
    }
   ],
   "execution_count": null
  },
  {
   "cell_type": "markdown",
   "source": "## np.fromfunction\nYou can also initialize an `ndarray` using a function:",
   "metadata": {
    "id": "nCc62AHXL1U8",
    "cell_id": "00043-33b6e4e8-01dc-46b2-a646-cc0cee9bf799",
    "deepnote_cell_type": "markdown",
    "deepnote_cell_height": 108.390625
   }
  },
  {
   "cell_type": "code",
   "metadata": {
    "id": "OqssKIajL1U9",
    "outputId": "043ad73e-c4bf-4078-de20-d8877578383d",
    "cell_id": "00044-51c2fa26-69a9-404e-8877-98da576ee440",
    "deepnote_to_be_reexecuted": false,
    "source_hash": "3048460",
    "execution_start": 1659773141031,
    "execution_millis": 0,
    "deepnote_cell_type": "code",
    "deepnote_cell_height": 301.5,
    "deepnote_output_heights": [
     155.5
    ]
   },
   "source": "def my_function(z, y, x):\n    return x + 10 * y + 100 * z\n\nnp.fromfunction(my_function, (3, 2, 10))",
   "outputs": [
    {
     "output_type": "execute_result",
     "execution_count": 23,
     "data": {
      "text/plain": "array([[[  0.,   1.,   2.,   3.,   4.,   5.,   6.,   7.,   8.,   9.],\n        [ 10.,  11.,  12.,  13.,  14.,  15.,  16.,  17.,  18.,  19.]],\n\n       [[100., 101., 102., 103., 104., 105., 106., 107., 108., 109.],\n        [110., 111., 112., 113., 114., 115., 116., 117., 118., 119.]],\n\n       [[200., 201., 202., 203., 204., 205., 206., 207., 208., 209.],\n        [210., 211., 212., 213., 214., 215., 216., 217., 218., 219.]]])"
     },
     "metadata": {}
    }
   ],
   "execution_count": null
  },
  {
   "cell_type": "markdown",
   "source": "NumPy first creates three `ndarrays` (one per dimension), each of shape `(3, 2, 10)`. Each array has values equal to the coordinate along a specific axis. For example, all elements in the `z` array are equal to their z-coordinate:\n\n```py\n    [[[ 0.  0.  0.  0.  0.  0.  0.  0.  0.  0.]\n      [ 0.  0.  0.  0.  0.  0.  0.  0.  0.  0.]]\n    \n     [[ 1.  1.  1.  1.  1.  1.  1.  1.  1.  1.]\n      [ 1.  1.  1.  1.  1.  1.  1.  1.  1.  1.]]\n    \n     [[ 2.  2.  2.  2.  2.  2.  2.  2.  2.  2.]\n      [ 2.  2.  2.  2.  2.  2.  2.  2.  2.  2.]]]\n```\n\nSo the terms `x`, `y` and `z` in the expression `x + 10 * y + 100 * z` above are in fact `ndarray`s (we will discuss arithmetic operations on arrays below).  The point is that the function `my_function` is only called *once*, instead of once per element. This makes initialization very efficient.",
   "metadata": {
    "id": "euXGgS_IL1U-",
    "cell_id": "00045-1bc91478-4310-4916-b035-4a3f488fb2a6",
    "deepnote_cell_type": "markdown",
    "deepnote_cell_height": 377.46875
   }
  },
  {
   "cell_type": "markdown",
   "source": "# Array data\n## `dtype`\nNumPy's `ndarray`s are also efficient in part because all their elements must have the same type (usually numbers).\nYou can check what the data type is by looking at the `dtype` attribute:",
   "metadata": {
    "id": "Jo28uOGSL1U_",
    "cell_id": "00046-1310f064-086c-4461-9eee-e8c70214df59",
    "deepnote_cell_type": "markdown",
    "deepnote_cell_height": 221.171875
   }
  },
  {
   "cell_type": "code",
   "metadata": {
    "scrolled": true,
    "id": "QOe9eNXyL1U_",
    "outputId": "aaf886b2-514b-42d4-aefd-0c266643fb06",
    "cell_id": "00047-a2708a4d-3bd0-4bd1-b773-cecc2e812a2b",
    "deepnote_to_be_reexecuted": false,
    "source_hash": "df4e0bea",
    "execution_start": 1659773141039,
    "execution_millis": 7,
    "deepnote_cell_type": "code",
    "deepnote_cell_height": 125.1875
   },
   "source": "c = np.arange(1, 5)\nprint(c.dtype, c)",
   "outputs": [
    {
     "name": "stdout",
     "text": "int64 [1 2 3 4]\n",
     "output_type": "stream"
    }
   ],
   "execution_count": null
  },
  {
   "cell_type": "code",
   "metadata": {
    "id": "t9cA-W3BL1VA",
    "outputId": "1258b1b3-a17b-49da-cc3c-a8ada99a71fc",
    "cell_id": "00048-c3a1ac4e-d922-4dd6-b336-1179ec3112c2",
    "deepnote_to_be_reexecuted": false,
    "source_hash": "1a531d5b",
    "execution_start": 1659773141058,
    "execution_millis": 3,
    "deepnote_cell_type": "code",
    "deepnote_cell_height": 125.1875
   },
   "source": "c = np.arange(1.0, 5.0)\nprint(c.dtype, c)",
   "outputs": [
    {
     "name": "stdout",
     "text": "float64 [1. 2. 3. 4.]\n",
     "output_type": "stream"
    }
   ],
   "execution_count": null
  },
  {
   "cell_type": "markdown",
   "source": "Instead of letting NumPy guess what data type to use, you can set it explicitly when creating an array by setting the `dtype` parameter:",
   "metadata": {
    "id": "9Erg7Z_YL1VA",
    "cell_id": "00049-a58ae999-a896-4659-887c-b0c62633b6ec",
    "deepnote_cell_type": "markdown",
    "deepnote_cell_height": 74.78125
   }
  },
  {
   "cell_type": "code",
   "metadata": {
    "id": "V2L6U_bOL1VA",
    "outputId": "29797a81-00d5-4443-d9ac-16dfc87c675e",
    "cell_id": "00050-d212ef84-af35-49c0-9ac5-ee432282e168",
    "deepnote_to_be_reexecuted": false,
    "source_hash": "38b28209",
    "execution_start": 1659773141085,
    "execution_millis": 4,
    "deepnote_cell_type": "code",
    "deepnote_cell_height": 125.1875
   },
   "source": "d = np.arange(1, 5, dtype=np.complex64)\nprint(d.dtype, d)",
   "outputs": [
    {
     "name": "stdout",
     "text": "complex64 [1.+0.j 2.+0.j 3.+0.j 4.+0.j]\n",
     "output_type": "stream"
    }
   ],
   "execution_count": null
  },
  {
   "cell_type": "markdown",
   "source": "Available data types include `int8`, `int16`, `int32`, `int64`, `uint8`|`16`|`32`|`64`, `float16`|`32`|`64` and `complex64`|`128`. Check out [the documentation](http://docs.scipy.org/doc/numpy-1.10.1/user/basics.types.html) for the full list.\n\n## `itemsize`\nThe `itemsize` attribute returns the size (in bytes) of each item:",
   "metadata": {
    "id": "xaM-2FWvL1VB",
    "cell_id": "00051-674e678e-2a8a-47b5-8fde-8614e470351a",
    "deepnote_cell_type": "markdown",
    "deepnote_cell_height": 167.171875
   }
  },
  {
   "cell_type": "code",
   "metadata": {
    "id": "GnmWIkFXL1VE",
    "outputId": "abf46cfd-696b-4890-9676-8139a5fc9368",
    "cell_id": "00052-f0ca5400-2023-4060-941d-1ab60b8c713c",
    "deepnote_to_be_reexecuted": false,
    "source_hash": "f361db5",
    "execution_start": 1659773141086,
    "execution_millis": 1,
    "deepnote_cell_type": "code",
    "deepnote_cell_height": 131.1875,
    "deepnote_output_heights": [
     21.1875
    ]
   },
   "source": "e = np.arange(1, 5, dtype=np.complex64)\ne.itemsize",
   "outputs": [
    {
     "output_type": "execute_result",
     "execution_count": 27,
     "data": {
      "text/plain": "8"
     },
     "metadata": {}
    }
   ],
   "execution_count": null
  },
  {
   "cell_type": "markdown",
   "source": "## `data` buffer\nAn array's data is actually stored in memory as a flat (one dimensional) byte buffer. It is available *via* the `data` attribute (you will rarely need it, though).",
   "metadata": {
    "id": "dHj5W3xeL1VE",
    "cell_id": "00053-5a0b9898-0273-4caa-b000-83c4ff243c10",
    "deepnote_cell_type": "markdown",
    "deepnote_cell_height": 130.78125
   }
  },
  {
   "cell_type": "code",
   "metadata": {
    "id": "4V9IGkUOL1VG",
    "outputId": "d31b17ac-923a-4086-ad91-ce071fffac97",
    "cell_id": "00054-aa6edfe8-b0d5-4770-bf7e-1171b8876305",
    "deepnote_to_be_reexecuted": false,
    "source_hash": "6a071e6c",
    "execution_start": 1659773141087,
    "execution_millis": 10,
    "deepnote_cell_type": "code",
    "deepnote_cell_height": 131.1875,
    "deepnote_output_heights": [
     21.1875
    ]
   },
   "source": "f = np.array([[1,2],[1000, 2000]], dtype=np.int32)\nf.data",
   "outputs": [
    {
     "output_type": "execute_result",
     "execution_count": 28,
     "data": {
      "text/plain": "<memory at 0x7f486c060110>"
     },
     "metadata": {}
    }
   ],
   "execution_count": null
  },
  {
   "cell_type": "markdown",
   "source": "In python 2, `f.data` is a buffer. In python 3, it is a memoryview.",
   "metadata": {
    "id": "BHQITVnuL1VG",
    "cell_id": "00055-6db5e974-7729-4963-9ffc-dd4760a5b0d5",
    "deepnote_cell_type": "markdown",
    "deepnote_cell_height": 52.390625
   }
  },
  {
   "cell_type": "code",
   "metadata": {
    "id": "zYm5K0GfL1VH",
    "outputId": "7db1954d-45c6-42b7-fc03-ff5847c382ac",
    "cell_id": "00056-45319eeb-15a1-4273-b159-2f740957cc64",
    "deepnote_to_be_reexecuted": false,
    "source_hash": "b16ece92",
    "execution_start": 1659773141095,
    "execution_millis": 3,
    "deepnote_cell_type": "code",
    "deepnote_cell_height": 203.1875,
    "deepnote_output_heights": [
     21.1875
    ]
   },
   "source": "if (hasattr(f.data, \"tobytes\")):\n    data_bytes = f.data.tobytes() # python 3\nelse:\n    data_bytes = memoryview(f.data).tobytes() # python 2\n\ndata_bytes",
   "outputs": [
    {
     "output_type": "execute_result",
     "execution_count": 29,
     "data": {
      "text/plain": "b'\\x01\\x00\\x00\\x00\\x02\\x00\\x00\\x00\\xe8\\x03\\x00\\x00\\xd0\\x07\\x00\\x00'"
     },
     "metadata": {}
    }
   ],
   "execution_count": null
  },
  {
   "cell_type": "markdown",
   "source": "Several `ndarrays` can share the same data buffer, meaning that modifying one will also modify the others. We will see an example in a minute.",
   "metadata": {
    "id": "lEOqBLgoL1VI",
    "cell_id": "00057-92829683-2009-4740-8aa8-2bc4f6602e51",
    "deepnote_cell_type": "markdown",
    "deepnote_cell_height": 74.78125
   }
  },
  {
   "cell_type": "markdown",
   "source": "# Reshaping an array\n## In place\nChanging the shape of an `ndarray` is as simple as setting its `shape` attribute. However, the array's size must remain the same.",
   "metadata": {
    "id": "0GvMtpWRL1VI",
    "cell_id": "00058-5e5b84ff-6c19-40eb-a35f-a8177ac4a810",
    "deepnote_cell_type": "markdown",
    "deepnote_cell_height": 198.78125
   }
  },
  {
   "cell_type": "code",
   "metadata": {
    "id": "s_JxLlxbL1VJ",
    "outputId": "09319930-0135-444a-b11a-242c369302c3",
    "cell_id": "00059-3f947569-43fe-47c3-9139-041a7811f4fa",
    "deepnote_to_be_reexecuted": false,
    "source_hash": "a43eff50",
    "execution_start": 1659773141102,
    "execution_millis": 6,
    "deepnote_cell_type": "code",
    "deepnote_cell_height": 163.375
   },
   "source": "g = np.arange(24)\nprint(g)\nprint(\"Rank:\", g.ndim)",
   "outputs": [
    {
     "name": "stdout",
     "text": "[ 0  1  2  3  4  5  6  7  8  9 10 11 12 13 14 15 16 17 18 19 20 21 22 23]\nRank: 1\n",
     "output_type": "stream"
    }
   ],
   "execution_count": null
  },
  {
   "cell_type": "code",
   "metadata": {
    "id": "de2T9dW0L1VK",
    "outputId": "c32aba52-ba78-4d8a-db26-786b57ffc0ad",
    "cell_id": "00060-a6a3a9a8-3e90-4d5d-8352-8ead5cff06d4",
    "deepnote_to_be_reexecuted": false,
    "source_hash": "edf0b892",
    "execution_start": 1659773141113,
    "execution_millis": 10,
    "deepnote_cell_type": "code",
    "deepnote_cell_height": 264.3125
   },
   "source": "g.shape = (6, 4)\nprint(g)\nprint(\"Rank:\", g.ndim)",
   "outputs": [
    {
     "name": "stdout",
     "text": "[[ 0  1  2  3]\n [ 4  5  6  7]\n [ 8  9 10 11]\n [12 13 14 15]\n [16 17 18 19]\n [20 21 22 23]]\nRank: 2\n",
     "output_type": "stream"
    }
   ],
   "execution_count": null
  },
  {
   "cell_type": "code",
   "metadata": {
    "scrolled": true,
    "id": "fg6zQbmQL1VK",
    "outputId": "840a5314-9061-4817-bc5d-9ce1bd445ebb",
    "cell_id": "00061-aa44ec68-0deb-4801-ae55-fbf422b43799",
    "deepnote_to_be_reexecuted": false,
    "source_hash": "611bc753",
    "execution_start": 1659773141127,
    "execution_millis": 6,
    "deepnote_cell_type": "code",
    "deepnote_cell_height": 285
   },
   "source": "g.shape = (2, 3, 4)\nprint(g)\nprint(\"Rank:\", g.ndim)",
   "outputs": [
    {
     "name": "stdout",
     "text": "[[[ 0  1  2  3]\n  [ 4  5  6  7]\n  [ 8  9 10 11]]\n\n [[12 13 14 15]\n  [16 17 18 19]\n  [20 21 22 23]]]\nRank: 3\n",
     "output_type": "stream"
    }
   ],
   "execution_count": null
  },
  {
   "cell_type": "markdown",
   "source": "## `reshape`\nThe `reshape` function returns a new `ndarray` object pointing at the *same* data. This means that modifying one array will also modify the other.",
   "metadata": {
    "id": "lDde9j2NL1VL",
    "cell_id": "00062-3b977eae-a0ad-4500-8111-89d16f11cac4",
    "deepnote_cell_type": "markdown",
    "deepnote_cell_height": 130.78125
   }
  },
  {
   "cell_type": "code",
   "metadata": {
    "scrolled": true,
    "id": "L8lKNxnWL1VL",
    "outputId": "2987b4c9-9356-429a-daf4-bcf25926bfc5",
    "cell_id": "00063-a04e50e2-6b1f-4367-8894-9aad8c7749de",
    "deepnote_to_be_reexecuted": false,
    "source_hash": "d25818a0",
    "execution_start": 1659773141139,
    "deepnote_cell_type": "code",
    "deepnote_cell_height": 223.9375
   },
   "source": "g2 = g.reshape(4,6)\nprint(g2)\nprint(\"Rank:\", g2.ndim)",
   "outputs": [
    {
     "name": "stdout",
     "text": "[[ 0  1  2  3  4  5]\n [ 6  7  8  9 10 11]\n [12 13 14 15 16 17]\n [18 19 20 21 22 23]]\nRank: 2\n",
     "output_type": "stream"
    }
   ],
   "execution_count": null
  },
  {
   "cell_type": "markdown",
   "source": "Set item at row 1, col 2 to 999 (more about indexing below).",
   "metadata": {
    "id": "JmsVBnWwL1VM",
    "cell_id": "00064-7ce79769-eda1-40ed-8e4e-2c1b18da163d",
    "deepnote_cell_type": "markdown",
    "deepnote_cell_height": 52.390625
   }
  },
  {
   "cell_type": "code",
   "metadata": {
    "id": "EYdI5QVML1VM",
    "outputId": "ccef50dc-69c3-4eb1-ce0f-dc9dfcff0bab",
    "cell_id": "00065-ff507987-0d65-431f-a1f9-6eb47eca2d32",
    "deepnote_to_be_reexecuted": false,
    "source_hash": "ed3727e",
    "execution_start": 1659773141150,
    "execution_millis": 1,
    "deepnote_cell_type": "code",
    "deepnote_cell_height": 188.75,
    "deepnote_output_heights": [
     78.75
    ]
   },
   "source": "g2[1, 2] = 999\ng2",
   "outputs": [
    {
     "output_type": "execute_result",
     "execution_count": 34,
     "data": {
      "text/plain": "array([[  0,   1,   2,   3,   4,   5],\n       [  6,   7, 999,   9,  10,  11],\n       [ 12,  13,  14,  15,  16,  17],\n       [ 18,  19,  20,  21,  22,  23]])"
     },
     "metadata": {}
    }
   ],
   "execution_count": null
  },
  {
   "cell_type": "markdown",
   "source": "The corresponding element in `g` has been modified.",
   "metadata": {
    "id": "RLYHhvnoL1VN",
    "cell_id": "00066-511ca376-1c73-4c75-96e5-94e03dabc08e",
    "deepnote_cell_type": "markdown",
    "deepnote_cell_height": 52.390625
   }
  },
  {
   "cell_type": "code",
   "metadata": {
    "id": "guxHC7wwL1VN",
    "outputId": "626ff7b0-3c58-4a02-ad2b-49980f0e9f7e",
    "cell_id": "00067-fc4a6aee-2aa0-405a-8b8a-bad4c25909c4",
    "deepnote_to_be_reexecuted": false,
    "source_hash": "3da404fc",
    "execution_start": 1659773141158,
    "deepnote_cell_type": "code",
    "deepnote_cell_height": 228.3125,
    "deepnote_output_heights": [
     136.3125
    ]
   },
   "source": "g",
   "outputs": [
    {
     "output_type": "execute_result",
     "execution_count": 35,
     "data": {
      "text/plain": "array([[[  0,   1,   2,   3],\n        [  4,   5,   6,   7],\n        [999,   9,  10,  11]],\n\n       [[ 12,  13,  14,  15],\n        [ 16,  17,  18,  19],\n        [ 20,  21,  22,  23]]])"
     },
     "metadata": {}
    }
   ],
   "execution_count": null
  },
  {
   "cell_type": "markdown",
   "source": "## `ravel`\nFinally, the `ravel` function returns a new one-dimensional `ndarray` that also points to the same data:",
   "metadata": {
    "id": "iepBeRXKL1VO",
    "cell_id": "00068-ff25bcbf-2e34-4d60-90a9-7e87a2fed911",
    "deepnote_cell_type": "markdown",
    "deepnote_cell_height": 130.78125
   }
  },
  {
   "cell_type": "code",
   "metadata": {
    "id": "Z9OfJ8HZL1VP",
    "outputId": "9149d4c7-ada0-4cfd-e130-23aaeb33206e",
    "cell_id": "00069-3b4d1209-4994-4f25-ae17-bff8c5df324b",
    "deepnote_to_be_reexecuted": false,
    "source_hash": "30c281b",
    "execution_start": 1659773141173,
    "execution_millis": 2,
    "deepnote_cell_type": "code",
    "deepnote_cell_height": 132.375,
    "deepnote_output_heights": [
     40.375
    ]
   },
   "source": "g.ravel()",
   "outputs": [
    {
     "output_type": "execute_result",
     "execution_count": 36,
     "data": {
      "text/plain": "array([  0,   1,   2,   3,   4,   5,   6,   7, 999,   9,  10,  11,  12,\n        13,  14,  15,  16,  17,  18,  19,  20,  21,  22,  23])"
     },
     "metadata": {}
    }
   ],
   "execution_count": null
  },
  {
   "cell_type": "markdown",
   "source": "# Arithmetic operations\nAll the usual arithmetic operators (`+`, `-`, `*`, `/`, `//`, `**`, etc.) can be used with `ndarray`s. They apply *elementwise*:",
   "metadata": {
    "id": "jEPRJs-2L1VP",
    "cell_id": "00070-2b77c52b-6bc0-4924-b96d-8efa6496e2f4",
    "deepnote_cell_type": "markdown",
    "deepnote_cell_height": 142.78125
   }
  },
  {
   "cell_type": "code",
   "metadata": {
    "id": "g7-BOQf6L1VQ",
    "outputId": "ed2639f4-3bdc-438e-d51c-448c4eee17a3",
    "cell_id": "00071-00ce4d90-a984-48b7-9bff-6e42e51d3e59",
    "deepnote_to_be_reexecuted": false,
    "source_hash": "eea98c85",
    "execution_start": 1659773141175,
    "execution_millis": 6,
    "deepnote_cell_type": "code",
    "deepnote_cell_height": 372.3125
   },
   "source": "a = np.array([14, 23, 32, 41])\nb = np.array([5,  4,  3,  2])\nprint(\"a + b  =\", a + b)\nprint(\"a - b  =\", a - b)\nprint(\"a * b  =\", a * b)\nprint(\"a / b  =\", a / b)\nprint(\"a // b  =\", a // b)\nprint(\"a % b  =\", a % b)\nprint(\"a ** b =\", a ** b)",
   "outputs": [
    {
     "name": "stdout",
     "text": "a + b  = [19 27 35 43]\na - b  = [ 9 19 29 39]\na * b  = [70 92 96 82]\na / b  = [ 2.8         5.75       10.66666667 20.5       ]\na // b  = [ 2  5 10 20]\na % b  = [4 3 2 1]\na ** b = [537824 279841  32768   1681]\n",
     "output_type": "stream"
    }
   ],
   "execution_count": null
  },
  {
   "cell_type": "markdown",
   "source": "Note that the multiplication is *not* a matrix multiplication. We will discuss matrix operations below.\n\nThe arrays must have the same shape. If they do not, NumPy will apply the *broadcasting rules*.",
   "metadata": {
    "id": "p9kdMO0qL1VQ",
    "cell_id": "00072-7c5a3b96-8296-415d-bfae-e35de0de50b7",
    "deepnote_cell_type": "markdown",
    "deepnote_cell_height": 88.78125
   }
  },
  {
   "cell_type": "markdown",
   "source": "# Broadcasting",
   "metadata": {
    "id": "bQomJKUOL1VR",
    "cell_id": "00073-ea6dced3-9e00-4db4-9ec8-7efb0095158a",
    "deepnote_cell_type": "markdown",
    "deepnote_cell_height": 82
   }
  },
  {
   "cell_type": "markdown",
   "source": "In general, when NumPy expects arrays of the same shape but finds that this is not the case, it applies the so-called *broadcasting* rules:\n\n## First rule\n*If the arrays do not have the same rank, then a 1 will be prepended to the smaller ranking arrays until their ranks match.*",
   "metadata": {
    "id": "vPWa75V-L1VR",
    "cell_id": "00074-c667d011-ac5e-438f-a4c5-1ce7898dc86d",
    "deepnote_cell_type": "markdown",
    "deepnote_cell_height": 189.5625
   }
  },
  {
   "cell_type": "code",
   "metadata": {
    "id": "NjLFs8gJL1VS",
    "outputId": "52775a67-36b8-4b9e-ae93-14651c2e8257",
    "cell_id": "00075-40f6104e-2494-4b66-b3e5-8909de66f55e",
    "deepnote_to_be_reexecuted": false,
    "source_hash": "10e321d8",
    "execution_start": 1659773141184,
    "execution_millis": 30,
    "deepnote_cell_type": "code",
    "deepnote_cell_height": 131.1875,
    "deepnote_output_heights": [
     21.1875
    ]
   },
   "source": "h = np.arange(5).reshape(1, 1, 5)\nh",
   "outputs": [
    {
     "output_type": "execute_result",
     "execution_count": 38,
     "data": {
      "text/plain": "array([[[0, 1, 2, 3, 4]]])"
     },
     "metadata": {}
    }
   ],
   "execution_count": null
  },
  {
   "cell_type": "markdown",
   "source": "Now let's try to add a 1D array of shape `(5,)` to this 3D array of shape `(1,1,5)`. Applying the first rule of broadcasting!",
   "metadata": {
    "id": "Jo0JCyZfL1VS",
    "cell_id": "00076-19edbabd-ab89-4459-8ade-201141f0345e",
    "deepnote_cell_type": "markdown",
    "deepnote_cell_height": 74.78125
   }
  },
  {
   "cell_type": "code",
   "metadata": {
    "id": "NGO3I08XL1VT",
    "outputId": "895b39b8-afca-4c38-ab42-6e53d133374d",
    "cell_id": "00077-ff790a8b-dd4f-47e1-8462-9319018ee069",
    "deepnote_to_be_reexecuted": false,
    "source_hash": "63b0015f",
    "execution_start": 1659773141211,
    "execution_millis": 4,
    "deepnote_cell_type": "code",
    "deepnote_cell_height": 113.1875,
    "deepnote_output_heights": [
     21.1875
    ]
   },
   "source": "h + [10, 20, 30, 40, 50]  # same as: h + [[[10, 20, 30, 40, 50]]]",
   "outputs": [
    {
     "output_type": "execute_result",
     "execution_count": 39,
     "data": {
      "text/plain": "array([[[10, 21, 32, 43, 54]]])"
     },
     "metadata": {}
    }
   ],
   "execution_count": null
  },
  {
   "cell_type": "markdown",
   "source": "## Second rule\n*Arrays with a 1 along a particular dimension act as if they had the size of the array with the largest shape along that dimension. The value of the array element is repeated along that dimension.*",
   "metadata": {
    "id": "bIIDSXhPL1VU",
    "cell_id": "00078-0dd70fa6-8c42-444a-8903-603d2b69690f",
    "deepnote_cell_type": "markdown",
    "deepnote_cell_height": 130.78125
   }
  },
  {
   "cell_type": "code",
   "metadata": {
    "id": "0IailVfBL1VU",
    "outputId": "8ddd2919-e47a-4cba-ca9f-b4a59eda1afc",
    "cell_id": "00079-7305f422-8999-4e16-b633-a94e5a20b6ec",
    "deepnote_to_be_reexecuted": false,
    "source_hash": "284e54c5",
    "execution_start": 1659773141212,
    "execution_millis": 3,
    "deepnote_cell_type": "code",
    "deepnote_cell_height": 150.375,
    "deepnote_output_heights": [
     40.375
    ]
   },
   "source": "k = np.arange(6).reshape(2, 3)\nk",
   "outputs": [
    {
     "output_type": "execute_result",
     "execution_count": 40,
     "data": {
      "text/plain": "array([[0, 1, 2],\n       [3, 4, 5]])"
     },
     "metadata": {}
    }
   ],
   "execution_count": null
  },
  {
   "cell_type": "markdown",
   "source": "Let's try to add a 2D array of shape `(2,1)` to this 2D `ndarray` of shape `(2, 3)`. NumPy will apply the second rule of broadcasting:",
   "metadata": {
    "id": "bQrU9zWrL1VV",
    "cell_id": "00080-aeabccff-ba65-417e-bb1f-c28e123d3bf8",
    "deepnote_cell_type": "markdown",
    "deepnote_cell_height": 74.78125
   }
  },
  {
   "cell_type": "code",
   "metadata": {
    "id": "rQF6jGEDL1VV",
    "outputId": "3d850955-4364-43e8-ccfb-4fe5702c5172",
    "cell_id": "00081-1179994e-4bf5-4103-8019-ba9401351faf",
    "deepnote_to_be_reexecuted": false,
    "source_hash": "c8a7a135",
    "execution_start": 1659773141212,
    "execution_millis": 6,
    "deepnote_cell_type": "code",
    "deepnote_cell_height": 132.375,
    "deepnote_output_heights": [
     40.375
    ]
   },
   "source": "k + [[100], [200]]  # same as: k + [[100, 100, 100], [200, 200, 200]]",
   "outputs": [
    {
     "output_type": "execute_result",
     "execution_count": 41,
     "data": {
      "text/plain": "array([[100, 101, 102],\n       [203, 204, 205]])"
     },
     "metadata": {}
    }
   ],
   "execution_count": null
  },
  {
   "cell_type": "markdown",
   "source": "Combining rules 1 & 2, we can do this:",
   "metadata": {
    "id": "hZ3ShoawL1VW",
    "cell_id": "00082-df8424ce-f2ac-4d88-9fc8-9d474c865a63",
    "deepnote_cell_type": "markdown",
    "deepnote_cell_height": 52.390625
   }
  },
  {
   "cell_type": "code",
   "metadata": {
    "id": "I1LM-llkL1VX",
    "outputId": "12293e7a-1582-4070-e4bb-fe1c8a2a37b3",
    "cell_id": "00083-fbf88d8e-55bb-4db9-adcb-371e11599d9b",
    "deepnote_to_be_reexecuted": false,
    "source_hash": "f8028b2",
    "execution_start": 1659773141249,
    "execution_millis": 4,
    "deepnote_cell_type": "code",
    "deepnote_cell_height": 137.375,
    "deepnote_output_heights": [
     40.375
    ]
   },
   "source": "k + [100, 200, 300]  # after rule 1: [[100, 200, 300]], and after rule 2: [[100, 200, 300], [100, 200, 300]]",
   "outputs": [
    {
     "output_type": "execute_result",
     "execution_count": 42,
     "data": {
      "text/plain": "array([[100, 201, 302],\n       [103, 204, 305]])"
     },
     "metadata": {}
    }
   ],
   "execution_count": null
  },
  {
   "cell_type": "markdown",
   "source": "And also, very simply:",
   "metadata": {
    "id": "24MLikd-L1VX",
    "cell_id": "00084-4fa88ff1-bd85-4ceb-8f2a-a7a5712846db",
    "deepnote_cell_type": "markdown",
    "deepnote_cell_height": 52.390625
   }
  },
  {
   "cell_type": "code",
   "metadata": {
    "id": "iJxYn_TML1VY",
    "outputId": "eb63409d-dd63-4493-e85d-a466f3ceb629",
    "cell_id": "00085-657695d8-3023-40d9-84ed-e3abc61cf240",
    "deepnote_to_be_reexecuted": false,
    "source_hash": "4d5691f0",
    "execution_start": 1659773141250,
    "execution_millis": 3,
    "deepnote_cell_type": "code",
    "deepnote_cell_height": 132.375,
    "deepnote_output_heights": [
     40.375
    ]
   },
   "source": "k + 1000  # same as: k + [[1000, 1000, 1000], [1000, 1000, 1000]]",
   "outputs": [
    {
     "output_type": "execute_result",
     "execution_count": 43,
     "data": {
      "text/plain": "array([[1000, 1001, 1002],\n       [1003, 1004, 1005]])"
     },
     "metadata": {}
    }
   ],
   "execution_count": null
  },
  {
   "cell_type": "markdown",
   "source": "## Third rule\n*After rules 1 & 2, the sizes of all arrays must match.*",
   "metadata": {
    "id": "I7tQm1M2L1Vb",
    "cell_id": "00086-51c9dcbc-01a6-4483-a5cd-f767f1724bb2",
    "deepnote_cell_type": "markdown",
    "deepnote_cell_height": 108.390625
   }
  },
  {
   "cell_type": "code",
   "metadata": {
    "id": "8sMvr85OL1Vb",
    "outputId": "42a0d703-1a73-4582-db7c-ad0b3ff46295",
    "cell_id": "00087-34913a08-f265-4fe3-b58c-06a16cd48056",
    "deepnote_to_be_reexecuted": false,
    "source_hash": "daebc91a",
    "execution_start": 1659773141251,
    "execution_millis": 5,
    "deepnote_cell_type": "code",
    "deepnote_cell_height": 161.1875
   },
   "source": "try:\n    k + [33, 44]\nexcept ValueError as e:\n    print(e)",
   "outputs": [
    {
     "name": "stdout",
     "text": "operands could not be broadcast together with shapes (2,3) (2,) \n",
     "output_type": "stream"
    }
   ],
   "execution_count": null
  },
  {
   "cell_type": "markdown",
   "source": "Broadcasting rules are used in many NumPy operations, not just arithmetic operations, as we will see below.\nFor more details about broadcasting, check out [the documentation](https://docs.scipy.org/doc/numpy-dev/user/basics.broadcasting.html).",
   "metadata": {
    "id": "TmS7dYhHL1Vc",
    "cell_id": "00088-979a11e6-8df5-4314-aefc-3b7963745a63",
    "deepnote_cell_type": "markdown",
    "deepnote_cell_height": 97.171875
   }
  },
  {
   "cell_type": "markdown",
   "source": "## Upcasting\nWhen trying to combine arrays with different `dtype`s, NumPy will *upcast* to a type capable of handling all possible values (regardless of what the *actual* values are).",
   "metadata": {
    "id": "BgxdP9LSL1Vc",
    "cell_id": "00089-0f4e7fd3-9299-491e-9876-88b37746409a",
    "deepnote_cell_type": "markdown",
    "deepnote_cell_height": 130.78125
   }
  },
  {
   "cell_type": "code",
   "metadata": {
    "id": "b0ADGroNL1Vc",
    "outputId": "bed659a4-5b6a-4c05-ac8c-f3c822752215",
    "cell_id": "00090-b6b9856b-c973-4655-9136-7ecc43115c76",
    "deepnote_to_be_reexecuted": false,
    "source_hash": "b3a31fee",
    "execution_start": 1659773141257,
    "execution_millis": 13,
    "deepnote_cell_type": "code",
    "deepnote_cell_height": 125.1875
   },
   "source": "k1 = np.arange(0, 5, dtype=np.uint8)\nprint(k1.dtype, k1)",
   "outputs": [
    {
     "name": "stdout",
     "text": "uint8 [0 1 2 3 4]\n",
     "output_type": "stream"
    }
   ],
   "execution_count": null
  },
  {
   "cell_type": "code",
   "metadata": {
    "id": "05NVPgesL1Vd",
    "outputId": "be884f79-de7a-436b-8d63-a37ba0a1ff08",
    "cell_id": "00091-f6651727-9793-4eb7-b301-aae8cf46b10e",
    "deepnote_to_be_reexecuted": false,
    "source_hash": "676845b7",
    "execution_start": 1659773141265,
    "execution_millis": 29,
    "deepnote_cell_type": "code",
    "deepnote_cell_height": 125.1875
   },
   "source": "k2 = k1 + np.array([5, 6, 7, 8, 9], dtype=np.int8)\nprint(k2.dtype, k2)",
   "outputs": [
    {
     "name": "stdout",
     "text": "int16 [ 5  7  9 11 13]\n",
     "output_type": "stream"
    }
   ],
   "execution_count": null
  },
  {
   "cell_type": "markdown",
   "source": "Note that `int16` is required to represent all *possible* `int8` and `uint8` values (from -128 to 255), even though in this case a uint8 would have sufficed.",
   "metadata": {
    "id": "821ns-7zL1Vd",
    "cell_id": "00092-dfe4b829-8fa0-4dd2-80c2-0aa6dd7f117c",
    "deepnote_cell_type": "markdown",
    "deepnote_cell_height": 74.78125
   }
  },
  {
   "cell_type": "code",
   "metadata": {
    "id": "YMsj3uTmL1Vd",
    "outputId": "038443cf-416f-4ee6-e388-616edf672023",
    "cell_id": "00093-8f06d58f-6489-4260-9285-11c27f611f7e",
    "deepnote_to_be_reexecuted": false,
    "source_hash": "cf093796",
    "execution_start": 1659773141291,
    "execution_millis": 4,
    "deepnote_cell_type": "code",
    "deepnote_cell_height": 125.1875
   },
   "source": "k3 = k1 + 1.5\nprint(k3.dtype, k3)",
   "outputs": [
    {
     "name": "stdout",
     "text": "float64 [1.5 2.5 3.5 4.5 5.5]\n",
     "output_type": "stream"
    }
   ],
   "execution_count": null
  },
  {
   "cell_type": "markdown",
   "source": "# Conditional operators",
   "metadata": {
    "id": "EwR3g_2FL1Ve",
    "cell_id": "00094-c293bfb5-476f-445a-9555-bb0df3ba77f8",
    "deepnote_cell_type": "markdown",
    "deepnote_cell_height": 82
   }
  },
  {
   "cell_type": "markdown",
   "source": "The conditional operators also apply elementwise:",
   "metadata": {
    "id": "hkPkK0aQL1Ve",
    "cell_id": "00095-81cc1417-d5ad-4448-abc7-997b8aba4289",
    "deepnote_cell_type": "markdown",
    "deepnote_cell_height": 52.390625
   }
  },
  {
   "cell_type": "code",
   "metadata": {
    "id": "YFk0S-KHL1Ve",
    "outputId": "ac9908b1-3b9e-4e8d-9715-058307bbf6e6",
    "cell_id": "00096-1fe46060-dc37-408f-aaa4-b446f821381f",
    "deepnote_to_be_reexecuted": false,
    "source_hash": "dd87ea42",
    "execution_start": 1659773141292,
    "execution_millis": 3,
    "deepnote_cell_type": "code",
    "deepnote_cell_height": 131.1875,
    "deepnote_output_heights": [
     21.1875
    ]
   },
   "source": "m = np.array([20, -5, 30, 40])\nm < [15, 16, 35, 36]",
   "outputs": [
    {
     "output_type": "execute_result",
     "execution_count": 48,
     "data": {
      "text/plain": "array([False,  True,  True, False])"
     },
     "metadata": {}
    }
   ],
   "execution_count": null
  },
  {
   "cell_type": "markdown",
   "source": "And using broadcasting:",
   "metadata": {
    "id": "PIH29JvwL1Vf",
    "cell_id": "00097-5e42c9fc-9c52-4a72-aa9f-abafd02e2307",
    "deepnote_cell_type": "markdown",
    "deepnote_cell_height": 52.390625
   }
  },
  {
   "cell_type": "code",
   "metadata": {
    "id": "mJHnPrsXL1Vf",
    "outputId": "ec2d1924-75d8-4693-8fdf-f63eefda23dd",
    "cell_id": "00098-4c5440b7-0660-49c0-8232-801f2b54c904",
    "deepnote_to_be_reexecuted": false,
    "source_hash": "df146f4c",
    "execution_start": 1659773141293,
    "execution_millis": 5,
    "deepnote_cell_type": "code",
    "deepnote_cell_height": 113.1875,
    "deepnote_output_heights": [
     21.1875
    ]
   },
   "source": "m < 25  # equivalent to m < [25, 25, 25, 25]",
   "outputs": [
    {
     "output_type": "execute_result",
     "execution_count": 49,
     "data": {
      "text/plain": "array([ True,  True, False, False])"
     },
     "metadata": {}
    }
   ],
   "execution_count": null
  },
  {
   "cell_type": "markdown",
   "source": "This is most useful in conjunction with boolean indexing (discussed below).",
   "metadata": {
    "id": "jtEaeysRL1Vf",
    "cell_id": "00099-dd7b45dc-5c32-4a61-9b94-a71f7acf245e",
    "deepnote_cell_type": "markdown",
    "deepnote_cell_height": 52.390625
   }
  },
  {
   "cell_type": "code",
   "metadata": {
    "id": "1D0NCworL1Vg",
    "outputId": "03738f73-72f7-4a3d-d95f-d2ab03be574b",
    "cell_id": "00100-27f96d99-28dc-4fa6-93c9-0f4c5ce94796",
    "deepnote_to_be_reexecuted": false,
    "source_hash": "52f806b0",
    "execution_start": 1659773141334,
    "execution_millis": 0,
    "deepnote_cell_type": "code",
    "deepnote_cell_height": 113.1875,
    "deepnote_output_heights": [
     21.1875
    ]
   },
   "source": "m[m < 25]",
   "outputs": [
    {
     "output_type": "execute_result",
     "execution_count": 50,
     "data": {
      "text/plain": "array([20, -5])"
     },
     "metadata": {}
    }
   ],
   "execution_count": null
  },
  {
   "cell_type": "markdown",
   "source": "# Mathematical and statistical functions",
   "metadata": {
    "id": "9buVLAf1L1Vg",
    "cell_id": "00101-31421739-276f-4e5c-bc16-3fdf86cb0cce",
    "deepnote_cell_type": "markdown",
    "deepnote_cell_height": 134
   }
  },
  {
   "cell_type": "markdown",
   "source": "Many mathematical and statistical functions are available for `ndarray`s.\n\n## `ndarray` methods\nSome functions are simply `ndarray` methods, for example:",
   "metadata": {
    "id": "NUuYRry2L1Vg",
    "cell_id": "00102-8f5612d0-c099-465c-aaf1-3f7c7930c3e1",
    "deepnote_cell_type": "markdown",
    "deepnote_cell_height": 144.78125
   }
  },
  {
   "cell_type": "code",
   "metadata": {
    "id": "4eHfyRZEL1Vh",
    "outputId": "8fdb9427-4944-485d-b1cc-7c0b19621d7a",
    "cell_id": "00103-9c40c569-3f92-4503-acae-ae37e207f5c3",
    "deepnote_to_be_reexecuted": false,
    "source_hash": "e608b5f3",
    "execution_start": 1659773141334,
    "execution_millis": 3,
    "deepnote_cell_type": "code",
    "deepnote_cell_height": 183.5625
   },
   "source": "a = np.array([[-2.5, 3.1, 7], [10, 11, 12]])\nprint(a)\nprint(\"mean =\", a.mean())",
   "outputs": [
    {
     "name": "stdout",
     "text": "[[-2.5  3.1  7. ]\n [10.  11.  12. ]]\nmean = 6.766666666666667\n",
     "output_type": "stream"
    }
   ],
   "execution_count": null
  },
  {
   "cell_type": "markdown",
   "source": "Note that this computes the mean of all elements in the `ndarray`, regardless of its shape.\n\nHere are a few more useful `ndarray` methods:",
   "metadata": {
    "id": "hBxBmx30L1Vh",
    "cell_id": "00104-03beee27-bedb-4df8-acbe-42b3ff2c9335",
    "deepnote_cell_type": "markdown",
    "deepnote_cell_height": 88.78125
   }
  },
  {
   "cell_type": "code",
   "metadata": {
    "id": "0zokg0xOL1Vi",
    "outputId": "0d25f8fd-d8be-4e0a-b3bb-b616c28ef5d3",
    "cell_id": "00105-7590e011-dba7-4aff-8f45-78d18de3ff9f",
    "deepnote_to_be_reexecuted": false,
    "source_hash": "d3aa960e",
    "execution_start": 1659773141335,
    "execution_millis": 7,
    "deepnote_cell_type": "code",
    "deepnote_cell_height": 226.125
   },
   "source": "for func in (a.min, a.max, a.sum, a.prod, a.std, a.var):\n    print(func.__name__, \"=\", func())",
   "outputs": [
    {
     "name": "stdout",
     "text": "min = -2.5\nmax = 12.0\nsum = 40.6\nprod = -71610.0\nstd = 5.084835843520964\nvar = 25.855555555555554\n",
     "output_type": "stream"
    }
   ],
   "execution_count": null
  },
  {
   "cell_type": "markdown",
   "source": "These functions accept an optional argument `axis` which lets you ask for the operation to be performed on elements along the given axis. For example:",
   "metadata": {
    "id": "x-t1RAWAL1Vj",
    "cell_id": "00106-1d41c524-11de-4260-926e-bd04d1602f86",
    "deepnote_cell_type": "markdown",
    "deepnote_cell_height": 74.78125
   }
  },
  {
   "cell_type": "code",
   "metadata": {
    "id": "Pxi7P379L1Vj",
    "outputId": "094b67ca-0f51-4f9f-c75b-c451b96edf52",
    "cell_id": "00107-596075d4-8973-48e5-9054-ece5e3d1fadb",
    "deepnote_to_be_reexecuted": false,
    "source_hash": "31605655",
    "execution_start": 1659773141341,
    "execution_millis": 28,
    "deepnote_cell_type": "code",
    "deepnote_cell_height": 246.3125,
    "deepnote_output_heights": [
     136.3125
    ]
   },
   "source": "c=np.arange(24).reshape(2,3,4)\nc",
   "outputs": [
    {
     "output_type": "execute_result",
     "execution_count": 53,
     "data": {
      "text/plain": "array([[[ 0,  1,  2,  3],\n        [ 4,  5,  6,  7],\n        [ 8,  9, 10, 11]],\n\n       [[12, 13, 14, 15],\n        [16, 17, 18, 19],\n        [20, 21, 22, 23]]])"
     },
     "metadata": {}
    }
   ],
   "execution_count": null
  },
  {
   "cell_type": "code",
   "metadata": {
    "id": "N-HUCZdIL1Vk",
    "outputId": "46cc0816-d841-4e19-98f9-d66784d8a71b",
    "cell_id": "00108-f8c6a701-ad56-4157-9692-7cbe4ea87608",
    "deepnote_to_be_reexecuted": false,
    "source_hash": "dba9aa07",
    "execution_start": 1659773141367,
    "execution_millis": 3,
    "deepnote_cell_type": "code",
    "deepnote_cell_height": 151.5625,
    "deepnote_output_heights": [
     59.5625
    ]
   },
   "source": "c.sum(axis=0)  # sum across matrices",
   "outputs": [
    {
     "output_type": "execute_result",
     "execution_count": 54,
     "data": {
      "text/plain": "array([[12, 14, 16, 18],\n       [20, 22, 24, 26],\n       [28, 30, 32, 34]])"
     },
     "metadata": {}
    }
   ],
   "execution_count": null
  },
  {
   "cell_type": "code",
   "metadata": {
    "id": "CMYj8iUIL1Vl",
    "outputId": "994eca4d-270a-443f-f24c-c267c015aaf4",
    "cell_id": "00109-a1532a76-b317-4432-8eae-10d7f78c00b3",
    "deepnote_to_be_reexecuted": false,
    "source_hash": "76f7af35",
    "execution_start": 1659773141367,
    "execution_millis": 3,
    "deepnote_cell_type": "code",
    "deepnote_cell_height": 132.375,
    "deepnote_output_heights": [
     40.375
    ]
   },
   "source": "c.sum(axis=1)  # sum across rows",
   "outputs": [
    {
     "output_type": "execute_result",
     "execution_count": 55,
     "data": {
      "text/plain": "array([[12, 15, 18, 21],\n       [48, 51, 54, 57]])"
     },
     "metadata": {}
    }
   ],
   "execution_count": null
  },
  {
   "cell_type": "markdown",
   "source": "You can also sum over multiple axes:",
   "metadata": {
    "id": "X1PmkvcLL1Vm",
    "cell_id": "00110-dfdad41e-22ec-47ef-b173-22a2fecd47e7",
    "deepnote_cell_type": "markdown",
    "deepnote_cell_height": 52.390625
   }
  },
  {
   "cell_type": "code",
   "metadata": {
    "id": "DAbDLjAsL1Vn",
    "outputId": "110d93b8-5796-4945-ffc2-102eaa214ba7",
    "cell_id": "00111-c9375be4-4ec8-4b40-b91d-2a6d03a0c2db",
    "deepnote_to_be_reexecuted": false,
    "source_hash": "a1ec7a8d",
    "execution_start": 1659773141368,
    "execution_millis": 23,
    "deepnote_cell_type": "code",
    "deepnote_cell_height": 113.1875,
    "deepnote_output_heights": [
     21.1875
    ]
   },
   "source": "c.sum(axis=(0,2))  # sum across matrices and columns",
   "outputs": [
    {
     "output_type": "execute_result",
     "execution_count": 56,
     "data": {
      "text/plain": "array([ 60,  92, 124])"
     },
     "metadata": {}
    }
   ],
   "execution_count": null
  },
  {
   "cell_type": "code",
   "metadata": {
    "id": "SfyKkbbTL1Vo",
    "outputId": "b500a25e-cdec-48ef-af08-7c755e33b1ea",
    "cell_id": "00112-3620e25a-122c-4981-b40e-0210132f6ae1",
    "deepnote_to_be_reexecuted": false,
    "source_hash": "e0461a24",
    "execution_start": 1659773141383,
    "execution_millis": 12,
    "deepnote_cell_type": "code",
    "deepnote_cell_height": 113.1875,
    "deepnote_output_heights": [
     21.1875
    ]
   },
   "source": "0+1+2+3 + 12+13+14+15, 4+5+6+7 + 16+17+18+19, 8+9+10+11 + 20+21+22+23",
   "outputs": [
    {
     "output_type": "execute_result",
     "execution_count": 57,
     "data": {
      "text/plain": "(60, 92, 124)"
     },
     "metadata": {}
    }
   ],
   "execution_count": null
  },
  {
   "cell_type": "markdown",
   "source": "## Universal functions\nNumPy also provides fast elementwise functions called *universal functions*, or **ufunc**. They are vectorized wrappers of simple functions. For example `square` returns a new `ndarray` which is a copy of the original `ndarray` except that each element is squared:",
   "metadata": {
    "id": "2k2x9m4ML1Vp",
    "cell_id": "00113-5dd2e140-ba32-460e-9e03-cb318f4d1768",
    "deepnote_cell_type": "markdown",
    "deepnote_cell_height": 153.171875
   }
  },
  {
   "cell_type": "code",
   "metadata": {
    "id": "iencp5PoL1Vp",
    "outputId": "bab8e789-acbd-45a1-82ce-4bec12ac24ef",
    "cell_id": "00114-99bf52e6-e630-4836-b675-05faceaed4cc",
    "deepnote_to_be_reexecuted": false,
    "source_hash": "e3eba537",
    "execution_start": 1659773141388,
    "execution_millis": 29,
    "deepnote_cell_type": "code",
    "deepnote_cell_height": 150.375,
    "deepnote_output_heights": [
     40.375
    ]
   },
   "source": "a = np.array([[-2.5, 3.1, 7], [10, 11, 12]])\nnp.square(a)",
   "outputs": [
    {
     "output_type": "execute_result",
     "execution_count": 58,
     "data": {
      "text/plain": "array([[  6.25,   9.61,  49.  ],\n       [100.  , 121.  , 144.  ]])"
     },
     "metadata": {}
    }
   ],
   "execution_count": null
  },
  {
   "cell_type": "markdown",
   "source": "Here are a few more useful unary ufuncs:",
   "metadata": {
    "id": "DganVMLmL1Vq",
    "cell_id": "00115-f0cc5c4b-70da-447c-b34b-4e25c50ab9e6",
    "deepnote_cell_type": "markdown",
    "deepnote_cell_height": 52.390625
   }
  },
  {
   "cell_type": "code",
   "metadata": {
    "id": "mR9YHAe4L1Vq",
    "outputId": "9d46c838-e2f1-41b7-9cdd-40e0ddbcc053",
    "cell_id": "00116-89d72d52-3dc7-463d-93a4-4fb4fc014aea",
    "deepnote_to_be_reexecuted": false,
    "source_hash": "987ae70",
    "execution_start": 1659773141415,
    "execution_millis": 8,
    "deepnote_cell_type": "code",
    "deepnote_cell_height": 773
   },
   "source": "print(\"Original ndarray\")\nprint(a)\nfor func in (np.abs, np.sqrt, np.exp, np.log, np.sign, np.ceil, np.modf, np.isnan, np.cos):\n    print(\"\\n\", func.__name__)\n    print(func(a))",
   "outputs": [
    {
     "name": "stdout",
     "text": "Original ndarray\n[[-2.5  3.1  7. ]\n [10.  11.  12. ]]\n\n absolute\n[[ 2.5  3.1  7. ]\n [10.  11.  12. ]]\n\n sqrt\n[[       nan 1.76068169 2.64575131]\n [3.16227766 3.31662479 3.46410162]]\n\n exp\n[[8.20849986e-02 2.21979513e+01 1.09663316e+03]\n [2.20264658e+04 5.98741417e+04 1.62754791e+05]]\n\n log\n[[       nan 1.13140211 1.94591015]\n [2.30258509 2.39789527 2.48490665]]\n\n sign\n[[-1.  1.  1.]\n [ 1.  1.  1.]]\n\n ceil\n[[-2.  4.  7.]\n [10. 11. 12.]]\n\n modf\n(array([[-0.5,  0.1,  0. ],\n       [ 0. ,  0. ,  0. ]]), array([[-2.,  3.,  7.],\n       [10., 11., 12.]]))\n\n isnan\n[[False False False]\n [False False False]]\n\n cos\n[[-0.80114362 -0.99913515  0.75390225]\n [-0.83907153  0.0044257   0.84385396]]\n/tmp/ipykernel_87/2634842825.py:5: RuntimeWarning: invalid value encountered in sqrt\n  print(func(a))\n/tmp/ipykernel_87/2634842825.py:5: RuntimeWarning: invalid value encountered in log\n  print(func(a))\n",
     "output_type": "stream"
    }
   ],
   "execution_count": null
  },
  {
   "cell_type": "markdown",
   "source": "## Binary ufuncs\nThere are also many binary ufuncs, that apply elementwise on two `ndarray`s.  Broadcasting rules are applied if the arrays do not have the same shape:",
   "metadata": {
    "id": "3FbJWZ8xL1Vq",
    "cell_id": "00117-2f7777bf-441a-4e03-bb7b-2f0c2d8f63e4",
    "deepnote_cell_type": "markdown",
    "deepnote_cell_height": 130.78125
   }
  },
  {
   "cell_type": "code",
   "metadata": {
    "id": "fOqOT7b9L1Vr",
    "outputId": "1aa324ac-e10a-4c54-cfaa-76daf9ee3a06",
    "cell_id": "00118-edfaef34-0270-474e-a895-17910341c284",
    "deepnote_to_be_reexecuted": false,
    "source_hash": "52b50a20",
    "execution_start": 1659773141418,
    "execution_millis": 6,
    "deepnote_cell_type": "code",
    "deepnote_cell_height": 149.1875,
    "deepnote_output_heights": [
     21.1875
    ]
   },
   "source": "a = np.array([1, -2, 3, 4])\nb = np.array([2, 8, -1, 7])\nnp.add(a, b)  # equivalent to a + b",
   "outputs": [
    {
     "output_type": "execute_result",
     "execution_count": 60,
     "data": {
      "text/plain": "array([ 3,  6,  2, 11])"
     },
     "metadata": {}
    }
   ],
   "execution_count": null
  },
  {
   "cell_type": "code",
   "metadata": {
    "id": "spHnQotHL1Vr",
    "outputId": "97337fc4-b803-467b-b621-4d4a1fe99d5d",
    "cell_id": "00119-21c60c9c-2260-4d7c-938a-2f4ecd40b8c9",
    "deepnote_to_be_reexecuted": false,
    "source_hash": "17a8b626",
    "execution_start": 1659773141419,
    "execution_millis": 21,
    "deepnote_cell_type": "code",
    "deepnote_cell_height": 113.1875,
    "deepnote_output_heights": [
     21.1875
    ]
   },
   "source": "np.greater(a, b)  # equivalent to a > b",
   "outputs": [
    {
     "output_type": "execute_result",
     "execution_count": 61,
     "data": {
      "text/plain": "array([False, False,  True, False])"
     },
     "metadata": {}
    }
   ],
   "execution_count": null
  },
  {
   "cell_type": "code",
   "metadata": {
    "id": "wizneytAL1Vs",
    "outputId": "f66fc45a-fbf1-440b-c564-9eb8247492db",
    "cell_id": "00120-f30aacde-d9c6-46e1-990f-453145892fee",
    "deepnote_to_be_reexecuted": false,
    "source_hash": "d7c4928e",
    "execution_start": 1659773141433,
    "execution_millis": 10,
    "deepnote_cell_type": "code",
    "deepnote_cell_height": 113.1875,
    "deepnote_output_heights": [
     21.1875
    ]
   },
   "source": "np.maximum(a, b)",
   "outputs": [
    {
     "output_type": "execute_result",
     "execution_count": 62,
     "data": {
      "text/plain": "array([2, 8, 3, 7])"
     },
     "metadata": {}
    }
   ],
   "execution_count": null
  },
  {
   "cell_type": "code",
   "metadata": {
    "id": "j5A4UvYLL1Vv",
    "outputId": "4a9e1c19-2653-4f85-dae8-a153488f0487",
    "cell_id": "00121-01f15d5e-4208-46c4-a376-e8e510f95215",
    "deepnote_to_be_reexecuted": false,
    "source_hash": "8a5bd0c1",
    "execution_start": 1659773141441,
    "execution_millis": 26,
    "deepnote_cell_type": "code",
    "deepnote_cell_height": 113.1875,
    "deepnote_output_heights": [
     21.1875
    ]
   },
   "source": "np.copysign(a, b)",
   "outputs": [
    {
     "output_type": "execute_result",
     "execution_count": 63,
     "data": {
      "text/plain": "array([ 1.,  2., -3.,  4.])"
     },
     "metadata": {}
    }
   ],
   "execution_count": null
  },
  {
   "cell_type": "markdown",
   "source": "# Array indexing\n## One-dimensional arrays\nOne-dimensional NumPy arrays can be accessed more or less like regular python arrays:",
   "metadata": {
    "id": "9sfH_RA7L1Vw",
    "cell_id": "00122-446d25fb-b730-46b8-8328-3c1f7bf426a7",
    "deepnote_cell_type": "markdown",
    "deepnote_cell_height": 176.390625
   }
  },
  {
   "cell_type": "code",
   "metadata": {
    "id": "cV6zQsz6L1Vw",
    "outputId": "03d918b6-ef73-402c-f937-90d898944237",
    "cell_id": "00123-039696e9-537b-4cbe-b6da-690e42730301",
    "deepnote_to_be_reexecuted": false,
    "source_hash": "a780ce10",
    "execution_start": 1659773141460,
    "execution_millis": 11,
    "deepnote_cell_type": "code",
    "deepnote_cell_height": 131.1875,
    "deepnote_output_heights": [
     21.1875
    ]
   },
   "source": "a = np.array([1, 5, 3, 19, 13, 7, 3])\na[3]",
   "outputs": [
    {
     "output_type": "execute_result",
     "execution_count": 64,
     "data": {
      "text/plain": "19"
     },
     "metadata": {}
    }
   ],
   "execution_count": null
  },
  {
   "cell_type": "code",
   "metadata": {
    "id": "9tqpV5tVL1Vx",
    "outputId": "4aed765f-0e89-4db6-caf3-8e1079539f4c",
    "cell_id": "00124-8a160f7a-ea84-4617-a1ef-94670693fd20",
    "deepnote_to_be_reexecuted": false,
    "source_hash": "67910f75",
    "execution_start": 1659773141466,
    "execution_millis": 560,
    "deepnote_cell_type": "code",
    "deepnote_cell_height": 113.1875,
    "deepnote_output_heights": [
     21.1875
    ]
   },
   "source": "a[2:5]",
   "outputs": [
    {
     "output_type": "execute_result",
     "execution_count": 65,
     "data": {
      "text/plain": "array([ 3, 19, 13])"
     },
     "metadata": {}
    }
   ],
   "execution_count": null
  },
  {
   "cell_type": "code",
   "metadata": {
    "id": "rAsD_gCGL1Vy",
    "outputId": "377e66cd-a2dd-4564-9322-a1ce46d432cc",
    "cell_id": "00125-ca483461-c2ca-4fd2-8735-fee9a00626c1",
    "deepnote_to_be_reexecuted": false,
    "source_hash": "cc5105df",
    "execution_start": 1659773141475,
    "execution_millis": 772,
    "deepnote_cell_type": "code",
    "deepnote_cell_height": 113.1875,
    "deepnote_output_heights": [
     21.1875
    ]
   },
   "source": "a[2:-1]",
   "outputs": [
    {
     "output_type": "execute_result",
     "execution_count": 66,
     "data": {
      "text/plain": "array([ 3, 19, 13,  7])"
     },
     "metadata": {}
    }
   ],
   "execution_count": null
  },
  {
   "cell_type": "code",
   "metadata": {
    "id": "Jrhv1bPuL1Vz",
    "outputId": "f71c67b9-bcc3-4201-9bee-5127ef7a1929",
    "cell_id": "00126-f8cdc31e-86cf-4b93-ac5c-247657ce0491",
    "deepnote_to_be_reexecuted": false,
    "source_hash": "1155f6ed",
    "execution_start": 1659773141479,
    "execution_millis": 831,
    "deepnote_cell_type": "code",
    "deepnote_cell_height": 113.1875,
    "deepnote_output_heights": [
     21.1875
    ]
   },
   "source": "a[:2]",
   "outputs": [
    {
     "output_type": "execute_result",
     "execution_count": 67,
     "data": {
      "text/plain": "array([1, 5])"
     },
     "metadata": {}
    }
   ],
   "execution_count": null
  },
  {
   "cell_type": "code",
   "metadata": {
    "id": "auc3-EcuL1V1",
    "outputId": "434f11ed-61e8-4278-9fe1-1bef068376e3",
    "cell_id": "00127-fcd97e6f-5367-4da6-a27b-16729fbe7512",
    "deepnote_to_be_reexecuted": false,
    "source_hash": "59cac313",
    "execution_start": 1659773141491,
    "execution_millis": 820,
    "deepnote_cell_type": "code",
    "deepnote_cell_height": 113.1875,
    "deepnote_output_heights": [
     21.1875
    ]
   },
   "source": "a[2::2]",
   "outputs": [
    {
     "output_type": "execute_result",
     "execution_count": 68,
     "data": {
      "text/plain": "array([ 3, 13,  3])"
     },
     "metadata": {}
    }
   ],
   "execution_count": null
  },
  {
   "cell_type": "code",
   "metadata": {
    "id": "CPUMlzocL1V2",
    "outputId": "065f4917-3c0c-4b61-c98c-16cbfdebd05b",
    "cell_id": "00128-96f47c2d-e992-4120-8b39-0398d22448ce",
    "deepnote_to_be_reexecuted": false,
    "source_hash": "decc7f3",
    "execution_start": 1659773141500,
    "execution_millis": 813,
    "deepnote_cell_type": "code",
    "deepnote_cell_height": 113.1875,
    "deepnote_output_heights": [
     21.1875
    ]
   },
   "source": "a[::-1]",
   "outputs": [
    {
     "output_type": "execute_result",
     "execution_count": 69,
     "data": {
      "text/plain": "array([ 3,  7, 13, 19,  3,  5,  1])"
     },
     "metadata": {}
    }
   ],
   "execution_count": null
  },
  {
   "cell_type": "markdown",
   "source": "Of course, you can modify elements:",
   "metadata": {
    "id": "zU6k7urML1V3",
    "cell_id": "00129-5774b9e6-c996-4812-ae5d-9715d66b35f6",
    "deepnote_cell_type": "markdown",
    "deepnote_cell_height": 52.390625
   }
  },
  {
   "cell_type": "code",
   "metadata": {
    "id": "3h-LcBs4L1V4",
    "outputId": "5df2a5b4-5b4e-4afe-8d11-7705b863745b",
    "cell_id": "00130-6ff085e0-bddd-4b20-a0a7-9a3d8d296a7b",
    "deepnote_to_be_reexecuted": false,
    "source_hash": "5a4fe7c2",
    "execution_start": 1659773141539,
    "execution_millis": 0,
    "deepnote_cell_type": "code",
    "deepnote_cell_height": 131.1875,
    "deepnote_output_heights": [
     21.1875
    ]
   },
   "source": "a[3]=999\na",
   "outputs": [
    {
     "output_type": "execute_result",
     "execution_count": 70,
     "data": {
      "text/plain": "array([  1,   5,   3, 999,  13,   7,   3])"
     },
     "metadata": {}
    }
   ],
   "execution_count": null
  },
  {
   "cell_type": "markdown",
   "source": "You can also modify an `ndarray` slice:",
   "metadata": {
    "id": "YqSHXAfsL1V5",
    "cell_id": "00131-b1df8910-0f0e-4068-864e-939047929c7d",
    "deepnote_cell_type": "markdown",
    "deepnote_cell_height": 52.390625
   }
  },
  {
   "cell_type": "code",
   "metadata": {
    "id": "2lcOnY99L1V6",
    "outputId": "6abb199d-024b-4b56-bfa0-86fc5a393314",
    "cell_id": "00132-8b3ae1fc-e4b4-48d6-8000-9a623cd9920a",
    "deepnote_to_be_reexecuted": false,
    "source_hash": "60903f9e",
    "execution_start": 1659773141540,
    "execution_millis": 776,
    "deepnote_cell_type": "code",
    "deepnote_cell_height": 131.1875,
    "deepnote_output_heights": [
     21.1875
    ]
   },
   "source": "a[2:5] = [997, 998, 999]\na",
   "outputs": [
    {
     "output_type": "execute_result",
     "execution_count": 71,
     "data": {
      "text/plain": "array([  1,   5, 997, 998, 999,   7,   3])"
     },
     "metadata": {}
    }
   ],
   "execution_count": null
  },
  {
   "cell_type": "markdown",
   "source": "## Differences with regular python arrays\nContrary to regular python arrays, if you assign a single value to an `ndarray` slice, it is copied across the whole slice, thanks to broadcasting rules discussed above.",
   "metadata": {
    "id": "ikV_ZBewL1V6",
    "cell_id": "00133-cc2772fc-a898-4827-a681-661232acc470",
    "deepnote_cell_type": "markdown",
    "deepnote_cell_height": 130.78125
   }
  },
  {
   "cell_type": "code",
   "metadata": {
    "id": "mljpbI7VL1V7",
    "outputId": "bb87fa4f-590a-4576-e5c5-8fc53c77d8a8",
    "cell_id": "00134-a96fdb11-64db-4df4-af4f-303aae2cf530",
    "deepnote_to_be_reexecuted": false,
    "source_hash": "c238457e",
    "execution_start": 1659773141541,
    "execution_millis": 776,
    "deepnote_cell_type": "code",
    "deepnote_cell_height": 131.1875,
    "deepnote_output_heights": [
     21.1875
    ]
   },
   "source": "a[2:5] = -1\na",
   "outputs": [
    {
     "output_type": "execute_result",
     "execution_count": 72,
     "data": {
      "text/plain": "array([ 1,  5, -1, -1, -1,  7,  3])"
     },
     "metadata": {}
    }
   ],
   "execution_count": null
  },
  {
   "cell_type": "markdown",
   "source": "Also, you cannot grow or shrink `ndarray`s this way:",
   "metadata": {
    "id": "r6S9xd5fL1V8",
    "cell_id": "00135-3fbe566c-6932-424d-a8e6-51ba073f75e2",
    "deepnote_cell_type": "markdown",
    "deepnote_cell_height": 52.390625
   }
  },
  {
   "cell_type": "code",
   "metadata": {
    "id": "bYrNsfztL1V8",
    "outputId": "874b69de-0234-4754-97b0-86926b5246a9",
    "cell_id": "00136-1ea9db40-065f-4e3d-a627-07094825d8e5",
    "deepnote_to_be_reexecuted": false,
    "source_hash": "6653e3f4",
    "execution_start": 1659773141544,
    "execution_millis": 774,
    "deepnote_cell_type": "code",
    "deepnote_cell_height": 161.1875
   },
   "source": "try:\n    a[2:5] = [1,2,3,4,5,6]  # too long\nexcept ValueError as e:\n    print(e)",
   "outputs": [
    {
     "name": "stdout",
     "text": "could not broadcast input array from shape (6,) into shape (3,)\n",
     "output_type": "stream"
    }
   ],
   "execution_count": null
  },
  {
   "cell_type": "markdown",
   "source": "You cannot delete elements either:",
   "metadata": {
    "id": "fOKmPtpbL1V9",
    "cell_id": "00137-7aa7c0a6-e893-42dd-b079-38227a8918d4",
    "deepnote_cell_type": "markdown",
    "deepnote_cell_height": 52.390625
   }
  },
  {
   "cell_type": "code",
   "metadata": {
    "id": "Fg8iePOhL1V9",
    "outputId": "675fa804-4750-4de6-dada-8b44d5cbbc94",
    "cell_id": "00138-c6eaba7e-5474-4490-be36-8e09535947a9",
    "deepnote_to_be_reexecuted": false,
    "source_hash": "eb174658",
    "execution_start": 1659773141571,
    "execution_millis": 766,
    "deepnote_cell_type": "code",
    "deepnote_cell_height": 161.1875
   },
   "source": "try:\n    del a[2:5]\nexcept ValueError as e:\n    print(e)",
   "outputs": [
    {
     "name": "stdout",
     "text": "cannot delete array elements\n",
     "output_type": "stream"
    }
   ],
   "execution_count": null
  },
  {
   "cell_type": "markdown",
   "source": "Last but not least, `ndarray` **slices are actually *views*** on the same data buffer. This means that if you create a slice and modify it, you are actually going to modify the original `ndarray` as well!",
   "metadata": {
    "id": "VwBYp6zDL1V-",
    "cell_id": "00139-78f5da43-baf6-460d-bcb0-b567da25b0d0",
    "deepnote_cell_type": "markdown",
    "deepnote_cell_height": 74.78125
   }
  },
  {
   "cell_type": "code",
   "metadata": {
    "id": "6PVowp5RL1V-",
    "outputId": "179c16d5-a82f-474e-9cbc-ff032d0a6638",
    "cell_id": "00140-b75e01cd-e5ec-4c7e-8ef9-1b68f94e3bf2",
    "deepnote_to_be_reexecuted": false,
    "source_hash": "58a5ff18",
    "execution_start": 1659773141572,
    "execution_millis": 771,
    "deepnote_cell_type": "code",
    "deepnote_cell_height": 149.1875,
    "deepnote_output_heights": [
     21.1875
    ]
   },
   "source": "a_slice = a[2:6]\na_slice[1] = 1000\na  # the original array was modified!",
   "outputs": [
    {
     "output_type": "execute_result",
     "execution_count": 75,
     "data": {
      "text/plain": "array([   1,    5,   -1, 1000,   -1,    7,    3])"
     },
     "metadata": {}
    }
   ],
   "execution_count": null
  },
  {
   "cell_type": "code",
   "metadata": {
    "id": "0eVI0ueQL1V-",
    "outputId": "c9056234-d004-4b06-839f-cd668985338b",
    "cell_id": "00141-ddad2734-5287-4c32-b5da-bff09182d28f",
    "deepnote_to_be_reexecuted": false,
    "source_hash": "f29dac17",
    "execution_start": 1659773141573,
    "execution_millis": 771,
    "deepnote_cell_type": "code",
    "deepnote_cell_height": 131.1875,
    "deepnote_output_heights": [
     21.1875
    ]
   },
   "source": "a[3] = 2000\na_slice  # similarly, modifying the original array modifies the slice!",
   "outputs": [
    {
     "output_type": "execute_result",
     "execution_count": 76,
     "data": {
      "text/plain": "array([  -1, 2000,   -1,    7])"
     },
     "metadata": {}
    }
   ],
   "execution_count": null
  },
  {
   "cell_type": "markdown",
   "source": "If you want a copy of the data, you need to use the `copy` method:",
   "metadata": {
    "id": "ogfOhV0pL1V_",
    "cell_id": "00142-ee852ced-b329-4aae-b67d-b6c7ebc67fa9",
    "deepnote_cell_type": "markdown",
    "deepnote_cell_height": 52.390625
   }
  },
  {
   "cell_type": "code",
   "metadata": {
    "id": "U3QbDCv2L1V_",
    "outputId": "b312e326-467c-49ea-e8d7-49c0320293d2",
    "cell_id": "00143-4c3485d7-46fe-4284-b30f-ccada21217c8",
    "deepnote_to_be_reexecuted": false,
    "source_hash": "45e86f34",
    "execution_start": 1659773141594,
    "execution_millis": 1,
    "deepnote_cell_type": "code",
    "deepnote_cell_height": 149.1875,
    "deepnote_output_heights": [
     21.1875
    ]
   },
   "source": "another_slice = a[2:6].copy()\nanother_slice[1] = 3000\na  # the original array is untouched",
   "outputs": [
    {
     "output_type": "execute_result",
     "execution_count": 77,
     "data": {
      "text/plain": "array([   1,    5,   -1, 2000,   -1,    7,    3])"
     },
     "metadata": {}
    }
   ],
   "execution_count": null
  },
  {
   "cell_type": "code",
   "metadata": {
    "id": "2axja74NL1V_",
    "outputId": "0a30dcdb-cb84-43a0-bb21-29687dab8c5e",
    "cell_id": "00144-c6f083e4-b189-4d65-977a-3d965e71f6f0",
    "deepnote_to_be_reexecuted": false,
    "source_hash": "5ba50534",
    "execution_start": 1659773141595,
    "execution_millis": 752,
    "deepnote_cell_type": "code",
    "deepnote_cell_height": 136.1875,
    "deepnote_output_heights": [
     21.1875
    ]
   },
   "source": "a[3] = 4000\nanother_slice  # similary, modifying the original array does not affect the slice copy",
   "outputs": [
    {
     "output_type": "execute_result",
     "execution_count": 78,
     "data": {
      "text/plain": "array([  -1, 3000,   -1,    7])"
     },
     "metadata": {}
    }
   ],
   "execution_count": null
  },
  {
   "cell_type": "markdown",
   "source": "## Multi-dimensional arrays\nMulti-dimensional arrays can be accessed in a similar way by providing an index or slice for each axis, separated by commas:",
   "metadata": {
    "id": "fHOVpIb0L1WA",
    "cell_id": "00145-2b31653a-3621-4bbe-bbbc-424d7d548b76",
    "deepnote_cell_type": "markdown",
    "deepnote_cell_height": 130.78125
   }
  },
  {
   "cell_type": "code",
   "metadata": {
    "id": "K4pZpGMJL1WA",
    "outputId": "e991a254-789a-4fc8-e4a8-967db589dac9",
    "cell_id": "00146-43b9b6e4-f0b1-4a1b-9dd3-79a5dc6a66be",
    "deepnote_to_be_reexecuted": false,
    "source_hash": "b11b711c",
    "execution_start": 1659773141596,
    "execution_millis": 752,
    "deepnote_cell_type": "code",
    "deepnote_cell_height": 188.75,
    "deepnote_output_heights": [
     78.75
    ]
   },
   "source": "b = np.arange(48).reshape(4, 12)\nb",
   "outputs": [
    {
     "output_type": "execute_result",
     "execution_count": 79,
     "data": {
      "text/plain": "array([[ 0,  1,  2,  3,  4,  5,  6,  7,  8,  9, 10, 11],\n       [12, 13, 14, 15, 16, 17, 18, 19, 20, 21, 22, 23],\n       [24, 25, 26, 27, 28, 29, 30, 31, 32, 33, 34, 35],\n       [36, 37, 38, 39, 40, 41, 42, 43, 44, 45, 46, 47]])"
     },
     "metadata": {}
    }
   ],
   "execution_count": null
  },
  {
   "cell_type": "code",
   "metadata": {
    "id": "F8Ka_PpkL1WB",
    "outputId": "17b03b74-cdd0-40b1-a378-90c825fd9b77",
    "cell_id": "00147-0f4dc167-a678-422c-aec6-ace05d7a1f66",
    "deepnote_to_be_reexecuted": false,
    "source_hash": "f240b89d",
    "execution_start": 1659773141648,
    "execution_millis": 703,
    "deepnote_cell_type": "code",
    "deepnote_cell_height": 113.1875,
    "deepnote_output_heights": [
     21.1875
    ]
   },
   "source": "b[1, 2]  # row 1, col 2",
   "outputs": [
    {
     "output_type": "execute_result",
     "execution_count": 80,
     "data": {
      "text/plain": "14"
     },
     "metadata": {}
    }
   ],
   "execution_count": null
  },
  {
   "cell_type": "code",
   "metadata": {
    "id": "nNvj4E74L1WB",
    "outputId": "d71e5a72-f110-4da2-b809-2c3a05d66db6",
    "cell_id": "00148-92f01e20-212b-4152-ac0a-cccd196e27c8",
    "deepnote_to_be_reexecuted": false,
    "source_hash": "c3f20e3",
    "execution_start": 1659773141649,
    "execution_millis": 703,
    "deepnote_cell_type": "code",
    "deepnote_cell_height": 113.1875,
    "deepnote_output_heights": [
     21.1875
    ]
   },
   "source": "b[1, :]  # row 1, all columns",
   "outputs": [
    {
     "output_type": "execute_result",
     "execution_count": 81,
     "data": {
      "text/plain": "array([12, 13, 14, 15, 16, 17, 18, 19, 20, 21, 22, 23])"
     },
     "metadata": {}
    }
   ],
   "execution_count": null
  },
  {
   "cell_type": "code",
   "metadata": {
    "id": "3TibRB7XL1WB",
    "outputId": "13b3e51c-fc34-4fd5-8b14-754ef34d1b69",
    "cell_id": "00149-b541816e-06b7-4e53-b3a0-c6cd591a9ca6",
    "deepnote_to_be_reexecuted": false,
    "source_hash": "9214950a",
    "execution_start": 1659773141650,
    "execution_millis": 703,
    "deepnote_cell_type": "code",
    "deepnote_cell_height": 113.1875,
    "deepnote_output_heights": [
     21.1875
    ]
   },
   "source": "b[:, 1]  # all rows, column 1",
   "outputs": [
    {
     "output_type": "execute_result",
     "execution_count": 82,
     "data": {
      "text/plain": "array([ 1, 13, 25, 37])"
     },
     "metadata": {}
    }
   ],
   "execution_count": null
  },
  {
   "cell_type": "markdown",
   "source": "**Caution**: note the subtle difference between these two expressions: ",
   "metadata": {
    "id": "hcnHD_k9L1WC",
    "cell_id": "00150-9ae0be4a-98a8-4421-8a77-d2d5233584f8",
    "deepnote_cell_type": "markdown",
    "deepnote_cell_height": 52.390625
   }
  },
  {
   "cell_type": "code",
   "metadata": {
    "scrolled": true,
    "id": "Xlyubi9NL1WC",
    "outputId": "e96321d0-da12-4c00-8910-6a2c3fc162e6",
    "cell_id": "00151-d7577526-027d-4316-bc83-f9581cb1e9c3",
    "deepnote_to_be_reexecuted": false,
    "source_hash": "2112a3fa",
    "execution_start": 1659773141655,
    "execution_millis": 753,
    "deepnote_cell_type": "code",
    "deepnote_cell_height": 113.1875,
    "deepnote_output_heights": [
     21.1875
    ]
   },
   "source": "b[1, :]",
   "outputs": [
    {
     "output_type": "execute_result",
     "execution_count": 83,
     "data": {
      "text/plain": "array([12, 13, 14, 15, 16, 17, 18, 19, 20, 21, 22, 23])"
     },
     "metadata": {}
    }
   ],
   "execution_count": null
  },
  {
   "cell_type": "code",
   "metadata": {
    "id": "8Wt7LihbL1WD",
    "outputId": "d5f8bb00-14ea-4874-8f04-79df45c475e8",
    "cell_id": "00152-7b2d9366-3a32-4940-81e0-b85dbdba2e94",
    "deepnote_to_be_reexecuted": false,
    "source_hash": "125999ea",
    "execution_start": 1659773141675,
    "deepnote_cell_type": "code",
    "deepnote_cell_height": 113.1875,
    "deepnote_output_heights": [
     21.1875
    ]
   },
   "source": "b[1:2, :]",
   "outputs": [
    {
     "output_type": "execute_result",
     "execution_count": 84,
     "data": {
      "text/plain": "array([[12, 13, 14, 15, 16, 17, 18, 19, 20, 21, 22, 23]])"
     },
     "metadata": {}
    }
   ],
   "execution_count": null
  },
  {
   "cell_type": "markdown",
   "source": "The first expression returns row 1 as a 1D array of shape `(12,)`, while the second returns that same row as a 2D array of shape `(1, 12)`.",
   "metadata": {
    "id": "1wberuOwL1WE",
    "cell_id": "00153-8d1a34f1-7504-4e10-b103-446282c01504",
    "deepnote_cell_type": "markdown",
    "deepnote_cell_height": 74.78125
   }
  },
  {
   "cell_type": "markdown",
   "source": "## Fancy indexing\nYou may also specify a list of indices that you are interested in. This is referred to as *fancy indexing*.",
   "metadata": {
    "id": "gPD1DbRkL1WE",
    "cell_id": "00154-b8c613ff-2637-497a-bd1e-de2caf3ae5bb",
    "deepnote_cell_type": "markdown",
    "deepnote_cell_height": 108.390625
   }
  },
  {
   "cell_type": "code",
   "metadata": {
    "scrolled": true,
    "id": "4KNvmF6KL1WE",
    "outputId": "a3fd32d5-f93d-4b64-99e9-74867b7be135",
    "cell_id": "00155-44af1246-44f0-4f2f-9e1c-d567439cafff",
    "deepnote_to_be_reexecuted": false,
    "source_hash": "4fee3bfb",
    "execution_start": 1659773141716,
    "deepnote_cell_type": "code",
    "deepnote_cell_height": 132.375,
    "deepnote_output_heights": [
     40.375
    ]
   },
   "source": "b[(0,2), 2:5]  # rows 0 and 2, columns 2 to 4 (5-1)",
   "outputs": [
    {
     "output_type": "execute_result",
     "execution_count": 85,
     "data": {
      "text/plain": "array([[ 2,  3,  4],\n       [26, 27, 28]])"
     },
     "metadata": {}
    }
   ],
   "execution_count": null
  },
  {
   "cell_type": "code",
   "metadata": {
    "id": "UJuJQVSWL1WF",
    "outputId": "28e5f098-a7d3-4711-b33f-3089781d6fb2",
    "cell_id": "00156-66aaa83a-306f-4d5e-97fe-7ae47404cf2c",
    "deepnote_to_be_reexecuted": false,
    "source_hash": "8825bec0",
    "execution_start": 1659773141717,
    "execution_millis": 695,
    "deepnote_cell_type": "code",
    "deepnote_cell_height": 175.75,
    "deepnote_output_heights": [
     78.75
    ]
   },
   "source": "b[:, (-1, 2, -1)]  # all rows, columns -1 (last), 2 and -1 (again, and in this order)",
   "outputs": [
    {
     "output_type": "execute_result",
     "execution_count": 86,
     "data": {
      "text/plain": "array([[11,  2, 11],\n       [23, 14, 23],\n       [35, 26, 35],\n       [47, 38, 47]])"
     },
     "metadata": {}
    }
   ],
   "execution_count": null
  },
  {
   "cell_type": "markdown",
   "source": "If you provide multiple index arrays, you get a 1D `ndarray` containing the values of the elements at the specified coordinates.",
   "metadata": {
    "id": "-wWPq_osL1WI",
    "cell_id": "00157-3f93f0a6-dd53-4e93-94c0-1954958aec99",
    "deepnote_cell_type": "markdown",
    "deepnote_cell_height": 74.78125
   }
  },
  {
   "cell_type": "code",
   "metadata": {
    "id": "T-MDtJPsL1WI",
    "outputId": "2684f19d-c98e-40fc-d0b0-81ee61099c73",
    "cell_id": "00158-61e6b4e9-44ef-44c1-94db-48072cedf9b2",
    "deepnote_to_be_reexecuted": false,
    "source_hash": "8cadca98",
    "execution_start": 1659773141718,
    "execution_millis": 720,
    "deepnote_cell_type": "code",
    "deepnote_cell_height": 118.1875,
    "deepnote_output_heights": [
     21.1875
    ]
   },
   "source": "b[(-1, 2, -1, 2), (5, 9, 1, 9)]  # returns a 1D array with b[-1, 5], b[2, 9], b[-1, 1] and b[2, 9] (again)",
   "outputs": [
    {
     "output_type": "execute_result",
     "execution_count": 87,
     "data": {
      "text/plain": "array([41, 33, 37, 33])"
     },
     "metadata": {}
    }
   ],
   "execution_count": null
  },
  {
   "cell_type": "markdown",
   "source": "## Higher dimensions\nEverything works just as well with higher dimensional arrays, but it's useful to look at a few examples:",
   "metadata": {
    "id": "o8_ge6LfL1WJ",
    "cell_id": "00159-087badd1-24b0-4720-9c5d-928d2aa8b83f",
    "deepnote_cell_type": "markdown",
    "deepnote_cell_height": 108.390625
   }
  },
  {
   "cell_type": "code",
   "metadata": {
    "id": "3lJOgt3_L1WK",
    "outputId": "edb7cd92-acbd-4526-b6e1-1e31cbf698fc",
    "cell_id": "00160-e6b2f1e2-c10a-4b5a-b112-c28e513f1c37",
    "deepnote_to_be_reexecuted": false,
    "source_hash": "dae2c56",
    "execution_start": 1659773141729,
    "execution_millis": 710,
    "deepnote_cell_type": "code",
    "deepnote_cell_height": 323.0625,
    "deepnote_output_heights": [
     213.0625
    ]
   },
   "source": "c = b.reshape(4,2,6)\nc",
   "outputs": [
    {
     "output_type": "execute_result",
     "execution_count": 88,
     "data": {
      "text/plain": "array([[[ 0,  1,  2,  3,  4,  5],\n        [ 6,  7,  8,  9, 10, 11]],\n\n       [[12, 13, 14, 15, 16, 17],\n        [18, 19, 20, 21, 22, 23]],\n\n       [[24, 25, 26, 27, 28, 29],\n        [30, 31, 32, 33, 34, 35]],\n\n       [[36, 37, 38, 39, 40, 41],\n        [42, 43, 44, 45, 46, 47]]])"
     },
     "metadata": {}
    }
   ],
   "execution_count": null
  },
  {
   "cell_type": "code",
   "metadata": {
    "id": "0_W1btI6L1WL",
    "outputId": "461136f0-ca08-4678-e4cd-ee9bc092a7cd",
    "cell_id": "00161-9cad5140-90a9-4008-a11e-b285c8771062",
    "deepnote_to_be_reexecuted": false,
    "source_hash": "fa93834b",
    "execution_start": 1659773141731,
    "execution_millis": 709,
    "deepnote_cell_type": "code",
    "deepnote_cell_height": 113.1875,
    "deepnote_output_heights": [
     21.1875
    ]
   },
   "source": "c[2, 1, 4]  # matrix 2, row 1, col 4",
   "outputs": [
    {
     "output_type": "execute_result",
     "execution_count": 89,
     "data": {
      "text/plain": "34"
     },
     "metadata": {}
    }
   ],
   "execution_count": null
  },
  {
   "cell_type": "code",
   "metadata": {
    "id": "lufVNFwzL1WM",
    "outputId": "1b65652d-58d0-4e5d-9999-9acaecbb92d1",
    "cell_id": "00162-7691494c-5819-4132-b13c-f5393857e27f",
    "deepnote_to_be_reexecuted": false,
    "source_hash": "3cbfb5bd",
    "execution_start": 1659773141764,
    "execution_millis": 678,
    "deepnote_cell_type": "code",
    "deepnote_cell_height": 113.1875,
    "deepnote_output_heights": [
     21.1875
    ]
   },
   "source": "c[2, :, 3]  # matrix 2, all rows, col 3",
   "outputs": [
    {
     "output_type": "execute_result",
     "execution_count": 90,
     "data": {
      "text/plain": "array([27, 33])"
     },
     "metadata": {}
    }
   ],
   "execution_count": null
  },
  {
   "cell_type": "markdown",
   "source": "If you omit coordinates for some axes, then all elements in these axes are returned:",
   "metadata": {
    "id": "aoEW0h0ML1WM",
    "cell_id": "00163-024d2d64-5147-47e9-aa69-6f83e93fb5a0",
    "deepnote_cell_type": "markdown",
    "deepnote_cell_height": 52.390625
   }
  },
  {
   "cell_type": "code",
   "metadata": {
    "id": "AX1JvUaYL1WM",
    "outputId": "3c6f6017-fdf5-4060-8512-4807059773ec",
    "cell_id": "00164-af888412-c9c3-438d-8404-f48b77a4a2ff",
    "deepnote_to_be_reexecuted": false,
    "source_hash": "e2bd06f9",
    "execution_start": 1659773141765,
    "execution_millis": 695,
    "deepnote_cell_type": "code",
    "deepnote_cell_height": 118.1875,
    "deepnote_output_heights": [
     21.1875
    ]
   },
   "source": "c[2, 1]  # Return matrix 2, row 1, all columns.  This is equivalent to c[2, 1, :]",
   "outputs": [
    {
     "output_type": "execute_result",
     "execution_count": 91,
     "data": {
      "text/plain": "array([30, 31, 32, 33, 34, 35])"
     },
     "metadata": {}
    }
   ],
   "execution_count": null
  },
  {
   "cell_type": "markdown",
   "source": "## Ellipsis (`...`)\nYou may also write an ellipsis (`...`) to ask that all non-specified axes be entirely included.",
   "metadata": {
    "id": "qgfPVavHL1WN",
    "cell_id": "00165-0b967a10-aa1c-4348-80b1-b7e0005c0a7b",
    "deepnote_cell_type": "markdown",
    "deepnote_cell_height": 108.390625
   }
  },
  {
   "cell_type": "code",
   "metadata": {
    "id": "X8N9sU-uL1WN",
    "outputId": "3d1f3f16-63f3-4e89-d412-da3190fbff7f",
    "cell_id": "00166-8cffa19a-0c82-4e14-8d4e-59f8465da19a",
    "deepnote_to_be_reexecuted": false,
    "source_hash": "3cf18b10",
    "execution_start": 1659773141766,
    "execution_millis": 694,
    "deepnote_cell_type": "code",
    "deepnote_cell_height": 132.375,
    "deepnote_output_heights": [
     40.375
    ]
   },
   "source": "c[2, ...]  #  matrix 2, all rows, all columns.  This is equivalent to c[2, :, :]",
   "outputs": [
    {
     "output_type": "execute_result",
     "execution_count": 92,
     "data": {
      "text/plain": "array([[24, 25, 26, 27, 28, 29],\n       [30, 31, 32, 33, 34, 35]])"
     },
     "metadata": {}
    }
   ],
   "execution_count": null
  },
  {
   "cell_type": "code",
   "metadata": {
    "id": "Tzm-nWB5L1WO",
    "outputId": "0022a360-c6b9-4040-8cbe-ab6e93edbee2",
    "cell_id": "00167-856d2a41-8afe-4c69-9a46-c37252a4ff8a",
    "deepnote_to_be_reexecuted": false,
    "source_hash": "63c44fe5",
    "execution_start": 1659773141769,
    "execution_millis": 692,
    "deepnote_cell_type": "code",
    "deepnote_cell_height": 113.1875,
    "deepnote_output_heights": [
     21.1875
    ]
   },
   "source": "c[2, 1, ...]  # matrix 2, row 1, all columns.  This is equivalent to c[2, 1, :]",
   "outputs": [
    {
     "output_type": "execute_result",
     "execution_count": 93,
     "data": {
      "text/plain": "array([30, 31, 32, 33, 34, 35])"
     },
     "metadata": {}
    }
   ],
   "execution_count": null
  },
  {
   "cell_type": "code",
   "metadata": {
    "id": "aEo21ZLIL1WO",
    "outputId": "d5106296-0645-4aa9-8316-62e8e1682fc2",
    "cell_id": "00168-ca92b3b1-a35c-4dab-93c4-fee70b55a084",
    "deepnote_to_be_reexecuted": false,
    "source_hash": "79ce3e26",
    "execution_start": 1659773141776,
    "execution_millis": 686,
    "deepnote_cell_type": "code",
    "deepnote_cell_height": 113.1875,
    "deepnote_output_heights": [
     21.1875
    ]
   },
   "source": "c[2, ..., 3]  # matrix 2, all rows, column 3.  This is equivalent to c[2, :, 3]",
   "outputs": [
    {
     "output_type": "execute_result",
     "execution_count": 94,
     "data": {
      "text/plain": "array([27, 33])"
     },
     "metadata": {}
    }
   ],
   "execution_count": null
  },
  {
   "cell_type": "code",
   "metadata": {
    "id": "d6q0TKErL1WO",
    "outputId": "15855507-b899-433e-c8b5-996ed63c860e",
    "cell_id": "00169-6fa52b68-d4c3-4522-9d5b-0ddb9a5ac2a6",
    "deepnote_to_be_reexecuted": false,
    "source_hash": "47850c6f",
    "execution_start": 1659773141779,
    "execution_millis": 684,
    "deepnote_cell_type": "code",
    "deepnote_cell_height": 170.75,
    "deepnote_output_heights": [
     78.75
    ]
   },
   "source": "c[..., 3]  # all matrices, all rows, column 3.  This is equivalent to c[:, :, 3]",
   "outputs": [
    {
     "output_type": "execute_result",
     "execution_count": 95,
     "data": {
      "text/plain": "array([[ 3,  9],\n       [15, 21],\n       [27, 33],\n       [39, 45]])"
     },
     "metadata": {}
    }
   ],
   "execution_count": null
  },
  {
   "cell_type": "markdown",
   "source": "## Boolean indexing\nYou can also provide an `ndarray` of boolean values on one axis to specify the indices that you want to access.",
   "metadata": {
    "id": "RnvHBC_iL1WP",
    "cell_id": "00170-2747d88f-4824-4113-8673-05665ce4c57c",
    "deepnote_cell_type": "markdown",
    "deepnote_cell_height": 130.78125
   }
  },
  {
   "cell_type": "code",
   "metadata": {
    "id": "UOxh8bzkL1WP",
    "outputId": "58596b20-b832-45a7-f84c-201b7a5088e3",
    "cell_id": "00171-5103c86f-e636-44e8-a671-37819e0d1961",
    "deepnote_to_be_reexecuted": false,
    "source_hash": "b11b711c",
    "execution_start": 1659773141784,
    "execution_millis": 688,
    "deepnote_cell_type": "code",
    "deepnote_cell_height": 188.75,
    "deepnote_output_heights": [
     78.75
    ]
   },
   "source": "b = np.arange(48).reshape(4, 12)\nb",
   "outputs": [
    {
     "output_type": "execute_result",
     "execution_count": 96,
     "data": {
      "text/plain": "array([[ 0,  1,  2,  3,  4,  5,  6,  7,  8,  9, 10, 11],\n       [12, 13, 14, 15, 16, 17, 18, 19, 20, 21, 22, 23],\n       [24, 25, 26, 27, 28, 29, 30, 31, 32, 33, 34, 35],\n       [36, 37, 38, 39, 40, 41, 42, 43, 44, 45, 46, 47]])"
     },
     "metadata": {}
    }
   ],
   "execution_count": null
  },
  {
   "cell_type": "code",
   "metadata": {
    "id": "_m8dbR_5L1WQ",
    "outputId": "abbcec8c-7397-45a7-f683-d12d24d7b7ab",
    "cell_id": "00172-0710413c-f710-4aa9-a26d-f161bde1fb41",
    "deepnote_to_be_reexecuted": false,
    "source_hash": "6efa8743",
    "execution_start": 1659773141789,
    "execution_millis": 684,
    "deepnote_cell_type": "code",
    "deepnote_cell_height": 150.375,
    "deepnote_output_heights": [
     40.375
    ]
   },
   "source": "rows_on = np.array([True, False, True, False])\nb[rows_on, :]  # Rows 0 and 2, all columns. Equivalent to b[(0, 2), :]",
   "outputs": [
    {
     "output_type": "execute_result",
     "execution_count": 97,
     "data": {
      "text/plain": "array([[ 0,  1,  2,  3,  4,  5,  6,  7,  8,  9, 10, 11],\n       [24, 25, 26, 27, 28, 29, 30, 31, 32, 33, 34, 35]])"
     },
     "metadata": {}
    }
   ],
   "execution_count": null
  },
  {
   "cell_type": "code",
   "metadata": {
    "id": "NMJqvcdRL1WQ",
    "outputId": "0fbad51a-b209-414d-b803-fa78f12fabc1",
    "cell_id": "00173-1be47804-f868-4c9e-a463-b39d7381f7a7",
    "deepnote_to_be_reexecuted": false,
    "source_hash": "d4e50cce",
    "execution_start": 1659773141835,
    "execution_millis": 640,
    "deepnote_cell_type": "code",
    "deepnote_cell_height": 188.75,
    "deepnote_output_heights": [
     78.75
    ]
   },
   "source": "cols_on = np.array([False, True, False] * 4)\nb[:, cols_on]  # All rows, columns 1, 4, 7 and 10",
   "outputs": [
    {
     "output_type": "execute_result",
     "execution_count": 98,
     "data": {
      "text/plain": "array([[ 1,  4,  7, 10],\n       [13, 16, 19, 22],\n       [25, 28, 31, 34],\n       [37, 40, 43, 46]])"
     },
     "metadata": {}
    }
   ],
   "execution_count": null
  },
  {
   "cell_type": "markdown",
   "source": "## `np.ix_`\nYou cannot use boolean indexing this way on multiple axes, but you can work around this by using the `ix_` function:",
   "metadata": {
    "id": "rw4_nyHeL1WQ",
    "cell_id": "00174-d4c7e7e5-d791-4777-bcd3-e5d4d6367704",
    "deepnote_cell_type": "markdown",
    "deepnote_cell_height": 130.78125
   }
  },
  {
   "cell_type": "code",
   "metadata": {
    "id": "7ViU1eeSL1WR",
    "outputId": "db6f7b96-eda6-460f-c86d-901c9da6b334",
    "cell_id": "00175-8f2f3b59-5275-4dc0-8399-40b764a2fb52",
    "deepnote_to_be_reexecuted": false,
    "source_hash": "bce9a1f0",
    "execution_start": 1659773141836,
    "execution_millis": 639,
    "deepnote_cell_type": "code",
    "deepnote_cell_height": 132.375,
    "deepnote_output_heights": [
     40.375
    ]
   },
   "source": "b[np.ix_(rows_on, cols_on)]",
   "outputs": [
    {
     "output_type": "execute_result",
     "execution_count": 99,
     "data": {
      "text/plain": "array([[ 1,  4,  7, 10],\n       [25, 28, 31, 34]])"
     },
     "metadata": {}
    }
   ],
   "execution_count": null
  },
  {
   "cell_type": "code",
   "metadata": {
    "id": "uHbJ-xWhL1WR",
    "outputId": "65e91829-fbd5-4335-f64c-ca3f1e4accee",
    "cell_id": "00176-cf5000cd-8909-4c5a-8fbf-a0838884a51f",
    "deepnote_to_be_reexecuted": false,
    "source_hash": "34a614b6",
    "execution_start": 1659773141837,
    "execution_millis": 639,
    "deepnote_cell_type": "code",
    "deepnote_cell_height": 151.5625,
    "deepnote_output_heights": [
     59.5625
    ]
   },
   "source": "np.ix_(rows_on, cols_on)",
   "outputs": [
    {
     "output_type": "execute_result",
     "execution_count": 100,
     "data": {
      "text/plain": "(array([[0],\n        [2]]),\n array([[ 1,  4,  7, 10]]))"
     },
     "metadata": {}
    }
   ],
   "execution_count": null
  },
  {
   "cell_type": "markdown",
   "source": "If you use a boolean array that has the same shape as the `ndarray`, then you get in return a 1D array containing all the values that have `True` at their coordinate. This is generally used along with conditional operators:",
   "metadata": {
    "id": "-mAoab2aL1WR",
    "cell_id": "00177-bf7df5b8-eaf3-4367-8cc2-1e3fcb141026",
    "deepnote_cell_type": "markdown",
    "deepnote_cell_height": 97.171875
   }
  },
  {
   "cell_type": "code",
   "metadata": {
    "id": "pAIQ7zJLL1WS",
    "outputId": "a858e864-14f1-4937-d77c-bcf81b496422",
    "cell_id": "00178-aee80add-4c94-4cbb-b181-18a383a5c234",
    "deepnote_to_be_reexecuted": false,
    "source_hash": "e11eb484",
    "execution_start": 1659773141843,
    "execution_millis": 634,
    "deepnote_cell_type": "code",
    "deepnote_cell_height": 113.1875,
    "deepnote_output_heights": [
     21.1875
    ]
   },
   "source": "b[b % 3 == 1]",
   "outputs": [
    {
     "output_type": "execute_result",
     "execution_count": 101,
     "data": {
      "text/plain": "array([ 1,  4,  7, 10, 13, 16, 19, 22, 25, 28, 31, 34, 37, 40, 43, 46])"
     },
     "metadata": {}
    }
   ],
   "execution_count": null
  },
  {
   "cell_type": "markdown",
   "source": "# Iterating\nIterating over `ndarray`s is very similar to iterating over regular python arrays. Note that iterating over multidimensional arrays is done with respect to the first axis.",
   "metadata": {
    "id": "evnxc-q3L1WS",
    "cell_id": "00179-5e5b8df1-421c-4630-9b33-665646b28747",
    "deepnote_cell_type": "markdown",
    "deepnote_cell_height": 142.78125
   }
  },
  {
   "cell_type": "code",
   "metadata": {
    "id": "UwS9BS3PL1WT",
    "outputId": "10fc4474-781c-4518-9d3c-39f9fc5e481c",
    "cell_id": "00180-15f22b0f-cea4-4b65-b50f-26a7af469e5f",
    "deepnote_to_be_reexecuted": false,
    "source_hash": "4eb1e9ac",
    "execution_start": 1659773141872,
    "execution_millis": 606,
    "deepnote_cell_type": "code",
    "deepnote_cell_height": 246.3125,
    "deepnote_output_heights": [
     136.3125
    ]
   },
   "source": "c = np.arange(24).reshape(2, 3, 4)  # A 3D array (composed of two 3x4 matrices)\nc",
   "outputs": [
    {
     "output_type": "execute_result",
     "execution_count": 102,
     "data": {
      "text/plain": "array([[[ 0,  1,  2,  3],\n        [ 4,  5,  6,  7],\n        [ 8,  9, 10, 11]],\n\n       [[12, 13, 14, 15],\n        [16, 17, 18, 19],\n        [20, 21, 22, 23]]])"
     },
     "metadata": {}
    }
   ],
   "execution_count": null
  },
  {
   "cell_type": "code",
   "metadata": {
    "id": "ZIVjmtSbL1WU",
    "outputId": "6e4a5408-fd74-4f12-85a9-398f813dbd19",
    "cell_id": "00181-85851425-d3aa-4226-bd6b-fe9741841f7a",
    "deepnote_to_be_reexecuted": false,
    "source_hash": "b2a5b72f",
    "execution_start": 1659773141873,
    "execution_millis": 0,
    "deepnote_cell_type": "code",
    "deepnote_cell_height": 284.5
   },
   "source": "for m in c:\n    print(\"Item:\")\n    print(m)",
   "outputs": [
    {
     "name": "stdout",
     "text": "Item:\n[[ 0  1  2  3]\n [ 4  5  6  7]\n [ 8  9 10 11]]\nItem:\n[[12 13 14 15]\n [16 17 18 19]\n [20 21 22 23]]\n",
     "output_type": "stream"
    }
   ],
   "execution_count": null
  },
  {
   "cell_type": "code",
   "metadata": {
    "id": "eYjND9ulL1WU",
    "outputId": "23644e40-d98d-4822-b770-702bb0e8c710",
    "cell_id": "00182-573a6b0c-9f37-48f9-b1ce-8560281f03b3",
    "deepnote_to_be_reexecuted": false,
    "source_hash": "91f5c791",
    "execution_start": 1659773141874,
    "execution_millis": 604,
    "deepnote_cell_type": "code",
    "deepnote_cell_height": 284.5
   },
   "source": "for i in range(len(c)):  # Note that len(c) == c.shape[0]\n    print(\"Item:\")\n    print(c[i])",
   "outputs": [
    {
     "name": "stdout",
     "text": "Item:\n[[ 0  1  2  3]\n [ 4  5  6  7]\n [ 8  9 10 11]]\nItem:\n[[12 13 14 15]\n [16 17 18 19]\n [20 21 22 23]]\n",
     "output_type": "stream"
    }
   ],
   "execution_count": null
  },
  {
   "cell_type": "markdown",
   "source": "If you want to iterate on *all* elements in the `ndarray`, simply iterate over the `flat` attribute:",
   "metadata": {
    "id": "l4byNNwQL1WW",
    "cell_id": "00183-3d3682bb-c666-4a07-b92e-43b203170d24",
    "deepnote_cell_type": "markdown",
    "deepnote_cell_height": 52.390625
   }
  },
  {
   "cell_type": "code",
   "metadata": {
    "id": "ZcptN6cmL1WX",
    "outputId": "5cabd9a4-4d8e-4aec-9047-08504da2deef",
    "cell_id": "00184-ad091be7-b0f2-422a-ac93-3e5406ce46b1",
    "deepnote_to_be_reexecuted": false,
    "source_hash": "4e221997",
    "execution_start": 1659773141878,
    "execution_millis": 601,
    "deepnote_cell_type": "code",
    "deepnote_cell_height": 589.5
   },
   "source": "for i in c.flat:\n    print(\"Item:\", i)",
   "outputs": [
    {
     "name": "stdout",
     "text": "Item: 0\nItem: 1\nItem: 2\nItem: 3\nItem: 4\nItem: 5\nItem: 6\nItem: 7\nItem: 8\nItem: 9\nItem: 10\nItem: 11\nItem: 12\nItem: 13\nItem: 14\nItem: 15\nItem: 16\nItem: 17\nItem: 18\nItem: 19\nItem: 20\nItem: 21\nItem: 22\nItem: 23\n",
     "output_type": "stream"
    }
   ],
   "execution_count": null
  },
  {
   "cell_type": "markdown",
   "source": "# Stacking arrays\nIt is often useful to stack together different arrays. NumPy offers several functions to do just that. Let's start by creating a few arrays.",
   "metadata": {
    "id": "A8fUle6JL1WX",
    "cell_id": "00185-150ac9a8-c4de-4b6f-80fb-73e5ecb3dfc3",
    "deepnote_cell_type": "markdown",
    "deepnote_cell_height": 142.78125
   }
  },
  {
   "cell_type": "code",
   "metadata": {
    "id": "rZ4HJMoGL1WX",
    "outputId": "61da7516-647d-4b2b-9f4d-90b694d42e14",
    "cell_id": "00186-a8d3fbd4-0d16-41c7-b7ae-48123ab99b80",
    "deepnote_to_be_reexecuted": false,
    "source_hash": "1fa598a8",
    "execution_start": 1659773141907,
    "execution_millis": 581,
    "deepnote_cell_type": "code",
    "deepnote_cell_height": 169.5625,
    "deepnote_output_heights": [
     59.5625
    ]
   },
   "source": "q1 = np.full((3,4), 1.0)\nq1",
   "outputs": [
    {
     "output_type": "execute_result",
     "execution_count": 106,
     "data": {
      "text/plain": "array([[1., 1., 1., 1.],\n       [1., 1., 1., 1.],\n       [1., 1., 1., 1.]])"
     },
     "metadata": {}
    }
   ],
   "execution_count": null
  },
  {
   "cell_type": "code",
   "metadata": {
    "id": "7BYKni9JL1WZ",
    "outputId": "34df7e70-9769-4867-b7ee-04eecceb7e73",
    "cell_id": "00187-eac46a49-d18c-4889-9b3a-923df937e35a",
    "deepnote_to_be_reexecuted": false,
    "source_hash": "353dd9d7",
    "execution_start": 1659773141908,
    "execution_millis": 580,
    "deepnote_cell_type": "code",
    "deepnote_cell_height": 188.75,
    "deepnote_output_heights": [
     78.75
    ]
   },
   "source": "q2 = np.full((4,4), 2.0)\nq2",
   "outputs": [
    {
     "output_type": "execute_result",
     "execution_count": 107,
     "data": {
      "text/plain": "array([[2., 2., 2., 2.],\n       [2., 2., 2., 2.],\n       [2., 2., 2., 2.],\n       [2., 2., 2., 2.]])"
     },
     "metadata": {}
    }
   ],
   "execution_count": null
  },
  {
   "cell_type": "code",
   "metadata": {
    "id": "yDF2K3a9L1Wa",
    "outputId": "7d3dafa8-c086-4ef0-84be-735336e19c7d",
    "cell_id": "00188-ceeb5d0a-8c21-4914-8282-00bbf6fa6bc6",
    "deepnote_to_be_reexecuted": false,
    "source_hash": "8d5c3b75",
    "execution_start": 1659773141909,
    "execution_millis": 598,
    "deepnote_cell_type": "code",
    "deepnote_cell_height": 169.5625,
    "deepnote_output_heights": [
     59.5625
    ]
   },
   "source": "q3 = np.full((3,4), 3.0)\nq3",
   "outputs": [
    {
     "output_type": "execute_result",
     "execution_count": 108,
     "data": {
      "text/plain": "array([[3., 3., 3., 3.],\n       [3., 3., 3., 3.],\n       [3., 3., 3., 3.]])"
     },
     "metadata": {}
    }
   ],
   "execution_count": null
  },
  {
   "cell_type": "markdown",
   "source": "## `vstack`\nNow let's stack them vertically using `vstack`:",
   "metadata": {
    "id": "WtVFQ1TUL1Wa",
    "cell_id": "00189-ac9dfc26-c179-4339-9ba9-a782431bf8be",
    "deepnote_cell_type": "markdown",
    "deepnote_cell_height": 108.390625
   }
  },
  {
   "cell_type": "code",
   "metadata": {
    "id": "vLiKGBK1L1Wb",
    "outputId": "7ff5e30a-7f22-4f3d-9cb1-08bfcebc009d",
    "cell_id": "00190-3d31d191-448f-452c-b79c-45c6acc55b94",
    "deepnote_to_be_reexecuted": false,
    "source_hash": "f41fdd98",
    "execution_start": 1659773141919,
    "execution_millis": 590,
    "deepnote_cell_type": "code",
    "deepnote_cell_height": 303.875,
    "deepnote_output_heights": [
     193.875
    ]
   },
   "source": "q4 = np.vstack((q1, q2, q3))\nq4",
   "outputs": [
    {
     "output_type": "execute_result",
     "execution_count": 109,
     "data": {
      "text/plain": "array([[1., 1., 1., 1.],\n       [1., 1., 1., 1.],\n       [1., 1., 1., 1.],\n       [2., 2., 2., 2.],\n       [2., 2., 2., 2.],\n       [2., 2., 2., 2.],\n       [2., 2., 2., 2.],\n       [3., 3., 3., 3.],\n       [3., 3., 3., 3.],\n       [3., 3., 3., 3.]])"
     },
     "metadata": {}
    }
   ],
   "execution_count": null
  },
  {
   "cell_type": "code",
   "metadata": {
    "id": "R8_OvYvzL1Wb",
    "outputId": "a85756e9-1818-4e68-ea74-44c5903feb26",
    "cell_id": "00191-caf28a2d-18b0-44b4-b47f-b451d553cbee",
    "deepnote_to_be_reexecuted": false,
    "source_hash": "86b4f7ea",
    "execution_start": 1659773141935,
    "execution_millis": 575,
    "deepnote_cell_type": "code",
    "deepnote_cell_height": 113.1875,
    "deepnote_output_heights": [
     21.1875
    ]
   },
   "source": "q4.shape",
   "outputs": [
    {
     "output_type": "execute_result",
     "execution_count": 110,
     "data": {
      "text/plain": "(10, 4)"
     },
     "metadata": {}
    }
   ],
   "execution_count": null
  },
  {
   "cell_type": "markdown",
   "source": "This was possible because q1, q2 and q3 all have the same shape (except for the vertical axis, but that's ok since we are stacking on that axis).\n\n## `hstack`\nWe can also stack arrays horizontally using `hstack`:",
   "metadata": {
    "id": "G-bLNGxiL1Wf",
    "cell_id": "00192-2b36e4ed-c52e-45d5-8b25-2cf1e27504bf",
    "deepnote_cell_type": "markdown",
    "deepnote_cell_height": 167.171875
   }
  },
  {
   "cell_type": "code",
   "metadata": {
    "id": "AiVl3B1XL1Wf",
    "outputId": "08fd016a-e5f9-437c-f47d-3f161d1950f1",
    "cell_id": "00193-312e8e3a-57ca-4e31-8bc0-f34bb5a90c50",
    "deepnote_to_be_reexecuted": false,
    "source_hash": "a7f5dd59",
    "execution_start": 1659773141944,
    "execution_millis": 567,
    "deepnote_cell_type": "code",
    "deepnote_cell_height": 169.5625,
    "deepnote_output_heights": [
     59.5625
    ]
   },
   "source": "q5 = np.hstack((q1, q3))\nq5",
   "outputs": [
    {
     "output_type": "execute_result",
     "execution_count": 111,
     "data": {
      "text/plain": "array([[1., 1., 1., 1., 3., 3., 3., 3.],\n       [1., 1., 1., 1., 3., 3., 3., 3.],\n       [1., 1., 1., 1., 3., 3., 3., 3.]])"
     },
     "metadata": {}
    }
   ],
   "execution_count": null
  },
  {
   "cell_type": "code",
   "metadata": {
    "id": "m-NWaiONL1Wf",
    "outputId": "7e39c76a-763d-4b17-bf1e-fd8d81bcce96",
    "cell_id": "00194-45c62123-b179-448f-99cd-e457e609c51a",
    "deepnote_to_be_reexecuted": false,
    "source_hash": "d70e30c7",
    "execution_start": 1659773141950,
    "execution_millis": 562,
    "deepnote_cell_type": "code",
    "deepnote_cell_height": 113.1875,
    "deepnote_output_heights": [
     21.1875
    ]
   },
   "source": "q5.shape",
   "outputs": [
    {
     "output_type": "execute_result",
     "execution_count": 112,
     "data": {
      "text/plain": "(3, 8)"
     },
     "metadata": {}
    }
   ],
   "execution_count": null
  },
  {
   "cell_type": "markdown",
   "source": "This is possible because q1 and q3 both have 3 rows. But since q2 has 4 rows, it cannot be stacked horizontally with q1 and q3:",
   "metadata": {
    "id": "DDZ0WMYgL1Wg",
    "cell_id": "00195-8af70bf2-c6ec-4c68-9f76-4c67e6cead7c",
    "deepnote_cell_type": "markdown",
    "deepnote_cell_height": 74.78125
   }
  },
  {
   "cell_type": "code",
   "metadata": {
    "id": "qwvH3-GoL1Wg",
    "outputId": "af309e30-d487-4f8a-9c5f-eb9214d9e891",
    "cell_id": "00196-97071ef3-155d-4eb1-a8bb-e334f2245638",
    "deepnote_to_be_reexecuted": false,
    "source_hash": "f9927c23",
    "execution_start": 1659773141977,
    "execution_millis": 537,
    "deepnote_cell_type": "code",
    "deepnote_cell_height": 165.1875
   },
   "source": "try:\n    q5 = np.hstack((q1, q2, q3))\nexcept ValueError as e:\n    print(e)",
   "outputs": [
    {
     "name": "stdout",
     "text": "all the input array dimensions for the concatenation axis must match exactly, but along dimension 0, the array at index 0 has size 3 and the array at index 1 has size 4\n",
     "output_type": "stream"
    }
   ],
   "execution_count": null
  },
  {
   "cell_type": "markdown",
   "source": "## `concatenate`\nThe `concatenate` function stacks arrays along any given existing axis.",
   "metadata": {
    "id": "XQkYdk2dL1Wg",
    "cell_id": "00197-ed936c0c-a069-42c1-8939-591f9dcd526f",
    "deepnote_cell_type": "markdown",
    "deepnote_cell_height": 108.390625
   }
  },
  {
   "cell_type": "code",
   "metadata": {
    "id": "rNlxaqVuL1Wh",
    "outputId": "c8e6d136-4ebf-4e2c-b38b-d77321c3ef0c",
    "cell_id": "00198-1709c5b1-a807-4972-a7e5-94a2271d78c9",
    "deepnote_to_be_reexecuted": false,
    "source_hash": "dd366e7d",
    "execution_start": 1659773141978,
    "execution_millis": 536,
    "deepnote_cell_type": "code",
    "deepnote_cell_height": 303.875,
    "deepnote_output_heights": [
     193.875
    ]
   },
   "source": "q7 = np.concatenate((q1, q2, q3), axis=0)  # Equivalent to vstack\nq7",
   "outputs": [
    {
     "output_type": "execute_result",
     "execution_count": 114,
     "data": {
      "text/plain": "array([[1., 1., 1., 1.],\n       [1., 1., 1., 1.],\n       [1., 1., 1., 1.],\n       [2., 2., 2., 2.],\n       [2., 2., 2., 2.],\n       [2., 2., 2., 2.],\n       [2., 2., 2., 2.],\n       [3., 3., 3., 3.],\n       [3., 3., 3., 3.],\n       [3., 3., 3., 3.]])"
     },
     "metadata": {}
    }
   ],
   "execution_count": null
  },
  {
   "cell_type": "code",
   "metadata": {
    "id": "ipFK8vi3L1Wh",
    "outputId": "99d10193-326c-458a-8639-f13c20927671",
    "cell_id": "00199-68aaeda4-a838-48b8-801e-e2691571c305",
    "deepnote_to_be_reexecuted": false,
    "source_hash": "7b9a719e",
    "execution_start": 1659773141979,
    "execution_millis": 2,
    "deepnote_cell_type": "code",
    "deepnote_cell_height": 113.1875,
    "deepnote_output_heights": [
     21.1875
    ]
   },
   "source": "q7.shape",
   "outputs": [
    {
     "output_type": "execute_result",
     "execution_count": 115,
     "data": {
      "text/plain": "(10, 4)"
     },
     "metadata": {}
    }
   ],
   "execution_count": null
  },
  {
   "cell_type": "markdown",
   "source": "As you might guess, `hstack` is equivalent to calling `concatenate` with `axis=1`.",
   "metadata": {
    "id": "a0m-UgNnL1Wh",
    "cell_id": "00200-fc615a26-ac87-4299-8a69-099d56cbac6f",
    "deepnote_cell_type": "markdown",
    "deepnote_cell_height": 52.390625
   }
  },
  {
   "cell_type": "markdown",
   "source": "## `stack`\nThe `stack` function stacks arrays along a new axis. All arrays have to have the same shape.",
   "metadata": {
    "id": "t9vcofVgL1Wi",
    "cell_id": "00201-c213eb00-eea0-4a5c-a246-84d3378432b6",
    "deepnote_cell_type": "markdown",
    "deepnote_cell_height": 108.390625
   }
  },
  {
   "cell_type": "code",
   "metadata": {
    "id": "569cYu9oL1Wi",
    "outputId": "7d2ce56c-3d62-4570-d46e-0832ab2a3445",
    "cell_id": "00202-d30c341c-e0f6-4e9b-a845-b59562c0c7bc",
    "deepnote_to_be_reexecuted": false,
    "source_hash": "aebbeb99",
    "execution_start": 1659773141982,
    "execution_millis": 533,
    "deepnote_cell_type": "code",
    "deepnote_cell_height": 246.3125,
    "deepnote_output_heights": [
     136.3125
    ]
   },
   "source": "q8 = np.stack((q1, q3))\nq8",
   "outputs": [
    {
     "output_type": "execute_result",
     "execution_count": 116,
     "data": {
      "text/plain": "array([[[1., 1., 1., 1.],\n        [1., 1., 1., 1.],\n        [1., 1., 1., 1.]],\n\n       [[3., 3., 3., 3.],\n        [3., 3., 3., 3.],\n        [3., 3., 3., 3.]]])"
     },
     "metadata": {}
    }
   ],
   "execution_count": null
  },
  {
   "cell_type": "code",
   "metadata": {
    "id": "ZTdFumWOL1Wi",
    "outputId": "094c9af9-4f0c-49eb-aeb5-3ea8737529b6",
    "cell_id": "00203-cb06fda5-105c-44c8-8e3b-83f4f545a109",
    "deepnote_to_be_reexecuted": false,
    "source_hash": "f9e305d8",
    "execution_start": 1659773141990,
    "execution_millis": 526,
    "deepnote_cell_type": "code",
    "deepnote_cell_height": 113.1875,
    "deepnote_output_heights": [
     21.1875
    ]
   },
   "source": "q8.shape",
   "outputs": [
    {
     "output_type": "execute_result",
     "execution_count": 117,
     "data": {
      "text/plain": "(2, 3, 4)"
     },
     "metadata": {}
    }
   ],
   "execution_count": null
  },
  {
   "cell_type": "markdown",
   "source": "# Splitting arrays\nSplitting is the opposite of stacking. For example, let's use the `vsplit` function to split a matrix vertically.\n\nFirst let's create a 6x4 matrix:",
   "metadata": {
    "id": "bY2-mpPrL1Wj",
    "cell_id": "00204-1a227ece-1645-43e9-984d-3702db74012d",
    "deepnote_cell_type": "markdown",
    "deepnote_cell_height": 179.171875
   }
  },
  {
   "cell_type": "code",
   "metadata": {
    "id": "4oTkVmWoL1Wj",
    "outputId": "1b42b157-9111-4ac4-9c40-cc770f56c6cf",
    "cell_id": "00205-0b9693a0-0a25-4c00-87af-b56d8eb3c307",
    "deepnote_to_be_reexecuted": false,
    "source_hash": "22aec5a6",
    "execution_start": 1659773142002,
    "execution_millis": 515,
    "deepnote_cell_type": "code",
    "deepnote_cell_height": 227.125,
    "deepnote_output_heights": [
     117.125
    ]
   },
   "source": "r = np.arange(24).reshape(6,4)\nr",
   "outputs": [
    {
     "output_type": "execute_result",
     "execution_count": 118,
     "data": {
      "text/plain": "array([[ 0,  1,  2,  3],\n       [ 4,  5,  6,  7],\n       [ 8,  9, 10, 11],\n       [12, 13, 14, 15],\n       [16, 17, 18, 19],\n       [20, 21, 22, 23]])"
     },
     "metadata": {}
    }
   ],
   "execution_count": null
  },
  {
   "cell_type": "markdown",
   "source": "Now let's split it in three equal parts, vertically:",
   "metadata": {
    "id": "Iu9fqZUYL1Wj",
    "cell_id": "00206-dce88add-3b6f-4bc8-b189-1b0d657dc421",
    "deepnote_cell_type": "markdown",
    "deepnote_cell_height": 52.390625
   }
  },
  {
   "cell_type": "code",
   "metadata": {
    "id": "ATJrW6gxL1Wj",
    "outputId": "fcaac954-bac8-4156-9248-838ae74cec9b",
    "cell_id": "00207-c6cdd5bc-d117-4350-9469-1a1a0f2a9d18",
    "deepnote_to_be_reexecuted": false,
    "source_hash": "4184ac3",
    "execution_start": 1659773142018,
    "deepnote_cell_type": "code",
    "deepnote_cell_height": 150.375,
    "deepnote_output_heights": [
     40.375
    ]
   },
   "source": "r1, r2, r3 = np.vsplit(r, 3)\nr1",
   "outputs": [
    {
     "output_type": "execute_result",
     "execution_count": 119,
     "data": {
      "text/plain": "array([[0, 1, 2, 3],\n       [4, 5, 6, 7]])"
     },
     "metadata": {}
    }
   ],
   "execution_count": null
  },
  {
   "cell_type": "code",
   "metadata": {
    "id": "Pzdw3VagL1Wk",
    "outputId": "16fe2577-9891-4494-9a0d-eac57e1f4f8a",
    "cell_id": "00208-ef634a6c-943a-4106-aea6-3395a6aaf9d3",
    "deepnote_to_be_reexecuted": false,
    "source_hash": "750d6cb9",
    "execution_start": 1659773142051,
    "execution_millis": 467,
    "deepnote_cell_type": "code",
    "deepnote_cell_height": 132.375,
    "deepnote_output_heights": [
     40.375
    ]
   },
   "source": "r2",
   "outputs": [
    {
     "output_type": "execute_result",
     "execution_count": 120,
     "data": {
      "text/plain": "array([[ 8,  9, 10, 11],\n       [12, 13, 14, 15]])"
     },
     "metadata": {}
    }
   ],
   "execution_count": null
  },
  {
   "cell_type": "code",
   "metadata": {
    "id": "J0HwdfR-L1Wk",
    "outputId": "11f81e57-1873-4fc0-8046-5a1ffd7f4581",
    "cell_id": "00209-275c7a96-fe86-4f08-a31c-9dc58724629c",
    "deepnote_to_be_reexecuted": false,
    "source_hash": "26f19b25",
    "execution_start": 1659773142053,
    "execution_millis": 466,
    "deepnote_cell_type": "code",
    "deepnote_cell_height": 132.375,
    "deepnote_output_heights": [
     40.375
    ]
   },
   "source": "r3",
   "outputs": [
    {
     "output_type": "execute_result",
     "execution_count": 121,
     "data": {
      "text/plain": "array([[16, 17, 18, 19],\n       [20, 21, 22, 23]])"
     },
     "metadata": {}
    }
   ],
   "execution_count": null
  },
  {
   "cell_type": "markdown",
   "source": "There is also a `split` function which splits an array along any given axis. Calling `vsplit` is equivalent to calling `split` with `axis=0`. There is also an `hsplit` function, equivalent to calling `split` with `axis=1`:",
   "metadata": {
    "id": "2dW768q6L1Wl",
    "cell_id": "00210-111d5b07-2f65-441f-aed0-840f78a4c334",
    "deepnote_cell_type": "markdown",
    "deepnote_cell_height": 97.171875
   }
  },
  {
   "cell_type": "code",
   "metadata": {
    "id": "4cUgt75DL1Wl",
    "outputId": "cfd81c9e-1d61-4fcb-98b2-3f4c9b01b973",
    "cell_id": "00211-b00574fb-76be-44cd-81b1-d38917d2343a",
    "deepnote_to_be_reexecuted": false,
    "source_hash": "53d87c8b",
    "execution_start": 1659773142054,
    "execution_millis": 465,
    "deepnote_cell_type": "code",
    "deepnote_cell_height": 227.125,
    "deepnote_output_heights": [
     117.125
    ]
   },
   "source": "r4, r5 = np.hsplit(r, 2)\nr4",
   "outputs": [
    {
     "output_type": "execute_result",
     "execution_count": 122,
     "data": {
      "text/plain": "array([[ 0,  1],\n       [ 4,  5],\n       [ 8,  9],\n       [12, 13],\n       [16, 17],\n       [20, 21]])"
     },
     "metadata": {}
    }
   ],
   "execution_count": null
  },
  {
   "cell_type": "code",
   "metadata": {
    "id": "Cf9uOXpTL1Wl",
    "outputId": "3b02379a-732b-458a-c6b0-73cbe54b243c",
    "cell_id": "00212-6171d983-ca09-450a-9b6c-4cb3cbbf6214",
    "deepnote_to_be_reexecuted": false,
    "source_hash": "a19349dc",
    "execution_start": 1659773142056,
    "execution_millis": 464,
    "deepnote_cell_type": "code",
    "deepnote_cell_height": 209.125,
    "deepnote_output_heights": [
     117.125
    ]
   },
   "source": "r5",
   "outputs": [
    {
     "output_type": "execute_result",
     "execution_count": 123,
     "data": {
      "text/plain": "array([[ 2,  3],\n       [ 6,  7],\n       [10, 11],\n       [14, 15],\n       [18, 19],\n       [22, 23]])"
     },
     "metadata": {}
    }
   ],
   "execution_count": null
  },
  {
   "cell_type": "markdown",
   "source": "# Transposing arrays\nThe `transpose` method creates a new view on an `ndarray`'s data, with axes permuted in the given order.\n\nFor example, let's create a 3D array:",
   "metadata": {
    "id": "QqxmNbEqL1Wl",
    "cell_id": "00213-18bd050e-51ec-43f7-b1d9-8737ae8130c8",
    "deepnote_cell_type": "markdown",
    "deepnote_cell_height": 179.171875
   }
  },
  {
   "cell_type": "code",
   "metadata": {
    "id": "fIeHmY5XL1Wn",
    "outputId": "82ea5b16-cabe-43c5-8d99-5011f079be29",
    "cell_id": "00214-dfd0258c-74f0-43b1-aac7-93391aaca864",
    "deepnote_to_be_reexecuted": false,
    "source_hash": "68ae1ef4",
    "execution_start": 1659773142087,
    "execution_millis": 434,
    "deepnote_cell_type": "code",
    "deepnote_cell_height": 323.0625,
    "deepnote_output_heights": [
     213.0625
    ]
   },
   "source": "t = np.arange(24).reshape(4,2,3)\nt",
   "outputs": [
    {
     "output_type": "execute_result",
     "execution_count": 124,
     "data": {
      "text/plain": "array([[[ 0,  1,  2],\n        [ 3,  4,  5]],\n\n       [[ 6,  7,  8],\n        [ 9, 10, 11]],\n\n       [[12, 13, 14],\n        [15, 16, 17]],\n\n       [[18, 19, 20],\n        [21, 22, 23]]])"
     },
     "metadata": {}
    }
   ],
   "execution_count": null
  },
  {
   "cell_type": "markdown",
   "source": "Now let's create an `ndarray` such that the axes `0, 1, 2` (depth, height, width) are re-ordered to `1, 2, 0` (depth→width, height→depth, width→height):",
   "metadata": {
    "id": "_xk260ibL1Wn",
    "cell_id": "00215-9d664b7d-fbc4-4d27-ae8c-d27225acbf1f",
    "deepnote_cell_type": "markdown",
    "deepnote_cell_height": 74.78125
   }
  },
  {
   "cell_type": "code",
   "metadata": {
    "id": "50-r4Km0L1Wp",
    "outputId": "328202ef-8d74-4c8e-e9ba-e1327b7b8843",
    "cell_id": "00216-cf30fe01-4262-4966-aca3-361c343f6095",
    "deepnote_to_be_reexecuted": false,
    "source_hash": "7c664af3",
    "execution_start": 1659773142089,
    "execution_millis": 433,
    "deepnote_cell_type": "code",
    "deepnote_cell_height": 246.3125,
    "deepnote_output_heights": [
     136.3125
    ]
   },
   "source": "t1 = t.transpose((1,2,0))\nt1",
   "outputs": [
    {
     "output_type": "execute_result",
     "execution_count": 125,
     "data": {
      "text/plain": "array([[[ 0,  6, 12, 18],\n        [ 1,  7, 13, 19],\n        [ 2,  8, 14, 20]],\n\n       [[ 3,  9, 15, 21],\n        [ 4, 10, 16, 22],\n        [ 5, 11, 17, 23]]])"
     },
     "metadata": {}
    }
   ],
   "execution_count": null
  },
  {
   "cell_type": "code",
   "metadata": {
    "id": "606oEgKuL1Wr",
    "outputId": "658239a9-510d-4272-924f-1c89a8361a4e",
    "cell_id": "00217-3db7f0bf-7091-4916-bf77-bc29ebb28321",
    "deepnote_to_be_reexecuted": false,
    "source_hash": "210ea913",
    "execution_start": 1659773142090,
    "execution_millis": 432,
    "deepnote_cell_type": "code",
    "deepnote_cell_height": 113.1875,
    "deepnote_output_heights": [
     21.1875
    ]
   },
   "source": "t1.shape",
   "outputs": [
    {
     "output_type": "execute_result",
     "execution_count": 126,
     "data": {
      "text/plain": "(2, 3, 4)"
     },
     "metadata": {}
    }
   ],
   "execution_count": null
  },
  {
   "cell_type": "markdown",
   "source": "By default, `transpose` reverses the order of the dimensions:",
   "metadata": {
    "id": "SY6CS7RkL1Ws",
    "cell_id": "00218-edd1f746-9c2c-4637-8d67-44b6215f1973",
    "deepnote_cell_type": "markdown",
    "deepnote_cell_height": 52.390625
   }
  },
  {
   "cell_type": "code",
   "metadata": {
    "id": "SmTzSew6L1Wt",
    "outputId": "33ee2bea-4067-43c6-ae93-ca8f2150e4ad",
    "cell_id": "00219-febe471f-9456-4f32-8109-d6cd899e3fd8",
    "deepnote_to_be_reexecuted": false,
    "source_hash": "7eb38748",
    "execution_start": 1659773142093,
    "execution_millis": 430,
    "deepnote_cell_type": "code",
    "deepnote_cell_height": 265.5,
    "deepnote_output_heights": [
     155.5
    ]
   },
   "source": "t2 = t.transpose()  # equivalent to t.transpose((2, 1, 0))\nt2",
   "outputs": [
    {
     "output_type": "execute_result",
     "execution_count": 127,
     "data": {
      "text/plain": "array([[[ 0,  6, 12, 18],\n        [ 3,  9, 15, 21]],\n\n       [[ 1,  7, 13, 19],\n        [ 4, 10, 16, 22]],\n\n       [[ 2,  8, 14, 20],\n        [ 5, 11, 17, 23]]])"
     },
     "metadata": {}
    }
   ],
   "execution_count": null
  },
  {
   "cell_type": "code",
   "metadata": {
    "id": "rYJovMEPL1Wv",
    "outputId": "4e097ef6-308d-42b3-b88e-f8ef09c6b042",
    "cell_id": "00220-8357d3b4-e8ef-4377-92fc-0779ce23711b",
    "deepnote_to_be_reexecuted": false,
    "source_hash": "9916466",
    "execution_start": 1659773142134,
    "execution_millis": 390,
    "deepnote_cell_type": "code",
    "deepnote_cell_height": 113.1875,
    "deepnote_output_heights": [
     21.1875
    ]
   },
   "source": "t2.shape",
   "outputs": [
    {
     "output_type": "execute_result",
     "execution_count": 128,
     "data": {
      "text/plain": "(3, 2, 4)"
     },
     "metadata": {}
    }
   ],
   "execution_count": null
  },
  {
   "cell_type": "markdown",
   "source": "NumPy provides a convenience function `swapaxes` to swap two axes. For example, let's create a new view of `t` with depth and height swapped:",
   "metadata": {
    "id": "m-YvzqI5L1Ww",
    "cell_id": "00221-8685e7f9-1db0-4e7a-99eb-1778e3c011ac",
    "deepnote_cell_type": "markdown",
    "deepnote_cell_height": 74.78125
   }
  },
  {
   "cell_type": "code",
   "metadata": {
    "id": "i9vG9cXPL1Ww",
    "outputId": "a6329d5f-3a22-4b78-d00f-b8117eed24e6",
    "cell_id": "00222-3999dc12-e1c9-4488-b037-2a0d9a38be45",
    "deepnote_to_be_reexecuted": false,
    "source_hash": "8f9a993",
    "execution_start": 1659773142136,
    "execution_millis": 389,
    "deepnote_cell_type": "code",
    "deepnote_cell_height": 284.6875,
    "deepnote_output_heights": [
     174.6875
    ]
   },
   "source": "t3 = t.swapaxes(0,1)  # equivalent to t.transpose((1, 0, 2))\nt3",
   "outputs": [
    {
     "output_type": "execute_result",
     "execution_count": 129,
     "data": {
      "text/plain": "array([[[ 0,  1,  2],\n        [ 6,  7,  8],\n        [12, 13, 14],\n        [18, 19, 20]],\n\n       [[ 3,  4,  5],\n        [ 9, 10, 11],\n        [15, 16, 17],\n        [21, 22, 23]]])"
     },
     "metadata": {}
    }
   ],
   "execution_count": null
  },
  {
   "cell_type": "code",
   "metadata": {
    "id": "RXaUwTJGL1Wx",
    "outputId": "2c46a821-cd1f-4825-e797-bd6bde3af4d1",
    "cell_id": "00223-e0276bb2-4ac5-49c7-979e-ac77131e33fc",
    "deepnote_to_be_reexecuted": false,
    "source_hash": "9928aebd",
    "execution_start": 1659773142137,
    "execution_millis": 0,
    "deepnote_cell_type": "code",
    "deepnote_cell_height": 113.1875,
    "deepnote_output_heights": [
     21.1875
    ]
   },
   "source": "t3.shape",
   "outputs": [
    {
     "output_type": "execute_result",
     "execution_count": 130,
     "data": {
      "text/plain": "(2, 4, 3)"
     },
     "metadata": {}
    }
   ],
   "execution_count": null
  },
  {
   "cell_type": "markdown",
   "source": "# Linear algebra\nNumPy 2D arrays can be used to represent matrices efficiently in python. We will just quickly go through some of the main matrix operations available. For more details about Linear Algebra, vectors and matrics, go through the [Linear Algebra tutorial](math_linear_algebra.ipynb).\n\n## Matrix transpose\nThe `T` attribute is equivalent to calling `transpose()` when the rank is ≥2:",
   "metadata": {
    "id": "_75HVmFCL1Wy",
    "cell_id": "00224-f16e951e-d5d9-4e75-813e-924c45728521",
    "deepnote_cell_type": "markdown",
    "deepnote_cell_height": 257.5625
   }
  },
  {
   "cell_type": "code",
   "metadata": {
    "id": "GEIkLkgvL1Wz",
    "outputId": "faa6d830-b961-4390-aa51-b5f533993bc4",
    "cell_id": "00225-6142e915-3a88-4233-ab16-6fbcd9080762",
    "deepnote_to_be_reexecuted": false,
    "source_hash": "5646c55c",
    "execution_start": 1659773142150,
    "execution_millis": 377,
    "deepnote_cell_type": "code",
    "deepnote_cell_height": 150.375,
    "deepnote_output_heights": [
     40.375
    ]
   },
   "source": "m1 = np.arange(10).reshape(2,5)\nm1",
   "outputs": [
    {
     "output_type": "execute_result",
     "execution_count": 131,
     "data": {
      "text/plain": "array([[0, 1, 2, 3, 4],\n       [5, 6, 7, 8, 9]])"
     },
     "metadata": {}
    }
   ],
   "execution_count": null
  },
  {
   "cell_type": "code",
   "metadata": {
    "id": "NYnay26LL1Wz",
    "outputId": "f7897204-b909-4bc4-83d3-d40c2f1137a2",
    "cell_id": "00226-693b343c-75b3-49b7-a135-7b86825febcd",
    "deepnote_to_be_reexecuted": false,
    "source_hash": "30a6085f",
    "execution_start": 1659773142154,
    "execution_millis": 373,
    "deepnote_cell_type": "code",
    "deepnote_cell_height": 189.9375,
    "deepnote_output_heights": [
     97.9375
    ]
   },
   "source": "m1.T",
   "outputs": [
    {
     "output_type": "execute_result",
     "execution_count": 132,
     "data": {
      "text/plain": "array([[0, 5],\n       [1, 6],\n       [2, 7],\n       [3, 8],\n       [4, 9]])"
     },
     "metadata": {}
    }
   ],
   "execution_count": null
  },
  {
   "cell_type": "markdown",
   "source": "The `T` attribute has no effect on rank 0 (empty) or rank 1 arrays:",
   "metadata": {
    "id": "E-LFAVc1L1W4",
    "cell_id": "00227-1ba63e44-9095-4768-b805-021eab5a12b8",
    "deepnote_cell_type": "markdown",
    "deepnote_cell_height": 52.390625
   }
  },
  {
   "cell_type": "code",
   "metadata": {
    "scrolled": true,
    "id": "MDSdqu_ML1W9",
    "outputId": "4098b609-fb64-4731-f090-ef75a1f7b191",
    "cell_id": "00228-e9da75ce-8778-439b-9098-789e95f4643b",
    "deepnote_to_be_reexecuted": false,
    "source_hash": "3ba56581",
    "execution_start": 1659773142170,
    "execution_millis": 358,
    "deepnote_cell_type": "code",
    "deepnote_cell_height": 131.1875,
    "deepnote_output_heights": [
     21.1875
    ]
   },
   "source": "m2 = np.arange(5)\nm2",
   "outputs": [
    {
     "output_type": "execute_result",
     "execution_count": 133,
     "data": {
      "text/plain": "array([0, 1, 2, 3, 4])"
     },
     "metadata": {}
    }
   ],
   "execution_count": null
  },
  {
   "cell_type": "code",
   "metadata": {
    "scrolled": true,
    "id": "1w_3v17dL1W-",
    "outputId": "cbea29ca-2b95-4fbd-ac14-46eaf9f69e4b",
    "cell_id": "00229-7b7c0124-5a33-47cb-a471-7213da20e6a0",
    "deepnote_to_be_reexecuted": false,
    "source_hash": "285a852f",
    "execution_start": 1659773142173,
    "execution_millis": 356,
    "deepnote_cell_type": "code",
    "deepnote_cell_height": 113.1875,
    "deepnote_output_heights": [
     21.1875
    ]
   },
   "source": "m2.T",
   "outputs": [
    {
     "output_type": "execute_result",
     "execution_count": 134,
     "data": {
      "text/plain": "array([0, 1, 2, 3, 4])"
     },
     "metadata": {}
    }
   ],
   "execution_count": null
  },
  {
   "cell_type": "markdown",
   "source": "We can get the desired transposition by first reshaping the 1D array to a single-row matrix (2D):",
   "metadata": {
    "id": "AyNjZjlJL1W_",
    "cell_id": "00230-5088a90b-8a50-446a-b55e-8085a4f7c740",
    "deepnote_cell_type": "markdown",
    "deepnote_cell_height": 52.390625
   }
  },
  {
   "cell_type": "code",
   "metadata": {
    "id": "uPfOiFjVL1XB",
    "outputId": "ad4905fe-f7cf-4427-d3f0-c4c5fa43cc8c",
    "cell_id": "00231-4f8e4c73-8c8a-4b14-8f1e-ad900c885c58",
    "deepnote_to_be_reexecuted": false,
    "source_hash": "59c55697",
    "execution_start": 1659773142174,
    "execution_millis": 358,
    "deepnote_cell_type": "code",
    "deepnote_cell_height": 131.1875,
    "deepnote_output_heights": [
     21.1875
    ]
   },
   "source": "m2r = m2.reshape(1,5)\nm2r",
   "outputs": [
    {
     "output_type": "execute_result",
     "execution_count": 135,
     "data": {
      "text/plain": "array([[0, 1, 2, 3, 4]])"
     },
     "metadata": {}
    }
   ],
   "execution_count": null
  },
  {
   "cell_type": "code",
   "metadata": {
    "id": "Z9-K4w54L1XC",
    "outputId": "ce8e5c7f-c801-4ee5-eb6c-704303223be2",
    "cell_id": "00232-bb31e199-0a6a-4fae-ab64-731f28077b72",
    "deepnote_to_be_reexecuted": false,
    "source_hash": "27d86022",
    "execution_start": 1659773142178,
    "execution_millis": 355,
    "deepnote_cell_type": "code",
    "deepnote_cell_height": 189.9375,
    "deepnote_output_heights": [
     97.9375
    ]
   },
   "source": "m2r.T",
   "outputs": [
    {
     "output_type": "execute_result",
     "execution_count": 136,
     "data": {
      "text/plain": "array([[0],\n       [1],\n       [2],\n       [3],\n       [4]])"
     },
     "metadata": {}
    }
   ],
   "execution_count": null
  },
  {
   "cell_type": "markdown",
   "source": "## Matrix multiplication\nLet's create two matrices and execute a [matrix multiplication](https://en.wikipedia.org/wiki/Matrix_multiplication) using the `dot()` method.",
   "metadata": {
    "id": "tcCxlyPAL1XC",
    "cell_id": "00233-3986779c-9207-4d2d-a6a2-aaf32f310752",
    "deepnote_cell_type": "markdown",
    "deepnote_cell_height": 108.390625
   }
  },
  {
   "cell_type": "code",
   "metadata": {
    "id": "ddsWcSfhL1XD",
    "outputId": "0e2a4ae9-f3e4-4d22-8197-01c27a916dc6",
    "cell_id": "00234-0fa45a4e-e6b4-4fe2-b524-4c59a644cfd1",
    "deepnote_to_be_reexecuted": false,
    "source_hash": "3f95c07b",
    "execution_start": 1659773142185,
    "execution_millis": 349,
    "deepnote_cell_type": "code",
    "deepnote_cell_height": 150.375,
    "deepnote_output_heights": [
     40.375
    ]
   },
   "source": "n1 = np.arange(10).reshape(2, 5)\nn1",
   "outputs": [
    {
     "output_type": "execute_result",
     "execution_count": 137,
     "data": {
      "text/plain": "array([[0, 1, 2, 3, 4],\n       [5, 6, 7, 8, 9]])"
     },
     "metadata": {}
    }
   ],
   "execution_count": null
  },
  {
   "cell_type": "code",
   "metadata": {
    "id": "mV-NIdeSL1XE",
    "outputId": "79d760fa-9172-4b97-fd08-b538447f1e61",
    "cell_id": "00235-dbd3743b-a196-45dc-87f7-743f54af16ee",
    "deepnote_to_be_reexecuted": false,
    "source_hash": "e8446ed7",
    "execution_start": 1659773142194,
    "execution_millis": 340,
    "deepnote_cell_type": "code",
    "deepnote_cell_height": 207.9375,
    "deepnote_output_heights": [
     97.9375
    ]
   },
   "source": "n2 = np.arange(15).reshape(5,3)\nn2",
   "outputs": [
    {
     "output_type": "execute_result",
     "execution_count": 138,
     "data": {
      "text/plain": "array([[ 0,  1,  2],\n       [ 3,  4,  5],\n       [ 6,  7,  8],\n       [ 9, 10, 11],\n       [12, 13, 14]])"
     },
     "metadata": {}
    }
   ],
   "execution_count": null
  },
  {
   "cell_type": "code",
   "metadata": {
    "id": "vFH0zaeCL1XF",
    "outputId": "8b4f229a-92c7-40e2-9730-db32def6ed32",
    "cell_id": "00236-945e7dfe-7ab8-44de-9e94-36495b586cdc",
    "deepnote_to_be_reexecuted": false,
    "source_hash": "ec8c6bf2",
    "execution_start": 1659773142203,
    "execution_millis": 332,
    "deepnote_cell_type": "code",
    "deepnote_cell_height": 132.375,
    "deepnote_output_heights": [
     40.375
    ]
   },
   "source": "n1.dot(n2)",
   "outputs": [
    {
     "output_type": "execute_result",
     "execution_count": 139,
     "data": {
      "text/plain": "array([[ 90, 100, 110],\n       [240, 275, 310]])"
     },
     "metadata": {}
    }
   ],
   "execution_count": null
  },
  {
   "cell_type": "markdown",
   "source": "**Caution**: as mentionned previously, `n1*n2` is *not* a matric multiplication, it is an elementwise product (also called a [Hadamard product](https://en.wikipedia.org/wiki/Hadamard_product_(matrices))).",
   "metadata": {
    "id": "Zyg8qddkL1XG",
    "cell_id": "00237-75edd147-2b97-4f8e-ac5d-f49e5457e615",
    "deepnote_cell_type": "markdown",
    "deepnote_cell_height": 74.78125
   }
  },
  {
   "cell_type": "markdown",
   "source": "## Matrix inverse and pseudo-inverse\nMany of the linear algebra functions are available in the `numpy.linalg` module, in particular the `inv` function to compute a square matrix's inverse:",
   "metadata": {
    "id": "XWVf0yQFL1XG",
    "cell_id": "00238-f2a4a7af-5e9b-4513-81ca-4cb3ef0d10c2",
    "deepnote_cell_type": "markdown",
    "deepnote_cell_height": 130.78125
   }
  },
  {
   "cell_type": "code",
   "metadata": {
    "id": "XV2wD73DL1XH",
    "outputId": "8f67b3bf-d278-4422-d3ee-123b7a13006c",
    "cell_id": "00239-5142f92f-fc13-4261-a3e2-e5fca46234cf",
    "deepnote_to_be_reexecuted": false,
    "source_hash": "a032c90d",
    "execution_start": 1659773142211,
    "execution_millis": 325,
    "deepnote_cell_type": "code",
    "deepnote_cell_height": 205.5625,
    "deepnote_output_heights": [
     59.5625
    ]
   },
   "source": "import numpy.linalg as linalg\n\nm3 = np.array([[1,2,3],[5,7,11],[21,29,31]])\nm3",
   "outputs": [
    {
     "output_type": "execute_result",
     "execution_count": 140,
     "data": {
      "text/plain": "array([[ 1,  2,  3],\n       [ 5,  7, 11],\n       [21, 29, 31]])"
     },
     "metadata": {}
    }
   ],
   "execution_count": null
  },
  {
   "cell_type": "code",
   "metadata": {
    "id": "_ozOUhiFL1XH",
    "outputId": "5ba5c65a-219a-4cf6-efae-20c455c86ccc",
    "cell_id": "00240-53dd7ef5-b446-4dcc-a568-72ca281cb75a",
    "deepnote_to_be_reexecuted": false,
    "source_hash": "4c9dd55f",
    "execution_start": 1659773142245,
    "execution_millis": 292,
    "deepnote_cell_type": "code",
    "deepnote_cell_height": 151.5625,
    "deepnote_output_heights": [
     59.5625
    ]
   },
   "source": "linalg.inv(m3)",
   "outputs": [
    {
     "output_type": "execute_result",
     "execution_count": 141,
     "data": {
      "text/plain": "array([[-2.31818182,  0.56818182,  0.02272727],\n       [ 1.72727273, -0.72727273,  0.09090909],\n       [-0.04545455,  0.29545455, -0.06818182]])"
     },
     "metadata": {}
    }
   ],
   "execution_count": null
  },
  {
   "cell_type": "markdown",
   "source": "You can also compute the [pseudoinverse](https://en.wikipedia.org/wiki/Moore%E2%80%93Penrose_pseudoinverse) using `pinv`:",
   "metadata": {
    "id": "MX02l0tbL1XJ",
    "cell_id": "00241-a43c8fab-8a39-4157-b83c-79fc650f3608",
    "deepnote_cell_type": "markdown",
    "deepnote_cell_height": 52.390625
   }
  },
  {
   "cell_type": "code",
   "metadata": {
    "id": "yPSiUGodL1XJ",
    "outputId": "0846b872-9c8a-4a4a-8165-3010f05c4d12",
    "cell_id": "00242-96f23d83-627b-4c78-8381-a421feeb3f6c",
    "deepnote_to_be_reexecuted": false,
    "source_hash": "d972619d",
    "execution_start": 1659773142259,
    "execution_millis": 279,
    "deepnote_cell_type": "code",
    "deepnote_cell_height": 151.5625,
    "deepnote_output_heights": [
     59.5625
    ]
   },
   "source": "linalg.pinv(m3)",
   "outputs": [
    {
     "output_type": "execute_result",
     "execution_count": 142,
     "data": {
      "text/plain": "array([[-2.31818182,  0.56818182,  0.02272727],\n       [ 1.72727273, -0.72727273,  0.09090909],\n       [-0.04545455,  0.29545455, -0.06818182]])"
     },
     "metadata": {}
    }
   ],
   "execution_count": null
  },
  {
   "cell_type": "markdown",
   "source": "## Identity matrix\nThe product of a matrix by its inverse returns the identiy matrix (with small floating point errors):",
   "metadata": {
    "id": "rGGaYYchL1XM",
    "cell_id": "00243-f36ecabe-1932-4e10-a79e-9c3f0d0f7fb3",
    "deepnote_cell_type": "markdown",
    "deepnote_cell_height": 108.390625
   }
  },
  {
   "cell_type": "code",
   "metadata": {
    "id": "zQBqA4OfL1XO",
    "outputId": "89985696-afeb-4835-e7ba-76daf368e33a",
    "cell_id": "00244-89253476-ae70-47e2-b795-1f48afc1fdc9",
    "deepnote_to_be_reexecuted": false,
    "source_hash": "26247ef9",
    "execution_start": 1659773142324,
    "execution_millis": 215,
    "deepnote_cell_type": "code",
    "deepnote_cell_height": 151.5625,
    "deepnote_output_heights": [
     59.5625
    ]
   },
   "source": "m3.dot(linalg.inv(m3))",
   "outputs": [
    {
     "output_type": "execute_result",
     "execution_count": 143,
     "data": {
      "text/plain": "array([[ 1.00000000e+00, -1.66533454e-16,  0.00000000e+00],\n       [ 6.31439345e-16,  1.00000000e+00, -1.38777878e-16],\n       [ 5.21110932e-15, -2.38697950e-15,  1.00000000e+00]])"
     },
     "metadata": {}
    }
   ],
   "execution_count": null
  },
  {
   "cell_type": "markdown",
   "source": "You can create an identity matrix of size NxN by calling `eye`:",
   "metadata": {
    "id": "Nt5ZkUsUL1XP",
    "cell_id": "00245-a432d8b0-98b7-4e8d-bfcb-39a08ab267f3",
    "deepnote_cell_type": "markdown",
    "deepnote_cell_height": 52.390625
   }
  },
  {
   "cell_type": "code",
   "metadata": {
    "id": "SfaQY58DL1XP",
    "outputId": "ec9084d3-1c6c-4720-adad-8831c6bebb65",
    "cell_id": "00246-eaa45766-e52d-45f8-a734-7ca0890838d8",
    "deepnote_to_be_reexecuted": false,
    "source_hash": "eca04a3e",
    "execution_start": 1659773142328,
    "execution_millis": 213,
    "deepnote_cell_type": "code",
    "deepnote_cell_height": 151.5625,
    "deepnote_output_heights": [
     59.5625
    ]
   },
   "source": "np.eye(3)",
   "outputs": [
    {
     "output_type": "execute_result",
     "execution_count": 144,
     "data": {
      "text/plain": "array([[1., 0., 0.],\n       [0., 1., 0.],\n       [0., 0., 1.]])"
     },
     "metadata": {}
    }
   ],
   "execution_count": null
  },
  {
   "cell_type": "markdown",
   "source": "## QR decomposition\nThe `qr` function computes the [QR decomposition](https://en.wikipedia.org/wiki/QR_decomposition) of a matrix:",
   "metadata": {
    "id": "kjTOldsAL1XQ",
    "cell_id": "00247-1c0e938e-7ae2-455d-a1fe-85bbd45227dc",
    "deepnote_cell_type": "markdown",
    "deepnote_cell_height": 108.390625
   }
  },
  {
   "cell_type": "code",
   "metadata": {
    "id": "TD-qJimAL1XT",
    "outputId": "78d90ec0-07ef-4671-e34f-de1cb1dee015",
    "cell_id": "00248-0bc408f8-4410-41be-8637-570829e843a6",
    "deepnote_to_be_reexecuted": false,
    "source_hash": "95a41828",
    "execution_start": 1659773142554,
    "execution_millis": 31,
    "deepnote_cell_type": "code",
    "deepnote_cell_height": 169.5625,
    "deepnote_output_heights": [
     59.5625
    ]
   },
   "source": "q, r = linalg.qr(m3)\nq",
   "outputs": [
    {
     "output_type": "execute_result",
     "execution_count": 145,
     "data": {
      "text/plain": "array([[-0.04627448,  0.98786672,  0.14824986],\n       [-0.23137241,  0.13377362, -0.96362411],\n       [-0.97176411, -0.07889213,  0.22237479]])"
     },
     "metadata": {}
    }
   ],
   "execution_count": null
  },
  {
   "cell_type": "code",
   "metadata": {
    "id": "iSWoR70vL1Xd",
    "outputId": "04316792-3197-414d-f6c5-64e3302a946e",
    "cell_id": "00249-f54f1087-1a31-4778-9d52-3ff325afdf8c",
    "deepnote_to_be_reexecuted": false,
    "source_hash": "ab1e17bf",
    "execution_start": 1659773142554,
    "execution_millis": 31,
    "deepnote_cell_type": "code",
    "deepnote_cell_height": 151.5625,
    "deepnote_output_heights": [
     59.5625
    ]
   },
   "source": "r",
   "outputs": [
    {
     "output_type": "execute_result",
     "execution_count": 146,
     "data": {
      "text/plain": "array([[-21.61018278, -29.89331494, -32.80860727],\n       [  0.        ,   0.62427688,   1.9894538 ],\n       [  0.        ,   0.        ,  -3.26149699]])"
     },
     "metadata": {}
    }
   ],
   "execution_count": null
  },
  {
   "cell_type": "code",
   "metadata": {
    "id": "Ix-XYcN5L1Xe",
    "outputId": "58126837-7269-4b05-d851-4a7371d215a1",
    "cell_id": "00250-77ee961f-b50d-400d-bd51-a411453c62bd",
    "deepnote_to_be_reexecuted": false,
    "source_hash": "91204786",
    "execution_start": 1659773142555,
    "deepnote_cell_type": "code",
    "deepnote_cell_height": 151.5625,
    "deepnote_output_heights": [
     59.5625
    ]
   },
   "source": "q.dot(r)  # q.r equals m3",
   "outputs": [
    {
     "output_type": "execute_result",
     "execution_count": 147,
     "data": {
      "text/plain": "array([[ 1.,  2.,  3.],\n       [ 5.,  7., 11.],\n       [21., 29., 31.]])"
     },
     "metadata": {}
    }
   ],
   "execution_count": null
  },
  {
   "cell_type": "markdown",
   "source": "## Determinant\nThe `det` function computes the [matrix determinant](https://en.wikipedia.org/wiki/Determinant):",
   "metadata": {
    "id": "woii3Fs9L1Xh",
    "cell_id": "00251-9e4ed8ed-1ff3-4a55-bb50-85da3e8a3b45",
    "deepnote_cell_type": "markdown",
    "deepnote_cell_height": 108.390625
   }
  },
  {
   "cell_type": "code",
   "metadata": {
    "id": "fCXugJezL1Xi",
    "outputId": "e335ce4d-dbff-4334-faf8-d11a08697438",
    "cell_id": "00252-bd3ac1c8-c7f3-4b6b-837b-007fc0bffb32",
    "deepnote_to_be_reexecuted": false,
    "source_hash": "369f5540",
    "execution_start": 1659773142555,
    "deepnote_cell_type": "code",
    "deepnote_cell_height": 113.1875,
    "deepnote_output_heights": [
     21.1875
    ]
   },
   "source": "linalg.det(m3)  # Computes the matrix determinant",
   "outputs": [
    {
     "output_type": "execute_result",
     "execution_count": 148,
     "data": {
      "text/plain": "43.99999999999997"
     },
     "metadata": {}
    }
   ],
   "execution_count": null
  },
  {
   "cell_type": "markdown",
   "source": "## Eigenvalues and eigenvectors\nThe `eig` function computes the [eigenvalues and eigenvectors](https://en.wikipedia.org/wiki/Eigenvalues_and_eigenvectors) of a square matrix:",
   "metadata": {
    "id": "7XyBnEenL1Xj",
    "cell_id": "00253-1372327e-d749-4f60-aadd-05bfa88093e0",
    "deepnote_cell_type": "markdown",
    "deepnote_cell_height": 108.390625
   }
  },
  {
   "cell_type": "code",
   "metadata": {
    "id": "fxok2RSJL1Xj",
    "outputId": "965ccb7f-4adc-4c34-d730-006170997bba",
    "cell_id": "00254-84fe225b-8359-4d37-a73b-4757473ea21b",
    "deepnote_to_be_reexecuted": false,
    "source_hash": "c2468c62",
    "execution_start": 1659773142556,
    "execution_millis": 29,
    "deepnote_cell_type": "code",
    "deepnote_cell_height": 131.1875,
    "deepnote_output_heights": [
     21.1875
    ]
   },
   "source": "eigenvalues, eigenvectors = linalg.eig(m3)\neigenvalues # λ",
   "outputs": [
    {
     "output_type": "execute_result",
     "execution_count": 149,
     "data": {
      "text/plain": "array([42.26600592, -0.35798416, -2.90802176])"
     },
     "metadata": {}
    }
   ],
   "execution_count": null
  },
  {
   "cell_type": "code",
   "metadata": {
    "id": "VWlRIdK0L1Xj",
    "outputId": "71045b48-2b8c-4c9c-8bf7-b97c8e21160a",
    "cell_id": "00255-018f0dc6-c9c2-45c2-abaa-92943ecdd494",
    "deepnote_to_be_reexecuted": false,
    "source_hash": "fe2e3434",
    "execution_start": 1659773142557,
    "execution_millis": 29,
    "deepnote_cell_type": "code",
    "deepnote_cell_height": 151.5625,
    "deepnote_output_heights": [
     59.5625
    ]
   },
   "source": "eigenvectors # v",
   "outputs": [
    {
     "output_type": "execute_result",
     "execution_count": 150,
     "data": {
      "text/plain": "array([[-0.08381182, -0.76283526, -0.18913107],\n       [-0.3075286 ,  0.64133975, -0.6853186 ],\n       [-0.94784057, -0.08225377,  0.70325518]])"
     },
     "metadata": {}
    }
   ],
   "execution_count": null
  },
  {
   "cell_type": "code",
   "metadata": {
    "id": "5w6t0JOBL1Xq",
    "outputId": "e6d3e988-878a-46ea-8791-7c80da16fd1f",
    "cell_id": "00256-d32fd78f-29b8-4eb0-af06-66988154de44",
    "deepnote_to_be_reexecuted": false,
    "source_hash": "938cdf9e",
    "execution_start": 1659773142557,
    "execution_millis": 29,
    "deepnote_cell_type": "code",
    "deepnote_cell_height": 151.5625,
    "deepnote_output_heights": [
     59.5625
    ]
   },
   "source": "m3.dot(eigenvectors) - eigenvalues * eigenvectors  # m3.v - λ*v = 0",
   "outputs": [
    {
     "output_type": "execute_result",
     "execution_count": 151,
     "data": {
      "text/plain": "array([[ 8.88178420e-15,  2.22044605e-16, -3.10862447e-15],\n       [ 3.55271368e-15,  2.02615702e-15, -1.11022302e-15],\n       [ 3.55271368e-14,  3.33413852e-15, -8.43769499e-15]])"
     },
     "metadata": {}
    }
   ],
   "execution_count": null
  },
  {
   "cell_type": "markdown",
   "source": "## Singular Value Decomposition\nThe `svd` function takes a matrix and returns its [singular value decomposition](https://en.wikipedia.org/wiki/Singular_value_decomposition):",
   "metadata": {
    "id": "os5sYZDeL1Xr",
    "cell_id": "00257-7f2ae9a6-a6eb-49cd-97f2-7e67910e94db",
    "deepnote_cell_type": "markdown",
    "deepnote_cell_height": 108.390625
   }
  },
  {
   "cell_type": "code",
   "metadata": {
    "id": "JdG6p39XL1Xr",
    "outputId": "a281595c-9bd5-434c-f955-c251f4595e25",
    "cell_id": "00258-20299f10-409f-44ee-99f5-bc1456aab035",
    "deepnote_to_be_reexecuted": false,
    "source_hash": "b4e8a08a",
    "execution_start": 1659773142557,
    "execution_millis": 29,
    "deepnote_cell_type": "code",
    "deepnote_cell_height": 188.75,
    "deepnote_output_heights": [
     78.75
    ]
   },
   "source": "m4 = np.array([[1,0,0,0,2], [0,0,3,0,0], [0,0,0,0,0], [0,2,0,0,0]])\nm4",
   "outputs": [
    {
     "output_type": "execute_result",
     "execution_count": 152,
     "data": {
      "text/plain": "array([[1, 0, 0, 0, 2],\n       [0, 0, 3, 0, 0],\n       [0, 0, 0, 0, 0],\n       [0, 2, 0, 0, 0]])"
     },
     "metadata": {}
    }
   ],
   "execution_count": null
  },
  {
   "cell_type": "code",
   "metadata": {
    "id": "Gxqg203xL1Xt",
    "outputId": "859c3bb0-3c23-4b91-bfad-ae6f0a55fffd",
    "cell_id": "00259-73f308d1-b303-4877-820f-495685efd07a",
    "deepnote_to_be_reexecuted": false,
    "source_hash": "c074ef1d",
    "execution_start": 1659773142558,
    "execution_millis": 28,
    "deepnote_cell_type": "code",
    "deepnote_cell_height": 188.75,
    "deepnote_output_heights": [
     78.75
    ]
   },
   "source": "U, S_diag, V = linalg.svd(m4)\nU",
   "outputs": [
    {
     "output_type": "execute_result",
     "execution_count": 153,
     "data": {
      "text/plain": "array([[ 0.,  1.,  0.,  0.],\n       [ 1.,  0.,  0.,  0.],\n       [ 0.,  0.,  0., -1.],\n       [ 0.,  0.,  1.,  0.]])"
     },
     "metadata": {}
    }
   ],
   "execution_count": null
  },
  {
   "cell_type": "code",
   "metadata": {
    "id": "qXcorhkHL1Xy",
    "outputId": "7141fa8f-7c01-4b27-ebaa-b435a0e5088f",
    "cell_id": "00260-42b776ef-0774-4ec1-83ec-87de1b088f57",
    "deepnote_to_be_reexecuted": false,
    "source_hash": "c47682d7",
    "execution_start": 1659773142559,
    "execution_millis": 0,
    "deepnote_cell_type": "code",
    "deepnote_cell_height": 113.1875,
    "deepnote_output_heights": [
     21.1875
    ]
   },
   "source": "S_diag",
   "outputs": [
    {
     "output_type": "execute_result",
     "execution_count": 154,
     "data": {
      "text/plain": "array([3.        , 2.23606798, 2.        , 0.        ])"
     },
     "metadata": {}
    }
   ],
   "execution_count": null
  },
  {
   "cell_type": "markdown",
   "source": "The `svd` function just returns the values in the diagonal of Σ, but we want the full Σ matrix, so let's create it:",
   "metadata": {
    "id": "BTT_fNlRL1Xz",
    "cell_id": "00261-29b47462-ddb8-4f92-97a5-dddb7b7097ea",
    "deepnote_cell_type": "markdown",
    "deepnote_cell_height": 74.78125
   }
  },
  {
   "cell_type": "code",
   "metadata": {
    "id": "qP5OoBHiL1X0",
    "outputId": "1fcbfcf8-b42b-4f21-d5fc-0889a490d6e4",
    "cell_id": "00262-b86e9b07-aea3-43ed-a232-be07b1559bda",
    "deepnote_to_be_reexecuted": false,
    "source_hash": "784eed28",
    "execution_start": 1659773142559,
    "execution_millis": 27,
    "deepnote_cell_type": "code",
    "deepnote_cell_height": 206.75,
    "deepnote_output_heights": [
     78.75
    ]
   },
   "source": "S = np.zeros((4, 5))\nS[np.diag_indices(4)] = S_diag\nS  # Σ",
   "outputs": [
    {
     "output_type": "execute_result",
     "execution_count": 155,
     "data": {
      "text/plain": "array([[3.        , 0.        , 0.        , 0.        , 0.        ],\n       [0.        , 2.23606798, 0.        , 0.        , 0.        ],\n       [0.        , 0.        , 2.        , 0.        , 0.        ],\n       [0.        , 0.        , 0.        , 0.        , 0.        ]])"
     },
     "metadata": {}
    }
   ],
   "execution_count": null
  },
  {
   "cell_type": "code",
   "metadata": {
    "id": "fdzUghsAL1X0",
    "outputId": "fc141d10-c174-4c7f-e09d-dc9806db4274",
    "cell_id": "00263-8d4a3e60-253c-40b7-bf7f-594278fca947",
    "deepnote_to_be_reexecuted": false,
    "source_hash": "b0249425",
    "execution_start": 1659773142560,
    "execution_millis": 26,
    "deepnote_cell_type": "code",
    "deepnote_cell_height": 189.9375,
    "deepnote_output_heights": [
     97.9375
    ]
   },
   "source": "V",
   "outputs": [
    {
     "output_type": "execute_result",
     "execution_count": 156,
     "data": {
      "text/plain": "array([[-0.        ,  0.        ,  1.        , -0.        ,  0.        ],\n       [ 0.4472136 ,  0.        ,  0.        ,  0.        ,  0.89442719],\n       [-0.        ,  1.        ,  0.        , -0.        ,  0.        ],\n       [ 0.        ,  0.        ,  0.        ,  1.        ,  0.        ],\n       [-0.89442719,  0.        ,  0.        ,  0.        ,  0.4472136 ]])"
     },
     "metadata": {}
    }
   ],
   "execution_count": null
  },
  {
   "cell_type": "code",
   "metadata": {
    "id": "POfH-araL1X1",
    "outputId": "a2c3f358-6a47-4d30-d873-f80a355ed87b",
    "cell_id": "00264-43883a21-db76-4731-a778-3167e9f1cbef",
    "deepnote_to_be_reexecuted": false,
    "source_hash": "3ac126f4",
    "execution_start": 1659773142560,
    "execution_millis": 27,
    "deepnote_cell_type": "code",
    "deepnote_cell_height": 170.75,
    "deepnote_output_heights": [
     78.75
    ]
   },
   "source": "U.dot(S).dot(V) # U.Σ.V == m4",
   "outputs": [
    {
     "output_type": "execute_result",
     "execution_count": 157,
     "data": {
      "text/plain": "array([[1., 0., 0., 0., 2.],\n       [0., 0., 3., 0., 0.],\n       [0., 0., 0., 0., 0.],\n       [0., 2., 0., 0., 0.]])"
     },
     "metadata": {}
    }
   ],
   "execution_count": null
  },
  {
   "cell_type": "markdown",
   "source": "## Diagonal and trace",
   "metadata": {
    "id": "KZC_DV3JL1X1",
    "cell_id": "00265-db680c94-bcd3-4120-8efd-bbea978acfba",
    "deepnote_cell_type": "markdown",
    "deepnote_cell_height": 70
   }
  },
  {
   "cell_type": "code",
   "metadata": {
    "id": "jdJoh_vwL1X2",
    "outputId": "ab85941d-668f-4bb3-ae4a-9d4b1704362d",
    "cell_id": "00266-9b8406e4-0324-43ff-b7dc-a4bd53f23d3b",
    "deepnote_to_be_reexecuted": false,
    "source_hash": "3bf58b2e",
    "execution_start": 1659773142561,
    "execution_millis": 26,
    "deepnote_cell_type": "code",
    "deepnote_cell_height": 113.1875,
    "deepnote_output_heights": [
     21.1875
    ]
   },
   "source": "np.diag(m3)  # the values in the diagonal of m3 (top left to bottom right)",
   "outputs": [
    {
     "output_type": "execute_result",
     "execution_count": 158,
     "data": {
      "text/plain": "array([ 1,  7, 31])"
     },
     "metadata": {}
    }
   ],
   "execution_count": null
  },
  {
   "cell_type": "code",
   "metadata": {
    "id": "8G3N_zDAL1X2",
    "outputId": "bc6a38cc-6705-4c1e-ad10-0019fe345314",
    "cell_id": "00267-1cff1374-04ef-4658-b0a5-e3c91260a86d",
    "deepnote_to_be_reexecuted": false,
    "source_hash": "495aa8ea",
    "execution_start": 1659773142562,
    "execution_millis": 25,
    "deepnote_cell_type": "code",
    "deepnote_cell_height": 113.1875,
    "deepnote_output_heights": [
     21.1875
    ]
   },
   "source": "np.trace(m3)  # equivalent to np.diag(m3).sum()",
   "outputs": [
    {
     "output_type": "execute_result",
     "execution_count": 159,
     "data": {
      "text/plain": "39"
     },
     "metadata": {}
    }
   ],
   "execution_count": null
  },
  {
   "cell_type": "markdown",
   "source": "## Solving a system of linear scalar equations",
   "metadata": {
    "id": "6BDB9v5wL1X3",
    "cell_id": "00268-7fc0c361-9a10-4783-87ec-cca4ebc393c5",
    "deepnote_cell_type": "markdown",
    "deepnote_cell_height": 70
   }
  },
  {
   "cell_type": "markdown",
   "source": "The `solve` function solves a system of linear scalar equations, such as:\n\n* $2x + 6y = 6$\n* $5x + 3y = -9$",
   "metadata": {
    "id": "WSt3ftGLL1X3",
    "cell_id": "00269-21352851-cf98-44cf-af5f-820c5e1913d4",
    "deepnote_cell_type": "markdown",
    "deepnote_cell_height": 128.171875
   }
  },
  {
   "cell_type": "code",
   "metadata": {
    "id": "WU19MDNTL1X4",
    "outputId": "8a08fcac-e496-4d05-e7a0-e0323f193601",
    "cell_id": "00270-55be6016-e509-405f-b291-11ed382d1908",
    "deepnote_to_be_reexecuted": false,
    "source_hash": "c6fddbca",
    "execution_start": 1659773142566,
    "execution_millis": 21,
    "deepnote_cell_type": "code",
    "deepnote_cell_height": 167.1875,
    "deepnote_output_heights": [
     21.1875
    ]
   },
   "source": "coeffs  = np.array([[2, 6], [5, 3]])\ndepvars = np.array([6, -9])\nsolution = linalg.solve(coeffs, depvars)\nsolution",
   "outputs": [
    {
     "output_type": "execute_result",
     "execution_count": 160,
     "data": {
      "text/plain": "array([-3.,  2.])"
     },
     "metadata": {}
    }
   ],
   "execution_count": null
  },
  {
   "cell_type": "markdown",
   "source": "Let's check the solution:",
   "metadata": {
    "id": "sOfl2ZJzL1X5",
    "cell_id": "00271-e95682f7-db7d-4295-a0f8-3217e0fdb192",
    "deepnote_cell_type": "markdown",
    "deepnote_cell_height": 52.390625
   }
  },
  {
   "cell_type": "code",
   "metadata": {
    "id": "iHsDCjudL1X5",
    "outputId": "01cda4e6-62a3-475e-8215-9e21f95112de",
    "cell_id": "00272-a931322b-0a79-4c71-a0ee-62effa2ab934",
    "deepnote_to_be_reexecuted": false,
    "source_hash": "84ddd407",
    "execution_start": 1659773142567,
    "execution_millis": 0,
    "deepnote_cell_type": "code",
    "deepnote_cell_height": 113.1875,
    "deepnote_output_heights": [
     21.1875
    ]
   },
   "source": "coeffs.dot(solution), depvars  # yep, it's the same",
   "outputs": [
    {
     "output_type": "execute_result",
     "execution_count": 161,
     "data": {
      "text/plain": "(array([ 6., -9.]), array([ 6, -9]))"
     },
     "metadata": {}
    }
   ],
   "execution_count": null
  },
  {
   "cell_type": "markdown",
   "source": "Looks good! Another way to check the solution:",
   "metadata": {
    "id": "fCktU-naL1X6",
    "cell_id": "00273-d9884c00-23ff-4734-a935-e79248b52f33",
    "deepnote_cell_type": "markdown",
    "deepnote_cell_height": 52.390625
   }
  },
  {
   "cell_type": "code",
   "metadata": {
    "scrolled": true,
    "id": "swMinAWPL1X7",
    "outputId": "71579469-08a5-49b3-ead6-8e9d16b54ee7",
    "cell_id": "00274-e2c723d4-9b86-4bad-a80a-da15dfcc9de6",
    "deepnote_to_be_reexecuted": false,
    "source_hash": "d4b1e81c",
    "execution_start": 1659773142582,
    "execution_millis": 32,
    "deepnote_cell_type": "code",
    "deepnote_cell_height": 113.1875,
    "deepnote_output_heights": [
     21.1875
    ]
   },
   "source": "np.allclose(coeffs.dot(solution), depvars)",
   "outputs": [
    {
     "output_type": "execute_result",
     "execution_count": 162,
     "data": {
      "text/plain": "True"
     },
     "metadata": {}
    }
   ],
   "execution_count": null
  },
  {
   "cell_type": "markdown",
   "source": "# Vectorization\nInstead of executing operations on individual array items, one at a time, your code is much more efficient if you try to stick to array operations. This is called *vectorization*. This way, you can benefit from NumPy's many optimizations.\n\nFor example, let's say we want to generate a 768x1024 array based on the formula $\\sin(xy/40.5)$. A **bad** option would be to do the math in python using nested loops:",
   "metadata": {
    "id": "GAX2fA4iL1X7",
    "cell_id": "00275-faa32135-73b4-4f71-812a-4b86c0335f10",
    "deepnote_cell_type": "markdown",
    "deepnote_cell_height": 223.953125
   }
  },
  {
   "cell_type": "code",
   "metadata": {
    "id": "KTkV28U5L1X8",
    "cell_id": "00276-d5066281-e430-44db-8a31-22815c302245",
    "deepnote_to_be_reexecuted": false,
    "source_hash": "8654cafd",
    "execution_start": 1659773142582,
    "execution_millis": 301,
    "deepnote_cell_type": "code",
    "deepnote_cell_height": 148
   },
   "source": "import math\ndata = np.empty((768, 1024))\nfor y in range(768):\n    for x in range(1024):\n        data[y, x] = math.sin(x*y/40.5)  # BAD! Very inefficient.",
   "outputs": [],
   "execution_count": null
  },
  {
   "cell_type": "markdown",
   "source": "Sure, this works, but it's terribly inefficient since the loops are taking place in pure python. Let's vectorize this algorithm. First, we will use NumPy's `meshgrid` function which generates coordinate matrices from coordinate vectors.",
   "metadata": {
    "id": "ezwrsSwiL1X9",
    "cell_id": "00277-6b0a8b27-71a8-4d59-bdbb-c302d8cd1b3a",
    "deepnote_cell_type": "markdown",
    "deepnote_cell_height": 97.171875
   }
  },
  {
   "cell_type": "code",
   "metadata": {
    "id": "EMa3_xtOL1X-",
    "outputId": "706d9c33-916d-49c7-807a-fca819f74617",
    "cell_id": "00278-b1961bfe-5e5f-4b6c-8aa8-c14b88b1cfec",
    "deepnote_to_be_reexecuted": false,
    "source_hash": "c5d39c3d",
    "execution_start": 1659773142888,
    "execution_millis": 41,
    "deepnote_cell_type": "code",
    "deepnote_cell_height": 282.3125,
    "deepnote_output_heights": [
     136.3125
    ]
   },
   "source": "x_coords = np.arange(0, 1024)  # [0, 1, 2, ..., 1023]\ny_coords = np.arange(0, 768)   # [0, 1, 2, ..., 767]\nX, Y = np.meshgrid(x_coords, y_coords)\nX",
   "outputs": [
    {
     "output_type": "execute_result",
     "execution_count": 164,
     "data": {
      "text/plain": "array([[   0,    1,    2, ..., 1021, 1022, 1023],\n       [   0,    1,    2, ..., 1021, 1022, 1023],\n       [   0,    1,    2, ..., 1021, 1022, 1023],\n       ...,\n       [   0,    1,    2, ..., 1021, 1022, 1023],\n       [   0,    1,    2, ..., 1021, 1022, 1023],\n       [   0,    1,    2, ..., 1021, 1022, 1023]])"
     },
     "metadata": {}
    }
   ],
   "execution_count": null
  },
  {
   "cell_type": "code",
   "metadata": {
    "id": "tmfaI6d3L1X-",
    "outputId": "ee7522da-695c-4590-a3ea-66d4f955b10b",
    "cell_id": "00279-fdd5a91d-2fab-4cbe-a8a1-b37b9b73ce28",
    "deepnote_to_be_reexecuted": false,
    "source_hash": "5a036a85",
    "execution_start": 1659773142926,
    "execution_millis": 4,
    "deepnote_cell_type": "code",
    "deepnote_cell_height": 228.3125,
    "deepnote_output_heights": [
     136.3125
    ]
   },
   "source": "Y",
   "outputs": [
    {
     "output_type": "execute_result",
     "execution_count": 165,
     "data": {
      "text/plain": "array([[  0,   0,   0, ...,   0,   0,   0],\n       [  1,   1,   1, ...,   1,   1,   1],\n       [  2,   2,   2, ...,   2,   2,   2],\n       ...,\n       [765, 765, 765, ..., 765, 765, 765],\n       [766, 766, 766, ..., 766, 766, 766],\n       [767, 767, 767, ..., 767, 767, 767]])"
     },
     "metadata": {}
    }
   ],
   "execution_count": null
  },
  {
   "cell_type": "markdown",
   "source": "As you can see, both `X` and `Y` are 768x1024 arrays, and all values in `X` correspond to the horizontal coordinate, while all values in `Y` correspond to the the vertical coordinate.\n\nNow we can simply compute the result using array operations:",
   "metadata": {
    "id": "UYxPj-ygL1X_",
    "cell_id": "00280-d83d623f-5ecd-4bc7-9590-a7ceee59579f",
    "deepnote_cell_type": "markdown",
    "deepnote_cell_height": 111.171875
   }
  },
  {
   "cell_type": "code",
   "metadata": {
    "id": "9QZrbZEfL1X_",
    "cell_id": "00281-df2cbf49-d587-47b6-9d1e-5d9d1bfb2d8f",
    "deepnote_to_be_reexecuted": false,
    "source_hash": "9f646196",
    "execution_start": 1659773142928,
    "execution_millis": 0,
    "deepnote_cell_type": "code",
    "deepnote_cell_height": 76
   },
   "source": "data = np.sin(X*Y/40.5)",
   "outputs": [],
   "execution_count": null
  },
  {
   "cell_type": "markdown",
   "source": "Now we can plot this data using matplotlib's `imshow` function (see the [matplotlib tutorial](tools_matplotlib.ipynb)).",
   "metadata": {
    "id": "jHYdZ6tmL1X_",
    "cell_id": "00282-d30ad6d5-4bec-4e4e-bae6-271d8d6f7568",
    "deepnote_cell_type": "markdown",
    "deepnote_cell_height": 52.390625
   }
  },
  {
   "cell_type": "code",
   "metadata": {
    "id": "35jrcUR8L1X_",
    "outputId": "b97ec5b8-bb2e-4b6c-e6a7-06614a3afe25",
    "cell_id": "00283-328e5a63-1c41-48a4-90a5-56defb53fec6",
    "deepnote_to_be_reexecuted": false,
    "source_hash": "43935097",
    "execution_start": 1659773142928,
    "execution_millis": 443,
    "deepnote_cell_type": "code",
    "deepnote_cell_height": 133
   },
   "source": "import matplotlib.pyplot as plt\nimport matplotlib.cm as cm\nfig = plt.figure(1, figsize=(7, 6))\nplt.imshow(data, cmap=cm.hot, interpolation=\"bicubic\")\nplt.show()",
   "outputs": [
    {
     "data": {
      "text/plain": "<Figure size 504x432 with 1 Axes>",
      "image/png": "[encoded data removed]"
     },
     "metadata": {
      "needs_background": "light",
      "image/png": {
       "width": 434,
       "height": 328
      }
     },
     "output_type": "display_data"
    }
   ],
   "execution_count": null
  },
  {
   "cell_type": "markdown",
   "source": "# Saving and loading\nNumPy makes it easy to save and load `ndarray`s in binary or text format.\n\n## Binary `.npy` format\nLet's create a random array and save it.",
   "metadata": {
    "id": "kAj02lqdL1YD",
    "cell_id": "00284-1b3cebe3-600f-475b-94f5-a97fe74a4e29",
    "deepnote_cell_type": "markdown",
    "deepnote_cell_height": 212.78125
   }
  },
  {
   "cell_type": "code",
   "metadata": {
    "scrolled": true,
    "id": "bIyC0UzVL1YE",
    "outputId": "23acc054-6765-4138-9e2d-d0044660b072",
    "cell_id": "00285-c8d6f5a0-92c7-4124-a82b-6420cf64dca1",
    "deepnote_to_be_reexecuted": false,
    "source_hash": "ad075ab2",
    "execution_start": 1659773143375,
    "execution_millis": 7,
    "deepnote_cell_type": "code",
    "deepnote_cell_height": 79
   },
   "source": "a = np.random.rand(2,3)\na",
   "outputs": [
    {
     "output_type": "execute_result",
     "execution_count": 168,
     "data": {
      "text/plain": "array([[0.97022424, 0.09643509, 0.51103474],\n       [0.87145865, 0.60751369, 0.19718586]])"
     },
     "metadata": {}
    }
   ],
   "execution_count": null
  },
  {
   "cell_type": "code",
   "metadata": {
    "id": "MC5RoNF9L1YE",
    "cell_id": "00286-3c2a0af8-cfe7-425a-94a8-0729f0192d0d",
    "deepnote_to_be_reexecuted": false,
    "source_hash": "6ef22819",
    "execution_start": 1659773143383,
    "execution_millis": 3,
    "deepnote_cell_type": "code",
    "deepnote_cell_height": 61
   },
   "source": "np.save(\"my_array\", a)",
   "outputs": [],
   "execution_count": null
  },
  {
   "cell_type": "markdown",
   "source": "Done! Since the file name contains no file extension was provided, NumPy automatically added `.npy`. Let's take a peek at the file content:",
   "metadata": {
    "id": "W5nmVxT-L1YE",
    "cell_id": "00287-882b0898-3c83-4920-ae95-c986b603ac36",
    "deepnote_cell_type": "markdown",
    "deepnote_cell_height": 74.78125
   }
  },
  {
   "cell_type": "code",
   "metadata": {
    "id": "kQhlSesZL1YF",
    "outputId": "d08cb2bd-8776-479e-f986-6b161bd07d95",
    "cell_id": "00288-48e80506-32c8-483e-b48d-6a7c13a37aeb",
    "deepnote_to_be_reexecuted": false,
    "source_hash": "69339903",
    "execution_start": 1659773143392,
    "execution_millis": 9,
    "deepnote_cell_type": "code",
    "deepnote_cell_height": 115
   },
   "source": "with open(\"my_array.npy\", \"rb\") as f:\n    content = f.read()\n\ncontent",
   "outputs": [
    {
     "output_type": "execute_result",
     "execution_count": 170,
     "data": {
      "text/plain": "b'\\x93NUMPY\\x01\\x00v\\x00{\\'descr\\': \\'<f8\\', \\'fortran_order\\': False, \\'shape\\': (2, 3), }                                                          \\n\\xa4>\\xe8\\xb1\\x13\\x0c\\xef?\\xa0\\x97:b\\xf8\\xaf\\xb8?\\xeb\\xff\\x86\\x84eZ\\xe0?\"\\xd1\\x1d>\\xfd\\xe2\\xeb?\\x88\\x91\\x95\\x8d\\xc0p\\xe3?\\xe4\\xdbD\\xdab=\\xc9?'"
     },
     "metadata": {}
    }
   ],
   "execution_count": null
  },
  {
   "cell_type": "markdown",
   "source": "To load this file into a NumPy array, simply call `load`:",
   "metadata": {
    "id": "nQ_WrhZzL1YF",
    "cell_id": "00289-041a05ea-ac91-4e49-84d6-01c6d2b3b08f",
    "deepnote_cell_type": "markdown",
    "deepnote_cell_height": 52.390625
   }
  },
  {
   "cell_type": "code",
   "metadata": {
    "id": "BTB9T3coL1YF",
    "outputId": "175e9b23-5810-4a5c-9c28-1844cb5b821b",
    "cell_id": "00290-b8b3efbd-57a6-4463-a8b8-51f52f7b219d",
    "deepnote_to_be_reexecuted": false,
    "source_hash": "b55ce0c4",
    "execution_start": 1659773143400,
    "execution_millis": 13,
    "deepnote_cell_type": "code",
    "deepnote_cell_height": 79
   },
   "source": "a_loaded = np.load(\"my_array.npy\")\na_loaded",
   "outputs": [
    {
     "output_type": "execute_result",
     "execution_count": 171,
     "data": {
      "text/plain": "array([[0.97022424, 0.09643509, 0.51103474],\n       [0.87145865, 0.60751369, 0.19718586]])"
     },
     "metadata": {}
    }
   ],
   "execution_count": null
  },
  {
   "cell_type": "markdown",
   "source": "## Text format\nLet's try saving the array in text format:",
   "metadata": {
    "id": "x0RhsEtuL1YG",
    "cell_id": "00291-7cdf898f-8f71-416c-93f5-66769b5898fb",
    "deepnote_cell_type": "markdown",
    "deepnote_cell_height": 108.390625
   }
  },
  {
   "cell_type": "code",
   "metadata": {
    "id": "Nuw-rXrRL1YG",
    "cell_id": "00292-b2082c98-a0b6-4f59-a656-4021fb35d340",
    "deepnote_to_be_reexecuted": false,
    "source_hash": "8f52a8d3",
    "execution_start": 1659773143411,
    "execution_millis": 7,
    "deepnote_cell_type": "code",
    "deepnote_cell_height": 61
   },
   "source": "np.savetxt(\"my_array.csv\", a)",
   "outputs": [],
   "execution_count": null
  },
  {
   "cell_type": "markdown",
   "source": "Now let's look at the file content:",
   "metadata": {
    "id": "kNwHNRRqL1YG",
    "cell_id": "00293-61c49262-bb94-496d-acc7-383b8555d044",
    "deepnote_cell_type": "markdown",
    "deepnote_cell_height": 52.390625
   }
  },
  {
   "cell_type": "code",
   "metadata": {
    "id": "OnU0UmkKL1YG",
    "outputId": "90f9bebe-cd78-48db-da27-68f18276a311",
    "cell_id": "00294-7dd58721-9403-4c1d-a8f6-140c6889b453",
    "deepnote_to_be_reexecuted": false,
    "source_hash": "82ddcc20",
    "execution_start": 1659773143419,
    "execution_millis": 14,
    "deepnote_cell_type": "code",
    "deepnote_cell_height": 79
   },
   "source": "with open(\"my_array.csv\", \"rt\") as f:\n    print(f.read())",
   "outputs": [
    {
     "name": "stdout",
     "text": "9.702242350339997934e-01 9.643509290853424787e-02 5.110347355293901606e-01\n8.714586461269713258e-01 6.075136914555949730e-01 1.971858564154153060e-01\n\n",
     "output_type": "stream"
    }
   ],
   "execution_count": null
  },
  {
   "cell_type": "markdown",
   "source": "This is a CSV file with tabs as delimiters. You can set a different delimiter:",
   "metadata": {
    "id": "h7mhvYUoL1YH",
    "cell_id": "00295-5c06ecb6-1c0e-4059-b65e-cb2d370fe972",
    "deepnote_cell_type": "markdown",
    "deepnote_cell_height": 52.390625
   }
  },
  {
   "cell_type": "code",
   "metadata": {
    "collapsed": true,
    "jupyter": {
     "outputs_hidden": true
    },
    "id": "Xk6F14sKL1YH",
    "cell_id": "00296-af9b2fd5-8586-485b-8ad7-47c49ec4fb30",
    "deepnote_to_be_reexecuted": false,
    "source_hash": "54015c13",
    "execution_start": 1659773143432,
    "execution_millis": 1,
    "deepnote_cell_type": "code",
    "deepnote_cell_height": 61
   },
   "source": "np.savetxt(\"my_array.csv\", a, delimiter=\",\")",
   "outputs": [],
   "execution_count": null
  },
  {
   "cell_type": "markdown",
   "source": "To load this file, just use `loadtxt`:",
   "metadata": {
    "id": "XSGrf783L1YH",
    "cell_id": "00297-074c2629-7bca-4a3c-aa92-492c8b41ec2c",
    "deepnote_cell_type": "markdown",
    "deepnote_cell_height": 52.390625
   }
  },
  {
   "cell_type": "code",
   "metadata": {
    "id": "WC-uBkuIL1YI",
    "outputId": "6f6edc7b-57ed-433b-e6e6-f01712fa0b86",
    "cell_id": "00298-469ce777-c4e0-424c-b898-813ab822f2b9",
    "deepnote_to_be_reexecuted": false,
    "source_hash": "9216b122",
    "execution_start": 1659773143438,
    "execution_millis": 11,
    "deepnote_cell_type": "code",
    "deepnote_cell_height": 79
   },
   "source": "a_loaded = np.loadtxt(\"my_array.csv\", delimiter=\",\")\na_loaded",
   "outputs": [
    {
     "output_type": "execute_result",
     "execution_count": 175,
     "data": {
      "text/plain": "array([[0.97022424, 0.09643509, 0.51103474],\n       [0.87145865, 0.60751369, 0.19718586]])"
     },
     "metadata": {}
    }
   ],
   "execution_count": null
  },
  {
   "cell_type": "markdown",
   "source": "## Zipped `.npz` format\nIt is also possible to save multiple arrays in one zipped file:",
   "metadata": {
    "id": "uLuWMvEfL1YI",
    "cell_id": "00299-e5ffea7f-4d25-4ae7-a329-35caccc431eb",
    "deepnote_cell_type": "markdown",
    "deepnote_cell_height": 108.390625
   }
  },
  {
   "cell_type": "code",
   "metadata": {
    "id": "jtr-TutdL1YI",
    "outputId": "59577d50-50b5-44b1-890a-fd31a6ea4e08",
    "cell_id": "00300-d673e464-e1d0-4c8d-aa85-a9c0765b4b05",
    "deepnote_to_be_reexecuted": false,
    "source_hash": "da3b0917",
    "execution_start": 1659773143448,
    "execution_millis": 13,
    "deepnote_cell_type": "code",
    "deepnote_cell_height": 79
   },
   "source": "b = np.arange(24, dtype=np.uint8).reshape(2, 3, 4)\nb",
   "outputs": [
    {
     "output_type": "execute_result",
     "execution_count": 176,
     "data": {
      "text/plain": "array([[[ 0,  1,  2,  3],\n        [ 4,  5,  6,  7],\n        [ 8,  9, 10, 11]],\n\n       [[12, 13, 14, 15],\n        [16, 17, 18, 19],\n        [20, 21, 22, 23]]], dtype=uint8)"
     },
     "metadata": {}
    }
   ],
   "execution_count": null
  },
  {
   "cell_type": "code",
   "metadata": {
    "collapsed": true,
    "jupyter": {
     "outputs_hidden": true
    },
    "id": "Ga6oQZ1rL1YJ",
    "cell_id": "00301-74149760-f42d-48f2-a800-563585cf27bb",
    "deepnote_to_be_reexecuted": false,
    "source_hash": "d6c91afe",
    "execution_start": 1659773143459,
    "execution_millis": 6,
    "deepnote_cell_type": "code",
    "deepnote_cell_height": 61
   },
   "source": "np.savez(\"my_arrays\", my_a=a, my_b=b)",
   "outputs": [],
   "execution_count": null
  },
  {
   "cell_type": "markdown",
   "source": "Again, let's take a peek at the file content. Note that the `.npz` file extension was automatically added.",
   "metadata": {
    "id": "9kIIEVVvL1YJ",
    "cell_id": "00302-e7555eb6-a092-46ab-a0b0-c496171128c0",
    "deepnote_cell_type": "markdown",
    "deepnote_cell_height": 74.78125
   }
  },
  {
   "cell_type": "code",
   "metadata": {
    "id": "sgKf1nSRL1YJ",
    "outputId": "ba31e7f3-8983-4c10-a8b9-77a3498fda1c",
    "cell_id": "00303-153b812d-16fa-4b06-a3d3-e624b8e28e66",
    "deepnote_to_be_reexecuted": false,
    "source_hash": "8dac78fe",
    "execution_start": 1659773143465,
    "execution_millis": 10,
    "deepnote_cell_type": "code",
    "deepnote_cell_height": 115
   },
   "source": "with open(\"my_arrays.npz\", \"rb\") as f:\n    content = f.read()\n\nrepr(content)[:180] + \"[...]\"",
   "outputs": [
    {
     "output_type": "execute_result",
     "execution_count": 178,
     "data": {
      "text/plain": "\"b'PK\\\\x03\\\\x04\\\\x14\\\\x00\\\\x00\\\\x00\\\\x00\\\\x00\\\\x00\\\\x00!\\\\x00\\\\x90w%f\\\\xb0\\\\x00\\\\x00\\\\x00\\\\xb0\\\\x00\\\\x00\\\\x00\\\\x08\\\\x00\\\\x14\\\\x00my_a.npy\\\\x01\\\\x00\\\\x10\\\\x00\\\\xb0\\\\x00\\\\x00\\\\x00\\\\x00\\\\x00\\\\x00\\\\x00\\\\xb0\\\\x00\\\\x00\\\\x00\\\\x00[...]\""
     },
     "metadata": {}
    }
   ],
   "execution_count": null
  },
  {
   "cell_type": "markdown",
   "source": "You then load this file like so:",
   "metadata": {
    "id": "Ih9HGpIDL1YK",
    "cell_id": "00304-c06ccc55-bc14-479b-a8b2-bf859779fc24",
    "deepnote_cell_type": "markdown",
    "deepnote_cell_height": 52.390625
   }
  },
  {
   "cell_type": "code",
   "metadata": {
    "id": "mJf-ETKpL1YK",
    "outputId": "19bd9310-a516-4f41-f810-8759fb2d7f50",
    "cell_id": "00305-e9de6d6a-65a1-44e8-8e83-13ec21d89f7b",
    "deepnote_to_be_reexecuted": false,
    "source_hash": "e7940f6e",
    "execution_start": 1659773143473,
    "execution_millis": 12,
    "deepnote_cell_type": "code",
    "deepnote_cell_height": 79
   },
   "source": "my_arrays = np.load(\"my_arrays.npz\")\nmy_arrays",
   "outputs": [
    {
     "output_type": "execute_result",
     "execution_count": 179,
     "data": {
      "text/plain": "<numpy.lib.npyio.NpzFile at 0x7f4865f0caf0>"
     },
     "metadata": {}
    }
   ],
   "execution_count": null
  },
  {
   "cell_type": "markdown",
   "source": "This is a dict-like object which loads the arrays lazily:",
   "metadata": {
    "id": "oanqD783L1YL",
    "cell_id": "00306-ed2bdff1-d7f8-4249-9b31-6c71a136f5aa",
    "deepnote_cell_type": "markdown",
    "deepnote_cell_height": 52.390625
   }
  },
  {
   "cell_type": "code",
   "metadata": {
    "id": "uuk4QHX1L1YL",
    "outputId": "649fbd21-fbb0-42ea-94e1-f64393e6406b",
    "cell_id": "00307-eb65a171-4a97-497a-a0c6-3d4ba01c4231",
    "deepnote_to_be_reexecuted": false,
    "source_hash": "75a324cc",
    "execution_start": 1659773143481,
    "execution_millis": 16,
    "deepnote_cell_type": "code",
    "deepnote_cell_height": 61
   },
   "source": "my_arrays.keys()",
   "outputs": [
    {
     "output_type": "execute_result",
     "execution_count": 180,
     "data": {
      "text/plain": "KeysView(<numpy.lib.npyio.NpzFile object at 0x7f4865f0caf0>)"
     },
     "metadata": {}
    }
   ],
   "execution_count": null
  },
  {
   "cell_type": "code",
   "metadata": {
    "id": "iJXJEGBXL1YM",
    "outputId": "2d745ef2-4e63-44f2-bf9d-45bf92865367",
    "cell_id": "00308-31cec577-f537-43e4-ba89-8579623ec226",
    "deepnote_to_be_reexecuted": false,
    "source_hash": "303593d5",
    "execution_start": 1659773143492,
    "execution_millis": 6,
    "deepnote_cell_type": "code",
    "deepnote_cell_height": 61
   },
   "source": "my_arrays[\"my_a\"]",
   "outputs": [
    {
     "output_type": "execute_result",
     "execution_count": 181,
     "data": {
      "text/plain": "array([[0.97022424, 0.09643509, 0.51103474],\n       [0.87145865, 0.60751369, 0.19718586]])"
     },
     "metadata": {}
    }
   ],
   "execution_count": null
  },
  {
   "cell_type": "markdown",
   "source": "# What next?\nNow you know all the fundamentals of NumPy, but there are many more options available. The best way to learn more is to experiment with NumPy, and go through the excellent [reference documentation](http://docs.scipy.org/doc/numpy/reference/index.html) to find more functions and features you may be interested in.",
   "metadata": {
    "id": "5j6OPRnPL1YM",
    "cell_id": "00309-ee8e8593-15f4-4564-9b36-5b34a781cfe1",
    "deepnote_cell_type": "markdown",
    "deepnote_cell_height": 165.171875
   }
  },
  {
   "cell_type": "markdown",
   "source": "<a style='text-decoration:none;line-height:16px;display:flex;color:#5B5B62;padding:10px;justify-content:end;' href='https://deepnote.com?utm_source=created-in-deepnote-cell&projectId=8b8747e0-d5e2-4759-af6a-42b7fe569db7' target=\"_blank\">\n<img alt='Created in deepnote.com' style='display:inline;max-height:16px;margin:0px;margin-right:7.5px;' src='data:image/svg+xml;base64,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' > </img>\nCreated in <span style='font-weight:600;margin-left:4px;'>Deepnote</span></a>",
   "metadata": {
    "tags": [],
    "created_in_deepnote_cell": true,
    "deepnote_cell_type": "markdown"
   }
  }
 ],
 "nbformat": 4,
 "nbformat_minor": 0,
 "metadata": {
  "kernelspec": {
   "display_name": "Python 3",
   "language": "python",
   "name": "python3"
  },
  "language_info": {
   "codemirror_mode": {
    "name": "ipython",
    "version": 3
   },
   "file_extension": ".py",
   "mimetype": "text/x-python",
   "name": "python",
   "nbconvert_exporter": "python",
   "pygments_lexer": "ipython3",
   "version": "3.7.10"
  },
  "toc": {
   "toc_cell": false,
   "toc_number_sections": true,
   "toc_section_display": "block",
   "toc_threshold": 6,
   "toc_window_display": false
  },
  "toc_position": {
   "height": "677px",
   "left": "1195.02px",
   "right": "20px",
   "top": "78px",
   "width": "238px"
  },
  "colab": {
   "name": "tools_numpy.ipynb",
   "provenance": []
  },
  "deepnote_notebook_id": "3a9d825f-3f3c-4c11-85b1-f5973a4ae52f",
  "deepnote": {},
  "deepnote_execution_queue": []
 }
}