{
 "cells": [
  {
   "cell_type": "markdown",
   "source": "**Chapter 12 – Custom Models and Training with TensorFlow**",
   "metadata": {
    "id": "Zkd9j0c5Ga7H",
    "cell_id": "96f775fb-57d5-4ee8-9b42-77b11560ac4f",
    "deepnote_cell_type": "markdown",
    "deepnote_cell_height": 52.390625
   }
  },
  {
   "cell_type": "markdown",
   "source": "_This notebook contains all the sample code in chapter 12._",
   "metadata": {
    "id": "6W6uNcVVGa7S",
    "cell_id": "00001-d5f10dc3-ad7b-4eed-800e-8bb26f6b294e",
    "deepnote_cell_type": "markdown",
    "deepnote_cell_height": 52.390625
   }
  },
  {
   "cell_type": "markdown",
   "source": "# Setup",
   "metadata": {
    "id": "oT2Kh9HeGa7V",
    "cell_id": "00002-94391d12-95f4-4d12-9ba8-b3c5e7e722d6",
    "deepnote_cell_type": "markdown",
    "deepnote_cell_height": 61.1875
   }
  },
  {
   "cell_type": "markdown",
   "source": "First, let's import a few common modules, ensure MatplotLib plots figures inline and prepare a function to save the figures. We also check that Python 3.5 or later is installed (although Python 2.x may work, it is deprecated so we strongly recommend you use Python 3 instead), as well as Scikit-Learn >= 0.20 and TensorFlow >= 2.0.",
   "metadata": {
    "id": "_p0smmO6Ga7W",
    "cell_id": "00003-823aabd2-f667-43eb-a505-f144002ac114",
    "deepnote_cell_type": "markdown",
    "deepnote_cell_height": 141.953125
   }
  },
  {
   "cell_type": "code",
   "metadata": {
    "id": "TlW2BRLQGa7X",
    "cell_id": "00004-34914576-1058-4da4-ad81-dcf098578619",
    "deepnote_cell_type": "code",
    "deepnote_cell_height": 912
   },
   "source": "# Python >= 3.5 is required\nimport sys\nassert sys.version_info >= (3, 5)\n\n# Scikit-Learn >= 0.20 is required\nimport sklearn\nassert sklearn.__version__ >= \"0.20\"\n\ntry:\n    # %tensorflow_version only exists in Colab.\n    %tensorflow_version 2.x\nexcept Exception:\n    pass\n\n# TensorFlow >= 2.4 is required in this notebook\n# Earlier 2.x versions will mostly work the same, but with a few bugs\nimport tensorflow as tf\nfrom tensorflow import keras\nassert tf.__version__ >= \"2.4\"\n\n# Common imports\nimport numpy as np\nimport os\n\n# To make this notebook's output stable across runs\nnp.random.seed(42)\ntf.random.set_seed(42)\n\n# To plot pretty figures\n%matplotlib inline\nimport matplotlib as mpl\nimport matplotlib.pyplot as plt\nmpl.rc('axes', labelsize=14)\nmpl.rc('xtick', labelsize=12)\nmpl.rc('ytick', labelsize=12)\n\n# Where to save the figures\nPROJECT_ROOT_DIR = \".\"\nCHAPTER_ID = \"deep\"\nIMAGES_PATH = os.path.join(PROJECT_ROOT_DIR, \"images\", CHAPTER_ID)\nos.makedirs(IMAGES_PATH, exist_ok=True)\n\ndef save_fig(fig_id, tight_layout=True, fig_extension=\"png\", resolution=300):\n    path = os.path.join(IMAGES_PATH, fig_id + \".\" + fig_extension)\n    print(\"Saving figure\", fig_id)\n    if tight_layout:\n        plt.tight_layout()\n    plt.savefig(path, format=fig_extension, dpi=resolution)",
   "execution_count": null,
   "outputs": []
  },
  {
   "cell_type": "markdown",
   "source": "## Tensors and operations",
   "metadata": {
    "id": "JOPOB8gUGa7b",
    "cell_id": "00005-576675f5-3e07-422e-a452-e77262788dbf",
    "deepnote_cell_type": "markdown",
    "deepnote_cell_height": 56.390625
   }
  },
  {
   "cell_type": "markdown",
   "source": "### Tensors",
   "metadata": {
    "id": "4cjpV-BDGa7c",
    "cell_id": "00006-0c71b256-6887-4d0e-a963-036ddae4d20d",
    "deepnote_cell_type": "markdown",
    "deepnote_cell_height": 54
   }
  },
  {
   "cell_type": "code",
   "metadata": {
    "id": "GH5BIGyNGa7e",
    "outputId": "2f8707af-1644-4092-9c8a-c80936397434",
    "cell_id": "00007-57fcc52d-240a-4dc5-afd1-01e73fd315d8",
    "deepnote_cell_type": "code",
    "deepnote_cell_height": 151.5625,
    "deepnote_output_heights": [
     59.5625
    ]
   },
   "source": "tf.constant([[1., 2., 3.], [4., 5., 6.]]) # matrix",
   "execution_count": null,
   "outputs": [
    {
     "data": {
      "text/plain": "<tf.Tensor: shape=(2, 3), dtype=float32, numpy=\narray([[1., 2., 3.],\n       [4., 5., 6.]], dtype=float32)>"
     },
     "execution_count": 2,
     "metadata": {},
     "output_type": "execute_result"
    }
   ]
  },
  {
   "cell_type": "code",
   "metadata": {
    "id": "QNwGvjDJGa7h",
    "outputId": "0e0b80c5-23d8-4a85-ad64-041ee3407a8d",
    "cell_id": "00008-4977c1c1-d18b-4bac-979b-848260f11476",
    "deepnote_cell_type": "code",
    "deepnote_cell_height": 113.1875,
    "deepnote_output_heights": [
     21.1875
    ]
   },
   "source": "tf.constant(42) # scalar",
   "execution_count": null,
   "outputs": [
    {
     "data": {
      "text/plain": "<tf.Tensor: shape=(), dtype=int32, numpy=42>"
     },
     "execution_count": 3,
     "metadata": {},
     "output_type": "execute_result"
    }
   ]
  },
  {
   "cell_type": "code",
   "metadata": {
    "id": "fn1tYN8cGa7j",
    "outputId": "68e40698-ef03-4e76-a908-56cd4da1c9ac",
    "cell_id": "00009-b62c0546-25c5-4018-9e0a-ce19a59049a7",
    "deepnote_cell_type": "code",
    "deepnote_cell_height": 169.5625,
    "deepnote_output_heights": [
     59.5625
    ]
   },
   "source": "t = tf.constant([[1., 2., 3.], [4., 5., 6.]])\nt",
   "execution_count": null,
   "outputs": [
    {
     "data": {
      "text/plain": "<tf.Tensor: shape=(2, 3), dtype=float32, numpy=\narray([[1., 2., 3.],\n       [4., 5., 6.]], dtype=float32)>"
     },
     "execution_count": 4,
     "metadata": {},
     "output_type": "execute_result"
    }
   ]
  },
  {
   "cell_type": "code",
   "metadata": {
    "id": "68-zo1P5Ga7k",
    "outputId": "e9952a9f-0e3e-4572-c23a-54304dd50fdf",
    "cell_id": "00010-5435fb91-e4b3-4753-a512-9d0c2dab7e18",
    "deepnote_cell_type": "code",
    "deepnote_cell_height": 113.1875,
    "deepnote_output_heights": [
     21.1875
    ]
   },
   "source": "t.shape",
   "execution_count": null,
   "outputs": [
    {
     "data": {
      "text/plain": "TensorShape([2, 3])"
     },
     "execution_count": 5,
     "metadata": {},
     "output_type": "execute_result"
    }
   ]
  },
  {
   "cell_type": "code",
   "metadata": {
    "id": "8UZebgRoGa7l",
    "outputId": "6b1615e5-79a3-4af6-b05a-a58425cf96fd",
    "cell_id": "00011-bf97db2e-ebce-4b77-b4d0-c98532b56077",
    "deepnote_cell_type": "code",
    "deepnote_cell_height": 113.1875,
    "deepnote_output_heights": [
     21.1875
    ]
   },
   "source": "t.dtype",
   "execution_count": null,
   "outputs": [
    {
     "data": {
      "text/plain": "tf.float32"
     },
     "execution_count": 6,
     "metadata": {},
     "output_type": "execute_result"
    }
   ]
  },
  {
   "cell_type": "markdown",
   "source": "### Indexing",
   "metadata": {
    "id": "8ACLqD24Ga7m",
    "cell_id": "00012-7a69d8ab-4e00-42b0-b58b-8ac2f5520af1",
    "deepnote_cell_type": "markdown",
    "deepnote_cell_height": 54
   }
  },
  {
   "cell_type": "code",
   "metadata": {
    "id": "hFqCg4F9Ga7n",
    "outputId": "e04d2413-8c5d-46c1-da86-60f6431fd8e5",
    "cell_id": "00013-324b7710-ae5e-4456-98ab-ee5a46641d21",
    "deepnote_cell_type": "code",
    "deepnote_cell_height": 151.5625,
    "deepnote_output_heights": [
     59.5625
    ]
   },
   "source": "t[:, 1:]",
   "execution_count": null,
   "outputs": [
    {
     "data": {
      "text/plain": "<tf.Tensor: shape=(2, 2), dtype=float32, numpy=\narray([[2., 3.],\n       [5., 6.]], dtype=float32)>"
     },
     "execution_count": 7,
     "metadata": {},
     "output_type": "execute_result"
    }
   ]
  },
  {
   "cell_type": "code",
   "metadata": {
    "id": "i_WlUPfmGa7o",
    "outputId": "cf68d068-5112-47ee-ff2b-a44e2f750db6",
    "cell_id": "00014-43adf92e-6b5e-4094-b623-66ac42badd42",
    "deepnote_cell_type": "code",
    "deepnote_cell_height": 151.5625,
    "deepnote_output_heights": [
     59.5625
    ]
   },
   "source": "t[..., 1, tf.newaxis]",
   "execution_count": null,
   "outputs": [
    {
     "data": {
      "text/plain": "<tf.Tensor: shape=(2, 1), dtype=float32, numpy=\narray([[2.],\n       [5.]], dtype=float32)>"
     },
     "execution_count": 8,
     "metadata": {},
     "output_type": "execute_result"
    }
   ]
  },
  {
   "cell_type": "markdown",
   "source": "### Ops",
   "metadata": {
    "id": "Z09Kdr9qGa7p",
    "cell_id": "00015-6587a0eb-276c-4b41-8bd0-5fdb8123261f",
    "deepnote_cell_type": "markdown",
    "deepnote_cell_height": 54
   }
  },
  {
   "cell_type": "code",
   "metadata": {
    "id": "unbEi9adGa7p",
    "outputId": "f1871b04-d5fd-4766-deb5-d17dee8078b7",
    "cell_id": "00016-8b3ee3b9-e62c-44de-bdef-0ffcd1fee900",
    "deepnote_cell_type": "code",
    "deepnote_cell_height": 151.5625,
    "deepnote_output_heights": [
     59.5625
    ]
   },
   "source": "t + 10",
   "execution_count": null,
   "outputs": [
    {
     "data": {
      "text/plain": "<tf.Tensor: shape=(2, 3), dtype=float32, numpy=\narray([[11., 12., 13.],\n       [14., 15., 16.]], dtype=float32)>"
     },
     "execution_count": 9,
     "metadata": {},
     "output_type": "execute_result"
    }
   ]
  },
  {
   "cell_type": "code",
   "metadata": {
    "id": "xRo8-A_BGa7q",
    "outputId": "35af2d42-5d4c-46ca-8475-6a7bb2419827",
    "cell_id": "00017-790f9984-8756-41d6-a99a-bc4c2a35ada0",
    "deepnote_cell_type": "code",
    "deepnote_cell_height": 151.5625,
    "deepnote_output_heights": [
     59.5625
    ]
   },
   "source": "tf.square(t)",
   "execution_count": null,
   "outputs": [
    {
     "data": {
      "text/plain": "<tf.Tensor: shape=(2, 3), dtype=float32, numpy=\narray([[ 1.,  4.,  9.],\n       [16., 25., 36.]], dtype=float32)>"
     },
     "execution_count": 10,
     "metadata": {},
     "output_type": "execute_result"
    }
   ]
  },
  {
   "cell_type": "code",
   "metadata": {
    "id": "E-ccdn2_Ga7u",
    "outputId": "371fb9a6-9ea2-41d8-b164-22aae5bde532",
    "cell_id": "00018-0595dca4-8941-47da-90fc-5cd50f2e8a46",
    "deepnote_cell_type": "code",
    "deepnote_cell_height": 151.5625,
    "deepnote_output_heights": [
     59.5625
    ]
   },
   "source": "t @ tf.transpose(t)",
   "execution_count": null,
   "outputs": [
    {
     "data": {
      "text/plain": "<tf.Tensor: shape=(2, 2), dtype=float32, numpy=\narray([[14., 32.],\n       [32., 77.]], dtype=float32)>"
     },
     "execution_count": 11,
     "metadata": {},
     "output_type": "execute_result"
    }
   ]
  },
  {
   "cell_type": "markdown",
   "source": "### Using `keras.backend`",
   "metadata": {
    "id": "Zp1I7Y5tGa7v",
    "cell_id": "00019-063df16c-6590-41fb-a4d1-5f541698c378",
    "deepnote_cell_type": "markdown",
    "deepnote_cell_height": 56
   }
  },
  {
   "cell_type": "code",
   "metadata": {
    "id": "gvxomueZGa7w",
    "outputId": "5dd7713a-17a2-466c-e30b-e3cd9280a7d5",
    "cell_id": "00020-adb34148-0646-4ece-bfed-0cf47b012567",
    "deepnote_cell_type": "code",
    "deepnote_cell_height": 206.75,
    "deepnote_output_heights": [
     78.75
    ]
   },
   "source": "from tensorflow import keras\nK = keras.backend\nK.square(K.transpose(t)) + 10",
   "execution_count": null,
   "outputs": [
    {
     "data": {
      "text/plain": "<tf.Tensor: shape=(3, 2), dtype=float32, numpy=\narray([[11., 26.],\n       [14., 35.],\n       [19., 46.]], dtype=float32)>"
     },
     "execution_count": 12,
     "metadata": {},
     "output_type": "execute_result"
    }
   ]
  },
  {
   "cell_type": "markdown",
   "source": "### From/To NumPy",
   "metadata": {
    "id": "h19u7SemGa7x",
    "cell_id": "00021-1fbb1b96-3667-4db4-bc9a-c7b20e70ba73",
    "deepnote_cell_type": "markdown",
    "deepnote_cell_height": 54
   }
  },
  {
   "cell_type": "code",
   "metadata": {
    "id": "6OG-pYl0Ga7z",
    "outputId": "ad7d20c8-88b0-4829-d4a3-94a9aa17345f",
    "cell_id": "00022-52e25dfb-65b3-4a11-b87f-549825411ef7",
    "deepnote_cell_type": "code",
    "deepnote_cell_height": 131.1875,
    "deepnote_output_heights": [
     21.1875
    ]
   },
   "source": "a = np.array([2., 4., 5.])\ntf.constant(a)",
   "execution_count": null,
   "outputs": [
    {
     "data": {
      "text/plain": "<tf.Tensor: shape=(3,), dtype=float64, numpy=array([2., 4., 5.])>"
     },
     "execution_count": 13,
     "metadata": {},
     "output_type": "execute_result"
    }
   ]
  },
  {
   "cell_type": "code",
   "metadata": {
    "id": "XaDp15HIGa70",
    "outputId": "38da314b-188c-4ed5-be13-ee156e2c7632",
    "cell_id": "00023-5ef0d06f-8774-48dc-8a27-a46c86aeebe1",
    "deepnote_cell_type": "code",
    "deepnote_cell_height": 132.375,
    "deepnote_output_heights": [
     40.375
    ]
   },
   "source": "t.numpy()",
   "execution_count": null,
   "outputs": [
    {
     "data": {
      "text/plain": "array([[1., 2., 3.],\n       [4., 5., 6.]], dtype=float32)"
     },
     "execution_count": 14,
     "metadata": {},
     "output_type": "execute_result"
    }
   ]
  },
  {
   "cell_type": "code",
   "metadata": {
    "id": "Wm_KI2hAGa70",
    "outputId": "afc2b264-88aa-46cc-8fb4-a597cf5275b1",
    "cell_id": "00024-7b428367-8d93-4672-b3a7-2c4c27c8139d",
    "deepnote_cell_type": "code",
    "deepnote_cell_height": 132.375,
    "deepnote_output_heights": [
     40.375
    ]
   },
   "source": "np.array(t)",
   "execution_count": null,
   "outputs": [
    {
     "data": {
      "text/plain": "array([[1., 2., 3.],\n       [4., 5., 6.]], dtype=float32)"
     },
     "execution_count": 15,
     "metadata": {},
     "output_type": "execute_result"
    }
   ]
  },
  {
   "cell_type": "code",
   "metadata": {
    "id": "NoiE-hBrGa71",
    "outputId": "10dbe930-5a75-4991-dbb8-6408a0541a7c",
    "cell_id": "00025-a9a76001-c5f4-48b3-a9bd-1033dba71dcc",
    "deepnote_cell_type": "code",
    "deepnote_cell_height": 113.1875,
    "deepnote_output_heights": [
     21.1875
    ]
   },
   "source": "tf.square(a)",
   "execution_count": null,
   "outputs": [
    {
     "data": {
      "text/plain": "<tf.Tensor: shape=(3,), dtype=float64, numpy=array([ 4., 16., 25.])>"
     },
     "execution_count": 16,
     "metadata": {},
     "output_type": "execute_result"
    }
   ]
  },
  {
   "cell_type": "code",
   "metadata": {
    "id": "hc9rkT6wGa72",
    "outputId": "8f7fd609-cf45-479f-e2b3-0856140b8fe2",
    "cell_id": "00026-9794e4e6-3f60-47b3-a631-69758b9ba2cd",
    "deepnote_cell_type": "code",
    "deepnote_cell_height": 132.375,
    "deepnote_output_heights": [
     40.375
    ]
   },
   "source": "np.square(t)",
   "execution_count": null,
   "outputs": [
    {
     "data": {
      "text/plain": "array([[ 1.,  4.,  9.],\n       [16., 25., 36.]], dtype=float32)"
     },
     "execution_count": 17,
     "metadata": {},
     "output_type": "execute_result"
    }
   ]
  },
  {
   "cell_type": "markdown",
   "source": "### Conflicting Types",
   "metadata": {
    "id": "mUNajQ9bGa73",
    "cell_id": "00027-d10603ce-870a-482f-abfb-4cf824ae29ef",
    "deepnote_cell_type": "markdown",
    "deepnote_cell_height": 54
   }
  },
  {
   "cell_type": "code",
   "metadata": {
    "id": "mdVJKRiyGa73",
    "outputId": "3d109505-75eb-417f-826f-b7454cc3ddc9",
    "cell_id": "00028-ba100547-30b8-44ed-880b-c32860f35f65",
    "deepnote_cell_type": "code",
    "deepnote_cell_height": 165.1875
   },
   "source": "try:\n    tf.constant(2.0) + tf.constant(40)\nexcept tf.errors.InvalidArgumentError as ex:\n    print(ex)",
   "execution_count": null,
   "outputs": [
    {
     "name": "stdout",
     "output_type": "stream",
     "text": "cannot compute AddV2 as input #1(zero-based) was expected to be a float tensor but is a int32 tensor [Op:AddV2]\n"
    }
   ]
  },
  {
   "cell_type": "code",
   "metadata": {
    "id": "O_Lt9gdOGa74",
    "outputId": "ccf62956-913f-4db2-bc3e-9a28ebc7cf89",
    "cell_id": "00029-3dc6ff9d-048b-4893-b3f5-a43ef966c0ad",
    "deepnote_cell_type": "code",
    "deepnote_cell_height": 170.1875
   },
   "source": "try:\n    tf.constant(2.0) + tf.constant(40., dtype=tf.float64)\nexcept tf.errors.InvalidArgumentError as ex:\n    print(ex)",
   "execution_count": null,
   "outputs": [
    {
     "name": "stdout",
     "output_type": "stream",
     "text": "cannot compute AddV2 as input #1(zero-based) was expected to be a float tensor but is a double tensor [Op:AddV2]\n"
    }
   ]
  },
  {
   "cell_type": "code",
   "metadata": {
    "id": "-XVFVK5RGa75",
    "outputId": "31f013f0-253a-489d-ab98-ca4244e369bb",
    "cell_id": "00030-43a91c8a-5f1d-420b-815d-3349e8e0285d",
    "deepnote_cell_type": "code",
    "deepnote_cell_height": 131.1875,
    "deepnote_output_heights": [
     21.1875
    ]
   },
   "source": "t2 = tf.constant(40., dtype=tf.float64)\ntf.constant(2.0) + tf.cast(t2, tf.float32)",
   "execution_count": null,
   "outputs": [
    {
     "data": {
      "text/plain": "<tf.Tensor: shape=(), dtype=float32, numpy=42.0>"
     },
     "execution_count": 20,
     "metadata": {},
     "output_type": "execute_result"
    }
   ]
  },
  {
   "cell_type": "markdown",
   "source": "### Strings",
   "metadata": {
    "id": "61LPCyPmGa76",
    "cell_id": "00031-878249c1-a93f-4188-ae5f-b933aa49aa6f",
    "deepnote_cell_type": "markdown",
    "deepnote_cell_height": 54
   }
  },
  {
   "cell_type": "code",
   "metadata": {
    "id": "gJgzlGFLGa76",
    "outputId": "ebbac4e9-d789-4567-b9bf-ed7f80d68f6e",
    "cell_id": "00032-73b8f7f7-7c95-46b3-b549-0dc165d0bfe4",
    "deepnote_cell_type": "code",
    "deepnote_cell_height": 113.1875,
    "deepnote_output_heights": [
     21.1875
    ]
   },
   "source": "tf.constant(b\"hello world\")",
   "execution_count": null,
   "outputs": [
    {
     "data": {
      "text/plain": "<tf.Tensor: shape=(), dtype=string, numpy=b'hello world'>"
     },
     "execution_count": 21,
     "metadata": {},
     "output_type": "execute_result"
    }
   ]
  },
  {
   "cell_type": "code",
   "metadata": {
    "id": "JcX3irNqGa77",
    "outputId": "d4e68acd-e5c0-4c51-c43e-cdf25dbfd72e",
    "cell_id": "00033-d2dc1786-1186-465b-8555-5a286a925973",
    "deepnote_cell_type": "code",
    "deepnote_cell_height": 113.1875,
    "deepnote_output_heights": [
     21.1875
    ]
   },
   "source": "tf.constant(\"café\")",
   "execution_count": null,
   "outputs": [
    {
     "data": {
      "text/plain": "<tf.Tensor: shape=(), dtype=string, numpy=b'caf\\xc3\\xa9'>"
     },
     "execution_count": 22,
     "metadata": {},
     "output_type": "execute_result"
    }
   ]
  },
  {
   "cell_type": "code",
   "metadata": {
    "id": "e01sisslGa78",
    "outputId": "ee85d156-d77e-4fec-e055-e076de093329",
    "cell_id": "00034-d46bf27c-0830-4ce8-a589-c8096815aa0a",
    "deepnote_cell_type": "code",
    "deepnote_cell_height": 131.1875,
    "deepnote_output_heights": [
     21.1875
    ]
   },
   "source": "u = tf.constant([ord(c) for c in \"café\"])\nu",
   "execution_count": null,
   "outputs": [
    {
     "data": {
      "text/plain": "<tf.Tensor: shape=(4,), dtype=int32, numpy=array([ 99,  97, 102, 233], dtype=int32)>"
     },
     "execution_count": 23,
     "metadata": {},
     "output_type": "execute_result"
    }
   ]
  },
  {
   "cell_type": "code",
   "metadata": {
    "id": "E95vaSdfGa7-",
    "outputId": "2f70f4bc-8946-406b-e6a7-fe7abc2a11de",
    "cell_id": "00035-229823c0-9798-4f28-ae18-45e807edcf5f",
    "deepnote_cell_type": "code",
    "deepnote_cell_height": 131.1875,
    "deepnote_output_heights": [
     21.1875
    ]
   },
   "source": "b = tf.strings.unicode_encode(u, \"UTF-8\")\ntf.strings.length(b, unit=\"UTF8_CHAR\")",
   "execution_count": null,
   "outputs": [
    {
     "data": {
      "text/plain": "<tf.Tensor: shape=(), dtype=int32, numpy=4>"
     },
     "execution_count": 24,
     "metadata": {},
     "output_type": "execute_result"
    }
   ]
  },
  {
   "cell_type": "code",
   "metadata": {
    "id": "TtebyH84Ga7_",
    "outputId": "38630053-5629-42c0-c2af-bdd273fb6c0a",
    "cell_id": "00036-da483512-6e36-4bb9-813e-87c3be77a1f0",
    "deepnote_cell_type": "code",
    "deepnote_cell_height": 113.1875,
    "deepnote_output_heights": [
     21.1875
    ]
   },
   "source": "tf.strings.unicode_decode(b, \"UTF-8\")",
   "execution_count": null,
   "outputs": [
    {
     "data": {
      "text/plain": "<tf.Tensor: shape=(4,), dtype=int32, numpy=array([ 99,  97, 102, 233], dtype=int32)>"
     },
     "execution_count": 25,
     "metadata": {},
     "output_type": "execute_result"
    }
   ]
  },
  {
   "cell_type": "markdown",
   "source": "### String arrays",
   "metadata": {
    "id": "wGMUPv2-Ga8A",
    "cell_id": "00037-648a6423-7062-4ed2-a25e-96655f6000f3",
    "deepnote_cell_type": "markdown",
    "deepnote_cell_height": 54
   }
  },
  {
   "cell_type": "code",
   "metadata": {
    "id": "wVXNt8mXGa8A",
    "cell_id": "00038-acbd737d-7d0a-49cd-a193-232ad7cac5b3",
    "deepnote_cell_type": "code",
    "deepnote_cell_height": 61
   },
   "source": "p = tf.constant([\"Café\", \"Coffee\", \"caffè\", \"咖啡\"])",
   "execution_count": null,
   "outputs": []
  },
  {
   "cell_type": "code",
   "metadata": {
    "id": "djd_KZz0Ga8C",
    "outputId": "ef2cd7b2-011c-4f11-d119-a4b1701b13ca",
    "cell_id": "00039-f2d2e9a9-dc0a-43ad-9df4-678dfe6a8781",
    "deepnote_cell_type": "code",
    "deepnote_cell_height": 113.1875,
    "deepnote_output_heights": [
     21.1875
    ]
   },
   "source": "tf.strings.length(p, unit=\"UTF8_CHAR\")",
   "execution_count": null,
   "outputs": [
    {
     "data": {
      "text/plain": "<tf.Tensor: shape=(4,), dtype=int32, numpy=array([4, 6, 5, 2], dtype=int32)>"
     },
     "execution_count": 27,
     "metadata": {},
     "output_type": "execute_result"
    }
   ]
  },
  {
   "cell_type": "code",
   "metadata": {
    "id": "XYoaox7_Ga8D",
    "outputId": "ac4d6c23-b3ea-4d72-be8f-327adcc0c40d",
    "cell_id": "00040-82e5d5b2-a8fd-4272-8944-23e138398a70",
    "deepnote_cell_type": "code",
    "deepnote_cell_height": 131.1875,
    "deepnote_output_heights": [
     21.1875
    ]
   },
   "source": "r = tf.strings.unicode_decode(p, \"UTF8\")\nr",
   "execution_count": null,
   "outputs": [
    {
     "data": {
      "text/plain": "<tf.RaggedTensor [[67, 97, 102, 233], [67, 111, 102, 102, 101, 101], [99, 97, 102, 102, 232], [21654, 21857]]>"
     },
     "execution_count": 28,
     "metadata": {},
     "output_type": "execute_result"
    }
   ]
  },
  {
   "cell_type": "code",
   "metadata": {
    "id": "hj4D2pVVGa8D",
    "outputId": "3f41d698-1b69-4e92-e1df-373192b7cf09",
    "cell_id": "00041-0fc712e3-8f9f-428a-bc56-75625cdd5aec",
    "deepnote_cell_type": "code",
    "deepnote_cell_height": 111.1875
   },
   "source": "print(r)",
   "execution_count": null,
   "outputs": [
    {
     "name": "stdout",
     "output_type": "stream",
     "text": "<tf.RaggedTensor [[67, 97, 102, 233], [67, 111, 102, 102, 101, 101], [99, 97, 102, 102, 232], [21654, 21857]]>\n"
    }
   ]
  },
  {
   "cell_type": "markdown",
   "source": "### Ragged tensors",
   "metadata": {
    "id": "xVycweP1Ga8E",
    "cell_id": "00042-48e96a55-bef3-44d2-830d-a2d8994bf3e8",
    "deepnote_cell_type": "markdown",
    "deepnote_cell_height": 54
   }
  },
  {
   "cell_type": "code",
   "metadata": {
    "id": "WFagMwaGGa8E",
    "outputId": "23ba7b99-6e72-4f06-adff-ffd637918ddf",
    "cell_id": "00043-9f2aefd1-2111-4a9a-9a6a-3f528744d599",
    "deepnote_cell_type": "code",
    "deepnote_cell_height": 107.1875
   },
   "source": "print(r[1])",
   "execution_count": null,
   "outputs": [
    {
     "name": "stdout",
     "output_type": "stream",
     "text": "tf.Tensor([ 67 111 102 102 101 101], shape=(6,), dtype=int32)\n"
    }
   ]
  },
  {
   "cell_type": "code",
   "metadata": {
    "id": "YYrE-eiJGa8F",
    "outputId": "57d5ecbb-00f0-4acf-f754-ee4da942f60e",
    "cell_id": "00044-4e99ac5d-fcd5-4835-ad47-09caa2fc373c",
    "deepnote_cell_type": "code",
    "deepnote_cell_height": 111.1875
   },
   "source": "print(r[1:3])",
   "execution_count": null,
   "outputs": [
    {
     "name": "stdout",
     "output_type": "stream",
     "text": "<tf.RaggedTensor [[67, 111, 102, 102, 101, 101], [99, 97, 102, 102, 232]]>\n"
    }
   ]
  },
  {
   "cell_type": "code",
   "metadata": {
    "id": "X26P05NQGa8G",
    "outputId": "8cbfb435-1c2d-400e-c429-6ad8b8cd9e03",
    "cell_id": "00045-ddd56e00-eabe-4694-8ffd-213f2f103117",
    "deepnote_cell_type": "code",
    "deepnote_cell_height": 129.1875
   },
   "source": "r2 = tf.ragged.constant([[65, 66], [], [67]])\nprint(tf.concat([r, r2], axis=0))",
   "execution_count": null,
   "outputs": [
    {
     "name": "stdout",
     "output_type": "stream",
     "text": "<tf.RaggedTensor [[67, 97, 102, 233], [67, 111, 102, 102, 101, 101], [99, 97, 102, 102, 232], [21654, 21857], [65, 66], [], [67]]>\n"
    }
   ]
  },
  {
   "cell_type": "code",
   "metadata": {
    "id": "3RtE09LpGa8G",
    "outputId": "de6a7b49-625a-4a54-dc59-84c79a0f4d33",
    "cell_id": "00046-ed25d62b-8632-4a60-8ef0-a7325db9f6d7",
    "deepnote_cell_type": "code",
    "deepnote_cell_height": 134.1875
   },
   "source": "r3 = tf.ragged.constant([[68, 69, 70], [71], [], [72, 73]])\nprint(tf.concat([r, r3], axis=1))",
   "execution_count": null,
   "outputs": [
    {
     "name": "stdout",
     "output_type": "stream",
     "text": "<tf.RaggedTensor [[67, 97, 102, 233, 68, 69, 70], [67, 111, 102, 102, 101, 101, 71], [99, 97, 102, 102, 232], [21654, 21857, 72, 73]]>\n"
    }
   ]
  },
  {
   "cell_type": "code",
   "metadata": {
    "id": "bqCW1iVhGa8H",
    "outputId": "be28f022-525f-4c51-b861-601ef3a5b676",
    "cell_id": "00047-7fedf4ba-2ae5-4a36-867d-7e5e332544c7",
    "deepnote_cell_type": "code",
    "deepnote_cell_height": 113.1875,
    "deepnote_output_heights": [
     21.1875
    ]
   },
   "source": "tf.strings.unicode_encode(r3, \"UTF-8\")",
   "execution_count": null,
   "outputs": [
    {
     "data": {
      "text/plain": "<tf.Tensor: shape=(4,), dtype=string, numpy=array([b'DEF', b'G', b'', b'HI'], dtype=object)>"
     },
     "execution_count": 34,
     "metadata": {},
     "output_type": "execute_result"
    }
   ]
  },
  {
   "cell_type": "code",
   "metadata": {
    "id": "Scc-nORdGa8H",
    "outputId": "47b513e9-240d-42d8-d4b1-fea1ce3df0f1",
    "cell_id": "00048-a1fbe922-02d8-406d-94a8-e2d0a71d2c82",
    "deepnote_cell_type": "code",
    "deepnote_cell_height": 189.9375,
    "deepnote_output_heights": [
     97.9375
    ]
   },
   "source": "r.to_tensor()",
   "execution_count": null,
   "outputs": [
    {
     "data": {
      "text/plain": "<tf.Tensor: shape=(4, 6), dtype=int32, numpy=\narray([[   67,    97,   102,   233,     0,     0],\n       [   67,   111,   102,   102,   101,   101],\n       [   99,    97,   102,   102,   232,     0],\n       [21654, 21857,     0,     0,     0,     0]], dtype=int32)>"
     },
     "execution_count": 35,
     "metadata": {},
     "output_type": "execute_result"
    }
   ]
  },
  {
   "cell_type": "markdown",
   "source": "### Sparse tensors",
   "metadata": {
    "id": "SBwS5zABGa8I",
    "cell_id": "00049-070e0561-91c5-49fa-a1cf-58dec2f949bf",
    "deepnote_cell_type": "markdown",
    "deepnote_cell_height": 54
   }
  },
  {
   "cell_type": "code",
   "metadata": {
    "id": "Wnc2bystGa8I",
    "cell_id": "00050-658d73cb-5a96-4196-bf5c-fa43f4a3a535",
    "deepnote_cell_type": "code",
    "deepnote_cell_height": 97
   },
   "source": "s = tf.SparseTensor(indices=[[0, 1], [1, 0], [2, 3]],\n                    values=[1., 2., 3.],\n                    dense_shape=[3, 4])",
   "execution_count": null,
   "outputs": []
  },
  {
   "cell_type": "code",
   "metadata": {
    "id": "W1V1Rm5bGa8J",
    "outputId": "2105854f-6485-4c6b-c4a0-be302e5a34fc",
    "cell_id": "00051-d8993bf4-e83b-4460-bedb-9c3893288565",
    "deepnote_cell_type": "code",
    "deepnote_cell_height": 171.75
   },
   "source": "print(s)",
   "execution_count": null,
   "outputs": [
    {
     "name": "stdout",
     "output_type": "stream",
     "text": "SparseTensor(indices=tf.Tensor(\n[[0 1]\n [1 0]\n [2 3]], shape=(3, 2), dtype=int64), values=tf.Tensor([1. 2. 3.], shape=(3,), dtype=float32), dense_shape=tf.Tensor([3 4], shape=(2,), dtype=int64))\n"
    }
   ]
  },
  {
   "cell_type": "code",
   "metadata": {
    "id": "eKMYEKnhGa8M",
    "outputId": "00ddcf56-633c-4271-dd9e-8b124e5e4915",
    "cell_id": "00052-9c7abb34-061e-4c1c-b4a5-b8307c9e3112",
    "deepnote_cell_type": "code",
    "deepnote_cell_height": 170.75,
    "deepnote_output_heights": [
     78.75
    ]
   },
   "source": "tf.sparse.to_dense(s)",
   "execution_count": null,
   "outputs": [
    {
     "data": {
      "text/plain": "<tf.Tensor: shape=(3, 4), dtype=float32, numpy=\narray([[0., 1., 0., 0.],\n       [2., 0., 0., 0.],\n       [0., 0., 0., 3.]], dtype=float32)>"
     },
     "execution_count": 38,
     "metadata": {},
     "output_type": "execute_result"
    }
   ]
  },
  {
   "cell_type": "code",
   "metadata": {
    "id": "NXOkZCVrGa8M",
    "cell_id": "00053-57717a91-6e4b-4fe0-ab1e-ec056d08119e",
    "deepnote_cell_type": "code",
    "deepnote_cell_height": 61
   },
   "source": "s2 = s * 2.0",
   "execution_count": null,
   "outputs": []
  },
  {
   "cell_type": "code",
   "metadata": {
    "id": "QcuK7wD7Ga8N",
    "outputId": "06dce3e1-b5cb-4209-d56a-1fb8986e3324",
    "cell_id": "00054-f83318fc-fb76-4d84-922b-8ae5d7e1c466",
    "deepnote_cell_type": "code",
    "deepnote_cell_height": 161.1875
   },
   "source": "try:\n    s3 = s + 1.\nexcept TypeError as ex:\n    print(ex)",
   "execution_count": null,
   "outputs": [
    {
     "name": "stdout",
     "output_type": "stream",
     "text": "unsupported operand type(s) for +: 'SparseTensor' and 'float'\n"
    }
   ]
  },
  {
   "cell_type": "code",
   "metadata": {
    "id": "lZ4F_Z0zGa8N",
    "outputId": "4765f65d-cc0c-4a88-8aca-c43ee20937c0",
    "cell_id": "00055-25ab4895-9edb-4c95-8d1b-9ad7abd7dbfd",
    "deepnote_cell_type": "code",
    "deepnote_cell_height": 193.75,
    "deepnote_output_heights": [
     78.75
    ]
   },
   "source": "s4 = tf.constant([[10., 20.], [30., 40.], [50., 60.], [70., 80.]])\ntf.sparse.sparse_dense_matmul(s, s4)",
   "execution_count": null,
   "outputs": [
    {
     "data": {
      "text/plain": "<tf.Tensor: shape=(3, 2), dtype=float32, numpy=\narray([[ 30.,  40.],\n       [ 20.,  40.],\n       [210., 240.]], dtype=float32)>"
     },
     "execution_count": 41,
     "metadata": {},
     "output_type": "execute_result"
    }
   ]
  },
  {
   "cell_type": "code",
   "metadata": {
    "id": "wwBaQY9EGa8O",
    "outputId": "2728716c-43cf-4846-f65d-65c8d60ae854",
    "cell_id": "00056-08c70f32-b7a7-4680-80aa-53077d25deb5",
    "deepnote_cell_type": "code",
    "deepnote_cell_height": 205.5625
   },
   "source": "s5 = tf.SparseTensor(indices=[[0, 2], [0, 1]],\n                     values=[1., 2.],\n                     dense_shape=[3, 4])\nprint(s5)",
   "execution_count": null,
   "outputs": [
    {
     "name": "stdout",
     "output_type": "stream",
     "text": "SparseTensor(indices=tf.Tensor(\n[[0 2]\n [0 1]], shape=(2, 2), dtype=int64), values=tf.Tensor([1. 2.], shape=(2,), dtype=float32), dense_shape=tf.Tensor([3 4], shape=(2,), dtype=int64))\n"
    }
   ]
  },
  {
   "cell_type": "code",
   "metadata": {
    "id": "L2St6VXDGa8O",
    "outputId": "a1a6f647-71af-4861-d847-41e6135a3ecb",
    "cell_id": "00057-18cb7a37-d480-44bd-9027-185d34cf2dd1",
    "deepnote_cell_type": "code",
    "deepnote_cell_height": 225.75
   },
   "source": "try:\n    tf.sparse.to_dense(s5)\nexcept tf.errors.InvalidArgumentError as ex:\n    print(ex)",
   "execution_count": null,
   "outputs": [
    {
     "name": "stdout",
     "output_type": "stream",
     "text": "indices[1] = [0,1] is out of order. Many sparse ops require sorted indices.\n    Use `tf.sparse.reorder` to create a correctly ordered copy.\n\n [Op:SparseToDense]\n"
    }
   ]
  },
  {
   "cell_type": "code",
   "metadata": {
    "id": "uWQ_gH9fGa8P",
    "outputId": "e729897a-b37c-431f-abbb-4331db2f8320",
    "cell_id": "00058-8a506dec-19fe-4122-95ae-ecb058e16905",
    "deepnote_cell_type": "code",
    "deepnote_cell_height": 188.75,
    "deepnote_output_heights": [
     78.75
    ]
   },
   "source": "s6 = tf.sparse.reorder(s5)\ntf.sparse.to_dense(s6)",
   "execution_count": null,
   "outputs": [
    {
     "data": {
      "text/plain": "<tf.Tensor: shape=(3, 4), dtype=float32, numpy=\narray([[0., 2., 1., 0.],\n       [0., 0., 0., 0.],\n       [0., 0., 0., 0.]], dtype=float32)>"
     },
     "execution_count": 44,
     "metadata": {},
     "output_type": "execute_result"
    }
   ]
  },
  {
   "cell_type": "markdown",
   "source": "### Sets",
   "metadata": {
    "id": "nCH_N_TvGa8P",
    "cell_id": "00059-c2d018fc-a3cd-49dc-91d1-0210c1030329",
    "deepnote_cell_type": "markdown",
    "deepnote_cell_height": 54
   }
  },
  {
   "cell_type": "code",
   "metadata": {
    "id": "GNPQi13BGa8P",
    "outputId": "d74f96bd-30b2-4e40-b24c-a89357c6adbb",
    "cell_id": "00060-a95747aa-590d-4c3d-929c-31d2501dd995",
    "deepnote_cell_type": "code",
    "deepnote_cell_height": 187.5625,
    "deepnote_output_heights": [
     59.5625
    ]
   },
   "source": "set1 = tf.constant([[2, 3, 5, 7], [7, 9, 0, 0]])\nset2 = tf.constant([[4, 5, 6], [9, 10, 0]])\ntf.sparse.to_dense(tf.sets.union(set1, set2))",
   "execution_count": null,
   "outputs": [
    {
     "data": {
      "text/plain": "<tf.Tensor: shape=(2, 6), dtype=int32, numpy=\narray([[ 2,  3,  4,  5,  6,  7],\n       [ 0,  7,  9, 10,  0,  0]], dtype=int32)>"
     },
     "execution_count": 45,
     "metadata": {},
     "output_type": "execute_result"
    }
   ]
  },
  {
   "cell_type": "code",
   "metadata": {
    "id": "6aiQq6ahGa8Q",
    "outputId": "09919d43-e100-4242-fbd4-431fa6097b3c",
    "cell_id": "00061-026e9acd-84d9-4f36-ac97-a7972afec574",
    "deepnote_cell_type": "code",
    "deepnote_cell_height": 151.5625,
    "deepnote_output_heights": [
     59.5625
    ]
   },
   "source": "tf.sparse.to_dense(tf.sets.difference(set1, set2))",
   "execution_count": null,
   "outputs": [
    {
     "data": {
      "text/plain": "<tf.Tensor: shape=(2, 3), dtype=int32, numpy=\narray([[2, 3, 7],\n       [7, 0, 0]], dtype=int32)>"
     },
     "execution_count": 46,
     "metadata": {},
     "output_type": "execute_result"
    }
   ]
  },
  {
   "cell_type": "code",
   "metadata": {
    "id": "ditDTSFoGa8Q",
    "outputId": "2ec08f41-ff49-4337-c3e3-360733b64c8c",
    "cell_id": "00062-f92af16a-df84-47aa-b02e-6c6c6481c96d",
    "deepnote_cell_type": "code",
    "deepnote_cell_height": 151.5625,
    "deepnote_output_heights": [
     59.5625
    ]
   },
   "source": "tf.sparse.to_dense(tf.sets.intersection(set1, set2))",
   "execution_count": null,
   "outputs": [
    {
     "data": {
      "text/plain": "<tf.Tensor: shape=(2, 2), dtype=int32, numpy=\narray([[5, 0],\n       [0, 9]], dtype=int32)>"
     },
     "execution_count": 47,
     "metadata": {},
     "output_type": "execute_result"
    }
   ]
  },
  {
   "cell_type": "markdown",
   "source": "### Variables",
   "metadata": {
    "id": "S_AKylRCGa8Q",
    "cell_id": "00063-58b71973-eb5f-44f6-9ce9-e5359451422c",
    "deepnote_cell_type": "markdown",
    "deepnote_cell_height": 54
   }
  },
  {
   "cell_type": "code",
   "metadata": {
    "id": "y2d6vmraGa8R",
    "cell_id": "00064-44fcabd5-eced-43b7-b114-6c84f321d5d7",
    "deepnote_cell_type": "code",
    "deepnote_cell_height": 61
   },
   "source": "v = tf.Variable([[1., 2., 3.], [4., 5., 6.]])",
   "execution_count": null,
   "outputs": []
  },
  {
   "cell_type": "code",
   "metadata": {
    "id": "_cxjvBzvGa8R",
    "outputId": "b9c19331-de7c-4677-9460-57c4bb808827",
    "cell_id": "00065-d3e5b452-8bae-42cb-b920-4d917fae45f7",
    "deepnote_cell_type": "code",
    "deepnote_cell_height": 151.5625,
    "deepnote_output_heights": [
     59.5625
    ]
   },
   "source": "v.assign(2 * v)",
   "execution_count": null,
   "outputs": [
    {
     "data": {
      "text/plain": "<tf.Variable 'UnreadVariable' shape=(2, 3) dtype=float32, numpy=\narray([[ 2.,  4.,  6.],\n       [ 8., 10., 12.]], dtype=float32)>"
     },
     "execution_count": 49,
     "metadata": {},
     "output_type": "execute_result"
    }
   ]
  },
  {
   "cell_type": "code",
   "metadata": {
    "id": "0zJOzAsCGa8S",
    "outputId": "15aa7538-bc66-471b-80a3-b4656f587344",
    "cell_id": "00066-76e2e99e-5b2d-468c-a029-194d3017fbf2",
    "deepnote_cell_type": "code",
    "deepnote_cell_height": 151.5625,
    "deepnote_output_heights": [
     59.5625
    ]
   },
   "source": "v[0, 1].assign(42)",
   "execution_count": null,
   "outputs": [
    {
     "data": {
      "text/plain": "<tf.Variable 'UnreadVariable' shape=(2, 3) dtype=float32, numpy=\narray([[ 2., 42.,  6.],\n       [ 8., 10., 12.]], dtype=float32)>"
     },
     "execution_count": 50,
     "metadata": {},
     "output_type": "execute_result"
    }
   ]
  },
  {
   "cell_type": "code",
   "metadata": {
    "id": "icQFoQHfGa8T",
    "outputId": "d509caf0-4d6f-4fb2-b17f-d01b44e3d1de",
    "cell_id": "00067-b80329c6-3be2-4355-bfeb-cfc180f23da8",
    "deepnote_cell_type": "code",
    "deepnote_cell_height": 151.5625,
    "deepnote_output_heights": [
     59.5625
    ]
   },
   "source": "v[:, 2].assign([0., 1.])",
   "execution_count": null,
   "outputs": [
    {
     "data": {
      "text/plain": "<tf.Variable 'UnreadVariable' shape=(2, 3) dtype=float32, numpy=\narray([[ 2., 42.,  0.],\n       [ 8., 10.,  1.]], dtype=float32)>"
     },
     "execution_count": 51,
     "metadata": {},
     "output_type": "execute_result"
    }
   ]
  },
  {
   "cell_type": "code",
   "metadata": {
    "id": "U-8gdjReGa8T",
    "outputId": "6ef2407a-616c-4cf5-fe28-41164694f807",
    "cell_id": "00068-6a8a7624-5409-4945-bc17-de2ada04694a",
    "deepnote_cell_type": "code",
    "deepnote_cell_height": 161.1875
   },
   "source": "try:\n    v[1] = [7., 8., 9.]\nexcept TypeError as ex:\n    print(ex)",
   "execution_count": null,
   "outputs": [
    {
     "name": "stdout",
     "output_type": "stream",
     "text": "'ResourceVariable' object does not support item assignment\n"
    }
   ]
  },
  {
   "cell_type": "code",
   "metadata": {
    "id": "GcLUvyb6Ga8T",
    "outputId": "cb75b215-41ad-4323-9331-873236a5940d",
    "cell_id": "00069-f4dcc3a1-7481-4b7e-820a-96414d63da54",
    "deepnote_cell_type": "code",
    "deepnote_cell_height": 169.5625,
    "deepnote_output_heights": [
     59.5625
    ]
   },
   "source": "v.scatter_nd_update(indices=[[0, 0], [1, 2]],\n                    updates=[100., 200.])",
   "execution_count": null,
   "outputs": [
    {
     "data": {
      "text/plain": "<tf.Variable 'UnreadVariable' shape=(2, 3) dtype=float32, numpy=\narray([[100.,  42.,   0.],\n       [  8.,  10., 200.]], dtype=float32)>"
     },
     "execution_count": 53,
     "metadata": {},
     "output_type": "execute_result"
    }
   ]
  },
  {
   "cell_type": "code",
   "metadata": {
    "id": "fEsIKNC-Ga8U",
    "outputId": "ada89269-61dd-469e-9c2a-8e369feb18c3",
    "cell_id": "00070-927af232-963d-4fed-960d-469cfaedbf7b",
    "deepnote_cell_type": "code",
    "deepnote_cell_height": 192.5625,
    "deepnote_output_heights": [
     59.5625
    ]
   },
   "source": "sparse_delta = tf.IndexedSlices(values=[[1., 2., 3.], [4., 5., 6.]],\n                                indices=[1, 0])\nv.scatter_update(sparse_delta)",
   "execution_count": null,
   "outputs": [
    {
     "data": {
      "text/plain": "<tf.Variable 'UnreadVariable' shape=(2, 3) dtype=float32, numpy=\narray([[4., 5., 6.],\n       [1., 2., 3.]], dtype=float32)>"
     },
     "execution_count": 54,
     "metadata": {},
     "output_type": "execute_result"
    }
   ]
  },
  {
   "cell_type": "markdown",
   "source": "### Tensor Arrays",
   "metadata": {
    "id": "eV4vHryGGa8U",
    "cell_id": "00071-dc827289-a174-40be-8748-04eb571c7cc4",
    "deepnote_cell_type": "markdown",
    "deepnote_cell_height": 54
   }
  },
  {
   "cell_type": "code",
   "metadata": {
    "id": "A79FYMZdGa8U",
    "cell_id": "00072-4f4df352-8fdb-48fa-a925-47056bf7fbb5",
    "deepnote_cell_type": "code",
    "deepnote_cell_height": 115
   },
   "source": "array = tf.TensorArray(dtype=tf.float32, size=3)\narray = array.write(0, tf.constant([1., 2.]))\narray = array.write(1, tf.constant([3., 10.]))\narray = array.write(2, tf.constant([5., 7.]))",
   "execution_count": null,
   "outputs": []
  },
  {
   "cell_type": "code",
   "metadata": {
    "id": "0ZHNyzTeGa8V",
    "outputId": "2d1d3bb7-129b-44f4-da30-87f0312cb074",
    "cell_id": "00073-05bbe0fb-030e-4dd5-bf42-22421e31d29e",
    "deepnote_cell_type": "code",
    "deepnote_cell_height": 113.1875,
    "deepnote_output_heights": [
     21.1875
    ]
   },
   "source": "array.read(1)",
   "execution_count": null,
   "outputs": [
    {
     "data": {
      "text/plain": "<tf.Tensor: shape=(2,), dtype=float32, numpy=array([ 3., 10.], dtype=float32)>"
     },
     "execution_count": 56,
     "metadata": {},
     "output_type": "execute_result"
    }
   ]
  },
  {
   "cell_type": "code",
   "metadata": {
    "id": "Tg21yNoPGa8V",
    "outputId": "4558b484-40d5-4d79-e53c-72fd62957010",
    "cell_id": "00074-8b06a6b4-3873-4f9b-a0fb-3bc6999b1f44",
    "deepnote_cell_type": "code",
    "deepnote_cell_height": 170.75,
    "deepnote_output_heights": [
     78.75
    ]
   },
   "source": "array.stack()",
   "execution_count": null,
   "outputs": [
    {
     "data": {
      "text/plain": "<tf.Tensor: shape=(3, 2), dtype=float32, numpy=\narray([[1., 2.],\n       [0., 0.],\n       [5., 7.]], dtype=float32)>"
     },
     "execution_count": 57,
     "metadata": {},
     "output_type": "execute_result"
    }
   ]
  },
  {
   "cell_type": "code",
   "metadata": {
    "id": "2EkyR_OEGa8V",
    "outputId": "9eb3311d-a86e-4aa9-a0c0-d075c566237b",
    "cell_id": "00075-aa7e68c6-ef49-415b-a27b-78b6dc3165d9",
    "deepnote_cell_type": "code",
    "deepnote_cell_height": 131.1875,
    "deepnote_output_heights": [
     21.1875
    ]
   },
   "source": "mean, variance = tf.nn.moments(array.stack(), axes=0)\nmean",
   "execution_count": null,
   "outputs": [
    {
     "data": {
      "text/plain": "<tf.Tensor: shape=(2,), dtype=float32, numpy=array([2., 3.], dtype=float32)>"
     },
     "execution_count": 58,
     "metadata": {},
     "output_type": "execute_result"
    }
   ]
  },
  {
   "cell_type": "code",
   "metadata": {
    "id": "QYnTB7OuGa8W",
    "outputId": "4e808138-05cc-47e1-e8b2-a0004825eddc",
    "cell_id": "00076-393c620f-fff9-4dcb-a0a4-2eac607780e3",
    "deepnote_cell_type": "code",
    "deepnote_cell_height": 113.1875,
    "deepnote_output_heights": [
     21.1875
    ]
   },
   "source": "variance",
   "execution_count": null,
   "outputs": [
    {
     "data": {
      "text/plain": "<tf.Tensor: shape=(2,), dtype=float32, numpy=array([4.6666665, 8.666667 ], dtype=float32)>"
     },
     "execution_count": 59,
     "metadata": {},
     "output_type": "execute_result"
    }
   ]
  },
  {
   "cell_type": "markdown",
   "source": "## Custom loss function",
   "metadata": {
    "id": "Smb8f_nwGa8W",
    "cell_id": "00077-4f80c6d8-e447-465a-b01d-6278634aeb34",
    "deepnote_cell_type": "markdown",
    "deepnote_cell_height": 56.390625
   }
  },
  {
   "cell_type": "markdown",
   "source": "Let's start by loading and preparing the California housing dataset. We first load it, then split it into a training set, a validation set and a test set, and finally we scale it:",
   "metadata": {
    "id": "Dg3TCL1_Ga8W",
    "cell_id": "00078-4131c81c-0329-4153-add7-375492c38af7",
    "deepnote_cell_type": "markdown",
    "deepnote_cell_height": 97.171875
   }
  },
  {
   "cell_type": "code",
   "metadata": {
    "id": "5F1OvzsQGa8X",
    "cell_id": "00079-42d43ef2-fcba-41d7-92e4-75a0461ed777",
    "deepnote_cell_type": "code",
    "deepnote_cell_height": 300
   },
   "source": "from sklearn.datasets import fetch_california_housing\nfrom sklearn.model_selection import train_test_split\nfrom sklearn.preprocessing import StandardScaler\n\nhousing = fetch_california_housing()\nX_train_full, X_test, y_train_full, y_test = train_test_split(\n    housing.data, housing.target.reshape(-1, 1), random_state=42)\nX_train, X_valid, y_train, y_valid = train_test_split(\n    X_train_full, y_train_full, random_state=42)\n\nscaler = StandardScaler()\nX_train_scaled = scaler.fit_transform(X_train)\nX_valid_scaled = scaler.transform(X_valid)\nX_test_scaled = scaler.transform(X_test)",
   "execution_count": null,
   "outputs": []
  },
  {
   "cell_type": "code",
   "metadata": {
    "id": "QMZrf1waGa8X",
    "cell_id": "00080-ae2c84ca-c258-46f6-9296-72e7a66b6e16",
    "deepnote_cell_type": "code",
    "deepnote_cell_height": 156
   },
   "source": "def huber_fn(y_true, y_pred):\n    error = y_true - y_pred\n    is_small_error = tf.abs(error) < 1\n    squared_loss = tf.square(error) / 2\n    linear_loss  = tf.abs(error) - 0.5\n    return tf.where(is_small_error, squared_loss, linear_loss)",
   "execution_count": null,
   "outputs": []
  },
  {
   "cell_type": "code",
   "metadata": {
    "id": "R4ibkeaCGa8X",
    "outputId": "d05c0d6c-170f-492b-cf67-dfa671d48d13",
    "cell_id": "00081-e129a2d3-e8ad-429e-b52c-80f520e97496",
    "deepnote_cell_type": "code",
    "deepnote_cell_height": 592,
    "deepnote_output_heights": [
     261
    ]
   },
   "source": "plt.figure(figsize=(8, 3.5))\nz = np.linspace(-4, 4, 200)\nplt.plot(z, huber_fn(0, z), \"b-\", linewidth=2, label=\"huber($z$)\")\nplt.plot(z, z**2 / 2, \"b:\", linewidth=1, label=r\"$\\frac{1}{2}z^2$\")\nplt.plot([-1, -1], [0, huber_fn(0., -1.)], \"r--\")\nplt.plot([1, 1], [0, huber_fn(0., 1.)], \"r--\")\nplt.gca().axhline(y=0, color='k')\nplt.gca().axvline(x=0, color='k')\nplt.axis([-4, 4, 0, 4])\nplt.grid(True)\nplt.xlabel(\"$z$\")\nplt.legend(fontsize=14)\nplt.title(\"Huber loss\", fontsize=14)\nplt.show()",
   "execution_count": null,
   "outputs": [
    {
     "data": {
      "image/png": "[encoded data removed]",
      "text/plain": "<Figure size 576x252 with 1 Axes>"
     },
     "metadata": {
      "needs_background": "light",
      "image/png": {
       "width": 479,
       "height": 259
      }
     },
     "output_type": "display_data"
    }
   ]
  },
  {
   "cell_type": "code",
   "metadata": {
    "id": "-TLM9-mCGa8Y",
    "cell_id": "00082-1ae7fdac-a7d2-4415-9bd2-05a61b7dc626",
    "deepnote_cell_type": "code",
    "deepnote_cell_height": 174
   },
   "source": "input_shape = X_train.shape[1:]\n\nmodel = keras.models.Sequential([\n    keras.layers.Dense(30, activation=\"selu\", kernel_initializer=\"lecun_normal\",\n                       input_shape=input_shape),\n    keras.layers.Dense(1),\n])",
   "execution_count": null,
   "outputs": []
  },
  {
   "cell_type": "code",
   "metadata": {
    "id": "f3FD6v9UGa8Y",
    "cell_id": "00083-94d668d4-e7a5-43e0-824e-4f4b046fd7fe",
    "deepnote_cell_type": "code",
    "deepnote_cell_height": 66
   },
   "source": "model.compile(loss=huber_fn, optimizer=\"nadam\", metrics=[\"mae\"])",
   "execution_count": null,
   "outputs": []
  },
  {
   "cell_type": "code",
   "metadata": {
    "scrolled": true,
    "id": "nB-VsimzGa8b",
    "outputId": "e10bf15e-0764-4640-9549-79111cda21eb",
    "cell_id": "00084-bae349d9-7352-454d-9fb7-d4e3ae6e094f",
    "deepnote_cell_type": "code",
    "deepnote_cell_height": 241.9375,
    "deepnote_output_heights": [
     null,
     21.1875
    ]
   },
   "source": "model.fit(X_train_scaled, y_train, epochs=2,\n          validation_data=(X_valid_scaled, y_valid))",
   "execution_count": null,
   "outputs": [
    {
     "name": "stdout",
     "output_type": "stream",
     "text": "Epoch 1/2\n363/363 [==============================] - 1s 2ms/step - loss: 1.0443 - mae: 1.4660 - val_loss: 0.2862 - val_mae: 0.5866\nEpoch 2/2\n363/363 [==============================] - 0s 737us/step - loss: 0.2379 - mae: 0.5407 - val_loss: 0.2382 - val_mae: 0.5281\n"
    },
    {
     "data": {
      "text/plain": "<tensorflow.python.keras.callbacks.History at 0x7fc000dcc850>"
     },
     "execution_count": 65,
     "metadata": {},
     "output_type": "execute_result"
    }
   ]
  },
  {
   "cell_type": "markdown",
   "source": "## Saving/Loading Models with Custom Objects",
   "metadata": {
    "id": "uGtdmyBLGa8b",
    "cell_id": "00085-1091dbdd-dc01-4371-890e-a62f7ef4e068",
    "deepnote_cell_type": "markdown",
    "deepnote_cell_height": 82.78125
   }
  },
  {
   "cell_type": "code",
   "metadata": {
    "id": "a448WNNMGa8b",
    "cell_id": "00086-ec62e5e8-b049-4d39-8f6c-0bb2cb4360e4",
    "deepnote_cell_type": "code",
    "deepnote_cell_height": 61
   },
   "source": "model.save(\"my_model_with_a_custom_loss.h5\")",
   "execution_count": null,
   "outputs": []
  },
  {
   "cell_type": "code",
   "metadata": {
    "id": "AVmpnEkPGa8c",
    "cell_id": "00087-1ae8e9f9-e80c-4d81-b155-b831d069747b",
    "deepnote_cell_type": "code",
    "deepnote_cell_height": 84
   },
   "source": "model = keras.models.load_model(\"my_model_with_a_custom_loss.h5\",\n                                custom_objects={\"huber_fn\": huber_fn})",
   "execution_count": null,
   "outputs": []
  },
  {
   "cell_type": "code",
   "metadata": {
    "id": "8D0ZUj0wGa8c",
    "outputId": "7458cef8-087a-4ca6-8ea8-4d31ab653bb0",
    "cell_id": "00088-3bd786ba-8d8b-4a9b-bd21-04e8f7ba49ac",
    "deepnote_cell_type": "code",
    "deepnote_cell_height": 241.9375,
    "deepnote_output_heights": [
     null,
     21.1875
    ]
   },
   "source": "model.fit(X_train_scaled, y_train, epochs=2,\n          validation_data=(X_valid_scaled, y_valid))",
   "execution_count": null,
   "outputs": [
    {
     "name": "stdout",
     "output_type": "stream",
     "text": "Epoch 1/2\n363/363 [==============================] - 1s 970us/step - loss: 0.2054 - mae: 0.4982 - val_loss: 0.2209 - val_mae: 0.5050\nEpoch 2/2\n363/363 [==============================] - 0s 769us/step - loss: 0.1999 - mae: 0.4900 - val_loss: 0.2127 - val_mae: 0.4986\n"
    },
    {
     "data": {
      "text/plain": "<tensorflow.python.keras.callbacks.History at 0x7fbfd8c09090>"
     },
     "execution_count": 68,
     "metadata": {},
     "output_type": "execute_result"
    }
   ]
  },
  {
   "cell_type": "code",
   "metadata": {
    "id": "rr8N-AGRGa8d",
    "cell_id": "00089-1a34dab7-1dd8-49ee-a8cc-bd7289573e3b",
    "deepnote_cell_type": "code",
    "deepnote_cell_height": 192
   },
   "source": "def create_huber(threshold=1.0):\n    def huber_fn(y_true, y_pred):\n        error = y_true - y_pred\n        is_small_error = tf.abs(error) < threshold\n        squared_loss = tf.square(error) / 2\n        linear_loss  = threshold * tf.abs(error) - threshold**2 / 2\n        return tf.where(is_small_error, squared_loss, linear_loss)\n    return huber_fn",
   "execution_count": null,
   "outputs": []
  },
  {
   "cell_type": "code",
   "metadata": {
    "id": "__jC_l3aGa8d",
    "cell_id": "00090-5d8db328-6532-4e51-97ee-78c5a7f8755f",
    "deepnote_cell_type": "code",
    "deepnote_cell_height": 66
   },
   "source": "model.compile(loss=create_huber(2.0), optimizer=\"nadam\", metrics=[\"mae\"])",
   "execution_count": null,
   "outputs": []
  },
  {
   "cell_type": "code",
   "metadata": {
    "scrolled": true,
    "id": "OlaD1DseGa8d",
    "outputId": "17331132-ba00-482d-caa2-76488f8de1b9",
    "cell_id": "00091-9c6dbcb7-7d27-46e1-a8e4-252777aebff3",
    "deepnote_cell_type": "code",
    "deepnote_cell_height": 241.9375,
    "deepnote_output_heights": [
     null,
     21.1875
    ]
   },
   "source": "model.fit(X_train_scaled, y_train, epochs=2,\n          validation_data=(X_valid_scaled, y_valid))",
   "execution_count": null,
   "outputs": [
    {
     "name": "stdout",
     "output_type": "stream",
     "text": "Epoch 1/2\n363/363 [==============================] - 1s 1ms/step - loss: 0.2318 - mae: 0.4979 - val_loss: 0.2540 - val_mae: 0.4907\nEpoch 2/2\n363/363 [==============================] - 0s 749us/step - loss: 0.2309 - mae: 0.4960 - val_loss: 0.2372 - val_mae: 0.4879\n"
    },
    {
     "data": {
      "text/plain": "<tensorflow.python.keras.callbacks.History at 0x7fbfd8c969d0>"
     },
     "execution_count": 71,
     "metadata": {},
     "output_type": "execute_result"
    }
   ]
  },
  {
   "cell_type": "code",
   "metadata": {
    "id": "zzi_vLExGa8e",
    "cell_id": "00092-1d299cbe-dee0-4090-82bf-372571d55691",
    "deepnote_cell_type": "code",
    "deepnote_cell_height": 66
   },
   "source": "model.save(\"my_model_with_a_custom_loss_threshold_2.h5\")",
   "execution_count": null,
   "outputs": []
  },
  {
   "cell_type": "code",
   "metadata": {
    "id": "lxk-dqaaGa8e",
    "cell_id": "00093-46872dd1-9281-4f2b-a635-0294bf7dcb65",
    "deepnote_cell_type": "code",
    "deepnote_cell_height": 84
   },
   "source": "model = keras.models.load_model(\"my_model_with_a_custom_loss_threshold_2.h5\",\n                                custom_objects={\"huber_fn\": create_huber(2.0)})",
   "execution_count": null,
   "outputs": []
  },
  {
   "cell_type": "code",
   "metadata": {
    "id": "O_IyRYHIGa8e",
    "outputId": "829aea89-1507-467f-faf3-07f4675e3abd",
    "cell_id": "00094-8fd61109-c446-45ac-8dab-cba998a5b453",
    "deepnote_cell_type": "code",
    "deepnote_cell_height": 241.9375,
    "deepnote_output_heights": [
     null,
     21.1875
    ]
   },
   "source": "model.fit(X_train_scaled, y_train, epochs=2,\n          validation_data=(X_valid_scaled, y_valid))",
   "execution_count": null,
   "outputs": [
    {
     "name": "stdout",
     "output_type": "stream",
     "text": "Epoch 1/2\n363/363 [==============================] - 1s 1ms/step - loss: 0.2147 - mae: 0.4800 - val_loss: 0.2133 - val_mae: 0.4654\nEpoch 2/2\n363/363 [==============================] - 0s 763us/step - loss: 0.2119 - mae: 0.4762 - val_loss: 0.1992 - val_mae: 0.4643\n"
    },
    {
     "data": {
      "text/plain": "<tensorflow.python.keras.callbacks.History at 0x7fbff7a0a590>"
     },
     "execution_count": 74,
     "metadata": {},
     "output_type": "execute_result"
    }
   ]
  },
  {
   "cell_type": "code",
   "metadata": {
    "id": "NlqMrpyUGa8e",
    "cell_id": "00095-f987493c-69ca-4763-ba26-0603211d0de7",
    "deepnote_cell_type": "code",
    "deepnote_cell_height": 282
   },
   "source": "class HuberLoss(keras.losses.Loss):\n    def __init__(self, threshold=1.0, **kwargs):\n        self.threshold = threshold\n        super().__init__(**kwargs)\n    def call(self, y_true, y_pred):\n        error = y_true - y_pred\n        is_small_error = tf.abs(error) < self.threshold\n        squared_loss = tf.square(error) / 2\n        linear_loss  = self.threshold * tf.abs(error) - self.threshold**2 / 2\n        return tf.where(is_small_error, squared_loss, linear_loss)\n    def get_config(self):\n        base_config = super().get_config()\n        return {**base_config, \"threshold\": self.threshold}",
   "execution_count": null,
   "outputs": []
  },
  {
   "cell_type": "code",
   "metadata": {
    "id": "gEm244TiGa8f",
    "cell_id": "00096-dacc1ca2-8b4a-4ac3-a3a6-be5b8a46da7d",
    "deepnote_cell_type": "code",
    "deepnote_cell_height": 138
   },
   "source": "model = keras.models.Sequential([\n    keras.layers.Dense(30, activation=\"selu\", kernel_initializer=\"lecun_normal\",\n                       input_shape=input_shape),\n    keras.layers.Dense(1),\n])",
   "execution_count": null,
   "outputs": []
  },
  {
   "cell_type": "code",
   "metadata": {
    "id": "fQdfZ1QwGa8f",
    "cell_id": "00097-a9f9e9d6-aabe-414d-931c-20c3d16d2953",
    "deepnote_cell_type": "code",
    "deepnote_cell_height": 66
   },
   "source": "model.compile(loss=HuberLoss(2.), optimizer=\"nadam\", metrics=[\"mae\"])",
   "execution_count": null,
   "outputs": []
  },
  {
   "cell_type": "code",
   "metadata": {
    "id": "mi85k2AKGa8f",
    "outputId": "ffa573a2-7e4c-4d87-cb70-a7281c161e34",
    "cell_id": "00098-22cf9f54-b907-444c-ad95-7a45399d4e27",
    "deepnote_cell_type": "code",
    "deepnote_cell_height": 241.9375,
    "deepnote_output_heights": [
     null,
     21.1875
    ]
   },
   "source": "model.fit(X_train_scaled, y_train, epochs=2,\n          validation_data=(X_valid_scaled, y_valid))",
   "execution_count": null,
   "outputs": [
    {
     "name": "stdout",
     "output_type": "stream",
     "text": "Epoch 1/2\n363/363 [==============================] - 1s 1ms/step - loss: 1.3123 - mae: 1.3345 - val_loss: 0.3378 - val_mae: 0.5485\nEpoch 2/2\n363/363 [==============================] - 0s 760us/step - loss: 0.2659 - mae: 0.5270 - val_loss: 0.2660 - val_mae: 0.5089\n"
    },
    {
     "data": {
      "text/plain": "<tensorflow.python.keras.callbacks.History at 0x7fbfe06dad50>"
     },
     "execution_count": 78,
     "metadata": {},
     "output_type": "execute_result"
    }
   ]
  },
  {
   "cell_type": "code",
   "metadata": {
    "id": "ZhwGn1SCGa8g",
    "cell_id": "00099-82591a96-51b1-4ec2-a7d3-e161b6d41bfd",
    "deepnote_cell_type": "code",
    "deepnote_cell_height": 61
   },
   "source": "model.save(\"my_model_with_a_custom_loss_class.h5\")",
   "execution_count": null,
   "outputs": []
  },
  {
   "cell_type": "code",
   "metadata": {
    "id": "j8AKnpRpGa8g",
    "cell_id": "00100-57969018-ea46-4f76-83b7-a338166382b4",
    "deepnote_cell_type": "code",
    "deepnote_cell_height": 84
   },
   "source": "model = keras.models.load_model(\"my_model_with_a_custom_loss_class.h5\",\n                                custom_objects={\"HuberLoss\": HuberLoss})",
   "execution_count": null,
   "outputs": []
  },
  {
   "cell_type": "code",
   "metadata": {
    "id": "Piv1Wxl4Ga8g",
    "outputId": "d8ca2143-5654-4f5b-d3b7-5860d9f29a3b",
    "cell_id": "00101-c160d104-a393-4ff1-a09f-d1b2f536616d",
    "deepnote_cell_type": "code",
    "deepnote_cell_height": 241.9375,
    "deepnote_output_heights": [
     null,
     21.1875
    ]
   },
   "source": "model.fit(X_train_scaled, y_train, epochs=2,\n          validation_data=(X_valid_scaled, y_valid))",
   "execution_count": null,
   "outputs": [
    {
     "name": "stdout",
     "output_type": "stream",
     "text": "Epoch 1/2\n363/363 [==============================] - 1s 966us/step - loss: 0.2286 - mae: 0.4970 - val_loss: 0.2120 - val_mae: 0.4723\nEpoch 2/2\n363/363 [==============================] - 0s 757us/step - loss: 0.2216 - mae: 0.4904 - val_loss: 0.2045 - val_mae: 0.4725\n"
    },
    {
     "data": {
      "text/plain": "<tensorflow.python.keras.callbacks.History at 0x7fbfb0630d50>"
     },
     "execution_count": 81,
     "metadata": {},
     "output_type": "execute_result"
    }
   ]
  },
  {
   "cell_type": "code",
   "metadata": {
    "id": "J9Y7ZNlAGa8h",
    "outputId": "c06bc657-8d38-4257-a0a5-3fde326ac543",
    "cell_id": "00102-400305da-780b-4d71-ae52-91717b2b95d3",
    "deepnote_cell_type": "code",
    "deepnote_cell_height": 113.1875,
    "deepnote_output_heights": [
     21.1875
    ]
   },
   "source": "model.loss.threshold",
   "execution_count": null,
   "outputs": [
    {
     "data": {
      "text/plain": "2.0"
     },
     "execution_count": 82,
     "metadata": {},
     "output_type": "execute_result"
    }
   ]
  },
  {
   "cell_type": "markdown",
   "source": "## Other Custom Functions",
   "metadata": {
    "id": "ExsBgQcNGa8h",
    "cell_id": "00103-321e80fa-37cf-4a65-a62d-7eb90f899f80",
    "deepnote_cell_type": "markdown",
    "deepnote_cell_height": 56.390625
   }
  },
  {
   "cell_type": "code",
   "metadata": {
    "id": "xPx3TZL2Ga8h",
    "cell_id": "00104-b1875146-ad6d-44f9-bc75-a4d32d442ad5",
    "deepnote_cell_type": "code",
    "deepnote_cell_height": 97
   },
   "source": "keras.backend.clear_session()\nnp.random.seed(42)\ntf.random.set_seed(42)",
   "execution_count": null,
   "outputs": []
  },
  {
   "cell_type": "code",
   "metadata": {
    "id": "yUAA0n_HGa8i",
    "cell_id": "00105-96754a04-b287-48a6-b387-fa45234841e6",
    "deepnote_cell_type": "code",
    "deepnote_cell_height": 264
   },
   "source": "def my_softplus(z): # return value is just tf.nn.softplus(z)\n    return tf.math.log(tf.exp(z) + 1.0)\n\ndef my_glorot_initializer(shape, dtype=tf.float32):\n    stddev = tf.sqrt(2. / (shape[0] + shape[1]))\n    return tf.random.normal(shape, stddev=stddev, dtype=dtype)\n\ndef my_l1_regularizer(weights):\n    return tf.reduce_sum(tf.abs(0.01 * weights))\n\ndef my_positive_weights(weights): # return value is just tf.nn.relu(weights)\n    return tf.where(weights < 0., tf.zeros_like(weights), weights)",
   "execution_count": null,
   "outputs": []
  },
  {
   "cell_type": "code",
   "metadata": {
    "id": "P3gLyTXyGa8i",
    "cell_id": "00106-d781b4e8-4d57-4386-9007-a5d33cf226cb",
    "deepnote_cell_type": "code",
    "deepnote_cell_height": 120
   },
   "source": "layer = keras.layers.Dense(1, activation=my_softplus,\n                           kernel_initializer=my_glorot_initializer,\n                           kernel_regularizer=my_l1_regularizer,\n                           kernel_constraint=my_positive_weights)",
   "execution_count": null,
   "outputs": []
  },
  {
   "cell_type": "code",
   "metadata": {
    "id": "2j3RR8DSGa8j",
    "cell_id": "00107-925ca18a-b9e5-4f9d-a368-85e09691a730",
    "deepnote_cell_type": "code",
    "deepnote_cell_height": 97
   },
   "source": "keras.backend.clear_session()\nnp.random.seed(42)\ntf.random.set_seed(42)",
   "execution_count": null,
   "outputs": []
  },
  {
   "cell_type": "code",
   "metadata": {
    "id": "WC6k7kl9Ga8j",
    "cell_id": "00108-efb98681-b545-4002-96cc-61727c46ce73",
    "deepnote_cell_type": "code",
    "deepnote_cell_height": 192
   },
   "source": "model = keras.models.Sequential([\n    keras.layers.Dense(30, activation=\"selu\", kernel_initializer=\"lecun_normal\",\n                       input_shape=input_shape),\n    keras.layers.Dense(1, activation=my_softplus,\n                       kernel_regularizer=my_l1_regularizer,\n                       kernel_constraint=my_positive_weights,\n                       kernel_initializer=my_glorot_initializer),\n])",
   "execution_count": null,
   "outputs": []
  },
  {
   "cell_type": "code",
   "metadata": {
    "id": "lxo5vsWpGa8k",
    "cell_id": "00109-676be9a1-fe09-48d5-a182-79e9f5ed86f5",
    "deepnote_cell_type": "code",
    "deepnote_cell_height": 66
   },
   "source": "model.compile(loss=\"mse\", optimizer=\"nadam\", metrics=[\"mae\"])",
   "execution_count": null,
   "outputs": []
  },
  {
   "cell_type": "code",
   "metadata": {
    "id": "Rbl7TJvwGa8l",
    "outputId": "6054a103-8807-4d4f-9966-a9655d60b8bc",
    "cell_id": "00110-22982884-783d-4756-b2e7-bdf21ff55524",
    "deepnote_cell_type": "code",
    "deepnote_cell_height": 241.9375,
    "deepnote_output_heights": [
     null,
     21.1875
    ]
   },
   "source": "model.fit(X_train_scaled, y_train, epochs=2,\n          validation_data=(X_valid_scaled, y_valid))",
   "execution_count": null,
   "outputs": [
    {
     "name": "stdout",
     "output_type": "stream",
     "text": "Epoch 1/2\n363/363 [==============================] - 1s 1ms/step - loss: 2.3829 - mae: 1.1635 - val_loss: 1.4154 - val_mae: 0.5607\nEpoch 2/2\n363/363 [==============================] - 0s 757us/step - loss: 0.6299 - mae: 0.5410 - val_loss: 1.4399 - val_mae: 0.5137\n"
    },
    {
     "data": {
      "text/plain": "<tensorflow.python.keras.callbacks.History at 0x7fbfd8e49690>"
     },
     "execution_count": 89,
     "metadata": {},
     "output_type": "execute_result"
    }
   ]
  },
  {
   "cell_type": "code",
   "metadata": {
    "id": "ilewBqlKGa8m",
    "cell_id": "00111-2c8e6a16-ea45-43c5-a757-18f80c69089b",
    "deepnote_cell_type": "code",
    "deepnote_cell_height": 61
   },
   "source": "model.save(\"my_model_with_many_custom_parts.h5\")",
   "execution_count": null,
   "outputs": []
  },
  {
   "cell_type": "code",
   "metadata": {
    "id": "0x_QMNuoGa8m",
    "cell_id": "00112-c94f346c-a4f8-40cb-8b1d-b44109f05c6e",
    "deepnote_cell_type": "code",
    "deepnote_cell_height": 192
   },
   "source": "model = keras.models.load_model(\n    \"my_model_with_many_custom_parts.h5\",\n    custom_objects={\n       \"my_l1_regularizer\": my_l1_regularizer,\n       \"my_positive_weights\": my_positive_weights,\n       \"my_glorot_initializer\": my_glorot_initializer,\n       \"my_softplus\": my_softplus,\n    })",
   "execution_count": null,
   "outputs": []
  },
  {
   "cell_type": "code",
   "metadata": {
    "id": "1kotjAIBGa8n",
    "cell_id": "00113-d167027b-5491-442c-b9a0-92a5ea00995f",
    "deepnote_cell_type": "code",
    "deepnote_cell_height": 174
   },
   "source": "class MyL1Regularizer(keras.regularizers.Regularizer):\n    def __init__(self, factor):\n        self.factor = factor\n    def __call__(self, weights):\n        return tf.reduce_sum(tf.abs(self.factor * weights))\n    def get_config(self):\n        return {\"factor\": self.factor}",
   "execution_count": null,
   "outputs": []
  },
  {
   "cell_type": "code",
   "metadata": {
    "id": "0sSeXHj6Ga8n",
    "cell_id": "00114-acd5322d-4199-4401-abe2-1f0560e90434",
    "deepnote_cell_type": "code",
    "deepnote_cell_height": 97
   },
   "source": "keras.backend.clear_session()\nnp.random.seed(42)\ntf.random.set_seed(42)",
   "execution_count": null,
   "outputs": []
  },
  {
   "cell_type": "code",
   "metadata": {
    "id": "LeKjozaAGa8n",
    "cell_id": "00115-4fb5cccd-898b-4429-a97d-f6956a307b4c",
    "deepnote_cell_type": "code",
    "deepnote_cell_height": 192
   },
   "source": "model = keras.models.Sequential([\n    keras.layers.Dense(30, activation=\"selu\", kernel_initializer=\"lecun_normal\",\n                       input_shape=input_shape),\n    keras.layers.Dense(1, activation=my_softplus,\n                       kernel_regularizer=MyL1Regularizer(0.01),\n                       kernel_constraint=my_positive_weights,\n                       kernel_initializer=my_glorot_initializer),\n])",
   "execution_count": null,
   "outputs": []
  },
  {
   "cell_type": "code",
   "metadata": {
    "id": "5LjQNcB7Ga8o",
    "cell_id": "00116-5c106af6-f32f-4e88-8076-809b5151e59c",
    "deepnote_cell_type": "code",
    "deepnote_cell_height": 66
   },
   "source": "model.compile(loss=\"mse\", optimizer=\"nadam\", metrics=[\"mae\"])",
   "execution_count": null,
   "outputs": []
  },
  {
   "cell_type": "code",
   "metadata": {
    "id": "bxFyR4lmGa8o",
    "outputId": "fc3180c2-772a-49d2-b2c3-bf3f192345e9",
    "cell_id": "00117-e0f2d494-ebce-4b52-b370-ab68bf85ca73",
    "deepnote_cell_type": "code",
    "deepnote_cell_height": 241.9375,
    "deepnote_output_heights": [
     null,
     21.1875
    ]
   },
   "source": "model.fit(X_train_scaled, y_train, epochs=2,\n          validation_data=(X_valid_scaled, y_valid))",
   "execution_count": null,
   "outputs": [
    {
     "name": "stdout",
     "output_type": "stream",
     "text": "Epoch 1/2\n363/363 [==============================] - 1s 1ms/step - loss: 2.3829 - mae: 1.1635 - val_loss: 1.4154 - val_mae: 0.5607\nEpoch 2/2\n363/363 [==============================] - 0s 757us/step - loss: 0.6299 - mae: 0.5410 - val_loss: 1.4399 - val_mae: 0.5137\n"
    },
    {
     "data": {
      "text/plain": "<tensorflow.python.keras.callbacks.History at 0x7fbfd90141d0>"
     },
     "execution_count": 96,
     "metadata": {},
     "output_type": "execute_result"
    }
   ]
  },
  {
   "cell_type": "code",
   "metadata": {
    "id": "3UscFXqKGa8o",
    "cell_id": "00118-c6c56402-79a8-45c1-92af-17b5b67f5ea9",
    "deepnote_cell_type": "code",
    "deepnote_cell_height": 61
   },
   "source": "model.save(\"my_model_with_many_custom_parts.h5\")",
   "execution_count": null,
   "outputs": []
  },
  {
   "cell_type": "code",
   "metadata": {
    "id": "dgSeL3ueGa8p",
    "cell_id": "00119-8a43e4e7-f7f4-467a-8af3-56ce9a9f71f3",
    "deepnote_cell_type": "code",
    "deepnote_cell_height": 192
   },
   "source": "model = keras.models.load_model(\n    \"my_model_with_many_custom_parts.h5\",\n    custom_objects={\n       \"MyL1Regularizer\": MyL1Regularizer,\n       \"my_positive_weights\": my_positive_weights,\n       \"my_glorot_initializer\": my_glorot_initializer,\n       \"my_softplus\": my_softplus,\n    })",
   "execution_count": null,
   "outputs": []
  },
  {
   "cell_type": "markdown",
   "source": "## Custom Metrics",
   "metadata": {
    "id": "W3ZGhdbXGa8r",
    "cell_id": "00120-697ebcab-fd3f-469a-b14b-ea0350ba289e",
    "deepnote_cell_type": "markdown",
    "deepnote_cell_height": 56.390625
   }
  },
  {
   "cell_type": "code",
   "metadata": {
    "id": "3fF_8zrKGa8r",
    "cell_id": "00121-8a933101-dc9c-4a1a-af1a-1d950d5d8112",
    "deepnote_cell_type": "code",
    "deepnote_cell_height": 97
   },
   "source": "keras.backend.clear_session()\nnp.random.seed(42)\ntf.random.set_seed(42)",
   "execution_count": null,
   "outputs": []
  },
  {
   "cell_type": "code",
   "metadata": {
    "id": "DaYSTcqWGa8s",
    "cell_id": "00122-43065d79-8b77-4b6d-9a81-e1dbb97e46c4",
    "deepnote_cell_type": "code",
    "deepnote_cell_height": 138
   },
   "source": "model = keras.models.Sequential([\n    keras.layers.Dense(30, activation=\"selu\", kernel_initializer=\"lecun_normal\",\n                       input_shape=input_shape),\n    keras.layers.Dense(1),\n])",
   "execution_count": null,
   "outputs": []
  },
  {
   "cell_type": "code",
   "metadata": {
    "id": "n9Iua6RkGa8s",
    "cell_id": "00123-03e719e9-8489-4cfc-99f4-34445d0b5bd3",
    "deepnote_cell_type": "code",
    "deepnote_cell_height": 66
   },
   "source": "model.compile(loss=\"mse\", optimizer=\"nadam\", metrics=[create_huber(2.0)])",
   "execution_count": null,
   "outputs": []
  },
  {
   "cell_type": "code",
   "metadata": {
    "id": "IFPIorQuGa8t",
    "outputId": "c11ec068-4c99-4e85-b191-f14dae459592",
    "cell_id": "00124-32649139-32a7-48bd-a66e-f125660029fa",
    "deepnote_cell_type": "code",
    "deepnote_cell_height": 223.9375,
    "deepnote_output_heights": [
     null,
     21.1875
    ]
   },
   "source": "model.fit(X_train_scaled, y_train, epochs=2)",
   "execution_count": null,
   "outputs": [
    {
     "name": "stdout",
     "output_type": "stream",
     "text": "Epoch 1/2\n363/363 [==============================] - 1s 572us/step - loss: 3.5903 - huber_fn: 1.5558\nEpoch 2/2\n363/363 [==============================] - 0s 552us/step - loss: 0.8054 - huber_fn: 0.3095\n"
    },
    {
     "data": {
      "text/plain": "<tensorflow.python.keras.callbacks.History at 0x7fbff7cbe850>"
     },
     "execution_count": 102,
     "metadata": {},
     "output_type": "execute_result"
    }
   ]
  },
  {
   "cell_type": "markdown",
   "source": "**Note**: if you use the same function as the loss and a metric, you may be surprised to see different results. This is generally just due to floating point precision errors: even though the mathematical equations are equivalent, the operations are not run in the same order, which can lead to small differences. Moreover, when using sample weights, there's more than just precision errors:\n* the loss since the start of the epoch is the mean of all batch losses seen so far. Each batch loss is the sum of the weighted instance losses divided by the _batch size_ (not the sum of weights, so the batch loss is _not_ the weighted mean of the losses).\n* the metric since the start of the epoch is equal to the sum of weighted instance losses divided by sum of all weights seen so far. In other words, it is the weighted mean of all the instance losses. Not the same thing.\n\nIf you do the math, you will find that loss = metric * mean of sample weights (plus some floating point precision error).",
   "metadata": {
    "id": "lkf6Q0sSGa8u",
    "cell_id": "00125-948662a9-adfe-442b-b8bb-92269a608fbc",
    "deepnote_cell_type": "markdown",
    "deepnote_cell_height": 419.25
   }
  },
  {
   "cell_type": "code",
   "metadata": {
    "id": "ZbW6L4_HGa8w",
    "cell_id": "00126-1d773227-6645-4222-bc81-9a348314b299",
    "deepnote_cell_type": "code",
    "deepnote_cell_height": 66
   },
   "source": "model.compile(loss=create_huber(2.0), optimizer=\"nadam\", metrics=[create_huber(2.0)])",
   "execution_count": null,
   "outputs": []
  },
  {
   "cell_type": "code",
   "metadata": {
    "id": "I7ZA2yO6Ga8y",
    "outputId": "8a83372f-73ab-4b50-cb42-64c5a65c0175",
    "cell_id": "00127-cfee5768-2e9a-41a3-9bb7-e2e2025f44b9",
    "deepnote_cell_type": "code",
    "deepnote_cell_height": 194.75
   },
   "source": "sample_weight = np.random.rand(len(y_train))\nhistory = model.fit(X_train_scaled, y_train, epochs=2, sample_weight=sample_weight)",
   "execution_count": null,
   "outputs": [
    {
     "name": "stdout",
     "output_type": "stream",
     "text": "Epoch 1/2\n363/363 [==============================] - 1s 598us/step - loss: 0.1245 - huber_fn: 0.2515\nEpoch 2/2\n363/363 [==============================] - 0s 558us/step - loss: 0.1216 - huber_fn: 0.2473\n"
    }
   ]
  },
  {
   "cell_type": "code",
   "metadata": {
    "id": "OabsR2OMGa8y",
    "outputId": "b97a9c76-e90b-4249-ffbb-fbdabee5ba5d",
    "cell_id": "00128-a917d843-d4db-4180-aa22-f17b1f43a441",
    "deepnote_cell_type": "code",
    "deepnote_cell_height": 118.1875,
    "deepnote_output_heights": [
     21.1875
    ]
   },
   "source": "history.history[\"loss\"][0], history.history[\"huber_fn\"][0] * sample_weight.mean()",
   "execution_count": null,
   "outputs": [
    {
     "data": {
      "text/plain": "(0.11749906837940216, 0.11906625573138947)"
     },
     "execution_count": 105,
     "metadata": {},
     "output_type": "execute_result"
    }
   ]
  },
  {
   "cell_type": "markdown",
   "source": "### Streaming metrics",
   "metadata": {
    "id": "QjipA6mmGa8z",
    "cell_id": "00129-e1363c42-1e72-4752-ab7e-ffd3c8bd100a",
    "deepnote_cell_type": "markdown",
    "deepnote_cell_height": 54
   }
  },
  {
   "cell_type": "code",
   "metadata": {
    "id": "cYrYyczOGa80",
    "outputId": "13232751-cad5-44c7-bd97-3cc47168338f",
    "cell_id": "00130-8f12a5d7-98ae-4816-9d59-e80d1a062bd9",
    "deepnote_cell_type": "code",
    "deepnote_cell_height": 136.1875,
    "deepnote_output_heights": [
     21.1875
    ]
   },
   "source": "precision = keras.metrics.Precision()\nprecision([0, 1, 1, 1, 0, 1, 0, 1], [1, 1, 0, 1, 0, 1, 0, 1])",
   "execution_count": null,
   "outputs": [
    {
     "data": {
      "text/plain": "<tf.Tensor: shape=(), dtype=float32, numpy=0.8>"
     },
     "execution_count": 106,
     "metadata": {},
     "output_type": "execute_result"
    }
   ]
  },
  {
   "cell_type": "code",
   "metadata": {
    "id": "lo98dIxkGa82",
    "outputId": "da3d99ea-be1f-4cbd-9756-a4b2dfd8dfb8",
    "cell_id": "00131-000587e0-22bf-463f-a81a-6ada938ac660",
    "deepnote_cell_type": "code",
    "deepnote_cell_height": 118.1875,
    "deepnote_output_heights": [
     21.1875
    ]
   },
   "source": "precision([0, 1, 0, 0, 1, 0, 1, 1], [1, 0, 1, 1, 0, 0, 0, 0])",
   "execution_count": null,
   "outputs": [
    {
     "data": {
      "text/plain": "<tf.Tensor: shape=(), dtype=float32, numpy=0.5>"
     },
     "execution_count": 107,
     "metadata": {},
     "output_type": "execute_result"
    }
   ]
  },
  {
   "cell_type": "code",
   "metadata": {
    "id": "ymZITo7HGa83",
    "outputId": "5f3952c1-5c32-46b1-b95e-e1a1982d2351",
    "cell_id": "00132-8f4549aa-f3f2-4a5c-b2a7-2ee0e3e30a1a",
    "deepnote_cell_type": "code",
    "deepnote_cell_height": 113.1875,
    "deepnote_output_heights": [
     21.1875
    ]
   },
   "source": "precision.result()",
   "execution_count": null,
   "outputs": [
    {
     "data": {
      "text/plain": "<tf.Tensor: shape=(), dtype=float32, numpy=0.5>"
     },
     "execution_count": 108,
     "metadata": {},
     "output_type": "execute_result"
    }
   ]
  },
  {
   "cell_type": "code",
   "metadata": {
    "id": "2VSvpzb8Ga83",
    "outputId": "d6f887c8-1a08-46df-8fc2-f0e78d2475d2",
    "cell_id": "00133-ff9e93d3-6743-4486-b00f-897aedd7d023",
    "deepnote_cell_type": "code",
    "deepnote_cell_height": 132.375,
    "deepnote_output_heights": [
     40.375
    ]
   },
   "source": "precision.variables",
   "execution_count": null,
   "outputs": [
    {
     "data": {
      "text/plain": "[<tf.Variable 'true_positives:0' shape=(1,) dtype=float32, numpy=array([4.], dtype=float32)>,\n <tf.Variable 'false_positives:0' shape=(1,) dtype=float32, numpy=array([4.], dtype=float32)>]"
     },
     "execution_count": 109,
     "metadata": {},
     "output_type": "execute_result"
    }
   ]
  },
  {
   "cell_type": "code",
   "metadata": {
    "id": "QF8pL759Ga84",
    "cell_id": "00134-769e6d7a-94a2-4de1-bcf4-b352c89fba96",
    "deepnote_cell_type": "code",
    "deepnote_cell_height": 61
   },
   "source": "precision.reset_states()",
   "execution_count": null,
   "outputs": []
  },
  {
   "cell_type": "markdown",
   "source": "Creating a streaming metric:",
   "metadata": {
    "id": "vDe8uCDKGa84",
    "cell_id": "00135-a3918faf-a20d-48de-b31e-b100f4049586",
    "deepnote_cell_type": "markdown",
    "deepnote_cell_height": 52.390625
   }
  },
  {
   "cell_type": "code",
   "metadata": {
    "id": "14ikuBGEGa85",
    "cell_id": "00136-c2a98933-36c5-4ff0-beeb-07b1eb99399d",
    "deepnote_cell_type": "code",
    "deepnote_cell_height": 336
   },
   "source": "class HuberMetric(keras.metrics.Metric):\n    def __init__(self, threshold=1.0, **kwargs):\n        super().__init__(**kwargs) # handles base args (e.g., dtype)\n        self.threshold = threshold\n        self.huber_fn = create_huber(threshold)\n        self.total = self.add_weight(\"total\", initializer=\"zeros\")\n        self.count = self.add_weight(\"count\", initializer=\"zeros\")\n    def update_state(self, y_true, y_pred, sample_weight=None):\n        metric = self.huber_fn(y_true, y_pred)\n        self.total.assign_add(tf.reduce_sum(metric))\n        self.count.assign_add(tf.cast(tf.size(y_true), tf.float32))\n    def result(self):\n        return self.total / self.count\n    def get_config(self):\n        base_config = super().get_config()\n        return {**base_config, \"threshold\": self.threshold}",
   "execution_count": null,
   "outputs": []
  },
  {
   "cell_type": "code",
   "metadata": {
    "id": "lV8uLddcGa85",
    "outputId": "329d058e-19f6-4ef1-c831-083df781e8dc",
    "cell_id": "00137-9b004ca6-34a5-4a79-931b-bd7bdf97c8bd",
    "deepnote_cell_type": "code",
    "deepnote_cell_height": 203.1875,
    "deepnote_output_heights": [
     21.1875
    ]
   },
   "source": "m = HuberMetric(2.)\n\n# total = 2 * |10 - 2| - 2²/2 = 14\n# count = 1\n# result = 14 / 1 = 14\nm(tf.constant([[2.]]), tf.constant([[10.]])) ",
   "execution_count": null,
   "outputs": [
    {
     "data": {
      "text/plain": "<tf.Tensor: shape=(), dtype=float32, numpy=14.0>"
     },
     "execution_count": 112,
     "metadata": {},
     "output_type": "execute_result"
    }
   ]
  },
  {
   "cell_type": "code",
   "metadata": {
    "id": "mlEvRV5YGa86",
    "outputId": "f9e4a182-0627-405e-b98b-d852cacc34de",
    "cell_id": "00138-fbc36fe6-f1f4-4f80-8604-6092a62bfb07",
    "deepnote_cell_type": "code",
    "deepnote_cell_height": 208.1875,
    "deepnote_output_heights": [
     21.1875
    ]
   },
   "source": "# total = total + (|1 - 0|² / 2) + (2 * |9.25 - 5| - 2² / 2) = 14 + 7 = 21\n# count = count + 2 = 3\n# result = total / count = 21 / 3 = 7\nm(tf.constant([[0.], [5.]]), tf.constant([[1.], [9.25]]))\n\nm.result()",
   "execution_count": null,
   "outputs": [
    {
     "data": {
      "text/plain": "<tf.Tensor: shape=(), dtype=float32, numpy=7.0>"
     },
     "execution_count": 113,
     "metadata": {},
     "output_type": "execute_result"
    }
   ]
  },
  {
   "cell_type": "code",
   "metadata": {
    "id": "FOuoF2S4Ga87",
    "outputId": "6aced7ef-a30f-4d5a-cd4d-3064b1126abb",
    "cell_id": "00139-43060e07-0f16-45d1-b01e-fe47c767b1a1",
    "deepnote_cell_type": "code",
    "deepnote_cell_height": 132.375,
    "deepnote_output_heights": [
     40.375
    ]
   },
   "source": "m.variables",
   "execution_count": null,
   "outputs": [
    {
     "data": {
      "text/plain": "[<tf.Variable 'total:0' shape=() dtype=float32, numpy=21.0>,\n <tf.Variable 'count:0' shape=() dtype=float32, numpy=3.0>]"
     },
     "execution_count": 114,
     "metadata": {},
     "output_type": "execute_result"
    }
   ]
  },
  {
   "cell_type": "code",
   "metadata": {
    "id": "naK_Nnn3Ga87",
    "outputId": "811bf5dc-7fe0-4f02-9400-bcd2f18cad99",
    "cell_id": "00140-43cd7398-4994-47b8-9f67-0eb97282bfca",
    "deepnote_cell_type": "code",
    "deepnote_cell_height": 150.375,
    "deepnote_output_heights": [
     40.375
    ]
   },
   "source": "m.reset_states()\nm.variables",
   "execution_count": null,
   "outputs": [
    {
     "data": {
      "text/plain": "[<tf.Variable 'total:0' shape=() dtype=float32, numpy=0.0>,\n <tf.Variable 'count:0' shape=() dtype=float32, numpy=0.0>]"
     },
     "execution_count": 115,
     "metadata": {},
     "output_type": "execute_result"
    }
   ]
  },
  {
   "cell_type": "markdown",
   "source": "Let's check that the `HuberMetric` class works well:",
   "metadata": {
    "id": "VfhcmnRwGa88",
    "cell_id": "00141-695a08f6-cc19-4d30-97bd-e61ab8b3b3c1",
    "deepnote_cell_type": "markdown",
    "deepnote_cell_height": 52.390625
   }
  },
  {
   "cell_type": "code",
   "metadata": {
    "id": "26bt0m2PGa88",
    "cell_id": "00142-1aeaa07d-9b00-4777-873e-914ec9eb9a76",
    "deepnote_cell_type": "code",
    "deepnote_cell_height": 97
   },
   "source": "keras.backend.clear_session()\nnp.random.seed(42)\ntf.random.set_seed(42)",
   "execution_count": null,
   "outputs": []
  },
  {
   "cell_type": "code",
   "metadata": {
    "id": "1LeZ7aLhGa89",
    "cell_id": "00143-53bc99fb-38a0-454e-9e54-62dad13648dd",
    "deepnote_cell_type": "code",
    "deepnote_cell_height": 138
   },
   "source": "model = keras.models.Sequential([\n    keras.layers.Dense(30, activation=\"selu\", kernel_initializer=\"lecun_normal\",\n                       input_shape=input_shape),\n    keras.layers.Dense(1),\n])",
   "execution_count": null,
   "outputs": []
  },
  {
   "cell_type": "code",
   "metadata": {
    "id": "-I2wew2MGa89",
    "cell_id": "00144-fc2678ab-0003-44dd-a6a8-684c0c2baab9",
    "deepnote_cell_type": "code",
    "deepnote_cell_height": 66
   },
   "source": "model.compile(loss=create_huber(2.0), optimizer=\"nadam\", metrics=[HuberMetric(2.0)])",
   "execution_count": null,
   "outputs": []
  },
  {
   "cell_type": "code",
   "metadata": {
    "id": "Ep1aFocCGa89",
    "outputId": "db1ff72e-488f-41e3-b54e-a3e6e0473def",
    "cell_id": "00145-90009f12-17bd-421b-b3cd-2bb695cdcdcd",
    "deepnote_cell_type": "code",
    "deepnote_cell_height": 228.9375,
    "deepnote_output_heights": [
     null,
     21.1875
    ]
   },
   "source": "model.fit(X_train_scaled.astype(np.float32), y_train.astype(np.float32), epochs=2)",
   "execution_count": null,
   "outputs": [
    {
     "name": "stdout",
     "output_type": "stream",
     "text": "Epoch 1/2\n363/363 [==============================] - 1s 592us/step - loss: 1.5182 - huber_metric: 1.5182\nEpoch 2/2\n363/363 [==============================] - 0s 538us/step - loss: 0.2909 - huber_metric: 0.2909\n"
    },
    {
     "data": {
      "text/plain": "<tensorflow.python.keras.callbacks.History at 0x7fc000fdfbd0>"
     },
     "execution_count": 119,
     "metadata": {},
     "output_type": "execute_result"
    }
   ]
  },
  {
   "cell_type": "code",
   "metadata": {
    "id": "9F6xD0HUGa8-",
    "cell_id": "00146-74db8ba6-8765-46d2-82a1-01dcd2bebc7f",
    "deepnote_cell_type": "code",
    "deepnote_cell_height": 61
   },
   "source": "model.save(\"my_model_with_a_custom_metric.h5\")",
   "execution_count": null,
   "outputs": []
  },
  {
   "cell_type": "code",
   "metadata": {
    "id": "NB7VHnCaGa8-",
    "cell_id": "00147-15ecdb3a-9105-4954-ae3f-36de41fb01b2",
    "deepnote_cell_type": "code",
    "deepnote_cell_height": 102
   },
   "source": "model = keras.models.load_model(\"my_model_with_a_custom_metric.h5\",\n                                custom_objects={\"huber_fn\": create_huber(2.0),\n                                                \"HuberMetric\": HuberMetric})",
   "execution_count": null,
   "outputs": []
  },
  {
   "cell_type": "code",
   "metadata": {
    "id": "oPG0a4lYGa8-",
    "outputId": "7750d04e-c6e9-418a-808a-a8be6c18850d",
    "cell_id": "00148-7e66cbe2-579c-4989-9e5a-b7b28dffcbd2",
    "deepnote_cell_type": "code",
    "deepnote_cell_height": 228.9375,
    "deepnote_output_heights": [
     null,
     21.1875
    ]
   },
   "source": "model.fit(X_train_scaled.astype(np.float32), y_train.astype(np.float32), epochs=2)",
   "execution_count": null,
   "outputs": [
    {
     "name": "stdout",
     "output_type": "stream",
     "text": "Epoch 1/2\n363/363 [==============================] - 0s 545us/step - loss: 0.2350 - huber_metric: 0.2350\nEpoch 2/2\n363/363 [==============================] - 0s 524us/step - loss: 0.2278 - huber_metric: 0.2278\n"
    },
    {
     "data": {
      "text/plain": "<tensorflow.python.keras.callbacks.History at 0x7fc0011c1a50>"
     },
     "execution_count": 122,
     "metadata": {},
     "output_type": "execute_result"
    }
   ]
  },
  {
   "cell_type": "markdown",
   "source": "**Warning**: In TF 2.2, tf.keras adds an extra first metric in `model.metrics` at position 0 (see [TF issue #38150](https://github.com/tensorflow/tensorflow/issues/38150)). This forces us to use `model.metrics[-1]` rather than `model.metrics[0]` to access the `HuberMetric`.",
   "metadata": {
    "id": "QMqfcyzIGa8_",
    "cell_id": "00149-a41a8ffa-df1a-4824-83f8-8f517429fe86",
    "deepnote_cell_type": "markdown",
    "deepnote_cell_height": 119.5625
   }
  },
  {
   "cell_type": "code",
   "metadata": {
    "id": "fWLi2BzUGa8_",
    "outputId": "0d0c6beb-bcd3-41af-ecc1-68383a21ae17",
    "cell_id": "00150-c8dfb230-ae08-4391-a35c-85f2f761df57",
    "deepnote_cell_type": "code",
    "deepnote_cell_height": 113.1875,
    "deepnote_output_heights": [
     21.1875
    ]
   },
   "source": "model.metrics[-1].threshold",
   "execution_count": null,
   "outputs": [
    {
     "data": {
      "text/plain": "2.0"
     },
     "execution_count": 123,
     "metadata": {},
     "output_type": "execute_result"
    }
   ]
  },
  {
   "cell_type": "markdown",
   "source": "Looks like it works fine! More simply, we could have created the class like this:",
   "metadata": {
    "id": "eZVLAjqSGa9A",
    "cell_id": "00151-1ed713ff-b897-4b91-b67d-31cf312c2159",
    "deepnote_cell_type": "markdown",
    "deepnote_cell_height": 74.78125
   }
  },
  {
   "cell_type": "code",
   "metadata": {
    "id": "x91p8cBPGa9A",
    "cell_id": "00152-5e66bd09-8ea0-4567-84d5-25233c1320ec",
    "deepnote_cell_type": "code",
    "deepnote_cell_height": 246
   },
   "source": "class HuberMetric(keras.metrics.Mean):\n    def __init__(self, threshold=1.0, name='HuberMetric', dtype=None):\n        self.threshold = threshold\n        self.huber_fn = create_huber(threshold)\n        super().__init__(name=name, dtype=dtype)\n    def update_state(self, y_true, y_pred, sample_weight=None):\n        metric = self.huber_fn(y_true, y_pred)\n        super(HuberMetric, self).update_state(metric, sample_weight)\n    def get_config(self):\n        base_config = super().get_config()\n        return {**base_config, \"threshold\": self.threshold}        ",
   "execution_count": null,
   "outputs": []
  },
  {
   "cell_type": "markdown",
   "source": "This class handles shapes better, and it also supports sample weights.",
   "metadata": {
    "id": "iRNIPhqEGa9B",
    "cell_id": "00153-c9670b6f-b8f6-4bfb-89e0-bb138ef2a92c",
    "deepnote_cell_type": "markdown",
    "deepnote_cell_height": 74.78125
   }
  },
  {
   "cell_type": "code",
   "metadata": {
    "id": "gW9BYTZgGa9C",
    "cell_id": "00154-69654552-7646-44a0-814e-0c0a8edd17b9",
    "deepnote_cell_type": "code",
    "deepnote_cell_height": 97
   },
   "source": "keras.backend.clear_session()\nnp.random.seed(42)\ntf.random.set_seed(42)",
   "execution_count": null,
   "outputs": []
  },
  {
   "cell_type": "code",
   "metadata": {
    "id": "Hcd89YV3Ga9C",
    "cell_id": "00155-bdb16ff4-dee5-4026-8451-81fbeb1cb419",
    "deepnote_cell_type": "code",
    "deepnote_cell_height": 138
   },
   "source": "model = keras.models.Sequential([\n    keras.layers.Dense(30, activation=\"selu\", kernel_initializer=\"lecun_normal\",\n                       input_shape=input_shape),\n    keras.layers.Dense(1),\n])",
   "execution_count": null,
   "outputs": []
  },
  {
   "cell_type": "code",
   "metadata": {
    "id": "3MbTh6uOGa9G",
    "cell_id": "00156-719708af-6957-4088-95e3-be89b93035e0",
    "deepnote_cell_type": "code",
    "deepnote_cell_height": 66
   },
   "source": "model.compile(loss=keras.losses.Huber(2.0), optimizer=\"nadam\", weighted_metrics=[HuberMetric(2.0)])",
   "execution_count": null,
   "outputs": []
  },
  {
   "cell_type": "code",
   "metadata": {
    "scrolled": true,
    "id": "e92gsXyrGa9H",
    "outputId": "2a74144c-af88-4bea-ed75-1aeb3395eb73",
    "cell_id": "00157-9f23c1aa-0a97-4b33-9ee6-4b770a03cfc5",
    "deepnote_cell_type": "code",
    "deepnote_cell_height": 212.75
   },
   "source": "sample_weight = np.random.rand(len(y_train))\nhistory = model.fit(X_train_scaled.astype(np.float32), y_train.astype(np.float32),\n                    epochs=2, sample_weight=sample_weight)",
   "execution_count": null,
   "outputs": [
    {
     "name": "stdout",
     "output_type": "stream",
     "text": "Epoch 1/2\n363/363 [==============================] - 1s 627us/step - loss: 0.7800 - HuberMetric: 1.5672\nEpoch 2/2\n363/363 [==============================] - 0s 607us/step - loss: 0.1462 - HuberMetric: 0.2939\n"
    }
   ]
  },
  {
   "cell_type": "code",
   "metadata": {
    "id": "hnhxR9klGa9H",
    "outputId": "7d0fbd89-8687-4bcb-8ca7-7dad6be68c86",
    "cell_id": "00158-76120559-cd9d-4991-b667-3577e7ad5339",
    "deepnote_cell_type": "code",
    "deepnote_cell_height": 118.1875,
    "deepnote_output_heights": [
     21.1875
    ]
   },
   "source": "history.history[\"loss\"][0], history.history[\"HuberMetric\"][0] * sample_weight.mean()",
   "execution_count": null,
   "outputs": [
    {
     "data": {
      "text/plain": "(0.44554394483566284, 0.44554404180100277)"
     },
     "execution_count": 129,
     "metadata": {},
     "output_type": "execute_result"
    }
   ]
  },
  {
   "cell_type": "code",
   "metadata": {
    "id": "dqf0LGzbGa9I",
    "cell_id": "00159-6f23eb30-f721-4331-a226-27acff176743",
    "deepnote_cell_type": "code",
    "deepnote_cell_height": 61
   },
   "source": "model.save(\"my_model_with_a_custom_metric_v2.h5\")",
   "execution_count": null,
   "outputs": []
  },
  {
   "cell_type": "code",
   "metadata": {
    "id": "Gvos0DEHGa9J",
    "cell_id": "00160-b194c552-119b-4edf-afb4-9152ab59a214",
    "deepnote_cell_type": "code",
    "deepnote_cell_height": 84
   },
   "source": "model = keras.models.load_model(\"my_model_with_a_custom_metric_v2.h5\",\n                                custom_objects={\"HuberMetric\": HuberMetric})",
   "execution_count": null,
   "outputs": []
  },
  {
   "cell_type": "code",
   "metadata": {
    "id": "aXqMMax9Ga9J",
    "outputId": "18b040ff-6c5c-4066-ebf2-9eac339c5680",
    "cell_id": "00161-897d98e8-2369-4b4f-bcd4-a5f9615ff1fa",
    "deepnote_cell_type": "code",
    "deepnote_cell_height": 228.9375,
    "deepnote_output_heights": [
     null,
     21.1875
    ]
   },
   "source": "model.fit(X_train_scaled.astype(np.float32), y_train.astype(np.float32), epochs=2)",
   "execution_count": null,
   "outputs": [
    {
     "name": "stdout",
     "output_type": "stream",
     "text": "Epoch 1/2\n363/363 [==============================] - 0s 578us/step - loss: 0.2377 - HuberMetric: 0.2377\nEpoch 2/2\n363/363 [==============================] - 0s 559us/step - loss: 0.2279 - HuberMetric: 0.2279\n"
    },
    {
     "data": {
      "text/plain": "<tensorflow.python.keras.callbacks.History at 0x7fbfb052b150>"
     },
     "execution_count": 132,
     "metadata": {},
     "output_type": "execute_result"
    }
   ]
  },
  {
   "cell_type": "code",
   "metadata": {
    "scrolled": true,
    "id": "eIHo5_pkGa9K",
    "outputId": "693de721-aad3-428c-a535-526b6515ccd7",
    "cell_id": "00162-4d4eb88d-6b9c-4ce8-b101-63def05c9f62",
    "deepnote_cell_type": "code",
    "deepnote_cell_height": 113.1875,
    "deepnote_output_heights": [
     21.1875
    ]
   },
   "source": "model.metrics[-1].threshold",
   "execution_count": null,
   "outputs": [
    {
     "data": {
      "text/plain": "2.0"
     },
     "execution_count": 133,
     "metadata": {},
     "output_type": "execute_result"
    }
   ]
  },
  {
   "cell_type": "markdown",
   "source": "## Custom Layers",
   "metadata": {
    "id": "mF82QxR2Ga9K",
    "cell_id": "00163-9c30d6c1-37f2-4854-a334-ddf0469609ee",
    "deepnote_cell_type": "markdown",
    "deepnote_cell_height": 56.390625
   }
  },
  {
   "cell_type": "code",
   "metadata": {
    "id": "U1lVvDQ-Ga9L",
    "cell_id": "00164-ea8848c5-b36b-49a0-9c11-e18ced3aabdc",
    "deepnote_cell_type": "code",
    "deepnote_cell_height": 66
   },
   "source": "exponential_layer = keras.layers.Lambda(lambda x: tf.exp(x))",
   "execution_count": null,
   "outputs": []
  },
  {
   "cell_type": "code",
   "metadata": {
    "id": "HGWQjCwfGa9L",
    "outputId": "ae57eba6-ea4d-44a1-a27a-88d34194922f",
    "cell_id": "00165-a1b70f7e-0099-406a-a580-bb79cf27e9ac",
    "deepnote_cell_type": "code",
    "deepnote_cell_height": 113.1875,
    "deepnote_output_heights": [
     21.1875
    ]
   },
   "source": "exponential_layer([-1., 0., 1.])",
   "execution_count": null,
   "outputs": [
    {
     "data": {
      "text/plain": "<tf.Tensor: shape=(3,), dtype=float32, numpy=array([0.36787945, 1.        , 2.7182817 ], dtype=float32)>"
     },
     "execution_count": 135,
     "metadata": {},
     "output_type": "execute_result"
    }
   ]
  },
  {
   "cell_type": "markdown",
   "source": "Adding an exponential layer at the output of a regression model can be useful if the values to predict are positive and with very different scales (e.g., 0.001, 10., 10000):",
   "metadata": {
    "id": "U0eTFFtdGa9M",
    "cell_id": "00166-dc4b467a-9388-4407-bc39-ddbb8ff91091",
    "deepnote_cell_type": "markdown",
    "deepnote_cell_height": 97.171875
   }
  },
  {
   "cell_type": "code",
   "metadata": {
    "id": "f66QnUyMGa9M",
    "cell_id": "00167-967a8a95-0d02-4d18-adb9-a6e927ab33ef",
    "deepnote_cell_type": "code",
    "deepnote_cell_height": 97
   },
   "source": "keras.backend.clear_session()\nnp.random.seed(42)\ntf.random.set_seed(42)",
   "execution_count": null,
   "outputs": []
  },
  {
   "cell_type": "code",
   "metadata": {
    "id": "llX5xalhGa9N",
    "outputId": "5b3a1cf2-102d-4d24-ecb5-74e0ac86f4e6",
    "cell_id": "00168-b237a248-737c-4b98-8efe-ccecbd019dbb",
    "deepnote_cell_type": "code",
    "deepnote_cell_height": 514.25,
    "deepnote_output_heights": [
     null,
     21.1875
    ]
   },
   "source": "model = keras.models.Sequential([\n    keras.layers.Dense(30, activation=\"relu\", input_shape=input_shape),\n    keras.layers.Dense(1),\n    exponential_layer\n])\nmodel.compile(loss=\"mse\", optimizer=\"sgd\")\nmodel.fit(X_train_scaled, y_train, epochs=5,\n          validation_data=(X_valid_scaled, y_valid))\nmodel.evaluate(X_test_scaled, y_test)",
   "execution_count": null,
   "outputs": [
    {
     "name": "stdout",
     "output_type": "stream",
     "text": "Epoch 1/5\n363/363 [==============================] - 0s 828us/step - loss: 2.1275 - val_loss: 0.4457\nEpoch 2/5\n363/363 [==============================] - 0s 645us/step - loss: 0.4750 - val_loss: 0.3798\nEpoch 3/5\n363/363 [==============================] - 0s 656us/step - loss: 0.4230 - val_loss: 0.3548\nEpoch 4/5\n363/363 [==============================] - 0s 657us/step - loss: 0.3905 - val_loss: 0.3464\nEpoch 5/5\n363/363 [==============================] - 0s 664us/step - loss: 0.3784 - val_loss: 0.3449\n162/162 [==============================] - 0s 420us/step - loss: 0.3586\n"
    },
    {
     "data": {
      "text/plain": "0.3586340546607971"
     },
     "execution_count": 137,
     "metadata": {},
     "output_type": "execute_result"
    }
   ]
  },
  {
   "cell_type": "code",
   "metadata": {
    "id": "g6dGnSHzGa9N",
    "cell_id": "00169-00ffb9ff-dcf7-4c16-90d4-5ff48ba2d56b",
    "deepnote_cell_type": "code",
    "deepnote_cell_height": 480
   },
   "source": "class MyDense(keras.layers.Layer):\n    def __init__(self, units, activation=None, **kwargs):\n        super().__init__(**kwargs)\n        self.units = units\n        self.activation = keras.activations.get(activation)\n\n    def build(self, batch_input_shape):\n        self.kernel = self.add_weight(\n            name=\"kernel\", shape=[batch_input_shape[-1], self.units],\n            initializer=\"glorot_normal\")\n        self.bias = self.add_weight(\n            name=\"bias\", shape=[self.units], initializer=\"zeros\")\n        super().build(batch_input_shape) # must be at the end\n\n    def call(self, X):\n        return self.activation(X @ self.kernel + self.bias)\n\n    def compute_output_shape(self, batch_input_shape):\n        return tf.TensorShape(batch_input_shape.as_list()[:-1] + [self.units])\n\n    def get_config(self):\n        base_config = super().get_config()\n        return {**base_config, \"units\": self.units,\n                \"activation\": keras.activations.serialize(self.activation)}",
   "execution_count": null,
   "outputs": []
  },
  {
   "cell_type": "code",
   "metadata": {
    "id": "7EaChffqGa9O",
    "cell_id": "00170-047cb041-2918-479f-96df-d7cc528e71ec",
    "deepnote_cell_type": "code",
    "deepnote_cell_height": 97
   },
   "source": "keras.backend.clear_session()\nnp.random.seed(42)\ntf.random.set_seed(42)",
   "execution_count": null,
   "outputs": []
  },
  {
   "cell_type": "code",
   "metadata": {
    "id": "5IChHZnpGa9P",
    "cell_id": "00171-035af29c-49fd-442b-84f6-9405f95b9115",
    "deepnote_cell_type": "code",
    "deepnote_cell_height": 120
   },
   "source": "model = keras.models.Sequential([\n    MyDense(30, activation=\"relu\", input_shape=input_shape),\n    MyDense(1)\n])",
   "execution_count": null,
   "outputs": []
  },
  {
   "cell_type": "code",
   "metadata": {
    "id": "yZ8VfC9oGa9P",
    "outputId": "ff096bed-957d-4544-c751-f153f06ab3f7",
    "cell_id": "00172-df0a1309-da2f-401f-9ca7-b22bde2d6d02",
    "deepnote_cell_type": "code",
    "deepnote_cell_height": 298.125,
    "deepnote_output_heights": [
     null,
     21.1875
    ]
   },
   "source": "model.compile(loss=\"mse\", optimizer=\"nadam\")\nmodel.fit(X_train_scaled, y_train, epochs=2,\n          validation_data=(X_valid_scaled, y_valid))\nmodel.evaluate(X_test_scaled, y_test)",
   "execution_count": null,
   "outputs": [
    {
     "name": "stdout",
     "output_type": "stream",
     "text": "Epoch 1/2\n363/363 [==============================] - 1s 898us/step - loss: 4.1268 - val_loss: 0.9472\nEpoch 2/2\n363/363 [==============================] - 0s 707us/step - loss: 0.7086 - val_loss: 0.6219\n162/162 [==============================] - 0s 419us/step - loss: 0.5474\n"
    },
    {
     "data": {
      "text/plain": "0.5473727583885193"
     },
     "execution_count": 141,
     "metadata": {},
     "output_type": "execute_result"
    }
   ]
  },
  {
   "cell_type": "code",
   "metadata": {
    "id": "Jr79sq8_Ga9Q",
    "cell_id": "00173-a084337f-8907-459d-8a73-ae803b18a5cf",
    "deepnote_cell_type": "code",
    "deepnote_cell_height": 61
   },
   "source": "model.save(\"my_model_with_a_custom_layer.h5\")",
   "execution_count": null,
   "outputs": []
  },
  {
   "cell_type": "code",
   "metadata": {
    "id": "lvUjLB67Ga9Q",
    "cell_id": "00174-f28014de-56eb-47a7-ba86-38a82ef3b839",
    "deepnote_cell_type": "code",
    "deepnote_cell_height": 84
   },
   "source": "model = keras.models.load_model(\"my_model_with_a_custom_layer.h5\",\n                                custom_objects={\"MyDense\": MyDense})",
   "execution_count": null,
   "outputs": []
  },
  {
   "cell_type": "code",
   "metadata": {
    "id": "FQVYw3TBGa9R",
    "cell_id": "00175-adf80ccd-bc13-4949-85d7-2c11971cf544",
    "deepnote_cell_type": "code",
    "deepnote_cell_height": 210
   },
   "source": "class MyMultiLayer(keras.layers.Layer):\n    def call(self, X):\n        X1, X2 = X\n        print(\"X1.shape: \", X1.shape ,\" X2.shape: \", X2.shape) # Debugging of custom layer\n        return X1 + X2, X1 * X2\n\n    def compute_output_shape(self, batch_input_shape):\n        batch_input_shape1, batch_input_shape2 = batch_input_shape\n        return [batch_input_shape1, batch_input_shape2]",
   "execution_count": null,
   "outputs": []
  },
  {
   "cell_type": "markdown",
   "source": "Our custom layer can be called using the functional API like this:",
   "metadata": {
    "id": "QgGXHCpAGa9R",
    "cell_id": "00176-935a9789-bdc7-4012-b33a-26b21fbcf825",
    "deepnote_cell_type": "markdown",
    "deepnote_cell_height": 52.390625
   }
  },
  {
   "cell_type": "code",
   "metadata": {
    "id": "b5eCggs_Ga9R",
    "outputId": "feb69361-a01e-4df3-a470-4412a5f34911",
    "cell_id": "00177-3af3c09b-579d-42fe-bedf-c5ca41b0d8e0",
    "deepnote_cell_type": "code",
    "deepnote_cell_height": 148.1875
   },
   "source": "inputs1 = keras.layers.Input(shape=[2])\ninputs2 = keras.layers.Input(shape=[2])\noutputs1, outputs2 = MyMultiLayer()((inputs1, inputs2))",
   "execution_count": null,
   "outputs": [
    {
     "name": "stdout",
     "output_type": "stream",
     "text": "X1.shape:  (None, 2)  X2.shape:  (None, 2)\n"
    }
   ]
  },
  {
   "cell_type": "markdown",
   "source": "Note that the `call()` method receives symbolic inputs, whose shape is only partially specified (at this stage, we don't know the batch size, which is why the first dimension is `None`):\n\nWe can also pass actual data to the custom layer. To test this, let's split each dataset's inputs into two parts, with four features each:",
   "metadata": {
    "id": "rA3ux_8FGa9S",
    "cell_id": "00178-acda3ae0-66ee-4201-9e66-5ba1267aad1d",
    "deepnote_cell_type": "markdown",
    "deepnote_cell_height": 155.953125
   }
  },
  {
   "cell_type": "code",
   "metadata": {
    "id": "xGam4FaaGa9S",
    "outputId": "c03c6118-36d5-44aa-d687-5fbcf2f7bc21",
    "cell_id": "00179-5f2c9d5f-0fa0-40ef-a297-b24bbdd8e040",
    "deepnote_cell_type": "code",
    "deepnote_cell_height": 298.1875,
    "deepnote_output_heights": [
     21.1875
    ]
   },
   "source": "def split_data(data):\n    columns_count = data.shape[-1]\n    half = columns_count // 2\n    return data[:, :half], data[:, half:]\n\nX_train_scaled_A, X_train_scaled_B = split_data(X_train_scaled)\nX_valid_scaled_A, X_valid_scaled_B = split_data(X_valid_scaled)\nX_test_scaled_A, X_test_scaled_B = split_data(X_test_scaled)\n\n# Printing the splitted data shapes\nX_train_scaled_A.shape, X_train_scaled_B.shape",
   "execution_count": null,
   "outputs": [
    {
     "data": {
      "text/plain": "((11610, 4), (11610, 4))"
     },
     "execution_count": 146,
     "metadata": {},
     "output_type": "execute_result"
    }
   ]
  },
  {
   "cell_type": "markdown",
   "source": "Now notice that the shapes are fully specified:",
   "metadata": {
    "id": "2AJvZKC_Ga9T",
    "cell_id": "00180-8dead7bc-8870-469d-a1be-be52dd5df339",
    "deepnote_cell_type": "markdown",
    "deepnote_cell_height": 52.390625
   }
  },
  {
   "cell_type": "code",
   "metadata": {
    "id": "XxjEydEkGa9U",
    "outputId": "e6bc4e35-cc6e-4786-f696-9e8d9895cb57",
    "cell_id": "00181-42618f2c-73dc-4c1f-bd31-4be6ba8e8b3b",
    "deepnote_cell_type": "code",
    "deepnote_cell_height": 112.1875
   },
   "source": "outputs1, outputs2 = MyMultiLayer()((X_train_scaled_A, X_train_scaled_B))",
   "execution_count": null,
   "outputs": [
    {
     "name": "stdout",
     "output_type": "stream",
     "text": "X1.shape:  (11610, 4)  X2.shape:  (11610, 4)\n"
    }
   ]
  },
  {
   "cell_type": "markdown",
   "source": "Let's build a more complete model using the functional API (this is just a toy example, don't expect awesome performance):",
   "metadata": {
    "id": "8vbM2TNPGa9V",
    "cell_id": "00182-d9faf4a2-62d9-46c2-87b5-28b35e6fa88c",
    "deepnote_cell_type": "markdown",
    "deepnote_cell_height": 74.78125
   }
  },
  {
   "cell_type": "code",
   "metadata": {
    "id": "7jb2__BzGa9V",
    "outputId": "4b4416aa-2069-4827-beb2-e5911f2541f9",
    "cell_id": "00183-592ed772-0661-4c87-9ee9-059101ee5194",
    "deepnote_cell_type": "code",
    "deepnote_cell_height": 310.1875
   },
   "source": "keras.backend.clear_session()\nnp.random.seed(42)\ntf.random.set_seed(42)\n\ninput_A = keras.layers.Input(shape=X_train_scaled_A.shape[-1])\ninput_B = keras.layers.Input(shape=X_train_scaled_B.shape[-1])\nhidden_A, hidden_B = MyMultiLayer()((input_A, input_B))\nhidden_A = keras.layers.Dense(30, activation='selu')(hidden_A)\nhidden_B = keras.layers.Dense(30, activation='selu')(hidden_B)\nconcat = keras.layers.Concatenate()((hidden_A, hidden_B))\noutput = keras.layers.Dense(1)(concat)\nmodel = keras.models.Model(inputs=[input_A, input_B], outputs=[output])",
   "execution_count": null,
   "outputs": [
    {
     "name": "stdout",
     "output_type": "stream",
     "text": "X1.shape:  (None, 4)  X2.shape:  (None, 4)\n"
    }
   ]
  },
  {
   "cell_type": "code",
   "metadata": {
    "id": "-PmzoppNGa9W",
    "cell_id": "00184-23d4cc55-b0b7-4861-9540-397a26e1d24e",
    "deepnote_cell_type": "code",
    "deepnote_cell_height": 61
   },
   "source": "model.compile(loss='mse', optimizer='nadam')",
   "execution_count": null,
   "outputs": []
  },
  {
   "cell_type": "code",
   "metadata": {
    "id": "f8E4rojBGa9X",
    "outputId": "e974b6c0-2f7b-41b4-d469-ca76dd264d18",
    "cell_id": "00185-7c2371b0-4daa-41d0-af3a-67a4f994af9c",
    "deepnote_cell_type": "code",
    "deepnote_cell_height": 307.5,
    "deepnote_output_heights": [
     null,
     21.1875
    ]
   },
   "source": "model.fit((X_train_scaled_A, X_train_scaled_B), y_train, epochs=2,\n          validation_data=((X_valid_scaled_A, X_valid_scaled_B), y_valid))",
   "execution_count": null,
   "outputs": [
    {
     "name": "stdout",
     "output_type": "stream",
     "text": "Epoch 1/2\nX1.shape:  (None, 4)  X2.shape:  (None, 4)\nX1.shape:  (None, 4)  X2.shape:  (None, 4)\n356/363 [============================>.] - ETA: 0s - loss: 3.6305X1.shape:  (None, 4)  X2.shape:  (None, 4)\n363/363 [==============================] - 1s 1ms/step - loss: 3.5973 - val_loss: 1.3630\nEpoch 2/2\n363/363 [==============================] - 0s 1ms/step - loss: 1.0132 - val_loss: 0.9773\n"
    },
    {
     "data": {
      "text/plain": "<tensorflow.python.keras.callbacks.History at 0x7fddd0cb4bd0>"
     },
     "execution_count": 150,
     "metadata": {},
     "output_type": "execute_result"
    }
   ]
  },
  {
   "cell_type": "markdown",
   "source": "Now let's create a layer with a different behavior during training and testing:",
   "metadata": {
    "id": "KEhsvDqLGa9Y",
    "cell_id": "00186-873e44d9-f63a-426f-a4a1-32de3a8a8ba9",
    "deepnote_cell_type": "markdown",
    "deepnote_cell_height": 74.78125
   }
  },
  {
   "cell_type": "code",
   "metadata": {
    "id": "rSL7PhAMGa9Y",
    "cell_id": "00187-6011008c-2bb9-4c68-9cb6-cb64460382a7",
    "deepnote_cell_type": "code",
    "deepnote_cell_height": 300
   },
   "source": "class AddGaussianNoise(keras.layers.Layer):\n    def __init__(self, stddev, **kwargs):\n        super().__init__(**kwargs)\n        self.stddev = stddev\n\n    def call(self, X, training=None):\n        if training:\n            noise = tf.random.normal(tf.shape(X), stddev=self.stddev)\n            return X + noise\n        else:\n            return X\n\n    def compute_output_shape(self, batch_input_shape):\n        return batch_input_shape",
   "execution_count": null,
   "outputs": []
  },
  {
   "cell_type": "markdown",
   "source": "Here's a simple model that uses this custom layer:",
   "metadata": {
    "id": "E4n5Yo5oGa9Z",
    "cell_id": "00188-b9344cc5-0e0a-40e9-a8b5-f4500bf09027",
    "deepnote_cell_type": "markdown",
    "deepnote_cell_height": 52.390625
   }
  },
  {
   "cell_type": "code",
   "metadata": {
    "id": "f-OWpDYnGa9Z",
    "cell_id": "00189-815c17d4-24d5-4bb5-8ba7-f577cdeaff70",
    "deepnote_cell_type": "code",
    "deepnote_cell_height": 205
   },
   "source": "keras.backend.clear_session()\nnp.random.seed(42)\ntf.random.set_seed(42)\n\nmodel = keras.models.Sequential([\n    AddGaussianNoise(stddev=1.0),\n    keras.layers.Dense(30, activation=\"selu\"),\n    keras.layers.Dense(1)\n])",
   "execution_count": null,
   "outputs": []
  },
  {
   "cell_type": "code",
   "metadata": {
    "id": "7i7S_qNaGa9Z",
    "outputId": "34730ee6-3b12-4d7a-fd49-492b5a619b72",
    "cell_id": "00190-4637d16f-afad-4dd0-b532-7e7b946b27b6",
    "deepnote_cell_type": "code",
    "deepnote_cell_height": 298.125,
    "deepnote_output_heights": [
     null,
     21.1875
    ]
   },
   "source": "model.compile(loss=\"mse\", optimizer=\"nadam\")\nmodel.fit(X_train_scaled, y_train, epochs=2,\n          validation_data=(X_valid_scaled, y_valid))\nmodel.evaluate(X_test_scaled, y_test)",
   "execution_count": null,
   "outputs": [
    {
     "name": "stdout",
     "output_type": "stream",
     "text": "Epoch 1/2\n363/363 [==============================] - 1s 892us/step - loss: 3.7869 - val_loss: 7.6082\nEpoch 2/2\n363/363 [==============================] - 0s 685us/step - loss: 1.2375 - val_loss: 4.4597\n162/162 [==============================] - 0s 416us/step - loss: 0.7560\n"
    },
    {
     "data": {
      "text/plain": "0.7559615969657898"
     },
     "execution_count": 153,
     "metadata": {},
     "output_type": "execute_result"
    }
   ]
  },
  {
   "cell_type": "markdown",
   "source": "## Custom Models",
   "metadata": {
    "id": "7oaVRJSNGa9c",
    "cell_id": "00191-46937919-3485-445d-8b2c-8dcb73a8b8b3",
    "deepnote_cell_type": "markdown",
    "deepnote_cell_height": 56.390625
   }
  },
  {
   "cell_type": "code",
   "metadata": {
    "id": "43ZZw9qJGa9d",
    "cell_id": "00192-156b754c-c582-41c6-bdc9-9f771bf13325",
    "deepnote_cell_type": "code",
    "deepnote_cell_height": 61
   },
   "source": "X_new_scaled = X_test_scaled",
   "execution_count": null,
   "outputs": []
  },
  {
   "cell_type": "code",
   "metadata": {
    "id": "mmeEZltSGa9d",
    "cell_id": "00193-92b7be79-a4ae-4a4d-8ab4-21110898ddff",
    "deepnote_cell_type": "code",
    "deepnote_cell_height": 264
   },
   "source": "class ResidualBlock(keras.layers.Layer):\n    def __init__(self, n_layers, n_neurons, **kwargs):\n        super().__init__(**kwargs)\n        self.hidden = [keras.layers.Dense(n_neurons, activation=\"elu\",\n                                          kernel_initializer=\"he_normal\")\n                       for _ in range(n_layers)]\n\n    def call(self, inputs):\n        Z = inputs\n        for layer in self.hidden:\n            Z = layer(Z)\n        return inputs + Z",
   "execution_count": null,
   "outputs": []
  },
  {
   "cell_type": "code",
   "metadata": {
    "id": "QXKqN4ujGa9e",
    "cell_id": "00194-1215abab-45ed-4134-9297-f70d15629f38",
    "deepnote_cell_type": "code",
    "deepnote_cell_height": 318
   },
   "source": "class ResidualRegressor(keras.models.Model):\n    def __init__(self, output_dim, **kwargs):\n        super().__init__(**kwargs)\n        self.hidden1 = keras.layers.Dense(30, activation=\"elu\",\n                                          kernel_initializer=\"he_normal\")\n        self.block1 = ResidualBlock(2, 30)\n        self.block2 = ResidualBlock(2, 30)\n        self.out = keras.layers.Dense(output_dim)\n\n    def call(self, inputs):\n        Z = self.hidden1(inputs)\n        for _ in range(1 + 3):\n            Z = self.block1(Z)\n        Z = self.block2(Z)\n        return self.out(Z)",
   "execution_count": null,
   "outputs": []
  },
  {
   "cell_type": "code",
   "metadata": {
    "id": "M7ChTNNMGa9e",
    "cell_id": "00195-3c61e665-6a16-47bf-9954-f7b859fba730",
    "deepnote_cell_type": "code",
    "deepnote_cell_height": 97
   },
   "source": "keras.backend.clear_session()\nnp.random.seed(42)\ntf.random.set_seed(42)",
   "execution_count": null,
   "outputs": []
  },
  {
   "cell_type": "code",
   "metadata": {
    "id": "oOrgvZNtGa9f",
    "outputId": "ab8a5ee3-e537-451c-b076-c207781fdcba",
    "cell_id": "00196-1b26e2e7-4b54-41c8-a2f4-186ae4080250",
    "deepnote_cell_type": "code",
    "deepnote_cell_height": 390.0625
   },
   "source": "model = ResidualRegressor(1)\nmodel.compile(loss=\"mse\", optimizer=\"nadam\")\nhistory = model.fit(X_train_scaled, y_train, epochs=5)\nscore = model.evaluate(X_test_scaled, y_test)\ny_pred = model.predict(X_new_scaled)",
   "execution_count": null,
   "outputs": [
    {
     "name": "stdout",
     "output_type": "stream",
     "text": "Epoch 1/5\n363/363 [==============================] - 1s 837us/step - loss: 22.7478\nEpoch 2/5\n363/363 [==============================] - 0s 739us/step - loss: 1.2735\nEpoch 3/5\n363/363 [==============================] - 0s 737us/step - loss: 0.9792\nEpoch 4/5\n363/363 [==============================] - 0s 740us/step - loss: 0.5905\nEpoch 5/5\n363/363 [==============================] - 0s 739us/step - loss: 0.5544\n162/162 [==============================] - 0s 526us/step - loss: 0.6513\n"
    }
   ]
  },
  {
   "cell_type": "code",
   "metadata": {
    "id": "Tj_Ii6TqGa9f",
    "outputId": "0c49828c-7455-425b-d34f-bf5964b88cf5",
    "cell_id": "00197-77be8d4c-8eac-434c-b24e-6cd854edbf03",
    "deepnote_cell_type": "code",
    "deepnote_cell_height": 223.75
   },
   "source": "model.save(\"my_custom_model.ckpt\")",
   "execution_count": null,
   "outputs": [
    {
     "name": "stderr",
     "output_type": "stream",
     "text": "WARNING:absl:Found untraced functions such as dense_1_layer_call_and_return_conditional_losses, dense_1_layer_call_fn, dense_2_layer_call_and_return_conditional_losses, dense_2_layer_call_fn, dense_3_layer_call_and_return_conditional_losses while saving (showing 5 of 20). These functions will not be directly callable after loading.\nWARNING:absl:Found untraced functions such as dense_1_layer_call_and_return_conditional_losses, dense_1_layer_call_fn, dense_2_layer_call_and_return_conditional_losses, dense_2_layer_call_fn, dense_3_layer_call_and_return_conditional_losses while saving (showing 5 of 20). These functions will not be directly callable after loading.\n"
    },
    {
     "name": "stdout",
     "output_type": "stream",
     "text": "INFO:tensorflow:Assets written to: my_custom_model.ckpt/assets\n"
    },
    {
     "name": "stderr",
     "output_type": "stream",
     "text": "INFO:tensorflow:Assets written to: my_custom_model.ckpt/assets\n"
    }
   ]
  },
  {
   "cell_type": "code",
   "metadata": {
    "id": "fCN8NltcGa9g",
    "cell_id": "00198-1ac32578-f0fb-4e35-ac17-b34cb176fd48",
    "deepnote_cell_type": "code",
    "deepnote_cell_height": 66
   },
   "source": "model = keras.models.load_model(\"my_custom_model.ckpt\")",
   "execution_count": null,
   "outputs": []
  },
  {
   "cell_type": "code",
   "metadata": {
    "id": "9BgR9GE8Ga9g",
    "outputId": "9fbe7afe-b1e5-4bf9-d31d-f247629328aa",
    "cell_id": "00199-07d37259-2fa7-482c-aa90-ca5e52ab13dc",
    "deepnote_cell_type": "code",
    "deepnote_cell_height": 297.875
   },
   "source": "history = model.fit(X_train_scaled, y_train, epochs=5)",
   "execution_count": null,
   "outputs": [
    {
     "name": "stdout",
     "output_type": "stream",
     "text": "Epoch 1/5\n363/363 [==============================] - 1s 851us/step - loss: 0.9476\nEpoch 2/5\n363/363 [==============================] - 0s 736us/step - loss: 0.6998\nEpoch 3/5\n363/363 [==============================] - 0s 737us/step - loss: 0.4668\nEpoch 4/5\n363/363 [==============================] - 0s 758us/step - loss: 0.4818\nEpoch 5/5\n363/363 [==============================] - 0s 756us/step - loss: 0.4591\n"
    }
   ]
  },
  {
   "cell_type": "markdown",
   "source": "We could have defined the model using the sequential API instead:",
   "metadata": {
    "id": "1q4Ed8iXGa9h",
    "cell_id": "00200-605ab64e-7df0-478b-ae5a-14d748d6a6d2",
    "deepnote_cell_type": "markdown",
    "deepnote_cell_height": 52.390625
   }
  },
  {
   "cell_type": "code",
   "metadata": {
    "id": "iUNXl73_Ga9h",
    "cell_id": "00201-a6e097e4-01ca-4bea-9f13-4268ccf53251",
    "deepnote_cell_type": "code",
    "deepnote_cell_height": 97
   },
   "source": "keras.backend.clear_session()\nnp.random.seed(42)\ntf.random.set_seed(42)",
   "execution_count": null,
   "outputs": []
  },
  {
   "cell_type": "code",
   "metadata": {
    "id": "QSd1v2EYGa9i",
    "cell_id": "00202-b70d8a4b-2a2d-4b09-b0c3-ea45ff2be108",
    "deepnote_cell_type": "code",
    "deepnote_cell_height": 174
   },
   "source": "block1 = ResidualBlock(2, 30)\nmodel = keras.models.Sequential([\n    keras.layers.Dense(30, activation=\"elu\", kernel_initializer=\"he_normal\"),\n    block1, block1, block1, block1,\n    ResidualBlock(2, 30),\n    keras.layers.Dense(1)\n])",
   "execution_count": null,
   "outputs": []
  },
  {
   "cell_type": "code",
   "metadata": {
    "id": "ZFsWkbuPGa9j",
    "outputId": "082db964-d4db-4798-d484-72471fa07274",
    "cell_id": "00203-ba10bde7-a9e8-4334-a091-9ce8ce8623ca",
    "deepnote_cell_type": "code",
    "deepnote_cell_height": 372.0625
   },
   "source": "model.compile(loss=\"mse\", optimizer=\"nadam\")\nhistory = model.fit(X_train_scaled, y_train, epochs=5)\nscore = model.evaluate(X_test_scaled, y_test)\ny_pred = model.predict(X_new_scaled)",
   "execution_count": null,
   "outputs": [
    {
     "name": "stdout",
     "output_type": "stream",
     "text": "Epoch 1/5\n363/363 [==============================] - 1s 709us/step - loss: 1.5508\nEpoch 2/5\n363/363 [==============================] - 0s 645us/step - loss: 0.5562\nEpoch 3/5\n363/363 [==============================] - 0s 625us/step - loss: 0.6406\nEpoch 4/5\n363/363 [==============================] - 0s 636us/step - loss: 0.3759\nEpoch 5/5\n363/363 [==============================] - 0s 623us/step - loss: 0.3875\n162/162 [==============================] - 0s 463us/step - loss: 0.4852\n"
    }
   ]
  },
  {
   "cell_type": "markdown",
   "source": "## Losses and Metrics Based on Model Internals",
   "metadata": {
    "id": "_gJrq4PUGa9k",
    "cell_id": "00204-2cadd1e8-47c9-45be-88e2-8e17fbfe3c3b",
    "deepnote_cell_type": "markdown",
    "deepnote_cell_height": 82.78125
   }
  },
  {
   "cell_type": "markdown",
   "source": "**Note**: the following code has two differences with the code in the book:\n1. It creates a `keras.metrics.Mean()` metric in the constructor and uses it in the `call()` method to track the mean reconstruction loss. Since we only want to do this during training, we add a `training` argument to the `call()` method, and if `training` is `True`, then we update `reconstruction_mean` and we call `self.add_metric()` to ensure it's displayed properly.\n2. Due to an issue introduced in TF 2.2 ([#46858](https://github.com/tensorflow/tensorflow/issues/46858)), we must not call `super().build()` inside the `build()` method.",
   "metadata": {
    "id": "RH1ncpdOGa9k",
    "cell_id": "00205-5b5afb71-b4c4-46ec-8b12-b3e0fbb44c25",
    "deepnote_cell_type": "markdown",
    "deepnote_cell_height": 307.296875
   }
  },
  {
   "cell_type": "code",
   "metadata": {
    "id": "4i1int-kGa9k",
    "cell_id": "00206-f93ee30b-8d4e-4cb4-aa4b-a908db87703b",
    "deepnote_cell_type": "code",
    "deepnote_cell_height": 498
   },
   "source": "class ReconstructingRegressor(keras.Model):\n    def __init__(self, output_dim, **kwargs):\n        super().__init__(**kwargs)\n        self.hidden = [keras.layers.Dense(30, activation=\"selu\",\n                                          kernel_initializer=\"lecun_normal\")\n                       for _ in range(5)]\n        self.out = keras.layers.Dense(output_dim)\n        self.reconstruction_mean = keras.metrics.Mean(name=\"reconstruction_error\")\n\n    def build(self, batch_input_shape):\n        n_inputs = batch_input_shape[-1]\n        self.reconstruct = keras.layers.Dense(n_inputs)\n        #super().build(batch_input_shape)\n\n    def call(self, inputs, training=None):\n        Z = inputs\n        for layer in self.hidden:\n            Z = layer(Z)\n        reconstruction = self.reconstruct(Z)\n        recon_loss = tf.reduce_mean(tf.square(reconstruction - inputs))\n        self.add_loss(0.05 * recon_loss)\n        if training:\n            result = self.reconstruction_mean(recon_loss)\n            self.add_metric(result)\n        return self.out(Z)",
   "execution_count": null,
   "outputs": []
  },
  {
   "cell_type": "code",
   "metadata": {
    "id": "toVJO-t4Ga9l",
    "cell_id": "00207-29d415fa-5b87-4343-9e2f-081ffd2cde37",
    "deepnote_cell_type": "code",
    "deepnote_cell_height": 97
   },
   "source": "keras.backend.clear_session()\nnp.random.seed(42)\ntf.random.set_seed(42)",
   "execution_count": null,
   "outputs": []
  },
  {
   "cell_type": "code",
   "metadata": {
    "id": "qR2agp0xGa9m",
    "outputId": "e3971d45-ddc8-4a27-8bfa-0680c5097c7c",
    "cell_id": "00208-1e14409d-c5a1-471f-93e8-599d93b4269e",
    "deepnote_cell_type": "code",
    "deepnote_cell_height": 230.75
   },
   "source": "model = ReconstructingRegressor(1)\nmodel.compile(loss=\"mse\", optimizer=\"nadam\")\nhistory = model.fit(X_train_scaled, y_train, epochs=2)\ny_pred = model.predict(X_test_scaled)",
   "execution_count": null,
   "outputs": [
    {
     "name": "stdout",
     "output_type": "stream",
     "text": "Epoch 1/2\n363/363 [==============================] - 1s 810us/step - loss: 1.6313 - reconstruction_error: 1.0474\nEpoch 2/2\n363/363 [==============================] - 0s 683us/step - loss: 0.4536 - reconstruction_error: 0.4022\n"
    }
   ]
  },
  {
   "cell_type": "markdown",
   "source": "## Computing Gradients with Autodiff",
   "metadata": {
    "id": "LGcdXYKNGa9m",
    "cell_id": "00209-b40c0166-f170-47bb-9002-4c0913325aae",
    "deepnote_cell_type": "markdown",
    "deepnote_cell_height": 56.390625
   }
  },
  {
   "cell_type": "code",
   "metadata": {
    "id": "Ai52I2SWGa9n",
    "cell_id": "00210-fdb38d27-6538-4038-afdb-42da364c459b",
    "deepnote_cell_type": "code",
    "deepnote_cell_height": 79
   },
   "source": "def f(w1, w2):\n    return 3 * w1 ** 2 + 2 * w1 * w2",
   "execution_count": null,
   "outputs": []
  },
  {
   "cell_type": "code",
   "metadata": {
    "id": "jW_RvFewGa9n",
    "outputId": "1f0cb6ee-d95f-4b08-e5d6-8edd80b13d9b",
    "cell_id": "00211-9d199acb-c1dc-4ce5-87b5-91e2d37209b5",
    "deepnote_cell_type": "code",
    "deepnote_cell_height": 149.1875,
    "deepnote_output_heights": [
     21.1875
    ]
   },
   "source": "w1, w2 = 5, 3\neps = 1e-6\n(f(w1 + eps, w2) - f(w1, w2)) / eps",
   "execution_count": null,
   "outputs": [
    {
     "data": {
      "text/plain": "36.000003007075065"
     },
     "execution_count": 169,
     "metadata": {},
     "output_type": "execute_result"
    }
   ]
  },
  {
   "cell_type": "code",
   "metadata": {
    "id": "0BmwRyGBGa9n",
    "outputId": "ceb1e7a9-2807-48e7-8952-67e9fcd07869",
    "cell_id": "00212-c696daa2-094c-44a4-8174-ad96c4087ea7",
    "deepnote_cell_type": "code",
    "deepnote_cell_height": 113.1875,
    "deepnote_output_heights": [
     21.1875
    ]
   },
   "source": "(f(w1, w2 + eps) - f(w1, w2)) / eps",
   "execution_count": null,
   "outputs": [
    {
     "data": {
      "text/plain": "10.000000003174137"
     },
     "execution_count": 170,
     "metadata": {},
     "output_type": "execute_result"
    }
   ]
  },
  {
   "cell_type": "code",
   "metadata": {
    "id": "v0tIDglAGa9o",
    "cell_id": "00213-7d51c7c3-35e1-4eb8-89aa-8f8d209c5a5d",
    "deepnote_cell_type": "code",
    "deepnote_cell_height": 133
   },
   "source": "w1, w2 = tf.Variable(5.), tf.Variable(3.)\nwith tf.GradientTape() as tape:\n    z = f(w1, w2)\n\ngradients = tape.gradient(z, [w1, w2])",
   "execution_count": null,
   "outputs": []
  },
  {
   "cell_type": "code",
   "metadata": {
    "id": "_lj87FpZGa9o",
    "outputId": "8fb13f0a-7f3d-4cc6-efc8-d9f1b2b76dc8",
    "cell_id": "00214-04e08c9d-a97d-45ab-a877-1cad7774955a",
    "deepnote_cell_type": "code",
    "deepnote_cell_height": 132.375,
    "deepnote_output_heights": [
     40.375
    ]
   },
   "source": "gradients",
   "execution_count": null,
   "outputs": [
    {
     "data": {
      "text/plain": "[<tf.Tensor: shape=(), dtype=float32, numpy=36.0>,\n <tf.Tensor: shape=(), dtype=float32, numpy=10.0>]"
     },
     "execution_count": 172,
     "metadata": {},
     "output_type": "execute_result"
    }
   ]
  },
  {
   "cell_type": "code",
   "metadata": {
    "id": "TWpXiZreGa9o",
    "outputId": "506ddf89-a050-4cd6-9b5d-c22de72d37db",
    "cell_id": "00215-27d21aa2-a0da-4b42-a1f5-47035a15d49a",
    "deepnote_cell_type": "code",
    "deepnote_cell_height": 237.1875
   },
   "source": "with tf.GradientTape() as tape:\n    z = f(w1, w2)\n\ndz_dw1 = tape.gradient(z, w1)\ntry:\n    dz_dw2 = tape.gradient(z, w2)\nexcept RuntimeError as ex:\n    print(ex)",
   "execution_count": null,
   "outputs": [
    {
     "name": "stdout",
     "output_type": "stream",
     "text": "A non-persistent GradientTape can only be used tocompute one set of gradients (or jacobians)\n"
    }
   ]
  },
  {
   "cell_type": "code",
   "metadata": {
    "id": "oSy4mh9FGa9p",
    "cell_id": "00216-ef6d793e-b7b0-4272-96fb-e1e0d8703366",
    "deepnote_cell_type": "code",
    "deepnote_cell_height": 151
   },
   "source": "with tf.GradientTape(persistent=True) as tape:\n    z = f(w1, w2)\n\ndz_dw1 = tape.gradient(z, w1)\ndz_dw2 = tape.gradient(z, w2) # works now!\ndel tape",
   "execution_count": null,
   "outputs": []
  },
  {
   "cell_type": "code",
   "metadata": {
    "id": "B_ZZVUQTGa9p",
    "outputId": "04758edf-c1cf-43cf-d85e-275bee6f6e1c",
    "cell_id": "00217-c3068572-4ea8-45e7-84cc-1d9d27121f95",
    "deepnote_cell_type": "code",
    "deepnote_cell_height": 61
   },
   "source": "dz_dw1, dz_dw2",
   "execution_count": null,
   "outputs": [
    {
     "data": {
      "text/plain": "(<tf.Tensor: shape=(), dtype=float32, numpy=36.0>,\n <tf.Tensor: shape=(), dtype=float32, numpy=10.0>)"
     },
     "execution_count": 175,
     "metadata": {},
     "output_type": "execute_result"
    }
   ]
  },
  {
   "cell_type": "code",
   "metadata": {
    "id": "WVhF-MTCGa9p",
    "cell_id": "00218-d89e3a70-f39b-4254-842e-24039bc76d3d",
    "deepnote_cell_type": "code",
    "deepnote_cell_height": 133
   },
   "source": "c1, c2 = tf.constant(5.), tf.constant(3.)\nwith tf.GradientTape() as tape:\n    z = f(c1, c2)\n\ngradients = tape.gradient(z, [c1, c2])",
   "execution_count": null,
   "outputs": []
  },
  {
   "cell_type": "code",
   "metadata": {
    "id": "jM5YiCn1Ga9p",
    "outputId": "b9219d72-fd62-498b-d72d-5d91f73bfe5f",
    "cell_id": "00219-189b1898-8989-47ee-b09a-0ba1e56e06b0",
    "deepnote_cell_type": "code",
    "deepnote_cell_height": 61
   },
   "source": "gradients",
   "execution_count": null,
   "outputs": [
    {
     "data": {
      "text/plain": "[None, None]"
     },
     "execution_count": 177,
     "metadata": {},
     "output_type": "execute_result"
    }
   ]
  },
  {
   "cell_type": "code",
   "metadata": {
    "id": "TWfLxyjQGa9q",
    "cell_id": "00220-f36d1fae-5ead-4e91-aecd-171d3102eaf6",
    "deepnote_cell_type": "code",
    "deepnote_cell_height": 151
   },
   "source": "with tf.GradientTape() as tape:\n    tape.watch(c1)\n    tape.watch(c2)\n    z = f(c1, c2)\n\ngradients = tape.gradient(z, [c1, c2])",
   "execution_count": null,
   "outputs": []
  },
  {
   "cell_type": "code",
   "metadata": {
    "id": "ewrOygHgGa9q",
    "outputId": "9dbc48b6-5274-4281-9bed-cceda105cfcb",
    "cell_id": "00221-f3979d3d-2f87-4596-b3cf-a06870017409",
    "deepnote_cell_type": "code",
    "deepnote_cell_height": 61
   },
   "source": "gradients",
   "execution_count": null,
   "outputs": [
    {
     "data": {
      "text/plain": "[<tf.Tensor: shape=(), dtype=float32, numpy=36.0>,\n <tf.Tensor: shape=(), dtype=float32, numpy=10.0>]"
     },
     "execution_count": 179,
     "metadata": {},
     "output_type": "execute_result"
    }
   ]
  },
  {
   "cell_type": "code",
   "metadata": {
    "id": "HoSn11m1Ga9q",
    "outputId": "2a83b2dc-7b2d-4b48-b429-e526d6f5b5b4",
    "cell_id": "00222-039cb768-3cbe-4fce-942d-07081fc4b366",
    "deepnote_cell_type": "code",
    "deepnote_cell_height": 151
   },
   "source": "with tf.GradientTape() as tape:\n    z1 = f(w1, w2 + 2.)\n    z2 = f(w1, w2 + 5.)\n    z3 = f(w1, w2 + 7.)\n\ntape.gradient([z1, z2, z3], [w1, w2])",
   "execution_count": null,
   "outputs": [
    {
     "data": {
      "text/plain": "[<tf.Tensor: shape=(), dtype=float32, numpy=136.0>,\n <tf.Tensor: shape=(), dtype=float32, numpy=30.0>]"
     },
     "execution_count": 180,
     "metadata": {},
     "output_type": "execute_result"
    }
   ]
  },
  {
   "cell_type": "code",
   "metadata": {
    "id": "973Uf92BGa9r",
    "cell_id": "00223-64cc81ac-a511-4dbe-8e38-3afe68e59d31",
    "deepnote_cell_type": "code",
    "deepnote_cell_height": 174
   },
   "source": "with tf.GradientTape(persistent=True) as tape:\n    z1 = f(w1, w2 + 2.)\n    z2 = f(w1, w2 + 5.)\n    z3 = f(w1, w2 + 7.)\n\ntf.reduce_sum(tf.stack([tape.gradient(z, [w1, w2]) for z in (z1, z2, z3)]), axis=0)\ndel tape",
   "execution_count": null,
   "outputs": []
  },
  {
   "cell_type": "code",
   "metadata": {
    "id": "_JVp8RJCGa9r",
    "cell_id": "00224-4b82d710-9100-4eb1-89ea-e6905ecb4ada",
    "deepnote_cell_type": "code",
    "deepnote_cell_height": 174
   },
   "source": "with tf.GradientTape(persistent=True) as hessian_tape:\n    with tf.GradientTape() as jacobian_tape:\n        z = f(w1, w2)\n    jacobians = jacobian_tape.gradient(z, [w1, w2])\nhessians = [hessian_tape.gradient(jacobian, [w1, w2])\n            for jacobian in jacobians]\ndel hessian_tape",
   "execution_count": null,
   "outputs": []
  },
  {
   "cell_type": "code",
   "metadata": {
    "id": "_ECQ-3Z5Ga9r",
    "outputId": "8e82fc17-8bb1-4520-8086-495e993e5343",
    "cell_id": "00225-4164b167-1553-4e94-b305-bc035e4a274d",
    "deepnote_cell_type": "code",
    "deepnote_cell_height": 61
   },
   "source": "jacobians",
   "execution_count": null,
   "outputs": [
    {
     "data": {
      "text/plain": "[<tf.Tensor: shape=(), dtype=float32, numpy=36.0>,\n <tf.Tensor: shape=(), dtype=float32, numpy=10.0>]"
     },
     "execution_count": 183,
     "metadata": {},
     "output_type": "execute_result"
    }
   ]
  },
  {
   "cell_type": "code",
   "metadata": {
    "id": "nWEn-zcoGa9r",
    "outputId": "4974541b-c117-4c76-d2ee-24aff4b09a2b",
    "cell_id": "00226-e6df06de-a072-458c-a3dc-c4c72ede6f16",
    "deepnote_cell_type": "code",
    "deepnote_cell_height": 61
   },
   "source": "hessians",
   "execution_count": null,
   "outputs": [
    {
     "data": {
      "text/plain": "[[<tf.Tensor: shape=(), dtype=float32, numpy=6.0>,\n  <tf.Tensor: shape=(), dtype=float32, numpy=2.0>],\n [<tf.Tensor: shape=(), dtype=float32, numpy=2.0>, None]]"
     },
     "execution_count": 184,
     "metadata": {},
     "output_type": "execute_result"
    }
   ]
  },
  {
   "cell_type": "code",
   "metadata": {
    "id": "v70dCYmXGa9v",
    "outputId": "19b61c3b-d0cf-4b54-e270-0976231e8ff4",
    "cell_id": "00227-26cc758e-6cef-4e27-bf28-ba4f1224f450",
    "deepnote_cell_type": "code",
    "deepnote_cell_height": 174
   },
   "source": "def f(w1, w2):\n    return 3 * w1 ** 2 + tf.stop_gradient(2 * w1 * w2)\n\nwith tf.GradientTape() as tape:\n    z = f(w1, w2)\n\ntape.gradient(z, [w1, w2])",
   "execution_count": null,
   "outputs": [
    {
     "data": {
      "text/plain": "[<tf.Tensor: shape=(), dtype=float32, numpy=30.0>, None]"
     },
     "execution_count": 185,
     "metadata": {},
     "output_type": "execute_result"
    }
   ]
  },
  {
   "cell_type": "code",
   "metadata": {
    "id": "j_EAXqNAGa9w",
    "outputId": "b0ac2664-9030-4591-8dbc-73a610ca512a",
    "cell_id": "00228-4ce63a4c-dfdc-4078-8c22-db66327450da",
    "deepnote_cell_type": "code",
    "deepnote_cell_height": 133
   },
   "source": "x = tf.Variable(100.)\nwith tf.GradientTape() as tape:\n    z = my_softplus(x)\n\ntape.gradient(z, [x])",
   "execution_count": null,
   "outputs": [
    {
     "data": {
      "text/plain": "[<tf.Tensor: shape=(), dtype=float32, numpy=nan>]"
     },
     "execution_count": 186,
     "metadata": {},
     "output_type": "execute_result"
    }
   ]
  },
  {
   "cell_type": "code",
   "metadata": {
    "id": "I7_tnL0dGa9x",
    "outputId": "90c4ffdb-a61c-40be-d2e3-316d7477909b",
    "cell_id": "00229-87945571-4807-480e-bc86-2e859aa12c66",
    "deepnote_cell_type": "code",
    "deepnote_cell_height": 66
   },
   "source": "tf.math.log(tf.exp(tf.constant(30., dtype=tf.float32)) + 1.)",
   "execution_count": null,
   "outputs": [
    {
     "data": {
      "text/plain": "<tf.Tensor: shape=(), dtype=float32, numpy=30.0>"
     },
     "execution_count": 187,
     "metadata": {},
     "output_type": "execute_result"
    }
   ]
  },
  {
   "cell_type": "code",
   "metadata": {
    "id": "xqkpRgY4Ga9y",
    "outputId": "b61662de-035c-46d5-d203-78cf8b7c28d8",
    "cell_id": "00230-8aa0ce5a-602a-4a74-b4a4-d66ec9139ce4",
    "deepnote_cell_type": "code",
    "deepnote_cell_height": 133
   },
   "source": "x = tf.Variable([100.])\nwith tf.GradientTape() as tape:\n    z = my_softplus(x)\n\ntape.gradient(z, [x])",
   "execution_count": null,
   "outputs": [
    {
     "data": {
      "text/plain": "[<tf.Tensor: shape=(1,), dtype=float32, numpy=array([nan], dtype=float32)>]"
     },
     "execution_count": 188,
     "metadata": {},
     "output_type": "execute_result"
    }
   ]
  },
  {
   "cell_type": "code",
   "metadata": {
    "id": "-NhoZIk3Ga9z",
    "cell_id": "00231-a40f72a3-5feb-440f-814b-246548d001ff",
    "deepnote_cell_type": "code",
    "deepnote_cell_height": 156
   },
   "source": "@tf.custom_gradient\ndef my_better_softplus(z):\n    exp = tf.exp(z)\n    def my_softplus_gradients(grad):\n        return grad / (1 + 1 / exp)\n    return tf.math.log(exp + 1), my_softplus_gradients",
   "execution_count": null,
   "outputs": []
  },
  {
   "cell_type": "code",
   "metadata": {
    "id": "LRz9Z0EEGa96",
    "cell_id": "00232-08b48fe5-5ca3-4199-b57e-4e7267325fe2",
    "deepnote_cell_type": "code",
    "deepnote_cell_height": 84
   },
   "source": "def my_better_softplus(z):\n    return tf.where(z > 30., z, tf.math.log(tf.exp(z) + 1.))",
   "execution_count": null,
   "outputs": []
  },
  {
   "cell_type": "code",
   "metadata": {
    "id": "_t_vHKfUGa98",
    "outputId": "2e2e8d2d-c0b4-4220-a6ee-0da7ce68786b",
    "cell_id": "00233-60a57df5-61e5-40e5-b6ee-6af09f631067",
    "deepnote_cell_type": "code",
    "deepnote_cell_height": 133
   },
   "source": "x = tf.Variable([1000.])\nwith tf.GradientTape() as tape:\n    z = my_better_softplus(x)\n\nz, tape.gradient(z, [x])",
   "execution_count": null,
   "outputs": [
    {
     "data": {
      "text/plain": "(<tf.Tensor: shape=(1,), dtype=float32, numpy=array([1000.], dtype=float32)>,\n [<tf.Tensor: shape=(1,), dtype=float32, numpy=array([nan], dtype=float32)>])"
     },
     "execution_count": 191,
     "metadata": {},
     "output_type": "execute_result"
    }
   ]
  },
  {
   "cell_type": "markdown",
   "source": "# Computing Gradients Using Autodiff",
   "metadata": {
    "id": "MWvebdIqGa99",
    "cell_id": "00234-f1f3428d-0930-47e2-9792-b47e64fa72d5",
    "deepnote_cell_type": "markdown",
    "deepnote_cell_height": 61.1875
   }
  },
  {
   "cell_type": "code",
   "metadata": {
    "id": "rtSI27HPGa99",
    "cell_id": "00235-7e91e333-c982-4e6b-9227-5661a6425cbf",
    "deepnote_cell_type": "code",
    "deepnote_cell_height": 97
   },
   "source": "keras.backend.clear_session()\nnp.random.seed(42)\ntf.random.set_seed(42)",
   "execution_count": null,
   "outputs": []
  },
  {
   "cell_type": "code",
   "metadata": {
    "id": "J1t_2d1eGa9-",
    "cell_id": "00236-a5f2ddb1-dc7e-4ba7-91c6-84f2dc5bceaf",
    "deepnote_cell_type": "code",
    "deepnote_cell_height": 156
   },
   "source": "l2_reg = keras.regularizers.l2(0.05)\nmodel = keras.models.Sequential([\n    keras.layers.Dense(30, activation=\"elu\", kernel_initializer=\"he_normal\",\n                       kernel_regularizer=l2_reg),\n    keras.layers.Dense(1, kernel_regularizer=l2_reg)\n])",
   "execution_count": null,
   "outputs": []
  },
  {
   "cell_type": "code",
   "metadata": {
    "id": "pg4XXAzHGa9_",
    "cell_id": "00237-016904b1-f758-4f62-babe-0a617b40c193",
    "deepnote_cell_type": "code",
    "deepnote_cell_height": 97
   },
   "source": "def random_batch(X, y, batch_size=32):\n    idx = np.random.randint(len(X), size=batch_size)\n    return X[idx], y[idx]",
   "execution_count": null,
   "outputs": []
  },
  {
   "cell_type": "code",
   "metadata": {
    "id": "XwQLWWp7Ga-A",
    "cell_id": "00238-e3f69cfa-a378-4bf7-a4aa-a21fc857a75e",
    "deepnote_cell_type": "code",
    "deepnote_cell_height": 156
   },
   "source": "def print_status_bar(iteration, total, loss, metrics=None):\n    metrics = \" - \".join([\"{}: {:.4f}\".format(m.name, m.result())\n                         for m in [loss] + (metrics or [])])\n    end = \"\" if iteration < total else \"\\n\"\n    print(\"\\r{}/{} - \".format(iteration, total) + metrics,\n          end=end)",
   "execution_count": null,
   "outputs": []
  },
  {
   "cell_type": "code",
   "metadata": {
    "id": "nBiSIDNWGa-A",
    "outputId": "773e9361-285f-4d63-b2e3-a4462d8adbea",
    "cell_id": "00239-fe15ff7b-53ec-492f-8e3d-dbb6676c311d",
    "deepnote_cell_type": "code",
    "deepnote_cell_height": 223
   },
   "source": "import time\n\nmean_loss = keras.metrics.Mean(name=\"loss\")\nmean_square = keras.metrics.Mean(name=\"mean_square\")\nfor i in range(1, 50 + 1):\n    loss = 1 / i\n    mean_loss(loss)\n    mean_square(i ** 2)\n    print_status_bar(i, 50, mean_loss, [mean_square])\n    time.sleep(0.05)",
   "execution_count": null,
   "outputs": [
    {
     "name": "stdout",
     "output_type": "stream",
     "text": "50/50 - loss: 0.0900 - mean_square: 858.5000\n"
    }
   ]
  },
  {
   "cell_type": "markdown",
   "source": "A fancier version with a progress bar:",
   "metadata": {
    "id": "-0LXN6iqGa-C",
    "cell_id": "00240-89ea94fb-6a31-49da-9385-3291ed0cc479",
    "deepnote_cell_type": "markdown",
    "deepnote_cell_height": 52.390625
   }
  },
  {
   "cell_type": "code",
   "metadata": {
    "id": "QlGpBjNWGa-C",
    "cell_id": "00241-b956b725-1445-4bb2-9c8d-a7c714335fb7",
    "deepnote_cell_type": "code",
    "deepnote_cell_height": 174
   },
   "source": "def progress_bar(iteration, total, size=30):\n    running = iteration < total\n    c = \">\" if running else \"=\"\n    p = (size - 1) * iteration // total\n    fmt = \"{{:-{}d}}/{{}} [{{}}]\".format(len(str(total)))\n    params = [iteration, total, \"=\" * p + c + \".\" * (size - p - 1)]\n    return fmt.format(*params)",
   "execution_count": null,
   "outputs": []
  },
  {
   "cell_type": "code",
   "metadata": {
    "id": "bHTo9XlLGa-D",
    "outputId": "12b4f63f-054a-40d3-c0eb-f02b1920e96f",
    "cell_id": "00242-91a41285-2e8c-4f9c-8a4f-a0f76d04ab6b",
    "deepnote_cell_type": "code",
    "deepnote_cell_height": 61
   },
   "source": "progress_bar(3500, 10000, size=6)",
   "execution_count": null,
   "outputs": [
    {
     "data": {
      "text/plain": "' 3500/10000 [=>....]'"
     },
     "execution_count": 198,
     "metadata": {},
     "output_type": "execute_result"
    }
   ]
  },
  {
   "cell_type": "code",
   "metadata": {
    "id": "x5sTs6ECGa-E",
    "cell_id": "00243-6d5e7fbf-fc75-405b-8e6c-991519df181c",
    "deepnote_cell_type": "code",
    "deepnote_cell_height": 138
   },
   "source": "def print_status_bar(iteration, total, loss, metrics=None, size=30):\n    metrics = \" - \".join([\"{}: {:.4f}\".format(m.name, m.result())\n                         for m in [loss] + (metrics or [])])\n    end = \"\" if iteration < total else \"\\n\"\n    print(\"\\r{} - {}\".format(progress_bar(iteration, total), metrics), end=end)",
   "execution_count": null,
   "outputs": []
  },
  {
   "cell_type": "code",
   "metadata": {
    "id": "SKYcFbsNGa-F",
    "outputId": "dae6a66c-0468-4f52-f53e-227d868edec5",
    "cell_id": "00244-a77d7637-5a31-4115-85a3-1ee468472a3e",
    "deepnote_cell_type": "code",
    "deepnote_cell_height": 187
   },
   "source": "mean_loss = keras.metrics.Mean(name=\"loss\")\nmean_square = keras.metrics.Mean(name=\"mean_square\")\nfor i in range(1, 50 + 1):\n    loss = 1 / i\n    mean_loss(loss)\n    mean_square(i ** 2)\n    print_status_bar(i, 50, mean_loss, [mean_square])\n    time.sleep(0.05)",
   "execution_count": null,
   "outputs": [
    {
     "name": "stdout",
     "output_type": "stream",
     "text": "50/50 [==============================] - loss: 0.0900 - mean_square: 858.5000\n"
    }
   ]
  },
  {
   "cell_type": "code",
   "metadata": {
    "id": "kbcrx8vvGa-G",
    "cell_id": "00245-6032c85a-83d1-41c0-8bbc-23f77ee2f5ec",
    "deepnote_cell_type": "code",
    "deepnote_cell_height": 97
   },
   "source": "keras.backend.clear_session()\nnp.random.seed(42)\ntf.random.set_seed(42)",
   "execution_count": null,
   "outputs": []
  },
  {
   "cell_type": "code",
   "metadata": {
    "id": "T18XcOYRGa-I",
    "cell_id": "00246-0e1a1ec6-a0e8-44bd-83ed-0990cf0b5b02",
    "deepnote_cell_type": "code",
    "deepnote_cell_height": 174
   },
   "source": "n_epochs = 5\nbatch_size = 32\nn_steps = len(X_train) // batch_size\noptimizer = keras.optimizers.Nadam(learning_rate=0.01)\nloss_fn = keras.losses.mean_squared_error\nmean_loss = keras.metrics.Mean()\nmetrics = [keras.metrics.MeanAbsoluteError()]",
   "execution_count": null,
   "outputs": []
  },
  {
   "cell_type": "code",
   "metadata": {
    "id": "LA7EU1NXGa-J",
    "outputId": "b9d62dd1-fc41-4db3-b9ca-36e4634fb88f",
    "cell_id": "00247-f99feb47-a55b-440a-b438-11f1f836ea56",
    "deepnote_cell_type": "code",
    "deepnote_cell_height": 408
   },
   "source": "for epoch in range(1, n_epochs + 1):\n    print(\"Epoch {}/{}\".format(epoch, n_epochs))\n    for step in range(1, n_steps + 1):\n        X_batch, y_batch = random_batch(X_train_scaled, y_train)\n        with tf.GradientTape() as tape:\n            y_pred = model(X_batch)\n            main_loss = tf.reduce_mean(loss_fn(y_batch, y_pred))\n            loss = tf.add_n([main_loss] + model.losses)\n        gradients = tape.gradient(loss, model.trainable_variables)\n        optimizer.apply_gradients(zip(gradients, model.trainable_variables))\n        for variable in model.variables:\n            if variable.constraint is not None:\n                variable.assign(variable.constraint(variable))\n        mean_loss(loss)\n        for metric in metrics:\n            metric(y_batch, y_pred)\n        print_status_bar(step * batch_size, len(y_train), mean_loss, metrics)\n    print_status_bar(len(y_train), len(y_train), mean_loss, metrics)\n    for metric in [mean_loss] + metrics:\n        metric.reset_states()",
   "execution_count": null,
   "outputs": [
    {
     "name": "stdout",
     "output_type": "stream",
     "text": "Epoch 1/5\n11610/11610 [==============================] - mean: 1.3955 - mean_absolute_error: 0.5722\nEpoch 2/5\n11610/11610 [==============================] - mean: 0.6774 - mean_absolute_error: 0.5280\nEpoch 3/5\n11610/11610 [==============================] - mean: 0.6351 - mean_absolute_error: 0.5177\nEpoch 4/5\n11610/11610 [==============================] - mean: 0.6384 - mean_absolute_error: 0.5181\nEpoch 5/5\n11610/11610 [==============================] - mean: 0.6440 - mean_absolute_error: 0.5222\n"
    }
   ]
  },
  {
   "cell_type": "code",
   "metadata": {
    "id": "SBC57Y5aGa-J",
    "outputId": "41a4fb3d-d784-4abf-d9a7-c8c2ee38fe2b",
    "colab": {
     "referenced_widgets": [
      "911ccc0821324e99b156302727dbf9c4",
      "21c8135ff59540c085b55653e6d69243",
      "06190b83afc348e999aeb3a3c523aae8",
      "44eb6b7d11b74a4aa9af17892e2a8ce9",
      "6c62578a1aa24b7d96201cc285025e83",
      "46a0328d0c5b4112995297e67bc290b6"
     ]
    },
    "cell_id": "00248-8450fca7-5d85-4652-83a9-89243522d87e",
    "deepnote_cell_type": "code",
    "deepnote_cell_height": 552
   },
   "source": "try:\n    from tqdm.notebook import trange\n    from collections import OrderedDict\n    with trange(1, n_epochs + 1, desc=\"All epochs\") as epochs:\n        for epoch in epochs:\n            with trange(1, n_steps + 1, desc=\"Epoch {}/{}\".format(epoch, n_epochs)) as steps:\n                for step in steps:\n                    X_batch, y_batch = random_batch(X_train_scaled, y_train)\n                    with tf.GradientTape() as tape:\n                        y_pred = model(X_batch)\n                        main_loss = tf.reduce_mean(loss_fn(y_batch, y_pred))\n                        loss = tf.add_n([main_loss] + model.losses)\n                    gradients = tape.gradient(loss, model.trainable_variables)\n                    optimizer.apply_gradients(zip(gradients, model.trainable_variables))\n                    for variable in model.variables:\n                        if variable.constraint is not None:\n                            variable.assign(variable.constraint(variable))                    \n                    status = OrderedDict()\n                    mean_loss(loss)\n                    status[\"loss\"] = mean_loss.result().numpy()\n                    for metric in metrics:\n                        metric(y_batch, y_pred)\n                        status[metric.name] = metric.result().numpy()\n                    steps.set_postfix(status)\n            for metric in [mean_loss] + metrics:\n                metric.reset_states()\nexcept ImportError as ex:\n    print(\"To run this cell, please install tqdm, ipywidgets and restart Jupyter\")",
   "execution_count": null,
   "outputs": [
    {
     "data": {
      "application/vnd.jupyter.widget-view+json": {
       "model_id": "911ccc0821324e99b156302727dbf9c4",
       "version_major": 2,
       "version_minor": 0
      },
      "text/plain": "All epochs:   0%|          | 0/5 [00:00<?, ?it/s]"
     },
     "metadata": {},
     "output_type": "display_data"
    },
    {
     "data": {
      "application/vnd.jupyter.widget-view+json": {
       "model_id": "21c8135ff59540c085b55653e6d69243",
       "version_major": 2,
       "version_minor": 0
      },
      "text/plain": "Epoch 1/5:   0%|          | 0/362 [00:00<?, ?it/s]"
     },
     "metadata": {},
     "output_type": "display_data"
    },
    {
     "data": {
      "application/vnd.jupyter.widget-view+json": {
       "model_id": "06190b83afc348e999aeb3a3c523aae8",
       "version_major": 2,
       "version_minor": 0
      },
      "text/plain": "Epoch 2/5:   0%|          | 0/362 [00:00<?, ?it/s]"
     },
     "metadata": {},
     "output_type": "display_data"
    },
    {
     "data": {
      "application/vnd.jupyter.widget-view+json": {
       "model_id": "44eb6b7d11b74a4aa9af17892e2a8ce9",
       "version_major": 2,
       "version_minor": 0
      },
      "text/plain": "Epoch 3/5:   0%|          | 0/362 [00:00<?, ?it/s]"
     },
     "metadata": {},
     "output_type": "display_data"
    },
    {
     "data": {
      "application/vnd.jupyter.widget-view+json": {
       "model_id": "6c62578a1aa24b7d96201cc285025e83",
       "version_major": 2,
       "version_minor": 0
      },
      "text/plain": "Epoch 4/5:   0%|          | 0/362 [00:00<?, ?it/s]"
     },
     "metadata": {},
     "output_type": "display_data"
    },
    {
     "data": {
      "application/vnd.jupyter.widget-view+json": {
       "model_id": "46a0328d0c5b4112995297e67bc290b6",
       "version_major": 2,
       "version_minor": 0
      },
      "text/plain": "Epoch 5/5:   0%|          | 0/362 [00:00<?, ?it/s]"
     },
     "metadata": {},
     "output_type": "display_data"
    }
   ]
  },
  {
   "cell_type": "markdown",
   "source": "## TensorFlow Functions",
   "metadata": {
    "id": "eR3WkEWkGa-L",
    "cell_id": "00249-79cae8f0-c3e5-4853-b426-b7655a7dbbe2",
    "deepnote_cell_type": "markdown",
    "deepnote_cell_height": 56.390625
   }
  },
  {
   "cell_type": "code",
   "metadata": {
    "id": "6sGsr9pAGa-L",
    "cell_id": "00250-bd2276f6-f0d5-4f11-b516-4b01dd364da1",
    "deepnote_cell_type": "code",
    "deepnote_cell_height": 79
   },
   "source": "def cube(x):\n    return x ** 3",
   "execution_count": null,
   "outputs": []
  },
  {
   "cell_type": "code",
   "metadata": {
    "id": "GEz5uWcRGa-M",
    "outputId": "c44d7f74-b19b-4d51-cb25-011db2a5b233",
    "cell_id": "00251-bc5d65b9-f61b-4323-adae-919e29761385",
    "deepnote_cell_type": "code",
    "deepnote_cell_height": 61
   },
   "source": "cube(2)",
   "execution_count": null,
   "outputs": [
    {
     "data": {
      "text/plain": "8"
     },
     "execution_count": 206,
     "metadata": {},
     "output_type": "execute_result"
    }
   ]
  },
  {
   "cell_type": "code",
   "metadata": {
    "id": "4WqNstj3Ga-N",
    "outputId": "5e30f4fb-b217-4445-e27e-d94ac57c49d4",
    "cell_id": "00252-d7cf7028-cb26-4593-96e2-4cd325474b4c",
    "deepnote_cell_type": "code",
    "deepnote_cell_height": 61
   },
   "source": "cube(tf.constant(2.0))",
   "execution_count": null,
   "outputs": [
    {
     "data": {
      "text/plain": "<tf.Tensor: shape=(), dtype=float32, numpy=8.0>"
     },
     "execution_count": 207,
     "metadata": {},
     "output_type": "execute_result"
    }
   ]
  },
  {
   "cell_type": "code",
   "metadata": {
    "id": "mIGXmJ-aGa-O",
    "outputId": "3faf68de-3e61-4718-a720-7a92ac5f5074",
    "cell_id": "00253-a7361109-1f62-4402-8c6e-72f40fea8708",
    "deepnote_cell_type": "code",
    "deepnote_cell_height": 79
   },
   "source": "tf_cube = tf.function(cube)\ntf_cube",
   "execution_count": null,
   "outputs": [
    {
     "data": {
      "text/plain": "<tensorflow.python.eager.def_function.Function at 0x7fbfe0c54d50>"
     },
     "execution_count": 208,
     "metadata": {},
     "output_type": "execute_result"
    }
   ]
  },
  {
   "cell_type": "code",
   "metadata": {
    "id": "rG0Bk0hDGa-O",
    "outputId": "1150f6a3-d943-4543-e742-fb10008478c1",
    "cell_id": "00254-47b3f4d6-3efe-42c6-bd35-a9417da31bef",
    "deepnote_cell_type": "code",
    "deepnote_cell_height": 61
   },
   "source": "tf_cube(2)",
   "execution_count": null,
   "outputs": [
    {
     "data": {
      "text/plain": "<tf.Tensor: shape=(), dtype=int32, numpy=8>"
     },
     "execution_count": 209,
     "metadata": {},
     "output_type": "execute_result"
    }
   ]
  },
  {
   "cell_type": "code",
   "metadata": {
    "id": "VmcQEM3mGa-P",
    "outputId": "0dcc1630-3532-4aa2-a7f4-58a3840f0525",
    "cell_id": "00255-351ef2a8-04b0-4736-9445-337494431943",
    "deepnote_cell_type": "code",
    "deepnote_cell_height": 61
   },
   "source": "tf_cube(tf.constant(2.0))",
   "execution_count": null,
   "outputs": [
    {
     "data": {
      "text/plain": "<tf.Tensor: shape=(), dtype=float32, numpy=8.0>"
     },
     "execution_count": 210,
     "metadata": {},
     "output_type": "execute_result"
    }
   ]
  },
  {
   "cell_type": "markdown",
   "source": "### TF Functions and Concrete Functions",
   "metadata": {
    "id": "Dqh9leVZGa-Q",
    "cell_id": "00256-010d288b-2cdf-4818-a38f-661a76dc06c2",
    "deepnote_cell_type": "markdown",
    "deepnote_cell_height": 54
   }
  },
  {
   "cell_type": "code",
   "metadata": {
    "id": "brUch2RfGa-R",
    "outputId": "e5ff25a9-81fa-41f3-c0fe-9b2fe421c241",
    "cell_id": "00257-4d7f5d22-8417-4662-837e-422886b27d50",
    "deepnote_cell_type": "code",
    "deepnote_cell_height": 84
   },
   "source": "concrete_function = tf_cube.get_concrete_function(tf.constant(2.0))\nconcrete_function.graph",
   "execution_count": null,
   "outputs": [
    {
     "data": {
      "text/plain": "<tensorflow.python.framework.func_graph.FuncGraph at 0x7fbfd9444310>"
     },
     "execution_count": 211,
     "metadata": {},
     "output_type": "execute_result"
    }
   ]
  },
  {
   "cell_type": "code",
   "metadata": {
    "id": "tQQeBFdlGa-R",
    "outputId": "d60e0523-1937-409d-b6ef-9f4c79949adc",
    "cell_id": "00258-eb6244ab-70a1-457c-b0ec-2c0c633f189b",
    "deepnote_cell_type": "code",
    "deepnote_cell_height": 61
   },
   "source": "concrete_function(tf.constant(2.0))",
   "execution_count": null,
   "outputs": [
    {
     "data": {
      "text/plain": "<tf.Tensor: shape=(), dtype=float32, numpy=8.0>"
     },
     "execution_count": 212,
     "metadata": {},
     "output_type": "execute_result"
    }
   ]
  },
  {
   "cell_type": "code",
   "metadata": {
    "id": "Iarx0iaNGa-S",
    "outputId": "0bcaaae2-2f64-48ff-f485-e6d4c932bc9d",
    "cell_id": "00259-0eda9625-5f1c-44de-b7a5-efd9ad6b8700",
    "deepnote_cell_type": "code",
    "deepnote_cell_height": 66
   },
   "source": "concrete_function is tf_cube.get_concrete_function(tf.constant(2.0))",
   "execution_count": null,
   "outputs": [
    {
     "data": {
      "text/plain": "True"
     },
     "execution_count": 213,
     "metadata": {},
     "output_type": "execute_result"
    }
   ]
  },
  {
   "cell_type": "markdown",
   "source": "### Exploring Function Definitions and Graphs",
   "metadata": {
    "id": "6OPhFn8nGa-T",
    "cell_id": "00260-4e670c88-5e50-4bf9-a5ab-eecfaf726bec",
    "deepnote_cell_type": "markdown",
    "deepnote_cell_height": 54
   }
  },
  {
   "cell_type": "code",
   "metadata": {
    "id": "3-BWbYf8Ga-X",
    "outputId": "beae842b-c668-48b4-b266-c9192f4a5003",
    "cell_id": "00261-36753a88-5d69-41e1-bb7b-b0e8cef6622e",
    "deepnote_cell_type": "code",
    "deepnote_cell_height": 61
   },
   "source": "concrete_function.graph",
   "execution_count": null,
   "outputs": [
    {
     "data": {
      "text/plain": "<tensorflow.python.framework.func_graph.FuncGraph at 0x7fbfd9444310>"
     },
     "execution_count": 214,
     "metadata": {},
     "output_type": "execute_result"
    }
   ]
  },
  {
   "cell_type": "code",
   "metadata": {
    "id": "qIww3Q7mGa-Z",
    "outputId": "e1a4a646-9abe-41e2-fb4d-e2cdf2fa97a8",
    "cell_id": "00262-9c402859-e972-4a6e-97e6-8f68a1251867",
    "deepnote_cell_type": "code",
    "deepnote_cell_height": 79
   },
   "source": "ops = concrete_function.graph.get_operations()\nops",
   "execution_count": null,
   "outputs": [
    {
     "data": {
      "text/plain": "[<tf.Operation 'x' type=Placeholder>,\n <tf.Operation 'pow/y' type=Const>,\n <tf.Operation 'pow' type=Pow>,\n <tf.Operation 'Identity' type=Identity>]"
     },
     "execution_count": 215,
     "metadata": {},
     "output_type": "execute_result"
    }
   ]
  },
  {
   "cell_type": "code",
   "metadata": {
    "id": "E_nT7IhOGa-b",
    "outputId": "c27da6da-23be-4823-dbc4-23a3a0be2516",
    "cell_id": "00263-f0b376eb-913f-4ae4-8228-386f5e623429",
    "deepnote_cell_type": "code",
    "deepnote_cell_height": 79
   },
   "source": "pow_op = ops[2]\nlist(pow_op.inputs)",
   "execution_count": null,
   "outputs": [
    {
     "data": {
      "text/plain": "[<tf.Tensor 'x:0' shape=() dtype=float32>,\n <tf.Tensor 'pow/y:0' shape=() dtype=float32>]"
     },
     "execution_count": 216,
     "metadata": {},
     "output_type": "execute_result"
    }
   ]
  },
  {
   "cell_type": "code",
   "metadata": {
    "id": "8WOXwRP-Ga-c",
    "outputId": "0703e746-56e1-457a-eb5c-ea854c095bad",
    "cell_id": "00264-44d80538-d527-4115-90b9-c9ae1743bac0",
    "deepnote_cell_type": "code",
    "deepnote_cell_height": 61
   },
   "source": "pow_op.outputs",
   "execution_count": null,
   "outputs": [
    {
     "data": {
      "text/plain": "[<tf.Tensor 'pow:0' shape=() dtype=float32>]"
     },
     "execution_count": 217,
     "metadata": {},
     "output_type": "execute_result"
    }
   ]
  },
  {
   "cell_type": "code",
   "metadata": {
    "id": "5bJma7VRGa-g",
    "outputId": "478baff6-4ae5-41a2-886f-cd7e3b7d9381",
    "cell_id": "00265-98598266-da91-45b8-8a84-9e93b4f57d01",
    "deepnote_cell_type": "code",
    "deepnote_cell_height": 61
   },
   "source": "concrete_function.graph.get_operation_by_name('x')",
   "execution_count": null,
   "outputs": [
    {
     "data": {
      "text/plain": "<tf.Operation 'x' type=Placeholder>"
     },
     "execution_count": 218,
     "metadata": {},
     "output_type": "execute_result"
    }
   ]
  },
  {
   "cell_type": "code",
   "metadata": {
    "id": "Z2LoTuhMGa-h",
    "outputId": "a4b09843-722c-4090-9a75-80340737eda3",
    "cell_id": "00266-0d17f079-2f5e-4500-a9e4-a8702bce6734",
    "deepnote_cell_type": "code",
    "deepnote_cell_height": 66
   },
   "source": "concrete_function.graph.get_tensor_by_name('Identity:0')",
   "execution_count": null,
   "outputs": [
    {
     "data": {
      "text/plain": "<tf.Tensor 'Identity:0' shape=() dtype=float32>"
     },
     "execution_count": 219,
     "metadata": {},
     "output_type": "execute_result"
    }
   ]
  },
  {
   "cell_type": "code",
   "metadata": {
    "id": "X6CHCON8Ga-h",
    "outputId": "b112fb57-ae41-4bc8-fee2-06acd9be14f7",
    "cell_id": "00267-c5c9900e-6fc8-4ab7-8fba-b9f8c2c1c603",
    "deepnote_cell_type": "code",
    "deepnote_cell_height": 61
   },
   "source": "concrete_function.function_def.signature",
   "execution_count": null,
   "outputs": [
    {
     "data": {
      "text/plain": "name: \"__inference_cube_1073862\"\ninput_arg {\n  name: \"x\"\n  type: DT_FLOAT\n}\noutput_arg {\n  name: \"identity\"\n  type: DT_FLOAT\n}"
     },
     "execution_count": 220,
     "metadata": {},
     "output_type": "execute_result"
    }
   ]
  },
  {
   "cell_type": "markdown",
   "source": "### How TF Functions Trace Python Functions to Extract Their Computation Graphs",
   "metadata": {
    "id": "O3rMLHtdGa-i",
    "cell_id": "00268-41481455-d812-4d89-adf7-0464edb03dc9",
    "deepnote_cell_type": "markdown",
    "deepnote_cell_height": 78
   }
  },
  {
   "cell_type": "code",
   "metadata": {
    "id": "8W2Q0RgGGa-s",
    "cell_id": "00269-89b93010-be29-4ee2-9e02-ffcddc648f76",
    "deepnote_cell_type": "code",
    "deepnote_cell_height": 115
   },
   "source": "@tf.function\ndef tf_cube(x):\n    print(\"print:\", x)\n    return x ** 3",
   "execution_count": null,
   "outputs": []
  },
  {
   "cell_type": "code",
   "metadata": {
    "id": "lhnLMWGBGa-t",
    "outputId": "b9942b08-a456-4d55-d7e1-aa39ffcfce6f",
    "cell_id": "00270-3271102a-ff46-40ed-b6cd-1f592006747b",
    "deepnote_cell_type": "code",
    "deepnote_cell_height": 61
   },
   "source": "result = tf_cube(tf.constant(2.0))",
   "execution_count": null,
   "outputs": [
    {
     "name": "stdout",
     "output_type": "stream",
     "text": "print: Tensor(\"x:0\", shape=(), dtype=float32)\n"
    }
   ]
  },
  {
   "cell_type": "code",
   "metadata": {
    "id": "OGGI4DeBGa-u",
    "outputId": "f9cbe8ef-cafd-4efb-a462-69c55d2c487c",
    "cell_id": "00271-cfdddd1a-e799-4090-aabc-e0dcbba6b405",
    "deepnote_cell_type": "code",
    "deepnote_cell_height": 61
   },
   "source": "result",
   "execution_count": null,
   "outputs": [
    {
     "data": {
      "text/plain": "<tf.Tensor: shape=(), dtype=float32, numpy=8.0>"
     },
     "execution_count": 223,
     "metadata": {},
     "output_type": "execute_result"
    }
   ]
  },
  {
   "cell_type": "code",
   "metadata": {
    "id": "KydfN66xGa-v",
    "outputId": "e97cf5f0-20fd-4b4f-be4b-00c146389e54",
    "cell_id": "00272-253c1d65-cceb-4968-8212-d2ee7fe3e558",
    "deepnote_cell_type": "code",
    "deepnote_cell_height": 156
   },
   "source": "result = tf_cube(2)\nresult = tf_cube(3)\nresult = tf_cube(tf.constant([[1., 2.]])) # New shape: trace!\nresult = tf_cube(tf.constant([[3., 4.], [5., 6.]])) # New shape: trace!\nresult = tf_cube(tf.constant([[7., 8.], [9., 10.], [11., 12.]])) # New shape: trace!\n",
   "execution_count": null,
   "outputs": [
    {
     "name": "stdout",
     "output_type": "stream",
     "text": "print: 2\nprint: 3\nprint: Tensor(\"x:0\", shape=(1, 2), dtype=float32)\nprint: Tensor(\"x:0\", shape=(2, 2), dtype=float32)\nWARNING:tensorflow:5 out of the last 5 calls to <function tf_cube at 0x7fbfc0363440> triggered tf.function retracing. Tracing is expensive and the excessive number of tracings could be due to (1) creating @tf.function repeatedly in a loop, (2) passing tensors with different shapes, (3) passing Python objects instead of tensors. For (1), please define your @tf.function outside of the loop. For (2), @tf.function has experimental_relax_shapes=True option that relaxes argument shapes that can avoid unnecessary retracing. For (3), please refer to https://www.tensorflow.org/guide/function#controlling_retracing and https://www.tensorflow.org/api_docs/python/tf/function for  more details.\n"
    },
    {
     "name": "stderr",
     "output_type": "stream",
     "text": "WARNING:tensorflow:5 out of the last 5 calls to <function tf_cube at 0x7fbfc0363440> triggered tf.function retracing. Tracing is expensive and the excessive number of tracings could be due to (1) creating @tf.function repeatedly in a loop, (2) passing tensors with different shapes, (3) passing Python objects instead of tensors. For (1), please define your @tf.function outside of the loop. For (2), @tf.function has experimental_relax_shapes=True option that relaxes argument shapes that can avoid unnecessary retracing. For (3), please refer to https://www.tensorflow.org/guide/function#controlling_retracing and https://www.tensorflow.org/api_docs/python/tf/function for  more details.\n"
    },
    {
     "name": "stdout",
     "output_type": "stream",
     "text": "print: Tensor(\"x:0\", shape=(3, 2), dtype=float32)\nWARNING:tensorflow:6 out of the last 6 calls to <function tf_cube at 0x7fbfc0363440> triggered tf.function retracing. Tracing is expensive and the excessive number of tracings could be due to (1) creating @tf.function repeatedly in a loop, (2) passing tensors with different shapes, (3) passing Python objects instead of tensors. For (1), please define your @tf.function outside of the loop. For (2), @tf.function has experimental_relax_shapes=True option that relaxes argument shapes that can avoid unnecessary retracing. For (3), please refer to https://www.tensorflow.org/guide/function#controlling_retracing and https://www.tensorflow.org/api_docs/python/tf/function for  more details.\n"
    },
    {
     "name": "stderr",
     "output_type": "stream",
     "text": "WARNING:tensorflow:6 out of the last 6 calls to <function tf_cube at 0x7fbfc0363440> triggered tf.function retracing. Tracing is expensive and the excessive number of tracings could be due to (1) creating @tf.function repeatedly in a loop, (2) passing tensors with different shapes, (3) passing Python objects instead of tensors. For (1), please define your @tf.function outside of the loop. For (2), @tf.function has experimental_relax_shapes=True option that relaxes argument shapes that can avoid unnecessary retracing. For (3), please refer to https://www.tensorflow.org/guide/function#controlling_retracing and https://www.tensorflow.org/api_docs/python/tf/function for  more details.\n"
    }
   ]
  },
  {
   "cell_type": "markdown",
   "source": "It is also possible to specify a particular input signature:",
   "metadata": {
    "id": "mzqPFwFtGa-v",
    "cell_id": "00273-903b186e-b000-45ec-ba58-82a5008634d9",
    "deepnote_cell_type": "markdown",
    "deepnote_cell_height": 52.390625
   }
  },
  {
   "cell_type": "code",
   "metadata": {
    "id": "P5bieGAcGa-w",
    "cell_id": "00274-2e2e5ce1-ea31-4a23-893f-6e33e1ab4622",
    "deepnote_cell_type": "code",
    "deepnote_cell_height": 120
   },
   "source": "@tf.function(input_signature=[tf.TensorSpec([None, 28, 28], tf.float32)])\ndef shrink(images):\n    print(\"Tracing\", images)\n    return images[:, ::2, ::2] # drop half the rows and columns",
   "execution_count": null,
   "outputs": []
  },
  {
   "cell_type": "code",
   "metadata": {
    "id": "3kam8dIUGa-w",
    "cell_id": "00275-bfdd36e7-9415-4c5c-a139-72f803356fcf",
    "deepnote_cell_type": "code",
    "deepnote_cell_height": 97
   },
   "source": "keras.backend.clear_session()\nnp.random.seed(42)\ntf.random.set_seed(42)",
   "execution_count": null,
   "outputs": []
  },
  {
   "cell_type": "code",
   "metadata": {
    "id": "ykkk4wuxGa-x",
    "outputId": "5b488cf2-db32-4837-8f50-c4c4b333ef57",
    "cell_id": "00276-65383346-e24d-4a48-a71a-949b97d26fcb",
    "deepnote_cell_type": "code",
    "deepnote_cell_height": 120
   },
   "source": "img_batch_1 = tf.random.uniform(shape=[100, 28, 28])\nimg_batch_2 = tf.random.uniform(shape=[50, 28, 28])\npreprocessed_images = shrink(img_batch_1) # Traces the function.\npreprocessed_images = shrink(img_batch_2) # Reuses the same concrete function.",
   "execution_count": null,
   "outputs": [
    {
     "name": "stdout",
     "output_type": "stream",
     "text": "Tracing Tensor(\"images:0\", shape=(None, 28, 28), dtype=float32)\n"
    }
   ]
  },
  {
   "cell_type": "code",
   "metadata": {
    "id": "fIDSGEMZGa-x",
    "outputId": "6d423b8b-f887-4a39-beab-7e61256e565d",
    "cell_id": "00277-67c3d747-8d90-464c-a03a-9fbeed053954",
    "deepnote_cell_type": "code",
    "deepnote_cell_height": 138
   },
   "source": "img_batch_3 = tf.random.uniform(shape=[2, 2, 2])\ntry:\n    preprocessed_images = shrink(img_batch_3)  # rejects unexpected types or shapes\nexcept ValueError as ex:\n    print(ex)",
   "execution_count": null,
   "outputs": [
    {
     "name": "stdout",
     "output_type": "stream",
     "text": "Python inputs incompatible with input_signature:\n  inputs: (\n    tf.Tensor(\n[[[0.7413678  0.62854624]\n  [0.01738465 0.3431449 ]]\n\n [[0.51063764 0.3777541 ]\n  [0.07321596 0.02137029]]], shape=(2, 2, 2), dtype=float32))\n  input_signature: (\n    TensorSpec(shape=(None, 28, 28), dtype=tf.float32, name=None))\n"
    }
   ]
  },
  {
   "cell_type": "markdown",
   "source": "### Using Autograph To Capture Control Flow",
   "metadata": {
    "id": "mTwh0o46Ga-y",
    "cell_id": "00278-44aa19ae-6bbe-4036-8c58-32b193225105",
    "deepnote_cell_type": "markdown",
    "deepnote_cell_height": 54
   }
  },
  {
   "cell_type": "markdown",
   "source": "A \"static\" `for` loop using `range()`:",
   "metadata": {
    "id": "nzXyBCSqGa-y",
    "cell_id": "00279-6fc4b342-d7eb-4cec-b2ac-2ef28d1e94ad",
    "deepnote_cell_type": "markdown",
    "deepnote_cell_height": 52.390625
   }
  },
  {
   "cell_type": "code",
   "metadata": {
    "id": "hSd7rLr1Ga-y",
    "cell_id": "00280-0b4f7aeb-15a2-4e70-96d5-4a7b6de8a097",
    "deepnote_cell_type": "code",
    "deepnote_cell_height": 133
   },
   "source": "@tf.function\ndef add_10(x):\n    for i in range(10):\n        x += 1\n    return x",
   "execution_count": null,
   "outputs": []
  },
  {
   "cell_type": "code",
   "metadata": {
    "id": "cqHsNJE-Ga-z",
    "outputId": "99e5d123-d257-462f-af8c-e97d123b3673",
    "cell_id": "00281-2360c1bf-c9d8-431e-99a7-c7dcb626aff7",
    "deepnote_cell_type": "code",
    "deepnote_cell_height": 61
   },
   "source": "add_10(tf.constant(5))",
   "execution_count": null,
   "outputs": [
    {
     "data": {
      "text/plain": "<tf.Tensor: shape=(), dtype=int32, numpy=15>"
     },
     "execution_count": 230,
     "metadata": {},
     "output_type": "execute_result"
    }
   ]
  },
  {
   "cell_type": "code",
   "metadata": {
    "id": "vxcrHyG0Ga-z",
    "outputId": "06dcb3f7-a9b7-4b30-ca94-305e836f36b5",
    "cell_id": "00282-300db710-4730-4cbf-a6dc-79df648d191d",
    "deepnote_cell_type": "code",
    "deepnote_cell_height": 66
   },
   "source": "add_10.get_concrete_function(tf.constant(5)).graph.get_operations()",
   "execution_count": null,
   "outputs": [
    {
     "data": {
      "text/plain": "[<tf.Operation 'x' type=Placeholder>,\n <tf.Operation 'add/y' type=Const>,\n <tf.Operation 'add' type=AddV2>,\n <tf.Operation 'add_1/y' type=Const>,\n <tf.Operation 'add_1' type=AddV2>,\n <tf.Operation 'add_2/y' type=Const>,\n <tf.Operation 'add_2' type=AddV2>,\n <tf.Operation 'add_3/y' type=Const>,\n <tf.Operation 'add_3' type=AddV2>,\n <tf.Operation 'add_4/y' type=Const>,\n <tf.Operation 'add_4' type=AddV2>,\n <tf.Operation 'add_5/y' type=Const>,\n <tf.Operation 'add_5' type=AddV2>,\n <tf.Operation 'add_6/y' type=Const>,\n <tf.Operation 'add_6' type=AddV2>,\n <tf.Operation 'add_7/y' type=Const>,\n <tf.Operation 'add_7' type=AddV2>,\n <tf.Operation 'add_8/y' type=Const>,\n <tf.Operation 'add_8' type=AddV2>,\n <tf.Operation 'add_9/y' type=Const>,\n <tf.Operation 'add_9' type=AddV2>,\n <tf.Operation 'Identity' type=Identity>]"
     },
     "execution_count": 231,
     "metadata": {},
     "output_type": "execute_result"
    }
   ]
  },
  {
   "cell_type": "markdown",
   "source": "A \"dynamic\" loop using `tf.while_loop()`:",
   "metadata": {
    "id": "AaUw3MZ-Ga-0",
    "cell_id": "00283-a0173b34-bb88-4f16-8dc5-785420aa786c",
    "deepnote_cell_type": "markdown",
    "deepnote_cell_height": 52.390625
   }
  },
  {
   "cell_type": "code",
   "metadata": {
    "id": "-A33wBhSGa-0",
    "cell_id": "00284-cfc3ace5-dade-40dc-af2f-cce0ea84eb18",
    "deepnote_cell_type": "code",
    "deepnote_cell_height": 156
   },
   "source": "@tf.function\ndef add_10(x):\n    condition = lambda i, x: tf.less(i, 10)\n    body = lambda i, x: (tf.add(i, 1), tf.add(x, 1))\n    final_i, final_x = tf.while_loop(condition, body, [tf.constant(0), x])\n    return final_x",
   "execution_count": null,
   "outputs": []
  },
  {
   "cell_type": "code",
   "metadata": {
    "id": "_6eTMuvZGa-1",
    "outputId": "b5e50d49-bbe2-42a2-9b42-b6e6c97179b9",
    "cell_id": "00285-68957eaf-50d7-4b2a-89f1-ead3fbcaf34e",
    "deepnote_cell_type": "code",
    "deepnote_cell_height": 61
   },
   "source": "add_10(tf.constant(5))",
   "execution_count": null,
   "outputs": [
    {
     "data": {
      "text/plain": "<tf.Tensor: shape=(), dtype=int32, numpy=15>"
     },
     "execution_count": 233,
     "metadata": {},
     "output_type": "execute_result"
    }
   ]
  },
  {
   "cell_type": "code",
   "metadata": {
    "id": "9flITkeJGa-1",
    "outputId": "42397c67-d200-4791-9ec7-3880b0b87b95",
    "cell_id": "00286-fa31f373-b581-4300-a53c-d6c02778af1b",
    "deepnote_cell_type": "code",
    "deepnote_cell_height": 66
   },
   "source": "add_10.get_concrete_function(tf.constant(5)).graph.get_operations()",
   "execution_count": null,
   "outputs": [
    {
     "data": {
      "text/plain": "[<tf.Operation 'x' type=Placeholder>,\n <tf.Operation 'Const' type=Const>,\n <tf.Operation 'while/maximum_iterations' type=Const>,\n <tf.Operation 'while/loop_counter' type=Const>,\n <tf.Operation 'while' type=StatelessWhile>,\n <tf.Operation 'Identity' type=Identity>]"
     },
     "execution_count": 234,
     "metadata": {},
     "output_type": "execute_result"
    }
   ]
  },
  {
   "cell_type": "markdown",
   "source": "A \"dynamic\" `for` loop using `tf.range()` (captured by autograph):",
   "metadata": {
    "id": "4ocoTLqCGa-2",
    "cell_id": "00287-327ac35d-7e08-42d8-97b7-a648f35b2c53",
    "deepnote_cell_type": "markdown",
    "deepnote_cell_height": 52.390625
   }
  },
  {
   "cell_type": "code",
   "metadata": {
    "id": "fgYL6M4AGa-2",
    "cell_id": "00288-fcc5fba3-588a-401a-84ef-54b4e90f998a",
    "deepnote_cell_type": "code",
    "deepnote_cell_height": 133
   },
   "source": "@tf.function\ndef add_10(x):\n    for i in tf.range(10):\n        x = x + 1\n    return x",
   "execution_count": null,
   "outputs": []
  },
  {
   "cell_type": "code",
   "metadata": {
    "id": "itfJ9cxqGa-2",
    "outputId": "cfa0005c-4e19-44dd-d0e1-956ab5f5a5e1",
    "cell_id": "00289-75610731-d629-45cc-9084-b647ae8bdf61",
    "deepnote_cell_type": "code",
    "deepnote_cell_height": 66
   },
   "source": "add_10.get_concrete_function(tf.constant(0)).graph.get_operations()",
   "execution_count": null,
   "outputs": [
    {
     "data": {
      "text/plain": "[<tf.Operation 'x' type=Placeholder>,\n <tf.Operation 'range/start' type=Const>,\n <tf.Operation 'range/limit' type=Const>,\n <tf.Operation 'range/delta' type=Const>,\n <tf.Operation 'range' type=Range>,\n <tf.Operation 'sub' type=Sub>,\n <tf.Operation 'floordiv' type=FloorDiv>,\n <tf.Operation 'mod' type=FloorMod>,\n <tf.Operation 'zeros_like' type=Const>,\n <tf.Operation 'NotEqual' type=NotEqual>,\n <tf.Operation 'Cast' type=Cast>,\n <tf.Operation 'add' type=AddV2>,\n <tf.Operation 'zeros_like_1' type=Const>,\n <tf.Operation 'Maximum' type=Maximum>,\n <tf.Operation 'while/maximum_iterations' type=Const>,\n <tf.Operation 'while/loop_counter' type=Const>,\n <tf.Operation 'while' type=StatelessWhile>,\n <tf.Operation 'Identity' type=Identity>]"
     },
     "execution_count": 236,
     "metadata": {},
     "output_type": "execute_result"
    }
   ]
  },
  {
   "cell_type": "markdown",
   "source": "### Handling Variables and Other Resources in TF Functions",
   "metadata": {
    "id": "p0DPOTuCGa-2",
    "cell_id": "00290-97bcb636-0cfd-4bb8-a70d-6b91a41838e7",
    "deepnote_cell_type": "markdown",
    "deepnote_cell_height": 78
   }
  },
  {
   "cell_type": "code",
   "metadata": {
    "id": "kpXpPhTzGa-3",
    "cell_id": "00291-9cef5bc8-91d7-41a1-a800-c9fcf7f24505",
    "deepnote_cell_type": "code",
    "deepnote_cell_height": 133
   },
   "source": "counter = tf.Variable(0)\n\n@tf.function\ndef increment(counter, c=1):\n    return counter.assign_add(c)",
   "execution_count": null,
   "outputs": []
  },
  {
   "cell_type": "code",
   "metadata": {
    "id": "zRNpGfzyGa-3",
    "outputId": "9d05b8e7-71d0-4005-d38d-1bdece3e7792",
    "cell_id": "00292-1e4b8307-5e22-4030-8728-e63f5532c47f",
    "deepnote_cell_type": "code",
    "deepnote_cell_height": 79
   },
   "source": "increment(counter)\nincrement(counter)",
   "execution_count": null,
   "outputs": [
    {
     "data": {
      "text/plain": "<tf.Tensor: shape=(), dtype=int32, numpy=2>"
     },
     "execution_count": 238,
     "metadata": {},
     "output_type": "execute_result"
    }
   ]
  },
  {
   "cell_type": "code",
   "metadata": {
    "id": "AR-mZ-h1Ga-3",
    "outputId": "6dcfa5e5-ff07-48c5-84c2-6a663dde573a",
    "cell_id": "00293-51f3f835-e614-4153-a67a-8837914e4b03",
    "deepnote_cell_type": "code",
    "deepnote_cell_height": 84
   },
   "source": "function_def = increment.get_concrete_function(counter).function_def\nfunction_def.signature.input_arg[0]",
   "execution_count": null,
   "outputs": [
    {
     "data": {
      "text/plain": "name: \"counter\"\ntype: DT_RESOURCE"
     },
     "execution_count": 239,
     "metadata": {},
     "output_type": "execute_result"
    }
   ]
  },
  {
   "cell_type": "code",
   "metadata": {
    "id": "qCdHV_HFGa-4",
    "cell_id": "00294-fe9c4e1d-3399-4f1c-b9cc-a1f6aea92432",
    "deepnote_cell_type": "code",
    "deepnote_cell_height": 133
   },
   "source": "counter = tf.Variable(0)\n\n@tf.function\ndef increment(c=1):\n    return counter.assign_add(c)",
   "execution_count": null,
   "outputs": []
  },
  {
   "cell_type": "code",
   "metadata": {
    "id": "MWe4IRXsGa-5",
    "outputId": "bb06fc41-d5ac-4093-d0d4-c4b5eb5ef600",
    "cell_id": "00295-f15c2704-e8fc-4afb-9bf0-d50621082462",
    "deepnote_cell_type": "code",
    "deepnote_cell_height": 79
   },
   "source": "increment()\nincrement()",
   "execution_count": null,
   "outputs": [
    {
     "data": {
      "text/plain": "<tf.Tensor: shape=(), dtype=int32, numpy=2>"
     },
     "execution_count": 241,
     "metadata": {},
     "output_type": "execute_result"
    }
   ]
  },
  {
   "cell_type": "code",
   "metadata": {
    "id": "8m1CvEl2Ga-_",
    "outputId": "481caa77-b7d7-44b1-b61c-7b31913e4084",
    "cell_id": "00296-504b14a5-a6e8-47cb-9ba9-a0c20ed5b341",
    "deepnote_cell_type": "code",
    "deepnote_cell_height": 84
   },
   "source": "function_def = increment.get_concrete_function().function_def\nfunction_def.signature.input_arg[0]",
   "execution_count": null,
   "outputs": [
    {
     "data": {
      "text/plain": "name: \"assignaddvariableop_resource\"\ntype: DT_RESOURCE"
     },
     "execution_count": 242,
     "metadata": {},
     "output_type": "execute_result"
    }
   ]
  },
  {
   "cell_type": "code",
   "metadata": {
    "id": "p33VHbZkGa_A",
    "cell_id": "00297-d7225afd-8637-41bd-b255-8f316a599798",
    "deepnote_cell_type": "code",
    "deepnote_cell_height": 169
   },
   "source": "class Counter:\n    def __init__(self):\n        self.counter = tf.Variable(0)\n\n    @tf.function\n    def increment(self, c=1):\n        return self.counter.assign_add(c)",
   "execution_count": null,
   "outputs": []
  },
  {
   "cell_type": "code",
   "metadata": {
    "id": "LB9yVQECGa_B",
    "outputId": "70200a28-05ab-41e5-db48-9b6cb29d0df6",
    "cell_id": "00298-2200a374-c3c0-4b6a-a3be-87c57c61024d",
    "deepnote_cell_type": "code",
    "deepnote_cell_height": 97
   },
   "source": "c = Counter()\nc.increment()\nc.increment()",
   "execution_count": null,
   "outputs": [
    {
     "data": {
      "text/plain": "<tf.Tensor: shape=(), dtype=int32, numpy=2>"
     },
     "execution_count": 244,
     "metadata": {},
     "output_type": "execute_result"
    }
   ]
  },
  {
   "cell_type": "code",
   "metadata": {
    "scrolled": true,
    "id": "m5sywOQtGa_C",
    "outputId": "ea37ead2-5f2d-4c63-a081-a42a439313ea",
    "cell_id": "00299-debcbc58-d378-4c28-8ffa-8ee477f21f4c",
    "deepnote_cell_type": "code",
    "deepnote_cell_height": 169
   },
   "source": "@tf.function\ndef add_10(x):\n    for i in tf.range(10):\n        x += 1\n    return x\n\nprint(tf.autograph.to_code(add_10.python_function))",
   "execution_count": null,
   "outputs": [
    {
     "name": "stdout",
     "output_type": "stream",
     "text": "def tf__add(x):\n    with ag__.FunctionScope('add_10', 'fscope', ag__.ConversionOptions(recursive=True, user_requested=True, optional_features=(), internal_convert_user_code=True)) as fscope:\n        do_return = False\n        retval_ = ag__.UndefinedReturnValue()\n\n        def get_state():\n            return (x,)\n\n        def set_state(vars_):\n            nonlocal x\n            (x,) = vars_\n\n        def loop_body(itr):\n            nonlocal x\n            i = itr\n            x = ag__.ld(x)\n            x += 1\n        i = ag__.Undefined('i')\n        ag__.for_stmt(ag__.converted_call(ag__.ld(tf).range, (10,), None, fscope), None, loop_body, get_state, set_state, ('x',), {'iterate_names': 'i'})\n        try:\n            do_return = True\n            retval_ = ag__.ld(x)\n        except:\n            do_return = False\n            raise\n        return fscope.ret(retval_, do_return)\n\n"
    }
   ]
  },
  {
   "cell_type": "code",
   "metadata": {
    "id": "FeNPcCrjGa_C",
    "cell_id": "00300-f249e22c-2c36-4afe-86c6-d24edb5a5a17",
    "deepnote_cell_type": "code",
    "deepnote_cell_height": 156
   },
   "source": "def display_tf_code(func):\n    from IPython.display import display, Markdown\n    if hasattr(func, \"python_function\"):\n        func = func.python_function\n    code = tf.autograph.to_code(func)\n    display(Markdown('```python\\n{}\\n```'.format(code)))",
   "execution_count": null,
   "outputs": []
  },
  {
   "cell_type": "code",
   "metadata": {
    "id": "w_PX0BQYGa_D",
    "outputId": "12da7922-0c7d-431e-97b1-04a2b72250c7",
    "cell_id": "00301-f060ee7e-0941-45e7-ac65-360a2ef78a17",
    "deepnote_cell_type": "code",
    "deepnote_cell_height": 61
   },
   "source": "display_tf_code(add_10)",
   "execution_count": null,
   "outputs": [
    {
     "data": {
      "text/markdown": "```python\ndef tf__add(x):\n    with ag__.FunctionScope('add_10', 'fscope', ag__.ConversionOptions(recursive=True, user_requested=True, optional_features=(), internal_convert_user_code=True)) as fscope:\n        do_return = False\n        retval_ = ag__.UndefinedReturnValue()\n\n        def get_state():\n            return (x,)\n\n        def set_state(vars_):\n            nonlocal x\n            (x,) = vars_\n\n        def loop_body(itr):\n            nonlocal x\n            i = itr\n            x = ag__.ld(x)\n            x += 1\n        i = ag__.Undefined('i')\n        ag__.for_stmt(ag__.converted_call(ag__.ld(tf).range, (10,), None, fscope), None, loop_body, get_state, set_state, ('x',), {'iterate_names': 'i'})\n        try:\n            do_return = True\n            retval_ = ag__.ld(x)\n        except:\n            do_return = False\n            raise\n        return fscope.ret(retval_, do_return)\n\n```",
      "text/plain": "<IPython.core.display.Markdown object>"
     },
     "metadata": {},
     "output_type": "display_data"
    }
   ]
  },
  {
   "cell_type": "markdown",
   "source": "## Using TF Functions with tf.keras (or Not)",
   "metadata": {
    "id": "O6l7JjdBGa_D",
    "cell_id": "00302-72577b45-25e2-4d45-a7fa-ed19bc682c62",
    "deepnote_cell_type": "markdown",
    "deepnote_cell_height": 56.390625
   }
  },
  {
   "cell_type": "markdown",
   "source": "By default, tf.keras will automatically convert your custom code into TF Functions, no need to use\n`tf.function()`:",
   "metadata": {
    "id": "qWyNvzZ1Ga_E",
    "cell_id": "00303-e595d2e4-33a7-4141-a06a-13ebd9dabd8f",
    "deepnote_cell_type": "markdown",
    "deepnote_cell_height": 97.171875
   }
  },
  {
   "cell_type": "code",
   "metadata": {
    "id": "v28hi8N2Ga_E",
    "cell_id": "00304-4a386911-bf4a-456a-971c-fb6dfc9746cc",
    "deepnote_cell_type": "code",
    "deepnote_cell_height": 115
   },
   "source": "# Custom loss function\ndef my_mse(y_true, y_pred):\n    print(\"Tracing loss my_mse()\")\n    return tf.reduce_mean(tf.square(y_pred - y_true))",
   "execution_count": null,
   "outputs": []
  },
  {
   "cell_type": "code",
   "metadata": {
    "id": "I0Ay1KuUGa_G",
    "cell_id": "00305-642269f5-26cb-4b84-9453-c27f49d322cd",
    "deepnote_cell_type": "code",
    "deepnote_cell_height": 115
   },
   "source": "# Custom metric function\ndef my_mae(y_true, y_pred):\n    print(\"Tracing metric my_mae()\")\n    return tf.reduce_mean(tf.abs(y_pred - y_true))",
   "execution_count": null,
   "outputs": []
  },
  {
   "cell_type": "code",
   "metadata": {
    "id": "my1mCeNeGa_I",
    "cell_id": "00306-6bca9473-acf1-4382-927a-1ac12081d1cf",
    "deepnote_cell_type": "code",
    "deepnote_cell_height": 426
   },
   "source": "# Custom layer\nclass MyDense(keras.layers.Layer):\n    def __init__(self, units, activation=None, **kwargs):\n        super().__init__(**kwargs)\n        self.units = units\n        self.activation = keras.activations.get(activation)\n\n    def build(self, input_shape):\n        self.kernel = self.add_weight(name='kernel', \n                                      shape=(input_shape[1], self.units),\n                                      initializer='uniform',\n                                      trainable=True)\n        self.biases = self.add_weight(name='bias', \n                                      shape=(self.units,),\n                                      initializer='zeros',\n                                      trainable=True)\n        super().build(input_shape)\n\n    def call(self, X):\n        print(\"Tracing MyDense.call()\")\n        return self.activation(X @ self.kernel + self.biases)",
   "execution_count": null,
   "outputs": []
  },
  {
   "cell_type": "code",
   "metadata": {
    "id": "8-SHFeqPGa_K",
    "cell_id": "00307-276ea690-60b7-4926-b0f7-c2821187edcd",
    "deepnote_cell_type": "code",
    "deepnote_cell_height": 97
   },
   "source": "keras.backend.clear_session()\nnp.random.seed(42)\ntf.random.set_seed(42)",
   "execution_count": null,
   "outputs": []
  },
  {
   "cell_type": "code",
   "metadata": {
    "id": "8Wx-GF3eGa_L",
    "cell_id": "00308-2febd0f7-3fd7-4fd0-8128-3c6c34ee691c",
    "deepnote_cell_type": "code",
    "deepnote_cell_height": 354
   },
   "source": "# Custom model\nclass MyModel(keras.models.Model):\n    def __init__(self, **kwargs):\n        super().__init__(**kwargs)\n        self.hidden1 = MyDense(30, activation=\"relu\")\n        self.hidden2 = MyDense(30, activation=\"relu\")\n        self.output_ = MyDense(1)\n\n    def call(self, input):\n        print(\"Tracing MyModel.call()\")\n        hidden1 = self.hidden1(input)\n        hidden2 = self.hidden2(hidden1)\n        concat = keras.layers.concatenate([input, hidden2])\n        output = self.output_(concat)\n        return output\n\nmodel = MyModel()",
   "execution_count": null,
   "outputs": []
  },
  {
   "cell_type": "code",
   "metadata": {
    "id": "Kt5SZv5BGa_L",
    "cell_id": "00309-d3c559bf-aa24-4801-a67a-1a32e08b7d55",
    "deepnote_cell_type": "code",
    "deepnote_cell_height": 66
   },
   "source": "model.compile(loss=my_mse, optimizer=\"nadam\", metrics=[my_mae])",
   "execution_count": null,
   "outputs": []
  },
  {
   "cell_type": "code",
   "metadata": {
    "id": "iTOd1UhgGa_M",
    "outputId": "33627711-1b80-4812-f7c1-e9a7591669da",
    "cell_id": "00310-44a9cd83-c5b6-4c94-9d2c-7493d090223d",
    "deepnote_cell_type": "code",
    "deepnote_cell_height": 97
   },
   "source": "model.fit(X_train_scaled, y_train, epochs=2,\n          validation_data=(X_valid_scaled, y_valid))\nmodel.evaluate(X_test_scaled, y_test)",
   "execution_count": null,
   "outputs": [
    {
     "name": "stdout",
     "output_type": "stream",
     "text": "Epoch 1/2\nTracing MyModel.call()\nTracing MyDense.call()\nTracing MyDense.call()\nTracing MyDense.call()\nTracing loss my_mse()\nTracing metric my_mae()\nTracing MyModel.call()\nTracing MyDense.call()\nTracing MyDense.call()\nTracing MyDense.call()\nTracing loss my_mse()\nTracing metric my_mae()\n340/363 [===========================>..] - ETA: 0s - loss: 2.8762 - my_mae: 1.2771Tracing MyModel.call()\nTracing MyDense.call()\nTracing MyDense.call()\nTracing MyDense.call()\nTracing loss my_mse()\nTracing metric my_mae()\n363/363 [==============================] - 1s 1ms/step - loss: 2.7755 - my_mae: 1.2455 - val_loss: 0.5569 - val_my_mae: 0.4819\nEpoch 2/2\n363/363 [==============================] - 0s 802us/step - loss: 0.4697 - my_mae: 0.4911 - val_loss: 0.4664 - val_my_mae: 0.4576\n162/162 [==============================] - 0s 469us/step - loss: 0.4164 - my_mae: 0.4639\n"
    },
    {
     "data": {
      "text/plain": "[0.4163525104522705, 0.4639028012752533]"
     },
     "execution_count": 254,
     "metadata": {},
     "output_type": "execute_result"
    }
   ]
  },
  {
   "cell_type": "markdown",
   "source": "You can turn this off by creating the model with `dynamic=True` (or calling `super().__init__(dynamic=True, **kwargs)` in the model's constructor):",
   "metadata": {
    "id": "zJFCr--GGa_O",
    "cell_id": "00311-53e9a887-359b-472f-9dd7-f49327b967ec",
    "deepnote_cell_type": "markdown",
    "deepnote_cell_height": 97.171875
   }
  },
  {
   "cell_type": "code",
   "metadata": {
    "id": "YE9DX4IZGa_P",
    "cell_id": "00312-06754ef0-67dc-41c0-b291-8a5bc86c6217",
    "deepnote_cell_type": "code",
    "deepnote_cell_height": 97
   },
   "source": "keras.backend.clear_session()\nnp.random.seed(42)\ntf.random.set_seed(42)",
   "execution_count": null,
   "outputs": []
  },
  {
   "cell_type": "code",
   "metadata": {
    "id": "1seH49DKGa_P",
    "cell_id": "00313-21fe9a79-350d-43b4-a495-3f67c2e94ce7",
    "deepnote_cell_type": "code",
    "deepnote_cell_height": 61
   },
   "source": "model = MyModel(dynamic=True)",
   "execution_count": null,
   "outputs": []
  },
  {
   "cell_type": "code",
   "metadata": {
    "id": "52BRdAHQGa_Q",
    "cell_id": "00314-03f98674-e5ef-4197-be78-f58337733f2b",
    "deepnote_cell_type": "code",
    "deepnote_cell_height": 66
   },
   "source": "model.compile(loss=my_mse, optimizer=\"nadam\", metrics=[my_mae])",
   "execution_count": null,
   "outputs": []
  },
  {
   "cell_type": "markdown",
   "source": "Not the custom code will be called at each iteration. Let's fit, validate and evaluate with tiny datasets to avoid getting too much output:",
   "metadata": {
    "id": "3PYUoRD9Ga_Q",
    "cell_id": "00315-06c44d4b-6e3e-4930-bcb7-0a411523c77d",
    "deepnote_cell_type": "markdown",
    "deepnote_cell_height": 74.78125
   }
  },
  {
   "cell_type": "code",
   "metadata": {
    "id": "vbXaRRZGGa_Q",
    "outputId": "69b9c68d-972a-49cb-af8b-07ff9fc63b3c",
    "cell_id": "00316-78cca5ec-c67b-4edb-bf88-a842e6b87076",
    "deepnote_cell_type": "code",
    "deepnote_cell_height": 102
   },
   "source": "model.fit(X_train_scaled[:64], y_train[:64], epochs=1,\n          validation_data=(X_valid_scaled[:64], y_valid[:64]), verbose=0)\nmodel.evaluate(X_test_scaled[:64], y_test[:64], verbose=0)",
   "execution_count": null,
   "outputs": [
    {
     "name": "stdout",
     "output_type": "stream",
     "text": "Tracing MyModel.call()\nTracing MyDense.call()\nTracing MyDense.call()\nTracing MyDense.call()\nTracing loss my_mse()\nTracing metric my_mae()\nTracing MyModel.call()\nTracing MyDense.call()\nTracing MyDense.call()\nTracing MyDense.call()\nTracing loss my_mse()\nTracing metric my_mae()\nTracing MyModel.call()\nTracing MyDense.call()\nTracing MyDense.call()\nTracing MyDense.call()\nTracing loss my_mse()\nTracing metric my_mae()\nTracing MyModel.call()\nTracing MyDense.call()\nTracing MyDense.call()\nTracing MyDense.call()\nTracing loss my_mse()\nTracing metric my_mae()\nTracing MyModel.call()\nTracing MyDense.call()\nTracing MyDense.call()\nTracing MyDense.call()\nTracing loss my_mse()\nTracing metric my_mae()\nTracing MyModel.call()\nTracing MyDense.call()\nTracing MyDense.call()\nTracing MyDense.call()\nTracing loss my_mse()\nTracing metric my_mae()\n"
    },
    {
     "data": {
      "text/plain": "[5.507260322570801, 2.0566811561584473]"
     },
     "execution_count": 258,
     "metadata": {},
     "output_type": "execute_result"
    }
   ]
  },
  {
   "cell_type": "markdown",
   "source": "Alternatively, you can compile a model with `run_eagerly=True`:",
   "metadata": {
    "id": "tcro9NyWGa_R",
    "cell_id": "00317-409dfffe-5499-4be6-8809-1280733fe436",
    "deepnote_cell_type": "markdown",
    "deepnote_cell_height": 52.390625
   }
  },
  {
   "cell_type": "code",
   "metadata": {
    "id": "fPmtIVZBGa_R",
    "cell_id": "00318-64b71aae-80c0-4b8c-a154-c142abfd9247",
    "deepnote_cell_type": "code",
    "deepnote_cell_height": 97
   },
   "source": "keras.backend.clear_session()\nnp.random.seed(42)\ntf.random.set_seed(42)",
   "execution_count": null,
   "outputs": []
  },
  {
   "cell_type": "code",
   "metadata": {
    "id": "8BMr9rBoGa_S",
    "cell_id": "00319-44fa7e99-8399-431d-94bd-ab0c9e0e04ba",
    "deepnote_cell_type": "code",
    "deepnote_cell_height": 61
   },
   "source": "model = MyModel()",
   "execution_count": null,
   "outputs": []
  },
  {
   "cell_type": "code",
   "metadata": {
    "id": "r0m5kBiFGa_S",
    "cell_id": "00320-7912a218-abb8-4d80-b3ba-95320d7c8ddf",
    "deepnote_cell_type": "code",
    "deepnote_cell_height": 66
   },
   "source": "model.compile(loss=my_mse, optimizer=\"nadam\", metrics=[my_mae], run_eagerly=True)",
   "execution_count": null,
   "outputs": []
  },
  {
   "cell_type": "code",
   "metadata": {
    "id": "sRZcnnG-Ga_T",
    "outputId": "8637e33f-8e71-4b4c-9647-1a82235b6fbb",
    "cell_id": "00321-67377708-a506-499a-a4d7-0bbfca4afdf5",
    "deepnote_cell_type": "code",
    "deepnote_cell_height": 102
   },
   "source": "model.fit(X_train_scaled[:64], y_train[:64], epochs=1,\n          validation_data=(X_valid_scaled[:64], y_valid[:64]), verbose=0)\nmodel.evaluate(X_test_scaled[:64], y_test[:64], verbose=0)",
   "execution_count": null,
   "outputs": [
    {
     "name": "stdout",
     "output_type": "stream",
     "text": "Tracing MyModel.call()\nTracing MyDense.call()\nTracing MyDense.call()\nTracing MyDense.call()\nTracing loss my_mse()\nTracing metric my_mae()\nTracing MyModel.call()\nTracing MyDense.call()\nTracing MyDense.call()\nTracing MyDense.call()\nTracing loss my_mse()\nTracing metric my_mae()\nTracing MyModel.call()\nTracing MyDense.call()\nTracing MyDense.call()\nTracing MyDense.call()\nTracing loss my_mse()\nTracing metric my_mae()\nTracing MyModel.call()\nTracing MyDense.call()\nTracing MyDense.call()\nTracing MyDense.call()\nTracing loss my_mse()\nTracing metric my_mae()\nTracing MyModel.call()\nTracing MyDense.call()\nTracing MyDense.call()\nTracing MyDense.call()\nTracing loss my_mse()\nTracing metric my_mae()\nTracing MyModel.call()\nTracing MyDense.call()\nTracing MyDense.call()\nTracing MyDense.call()\nTracing loss my_mse()\nTracing metric my_mae()\n"
    },
    {
     "data": {
      "text/plain": "[5.507260322570801, 2.0566811561584473]"
     },
     "execution_count": 262,
     "metadata": {},
     "output_type": "execute_result"
    }
   ]
  },
  {
   "cell_type": "markdown",
   "source": "## Custom Optimizers",
   "metadata": {
    "id": "32hraCKwGa_T",
    "cell_id": "00322-3375022d-e9ff-4bbf-b97a-80d66179eb4f",
    "deepnote_cell_type": "markdown",
    "deepnote_cell_height": 56.390625
   }
  },
  {
   "cell_type": "markdown",
   "source": "Defining custom optimizers is not very common, but in case you are one of the happy few who gets to write one, here is an example:",
   "metadata": {
    "id": "KrqPYglYGa_U",
    "cell_id": "00323-b65a37b3-09f5-4627-9509-cc7b214e1e3a",
    "deepnote_cell_type": "markdown",
    "deepnote_cell_height": 74.78125
   }
  },
  {
   "cell_type": "code",
   "metadata": {
    "id": "3xN9prKkGa_U",
    "cell_id": "00324-a47fd10e-1e77-43c1-b027-ac02a2ab3f5c",
    "deepnote_cell_type": "code",
    "deepnote_cell_height": 732
   },
   "source": "class MyMomentumOptimizer(keras.optimizers.Optimizer):\n    def __init__(self, learning_rate=0.001, momentum=0.9, name=\"MyMomentumOptimizer\", **kwargs):\n        \"\"\"Call super().__init__() and use _set_hyper() to store hyperparameters\"\"\"\n        super().__init__(name, **kwargs)\n        self._set_hyper(\"learning_rate\", kwargs.get(\"lr\", learning_rate)) # handle lr=learning_rate\n        self._set_hyper(\"decay\", self._initial_decay) # \n        self._set_hyper(\"momentum\", momentum)\n    \n    def _create_slots(self, var_list):\n        \"\"\"For each model variable, create the optimizer variable associated with it.\n        TensorFlow calls these optimizer variables \"slots\".\n        For momentum optimization, we need one momentum slot per model variable.\n        \"\"\"\n        for var in var_list:\n            self.add_slot(var, \"momentum\")\n\n    @tf.function\n    def _resource_apply_dense(self, grad, var):\n        \"\"\"Update the slots and perform one optimization step for one model variable\n        \"\"\"\n        var_dtype = var.dtype.base_dtype\n        lr_t = self._decayed_lr(var_dtype) # handle learning rate decay\n        momentum_var = self.get_slot(var, \"momentum\")\n        momentum_hyper = self._get_hyper(\"momentum\", var_dtype)\n        momentum_var.assign(momentum_var * momentum_hyper - (1. - momentum_hyper)* grad)\n        var.assign_add(momentum_var * lr_t)\n\n    def _resource_apply_sparse(self, grad, var):\n        raise NotImplementedError\n\n    def get_config(self):\n        base_config = super().get_config()\n        return {\n            **base_config,\n            \"learning_rate\": self._serialize_hyperparameter(\"learning_rate\"),\n            \"decay\": self._serialize_hyperparameter(\"decay\"),\n            \"momentum\": self._serialize_hyperparameter(\"momentum\"),\n        }",
   "execution_count": null,
   "outputs": []
  },
  {
   "cell_type": "code",
   "metadata": {
    "id": "l5WDohNTGa_V",
    "cell_id": "00325-1838fbbf-9301-4982-b126-758e62614f8b",
    "deepnote_cell_type": "code",
    "deepnote_cell_height": 97
   },
   "source": "keras.backend.clear_session()\nnp.random.seed(42)\ntf.random.set_seed(42)",
   "execution_count": null,
   "outputs": []
  },
  {
   "cell_type": "code",
   "metadata": {
    "id": "J_rWGp3DGa_V",
    "outputId": "32d3361f-dadf-4ca4-ee21-dc349a7f73dc",
    "cell_id": "00326-7a5ea521-069a-4409-814e-94717fea271c",
    "deepnote_cell_type": "code",
    "deepnote_cell_height": 102
   },
   "source": "model = keras.models.Sequential([keras.layers.Dense(1, input_shape=[8])])\nmodel.compile(loss=\"mse\", optimizer=MyMomentumOptimizer())\nmodel.fit(X_train_scaled, y_train, epochs=5)",
   "execution_count": null,
   "outputs": [
    {
     "name": "stdout",
     "output_type": "stream",
     "text": "Epoch 1/5\n363/363 [==============================] - 0s 444us/step - loss: 4.9648\nEpoch 2/5\n363/363 [==============================] - 0s 444us/step - loss: 1.7888\nEpoch 3/5\n363/363 [==============================] - 0s 437us/step - loss: 1.0021\nEpoch 4/5\n363/363 [==============================] - 0s 451us/step - loss: 0.7869\nEpoch 5/5\n363/363 [==============================] - 0s 446us/step - loss: 0.7122\n"
    },
    {
     "data": {
      "text/plain": "<tensorflow.python.keras.callbacks.History at 0x7fbfe0a94d50>"
     },
     "execution_count": 265,
     "metadata": {},
     "output_type": "execute_result"
    }
   ]
  },
  {
   "cell_type": "markdown",
   "source": "# Exercises",
   "metadata": {
    "id": "ntiWVS8GGa_W",
    "cell_id": "00327-6d1ee2bc-e617-40de-abb7-084e29af2da6",
    "deepnote_cell_type": "markdown",
    "deepnote_cell_height": 61.1875
   }
  },
  {
   "cell_type": "markdown",
   "source": "## 1. to 11.\nSee Appendix A.",
   "metadata": {
    "id": "BNFzEv0SGa_X",
    "cell_id": "00328-07e60278-0109-49cf-9d95-ec250f014bd0",
    "deepnote_cell_type": "markdown",
    "deepnote_cell_height": 88.78125
   }
  },
  {
   "cell_type": "markdown",
   "source": "1. How would you describe TensorFlow in a short sentence? What are its main features? Can you name other popular Deep Learning libraries?\n",
   "metadata": {
    "cell_id": "76e168de9ebe4bc1ade6bd57043ca6d0",
    "tags": [],
    "deepnote_cell_type": "markdown",
    "deepnote_cell_height": 114.171875
   }
  },
  {
   "cell_type": "markdown",
   "source": "TensorFlow is an open-source library for numerical computation, particularly well suited and fine-tuned for large-scale Machine Learning. Its core is similar to NumPy, but it also features GPU support, support for distributed computing, computation graph analysis and optimization capabilities (with a portable graph format that allows you to train a TensorFlow model in one environment and run it in another), an optimization API based on reverse-mode autodiff, and several powerful APIs such as `tf.keras`, `tf.data`, `tf.image`, `tf.signal`, and more. Other popular Deep Learning libraries include PyTorch, MXNet, Microsoft Cognitive Toolkit, Theano, Caffe2, and Chainer.",
   "metadata": {
    "cell_id": "a4c5690078224f7694ce7d448345c945",
    "tags": [],
    "deepnote_cell_type": "markdown",
    "deepnote_cell_height": 276.296875
   }
  },
  {
   "cell_type": "markdown",
   "source": "2. Is TensorFlow a drop-in replacement for NumPy? What are the main differences between the two?\n",
   "metadata": {
    "cell_id": "e42289bb94ce4e1083839da7c7d0fbf4",
    "tags": [],
    "deepnote_cell_type": "markdown",
    "deepnote_cell_height": 91.78125
   }
  },
  {
   "cell_type": "markdown",
   "source": "Although TensorFlow offers most of the functionalities provided by NumPy, it is not a drop-in replacement, for a few reasons. First, the names of the functions are not always the same (for example, `tf.reduce_sum()` versus `np.sum()`). Second, some functions do not behave in exactly the same way (for example, `tf.transpose()` creates a transposed copy of a tensor, while NumPy’s `T` attribute creates a transposed view, without actually copying any data). Lastly, NumPy arrays are mutable, while TensorFlow tensors are not (but you can use a `tf.Variable` if you need a mutable object).",
   "metadata": {
    "cell_id": "15c5635c0a3d4d8e91715dc17de940a7",
    "tags": [],
    "deepnote_cell_type": "markdown",
    "deepnote_cell_height": 231.515625
   }
  },
  {
   "cell_type": "markdown",
   "source": "3. Do you get the same result with `tf.range(10)` and\n`tf.constant(np.arange(10))`?",
   "metadata": {
    "cell_id": "27c5e40cc69c482db62ab35eebf37d03",
    "tags": [],
    "deepnote_cell_type": "markdown",
    "deepnote_cell_height": 91.78125
   }
  },
  {
   "cell_type": "markdown",
   "source": "Both `tf.range(10)` and `tf.constant(np.arange(10))` return a one-dimensional tensor containing the integers 0 to 9. However, the former uses 32-bit integers while the latter uses 64-bit integers. Indeed, TensorFlow defaults to 32 bits, while NumPy defaults to 64 bits.",
   "metadata": {
    "cell_id": "0d86a329358749808ea4f743d04d2fe8",
    "tags": [],
    "deepnote_cell_type": "markdown",
    "deepnote_cell_height": 141.953125
   }
  },
  {
   "cell_type": "markdown",
   "source": "4. Can you name six other data structures available in TensorFlow, beyond regular tensors?",
   "metadata": {
    "cell_id": "21736a50ef9b4561985b766f5e02d7ac",
    "tags": [],
    "deepnote_cell_type": "markdown",
    "deepnote_cell_height": 91.78125
   }
  },
  {
   "cell_type": "markdown",
   "source": "Beyond regular tensors, TensorFlow offers several other data structures, including sparse tensors, tensor arrays, ragged tensors, queues, string tensors, and sets. The last two are actually represented as regular tensors, but TensorFlow provides special functions to manipulate them (in `tf.strings` and `tf.sets`).",
   "metadata": {
    "cell_id": "600fe83bb73f45ad9957f01e9c23d393",
    "tags": [],
    "deepnote_cell_type": "markdown",
    "deepnote_cell_height": 141.953125
   }
  },
  {
   "cell_type": "markdown",
   "source": "5. A custom loss function can be defined by writing a function or by subclassing the `keras.losses.Loss` class. When would you use each option?",
   "metadata": {
    "cell_id": "b5d324557d7248a6b16e699134fb1ed4",
    "tags": [],
    "deepnote_cell_type": "markdown",
    "deepnote_cell_height": 114.171875
   }
  },
  {
   "cell_type": "markdown",
   "source": "When you want to define a custom loss function, in general you can just implement it as a regular Python function. However, if your custom loss function must support some hyperparameters (or any other state), then you should subclass the `keras.losses.Loss` class and implement the `__init__()` and `call()` methods. If you want the loss function’s hyperparameters to be saved along with the model, then you must also implement the `get_config()` method.",
   "metadata": {
    "cell_id": "e1868ea6b34941d2ab334c490662b297",
    "tags": [],
    "deepnote_cell_type": "markdown",
    "deepnote_cell_height": 186.734375
   }
  },
  {
   "cell_type": "markdown",
   "source": "6. Similarly, a custom metric can be defined in a function or a subclass of `keras.metrics.Metric`. When would you use each option?",
   "metadata": {
    "cell_id": "7b68a670ab62400899d911de24b9d0c8",
    "tags": [],
    "deepnote_cell_type": "markdown",
    "deepnote_cell_height": 114.171875
   }
  },
  {
   "cell_type": "markdown",
   "source": "Much like custom loss functions, most metrics can be defined as regular Python functions. But if you want your custom metric to support some hyperparameters (or any other state), then you should subclass the `keras.metrics.Metric` class. Moreover, if computing the metric over a whole epoch is not equivalent to computing the mean metric over all batches in that epoch (e.g., as for the precision and recall metrics), then you should subclass the `keras.metrics.Metric` class and implement the `__init__()`, `update_state()`, and `result()` methods to keep track of a running metric during each epoch. You should also implement the `reset_states()` method unless all it needs to do is reset all variables to 0.0. If you want the state to be saved along with the\nmodel, then you should implement the `get_config()` method as well.\n",
   "metadata": {
    "cell_id": "552b1d9a6c574f158d2fef5a1ac69f65",
    "tags": [],
    "deepnote_cell_type": "markdown",
    "deepnote_cell_height": 343.46875
   }
  },
  {
   "cell_type": "markdown",
   "source": "7. When should you create a custom layer versus a custom model?",
   "metadata": {
    "cell_id": "9b8dba4016d7431d9410bbc430aa60f7",
    "tags": [],
    "deepnote_cell_type": "markdown",
    "deepnote_cell_height": 69.390625
   }
  },
  {
   "cell_type": "markdown",
   "source": "You should distinguish the internal components of your model (i.e., layers or reusable blocks of layers) from the model itself (i.e., the object you will train). The former should subclass the `keras.layers.Layer` class, while the latter should subclass the `keras.models.Model` class.\n",
   "metadata": {
    "cell_id": "b2973bd3708349de86542b5274ec503d",
    "tags": [],
    "deepnote_cell_type": "markdown",
    "deepnote_cell_height": 141.953125
   }
  },
  {
   "cell_type": "markdown",
   "source": "8. What are some use cases that require writing your own custom training loop?\n",
   "metadata": {
    "cell_id": "76251d165d514dc898f5452d4cddef95",
    "tags": [],
    "deepnote_cell_type": "markdown",
    "deepnote_cell_height": 91.78125
   }
  },
  {
   "cell_type": "markdown",
   "source": "Writing your own custom training loop is fairly advanced, so you should only do it if you really need to. Keras provides several tools to customize training without having to write a custom training loop: callbacks, custom regularizers, custom constraints, custom losses, and so on. You should use these instead of writing a custom training loop whenever possible: writing a custom training loop is more error-prone, and it will be harder to reuse the custom code you write. However, in some cases writing a custom training loop is necessary —for example, if you want to use different optimizers for different parts of your neural network, like in the __Wide & Deep__ paper. A custom training loop can also be useful when debugging, or when trying to understand exactly how training works.\n\n",
   "metadata": {
    "cell_id": "a23da2b39f5f461ca14100a843c2c30d",
    "tags": [],
    "deepnote_cell_type": "markdown",
    "deepnote_cell_height": 298.6875
   }
  },
  {
   "cell_type": "markdown",
   "source": "9. Can custom Keras components contain arbitrary Python code, or must they be convertible to TF Functions?",
   "metadata": {
    "cell_id": "717c67861ad9484bb21c53664bca49e2",
    "tags": [],
    "deepnote_cell_type": "markdown",
    "deepnote_cell_height": 91.78125
   }
  },
  {
   "cell_type": "markdown",
   "source": "Custom Keras components should be convertible to TF Functions, which means they should stick to TF operations as much as possible and respect all the rules listed in “TF Function Rules”. If you absolutely need to include arbitrary Python code in a custom component, you can either wrap it in a `tf.py_function()` operation (but this will reduce performance and limit your model’s portability) or set `dynamic=True` when creating the custom layer or model (or set `run_eagerly=True` when calling the model’s `compile()` method).",
   "metadata": {
    "cell_id": "5b7023268e934fc3945720f64d4cf459",
    "tags": [],
    "deepnote_cell_type": "markdown",
    "deepnote_cell_height": 231.515625
   }
  },
  {
   "cell_type": "markdown",
   "source": "10. What are the main rules to respect if you want a function to be convertible to a TF Function?",
   "metadata": {
    "cell_id": "23956e357d5740e6b4cf9a216dfb6605",
    "tags": [],
    "deepnote_cell_type": "markdown",
    "deepnote_cell_height": 91.78125
   }
  },
  {
   "cell_type": "markdown",
   "source": "Please refer to “TF Function Rules” for the list of rules to respect when creating a TF Function",
   "metadata": {
    "cell_id": "9eec1872c33c4004bcafd2661d84f9d4",
    "tags": [],
    "deepnote_cell_type": "markdown",
    "deepnote_cell_height": 74.78125
   }
  },
  {
   "cell_type": "markdown",
   "source": "11. When would you need to create a dynamic Keras model? How do you do that? Why not make all your models dynamic?",
   "metadata": {
    "cell_id": "7eac42a0a31247b891c5399c60f89d4c",
    "tags": [],
    "deepnote_cell_type": "markdown",
    "deepnote_cell_height": 91.78125
   }
  },
  {
   "cell_type": "markdown",
   "source": "Creating a dynamic Keras model can be useful for debugging, as it will not compile any custom component to a TF Function, and you can use any Python debugger to debug your code. It can also be useful if you want to include arbitrary Python code in your model (or in your training code), including calls to external libraries. To make a model dynamic, you must set `dynamic=True` when creating it. Alternatively, you can set `run_eagerly=True` when calling the model’s `compile()` method. Making a model dynamic prevents Keras from using any of TensorFlow’s graph features, so it will slow down training and inference, and you will not have the possibility to export the computation graph, which\nwill limit your model’s portability\n",
   "metadata": {
    "cell_id": "6a4f6f0ab77f4cb394c8c6e3e217f654",
    "tags": [],
    "deepnote_cell_type": "markdown",
    "deepnote_cell_height": 516.90625
   }
  },
  {
   "cell_type": "markdown",
   "source": "12. Implement a custom layer that performs Layer Normalization (we will use this type of layer in Chapter 15)\n\n    - The `build()` method should define two trainable weights $\\mathbf{\\alpha}$ and $\\mathbf{\\beta}$, both of shape `input_shape[-1:]` and data type `tf.float32`. $\\mathbf{\\alpha}$ should be initialized with 1s, and $\\mathbf{\\beta}$ with 0s.\n    - The `call()` method should compute the mean $\\mu$ and standard deviation $\\sigma$ of each instance’s features. For this, you can use `tf.nn.moments(inputs, axes=-1, keepdims=True)`, which returns the mean $\\mu$ and the variance $\\sigma$ of all instances (compute the square root of the variance to get the standard deviation). Then the function should compute and return $\\mathbf{\\alpha}\\otimes (\\mathbf{X} - \\mu)/(\\sigma + \\epsilon) + \\mathbf{\\beta}$, where $\\otimes$ represents itemwise multiplication (*) and $\\epsilon$ is a smoothing term (small constant to avoid division by zero, e.g., 0.001).\n    - Ensure that your custom layer produces the same (or very nearly the same) output as the `keras.layers.LayerNormalization` layer.\n\n",
   "metadata": {
    "cell_id": "6c421e7cc2af4d0f92ecb6c05d90fba1",
    "tags": [],
    "deepnote_cell_type": "markdown",
    "deepnote_cell_height": 447.640625
   }
  },
  {
   "cell_type": "markdown",
   "source": "13. Train a model using a custom training loop to tackle the Fashion MNIST dataset (see Chapter 10).\n    - Display the epoch, iteration, mean training loss, and mean accuracy over each epoch (updated at each iteration), as well as the validation loss and accuracy at the end of each epoch.\n    - Try using a different optimizer with a different learning rate for the upper layers and the lower layers.\n",
   "metadata": {
    "cell_id": "db149c6d6cdc4a4ca2a8e456f25167b8",
    "tags": [],
    "deepnote_cell_type": "markdown",
    "deepnote_cell_height": 209.734375
   }
  },
  {
   "cell_type": "markdown",
   "source": "## 12. Implement a custom layer that performs _Layer Normalization_\n_We will use this type of layer in Chapter 15 when using Recurrent Neural Networks._",
   "metadata": {
    "id": "qD1rbBMvGa_X",
    "cell_id": "00329-eb8f1c4b-f853-46e4-93f0-84930e37d746",
    "deepnote_cell_type": "markdown",
    "deepnote_cell_height": 137.5625
   }
  },
  {
   "cell_type": "markdown",
   "source": "### a.\n_Exercise: The `build()` method should define two trainable weights *α* and *β*, both of shape `input_shape[-1:]` and data type `tf.float32`. *α* should be initialized with 1s, and *β* with 0s._",
   "metadata": {
    "id": "XKkYrff6Ga_Y",
    "cell_id": "00330-5dd389af-3645-4e23-a5b3-7f29177fa0e4",
    "deepnote_cell_type": "markdown",
    "deepnote_cell_height": 131.171875
   }
  },
  {
   "cell_type": "markdown",
   "source": "Solution: see below.",
   "metadata": {
    "id": "c4RubEIgGa_Y",
    "cell_id": "00331-9cd44735-081c-4475-b70d-9b7b7584b81c",
    "deepnote_cell_type": "markdown",
    "deepnote_cell_height": 52.390625
   }
  },
  {
   "cell_type": "markdown",
   "source": "### b.\n_Exercise: The `call()` method should compute the mean_ μ _and standard deviation_ σ _of each instance's features. For this, you can use `tf.nn.moments(inputs, axes=-1, keepdims=True)`, which returns the mean μ and the variance σ<sup>2</sup> of all instances (compute the square root of the variance to get the standard deviation). Then the function should compute and return *α*⊗(*X* - μ)/(σ + ε) + *β*, where ⊗ represents itemwise multiplication (`*`) and ε is a smoothing term (small constant to avoid division by zero, e.g., 0.001)._",
   "metadata": {
    "id": "JxeB4ib6Ga_Z",
    "cell_id": "00332-91f30023-7ddc-41b8-b3d9-cc76122b01ca",
    "deepnote_cell_type": "markdown",
    "deepnote_cell_height": 265.515625
   }
  },
  {
   "cell_type": "code",
   "metadata": {
    "id": "tlRmEn7rGa_Z",
    "cell_id": "00333-6c38189b-daef-4d87-b548-3fe3efd4c14c",
    "deepnote_cell_type": "code",
    "deepnote_cell_height": 480
   },
   "source": "class LayerNormalization(keras.layers.Layer):\n    def __init__(self, eps=0.001, **kwargs):\n        super().__init__(**kwargs)\n        self.eps = eps\n\n    def build(self, batch_input_shape):\n        self.alpha = self.add_weight(\n            name=\"alpha\", shape=batch_input_shape[-1:],\n            initializer=\"ones\")\n        self.beta = self.add_weight(\n            name=\"beta\", shape=batch_input_shape[-1:],\n            initializer=\"zeros\")\n        super().build(batch_input_shape) # must be at the end\n\n    def call(self, X):\n        mean, variance = tf.nn.moments(X, axes=-1, keepdims=True)\n        return self.alpha * (X - mean) / (tf.sqrt(variance + self.eps)) + self.beta\n\n    def compute_output_shape(self, batch_input_shape):\n        return batch_input_shape\n\n    def get_config(self):\n        base_config = super().get_config()\n        return {**base_config, \"eps\": self.eps}",
   "execution_count": null,
   "outputs": []
  },
  {
   "cell_type": "markdown",
   "source": "Note that making _ε_ a hyperparameter (`eps`) was not compulsory. Also note that it's preferable to compute `tf.sqrt(variance + self.eps)` rather than `tf.sqrt(variance) + self.eps`. Indeed, the derivative of sqrt(z) is undefined when z=0, so training will bomb whenever the variance vector has at least one component equal to 0. Adding _ε_ within the square root guarantees that this will never happen.",
   "metadata": {
    "id": "AYOZiuOkGa_a",
    "cell_id": "00334-ba54b63f-51f9-4cd8-8662-018f19f53762",
    "deepnote_cell_type": "markdown",
    "deepnote_cell_height": 186.734375
   }
  },
  {
   "cell_type": "markdown",
   "source": "### c.\n_Exercise: Ensure that your custom layer produces the same (or very nearly the same) output as the `keras.layers.LayerNormalization` layer._",
   "metadata": {
    "id": "F9bvTWeJGa_a",
    "cell_id": "00335-cc3dc8fd-6a42-49af-b14e-ee6aab635d9c",
    "deepnote_cell_type": "markdown",
    "deepnote_cell_height": 131.171875
   }
  },
  {
   "cell_type": "markdown",
   "source": "Let's create one instance of each class, apply them to some data (e.g., the training set), and ensure that the difference is negligeable.",
   "metadata": {
    "id": "ERT4bhsqGa_b",
    "cell_id": "00336-55910ae3-af63-4cab-ab0d-6abfdd86c157",
    "deepnote_cell_type": "markdown",
    "deepnote_cell_height": 74.78125
   }
  },
  {
   "cell_type": "code",
   "metadata": {
    "id": "zBeOO3VSGa_c",
    "outputId": "80eec160-b078-4bdc-9e93-43ca476e43ea",
    "cell_id": "00337-fbb5617e-d4fa-4d7a-b4dd-2447e40c5810",
    "deepnote_cell_type": "code",
    "deepnote_cell_height": 169
   },
   "source": "X = X_train.astype(np.float32)\n\ncustom_layer_norm = LayerNormalization()\nkeras_layer_norm = keras.layers.LayerNormalization()\n\ntf.reduce_mean(keras.losses.mean_absolute_error(\n    keras_layer_norm(X), custom_layer_norm(X)))",
   "execution_count": null,
   "outputs": [
    {
     "data": {
      "text/plain": "<tf.Tensor: shape=(), dtype=float32, numpy=5.6045884e-08>"
     },
     "execution_count": 267,
     "metadata": {},
     "output_type": "execute_result"
    }
   ]
  },
  {
   "cell_type": "markdown",
   "source": "Yep, that's close enough. To be extra sure, let's make alpha and beta completely random and compare again:",
   "metadata": {
    "id": "8HEsqDFTGa_c",
    "cell_id": "00338-c344464b-3fa4-45f3-96aa-2a87387a1c4f",
    "deepnote_cell_type": "markdown",
    "deepnote_cell_height": 74.78125
   }
  },
  {
   "cell_type": "code",
   "metadata": {
    "id": "8wW_Sey3Ga_d",
    "outputId": "e0fd52c9-6136-4ef1-de1e-b0b0dcc7ea38",
    "cell_id": "00339-6e48d793-378d-4cb9-bc71-46b8f8ae9ed9",
    "deepnote_cell_type": "code",
    "deepnote_cell_height": 192
   },
   "source": "random_alpha = np.random.rand(X.shape[-1])\nrandom_beta = np.random.rand(X.shape[-1])\n\ncustom_layer_norm.set_weights([random_alpha, random_beta])\nkeras_layer_norm.set_weights([random_alpha, random_beta])\n\ntf.reduce_mean(keras.losses.mean_absolute_error(\n    keras_layer_norm(X), custom_layer_norm(X)))",
   "execution_count": null,
   "outputs": [
    {
     "data": {
      "text/plain": "<tf.Tensor: shape=(), dtype=float32, numpy=2.2921004e-08>"
     },
     "execution_count": 268,
     "metadata": {},
     "output_type": "execute_result"
    }
   ]
  },
  {
   "cell_type": "markdown",
   "source": "Still a negligeable difference! Our custom layer works fine.",
   "metadata": {
    "id": "5ekcnLnXGa_e",
    "cell_id": "00340-39865748-ac19-40fa-bbef-6b91d305a4c3",
    "deepnote_cell_type": "markdown",
    "deepnote_cell_height": 52.390625
   }
  },
  {
   "cell_type": "markdown",
   "source": "## 13. Train a model using a custom training loop to tackle the Fashion MNIST dataset\n_The Fashion MNIST dataset was introduced in Chapter 10._",
   "metadata": {
    "id": "OIPrVY-gGa_e",
    "cell_id": "00341-b16b4b65-c613-42f2-b545-de4093ea6cb6",
    "deepnote_cell_type": "markdown",
    "deepnote_cell_height": 115.171875
   }
  },
  {
   "cell_type": "markdown",
   "source": "### a.\n_Exercise: Display the epoch, iteration, mean training loss, and mean accuracy over each epoch (updated at each iteration), as well as the validation loss and accuracy at the end of each epoch._",
   "metadata": {
    "id": "y-Bb20iNGa_f",
    "cell_id": "00342-3fa1baef-0717-4281-99f0-035fe98693bb",
    "deepnote_cell_type": "markdown",
    "deepnote_cell_height": 131.171875
   }
  },
  {
   "cell_type": "code",
   "metadata": {
    "id": "P7M7xMNdGa_f",
    "cell_id": "00343-69dc5a0c-2b3d-4e59-b970-d2bd7e433c17",
    "deepnote_cell_type": "code",
    "deepnote_cell_height": 138
   },
   "source": "(X_train_full, y_train_full), (X_test, y_test) = keras.datasets.fashion_mnist.load_data()\nX_train_full = X_train_full.astype(np.float32) / 255.\nX_valid, X_train = X_train_full[:5000], X_train_full[5000:]\ny_valid, y_train = y_train_full[:5000], y_train_full[5000:]\nX_test = X_test.astype(np.float32) / 255.",
   "execution_count": null,
   "outputs": []
  },
  {
   "cell_type": "code",
   "metadata": {
    "id": "aYu_aLufGa_g",
    "cell_id": "00344-a80d5278-4604-4e49-918e-ba45546d81c4",
    "deepnote_cell_type": "code",
    "deepnote_cell_height": 97
   },
   "source": "keras.backend.clear_session()\nnp.random.seed(42)\ntf.random.set_seed(42)",
   "execution_count": null,
   "outputs": []
  },
  {
   "cell_type": "code",
   "metadata": {
    "id": "2QD5M7-LGa_g",
    "cell_id": "00345-15bfab33-6a2e-42a1-af0a-b375f0908bdb",
    "deepnote_cell_type": "code",
    "deepnote_cell_height": 133
   },
   "source": "model = keras.models.Sequential([\n    keras.layers.Flatten(input_shape=[28, 28]),\n    keras.layers.Dense(100, activation=\"relu\"),\n    keras.layers.Dense(10, activation=\"softmax\"),\n])",
   "execution_count": null,
   "outputs": []
  },
  {
   "cell_type": "code",
   "metadata": {
    "id": "ZztJY-_3Ga_h",
    "cell_id": "00346-c9864db1-b29f-498e-9740-6621cd70c418",
    "deepnote_cell_type": "code",
    "deepnote_cell_height": 174
   },
   "source": "n_epochs = 5\nbatch_size = 32\nn_steps = len(X_train) // batch_size\noptimizer = keras.optimizers.Nadam(learning_rate=0.01)\nloss_fn = keras.losses.sparse_categorical_crossentropy\nmean_loss = keras.metrics.Mean()\nmetrics = [keras.metrics.SparseCategoricalAccuracy()]",
   "execution_count": null,
   "outputs": []
  },
  {
   "cell_type": "code",
   "metadata": {
    "id": "qQ96hFe2Ga_h",
    "outputId": "71e6190b-1b5c-4118-e5d2-44d09fcdb366",
    "cell_id": "00347-5bfc0957-e774-4f78-83a3-1dc6538af943",
    "deepnote_cell_type": "code",
    "deepnote_cell_height": 570
   },
   "source": "with trange(1, n_epochs + 1, desc=\"All epochs\") as epochs:\n    for epoch in epochs:\n        with trange(1, n_steps + 1, desc=\"Epoch {}/{}\".format(epoch, n_epochs)) as steps:\n            for step in steps:\n                X_batch, y_batch = random_batch(X_train, y_train)\n                with tf.GradientTape() as tape:\n                    y_pred = model(X_batch)\n                    main_loss = tf.reduce_mean(loss_fn(y_batch, y_pred))\n                    loss = tf.add_n([main_loss] + model.losses)\n                gradients = tape.gradient(loss, model.trainable_variables)\n                optimizer.apply_gradients(zip(gradients, model.trainable_variables))\n                for variable in model.variables:\n                    if variable.constraint is not None:\n                        variable.assign(variable.constraint(variable))                    \n                status = OrderedDict()\n                mean_loss(loss)\n                status[\"loss\"] = mean_loss.result().numpy()\n                for metric in metrics:\n                    metric(y_batch, y_pred)\n                    status[metric.name] = metric.result().numpy()\n                steps.set_postfix(status)\n            y_pred = model(X_valid)\n            status[\"val_loss\"] = np.mean(loss_fn(y_valid, y_pred))\n            status[\"val_accuracy\"] = np.mean(keras.metrics.sparse_categorical_accuracy(\n                tf.constant(y_valid, dtype=np.float32), y_pred))\n            steps.set_postfix(status)\n        for metric in [mean_loss] + metrics:\n            metric.reset_states()\n",
   "execution_count": null,
   "outputs": [
    {
     "data": {
      "application/vnd.jupyter.widget-view+json": {
       "model_id": "901e5649b50840538874aed5bab0d4ed",
       "version_major": 2,
       "version_minor": 0
      },
      "text/plain": "All epochs:   0%|          | 0/5 [00:00<?, ?it/s]"
     },
     "metadata": {},
     "output_type": "display_data"
    },
    {
     "data": {
      "application/vnd.jupyter.widget-view+json": {
       "model_id": "2f29690a5ade4bd8a6d164d106ba2d31",
       "version_major": 2,
       "version_minor": 0
      },
      "text/plain": "Epoch 1/5:   0%|          | 0/1718 [00:00<?, ?it/s]"
     },
     "metadata": {},
     "output_type": "display_data"
    },
    {
     "data": {
      "application/vnd.jupyter.widget-view+json": {
       "model_id": "c2ea6579132c48c087c7f59e6309387a",
       "version_major": 2,
       "version_minor": 0
      },
      "text/plain": "Epoch 2/5:   0%|          | 0/1718 [00:00<?, ?it/s]"
     },
     "metadata": {},
     "output_type": "display_data"
    },
    {
     "data": {
      "application/vnd.jupyter.widget-view+json": {
       "model_id": "94fa1527062c4cf7a277a548bbddc855",
       "version_major": 2,
       "version_minor": 0
      },
      "text/plain": "Epoch 3/5:   0%|          | 0/1718 [00:00<?, ?it/s]"
     },
     "metadata": {},
     "output_type": "display_data"
    },
    {
     "data": {
      "application/vnd.jupyter.widget-view+json": {
       "model_id": "dbcfc9a0c4b64151a18cf27080872dd3",
       "version_major": 2,
       "version_minor": 0
      },
      "text/plain": "Epoch 4/5:   0%|          | 0/1718 [00:00<?, ?it/s]"
     },
     "metadata": {},
     "output_type": "display_data"
    },
    {
     "data": {
      "application/vnd.jupyter.widget-view+json": {
       "model_id": "fc3831d9b98e488c837ba9644bf4b94a",
       "version_major": 2,
       "version_minor": 0
      },
      "text/plain": "Epoch 5/5:   0%|          | 0/1718 [00:00<?, ?it/s]"
     },
     "metadata": {},
     "output_type": "display_data"
    }
   ]
  },
  {
   "cell_type": "markdown",
   "source": "### b.\n_Exercise: Try using a different optimizer with a different learning rate for the upper layers and the lower layers._",
   "metadata": {
    "id": "ej_gAgCnGa_i",
    "cell_id": "00348-fa88c91c-3b75-4770-ac4c-2aa10e533762",
    "deepnote_cell_type": "markdown",
    "deepnote_cell_height": 108.78125
   }
  },
  {
   "cell_type": "code",
   "metadata": {
    "id": "YDnoOtAgGa_i",
    "cell_id": "00349-7daa8609-2d7d-41eb-9582-191811976090",
    "deepnote_cell_type": "code",
    "deepnote_cell_height": 97
   },
   "source": "keras.backend.clear_session()\nnp.random.seed(42)\ntf.random.set_seed(42)",
   "execution_count": null,
   "outputs": []
  },
  {
   "cell_type": "code",
   "metadata": {
    "id": "J-6iYgN6Ga_j",
    "cell_id": "00350-0a5b2f65-4db1-418f-bd5e-1319a322ee08",
    "deepnote_cell_type": "code",
    "deepnote_cell_height": 223
   },
   "source": "lower_layers = keras.models.Sequential([\n    keras.layers.Flatten(input_shape=[28, 28]),\n    keras.layers.Dense(100, activation=\"relu\"),\n])\nupper_layers = keras.models.Sequential([\n    keras.layers.Dense(10, activation=\"softmax\"),\n])\nmodel = keras.models.Sequential([\n    lower_layers, upper_layers\n])",
   "execution_count": null,
   "outputs": []
  },
  {
   "cell_type": "code",
   "metadata": {
    "id": "uD_vt6TnGa_j",
    "cell_id": "00351-fea24f82-5d3b-4baf-a7db-6e874813fe8d",
    "deepnote_cell_type": "code",
    "deepnote_cell_height": 84
   },
   "source": "lower_optimizer = keras.optimizers.SGD(learning_rate=1e-4)\nupper_optimizer = keras.optimizers.Nadam(learning_rate=1e-3)",
   "execution_count": null,
   "outputs": []
  },
  {
   "cell_type": "code",
   "metadata": {
    "id": "TXtRaQLuGa_k",
    "cell_id": "00352-23ac0ef0-e8b2-42e5-836f-297c987ba38f",
    "deepnote_cell_type": "code",
    "deepnote_cell_height": 156
   },
   "source": "n_epochs = 5\nbatch_size = 32\nn_steps = len(X_train) // batch_size\nloss_fn = keras.losses.sparse_categorical_crossentropy\nmean_loss = keras.metrics.Mean()\nmetrics = [keras.metrics.SparseCategoricalAccuracy()]",
   "execution_count": null,
   "outputs": []
  },
  {
   "cell_type": "code",
   "metadata": {
    "id": "ZgbzFofBGa_k",
    "outputId": "241e6f9f-45b0-4fe3-8120-2d08094e3d99",
    "cell_id": "00353-b5f4c0c2-39ba-4f9c-a437-643b03897067",
    "deepnote_cell_type": "code",
    "deepnote_cell_height": 606
   },
   "source": "with trange(1, n_epochs + 1, desc=\"All epochs\") as epochs:\n    for epoch in epochs:\n        with trange(1, n_steps + 1, desc=\"Epoch {}/{}\".format(epoch, n_epochs)) as steps:\n            for step in steps:\n                X_batch, y_batch = random_batch(X_train, y_train)\n                with tf.GradientTape(persistent=True) as tape:\n                    y_pred = model(X_batch)\n                    main_loss = tf.reduce_mean(loss_fn(y_batch, y_pred))\n                    loss = tf.add_n([main_loss] + model.losses)\n                for layers, optimizer in ((lower_layers, lower_optimizer),\n                                          (upper_layers, upper_optimizer)):\n                    gradients = tape.gradient(loss, layers.trainable_variables)\n                    optimizer.apply_gradients(zip(gradients, layers.trainable_variables))\n                del tape\n                for variable in model.variables:\n                    if variable.constraint is not None:\n                        variable.assign(variable.constraint(variable))                    \n                status = OrderedDict()\n                mean_loss(loss)\n                status[\"loss\"] = mean_loss.result().numpy()\n                for metric in metrics:\n                    metric(y_batch, y_pred)\n                    status[metric.name] = metric.result().numpy()\n                steps.set_postfix(status)\n            y_pred = model(X_valid)\n            status[\"val_loss\"] = np.mean(loss_fn(y_valid, y_pred))\n            status[\"val_accuracy\"] = np.mean(keras.metrics.sparse_categorical_accuracy(\n                tf.constant(y_valid, dtype=np.float32), y_pred))\n            steps.set_postfix(status)\n        for metric in [mean_loss] + metrics:\n            metric.reset_states()",
   "execution_count": null,
   "outputs": [
    {
     "data": {
      "application/vnd.jupyter.widget-view+json": {
       "model_id": "7e81cf85cf7548748ec760afcbd71aa2",
       "version_major": 2,
       "version_minor": 0
      },
      "text/plain": "All epochs:   0%|          | 0/5 [00:00<?, ?it/s]"
     },
     "metadata": {},
     "output_type": "display_data"
    },
    {
     "data": {
      "application/vnd.jupyter.widget-view+json": {
       "model_id": "475109b927d044a7bba030f234c67838",
       "version_major": 2,
       "version_minor": 0
      },
      "text/plain": "Epoch 1/5:   0%|          | 0/1718 [00:00<?, ?it/s]"
     },
     "metadata": {},
     "output_type": "display_data"
    },
    {
     "data": {
      "application/vnd.jupyter.widget-view+json": {
       "model_id": "af0a22afae4f47359f8fdfbac96e38bb",
       "version_major": 2,
       "version_minor": 0
      },
      "text/plain": "Epoch 2/5:   0%|          | 0/1718 [00:00<?, ?it/s]"
     },
     "metadata": {},
     "output_type": "display_data"
    },
    {
     "data": {
      "application/vnd.jupyter.widget-view+json": {
       "model_id": "5519ec96e42f4281987a84a5434a0734",
       "version_major": 2,
       "version_minor": 0
      },
      "text/plain": "Epoch 3/5:   0%|          | 0/1718 [00:00<?, ?it/s]"
     },
     "metadata": {},
     "output_type": "display_data"
    },
    {
     "data": {
      "application/vnd.jupyter.widget-view+json": {
       "model_id": "ed04f31b3a7d4b3b9a0cd63b644e2ed5",
       "version_major": 2,
       "version_minor": 0
      },
      "text/plain": "Epoch 4/5:   0%|          | 0/1718 [00:00<?, ?it/s]"
     },
     "metadata": {},
     "output_type": "display_data"
    },
    {
     "data": {
      "application/vnd.jupyter.widget-view+json": {
       "model_id": "bfc4b1b4d40f4003ab8a3140a68ec883",
       "version_major": 2,
       "version_minor": 0
      },
      "text/plain": "Epoch 5/5:   0%|          | 0/1718 [00:00<?, ?it/s]"
     },
     "metadata": {},
     "output_type": "display_data"
    }
   ]
  },
  {
   "cell_type": "code",
   "metadata": {
    "id": "6ybYvvsrGa_m",
    "cell_id": "00354-f4088b54-43c9-4447-937d-a0c8cbd7f032",
    "deepnote_cell_type": "code",
    "deepnote_cell_height": 61
   },
   "source": "",
   "execution_count": null,
   "outputs": []
  },
  {
   "cell_type": "markdown",
   "source": "<a style='text-decoration:none;line-height:16px;display:flex;color:#5B5B62;padding:10px;justify-content:end;' href='https://deepnote.com?utm_source=created-in-deepnote-cell&projectId=8b8747e0-d5e2-4759-af6a-42b7fe569db7' target=\"_blank\">\n<img alt='Created in deepnote.com' style='display:inline;max-height:16px;margin:0px;margin-right:7.5px;' src='data:image/svg+xml;base64,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' > </img>\nCreated in <span style='font-weight:600;margin-left:4px;'>Deepnote</span></a>",
   "metadata": {
    "tags": [],
    "created_in_deepnote_cell": true,
    "deepnote_cell_type": "markdown"
   }
  }
 ],
 "nbformat": 4,
 "nbformat_minor": 0,
 "metadata": {
  "kernelspec": {
   "display_name": "Python 3",
   "language": "python",
   "name": "python3"
  },
  "language_info": {
   "codemirror_mode": {
    "name": "ipython",
    "version": 3
   },
   "file_extension": ".py",
   "mimetype": "text/x-python",
   "name": "python",
   "nbconvert_exporter": "python",
   "pygments_lexer": "ipython3",
   "version": "3.7.10"
  },
  "colab": {
   "name": "12_custom_models_and_training_with_tensorflow.ipynb",
   "provenance": []
  },
  "deepnote_notebook_id": "95fdc6b6-6aa3-4e90-a037-19df72877450",
  "deepnote": {},
  "deepnote_execution_queue": []
 }
}