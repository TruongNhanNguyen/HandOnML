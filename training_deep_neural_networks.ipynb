{
 "cells": [
  {
   "cell_type": "markdown",
   "source": "# Setup\n\nFirst, let's import a few common modules, ensure MatplotLib plots figures inline and prepare a function to save the figures. We also check that Python 3.5 or later is installed (although Python 2.x may work, it is deprecated so we strongly recommend you use Python 3 instead), as well as Scikit-Learn >= 0.20 and TensorFlow >= 2.0.",
   "metadata": {
    "cell_id": "00004-7875112a-b4e8-4a02-9818-e3cf9eabf23b",
    "deepnote_cell_type": "markdown",
    "deepnote_cell_height": 165.171875
   }
  },
  {
   "cell_type": "code",
   "metadata": {
    "cell_id": "00005-2446b0e4-56c5-4b42-aaef-6b3f801dbe78",
    "deepnote_to_be_reexecuted": false,
    "source_hash": "d25857d2",
    "execution_start": 1659354408513,
    "execution_millis": 5084,
    "deepnote_cell_type": "code",
    "deepnote_cell_height": 922
   },
   "source": "# Python >= 3.5 is required\nimport sys\nassert sys.version_info >= (3, 5)\n\n# Scikit-Learn >= 0.20 is required\nimport sklearn\nassert sklearn.__version__ >= \"0.20\"\n\ntry:\n    # %tensorflow_version only exists in Colab.\n    %tensorflow_version 2.x\nexcept Exception:\n    pass\n\n# TensorFlow ≥2.0 is required\nimport tensorflow as tf\nfrom tensorflow import keras\nassert tf.__version__ >= \"2.0\"\n\n%load_ext tensorboard\n\n# Common imports\nimport numpy as np\nimport os\n\n# to make this notebook's output stable across runs\nnp.random.seed(42)\n\n# To plot pretty figures\n%matplotlib inline\nimport matplotlib as mpl\nimport matplotlib.pyplot as plt\nmpl.rc('axes', labelsize=14)\nmpl.rc('xtick', labelsize=12)\nmpl.rc('ytick', labelsize=12)\n\n# Where to save the figures\nPROJECT_ROOT_DIR = \".\"\nCHAPTER_ID = \"deep\"\nIMAGES_PATH = os.path.join(PROJECT_ROOT_DIR, \"images\", CHAPTER_ID)\nos.makedirs(IMAGES_PATH, exist_ok=True)\n\ndef save_fig(fig_id, tight_layout=True, fig_extension=\"png\", resolution=300):\n    path = os.path.join(IMAGES_PATH, fig_id + \".\" + fig_extension)\n    print(\"Saving figure\", fig_id)\n    if tight_layout:\n        plt.tight_layout()\n    plt.savefig(path, format=fig_extension, dpi=resolution)",
   "execution_count": null,
   "outputs": []
  },
  {
   "cell_type": "markdown",
   "source": "# Vanishing/Exploding Gradients Problem",
   "metadata": {
    "cell_id": "00006-49025a73-dac7-4b25-83c2-2c6dc3b69520",
    "deepnote_cell_type": "markdown",
    "deepnote_cell_height": 82
   }
  },
  {
   "cell_type": "code",
   "source": "def logit(z):\n    return 1 / (1 + np.exp(-z))",
   "metadata": {
    "cell_id": "00007-7aebea08-667d-421d-bf80-73a1d1df6a7d",
    "deepnote_to_be_reexecuted": false,
    "source_hash": "7b88bd2a",
    "execution_start": 1659354413601,
    "execution_millis": 3,
    "deepnote_cell_type": "code",
    "deepnote_cell_height": 94
   },
   "execution_count": null,
   "outputs": []
  },
  {
   "cell_type": "code",
   "metadata": {
    "cell_id": "00008-47799d1b-c6d9-44ca-adb3-6bf317f226d8",
    "deepnote_to_be_reexecuted": false,
    "source_hash": "3471c462",
    "execution_start": 1659354413614,
    "execution_millis": 738,
    "deepnote_cell_type": "code",
    "deepnote_cell_height": 708.1875,
    "deepnote_output_heights": [
     null,
     282
    ]
   },
   "source": "z = np.linspace(-5, 5, 200)\n\nplt.plot([-5, 5], [0, 0], 'k-')\nplt.plot([-5, 5], [1, 1], 'k--')\nplt.plot([0, 0], [-0.2, 1.2], 'k-')\nplt.plot([-5, 5], [-3/4, 7/4], 'g--')\nplt.plot(z, logit(z), \"b-\", linewidth=2)\nprops = dict(facecolor='black', shrink=0.1)\nplt.annotate('Saturating', xytext=(3.5, 0.7), xy=(5, 1), arrowprops=props, fontsize=14, ha=\"center\")\nplt.annotate('Saturating', xytext=(-3.5, 0.3), xy=(-5, 0), arrowprops=props, fontsize=14, ha=\"center\")\nplt.annotate('Linear', xytext=(2, 0.2), xy=(0, 0.5), arrowprops=props, fontsize=14, ha=\"center\")\nplt.grid(True)\nplt.title(\"Sigmoid activation function\", fontsize=14)\nplt.axis([-5, 5, -0.2, 1.2])\n\nsave_fig(\"sigmoid_saturation_plot\")\nplt.show()",
   "execution_count": null,
   "outputs": [
    {
     "name": "stdout",
     "text": "Saving figure sigmoid_saturation_plot\n",
     "output_type": "stream"
    },
    {
     "data": {
      "text/plain": "<Figure size 432x288 with 1 Axes>",
      "image/png": "[encoded data removed]"
     },
     "metadata": {
      "needs_background": "light",
      "image/png": {
       "width": 424,
       "height": 280
      }
     },
     "output_type": "display_data"
    }
   ]
  },
  {
   "cell_type": "markdown",
   "source": "## Xavier and He Initialization",
   "metadata": {
    "cell_id": "00009-3f8a9e1f-21cd-47e6-9c40-5ce75ed88c8d",
    "deepnote_cell_type": "markdown",
    "deepnote_cell_height": 70
   }
  },
  {
   "cell_type": "code",
   "metadata": {
    "cell_id": "00010-94c04dde-6524-495e-9629-52c29a7c0055",
    "deepnote_to_be_reexecuted": false,
    "source_hash": "d7d7407",
    "execution_start": 1659354414334,
    "execution_millis": 18,
    "deepnote_cell_type": "code",
    "deepnote_cell_height": 703,
    "deepnote_output_heights": [
     611
    ]
   },
   "source": "[name for name in dir(keras.initializers) if not name.startswith(\"_\")]",
   "execution_count": null,
   "outputs": [
    {
     "output_type": "execute_result",
     "execution_count": 4,
     "data": {
      "text/plain": "['Constant',\n 'GlorotNormal',\n 'GlorotUniform',\n 'HeNormal',\n 'HeUniform',\n 'Identity',\n 'Initializer',\n 'LecunNormal',\n 'LecunUniform',\n 'Ones',\n 'Orthogonal',\n 'RandomNormal',\n 'RandomUniform',\n 'TruncatedNormal',\n 'VarianceScaling',\n 'Zeros',\n 'constant',\n 'deserialize',\n 'get',\n 'glorot_normal',\n 'glorot_uniform',\n 'he_normal',\n 'he_uniform',\n 'identity',\n 'lecun_normal',\n 'lecun_uniform',\n 'ones',\n 'orthogonal',\n 'random_normal',\n 'random_uniform',\n 'serialize',\n 'truncated_normal',\n 'variance_scaling',\n 'zeros']"
     },
     "metadata": {}
    }
   ]
  },
  {
   "cell_type": "code",
   "metadata": {
    "cell_id": "00011-c8a4bca6-84cb-4837-982d-617cbcea8bdd",
    "deepnote_to_be_reexecuted": false,
    "source_hash": "3fa1e2cb",
    "execution_start": 1659354414343,
    "execution_millis": 12,
    "deepnote_cell_type": "code",
    "deepnote_cell_height": 113.1875,
    "deepnote_output_heights": [
     21.1875
    ]
   },
   "source": "keras.layers.Dense(10, activation=\"relu\", kernel_initializer=\"he_normal\")",
   "execution_count": null,
   "outputs": [
    {
     "output_type": "execute_result",
     "execution_count": 5,
     "data": {
      "text/plain": "<keras.layers.core.dense.Dense at 0x7f95629b3d00>"
     },
     "metadata": {}
    }
   ]
  },
  {
   "cell_type": "code",
   "metadata": {
    "cell_id": "00012-62b666bd-e358-4177-bf40-6050a772aeac",
    "deepnote_to_be_reexecuted": false,
    "source_hash": "113986d0",
    "execution_start": 1659354414360,
    "execution_millis": 42,
    "deepnote_cell_type": "code",
    "deepnote_cell_height": 149.1875,
    "deepnote_output_heights": [
     21.1875
    ]
   },
   "source": "init = keras.initializers.VarianceScaling(scale=2., mode='fan_avg',\n                                          distribution='uniform')\nkeras.layers.Dense(10, activation=\"relu\", kernel_initializer=init)",
   "execution_count": null,
   "outputs": [
    {
     "output_type": "execute_result",
     "execution_count": 6,
     "data": {
      "text/plain": "<keras.layers.core.dense.Dense at 0x7f95629c1670>"
     },
     "metadata": {}
    }
   ]
  },
  {
   "cell_type": "markdown",
   "source": "## Nonsaturating Activation Functions",
   "metadata": {
    "cell_id": "00013-9d3b79c6-c6a6-45d5-becb-3cabee3f4e1d",
    "deepnote_cell_type": "markdown",
    "deepnote_cell_height": 70
   }
  },
  {
   "cell_type": "markdown",
   "source": "### Leaky ReLU",
   "metadata": {
    "cell_id": "00014-bff487f8-4ffa-445e-8c34-baf77b5cae20",
    "deepnote_cell_type": "markdown",
    "deepnote_cell_height": 62
   }
  },
  {
   "cell_type": "code",
   "metadata": {
    "cell_id": "00015-b8c491f2-660a-4ca6-9d88-440983596b76",
    "deepnote_to_be_reexecuted": false,
    "source_hash": "ecf9a150",
    "execution_start": 1659354414400,
    "execution_millis": 0,
    "deepnote_cell_type": "code",
    "deepnote_cell_height": 94
   },
   "source": "def leaky_relu(z, alpha=0.01):\n    return np.maximum(alpha*z, z)",
   "execution_count": null,
   "outputs": []
  },
  {
   "cell_type": "code",
   "metadata": {
    "cell_id": "00016-19ed541e-1b50-4eb9-91e5-9509b68acd0a",
    "deepnote_to_be_reexecuted": false,
    "source_hash": "67e6cbd6",
    "execution_start": 1659354414401,
    "execution_millis": 537,
    "deepnote_cell_type": "code",
    "deepnote_cell_height": 600.1875,
    "deepnote_output_heights": [
     null,
     282
    ]
   },
   "source": "plt.plot(z, leaky_relu(z, 0.05), \"b-\", linewidth=2)\nplt.plot([-5, 5], [0, 0], 'k-')\nplt.plot([0, 0], [-0.5, 4.2], 'k-')\nplt.grid(True)\nprops = dict(facecolor='black', shrink=0.1)\nplt.annotate('Leak', xytext=(-3.5, 0.5), xy=(-5, -0.2), arrowprops=props, fontsize=14, ha=\"center\")\nplt.title(\"Leaky ReLU activation function\", fontsize=14)\nplt.axis([-5, 5, -0.5, 4.2])\n\nsave_fig(\"leaky_relu_plot\")\nplt.show()",
   "execution_count": null,
   "outputs": [
    {
     "name": "stdout",
     "text": "Saving figure leaky_relu_plot\n",
     "output_type": "stream"
    },
    {
     "data": {
      "text/plain": "<Figure size 432x288 with 1 Axes>",
      "image/png": "[encoded data removed]"
     },
     "metadata": {
      "needs_background": "light",
      "image/png": {
       "width": 424,
       "height": 280
      }
     },
     "output_type": "display_data"
    }
   ]
  },
  {
   "cell_type": "code",
   "metadata": {
    "cell_id": "00017-e300167e-4020-4ca1-b4b1-88bee1458661",
    "deepnote_to_be_reexecuted": false,
    "source_hash": "31b03eb9",
    "execution_start": 1659354414941,
    "execution_millis": 20,
    "deepnote_cell_type": "code",
    "deepnote_cell_height": 401,
    "deepnote_output_heights": [
     309
    ]
   },
   "source": "[m for m in dir(keras.activations) if not m.startswith(\"_\")]",
   "execution_count": null,
   "outputs": [
    {
     "output_type": "execute_result",
     "execution_count": 9,
     "data": {
      "text/plain": "['deserialize',\n 'elu',\n 'exponential',\n 'gelu',\n 'get',\n 'hard_sigmoid',\n 'linear',\n 'relu',\n 'selu',\n 'serialize',\n 'sigmoid',\n 'softmax',\n 'softplus',\n 'softsign',\n 'swish',\n 'tanh']"
     },
     "metadata": {}
    }
   ]
  },
  {
   "cell_type": "code",
   "metadata": {
    "cell_id": "00018-7ed29779-1608-44e9-a182-c29b4aacdffd",
    "deepnote_to_be_reexecuted": false,
    "source_hash": "40548c01",
    "execution_start": 1659354414965,
    "execution_millis": 7,
    "deepnote_cell_type": "code",
    "deepnote_cell_height": 113.1875,
    "deepnote_output_heights": [
     21.1875
    ]
   },
   "source": "[m for m in dir(keras.layers) if \"relu\" in m.lower()]",
   "execution_count": null,
   "outputs": [
    {
     "output_type": "execute_result",
     "execution_count": 10,
     "data": {
      "text/plain": "['LeakyReLU', 'PReLU', 'ReLU', 'ThresholdedReLU']"
     },
     "metadata": {}
    }
   ]
  },
  {
   "cell_type": "markdown",
   "source": "Let's train a neural network on Fashion MNIST using the Leaky ReLU:",
   "metadata": {
    "cell_id": "00019-760a01f6-747d-41d1-ab89-1af5bf3f3fe1",
    "deepnote_cell_type": "markdown",
    "deepnote_cell_height": 52.390625
   }
  },
  {
   "cell_type": "code",
   "metadata": {
    "cell_id": "00020-514384bb-e4a5-4987-b54a-5c19a62eef5f",
    "deepnote_to_be_reexecuted": false,
    "source_hash": "e0f89a26",
    "execution_start": 1659354414969,
    "execution_millis": 860,
    "deepnote_cell_type": "code",
    "deepnote_cell_height": 320.5
   },
   "source": "(X_train_full, y_train_full), (X_test, y_test) = keras.datasets.fashion_mnist.load_data()\nX_train_full = X_train_full / 255.0\nX_test = X_test / 255.0\nX_valid, X_train = X_train_full[:5000], X_train_full[5000:]\ny_valid, y_train = y_train_full[:5000], y_train_full[5000:]",
   "execution_count": null,
   "outputs": [
    {
     "name": "stdout",
     "text": "Downloading data from https://storage.googleapis.com/tensorflow/tf-keras-datasets/train-labels-idx1-ubyte.gz\n29515/29515 [==============================] - 0s 0us/step\nDownloading data from https://storage.googleapis.com/tensorflow/tf-keras-datasets/train-images-idx3-ubyte.gz\n26421880/26421880 [==============================] - 0s 0us/step\nDownloading data from https://storage.googleapis.com/tensorflow/tf-keras-datasets/t10k-labels-idx1-ubyte.gz\n5148/5148 [==============================] - 0s 0us/step\nDownloading data from https://storage.googleapis.com/tensorflow/tf-keras-datasets/t10k-images-idx3-ubyte.gz\n4422102/4422102 [==============================] - 0s 0us/step\n",
     "output_type": "stream"
    }
   ]
  },
  {
   "cell_type": "code",
   "metadata": {
    "cell_id": "00021-477ee5a2-8efb-4e5c-aed2-cd1e321e624f",
    "deepnote_to_be_reexecuted": false,
    "source_hash": "eab61a81",
    "execution_start": 1659354415833,
    "execution_millis": 100,
    "deepnote_cell_type": "code",
    "deepnote_cell_height": 256
   },
   "source": "tf.random.set_seed(42)\nnp.random.seed(42)\n\nmodel = keras.models.Sequential([\n    keras.layers.Flatten(input_shape=[28, 28]),\n    keras.layers.Dense(300, kernel_initializer=\"he_normal\"),\n    keras.layers.LeakyReLU(),\n    keras.layers.Dense(100, kernel_initializer=\"he_normal\"),\n    keras.layers.LeakyReLU(),\n    keras.layers.Dense(10, activation=\"softmax\")\n])",
   "execution_count": null,
   "outputs": []
  },
  {
   "cell_type": "code",
   "metadata": {
    "cell_id": "00022-cac733f8-ae1a-4ceb-948c-b912dffe7142",
    "deepnote_to_be_reexecuted": false,
    "source_hash": "b1938699",
    "execution_start": 1659354415943,
    "execution_millis": 0,
    "deepnote_cell_type": "code",
    "deepnote_cell_height": 112
   },
   "source": "model.compile(loss=\"sparse_categorical_crossentropy\",\n              optimizer=keras.optimizers.SGD(learning_rate=1e-3),\n              metrics=[\"accuracy\"])",
   "execution_count": null,
   "outputs": []
  },
  {
   "cell_type": "code",
   "metadata": {
    "scrolled": true,
    "cell_id": "00023-81facd41-30ae-434b-acab-789558ac166b",
    "deepnote_to_be_reexecuted": false,
    "source_hash": "9d2223f7",
    "execution_start": 1659354415993,
    "execution_millis": 82704,
    "deepnote_cell_type": "code",
    "deepnote_cell_height": 508.75
   },
   "source": "history = model.fit(X_train, y_train, epochs=10,\n                    validation_data=(X_valid, y_valid))",
   "execution_count": null,
   "outputs": [
    {
     "name": "stdout",
     "text": "Epoch 1/10\n1719/1719 [==============================] - 7s 4ms/step - loss: 1.2819 - accuracy: 0.6229 - val_loss: 0.8886 - val_accuracy: 0.7160\nEpoch 2/10\n1719/1719 [==============================] - 7s 4ms/step - loss: 0.7955 - accuracy: 0.7362 - val_loss: 0.7130 - val_accuracy: 0.7656\nEpoch 3/10\n1719/1719 [==============================] - 6s 4ms/step - loss: 0.6816 - accuracy: 0.7721 - val_loss: 0.6427 - val_accuracy: 0.7898\nEpoch 4/10\n1719/1719 [==============================] - 6s 4ms/step - loss: 0.6217 - accuracy: 0.7944 - val_loss: 0.5900 - val_accuracy: 0.8064\nEpoch 5/10\n1719/1719 [==============================] - 6s 3ms/step - loss: 0.5832 - accuracy: 0.8075 - val_loss: 0.5582 - val_accuracy: 0.8200\nEpoch 6/10\n1719/1719 [==============================] - 6s 3ms/step - loss: 0.5553 - accuracy: 0.8156 - val_loss: 0.5350 - val_accuracy: 0.8238\nEpoch 7/10\n1719/1719 [==============================] - 6s 4ms/step - loss: 0.5338 - accuracy: 0.8223 - val_loss: 0.5157 - val_accuracy: 0.8304\nEpoch 8/10\n1719/1719 [==============================] - 6s 4ms/step - loss: 0.5173 - accuracy: 0.8272 - val_loss: 0.5079 - val_accuracy: 0.8284\nEpoch 9/10\n1719/1719 [==============================] - 7s 4ms/step - loss: 0.5040 - accuracy: 0.8289 - val_loss: 0.4895 - val_accuracy: 0.8388\nEpoch 10/10\n1719/1719 [==============================] - 6s 4ms/step - loss: 0.4924 - accuracy: 0.8321 - val_loss: 0.4816 - val_accuracy: 0.8396\n",
     "output_type": "stream"
    }
   ]
  },
  {
   "cell_type": "markdown",
   "source": "Now let's try PReLU:",
   "metadata": {
    "cell_id": "00024-287e36ff-0a93-4736-8695-a48e0bf69e43",
    "deepnote_cell_type": "markdown",
    "deepnote_cell_height": 52.390625
   }
  },
  {
   "cell_type": "code",
   "metadata": {
    "cell_id": "00025-cdb48b47-3717-4784-8428-c4553946beaa",
    "deepnote_to_be_reexecuted": false,
    "source_hash": "50c66201",
    "execution_start": 1659354498702,
    "execution_millis": 59,
    "deepnote_cell_type": "code",
    "deepnote_cell_height": 256
   },
   "source": "tf.random.set_seed(42)\nnp.random.seed(42)\n\nmodel = keras.models.Sequential([\n    keras.layers.Flatten(input_shape=[28, 28]),\n    keras.layers.Dense(300, kernel_initializer=\"he_normal\"),\n    keras.layers.PReLU(),\n    keras.layers.Dense(100, kernel_initializer=\"he_normal\"),\n    keras.layers.PReLU(),\n    keras.layers.Dense(10, activation=\"softmax\")\n])",
   "execution_count": null,
   "outputs": []
  },
  {
   "cell_type": "code",
   "metadata": {
    "cell_id": "00026-61dc3ae1-872f-43fa-bfae-f48b450fa13a",
    "deepnote_to_be_reexecuted": false,
    "source_hash": "b1938699",
    "execution_start": 1659354498767,
    "execution_millis": 2,
    "deepnote_cell_type": "code",
    "deepnote_cell_height": 112
   },
   "source": "model.compile(loss=\"sparse_categorical_crossentropy\",\n              optimizer=keras.optimizers.SGD(learning_rate=1e-3),\n              metrics=[\"accuracy\"])",
   "execution_count": null,
   "outputs": []
  },
  {
   "cell_type": "code",
   "metadata": {
    "cell_id": "00027-35949b1b-3f41-4f92-9606-8225c417c52e",
    "deepnote_to_be_reexecuted": false,
    "source_hash": "9d2223f7",
    "execution_start": 1659354498773,
    "execution_millis": 82538,
    "deepnote_cell_type": "code",
    "deepnote_cell_height": 508.75
   },
   "source": "history = model.fit(X_train, y_train, epochs=10,\n                    validation_data=(X_valid, y_valid))",
   "execution_count": null,
   "outputs": [
    {
     "name": "stdout",
     "text": "Epoch 1/10\n1719/1719 [==============================] - 7s 4ms/step - loss: 1.3461 - accuracy: 0.6209 - val_loss: 0.9255 - val_accuracy: 0.7186\nEpoch 2/10\n1719/1719 [==============================] - 7s 4ms/step - loss: 0.8197 - accuracy: 0.7355 - val_loss: 0.7305 - val_accuracy: 0.7630\nEpoch 3/10\n1719/1719 [==============================] - 6s 4ms/step - loss: 0.6966 - accuracy: 0.7693 - val_loss: 0.6565 - val_accuracy: 0.7880\nEpoch 4/10\n1719/1719 [==============================] - 6s 4ms/step - loss: 0.6331 - accuracy: 0.7909 - val_loss: 0.6004 - val_accuracy: 0.8046\nEpoch 5/10\n1719/1719 [==============================] - 7s 4ms/step - loss: 0.5917 - accuracy: 0.8056 - val_loss: 0.5656 - val_accuracy: 0.8184\nEpoch 6/10\n1719/1719 [==============================] - 8s 4ms/step - loss: 0.5618 - accuracy: 0.8135 - val_loss: 0.5406 - val_accuracy: 0.8238\nEpoch 7/10\n1719/1719 [==============================] - 7s 4ms/step - loss: 0.5390 - accuracy: 0.8205 - val_loss: 0.5196 - val_accuracy: 0.8314\nEpoch 8/10\n1719/1719 [==============================] - 6s 3ms/step - loss: 0.5213 - accuracy: 0.8257 - val_loss: 0.5113 - val_accuracy: 0.8312\nEpoch 9/10\n1719/1719 [==============================] - 7s 4ms/step - loss: 0.5070 - accuracy: 0.8288 - val_loss: 0.4916 - val_accuracy: 0.8378\nEpoch 10/10\n1719/1719 [==============================] - 7s 4ms/step - loss: 0.4945 - accuracy: 0.8315 - val_loss: 0.4826 - val_accuracy: 0.8396\n",
     "output_type": "stream"
    }
   ]
  },
  {
   "cell_type": "markdown",
   "source": "### ELU",
   "metadata": {
    "cell_id": "00028-2679c57e-c5f8-4740-bf88-9bcd4a6e4175",
    "deepnote_cell_type": "markdown",
    "deepnote_cell_height": 62
   }
  },
  {
   "cell_type": "code",
   "metadata": {
    "cell_id": "00029-80b29783-e5f9-47da-9184-79c2cbec9094",
    "deepnote_to_be_reexecuted": false,
    "source_hash": "6bde996b",
    "execution_start": 1659354581312,
    "execution_millis": 0,
    "deepnote_cell_type": "code",
    "deepnote_cell_height": 94
   },
   "source": "def elu(z, alpha=1):\n    return np.where(z < 0, alpha * (np.exp(z) - 1), z)",
   "execution_count": null,
   "outputs": []
  },
  {
   "cell_type": "code",
   "metadata": {
    "cell_id": "00030-11f67a76-16d4-4560-a986-eb9207e1682f",
    "deepnote_to_be_reexecuted": false,
    "source_hash": "7cc14d05",
    "execution_start": 1659354581313,
    "execution_millis": 1383,
    "deepnote_cell_type": "code",
    "deepnote_cell_height": 582.1875,
    "deepnote_output_heights": [
     null,
     282
    ]
   },
   "source": "plt.plot(z, elu(z), \"b-\", linewidth=2)\nplt.plot([-5, 5], [0, 0], 'k-')\nplt.plot([-5, 5], [-1, -1], 'k--')\nplt.plot([0, 0], [-2.2, 3.2], 'k-')\nplt.grid(True)\nplt.title(r\"ELU activation function ($\\alpha=1$)\", fontsize=14)\nplt.axis([-5, 5, -2.2, 3.2])\n\nsave_fig(\"elu_plot\")\nplt.show()",
   "execution_count": null,
   "outputs": [
    {
     "name": "stdout",
     "text": "Saving figure elu_plot\n",
     "output_type": "stream"
    },
    {
     "data": {
      "text/plain": "<Figure size 432x288 with 1 Axes>",
      "image/png": "[encoded data removed]"
     },
     "metadata": {
      "needs_background": "light",
      "image/png": {
       "width": 424,
       "height": 280
      }
     },
     "output_type": "display_data"
    }
   ]
  },
  {
   "cell_type": "markdown",
   "source": "Implementing ELU in TensorFlow is trivial, just specify the activation function when building each layer:",
   "metadata": {
    "cell_id": "00031-21104b27-91a9-4552-8101-960c581391d3",
    "deepnote_cell_type": "markdown",
    "deepnote_cell_height": 52.390625
   }
  },
  {
   "cell_type": "code",
   "metadata": {
    "cell_id": "00032-76cfe53a-0408-4b97-a676-0865a9323e7b",
    "deepnote_to_be_reexecuted": false,
    "source_hash": "2141551a",
    "execution_start": 1659354582202,
    "execution_millis": 503,
    "deepnote_cell_type": "code",
    "deepnote_cell_height": 113.1875,
    "deepnote_output_heights": [
     21.1875
    ]
   },
   "source": "keras.layers.Dense(10, activation=\"elu\")",
   "execution_count": null,
   "outputs": [
    {
     "output_type": "execute_result",
     "execution_count": 20,
     "data": {
      "text/plain": "<keras.layers.core.dense.Dense at 0x7f95594d2a60>"
     },
     "metadata": {}
    }
   ]
  },
  {
   "cell_type": "markdown",
   "source": "### SELU",
   "metadata": {
    "cell_id": "00033-9fab7351-3d3c-4bdf-a51b-555afa980808",
    "deepnote_cell_type": "markdown",
    "deepnote_cell_height": 62
   }
  },
  {
   "cell_type": "markdown",
   "source": "This activation function was proposed in this [great paper](https://arxiv.org/pdf/1706.02515.pdf) by Günter Klambauer, Thomas Unterthiner and Andreas Mayr, published in June 2017. During training, a neural network composed exclusively of a stack of dense layers using the SELU activation function and LeCun initialization will self-normalize: the output of each layer will tend to preserve the same mean and variance during training, which solves the vanishing/exploding gradients problem. As a result, this activation function outperforms the other activation functions very significantly for such neural nets, so you should really try it out. Unfortunately, the self-normalizing property of the SELU activation function is easily broken: you cannot use ℓ<sub>1</sub> or ℓ<sub>2</sub> regularization, regular dropout, max-norm, skip connections or other non-sequential topologies (so recurrent neural networks won't self-normalize). However, in practice it works quite well with sequential CNNs. If you break self-normalization, SELU will not necessarily outperform other activation functions.",
   "metadata": {
    "cell_id": "00034-cdb44f99-1e3d-42ab-9295-7593d9a7546e",
    "deepnote_cell_type": "markdown",
    "deepnote_cell_height": 186.734375
   }
  },
  {
   "cell_type": "code",
   "metadata": {
    "cell_id": "00035-f32deea6-55d8-43e2-8534-c6cb7f2e890b",
    "deepnote_to_be_reexecuted": false,
    "source_hash": "2ab65f55",
    "execution_start": 1659354582219,
    "execution_millis": 10,
    "deepnote_cell_type": "code",
    "deepnote_cell_height": 171
   },
   "source": "from scipy.special import erfc\n\n# alpha and scale to self normalize with mean 0 and standard deviation 1\n# (see equation 14 in the paper):\nalpha_0_1 = -np.sqrt(2 / np.pi) / (erfc(1/np.sqrt(2)) * np.exp(1/2) - 1)\nscale_0_1 = (1 - erfc(1 / np.sqrt(2)) * np.sqrt(np.e)) * np.sqrt(2 * np.pi) * (2 * erfc(np.sqrt(2))*np.e**2 + np.pi*erfc(1/np.sqrt(2))**2*np.e - 2*(2+np.pi)*erfc(1/np.sqrt(2))*np.sqrt(np.e)+np.pi+2)**(-1/2)",
   "execution_count": null,
   "outputs": []
  },
  {
   "cell_type": "code",
   "metadata": {
    "cell_id": "00036-bcf818fb-c0f3-4093-9695-e0721a9cbb5f",
    "deepnote_to_be_reexecuted": false,
    "source_hash": "d77417cb",
    "execution_start": 1659354582234,
    "execution_millis": 10,
    "deepnote_cell_type": "code",
    "deepnote_cell_height": 94
   },
   "source": "def selu(z, scale=scale_0_1, alpha=alpha_0_1):\n    return scale * elu(z, alpha)",
   "execution_count": null,
   "outputs": []
  },
  {
   "cell_type": "code",
   "metadata": {
    "cell_id": "00037-11a2029a-2cf2-4a9e-9515-a46f6e5a8ab1",
    "deepnote_to_be_reexecuted": false,
    "source_hash": "ded9e3c5",
    "execution_start": 1659354582248,
    "execution_millis": 651,
    "deepnote_cell_type": "code",
    "deepnote_cell_height": 582.1875,
    "deepnote_output_heights": [
     null,
     282
    ]
   },
   "source": "plt.plot(z, selu(z), \"b-\", linewidth=2)\nplt.plot([-5, 5], [0, 0], 'k-')\nplt.plot([-5, 5], [-1.758, -1.758], 'k--')\nplt.plot([0, 0], [-2.2, 3.2], 'k-')\nplt.grid(True)\nplt.title(\"SELU activation function\", fontsize=14)\nplt.axis([-5, 5, -2.2, 3.2])\n\nsave_fig(\"selu_plot\")\nplt.show()",
   "execution_count": null,
   "outputs": [
    {
     "name": "stdout",
     "text": "Saving figure selu_plot\n",
     "output_type": "stream"
    },
    {
     "data": {
      "text/plain": "<Figure size 432x288 with 1 Axes>",
      "image/png": "[encoded data removed]"
     },
     "metadata": {
      "needs_background": "light",
      "image/png": {
       "width": 424,
       "height": 280
      }
     },
     "output_type": "display_data"
    }
   ]
  },
  {
   "cell_type": "markdown",
   "source": "By default, the SELU hyperparameters (`scale` and `alpha`) are tuned in such a way that the mean output of each neuron remains close to 0, and the standard deviation remains close to 1 (assuming the inputs are standardized with mean 0 and standard deviation 1 too). Using this activation function, even a 1,000 layer deep neural network preserves roughly mean 0 and standard deviation 1 across all layers, avoiding the exploding/vanishing gradients problem:",
   "metadata": {
    "cell_id": "00038-9ef25560-7b47-43a6-888b-38d1bc162eaa",
    "deepnote_cell_type": "markdown",
    "deepnote_cell_height": 97.171875
   }
  },
  {
   "cell_type": "code",
   "metadata": {
    "cell_id": "00039-49373f84-efba-462e-8bea-243b981edab1",
    "deepnote_to_be_reexecuted": false,
    "source_hash": "8724ea11",
    "execution_start": 1659354582912,
    "execution_millis": 3451,
    "deepnote_cell_type": "code",
    "deepnote_cell_height": 432.875
   },
   "source": "np.random.seed(42)\nZ = np.random.normal(size=(500, 100)) # standardized inputs\nfor layer in range(1000):\n    W = np.random.normal(size=(100, 100), scale=np.sqrt(1 / 100)) # LeCun initialization\n    Z = selu(np.dot(Z, W))\n    means = np.mean(Z, axis=0).mean()\n    stds = np.std(Z, axis=0).mean()\n    if layer % 100 == 0:\n        print(\"Layer {}: mean {:.2f}, std deviation {:.2f}\".format(layer, means, stds))",
   "execution_count": null,
   "outputs": [
    {
     "name": "stdout",
     "text": "Layer 0: mean -0.00, std deviation 1.00\nLayer 100: mean 0.02, std deviation 0.96\nLayer 200: mean 0.01, std deviation 0.90\nLayer 300: mean -0.02, std deviation 0.92\nLayer 400: mean 0.05, std deviation 0.89\nLayer 500: mean 0.01, std deviation 0.93\nLayer 600: mean 0.02, std deviation 0.92\nLayer 700: mean -0.02, std deviation 0.90\nLayer 800: mean 0.05, std deviation 0.83\nLayer 900: mean 0.02, std deviation 1.00\n",
     "output_type": "stream"
    }
   ]
  },
  {
   "cell_type": "markdown",
   "source": "Using SELU is easy:",
   "metadata": {
    "cell_id": "00040-91d01907-6e81-436a-bf0c-016a812bb72d",
    "deepnote_cell_type": "markdown",
    "deepnote_cell_height": 52.390625
   }
  },
  {
   "cell_type": "code",
   "metadata": {
    "cell_id": "00041-9dcca0a1-91e8-47c2-8da7-ccf8403732a2",
    "deepnote_to_be_reexecuted": false,
    "source_hash": "c5f96f08",
    "execution_start": 1659354586373,
    "execution_millis": 17,
    "deepnote_cell_type": "code",
    "deepnote_cell_height": 131.1875,
    "deepnote_output_heights": [
     21.1875
    ]
   },
   "source": "keras.layers.Dense(10, activation=\"selu\",\n                   kernel_initializer=\"lecun_normal\")",
   "execution_count": null,
   "outputs": [
    {
     "output_type": "execute_result",
     "execution_count": 25,
     "data": {
      "text/plain": "<keras.layers.core.dense.Dense at 0x7f9559696c10>"
     },
     "metadata": {}
    }
   ]
  },
  {
   "cell_type": "markdown",
   "source": "Let's create a neural net for Fashion MNIST with 100 hidden layers, using the SELU activation function:",
   "metadata": {
    "cell_id": "00042-6f754991-6143-4a18-b478-152ce0242f45",
    "deepnote_cell_type": "markdown",
    "deepnote_cell_height": 52.390625
   }
  },
  {
   "cell_type": "code",
   "metadata": {
    "cell_id": "00043-b69d8580-e583-42b3-bf9e-e408a7434304",
    "deepnote_to_be_reexecuted": false,
    "source_hash": "8905d08a",
    "execution_start": 1659354586394,
    "execution_millis": 29,
    "deepnote_cell_type": "code",
    "deepnote_cell_height": 94
   },
   "source": "np.random.seed(42)\ntf.random.set_seed(42)",
   "execution_count": null,
   "outputs": []
  },
  {
   "cell_type": "code",
   "metadata": {
    "cell_id": "00044-34ec33c3-aafe-4c0f-bc82-e535234d2a72",
    "deepnote_to_be_reexecuted": false,
    "source_hash": "51bf21d5",
    "execution_start": 1659354586436,
    "execution_millis": 1060,
    "deepnote_cell_type": "code",
    "deepnote_cell_height": 202
   },
   "source": "model = keras.models.Sequential()\nmodel.add(keras.layers.Flatten(input_shape=[28, 28]))\nmodel.add(keras.layers.Dense(300, activation=\"selu\",\n                             kernel_initializer=\"lecun_normal\"))\nfor layer in range(99):\n    model.add(keras.layers.Dense(100, activation=\"selu\",\n                                 kernel_initializer=\"lecun_normal\"))\nmodel.add(keras.layers.Dense(10, activation=\"softmax\"))",
   "execution_count": null,
   "outputs": []
  },
  {
   "cell_type": "code",
   "metadata": {
    "cell_id": "00045-9654741a-156f-4dd5-9dcc-e2e502e78ce6",
    "deepnote_to_be_reexecuted": false,
    "source_hash": "b1938699",
    "execution_start": 1659354587500,
    "execution_millis": 5,
    "deepnote_cell_type": "code",
    "deepnote_cell_height": 112
   },
   "source": "model.compile(loss=\"sparse_categorical_crossentropy\",\n              optimizer=keras.optimizers.SGD(learning_rate=1e-3),\n              metrics=[\"accuracy\"])",
   "execution_count": null,
   "outputs": []
  },
  {
   "cell_type": "markdown",
   "source": "Now let's train it. Do not forget to scale the inputs to mean 0 and standard deviation 1:",
   "metadata": {
    "cell_id": "00046-690b38a9-ff19-4259-bdcc-c04a7578bc57",
    "deepnote_cell_type": "markdown",
    "deepnote_cell_height": 52.390625
   }
  },
  {
   "cell_type": "code",
   "metadata": {
    "cell_id": "00047-8832747a-8c7b-4219-8aae-504a551e661d",
    "deepnote_to_be_reexecuted": false,
    "source_hash": "e22bdb74",
    "execution_start": 1659354587512,
    "execution_millis": 660,
    "deepnote_cell_type": "code",
    "deepnote_cell_height": 148
   },
   "source": "pixel_means = X_train.mean(axis=0, keepdims=True)\npixel_stds = X_train.std(axis=0, keepdims=True)\nX_train_scaled = (X_train - pixel_means) / pixel_stds\nX_valid_scaled = (X_valid - pixel_means) / pixel_stds\nX_test_scaled = (X_test - pixel_means) / pixel_stds",
   "execution_count": null,
   "outputs": []
  },
  {
   "cell_type": "code",
   "metadata": {
    "cell_id": "00048-21f08972-34e4-4b9f-ad0d-d9fda7ef8b2f",
    "deepnote_to_be_reexecuted": false,
    "source_hash": "16c124d1",
    "execution_start": 1659354588193,
    "execution_millis": 156990,
    "deepnote_cell_type": "code",
    "deepnote_cell_height": 306.875
   },
   "source": "history = model.fit(X_train_scaled, y_train, epochs=5,\n                    validation_data=(X_valid_scaled, y_valid))",
   "execution_count": null,
   "outputs": [
    {
     "name": "stdout",
     "text": "Epoch 1/5\n1719/1719 [==============================] - 35s 18ms/step - loss: 1.3126 - accuracy: 0.4951 - val_loss: 1.0706 - val_accuracy: 0.5906\nEpoch 2/5\n1719/1719 [==============================] - 30s 17ms/step - loss: 0.9123 - accuracy: 0.6536 - val_loss: 0.8169 - val_accuracy: 0.6684\nEpoch 3/5\n1719/1719 [==============================] - 31s 18ms/step - loss: 0.8725 - accuracy: 0.6685 - val_loss: 0.7552 - val_accuracy: 0.7070\nEpoch 4/5\n1719/1719 [==============================] - 31s 18ms/step - loss: 0.8291 - accuracy: 0.6922 - val_loss: 0.6890 - val_accuracy: 0.7562\nEpoch 5/5\n1719/1719 [==============================] - 29s 17ms/step - loss: 0.7144 - accuracy: 0.7379 - val_loss: 0.6470 - val_accuracy: 0.7704\n",
     "output_type": "stream"
    }
   ]
  },
  {
   "cell_type": "markdown",
   "source": "Now look at what happens if we try to use the ReLU activation function instead:",
   "metadata": {
    "cell_id": "00049-403fe517-2a00-4cc8-88e0-d46fdfeeb505",
    "deepnote_cell_type": "markdown",
    "deepnote_cell_height": 52.390625
   }
  },
  {
   "cell_type": "code",
   "metadata": {
    "cell_id": "00050-9f571986-a4cc-4a40-8a16-eca59b16baf8",
    "deepnote_to_be_reexecuted": false,
    "source_hash": "8905d08a",
    "execution_start": 1659354745163,
    "execution_millis": 6,
    "deepnote_cell_type": "code",
    "deepnote_cell_height": 94
   },
   "source": "np.random.seed(42)\ntf.random.set_seed(42)",
   "execution_count": null,
   "outputs": []
  },
  {
   "cell_type": "code",
   "metadata": {
    "cell_id": "00051-04f3eb43-5ee6-406c-8efc-abeb6630e865",
    "deepnote_to_be_reexecuted": false,
    "source_hash": "9e618bc5",
    "execution_start": 1659354745180,
    "execution_millis": 1196,
    "deepnote_cell_type": "code",
    "deepnote_cell_height": 166
   },
   "source": "model = keras.models.Sequential()\nmodel.add(keras.layers.Flatten(input_shape=[28, 28]))\nmodel.add(keras.layers.Dense(300, activation=\"relu\", kernel_initializer=\"he_normal\"))\nfor layer in range(99):\n    model.add(keras.layers.Dense(100, activation=\"relu\", kernel_initializer=\"he_normal\"))\nmodel.add(keras.layers.Dense(10, activation=\"softmax\"))",
   "execution_count": null,
   "outputs": []
  },
  {
   "cell_type": "code",
   "metadata": {
    "cell_id": "00052-3aa92fb9-d470-4449-a9b8-2e3bd46a93b0",
    "deepnote_to_be_reexecuted": false,
    "source_hash": "b1938699",
    "execution_start": 1659354746389,
    "execution_millis": 7,
    "deepnote_cell_type": "code",
    "deepnote_cell_height": 112
   },
   "source": "model.compile(loss=\"sparse_categorical_crossentropy\",\n              optimizer=keras.optimizers.SGD(learning_rate=1e-3),\n              metrics=[\"accuracy\"])",
   "execution_count": null,
   "outputs": []
  },
  {
   "cell_type": "code",
   "metadata": {
    "cell_id": "00053-2f510055-5edc-415b-9138-7a2b281d8e31",
    "deepnote_to_be_reexecuted": false,
    "source_hash": "16c124d1",
    "execution_start": 1659354746414,
    "execution_millis": 138380,
    "deepnote_cell_type": "code",
    "deepnote_cell_height": 306.875
   },
   "source": "history = model.fit(X_train_scaled, y_train, epochs=5,\n                    validation_data=(X_valid_scaled, y_valid))",
   "execution_count": null,
   "outputs": [
    {
     "name": "stdout",
     "text": "Epoch 1/5\n1719/1719 [==============================] - 30s 16ms/step - loss: 1.8088 - accuracy: 0.2686 - val_loss: 1.7779 - val_accuracy: 0.2616\nEpoch 2/5\n1719/1719 [==============================] - 26s 15ms/step - loss: 1.1340 - accuracy: 0.5239 - val_loss: 1.0905 - val_accuracy: 0.5316\nEpoch 3/5\n1719/1719 [==============================] - 28s 16ms/step - loss: 1.1595 - accuracy: 0.5107 - val_loss: 0.9522 - val_accuracy: 0.5894\nEpoch 4/5\n1719/1719 [==============================] - 26s 15ms/step - loss: 0.9180 - accuracy: 0.6209 - val_loss: 0.8417 - val_accuracy: 0.6406\nEpoch 5/5\n1719/1719 [==============================] - 27s 16ms/step - loss: 0.8130 - accuracy: 0.6737 - val_loss: 0.7211 - val_accuracy: 0.7272\n",
     "output_type": "stream"
    }
   ]
  },
  {
   "cell_type": "markdown",
   "source": "Not great at all, we suffered from the vanishing/exploding gradients problem.",
   "metadata": {
    "cell_id": "00054-0456dcb8-847a-4397-9b83-033f28b846d5",
    "deepnote_cell_type": "markdown",
    "deepnote_cell_height": 52.390625
   }
  },
  {
   "cell_type": "markdown",
   "source": "# Batch Normalization",
   "metadata": {
    "cell_id": "00055-e21a5ade-05d0-4468-b52a-3bf1be075df7",
    "deepnote_cell_type": "markdown",
    "deepnote_cell_height": 82
   }
  },
  {
   "cell_type": "code",
   "metadata": {
    "cell_id": "00056-869a3830-0f91-43b5-9508-fd7e4bf5fec4",
    "deepnote_to_be_reexecuted": false,
    "source_hash": "1b705dd1",
    "execution_start": 1659354884366,
    "execution_millis": 111,
    "deepnote_cell_type": "code",
    "deepnote_cell_height": 220
   },
   "source": "model = keras.models.Sequential([\n    keras.layers.Flatten(input_shape=[28, 28]),\n    keras.layers.BatchNormalization(),\n    keras.layers.Dense(300, activation=\"relu\"),\n    keras.layers.BatchNormalization(),\n    keras.layers.Dense(100, activation=\"relu\"),\n    keras.layers.BatchNormalization(),\n    keras.layers.Dense(10, activation=\"softmax\")\n])",
   "execution_count": null,
   "outputs": []
  },
  {
   "cell_type": "code",
   "metadata": {
    "cell_id": "00057-9d129414-c578-4851-9e83-9fcd6b257a89",
    "deepnote_to_be_reexecuted": false,
    "source_hash": "4e6a3b95",
    "execution_start": 1659354884486,
    "execution_millis": 312,
    "deepnote_cell_type": "code",
    "deepnote_cell_height": 611.875
   },
   "source": "model.summary()",
   "execution_count": null,
   "outputs": [
    {
     "name": "stdout",
     "text": "Model: \"sequential_4\"\n_________________________________________________________________\n Layer (type)                Output Shape              Param #   \n=================================================================\n flatten_4 (Flatten)         (None, 784)               0         \n                                                                 \n batch_normalization (BatchN  (None, 784)              3136      \n ormalization)                                                   \n                                                                 \n dense_212 (Dense)           (None, 300)               235500    \n                                                                 \n batch_normalization_1 (Batc  (None, 300)              1200      \n hNormalization)                                                 \n                                                                 \n dense_213 (Dense)           (None, 100)               30100     \n                                                                 \n batch_normalization_2 (Batc  (None, 100)              400       \n hNormalization)                                                 \n                                                                 \n dense_214 (Dense)           (None, 10)                1010      \n                                                                 \n=================================================================\nTotal params: 271,346\nTrainable params: 268,978\nNon-trainable params: 2,368\n_________________________________________________________________\n",
     "output_type": "stream"
    }
   ]
  },
  {
   "cell_type": "code",
   "metadata": {
    "cell_id": "00058-5064c024-9839-4d89-b6a3-b2c9a11da98a",
    "deepnote_to_be_reexecuted": false,
    "source_hash": "2fed604",
    "execution_start": 1659354884601,
    "deepnote_cell_type": "code",
    "deepnote_cell_height": 188.75,
    "deepnote_output_heights": [
     78.75
    ]
   },
   "source": "bn1 = model.layers[1]\n[(var.name, var.trainable) for var in bn1.variables]",
   "execution_count": null,
   "outputs": [
    {
     "output_type": "execute_result",
     "execution_count": 37,
     "data": {
      "text/plain": "[('batch_normalization/gamma:0', True),\n ('batch_normalization/beta:0', True),\n ('batch_normalization/moving_mean:0', False),\n ('batch_normalization/moving_variance:0', False)]"
     },
     "metadata": {}
    }
   ]
  },
  {
   "cell_type": "code",
   "metadata": {
    "cell_id": "00059-d4f67237-03ab-4f2d-ac77-d10a420476f6",
    "deepnote_to_be_reexecuted": false,
    "source_hash": "d50434ac",
    "execution_start": 1659354884664,
    "deepnote_cell_type": "code",
    "deepnote_cell_height": 76
   },
   "source": "#bn1.updates #deprecated",
   "execution_count": null,
   "outputs": []
  },
  {
   "cell_type": "code",
   "metadata": {
    "cell_id": "00060-20b33420-5e54-40d2-8563-305afd243e13",
    "deepnote_to_be_reexecuted": false,
    "source_hash": "b1938699",
    "execution_start": 1659354884664,
    "deepnote_cell_type": "code",
    "deepnote_cell_height": 112
   },
   "source": "model.compile(loss=\"sparse_categorical_crossentropy\",\n              optimizer=keras.optimizers.SGD(learning_rate=1e-3),\n              metrics=[\"accuracy\"])",
   "execution_count": null,
   "outputs": []
  },
  {
   "cell_type": "code",
   "metadata": {
    "cell_id": "00061-1d42f336-4a12-475b-b3bb-e9a2927a115d",
    "deepnote_to_be_reexecuted": false,
    "source_hash": "9d2223f7",
    "execution_start": 1659354884665,
    "execution_millis": 143007,
    "deepnote_cell_type": "code",
    "deepnote_cell_height": 508.75
   },
   "source": "history = model.fit(X_train, y_train, epochs=10,\n                    validation_data=(X_valid, y_valid))",
   "execution_count": null,
   "outputs": [
    {
     "name": "stdout",
     "text": "Epoch 1/10\n1719/1719 [==============================] - 10s 5ms/step - loss: 0.8750 - accuracy: 0.7123 - val_loss: 0.5524 - val_accuracy: 0.8230\nEpoch 2/10\n1719/1719 [==============================] - 9s 5ms/step - loss: 0.5753 - accuracy: 0.8031 - val_loss: 0.4725 - val_accuracy: 0.8468\nEpoch 3/10\n1719/1719 [==============================] - 10s 6ms/step - loss: 0.5189 - accuracy: 0.8206 - val_loss: 0.4375 - val_accuracy: 0.8552\nEpoch 4/10\n1719/1719 [==============================] - 9s 5ms/step - loss: 0.4826 - accuracy: 0.8325 - val_loss: 0.4151 - val_accuracy: 0.8606\nEpoch 5/10\n1719/1719 [==============================] - 9s 5ms/step - loss: 0.4565 - accuracy: 0.8408 - val_loss: 0.3995 - val_accuracy: 0.8644\nEpoch 6/10\n1719/1719 [==============================] - 9s 5ms/step - loss: 0.4398 - accuracy: 0.8472 - val_loss: 0.3866 - val_accuracy: 0.8688\nEpoch 7/10\n1719/1719 [==============================] - 9s 6ms/step - loss: 0.4242 - accuracy: 0.8511 - val_loss: 0.3762 - val_accuracy: 0.8704\nEpoch 8/10\n1719/1719 [==============================] - 9s 5ms/step - loss: 0.4143 - accuracy: 0.8539 - val_loss: 0.3711 - val_accuracy: 0.8736\nEpoch 9/10\n1719/1719 [==============================] - 9s 6ms/step - loss: 0.4023 - accuracy: 0.8580 - val_loss: 0.3630 - val_accuracy: 0.8752\nEpoch 10/10\n1719/1719 [==============================] - 10s 6ms/step - loss: 0.3915 - accuracy: 0.8626 - val_loss: 0.3572 - val_accuracy: 0.8756\n",
     "output_type": "stream"
    }
   ]
  },
  {
   "cell_type": "markdown",
   "source": "Sometimes applying BN before the activation function works better (there's a debate on this topic). Moreover, the layer before a `BatchNormalization` layer does not need to have bias terms, since the `BatchNormalization` layer has some as well, it would be a waste of parameters, so you can set `use_bias=False` when creating those layers:",
   "metadata": {
    "cell_id": "00062-3211cdc0-7551-4228-b56f-41c30842deee",
    "deepnote_cell_type": "markdown",
    "deepnote_cell_height": 97.171875
   }
  },
  {
   "cell_type": "code",
   "metadata": {
    "cell_id": "00063-9c5df926-83d5-463e-a457-d19586899c32",
    "deepnote_to_be_reexecuted": false,
    "source_hash": "83239de",
    "execution_start": 1659355027672,
    "execution_millis": 23,
    "deepnote_cell_type": "code",
    "deepnote_cell_height": 256
   },
   "source": "model = keras.models.Sequential([\n    keras.layers.Flatten(input_shape=[28, 28]),\n    keras.layers.BatchNormalization(),\n    keras.layers.Dense(300, use_bias=False),\n    keras.layers.BatchNormalization(),\n    keras.layers.Activation(\"relu\"),\n    keras.layers.Dense(100, use_bias=False),\n    keras.layers.BatchNormalization(),\n    keras.layers.Activation(\"relu\"),\n    keras.layers.Dense(10, activation=\"softmax\")\n])",
   "execution_count": null,
   "outputs": []
  },
  {
   "cell_type": "code",
   "metadata": {
    "cell_id": "00064-7e65673b-0f5a-44a9-826f-639c41ab7a1f",
    "deepnote_to_be_reexecuted": false,
    "source_hash": "b1938699",
    "execution_start": 1659355027707,
    "execution_millis": 0,
    "deepnote_cell_type": "code",
    "deepnote_cell_height": 112
   },
   "source": "model.compile(loss=\"sparse_categorical_crossentropy\",\n              optimizer=keras.optimizers.SGD(learning_rate=1e-3),\n              metrics=[\"accuracy\"])",
   "execution_count": null,
   "outputs": []
  },
  {
   "cell_type": "code",
   "metadata": {
    "cell_id": "00065-8a2d470f-6be0-4838-a407-f6ea342bbecd",
    "deepnote_to_be_reexecuted": false,
    "source_hash": "9d2223f7",
    "execution_start": 1659355027716,
    "execution_millis": 94005,
    "deepnote_cell_type": "code",
    "deepnote_cell_height": 508.75
   },
   "source": "history = model.fit(X_train, y_train, epochs=10,\n                    validation_data=(X_valid, y_valid))",
   "execution_count": null,
   "outputs": [
    {
     "name": "stdout",
     "text": "Epoch 1/10\n1719/1719 [==============================] - 10s 5ms/step - loss: 1.0317 - accuracy: 0.6757 - val_loss: 0.6767 - val_accuracy: 0.7812\nEpoch 2/10\n1719/1719 [==============================] - 10s 6ms/step - loss: 0.6790 - accuracy: 0.7793 - val_loss: 0.5566 - val_accuracy: 0.8180\nEpoch 3/10\n1719/1719 [==============================] - 10s 6ms/step - loss: 0.5960 - accuracy: 0.8037 - val_loss: 0.5007 - val_accuracy: 0.8362\nEpoch 4/10\n1719/1719 [==============================] - 9s 5ms/step - loss: 0.5447 - accuracy: 0.8192 - val_loss: 0.4666 - val_accuracy: 0.8448\nEpoch 5/10\n1719/1719 [==============================] - 9s 5ms/step - loss: 0.5109 - accuracy: 0.8279 - val_loss: 0.4434 - val_accuracy: 0.8536\nEpoch 6/10\n1719/1719 [==============================] - 10s 6ms/step - loss: 0.4898 - accuracy: 0.8338 - val_loss: 0.4262 - val_accuracy: 0.8546\nEpoch 7/10\n1719/1719 [==============================] - 9s 5ms/step - loss: 0.4712 - accuracy: 0.8396 - val_loss: 0.4130 - val_accuracy: 0.8568\nEpoch 8/10\n1719/1719 [==============================] - 9s 5ms/step - loss: 0.4560 - accuracy: 0.8439 - val_loss: 0.4035 - val_accuracy: 0.8610\nEpoch 9/10\n1719/1719 [==============================] - 9s 5ms/step - loss: 0.4441 - accuracy: 0.8475 - val_loss: 0.3943 - val_accuracy: 0.8638\nEpoch 10/10\n1719/1719 [==============================] - 9s 5ms/step - loss: 0.4333 - accuracy: 0.8505 - val_loss: 0.3875 - val_accuracy: 0.8664\n",
     "output_type": "stream"
    }
   ]
  },
  {
   "cell_type": "markdown",
   "source": "## Gradient Clipping",
   "metadata": {
    "cell_id": "00066-28764b1a-17e5-4a9c-931c-1fbf1faa8fb7",
    "deepnote_cell_type": "markdown",
    "deepnote_cell_height": 70
   }
  },
  {
   "cell_type": "markdown",
   "source": "All Keras optimizers accept `clipnorm` or `clipvalue` arguments:",
   "metadata": {
    "cell_id": "00067-e4ef0f44-e5a5-4ac8-bb00-5150a0c8734c",
    "deepnote_cell_type": "markdown",
    "deepnote_cell_height": 52.390625
   }
  },
  {
   "cell_type": "code",
   "metadata": {
    "cell_id": "00068-9c742259-6cc9-42e8-93f6-fbcb0cbbc761",
    "deepnote_to_be_reexecuted": false,
    "source_hash": "9ff1f795",
    "execution_start": 1659355121721,
    "execution_millis": 5,
    "deepnote_cell_type": "code",
    "deepnote_cell_height": 76
   },
   "source": "optimizer = keras.optimizers.SGD(clipvalue=1.0)",
   "execution_count": null,
   "outputs": []
  },
  {
   "cell_type": "code",
   "metadata": {
    "cell_id": "00069-e1c36548-bb2a-4883-8167-2a65a5486d11",
    "deepnote_to_be_reexecuted": false,
    "source_hash": "25280eb0",
    "execution_start": 1659355121727,
    "execution_millis": 11,
    "deepnote_cell_type": "code",
    "deepnote_cell_height": 76
   },
   "source": "optimizer = keras.optimizers.SGD(clipnorm=1.0)",
   "execution_count": null,
   "outputs": []
  },
  {
   "cell_type": "markdown",
   "source": "## Reusing Pretrained Layers",
   "metadata": {
    "cell_id": "00070-8ba7c429-de3e-43b1-8400-4d2d79f0c485",
    "deepnote_cell_type": "markdown",
    "deepnote_cell_height": 70
   }
  },
  {
   "cell_type": "markdown",
   "source": "### Reusing a Keras model",
   "metadata": {
    "cell_id": "00071-9c90f5cc-1db3-418d-8e82-6f95cdbe7d7b",
    "deepnote_cell_type": "markdown",
    "deepnote_cell_height": 62
   }
  },
  {
   "cell_type": "markdown",
   "source": "Let's split the fashion MNIST training set in two:\n* `X_train_A`: all images of all items except for sandals and shirts (classes 5 and 6).\n* `X_train_B`: a much smaller training set of just the first 200 images of sandals or shirts.\n\nThe validation set and the test set are also split this way, but without restricting the number of images.\n\nWe will train a model on set A (classification task with 8 classes), and try to reuse it to tackle set B (binary classification). We hope to transfer a little bit of knowledge from task A to task B, since classes in set A (sneakers, ankle boots, coats, t-shirts, etc.) are somewhat similar to classes in set B (sandals and shirts). However, since we are using `Dense` layers, only patterns that occur at the same location can be reused (in contrast, convolutional layers will transfer much better, since learned patterns can be detected anywhere on the image, as we will see in the CNN chapter).",
   "metadata": {
    "cell_id": "00072-ff2d5d86-c400-423b-98df-dbeac7c95f6e",
    "deepnote_cell_type": "markdown",
    "deepnote_cell_height": 254.125
   }
  },
  {
   "cell_type": "code",
   "metadata": {
    "cell_id": "00073-390ba1bd-5e12-4d20-bb48-996f4a528e20",
    "deepnote_to_be_reexecuted": false,
    "source_hash": "d0756ea",
    "execution_start": 1659355121742,
    "execution_millis": 300,
    "deepnote_cell_type": "code",
    "deepnote_cell_height": 292
   },
   "source": "def split_dataset(X, y):\n    y_5_or_6 = (y == 5) | (y == 6) # sandals or shirts\n    y_A = y[~y_5_or_6]\n    y_A[y_A > 6] -= 2 # class indices 7, 8, 9 should be moved to 5, 6, 7\n    y_B = (y[y_5_or_6] == 6).astype(np.float32) # binary classification task: is it a shirt (class 6)?\n    return ((X[~y_5_or_6], y_A),\n            (X[y_5_or_6], y_B))\n\n(X_train_A, y_train_A), (X_train_B, y_train_B) = split_dataset(X_train, y_train)\n(X_valid_A, y_valid_A), (X_valid_B, y_valid_B) = split_dataset(X_valid, y_valid)\n(X_test_A, y_test_A), (X_test_B, y_test_B) = split_dataset(X_test, y_test)\nX_train_B = X_train_B[:200]\ny_train_B = y_train_B[:200]",
   "execution_count": null,
   "outputs": []
  },
  {
   "cell_type": "code",
   "metadata": {
    "cell_id": "00074-12437ca1-061d-4563-89c4-96e8e8385d05",
    "deepnote_to_be_reexecuted": false,
    "source_hash": "22b2e7c1",
    "execution_start": 1659355122058,
    "execution_millis": 16,
    "deepnote_cell_type": "code",
    "deepnote_cell_height": 113.1875,
    "deepnote_output_heights": [
     21.1875
    ]
   },
   "source": "X_train_A.shape",
   "execution_count": null,
   "outputs": [
    {
     "output_type": "execute_result",
     "execution_count": 47,
     "data": {
      "text/plain": "(43986, 28, 28)"
     },
     "metadata": {}
    }
   ]
  },
  {
   "cell_type": "code",
   "metadata": {
    "cell_id": "00075-e97dca75-988c-4398-9122-2e4c8cb76222",
    "deepnote_to_be_reexecuted": false,
    "source_hash": "fbb0d290",
    "execution_start": 1659355122084,
    "execution_millis": 13,
    "deepnote_cell_type": "code",
    "deepnote_cell_height": 113.1875,
    "deepnote_output_heights": [
     21.1875
    ]
   },
   "source": "X_train_B.shape",
   "execution_count": null,
   "outputs": [
    {
     "output_type": "execute_result",
     "execution_count": 48,
     "data": {
      "text/plain": "(200, 28, 28)"
     },
     "metadata": {}
    }
   ]
  },
  {
   "cell_type": "code",
   "metadata": {
    "cell_id": "00076-95c77667-7e58-4333-81f8-e5f250db4228",
    "deepnote_to_be_reexecuted": false,
    "source_hash": "7fad8294",
    "execution_start": 1659355122115,
    "deepnote_cell_type": "code",
    "deepnote_cell_height": 132.375,
    "deepnote_output_heights": [
     40.375
    ]
   },
   "source": "y_train_A[:30]",
   "execution_count": null,
   "outputs": [
    {
     "output_type": "execute_result",
     "execution_count": 49,
     "data": {
      "text/plain": "array([4, 0, 5, 7, 7, 7, 4, 4, 3, 4, 0, 1, 6, 3, 4, 3, 2, 6, 5, 3, 4, 5,\n       1, 3, 4, 2, 0, 6, 7, 1], dtype=uint8)"
     },
     "metadata": {}
    }
   ]
  },
  {
   "cell_type": "code",
   "metadata": {
    "cell_id": "00077-693977fc-4822-4473-a41b-b4c61d2006f1",
    "deepnote_to_be_reexecuted": false,
    "source_hash": "5810ddf5",
    "execution_start": 1659355122169,
    "deepnote_cell_type": "code",
    "deepnote_cell_height": 132.375,
    "deepnote_output_heights": [
     40.375
    ]
   },
   "source": "y_train_B[:30]",
   "execution_count": null,
   "outputs": [
    {
     "output_type": "execute_result",
     "execution_count": 50,
     "data": {
      "text/plain": "array([1., 1., 0., 0., 0., 0., 1., 1., 1., 0., 0., 1., 1., 0., 0., 0., 0.,\n       0., 0., 1., 1., 0., 0., 1., 1., 0., 1., 1., 1., 1.], dtype=float32)"
     },
     "metadata": {}
    }
   ]
  },
  {
   "cell_type": "code",
   "metadata": {
    "cell_id": "00078-8ddeb8c4-518c-4107-bb37-fde32a4778de",
    "deepnote_to_be_reexecuted": false,
    "source_hash": "d690901b",
    "execution_start": 1659355122171,
    "execution_millis": 1,
    "deepnote_cell_type": "code",
    "deepnote_cell_height": 94
   },
   "source": "tf.random.set_seed(42)\nnp.random.seed(42)",
   "execution_count": null,
   "outputs": []
  },
  {
   "cell_type": "code",
   "metadata": {
    "cell_id": "00079-eea32128-e45a-4c32-8ba7-a787728dd06c",
    "deepnote_to_be_reexecuted": false,
    "source_hash": "16ab0d30",
    "execution_start": 1659355122214,
    "execution_millis": 5,
    "deepnote_cell_type": "code",
    "deepnote_cell_height": 148
   },
   "source": "model_A = keras.models.Sequential()\nmodel_A.add(keras.layers.Flatten(input_shape=[28, 28]))\nfor n_hidden in (300, 100, 50, 50, 50):\n    model_A.add(keras.layers.Dense(n_hidden, activation=\"selu\"))\nmodel_A.add(keras.layers.Dense(8, activation=\"softmax\"))",
   "execution_count": null,
   "outputs": []
  },
  {
   "cell_type": "code",
   "metadata": {
    "cell_id": "00080-cd0a977a-77b2-4831-90eb-f5016da870af",
    "deepnote_to_be_reexecuted": false,
    "source_hash": "66101eb4",
    "execution_start": 1659355122229,
    "execution_millis": 11,
    "deepnote_cell_type": "code",
    "deepnote_cell_height": 112
   },
   "source": "model_A.compile(loss=\"sparse_categorical_crossentropy\",\n                optimizer=keras.optimizers.SGD(learning_rate=1e-3),\n                metrics=[\"accuracy\"])",
   "execution_count": null,
   "outputs": []
  },
  {
   "cell_type": "code",
   "metadata": {
    "cell_id": "00081-07912f64-8985-4713-bb23-a56658b8c9c4",
    "deepnote_to_be_reexecuted": false,
    "source_hash": "30bf0d4b",
    "execution_start": 1659355122248,
    "execution_millis": 152202,
    "deepnote_cell_type": "code",
    "deepnote_cell_height": 714
   },
   "source": "history = model_A.fit(X_train_A, y_train_A, epochs=20,\n                    validation_data=(X_valid_A, y_valid_A))",
   "execution_count": null,
   "outputs": [
    {
     "name": "stdout",
     "text": "Epoch 1/20\n1375/1375 [==============================] - 6s 4ms/step - loss: 0.5926 - accuracy: 0.8103 - val_loss: 0.3890 - val_accuracy: 0.8677\nEpoch 2/20\n1375/1375 [==============================] - 6s 4ms/step - loss: 0.3523 - accuracy: 0.8786 - val_loss: 0.3291 - val_accuracy: 0.8822\nEpoch 3/20\n1375/1375 [==============================] - 6s 4ms/step - loss: 0.3170 - accuracy: 0.8894 - val_loss: 0.3013 - val_accuracy: 0.8999\nEpoch 4/20\n1375/1375 [==============================] - 5s 3ms/step - loss: 0.2972 - accuracy: 0.8975 - val_loss: 0.2894 - val_accuracy: 0.9018\nEpoch 5/20\n1375/1375 [==============================] - 5s 4ms/step - loss: 0.2834 - accuracy: 0.9023 - val_loss: 0.2773 - val_accuracy: 0.9066\nEpoch 6/20\n1375/1375 [==============================] - 6s 4ms/step - loss: 0.2729 - accuracy: 0.9061 - val_loss: 0.2733 - val_accuracy: 0.9076\nEpoch 7/20\n1375/1375 [==============================] - 5s 4ms/step - loss: 0.2641 - accuracy: 0.9091 - val_loss: 0.2720 - val_accuracy: 0.9088\nEpoch 8/20\n1375/1375 [==============================] - 5s 4ms/step - loss: 0.2573 - accuracy: 0.9125 - val_loss: 0.2590 - val_accuracy: 0.9138\nEpoch 9/20\n1375/1375 [==============================] - 7s 5ms/step - loss: 0.2518 - accuracy: 0.9138 - val_loss: 0.2561 - val_accuracy: 0.9150\nEpoch 10/20\n1375/1375 [==============================] - 11s 8ms/step - loss: 0.2468 - accuracy: 0.9154 - val_loss: 0.2540 - val_accuracy: 0.9155\nEpoch 11/20\n1375/1375 [==============================] - 12s 9ms/step - loss: 0.2422 - accuracy: 0.9175 - val_loss: 0.2497 - val_accuracy: 0.9153\nEpoch 12/20\n1375/1375 [==============================] - 9s 6ms/step - loss: 0.2382 - accuracy: 0.9188 - val_loss: 0.2513 - val_accuracy: 0.9126\nEpoch 13/20\n1375/1375 [==============================] - 8s 6ms/step - loss: 0.2350 - accuracy: 0.9197 - val_loss: 0.2447 - val_accuracy: 0.9160\nEpoch 14/20\n1375/1375 [==============================] - 11s 8ms/step - loss: 0.2315 - accuracy: 0.9213 - val_loss: 0.2415 - val_accuracy: 0.9175\nEpoch 15/20\n1375/1375 [==============================] - 8s 5ms/step - loss: 0.2287 - accuracy: 0.9212 - val_loss: 0.2448 - val_accuracy: 0.9195\nEpoch 16/20\n1375/1375 [==============================] - 13s 9ms/step - loss: 0.2254 - accuracy: 0.9226 - val_loss: 0.2388 - val_accuracy: 0.9195\nEpoch 17/20\n1375/1375 [==============================] - 11s 8ms/step - loss: 0.2230 - accuracy: 0.9232 - val_loss: 0.2412 - val_accuracy: 0.9170\nEpoch 18/20\n1375/1375 [==============================] - 6s 4ms/step - loss: 0.2200 - accuracy: 0.9245 - val_loss: 0.2427 - val_accuracy: 0.9150\nEpoch 19/20\n1375/1375 [==============================] - 7s 5ms/step - loss: 0.2177 - accuracy: 0.9251 - val_loss: 0.2331 - val_accuracy: 0.9205\nEpoch 20/20\n1375/1375 [==============================] - 6s 4ms/step - loss: 0.2155 - accuracy: 0.9262 - val_loss: 0.2330 - val_accuracy: 0.9200\n",
     "output_type": "stream"
    }
   ]
  },
  {
   "cell_type": "code",
   "metadata": {
    "cell_id": "00082-deb098e3-2378-4757-8cef-b715bc73a320",
    "deepnote_to_be_reexecuted": false,
    "source_hash": "ea8abdd9",
    "execution_start": 1659355274451,
    "execution_millis": 51,
    "deepnote_cell_type": "code",
    "deepnote_cell_height": 76
   },
   "source": "model_A.save(\"my_model_A.h5\")",
   "execution_count": null,
   "outputs": []
  },
  {
   "cell_type": "code",
   "metadata": {
    "cell_id": "00083-5acf6e69-cefb-493c-8fd1-711387f43035",
    "deepnote_to_be_reexecuted": false,
    "source_hash": "d11678ed",
    "execution_start": 1659355274507,
    "execution_millis": 88,
    "deepnote_cell_type": "code",
    "deepnote_cell_height": 148
   },
   "source": "model_B = keras.models.Sequential()\nmodel_B.add(keras.layers.Flatten(input_shape=[28, 28]))\nfor n_hidden in (300, 100, 50, 50, 50):\n    model_B.add(keras.layers.Dense(n_hidden, activation=\"selu\"))\nmodel_B.add(keras.layers.Dense(1, activation=\"sigmoid\"))",
   "execution_count": null,
   "outputs": []
  },
  {
   "cell_type": "code",
   "metadata": {
    "cell_id": "00084-1d0c1db2-4497-4a46-b39b-66151824f106",
    "deepnote_to_be_reexecuted": false,
    "source_hash": "cc682955",
    "execution_start": 1659355274600,
    "execution_millis": 13,
    "deepnote_cell_type": "code",
    "deepnote_cell_height": 112
   },
   "source": "model_B.compile(loss=\"binary_crossentropy\",\n                optimizer=keras.optimizers.SGD(learning_rate=1e-3),\n                metrics=[\"accuracy\"])",
   "execution_count": null,
   "outputs": []
  },
  {
   "cell_type": "code",
   "metadata": {
    "cell_id": "00085-e1d5e180-a5b6-4e0f-946f-7f0eb4e7c350",
    "deepnote_to_be_reexecuted": false,
    "source_hash": "d1e4da5d",
    "execution_start": 1659355274624,
    "execution_millis": 5982,
    "deepnote_cell_type": "code",
    "deepnote_cell_height": 714
   },
   "source": "history = model_B.fit(X_train_B, y_train_B, epochs=20,\n                      validation_data=(X_valid_B, y_valid_B))",
   "execution_count": null,
   "outputs": [
    {
     "name": "stdout",
     "text": "Epoch 1/20\n7/7 [==============================] - 1s 74ms/step - loss: 0.9573 - accuracy: 0.4650 - val_loss: 0.6314 - val_accuracy: 0.6004\nEpoch 2/20\n7/7 [==============================] - 0s 34ms/step - loss: 0.5692 - accuracy: 0.7450 - val_loss: 0.4784 - val_accuracy: 0.8529\nEpoch 3/20\n7/7 [==============================] - 0s 47ms/step - loss: 0.4503 - accuracy: 0.8650 - val_loss: 0.4102 - val_accuracy: 0.8945\nEpoch 4/20\n7/7 [==============================] - 0s 39ms/step - loss: 0.3879 - accuracy: 0.8950 - val_loss: 0.3647 - val_accuracy: 0.9178\nEpoch 5/20\n7/7 [==============================] - 0s 34ms/step - loss: 0.3435 - accuracy: 0.9250 - val_loss: 0.3300 - val_accuracy: 0.9320\nEpoch 6/20\n7/7 [==============================] - 0s 22ms/step - loss: 0.3081 - accuracy: 0.9300 - val_loss: 0.3019 - val_accuracy: 0.9402\nEpoch 7/20\n7/7 [==============================] - 0s 28ms/step - loss: 0.2800 - accuracy: 0.9350 - val_loss: 0.2804 - val_accuracy: 0.9422\nEpoch 8/20\n7/7 [==============================] - 0s 31ms/step - loss: 0.2564 - accuracy: 0.9450 - val_loss: 0.2606 - val_accuracy: 0.9473\nEpoch 9/20\n7/7 [==============================] - 0s 22ms/step - loss: 0.2362 - accuracy: 0.9550 - val_loss: 0.2428 - val_accuracy: 0.9523\nEpoch 10/20\n7/7 [==============================] - 0s 27ms/step - loss: 0.2188 - accuracy: 0.9600 - val_loss: 0.2281 - val_accuracy: 0.9544\nEpoch 11/20\n7/7 [==============================] - 0s 67ms/step - loss: 0.2036 - accuracy: 0.9700 - val_loss: 0.2150 - val_accuracy: 0.9584\nEpoch 12/20\n7/7 [==============================] - 0s 47ms/step - loss: 0.1898 - accuracy: 0.9700 - val_loss: 0.2036 - val_accuracy: 0.9584\nEpoch 13/20\n7/7 [==============================] - 0s 38ms/step - loss: 0.1773 - accuracy: 0.9750 - val_loss: 0.1931 - val_accuracy: 0.9615\nEpoch 14/20\n7/7 [==============================] - 0s 36ms/step - loss: 0.1668 - accuracy: 0.9800 - val_loss: 0.1838 - val_accuracy: 0.9635\nEpoch 15/20\n7/7 [==============================] - 0s 35ms/step - loss: 0.1570 - accuracy: 0.9900 - val_loss: 0.1746 - val_accuracy: 0.9686\nEpoch 16/20\n7/7 [==============================] - 0s 37ms/step - loss: 0.1481 - accuracy: 0.9900 - val_loss: 0.1674 - val_accuracy: 0.9686\nEpoch 17/20\n7/7 [==============================] - 0s 34ms/step - loss: 0.1406 - accuracy: 0.9900 - val_loss: 0.1604 - val_accuracy: 0.9706\nEpoch 18/20\n7/7 [==============================] - 0s 35ms/step - loss: 0.1334 - accuracy: 0.9900 - val_loss: 0.1539 - val_accuracy: 0.9706\nEpoch 19/20\n7/7 [==============================] - 0s 37ms/step - loss: 0.1268 - accuracy: 0.9900 - val_loss: 0.1482 - val_accuracy: 0.9716\nEpoch 20/20\n7/7 [==============================] - 0s 33ms/step - loss: 0.1208 - accuracy: 0.9900 - val_loss: 0.1431 - val_accuracy: 0.9716\n",
     "output_type": "stream"
    }
   ]
  },
  {
   "cell_type": "code",
   "metadata": {
    "cell_id": "00086-a9166540-a6d9-4f0f-9c2c-41bf4b152205",
    "deepnote_to_be_reexecuted": false,
    "source_hash": "a88bc509",
    "execution_start": 1659355280611,
    "execution_millis": 27,
    "deepnote_cell_type": "code",
    "deepnote_cell_height": 551.3125
   },
   "source": "model_B.summary()",
   "execution_count": null,
   "outputs": [
    {
     "name": "stdout",
     "text": "Model: \"sequential_7\"\n_________________________________________________________________\n Layer (type)                Output Shape              Param #   \n=================================================================\n flatten_7 (Flatten)         (None, 784)               0         \n                                                                 \n dense_224 (Dense)           (None, 300)               235500    \n                                                                 \n dense_225 (Dense)           (None, 100)               30100     \n                                                                 \n dense_226 (Dense)           (None, 50)                5050      \n                                                                 \n dense_227 (Dense)           (None, 50)                2550      \n                                                                 \n dense_228 (Dense)           (None, 50)                2550      \n                                                                 \n dense_229 (Dense)           (None, 1)                 51        \n                                                                 \n=================================================================\nTotal params: 275,801\nTrainable params: 275,801\nNon-trainable params: 0\n_________________________________________________________________\n",
     "output_type": "stream"
    }
   ]
  },
  {
   "cell_type": "code",
   "metadata": {
    "cell_id": "00087-79c5be6f-d28a-4739-9742-0a6cdcc8b733",
    "deepnote_to_be_reexecuted": false,
    "source_hash": "924be521",
    "execution_start": 1659355280770,
    "execution_millis": 85,
    "deepnote_cell_type": "code",
    "deepnote_cell_height": 112
   },
   "source": "model_A = keras.models.load_model(\"my_model_A.h5\")\nmodel_B_on_A = keras.models.Sequential(model_A.layers[:-1])\nmodel_B_on_A.add(keras.layers.Dense(1, activation=\"sigmoid\"))",
   "execution_count": null,
   "outputs": []
  },
  {
   "cell_type": "markdown",
   "source": "Note that `model_B_on_A` and `model_A` actually share layers now, so when we train one, it will update both models. If we want to avoid that, we need to build `model_B_on_A` on top of a *clone* of `model_A`:",
   "metadata": {
    "cell_id": "00088-5513e478-0eaf-4eeb-a0a6-8b8b1188ed24",
    "deepnote_cell_type": "markdown",
    "deepnote_cell_height": 74.78125
   }
  },
  {
   "cell_type": "code",
   "metadata": {
    "cell_id": "00089-9afb6fa8-adfd-4e98-9628-63f2c5544a93",
    "deepnote_to_be_reexecuted": false,
    "source_hash": "d7ed2fc8",
    "execution_start": 1659355280864,
    "execution_millis": 140,
    "deepnote_cell_type": "code",
    "deepnote_cell_height": 130
   },
   "source": "model_A_clone = keras.models.clone_model(model_A)\nmodel_A_clone.set_weights(model_A.get_weights())\nmodel_B_on_A = keras.models.Sequential(model_A_clone.layers[:-1])\nmodel_B_on_A.add(keras.layers.Dense(1, activation=\"sigmoid\"))",
   "execution_count": null,
   "outputs": []
  },
  {
   "cell_type": "code",
   "metadata": {
    "cell_id": "00090-edcc54cf-a890-4978-bb47-863cf3cc690e",
    "deepnote_to_be_reexecuted": false,
    "source_hash": "d5ccaaa9",
    "execution_start": 1659355281006,
    "execution_millis": 15,
    "deepnote_cell_type": "code",
    "deepnote_cell_height": 166
   },
   "source": "for layer in model_B_on_A.layers[:-1]:\n    layer.trainable = False\n\nmodel_B_on_A.compile(loss=\"binary_crossentropy\",\n                     optimizer=keras.optimizers.SGD(learning_rate=1e-3),\n                     metrics=[\"accuracy\"])",
   "execution_count": null,
   "outputs": []
  },
  {
   "cell_type": "code",
   "metadata": {
    "cell_id": "00091-664ce718-1275-4856-9a4b-89540525a743",
    "deepnote_to_be_reexecuted": false,
    "source_hash": "a5f6e1d7",
    "execution_start": 1659355281023,
    "execution_millis": 9243,
    "deepnote_cell_type": "code",
    "deepnote_cell_height": 876
   },
   "source": "history = model_B_on_A.fit(X_train_B, y_train_B, epochs=4,\n                           validation_data=(X_valid_B, y_valid_B))\n\nfor layer in model_B_on_A.layers[:-1]:\n    layer.trainable = True\n\nmodel_B_on_A.compile(loss=\"binary_crossentropy\",\n                     optimizer=keras.optimizers.SGD(learning_rate=1e-3),\n                     metrics=[\"accuracy\"])\nhistory = model_B_on_A.fit(X_train_B, y_train_B, epochs=16,\n                           validation_data=(X_valid_B, y_valid_B))",
   "execution_count": null,
   "outputs": [
    {
     "name": "stdout",
     "text": "Epoch 1/4\n7/7 [==============================] - 1s 131ms/step - loss: 0.2654 - accuracy: 0.9400 - val_loss: 0.2794 - val_accuracy: 0.9280\nEpoch 2/4\n7/7 [==============================] - 0s 46ms/step - loss: 0.2556 - accuracy: 0.9400 - val_loss: 0.2698 - val_accuracy: 0.9331\nEpoch 3/4\n7/7 [==============================] - 0s 45ms/step - loss: 0.2462 - accuracy: 0.9400 - val_loss: 0.2610 - val_accuracy: 0.9351\nEpoch 4/4\n7/7 [==============================] - 0s 51ms/step - loss: 0.2376 - accuracy: 0.9400 - val_loss: 0.2528 - val_accuracy: 0.9361\nEpoch 1/16\n7/7 [==============================] - 1s 103ms/step - loss: 0.2128 - accuracy: 0.9450 - val_loss: 0.2049 - val_accuracy: 0.9645\nEpoch 2/16\n7/7 [==============================] - 0s 77ms/step - loss: 0.1703 - accuracy: 0.9550 - val_loss: 0.1723 - val_accuracy: 0.9716\nEpoch 3/16\n7/7 [==============================] - 0s 41ms/step - loss: 0.1411 - accuracy: 0.9650 - val_loss: 0.1495 - val_accuracy: 0.9817\nEpoch 4/16\n7/7 [==============================] - 0s 40ms/step - loss: 0.1200 - accuracy: 0.9800 - val_loss: 0.1329 - val_accuracy: 0.9817\nEpoch 5/16\n7/7 [==============================] - 0s 68ms/step - loss: 0.1049 - accuracy: 0.9900 - val_loss: 0.1204 - val_accuracy: 0.9838\nEpoch 6/16\n7/7 [==============================] - 0s 44ms/step - loss: 0.0932 - accuracy: 0.9950 - val_loss: 0.1105 - val_accuracy: 0.9858\nEpoch 7/16\n7/7 [==============================] - 0s 41ms/step - loss: 0.0840 - accuracy: 0.9950 - val_loss: 0.1023 - val_accuracy: 0.9858\nEpoch 8/16\n7/7 [==============================] - 0s 42ms/step - loss: 0.0764 - accuracy: 0.9950 - val_loss: 0.0955 - val_accuracy: 0.9868\nEpoch 9/16\n7/7 [==============================] - 0s 31ms/step - loss: 0.0700 - accuracy: 0.9950 - val_loss: 0.0894 - val_accuracy: 0.9868\nEpoch 10/16\n7/7 [==============================] - 0s 31ms/step - loss: 0.0642 - accuracy: 0.9950 - val_loss: 0.0846 - val_accuracy: 0.9878\nEpoch 11/16\n7/7 [==============================] - 0s 32ms/step - loss: 0.0597 - accuracy: 1.0000 - val_loss: 0.0802 - val_accuracy: 0.9868\nEpoch 12/16\n7/7 [==============================] - 0s 17ms/step - loss: 0.0555 - accuracy: 1.0000 - val_loss: 0.0763 - val_accuracy: 0.9878\nEpoch 13/16\n7/7 [==============================] - 0s 16ms/step - loss: 0.0518 - accuracy: 1.0000 - val_loss: 0.0730 - val_accuracy: 0.9878\nEpoch 14/16\n7/7 [==============================] - 0s 16ms/step - loss: 0.0486 - accuracy: 1.0000 - val_loss: 0.0702 - val_accuracy: 0.9878\nEpoch 15/16\n7/7 [==============================] - 0s 16ms/step - loss: 0.0459 - accuracy: 1.0000 - val_loss: 0.0677 - val_accuracy: 0.9878\nEpoch 16/16\n7/7 [==============================] - 0s 16ms/step - loss: 0.0435 - accuracy: 1.0000 - val_loss: 0.0653 - val_accuracy: 0.9878\n",
     "output_type": "stream"
    }
   ]
  },
  {
   "cell_type": "markdown",
   "source": "So, what's the final verdict?",
   "metadata": {
    "cell_id": "00092-87425082-4f0c-4572-aabb-5cf44400922c",
    "deepnote_cell_type": "markdown",
    "deepnote_cell_height": 52.390625
   }
  },
  {
   "cell_type": "code",
   "metadata": {
    "cell_id": "00093-e8d52fa2-7733-4ebd-8493-7ae9095e303b",
    "deepnote_to_be_reexecuted": false,
    "source_hash": "a4df2056",
    "execution_start": 1659355290273,
    "execution_millis": 597,
    "deepnote_cell_type": "code",
    "deepnote_cell_height": 159.375,
    "deepnote_output_heights": [
     null,
     21.1875
    ]
   },
   "source": "model_B.evaluate(X_test_B, y_test_B)",
   "execution_count": null,
   "outputs": [
    {
     "name": "stdout",
     "text": "63/63 [==============================] - 0s 2ms/step - loss: 0.1408 - accuracy: 0.9705\n",
     "output_type": "stream"
    },
    {
     "output_type": "execute_result",
     "execution_count": 64,
     "data": {
      "text/plain": "[0.1408407986164093, 0.9704999923706055]"
     },
     "metadata": {}
    }
   ]
  },
  {
   "cell_type": "code",
   "metadata": {
    "cell_id": "00094-46e6ae8c-f3f7-4994-ad1a-db8fc2f582ca",
    "deepnote_to_be_reexecuted": false,
    "source_hash": "cd723a9f",
    "execution_start": 1659355290641,
    "execution_millis": 255,
    "deepnote_cell_type": "code",
    "deepnote_cell_height": 159.375,
    "deepnote_output_heights": [
     null,
     21.1875
    ]
   },
   "source": "model_B_on_A.evaluate(X_test_B, y_test_B)",
   "execution_count": null,
   "outputs": [
    {
     "name": "stdout",
     "text": "63/63 [==============================] - 0s 2ms/step - loss: 0.0562 - accuracy: 0.9940\n",
     "output_type": "stream"
    },
    {
     "output_type": "execute_result",
     "execution_count": 65,
     "data": {
      "text/plain": "[0.056181780993938446, 0.9940000176429749]"
     },
     "metadata": {}
    }
   ]
  },
  {
   "cell_type": "markdown",
   "source": "Great! We got quite a bit of transfer: the error rate dropped by a factor of 4.9!",
   "metadata": {
    "cell_id": "00095-61e26b76-b973-4825-b0f5-9d905ace9028",
    "deepnote_cell_type": "markdown",
    "deepnote_cell_height": 52.390625
   }
  },
  {
   "cell_type": "code",
   "metadata": {
    "cell_id": "00096-2bae5a4d-04ca-438c-9e26-423b2ef86994",
    "deepnote_to_be_reexecuted": false,
    "source_hash": "32551fb6",
    "execution_start": 1659355290854,
    "execution_millis": 43,
    "deepnote_cell_type": "code",
    "deepnote_cell_height": 113.1875,
    "deepnote_output_heights": [
     21.1875
    ]
   },
   "source": "(100 - 97.05) / (100 - 99.40)",
   "execution_count": null,
   "outputs": [
    {
     "output_type": "execute_result",
     "execution_count": 66,
     "data": {
      "text/plain": "4.916666666666718"
     },
     "metadata": {}
    }
   ]
  },
  {
   "cell_type": "markdown",
   "source": "# Faster Optimizers",
   "metadata": {
    "cell_id": "00097-616e0013-1a1a-439f-898e-fb46f2e60520",
    "deepnote_cell_type": "markdown",
    "deepnote_cell_height": 82
   }
  },
  {
   "cell_type": "markdown",
   "source": "## Momentum optimization",
   "metadata": {
    "cell_id": "00098-35b78e8b-fb3c-4232-9ce6-5edd25a0a13a",
    "deepnote_cell_type": "markdown",
    "deepnote_cell_height": 70
   }
  },
  {
   "cell_type": "code",
   "metadata": {
    "cell_id": "00099-6ce61cb7-18eb-465c-86a5-14b1a6168d63",
    "deepnote_to_be_reexecuted": false,
    "source_hash": "365c883a",
    "execution_start": 1659355290855,
    "execution_millis": 0,
    "deepnote_cell_type": "code",
    "deepnote_cell_height": 76
   },
   "source": "optimizer = keras.optimizers.SGD(learning_rate=0.001, momentum=0.9)",
   "execution_count": null,
   "outputs": []
  },
  {
   "cell_type": "markdown",
   "source": "## Nesterov Accelerated Gradient",
   "metadata": {
    "cell_id": "00100-37fe5f6b-271c-43ed-aec6-99a85abaa1a5",
    "deepnote_cell_type": "markdown",
    "deepnote_cell_height": 70
   }
  },
  {
   "cell_type": "code",
   "metadata": {
    "cell_id": "00101-1f34d88e-1068-4424-a46f-2c8021268a8a",
    "deepnote_to_be_reexecuted": false,
    "source_hash": "77ebd4c2",
    "execution_start": 1659355290856,
    "execution_millis": 1,
    "deepnote_cell_type": "code",
    "deepnote_cell_height": 76
   },
   "source": "optimizer = keras.optimizers.SGD(learning_rate=0.001, momentum=0.9, nesterov=True)",
   "execution_count": null,
   "outputs": []
  },
  {
   "cell_type": "markdown",
   "source": "## AdaGrad",
   "metadata": {
    "cell_id": "00102-cf004f78-b730-46c4-ac96-93a773b0c4a2",
    "deepnote_cell_type": "markdown",
    "deepnote_cell_height": 70
   }
  },
  {
   "cell_type": "code",
   "metadata": {
    "cell_id": "00103-c282d956-4d62-4bee-86b5-fa5643c64712",
    "deepnote_to_be_reexecuted": false,
    "source_hash": "62181912",
    "execution_start": 1659355290860,
    "execution_millis": 2,
    "deepnote_cell_type": "code",
    "deepnote_cell_height": 76
   },
   "source": "optimizer = keras.optimizers.Adagrad(learning_rate=0.001)",
   "execution_count": null,
   "outputs": []
  },
  {
   "cell_type": "markdown",
   "source": "## RMSProp",
   "metadata": {
    "cell_id": "00104-df3e469e-84ca-4006-a230-dc18d4fd06d5",
    "deepnote_cell_type": "markdown",
    "deepnote_cell_height": 70
   }
  },
  {
   "cell_type": "code",
   "metadata": {
    "cell_id": "00105-0823aa08-5989-46c4-9566-4ee0f101235a",
    "deepnote_to_be_reexecuted": false,
    "source_hash": "bec957f3",
    "execution_start": 1659355290889,
    "execution_millis": 0,
    "deepnote_cell_type": "code",
    "deepnote_cell_height": 76
   },
   "source": "optimizer = keras.optimizers.RMSprop(learning_rate=0.001, rho=0.9)",
   "execution_count": null,
   "outputs": []
  },
  {
   "cell_type": "markdown",
   "source": "## Adam Optimization",
   "metadata": {
    "cell_id": "00106-1ffe9d5c-762a-4ffc-9ff9-e00bd11f9721",
    "deepnote_cell_type": "markdown",
    "deepnote_cell_height": 70
   }
  },
  {
   "cell_type": "code",
   "metadata": {
    "cell_id": "00107-4b29499d-670a-4c8f-89d4-e1b7e96bb97f",
    "deepnote_to_be_reexecuted": false,
    "source_hash": "ee763982",
    "execution_start": 1659355290890,
    "deepnote_cell_type": "code",
    "deepnote_cell_height": 76
   },
   "source": "optimizer = keras.optimizers.Adam(learning_rate=0.001, beta_1=0.9, beta_2=0.999)",
   "execution_count": null,
   "outputs": []
  },
  {
   "cell_type": "markdown",
   "source": "## Adamax Optimization",
   "metadata": {
    "cell_id": "00108-8bb8b68f-2c4f-4515-b70f-fc4a801d418a",
    "deepnote_cell_type": "markdown",
    "deepnote_cell_height": 70
   }
  },
  {
   "cell_type": "code",
   "metadata": {
    "cell_id": "00109-9bcbfedc-c5c6-4137-ac62-bf95a27e3d66",
    "deepnote_to_be_reexecuted": false,
    "source_hash": "c0578b04",
    "execution_start": 1659355290891,
    "deepnote_cell_type": "code",
    "deepnote_cell_height": 76
   },
   "source": "optimizer = keras.optimizers.Adamax(learning_rate=0.001, beta_1=0.9, beta_2=0.999)",
   "execution_count": null,
   "outputs": []
  },
  {
   "cell_type": "markdown",
   "source": "## Nadam Optimization",
   "metadata": {
    "cell_id": "00110-b73058cc-d87e-4327-94b9-788458e41d56",
    "deepnote_cell_type": "markdown",
    "deepnote_cell_height": 70
   }
  },
  {
   "cell_type": "code",
   "metadata": {
    "cell_id": "00111-c4114d01-6305-4ced-907e-ee9dc8447b1a",
    "deepnote_to_be_reexecuted": false,
    "source_hash": "d92e086c",
    "execution_start": 1659355290893,
    "deepnote_cell_type": "code",
    "deepnote_cell_height": 76
   },
   "source": "optimizer = keras.optimizers.Nadam(learning_rate=0.001, beta_1=0.9, beta_2=0.999)",
   "execution_count": null,
   "outputs": []
  },
  {
   "cell_type": "markdown",
   "source": "## Learning Rate Scheduling",
   "metadata": {
    "cell_id": "00112-7670e5c1-acb5-4581-b4b5-511b5f1381b7",
    "deepnote_cell_type": "markdown",
    "deepnote_cell_height": 70
   }
  },
  {
   "cell_type": "markdown",
   "source": "### Power Scheduling",
   "metadata": {
    "cell_id": "00113-12b290f0-3d70-4cf3-a7b3-94ac65437dd1",
    "deepnote_cell_type": "markdown",
    "deepnote_cell_height": 62
   }
  },
  {
   "cell_type": "markdown",
   "source": "$$\\eta(t) = \\dfrac{\\eta_0}{\\left(1 + \\dfrac{t}{s}\\right)^c}$$\n\n* Keras uses $c=1$ and `s = 1 / decay`",
   "metadata": {
    "cell_id": "00114-6a27dd4a-0c94-486e-8458-2e3f15cb24ff",
    "deepnote_cell_type": "markdown",
    "deepnote_cell_height": 138.859375
   }
  },
  {
   "cell_type": "code",
   "metadata": {
    "cell_id": "00115-1f776f8f-6f34-43aa-9864-2070d71538df",
    "deepnote_to_be_reexecuted": false,
    "source_hash": "5fbabd3",
    "execution_start": 1659355290896,
    "deepnote_cell_type": "code",
    "deepnote_cell_height": 76
   },
   "source": "optimizer = keras.optimizers.SGD(learning_rate=0.01, decay=1e-4)",
   "execution_count": null,
   "outputs": []
  },
  {
   "cell_type": "code",
   "metadata": {
    "cell_id": "00116-2a1d7118-c9c9-4518-92ea-8b85348b1da5",
    "deepnote_to_be_reexecuted": false,
    "source_hash": "b2ffe852",
    "execution_start": 1659355290949,
    "execution_millis": 45,
    "deepnote_cell_type": "code",
    "deepnote_cell_height": 184
   },
   "source": "model = keras.models.Sequential([\n    keras.layers.Flatten(input_shape=[28, 28]),\n    keras.layers.Dense(300, activation=\"selu\", kernel_initializer=\"lecun_normal\"),\n    keras.layers.Dense(100, activation=\"selu\", kernel_initializer=\"lecun_normal\"),\n    keras.layers.Dense(10, activation=\"softmax\")\n])\nmodel.compile(loss=\"sparse_categorical_crossentropy\", optimizer=optimizer, metrics=[\"accuracy\"])",
   "execution_count": null,
   "outputs": []
  },
  {
   "cell_type": "code",
   "metadata": {
    "cell_id": "00117-07d97011-cece-48ca-909a-1cbf19aaa51a",
    "deepnote_to_be_reexecuted": false,
    "source_hash": "8938db83",
    "execution_start": 1659355290994,
    "execution_millis": 262527,
    "deepnote_cell_type": "code",
    "deepnote_cell_height": 732
   },
   "source": "n_epochs = 25\nhistory = model.fit(X_train_scaled, y_train, epochs=n_epochs,\n                    validation_data=(X_valid_scaled, y_valid))",
   "execution_count": null,
   "outputs": [
    {
     "name": "stdout",
     "text": "Epoch 1/25\n1719/1719 [==============================] - 10s 5ms/step - loss: 0.4898 - accuracy: 0.8265 - val_loss: 0.4063 - val_accuracy: 0.8610\nEpoch 2/25\n1719/1719 [==============================] - 13s 8ms/step - loss: 0.3793 - accuracy: 0.8652 - val_loss: 0.3731 - val_accuracy: 0.8718\nEpoch 3/25\n1719/1719 [==============================] - 10s 6ms/step - loss: 0.3467 - accuracy: 0.8777 - val_loss: 0.3745 - val_accuracy: 0.8722\nEpoch 4/25\n1719/1719 [==============================] - 7s 4ms/step - loss: 0.3258 - accuracy: 0.8847 - val_loss: 0.3511 - val_accuracy: 0.8786\nEpoch 5/25\n1719/1719 [==============================] - 7s 4ms/step - loss: 0.3107 - accuracy: 0.8896 - val_loss: 0.3448 - val_accuracy: 0.8786\nEpoch 6/25\n1719/1719 [==============================] - 8s 5ms/step - loss: 0.2972 - accuracy: 0.8939 - val_loss: 0.3417 - val_accuracy: 0.8844\nEpoch 7/25\n1719/1719 [==============================] - 13s 7ms/step - loss: 0.2871 - accuracy: 0.8980 - val_loss: 0.3379 - val_accuracy: 0.8826\nEpoch 8/25\n1719/1719 [==============================] - 6s 4ms/step - loss: 0.2779 - accuracy: 0.9011 - val_loss: 0.3421 - val_accuracy: 0.8798\nEpoch 9/25\n1719/1719 [==============================] - 6s 3ms/step - loss: 0.2698 - accuracy: 0.9030 - val_loss: 0.3290 - val_accuracy: 0.8848\nEpoch 10/25\n1719/1719 [==============================] - 16s 9ms/step - loss: 0.2624 - accuracy: 0.9059 - val_loss: 0.3283 - val_accuracy: 0.8862\nEpoch 11/25\n1719/1719 [==============================] - 10s 6ms/step - loss: 0.2564 - accuracy: 0.9091 - val_loss: 0.3265 - val_accuracy: 0.8878\nEpoch 12/25\n1719/1719 [==============================] - 7s 4ms/step - loss: 0.2504 - accuracy: 0.9111 - val_loss: 0.3338 - val_accuracy: 0.8802\nEpoch 13/25\n1719/1719 [==============================] - 7s 4ms/step - loss: 0.2448 - accuracy: 0.9133 - val_loss: 0.3247 - val_accuracy: 0.8898\nEpoch 14/25\n1719/1719 [==============================] - 7s 4ms/step - loss: 0.2407 - accuracy: 0.9143 - val_loss: 0.3289 - val_accuracy: 0.8864\nEpoch 15/25\n1719/1719 [==============================] - 7s 4ms/step - loss: 0.2354 - accuracy: 0.9165 - val_loss: 0.3233 - val_accuracy: 0.8880\nEpoch 16/25\n1719/1719 [==============================] - 8s 5ms/step - loss: 0.2314 - accuracy: 0.9184 - val_loss: 0.3209 - val_accuracy: 0.8912\nEpoch 17/25\n1719/1719 [==============================] - 7s 4ms/step - loss: 0.2276 - accuracy: 0.9187 - val_loss: 0.3248 - val_accuracy: 0.8892\nEpoch 18/25\n1719/1719 [==============================] - 7s 4ms/step - loss: 0.2235 - accuracy: 0.9215 - val_loss: 0.3195 - val_accuracy: 0.8912\nEpoch 19/25\n1719/1719 [==============================] - 7s 4ms/step - loss: 0.2202 - accuracy: 0.9227 - val_loss: 0.3232 - val_accuracy: 0.8904\nEpoch 20/25\n1719/1719 [==============================] - 7s 4ms/step - loss: 0.2169 - accuracy: 0.9238 - val_loss: 0.3207 - val_accuracy: 0.8898\nEpoch 21/25\n1719/1719 [==============================] - 6s 4ms/step - loss: 0.2133 - accuracy: 0.9255 - val_loss: 0.3204 - val_accuracy: 0.8888\nEpoch 22/25\n1719/1719 [==============================] - 6s 4ms/step - loss: 0.2107 - accuracy: 0.9267 - val_loss: 0.3187 - val_accuracy: 0.8882\nEpoch 23/25\n1719/1719 [==============================] - 7s 4ms/step - loss: 0.2078 - accuracy: 0.9272 - val_loss: 0.3207 - val_accuracy: 0.8912\nEpoch 24/25\n1719/1719 [==============================] - 7s 4ms/step - loss: 0.2050 - accuracy: 0.9291 - val_loss: 0.3208 - val_accuracy: 0.8898\nEpoch 25/25\n1719/1719 [==============================] - 6s 4ms/step - loss: 0.2027 - accuracy: 0.9288 - val_loss: 0.3201 - val_accuracy: 0.8896\n",
     "output_type": "stream"
    }
   ]
  },
  {
   "cell_type": "code",
   "metadata": {
    "cell_id": "00118-4affc36f-e71f-44ca-9217-8890d0e57886",
    "deepnote_to_be_reexecuted": false,
    "source_hash": "87c5cfc9",
    "execution_start": 1659355553522,
    "execution_millis": 155,
    "deepnote_cell_type": "code",
    "deepnote_cell_height": 650,
    "deepnote_output_heights": [
     288
    ]
   },
   "source": "import math\n\nlearning_rate = 0.01\ndecay = 1e-4\nbatch_size = 32\nn_steps_per_epoch = math.ceil(len(X_train) / batch_size)\nepochs = np.arange(n_epochs)\nlrs = learning_rate / (1 + decay * epochs * n_steps_per_epoch)\n\nplt.plot(epochs, lrs,  \"o-\")\nplt.axis([0, n_epochs - 1, 0, 0.01])\nplt.xlabel(\"Epoch\")\nplt.ylabel(\"Learning Rate\")\nplt.title(\"Power Scheduling\", fontsize=14)\nplt.grid(True)\nplt.show()",
   "execution_count": null,
   "outputs": [
    {
     "data": {
      "text/plain": "<Figure size 432x288 with 1 Axes>",
      "image/png": "[encoded data removed]"
     },
     "metadata": {
      "needs_background": "light",
      "image/png": {
       "width": 408,
       "height": 286
      }
     },
     "output_type": "display_data"
    }
   ]
  },
  {
   "cell_type": "markdown",
   "source": "### Exponential Scheduling",
   "metadata": {
    "cell_id": "00119-7cc265b7-056d-4814-8f16-e9942c1cf120",
    "deepnote_cell_type": "markdown",
    "deepnote_cell_height": 62
   }
  },
  {
   "cell_type": "markdown",
   "source": "$$\\eta(t) = \\eta_0\\cdot 0.1^{t/s}$$",
   "metadata": {
    "cell_id": "00120-803ed7bd-d6a4-4d7c-b15f-5b0f2ad7f921",
    "deepnote_cell_type": "markdown",
    "deepnote_cell_height": 52.390625
   }
  },
  {
   "cell_type": "code",
   "metadata": {
    "cell_id": "00121-80fd0403-cc1e-461e-a88f-07c479d5150b",
    "deepnote_to_be_reexecuted": false,
    "source_hash": "81a4b745",
    "execution_start": 1659355553676,
    "execution_millis": 5,
    "deepnote_cell_type": "code",
    "deepnote_cell_height": 94
   },
   "source": "def exponential_decay_fn(epoch):\n    return 0.01 * 0.1**(epoch / 20)",
   "execution_count": null,
   "outputs": []
  },
  {
   "cell_type": "code",
   "metadata": {
    "cell_id": "00122-75764e0a-bc49-446b-804a-d3bcb8fd8ac4",
    "deepnote_to_be_reexecuted": false,
    "source_hash": "ef6689e6",
    "execution_start": 1659355553694,
    "execution_millis": 2,
    "deepnote_cell_type": "code",
    "deepnote_cell_height": 166
   },
   "source": "def exponential_decay(lr0, s):\n    def exponential_decay_fn(epoch):\n        return lr0 * 0.1**(epoch / s)\n    return exponential_decay_fn\n\nexponential_decay_fn = exponential_decay(lr0=0.01, s=20)",
   "execution_count": null,
   "outputs": []
  },
  {
   "cell_type": "code",
   "metadata": {
    "cell_id": "00123-d4ba7365-92a8-4d5c-bcf4-8cdaad46580f",
    "deepnote_to_be_reexecuted": false,
    "source_hash": "bd3b96e6",
    "execution_start": 1659355553705,
    "execution_millis": 58,
    "deepnote_cell_type": "code",
    "deepnote_cell_height": 202
   },
   "source": "model = keras.models.Sequential([\n    keras.layers.Flatten(input_shape=[28, 28]),\n    keras.layers.Dense(300, activation=\"selu\", kernel_initializer=\"lecun_normal\"),\n    keras.layers.Dense(100, activation=\"selu\", kernel_initializer=\"lecun_normal\"),\n    keras.layers.Dense(10, activation=\"softmax\")\n])\nmodel.compile(loss=\"sparse_categorical_crossentropy\", optimizer=\"nadam\", metrics=[\"accuracy\"])\nn_epochs = 25",
   "execution_count": null,
   "outputs": []
  },
  {
   "cell_type": "code",
   "metadata": {
    "cell_id": "00124-aa4de55a-e06d-4040-9b10-8741337c2033",
    "deepnote_to_be_reexecuted": false,
    "source_hash": "693d6a82",
    "execution_start": 1659355553763,
    "execution_millis": 322753,
    "deepnote_cell_type": "code",
    "deepnote_cell_height": 750
   },
   "source": "lr_scheduler = keras.callbacks.LearningRateScheduler(exponential_decay_fn)\nhistory = model.fit(X_train_scaled, y_train, epochs=n_epochs,\n                    validation_data=(X_valid_scaled, y_valid),\n                    callbacks=[lr_scheduler])",
   "execution_count": null,
   "outputs": [
    {
     "name": "stdout",
     "text": "Epoch 1/25\n1719/1719 [==============================] - 11s 6ms/step - loss: 0.8520 - accuracy: 0.7539 - val_loss: 1.0364 - val_accuracy: 0.7288 - lr: 0.0100\nEpoch 2/25\n1719/1719 [==============================] - 10s 6ms/step - loss: 0.6711 - accuracy: 0.7997 - val_loss: 0.8246 - val_accuracy: 0.8082 - lr: 0.0089\nEpoch 3/25\n1719/1719 [==============================] - 11s 6ms/step - loss: 0.5753 - accuracy: 0.8206 - val_loss: 0.6832 - val_accuracy: 0.8062 - lr: 0.0079\nEpoch 4/25\n1719/1719 [==============================] - 11s 6ms/step - loss: 0.5655 - accuracy: 0.8287 - val_loss: 0.5217 - val_accuracy: 0.8330 - lr: 0.0071\nEpoch 5/25\n1719/1719 [==============================] - 11s 7ms/step - loss: 0.4831 - accuracy: 0.8490 - val_loss: 0.5566 - val_accuracy: 0.8558 - lr: 0.0063\nEpoch 6/25\n1719/1719 [==============================] - 10s 6ms/step - loss: 0.4433 - accuracy: 0.8590 - val_loss: 0.5107 - val_accuracy: 0.8522 - lr: 0.0056\nEpoch 7/25\n1719/1719 [==============================] - 10s 6ms/step - loss: 0.4101 - accuracy: 0.8672 - val_loss: 0.5292 - val_accuracy: 0.8572 - lr: 0.0050\nEpoch 8/25\n1719/1719 [==============================] - 10s 6ms/step - loss: 0.3819 - accuracy: 0.8757 - val_loss: 0.5385 - val_accuracy: 0.8370 - lr: 0.0045\nEpoch 9/25\n1719/1719 [==============================] - 11s 6ms/step - loss: 0.3510 - accuracy: 0.8841 - val_loss: 0.5049 - val_accuracy: 0.8662 - lr: 0.0040\nEpoch 10/25\n1719/1719 [==============================] - 11s 6ms/step - loss: 0.3212 - accuracy: 0.8912 - val_loss: 0.4730 - val_accuracy: 0.8798 - lr: 0.0035\nEpoch 11/25\n1719/1719 [==============================] - 12s 7ms/step - loss: 0.2946 - accuracy: 0.8993 - val_loss: 0.4756 - val_accuracy: 0.8760 - lr: 0.0032\nEpoch 12/25\n1719/1719 [==============================] - 11s 7ms/step - loss: 0.2777 - accuracy: 0.9052 - val_loss: 0.4832 - val_accuracy: 0.8732 - lr: 0.0028\nEpoch 13/25\n1719/1719 [==============================] - 10s 6ms/step - loss: 0.2606 - accuracy: 0.9109 - val_loss: 0.5483 - val_accuracy: 0.8732 - lr: 0.0025\nEpoch 14/25\n1719/1719 [==============================] - 10s 6ms/step - loss: 0.2423 - accuracy: 0.9168 - val_loss: 0.4700 - val_accuracy: 0.8766 - lr: 0.0022\nEpoch 15/25\n1719/1719 [==============================] - 13s 7ms/step - loss: 0.2214 - accuracy: 0.9228 - val_loss: 0.4602 - val_accuracy: 0.8804 - lr: 0.0020\nEpoch 16/25\n1719/1719 [==============================] - 12s 7ms/step - loss: 0.2116 - accuracy: 0.9272 - val_loss: 0.4991 - val_accuracy: 0.8844 - lr: 0.0018\nEpoch 17/25\n1719/1719 [==============================] - 11s 6ms/step - loss: 0.1886 - accuracy: 0.9338 - val_loss: 0.5062 - val_accuracy: 0.8808 - lr: 0.0016\nEpoch 18/25\n1719/1719 [==============================] - 10s 6ms/step - loss: 0.1731 - accuracy: 0.9394 - val_loss: 0.4961 - val_accuracy: 0.8828 - lr: 0.0014\nEpoch 19/25\n1719/1719 [==============================] - 11s 6ms/step - loss: 0.1647 - accuracy: 0.9439 - val_loss: 0.5205 - val_accuracy: 0.8894 - lr: 0.0013\nEpoch 20/25\n1719/1719 [==============================] - 12s 7ms/step - loss: 0.1497 - accuracy: 0.9496 - val_loss: 0.5282 - val_accuracy: 0.8898 - lr: 0.0011\nEpoch 21/25\n1719/1719 [==============================] - 11s 6ms/step - loss: 0.1388 - accuracy: 0.9530 - val_loss: 0.5830 - val_accuracy: 0.8848 - lr: 0.0010\nEpoch 22/25\n1719/1719 [==============================] - 10s 6ms/step - loss: 0.1287 - accuracy: 0.9571 - val_loss: 0.5445 - val_accuracy: 0.8904 - lr: 8.9125e-04\nEpoch 23/25\n1719/1719 [==============================] - 10s 6ms/step - loss: 0.1192 - accuracy: 0.9610 - val_loss: 0.5927 - val_accuracy: 0.8904 - lr: 7.9433e-04\nEpoch 24/25\n1719/1719 [==============================] - 10s 6ms/step - loss: 0.1110 - accuracy: 0.9633 - val_loss: 0.6210 - val_accuracy: 0.8920 - lr: 7.0795e-04\nEpoch 25/25\n1719/1719 [==============================] - 11s 6ms/step - loss: 0.1037 - accuracy: 0.9658 - val_loss: 0.6488 - val_accuracy: 0.8898 - lr: 6.3096e-04\n",
     "output_type": "stream"
    }
   ]
  },
  {
   "cell_type": "code",
   "metadata": {
    "cell_id": "00125-c29ff8ed-1c7f-4bb6-abbb-3930d09b2bc8",
    "deepnote_to_be_reexecuted": false,
    "source_hash": "e355338a",
    "execution_start": 1659355876528,
    "execution_millis": 526,
    "deepnote_cell_type": "code",
    "deepnote_cell_height": 488,
    "deepnote_output_heights": [
     288
    ]
   },
   "source": "plt.plot(history.epoch, history.history[\"lr\"], \"o-\")\nplt.axis([0, n_epochs - 1, 0, 0.011])\nplt.xlabel(\"Epoch\")\nplt.ylabel(\"Learning Rate\")\nplt.title(\"Exponential Scheduling\", fontsize=14)\nplt.grid(True)\nplt.show()",
   "execution_count": null,
   "outputs": [
    {
     "data": {
      "text/plain": "<Figure size 432x288 with 1 Axes>",
      "image/png": "[encoded data removed]"
     },
     "metadata": {
      "needs_background": "light",
      "image/png": {
       "width": 408,
       "height": 286
      }
     },
     "output_type": "display_data"
    }
   ]
  },
  {
   "cell_type": "markdown",
   "source": "The schedule function can take the current learning rate as a second argument:",
   "metadata": {
    "cell_id": "00126-e5e71192-defd-4795-9673-299662a5ea3a",
    "deepnote_cell_type": "markdown",
    "deepnote_cell_height": 52.390625
   }
  },
  {
   "cell_type": "code",
   "metadata": {
    "cell_id": "00127-d6ee56b0-b69d-467a-a8ba-e518b5f1c1d8",
    "deepnote_to_be_reexecuted": false,
    "source_hash": "20a0eb85",
    "execution_start": 1659355876803,
    "execution_millis": 4,
    "deepnote_cell_type": "code",
    "deepnote_cell_height": 94
   },
   "source": "def exponential_decay_fn(epoch, lr):\n    return lr * 0.1**(1 / 20)",
   "execution_count": null,
   "outputs": []
  },
  {
   "cell_type": "markdown",
   "source": "If you want to update the learning rate at each iteration rather than at each epoch, you must write your own callback class:",
   "metadata": {
    "cell_id": "00128-be51a48a-6c92-425a-8526-83abbd3b540b",
    "deepnote_cell_type": "markdown",
    "deepnote_cell_height": 52.390625
   }
  },
  {
   "cell_type": "code",
   "metadata": {
    "cell_id": "00129-310e7671-5ba6-46aa-9027-d472c6675a28",
    "deepnote_to_be_reexecuted": false,
    "source_hash": "aefa5bdf",
    "execution_start": 1659355876818,
    "execution_millis": 323499,
    "deepnote_cell_type": "code",
    "deepnote_cell_height": 1254
   },
   "source": "K = keras.backend\n\nclass ExponentialDecay(keras.callbacks.Callback):\n    def __init__(self, s=40000):\n        super().__init__()\n        self.s = s\n\n    def on_batch_begin(self, batch, logs=None):\n        # Note: the `batch` argument is reset at each epoch\n        lr = K.get_value(self.model.optimizer.learning_rate)\n        K.set_value(self.model.optimizer.learning_rate, lr * 0.1**(1 / self.s))\n\n    def on_epoch_end(self, epoch, logs=None):\n        logs = logs or {}\n        logs['lr'] = K.get_value(self.model.optimizer.learning_rate)\n\nmodel = keras.models.Sequential([\n    keras.layers.Flatten(input_shape=[28, 28]),\n    keras.layers.Dense(300, activation=\"selu\", kernel_initializer=\"lecun_normal\"),\n    keras.layers.Dense(100, activation=\"selu\", kernel_initializer=\"lecun_normal\"),\n    keras.layers.Dense(10, activation=\"softmax\")\n])\nlr0 = 0.01\noptimizer = keras.optimizers.Nadam(learning_rate=lr0)\nmodel.compile(loss=\"sparse_categorical_crossentropy\", optimizer=optimizer, metrics=[\"accuracy\"])\nn_epochs = 25\n\ns = 20 * len(X_train) // 32 # number of steps in 20 epochs (batch size = 32)\nexp_decay = ExponentialDecay(s)\nhistory = model.fit(X_train_scaled, y_train, epochs=n_epochs,\n                    validation_data=(X_valid_scaled, y_valid),\n                    callbacks=[exp_decay])",
   "execution_count": null,
   "outputs": [
    {
     "name": "stdout",
     "text": "Epoch 1/25\n1719/1719 [==============================] - 12s 7ms/step - loss: 0.7677 - accuracy: 0.7725 - val_loss: 0.8305 - val_accuracy: 0.7626 - lr: 0.0089\nEpoch 2/25\n1719/1719 [==============================] - 11s 7ms/step - loss: 0.6341 - accuracy: 0.8052 - val_loss: 0.5845 - val_accuracy: 0.8136 - lr: 0.0079\nEpoch 3/25\n1719/1719 [==============================] - 11s 6ms/step - loss: 0.5647 - accuracy: 0.8243 - val_loss: 0.5743 - val_accuracy: 0.8236 - lr: 0.0071\nEpoch 4/25\n1719/1719 [==============================] - 10s 6ms/step - loss: 0.5512 - accuracy: 0.8310 - val_loss: 0.5167 - val_accuracy: 0.8176 - lr: 0.0063\nEpoch 5/25\n1719/1719 [==============================] - 12s 7ms/step - loss: 0.4752 - accuracy: 0.8497 - val_loss: 0.5107 - val_accuracy: 0.8642 - lr: 0.0056\nEpoch 6/25\n1719/1719 [==============================] - 19s 11ms/step - loss: 0.4148 - accuracy: 0.8681 - val_loss: 0.4661 - val_accuracy: 0.8658 - lr: 0.0050\nEpoch 7/25\n1719/1719 [==============================] - 11s 6ms/step - loss: 0.3942 - accuracy: 0.8740 - val_loss: 0.4503 - val_accuracy: 0.8648 - lr: 0.0045\nEpoch 8/25\n1719/1719 [==============================] - 12s 7ms/step - loss: 0.3642 - accuracy: 0.8812 - val_loss: 0.4791 - val_accuracy: 0.8554 - lr: 0.0040\nEpoch 9/25\n1719/1719 [==============================] - 11s 6ms/step - loss: 0.3252 - accuracy: 0.8904 - val_loss: 0.4403 - val_accuracy: 0.8672 - lr: 0.0035\nEpoch 10/25\n1719/1719 [==============================] - 11s 7ms/step - loss: 0.3168 - accuracy: 0.8959 - val_loss: 0.4257 - val_accuracy: 0.8848 - lr: 0.0032\nEpoch 11/25\n1719/1719 [==============================] - 11s 6ms/step - loss: 0.2874 - accuracy: 0.9029 - val_loss: 0.4471 - val_accuracy: 0.8708 - lr: 0.0028\nEpoch 12/25\n1719/1719 [==============================] - 12s 7ms/step - loss: 0.2674 - accuracy: 0.9093 - val_loss: 0.4681 - val_accuracy: 0.8654 - lr: 0.0025\nEpoch 13/25\n1719/1719 [==============================] - 10s 6ms/step - loss: 0.2503 - accuracy: 0.9139 - val_loss: 0.4463 - val_accuracy: 0.8764 - lr: 0.0022\nEpoch 14/25\n1719/1719 [==============================] - 12s 7ms/step - loss: 0.2343 - accuracy: 0.9205 - val_loss: 0.4423 - val_accuracy: 0.8812 - lr: 0.0020\nEpoch 15/25\n1719/1719 [==============================] - 11s 6ms/step - loss: 0.2135 - accuracy: 0.9277 - val_loss: 0.4445 - val_accuracy: 0.8846 - lr: 0.0018\nEpoch 16/25\n1719/1719 [==============================] - 11s 6ms/step - loss: 0.1977 - accuracy: 0.9318 - val_loss: 0.4533 - val_accuracy: 0.8862 - lr: 0.0016\nEpoch 17/25\n1719/1719 [==============================] - 12s 7ms/step - loss: 0.1854 - accuracy: 0.9359 - val_loss: 0.4733 - val_accuracy: 0.8810 - lr: 0.0014\nEpoch 18/25\n1719/1719 [==============================] - 10s 6ms/step - loss: 0.1697 - accuracy: 0.9421 - val_loss: 0.4940 - val_accuracy: 0.8860 - lr: 0.0013\nEpoch 19/25\n1719/1719 [==============================] - 12s 7ms/step - loss: 0.1600 - accuracy: 0.9451 - val_loss: 0.4916 - val_accuracy: 0.8872 - lr: 0.0011\nEpoch 20/25\n1719/1719 [==============================] - 11s 6ms/step - loss: 0.1455 - accuracy: 0.9511 - val_loss: 0.5125 - val_accuracy: 0.8856 - lr: 9.9967e-04\nEpoch 21/25\n1719/1719 [==============================] - 12s 7ms/step - loss: 0.1386 - accuracy: 0.9541 - val_loss: 0.5435 - val_accuracy: 0.8878 - lr: 8.9094e-04\nEpoch 22/25\n1719/1719 [==============================] - 11s 6ms/step - loss: 0.1295 - accuracy: 0.9565 - val_loss: 0.5668 - val_accuracy: 0.8912 - lr: 7.9404e-04\nEpoch 23/25\n1719/1719 [==============================] - 11s 6ms/step - loss: 0.1203 - accuracy: 0.9611 - val_loss: 0.5791 - val_accuracy: 0.8878 - lr: 7.0767e-04\nEpoch 24/25\n1719/1719 [==============================] - 12s 7ms/step - loss: 0.1137 - accuracy: 0.9636 - val_loss: 0.6111 - val_accuracy: 0.8886 - lr: 6.3071e-04\nEpoch 25/25\n1719/1719 [==============================] - 11s 6ms/step - loss: 0.1077 - accuracy: 0.9653 - val_loss: 0.6072 - val_accuracy: 0.8862 - lr: 5.6211e-04\n",
     "output_type": "stream"
    }
   ]
  },
  {
   "cell_type": "code",
   "metadata": {
    "cell_id": "00130-ede552c8-7349-4776-8be3-a1a85702aa80",
    "deepnote_to_be_reexecuted": false,
    "source_hash": "625beef",
    "execution_start": 1659356200358,
    "execution_millis": 1,
    "deepnote_cell_type": "code",
    "deepnote_cell_height": 112
   },
   "source": "n_steps = n_epochs * len(X_train) // 32\nsteps = np.arange(n_steps)\nlrs = lr0 * 0.1**(steps / s)",
   "execution_count": null,
   "outputs": []
  },
  {
   "cell_type": "code",
   "metadata": {
    "scrolled": true,
    "cell_id": "00131-13cbbd99-183f-4ed8-ba39-e99b49ce8879",
    "deepnote_to_be_reexecuted": false,
    "source_hash": "e9610a53",
    "execution_start": 1659356200359,
    "execution_millis": 196,
    "deepnote_cell_type": "code",
    "deepnote_cell_height": 488,
    "deepnote_output_heights": [
     288
    ]
   },
   "source": "plt.plot(steps, lrs, \"-\", linewidth=2)\nplt.axis([0, n_steps - 1, 0, lr0 * 1.1])\nplt.xlabel(\"Batch\")\nplt.ylabel(\"Learning Rate\")\nplt.title(\"Exponential Scheduling (per batch)\", fontsize=14)\nplt.grid(True)\nplt.show()",
   "execution_count": null,
   "outputs": [
    {
     "data": {
      "text/plain": "<Figure size 432x288 with 1 Axes>",
      "image/png": "[encoded data removed]"
     },
     "metadata": {
      "needs_background": "light",
      "image/png": {
       "width": 408,
       "height": 286
      }
     },
     "output_type": "display_data"
    }
   ]
  },
  {
   "cell_type": "markdown",
   "source": "### Piecewise Constant Scheduling",
   "metadata": {
    "cell_id": "00132-914ecd17-d01d-491d-8082-eefb01db9c25",
    "deepnote_cell_type": "markdown",
    "deepnote_cell_height": 62
   }
  },
  {
   "cell_type": "code",
   "metadata": {
    "cell_id": "00133-f8eefa8c-b624-4829-8f1e-02350392550f",
    "deepnote_to_be_reexecuted": false,
    "source_hash": "55a749aa",
    "execution_start": 1659356200558,
    "execution_millis": 4,
    "deepnote_cell_type": "code",
    "deepnote_cell_height": 184
   },
   "source": "def piecewise_constant_fn(epoch):\n    if epoch < 5:\n        return 0.01\n    elif epoch < 15:\n        return 0.005\n    else:\n        return 0.001",
   "execution_count": null,
   "outputs": []
  },
  {
   "cell_type": "code",
   "metadata": {
    "cell_id": "00134-dafa4aa8-feff-4767-9de5-b627eac34bc3",
    "deepnote_to_be_reexecuted": false,
    "source_hash": "9566e95e",
    "execution_start": 1659356200566,
    "execution_millis": 14,
    "deepnote_cell_type": "code",
    "deepnote_cell_height": 202
   },
   "source": "def piecewise_constant(boundaries, values):\n    boundaries = np.array([0] + boundaries)\n    values = np.array(values)\n    def piecewise_constant_fn(epoch):\n        return values[np.argmax(boundaries > epoch) - 1]\n    return piecewise_constant_fn\n\npiecewise_constant_fn = piecewise_constant([5, 15], [0.01, 0.005, 0.001])",
   "execution_count": null,
   "outputs": []
  },
  {
   "cell_type": "code",
   "metadata": {
    "cell_id": "00135-24f4a160-f44e-4ea2-a737-95c04020bee4",
    "deepnote_to_be_reexecuted": false,
    "source_hash": "5102065b",
    "execution_start": 1659356200581,
    "execution_millis": 264683,
    "deepnote_cell_type": "code",
    "deepnote_cell_height": 912
   },
   "source": "lr_scheduler = keras.callbacks.LearningRateScheduler(piecewise_constant_fn)\n\nmodel = keras.models.Sequential([\n    keras.layers.Flatten(input_shape=[28, 28]),\n    keras.layers.Dense(300, activation=\"selu\", kernel_initializer=\"lecun_normal\"),\n    keras.layers.Dense(100, activation=\"selu\", kernel_initializer=\"lecun_normal\"),\n    keras.layers.Dense(10, activation=\"softmax\")\n])\nmodel.compile(loss=\"sparse_categorical_crossentropy\", optimizer=\"nadam\", metrics=[\"accuracy\"])\nn_epochs = 25\nhistory = model.fit(X_train_scaled, y_train, epochs=n_epochs,\n                    validation_data=(X_valid_scaled, y_valid),\n                    callbacks=[lr_scheduler])",
   "execution_count": null,
   "outputs": [
    {
     "name": "stdout",
     "text": "Epoch 1/25\n1719/1719 [==============================] - 12s 7ms/step - loss: 0.8439 - accuracy: 0.7565 - val_loss: 0.8615 - val_accuracy: 0.7550 - lr: 0.0100\nEpoch 2/25\n1719/1719 [==============================] - 10s 6ms/step - loss: 0.8937 - accuracy: 0.7437 - val_loss: 0.7484 - val_accuracy: 0.7432 - lr: 0.0100\nEpoch 3/25\n1719/1719 [==============================] - 11s 6ms/step - loss: 1.0008 - accuracy: 0.6805 - val_loss: 1.5534 - val_accuracy: 0.6090 - lr: 0.0100\nEpoch 4/25\n1719/1719 [==============================] - 10s 6ms/step - loss: 1.1070 - accuracy: 0.6275 - val_loss: 1.3036 - val_accuracy: 0.5442 - lr: 0.0100\nEpoch 5/25\n1719/1719 [==============================] - 11s 6ms/step - loss: 1.2505 - accuracy: 0.5916 - val_loss: 1.5156 - val_accuracy: 0.5850 - lr: 0.0100\nEpoch 6/25\n1719/1719 [==============================] - 11s 6ms/step - loss: 0.8833 - accuracy: 0.6522 - val_loss: 0.9401 - val_accuracy: 0.6704 - lr: 0.0050\nEpoch 7/25\n1719/1719 [==============================] - 10s 6ms/step - loss: 0.8377 - accuracy: 0.6655 - val_loss: 0.9060 - val_accuracy: 0.6448 - lr: 0.0050\nEpoch 8/25\n1719/1719 [==============================] - 10s 6ms/step - loss: 0.8336 - accuracy: 0.6704 - val_loss: 0.9199 - val_accuracy: 0.6464 - lr: 0.0050\nEpoch 9/25\n1719/1719 [==============================] - 13s 8ms/step - loss: 0.7837 - accuracy: 0.6826 - val_loss: 0.9033 - val_accuracy: 0.6924 - lr: 0.0050\nEpoch 10/25\n1719/1719 [==============================] - 11s 6ms/step - loss: 0.7817 - accuracy: 0.6880 - val_loss: 0.8809 - val_accuracy: 0.6804 - lr: 0.0050\nEpoch 11/25\n1719/1719 [==============================] - 11s 6ms/step - loss: 0.7552 - accuracy: 0.7056 - val_loss: 0.9051 - val_accuracy: 0.6660 - lr: 0.0050\nEpoch 12/25\n1719/1719 [==============================] - 10s 6ms/step - loss: 0.6739 - accuracy: 0.7580 - val_loss: 0.7328 - val_accuracy: 0.7398 - lr: 0.0050\nEpoch 13/25\n1719/1719 [==============================] - 10s 6ms/step - loss: 0.6415 - accuracy: 0.7691 - val_loss: 0.8016 - val_accuracy: 0.7512 - lr: 0.0050\nEpoch 14/25\n1719/1719 [==============================] - 12s 7ms/step - loss: 0.6325 - accuracy: 0.7723 - val_loss: 0.6973 - val_accuracy: 0.7740 - lr: 0.0050\nEpoch 15/25\n1719/1719 [==============================] - 10s 6ms/step - loss: 0.6207 - accuracy: 0.7734 - val_loss: 0.7593 - val_accuracy: 0.7408 - lr: 0.0050\nEpoch 16/25\n1719/1719 [==============================] - 13s 7ms/step - loss: 0.4887 - accuracy: 0.8002 - val_loss: 0.6222 - val_accuracy: 0.7988 - lr: 0.0010\nEpoch 17/25\n1719/1719 [==============================] - 10s 6ms/step - loss: 0.4628 - accuracy: 0.8117 - val_loss: 0.6270 - val_accuracy: 0.8148 - lr: 0.0010\nEpoch 18/25\n1719/1719 [==============================] - 10s 6ms/step - loss: 0.4006 - accuracy: 0.8731 - val_loss: 0.5410 - val_accuracy: 0.8582 - lr: 0.0010\nEpoch 19/25\n1719/1719 [==============================] - 11s 6ms/step - loss: 0.3616 - accuracy: 0.8901 - val_loss: 0.5355 - val_accuracy: 0.8660 - lr: 0.0010\nEpoch 20/25\n1719/1719 [==============================] - 10s 6ms/step - loss: 0.3398 - accuracy: 0.8953 - val_loss: 0.5233 - val_accuracy: 0.8642 - lr: 0.0010\nEpoch 21/25\n1719/1719 [==============================] - 10s 6ms/step - loss: 0.3255 - accuracy: 0.8993 - val_loss: 0.5222 - val_accuracy: 0.8660 - lr: 0.0010\nEpoch 22/25\n1719/1719 [==============================] - 10s 6ms/step - loss: 0.3122 - accuracy: 0.9020 - val_loss: 0.5673 - val_accuracy: 0.8658 - lr: 0.0010\nEpoch 23/25\n1719/1719 [==============================] - 11s 6ms/step - loss: 0.3026 - accuracy: 0.9058 - val_loss: 0.5498 - val_accuracy: 0.8594 - lr: 0.0010\nEpoch 24/25\n1719/1719 [==============================] - 10s 6ms/step - loss: 0.2939 - accuracy: 0.9080 - val_loss: 0.5635 - val_accuracy: 0.8682 - lr: 0.0010\nEpoch 25/25\n1719/1719 [==============================] - 10s 6ms/step - loss: 0.2836 - accuracy: 0.9110 - val_loss: 0.5557 - val_accuracy: 0.8692 - lr: 0.0010\n",
     "output_type": "stream"
    }
   ]
  },
  {
   "cell_type": "code",
   "metadata": {
    "cell_id": "00136-3e4efb6e-b566-4358-a920-04eefcb8244a",
    "deepnote_to_be_reexecuted": false,
    "source_hash": "791158ff",
    "execution_start": 1659356465271,
    "execution_millis": 171,
    "deepnote_cell_type": "code",
    "deepnote_cell_height": 488,
    "deepnote_output_heights": [
     288
    ]
   },
   "source": "plt.plot(history.epoch, [piecewise_constant_fn(epoch) for epoch in history.epoch], \"o-\")\nplt.axis([0, n_epochs - 1, 0, 0.011])\nplt.xlabel(\"Epoch\")\nplt.ylabel(\"Learning Rate\")\nplt.title(\"Piecewise Constant Scheduling\", fontsize=14)\nplt.grid(True)\nplt.show()",
   "execution_count": null,
   "outputs": [
    {
     "data": {
      "text/plain": "<Figure size 432x288 with 1 Axes>",
      "image/png": "[encoded data removed]"
     },
     "metadata": {
      "needs_background": "light",
      "image/png": {
       "width": 408,
       "height": 286
      }
     },
     "output_type": "display_data"
    }
   ]
  },
  {
   "cell_type": "markdown",
   "source": "### Performance Scheduling",
   "metadata": {
    "cell_id": "00137-44633281-8c58-4822-8071-aceac8ca2479",
    "deepnote_cell_type": "markdown",
    "deepnote_cell_height": 62
   }
  },
  {
   "cell_type": "code",
   "metadata": {
    "cell_id": "00138-70369719-1775-4d5f-80dc-6f8dd82d6939",
    "deepnote_to_be_reexecuted": false,
    "source_hash": "d690901b",
    "execution_start": 1659356465466,
    "execution_millis": 1,
    "deepnote_cell_type": "code",
    "deepnote_cell_height": 94
   },
   "source": "tf.random.set_seed(42)\nnp.random.seed(42)",
   "execution_count": null,
   "outputs": []
  },
  {
   "cell_type": "code",
   "metadata": {
    "cell_id": "00139-89807479-4c90-48d8-b0e4-ee6f42c236aa",
    "deepnote_to_be_reexecuted": false,
    "source_hash": "4a5895e4",
    "execution_start": 1659356465478,
    "execution_millis": 172746,
    "deepnote_cell_type": "code",
    "deepnote_cell_height": 930
   },
   "source": "lr_scheduler = keras.callbacks.ReduceLROnPlateau(factor=0.5, patience=5)\n\nmodel = keras.models.Sequential([\n    keras.layers.Flatten(input_shape=[28, 28]),\n    keras.layers.Dense(300, activation=\"selu\", kernel_initializer=\"lecun_normal\"),\n    keras.layers.Dense(100, activation=\"selu\", kernel_initializer=\"lecun_normal\"),\n    keras.layers.Dense(10, activation=\"softmax\")\n])\noptimizer = keras.optimizers.SGD(learning_rate=0.02, momentum=0.9)\nmodel.compile(loss=\"sparse_categorical_crossentropy\", optimizer=optimizer, metrics=[\"accuracy\"])\nn_epochs = 25\nhistory = model.fit(X_train_scaled, y_train, epochs=n_epochs,\n                    validation_data=(X_valid_scaled, y_valid),\n                    callbacks=[lr_scheduler])",
   "execution_count": null,
   "outputs": [
    {
     "name": "stdout",
     "text": "Epoch 1/25\n1719/1719 [==============================] - 7s 4ms/step - loss: 0.5904 - accuracy: 0.8058 - val_loss: 0.4759 - val_accuracy: 0.8480 - lr: 0.0200\nEpoch 2/25\n1719/1719 [==============================] - 7s 4ms/step - loss: 0.4946 - accuracy: 0.8404 - val_loss: 0.5246 - val_accuracy: 0.8340 - lr: 0.0200\nEpoch 3/25\n1719/1719 [==============================] - 7s 4ms/step - loss: 0.5096 - accuracy: 0.8422 - val_loss: 0.4641 - val_accuracy: 0.8612 - lr: 0.0200\nEpoch 4/25\n1719/1719 [==============================] - 7s 4ms/step - loss: 0.5048 - accuracy: 0.8469 - val_loss: 0.5777 - val_accuracy: 0.8232 - lr: 0.0200\nEpoch 5/25\n1719/1719 [==============================] - 7s 4ms/step - loss: 0.5286 - accuracy: 0.8476 - val_loss: 0.4906 - val_accuracy: 0.8536 - lr: 0.0200\nEpoch 6/25\n1719/1719 [==============================] - 7s 4ms/step - loss: 0.5237 - accuracy: 0.8503 - val_loss: 0.5818 - val_accuracy: 0.8624 - lr: 0.0200\nEpoch 7/25\n1719/1719 [==============================] - 6s 4ms/step - loss: 0.5291 - accuracy: 0.8524 - val_loss: 0.6646 - val_accuracy: 0.8402 - lr: 0.0200\nEpoch 8/25\n1719/1719 [==============================] - 8s 5ms/step - loss: 0.5261 - accuracy: 0.8537 - val_loss: 0.5651 - val_accuracy: 0.8448 - lr: 0.0200\nEpoch 9/25\n1719/1719 [==============================] - 6s 4ms/step - loss: 0.2930 - accuracy: 0.8971 - val_loss: 0.4157 - val_accuracy: 0.8776 - lr: 0.0100\nEpoch 10/25\n1719/1719 [==============================] - 7s 4ms/step - loss: 0.2445 - accuracy: 0.9103 - val_loss: 0.4095 - val_accuracy: 0.8864 - lr: 0.0100\nEpoch 11/25\n1719/1719 [==============================] - 6s 4ms/step - loss: 0.2275 - accuracy: 0.9171 - val_loss: 0.4111 - val_accuracy: 0.8904 - lr: 0.0100\nEpoch 12/25\n1719/1719 [==============================] - 7s 4ms/step - loss: 0.2099 - accuracy: 0.9221 - val_loss: 0.4649 - val_accuracy: 0.8712 - lr: 0.0100\nEpoch 13/25\n1719/1719 [==============================] - 7s 4ms/step - loss: 0.1961 - accuracy: 0.9277 - val_loss: 0.4395 - val_accuracy: 0.8930 - lr: 0.0100\nEpoch 14/25\n1719/1719 [==============================] - 7s 4ms/step - loss: 0.1897 - accuracy: 0.9295 - val_loss: 0.4660 - val_accuracy: 0.8812 - lr: 0.0100\nEpoch 15/25\n1719/1719 [==============================] - 7s 4ms/step - loss: 0.1810 - accuracy: 0.9327 - val_loss: 0.4725 - val_accuracy: 0.8792 - lr: 0.0100\nEpoch 16/25\n1719/1719 [==============================] - 7s 4ms/step - loss: 0.1230 - accuracy: 0.9517 - val_loss: 0.4385 - val_accuracy: 0.8960 - lr: 0.0050\nEpoch 17/25\n1719/1719 [==============================] - 7s 4ms/step - loss: 0.1089 - accuracy: 0.9574 - val_loss: 0.4591 - val_accuracy: 0.8912 - lr: 0.0050\nEpoch 18/25\n1719/1719 [==============================] - 7s 4ms/step - loss: 0.1009 - accuracy: 0.9603 - val_loss: 0.4857 - val_accuracy: 0.8922 - lr: 0.0050\nEpoch 19/25\n1719/1719 [==============================] - 7s 4ms/step - loss: 0.0949 - accuracy: 0.9626 - val_loss: 0.4869 - val_accuracy: 0.8930 - lr: 0.0050\nEpoch 20/25\n1719/1719 [==============================] - 7s 4ms/step - loss: 0.0887 - accuracy: 0.9657 - val_loss: 0.5145 - val_accuracy: 0.8952 - lr: 0.0050\nEpoch 21/25\n1719/1719 [==============================] - 7s 4ms/step - loss: 0.0692 - accuracy: 0.9741 - val_loss: 0.5187 - val_accuracy: 0.8934 - lr: 0.0025\nEpoch 22/25\n1719/1719 [==============================] - 6s 3ms/step - loss: 0.0633 - accuracy: 0.9769 - val_loss: 0.5398 - val_accuracy: 0.8932 - lr: 0.0025\nEpoch 23/25\n1719/1719 [==============================] - 7s 4ms/step - loss: 0.0601 - accuracy: 0.9779 - val_loss: 0.5382 - val_accuracy: 0.8952 - lr: 0.0025\nEpoch 24/25\n1719/1719 [==============================] - 7s 4ms/step - loss: 0.0572 - accuracy: 0.9789 - val_loss: 0.5602 - val_accuracy: 0.8946 - lr: 0.0025\nEpoch 25/25\n1719/1719 [==============================] - 7s 4ms/step - loss: 0.0545 - accuracy: 0.9801 - val_loss: 0.5758 - val_accuracy: 0.8940 - lr: 0.0025\n",
     "output_type": "stream"
    }
   ]
  },
  {
   "cell_type": "code",
   "metadata": {
    "cell_id": "00140-f53134f9-49fa-4c7c-9a9e-a71c5c19e29c",
    "deepnote_to_be_reexecuted": false,
    "source_hash": "c0fe98e",
    "execution_start": 1659356638229,
    "execution_millis": 926,
    "deepnote_cell_type": "code",
    "deepnote_cell_height": 607.875,
    "deepnote_output_heights": [
     281.875
    ]
   },
   "source": "plt.plot(history.epoch, history.history[\"lr\"], \"bo-\")\nplt.xlabel(\"Epoch\")\nplt.ylabel(\"Learning Rate\", color='b')\nplt.tick_params('y', colors='b')\nplt.gca().set_xlim(0, n_epochs - 1)\nplt.grid(True)\n\nax2 = plt.gca().twinx()\nax2.plot(history.epoch, history.history[\"val_loss\"], \"r^-\")\nax2.set_ylabel('Validation Loss', color='r')\nax2.tick_params('y', colors='r')\n\nplt.title(\"Reduce LR on Plateau\", fontsize=14)\nplt.show()",
   "execution_count": null,
   "outputs": [
    {
     "data": {
      "text/plain": "<Figure size 432x288 with 2 Axes>",
      "image/png": "[encoded data removed]"
     },
     "metadata": {
      "needs_background": "light",
      "image/png": {
       "width": 467,
       "height": 286
      }
     },
     "output_type": "display_data"
    }
   ]
  },
  {
   "cell_type": "markdown",
   "source": "### tf.keras schedulers",
   "metadata": {
    "cell_id": "00141-42e61f2d-ef12-4712-a54e-f88b1015b36e",
    "deepnote_cell_type": "markdown",
    "deepnote_cell_height": 62
   }
  },
  {
   "cell_type": "code",
   "metadata": {
    "cell_id": "00142-dd3ef043-8507-4c7f-aa14-06a01cb5681f",
    "deepnote_to_be_reexecuted": false,
    "source_hash": "ce5a7315",
    "execution_start": 1659356638501,
    "execution_millis": 155514,
    "deepnote_cell_type": "code",
    "deepnote_cell_height": 912
   },
   "source": "model = keras.models.Sequential([\n    keras.layers.Flatten(input_shape=[28, 28]),\n    keras.layers.Dense(300, activation=\"selu\", kernel_initializer=\"lecun_normal\"),\n    keras.layers.Dense(100, activation=\"selu\", kernel_initializer=\"lecun_normal\"),\n    keras.layers.Dense(10, activation=\"softmax\")\n])\ns = 20 * len(X_train) // 32 # number of steps in 20 epochs (batch size = 32)\nlearning_rate = keras.optimizers.schedules.ExponentialDecay(0.01, s, 0.1)\noptimizer = keras.optimizers.SGD(learning_rate)\nmodel.compile(loss=\"sparse_categorical_crossentropy\", optimizer=optimizer, metrics=[\"accuracy\"])\nn_epochs = 25\nhistory = model.fit(X_train_scaled, y_train, epochs=n_epochs,\n                    validation_data=(X_valid_scaled, y_valid))",
   "execution_count": null,
   "outputs": [
    {
     "name": "stdout",
     "text": "Epoch 1/25\n1719/1719 [==============================] - 7s 4ms/step - loss: 0.4893 - accuracy: 0.8275 - val_loss: 0.4092 - val_accuracy: 0.8602\nEpoch 2/25\n1719/1719 [==============================] - 7s 4ms/step - loss: 0.3819 - accuracy: 0.8649 - val_loss: 0.3739 - val_accuracy: 0.8690\nEpoch 3/25\n1719/1719 [==============================] - 7s 4ms/step - loss: 0.3487 - accuracy: 0.8766 - val_loss: 0.3736 - val_accuracy: 0.8676\nEpoch 4/25\n1719/1719 [==============================] - 6s 4ms/step - loss: 0.3265 - accuracy: 0.8834 - val_loss: 0.3493 - val_accuracy: 0.8804\nEpoch 5/25\n1719/1719 [==============================] - 6s 4ms/step - loss: 0.3104 - accuracy: 0.8895 - val_loss: 0.3430 - val_accuracy: 0.8788\nEpoch 6/25\n1719/1719 [==============================] - 6s 4ms/step - loss: 0.2958 - accuracy: 0.8950 - val_loss: 0.3412 - val_accuracy: 0.8802\nEpoch 7/25\n1719/1719 [==============================] - 7s 4ms/step - loss: 0.2854 - accuracy: 0.8987 - val_loss: 0.3352 - val_accuracy: 0.8814\nEpoch 8/25\n1719/1719 [==============================] - 7s 4ms/step - loss: 0.2760 - accuracy: 0.9014 - val_loss: 0.3359 - val_accuracy: 0.8818\nEpoch 9/25\n1719/1719 [==============================] - 6s 4ms/step - loss: 0.2678 - accuracy: 0.9055 - val_loss: 0.3260 - val_accuracy: 0.8854\nEpoch 10/25\n1719/1719 [==============================] - 6s 4ms/step - loss: 0.2608 - accuracy: 0.9066 - val_loss: 0.3236 - val_accuracy: 0.8852\nEpoch 11/25\n1719/1719 [==============================] - 6s 4ms/step - loss: 0.2551 - accuracy: 0.9085 - val_loss: 0.3246 - val_accuracy: 0.8856\nEpoch 12/25\n1719/1719 [==============================] - 7s 4ms/step - loss: 0.2497 - accuracy: 0.9126 - val_loss: 0.3296 - val_accuracy: 0.8814\nEpoch 13/25\n1719/1719 [==============================] - 7s 4ms/step - loss: 0.2449 - accuracy: 0.9136 - val_loss: 0.3214 - val_accuracy: 0.8862\nEpoch 14/25\n1719/1719 [==============================] - 7s 4ms/step - loss: 0.2415 - accuracy: 0.9145 - val_loss: 0.3218 - val_accuracy: 0.8862\nEpoch 15/25\n1719/1719 [==============================] - 7s 4ms/step - loss: 0.2375 - accuracy: 0.9167 - val_loss: 0.3203 - val_accuracy: 0.8872\nEpoch 16/25\n1719/1719 [==============================] - 6s 4ms/step - loss: 0.2343 - accuracy: 0.9179 - val_loss: 0.3179 - val_accuracy: 0.8890\nEpoch 17/25\n1719/1719 [==============================] - 6s 4ms/step - loss: 0.2317 - accuracy: 0.9184 - val_loss: 0.3193 - val_accuracy: 0.8898\nEpoch 18/25\n1719/1719 [==============================] - 6s 4ms/step - loss: 0.2291 - accuracy: 0.9196 - val_loss: 0.3165 - val_accuracy: 0.8896\nEpoch 19/25\n1719/1719 [==============================] - 7s 4ms/step - loss: 0.2270 - accuracy: 0.9204 - val_loss: 0.3193 - val_accuracy: 0.8888\nEpoch 20/25\n1719/1719 [==============================] - 7s 4ms/step - loss: 0.2250 - accuracy: 0.9218 - val_loss: 0.3165 - val_accuracy: 0.8898\nEpoch 21/25\n1719/1719 [==============================] - 5s 3ms/step - loss: 0.2229 - accuracy: 0.9220 - val_loss: 0.3175 - val_accuracy: 0.8904\nEpoch 22/25\n1719/1719 [==============================] - 5s 3ms/step - loss: 0.2216 - accuracy: 0.9224 - val_loss: 0.3160 - val_accuracy: 0.8918\nEpoch 23/25\n1719/1719 [==============================] - 5s 3ms/step - loss: 0.2201 - accuracy: 0.9232 - val_loss: 0.3168 - val_accuracy: 0.8898\nEpoch 24/25\n1719/1719 [==============================] - 5s 3ms/step - loss: 0.2188 - accuracy: 0.9240 - val_loss: 0.3162 - val_accuracy: 0.8914\nEpoch 25/25\n1719/1719 [==============================] - 5s 3ms/step - loss: 0.2179 - accuracy: 0.9244 - val_loss: 0.3161 - val_accuracy: 0.8910\n",
     "output_type": "stream"
    }
   ]
  },
  {
   "cell_type": "markdown",
   "source": "For piecewise constant scheduling, try this:",
   "metadata": {
    "cell_id": "00143-9feca270-e8db-4b1b-8c42-dce7d31ebcdb",
    "deepnote_cell_type": "markdown",
    "deepnote_cell_height": 52.390625
   }
  },
  {
   "cell_type": "code",
   "metadata": {
    "cell_id": "00144-6703d788-e0df-497f-9c7b-6c375133f649",
    "deepnote_to_be_reexecuted": false,
    "source_hash": "bacabd8a",
    "execution_start": 1659356794016,
    "execution_millis": 12,
    "deepnote_cell_type": "code",
    "deepnote_cell_height": 112
   },
   "source": "learning_rate = keras.optimizers.schedules.PiecewiseConstantDecay(\n    boundaries=[5. * n_steps_per_epoch, 15. * n_steps_per_epoch],\n    values=[0.01, 0.005, 0.001])",
   "execution_count": null,
   "outputs": []
  },
  {
   "cell_type": "markdown",
   "source": "### 1Cycle scheduling",
   "metadata": {
    "cell_id": "00145-b94bbcfd-fbfe-4648-84fb-514d3bad542b",
    "deepnote_cell_type": "markdown",
    "deepnote_cell_height": 62
   }
  },
  {
   "cell_type": "code",
   "metadata": {
    "cell_id": "00146-7a3478d6-23ce-4af5-a56b-468eeee9b767",
    "deepnote_to_be_reexecuted": false,
    "source_hash": "e07980b7",
    "execution_start": 1659356794038,
    "execution_millis": 0,
    "deepnote_cell_type": "code",
    "deepnote_cell_height": 634
   },
   "source": "K = keras.backend\n\nclass ExponentialLearningRate(keras.callbacks.Callback):\n    def __init__(self, factor):\n        self.factor = factor\n        self.rates = []\n        self.losses = []\n    def on_batch_end(self, batch, logs):\n        self.rates.append(K.get_value(self.model.optimizer.learning_rate))\n        self.losses.append(logs[\"loss\"])\n        K.set_value(self.model.optimizer.learning_rate, self.model.optimizer.learning_rate * self.factor)\n\ndef find_learning_rate(model, X, y, epochs=1, batch_size=32, min_rate=10**-5, max_rate=10):\n    init_weights = model.get_weights()\n    iterations = math.ceil(len(X) / batch_size) * epochs\n    factor = np.exp(np.log(max_rate / min_rate) / iterations)\n    init_lr = K.get_value(model.optimizer.learning_rate)\n    K.set_value(model.optimizer.learning_rate, min_rate)\n    exp_lr = ExponentialLearningRate(factor)\n    history = model.fit(X, y, epochs=epochs, batch_size=batch_size,\n                        callbacks=[exp_lr])\n    K.set_value(model.optimizer.learning_rate, init_lr)\n    model.set_weights(init_weights)\n    return exp_lr.rates, exp_lr.losses\n\ndef plot_lr_vs_loss(rates, losses):\n    plt.plot(rates, losses)\n    plt.gca().set_xscale('log')\n    plt.hlines(min(losses), min(rates), max(rates))\n    plt.axis([min(rates), max(rates), min(losses), (losses[0] + min(losses)) / 2])\n    plt.xlabel(\"Learning rate\")\n    plt.ylabel(\"Loss\")",
   "execution_count": null,
   "outputs": []
  },
  {
   "cell_type": "markdown",
   "source": "**Warning**: In the `on_batch_end()` method, `logs[\"loss\"]` used to contain the batch loss, but in TensorFlow 2.2.0 it was replaced with the mean loss (since the start of the epoch). This explains why the graph below is much smoother than in the book (if you are using TF 2.2 or above). It also means that there is a lag between the moment the batch loss starts exploding and the moment the explosion becomes clear in the graph. So you should choose a slightly smaller learning rate than you would have chosen with the \"noisy\" graph. Alternatively, you can tweak the `ExponentialLearningRate` callback above so it computes the batch loss (based on the current mean loss and the previous mean loss):\n\n```python\nclass ExponentialLearningRate(keras.callbacks.Callback):\n    def __init__(self, factor):\n        self.factor = factor\n        self.rates = []\n        self.losses = []\n    def on_epoch_begin(self, epoch, logs=None):\n        self.prev_loss = 0\n    def on_batch_end(self, batch, logs=None):\n        batch_loss = logs[\"loss\"] * (batch + 1) - self.prev_loss * batch\n        self.prev_loss = logs[\"loss\"]\n        self.rates.append(K.get_value(self.model.optimizer.learning_rate))\n        self.losses.append(batch_loss)\n        K.set_value(self.model.optimizer.learning_rate, self.model.optimizer.learning_rate * self.factor)\n```",
   "metadata": {
    "cell_id": "00147-56f70cea-3495-4c64-b0bc-2db157e12a59",
    "deepnote_cell_type": "markdown",
    "deepnote_cell_height": 467.03125
   }
  },
  {
   "cell_type": "code",
   "metadata": {
    "cell_id": "00148-f29b1e88-d4a7-4ea7-bb39-4f2098f9c97a",
    "deepnote_to_be_reexecuted": false,
    "source_hash": "f1d9958b",
    "execution_start": 1659356794054,
    "execution_millis": 39,
    "deepnote_cell_type": "code",
    "deepnote_cell_height": 274
   },
   "source": "tf.random.set_seed(42)\nnp.random.seed(42)\n\nmodel = keras.models.Sequential([\n    keras.layers.Flatten(input_shape=[28, 28]),\n    keras.layers.Dense(300, activation=\"selu\", kernel_initializer=\"lecun_normal\"),\n    keras.layers.Dense(100, activation=\"selu\", kernel_initializer=\"lecun_normal\"),\n    keras.layers.Dense(10, activation=\"softmax\")\n])\nmodel.compile(loss=\"sparse_categorical_crossentropy\",\n              optimizer=keras.optimizers.SGD(learning_rate=1e-3),\n              metrics=[\"accuracy\"])",
   "execution_count": null,
   "outputs": []
  },
  {
   "cell_type": "code",
   "metadata": {
    "cell_id": "00149-7bfc4cb4-ef02-43c4-90ab-51965530d1bc",
    "deepnote_to_be_reexecuted": false,
    "source_hash": "72fda6d5",
    "execution_start": 1659356794093,
    "execution_millis": 3587,
    "deepnote_cell_type": "code",
    "deepnote_cell_height": 449.1875,
    "deepnote_output_heights": [
     null,
     275
    ]
   },
   "source": "batch_size = 128\nrates, losses = find_learning_rate(model, X_train_scaled, y_train, epochs=1, batch_size=batch_size)\nplot_lr_vs_loss(rates, losses)",
   "execution_count": null,
   "outputs": [
    {
     "name": "stdout",
     "text": "430/430 [==============================] - 2s 5ms/step - loss: nan - accuracy: 0.3855\n",
     "output_type": "stream"
    },
    {
     "data": {
      "text/plain": "<Figure size 432x288 with 1 Axes>",
      "image/png": "[encoded data removed]"
     },
     "metadata": {
      "needs_background": "light",
      "image/png": {
       "width": 393,
       "height": 273
      }
     },
     "output_type": "display_data"
    }
   ]
  },
  {
   "cell_type": "code",
   "metadata": {
    "cell_id": "00150-4090f3cf-cc4d-4aa3-86ec-8e4e3d074312",
    "deepnote_to_be_reexecuted": false,
    "source_hash": "51219e8f",
    "execution_start": 1659356797682,
    "execution_millis": 1,
    "deepnote_cell_type": "code",
    "deepnote_cell_height": 490
   },
   "source": "class OneCycleScheduler(keras.callbacks.Callback):\n    def __init__(self, iterations, max_rate, start_rate=None,\n                 last_iterations=None, last_rate=None):\n        self.iterations = iterations\n        self.max_rate = max_rate\n        self.start_rate = start_rate or max_rate / 10\n        self.last_iterations = last_iterations or iterations // 10 + 1\n        self.half_iteration = (iterations - self.last_iterations) // 2\n        self.last_rate = last_rate or self.start_rate / 1000\n        self.iteration = 0\n    def _interpolate(self, iter1, iter2, rate1, rate2):\n        return ((rate2 - rate1) * (self.iteration - iter1)\n                / (iter2 - iter1) + rate1)\n    def on_batch_begin(self, batch, logs):\n        if self.iteration < self.half_iteration:\n            rate = self._interpolate(0, self.half_iteration, self.start_rate, self.max_rate)\n        elif self.iteration < 2 * self.half_iteration:\n            rate = self._interpolate(self.half_iteration, 2 * self.half_iteration,\n                                     self.max_rate, self.start_rate)\n        else:\n            rate = self._interpolate(2 * self.half_iteration, self.iterations,\n                                     self.start_rate, self.last_rate)\n        self.iteration += 1\n        K.set_value(self.model.optimizer.learning_rate, rate)",
   "execution_count": null,
   "outputs": []
  },
  {
   "cell_type": "code",
   "metadata": {
    "cell_id": "00151-b35a486f-8a63-4602-9b68-62f96bf01512",
    "deepnote_to_be_reexecuted": false,
    "source_hash": "29b99e27",
    "execution_start": 1659356797684,
    "execution_millis": 50616,
    "deepnote_cell_type": "code",
    "deepnote_cell_height": 768
   },
   "source": "n_epochs = 25\nonecycle = OneCycleScheduler(math.ceil(len(X_train) / batch_size) * n_epochs, max_rate=0.05)\nhistory = model.fit(X_train_scaled, y_train, epochs=n_epochs, batch_size=batch_size,\n                    validation_data=(X_valid_scaled, y_valid),\n                    callbacks=[onecycle])",
   "execution_count": null,
   "outputs": [
    {
     "name": "stdout",
     "text": "Epoch 1/25\n430/430 [==============================] - 2s 5ms/step - loss: 0.6572 - accuracy: 0.7740 - val_loss: 0.4872 - val_accuracy: 0.8336\nEpoch 2/25\n430/430 [==============================] - 2s 5ms/step - loss: 0.4581 - accuracy: 0.8396 - val_loss: 0.4275 - val_accuracy: 0.8524\nEpoch 3/25\n430/430 [==============================] - 2s 5ms/step - loss: 0.4122 - accuracy: 0.8546 - val_loss: 0.4115 - val_accuracy: 0.8584\nEpoch 4/25\n430/430 [==============================] - 2s 5ms/step - loss: 0.3837 - accuracy: 0.8641 - val_loss: 0.3868 - val_accuracy: 0.8688\nEpoch 5/25\n430/430 [==============================] - 2s 5ms/step - loss: 0.3639 - accuracy: 0.8716 - val_loss: 0.3766 - val_accuracy: 0.8680\nEpoch 6/25\n430/430 [==============================] - 2s 5ms/step - loss: 0.3457 - accuracy: 0.8774 - val_loss: 0.3742 - val_accuracy: 0.8710\nEpoch 7/25\n430/430 [==============================] - 2s 5ms/step - loss: 0.3330 - accuracy: 0.8807 - val_loss: 0.3635 - val_accuracy: 0.8706\nEpoch 8/25\n430/430 [==============================] - 2s 5ms/step - loss: 0.3185 - accuracy: 0.8858 - val_loss: 0.3947 - val_accuracy: 0.8614\nEpoch 9/25\n430/430 [==============================] - 2s 5ms/step - loss: 0.3064 - accuracy: 0.8889 - val_loss: 0.3485 - val_accuracy: 0.8762\nEpoch 10/25\n430/430 [==============================] - 2s 5ms/step - loss: 0.2945 - accuracy: 0.8924 - val_loss: 0.3399 - val_accuracy: 0.8808\nEpoch 11/25\n430/430 [==============================] - 2s 5ms/step - loss: 0.2837 - accuracy: 0.8959 - val_loss: 0.3460 - val_accuracy: 0.8816\nEpoch 12/25\n430/430 [==============================] - 2s 5ms/step - loss: 0.2709 - accuracy: 0.9024 - val_loss: 0.3650 - val_accuracy: 0.8690\nEpoch 13/25\n430/430 [==============================] - 2s 4ms/step - loss: 0.2538 - accuracy: 0.9083 - val_loss: 0.3360 - val_accuracy: 0.8846\nEpoch 14/25\n430/430 [==============================] - 2s 5ms/step - loss: 0.2406 - accuracy: 0.9135 - val_loss: 0.3473 - val_accuracy: 0.8802\nEpoch 15/25\n430/430 [==============================] - 2s 5ms/step - loss: 0.2281 - accuracy: 0.9183 - val_loss: 0.3262 - val_accuracy: 0.8850\nEpoch 16/25\n430/430 [==============================] - 2s 5ms/step - loss: 0.2160 - accuracy: 0.9233 - val_loss: 0.3298 - val_accuracy: 0.8840\nEpoch 17/25\n430/430 [==============================] - 2s 5ms/step - loss: 0.2064 - accuracy: 0.9262 - val_loss: 0.3364 - val_accuracy: 0.8876\nEpoch 18/25\n430/430 [==============================] - 2s 5ms/step - loss: 0.1979 - accuracy: 0.9306 - val_loss: 0.3252 - val_accuracy: 0.8896\nEpoch 19/25\n430/430 [==============================] - 2s 5ms/step - loss: 0.1893 - accuracy: 0.9341 - val_loss: 0.3243 - val_accuracy: 0.8906\nEpoch 20/25\n430/430 [==============================] - 2s 5ms/step - loss: 0.1822 - accuracy: 0.9368 - val_loss: 0.3237 - val_accuracy: 0.8932\nEpoch 21/25\n430/430 [==============================] - 2s 5ms/step - loss: 0.1753 - accuracy: 0.9402 - val_loss: 0.3234 - val_accuracy: 0.8906\nEpoch 22/25\n430/430 [==============================] - 2s 5ms/step - loss: 0.1701 - accuracy: 0.9420 - val_loss: 0.3196 - val_accuracy: 0.8948\nEpoch 23/25\n430/430 [==============================] - 2s 4ms/step - loss: 0.1655 - accuracy: 0.9443 - val_loss: 0.3199 - val_accuracy: 0.8944\nEpoch 24/25\n430/430 [==============================] - 2s 5ms/step - loss: 0.1626 - accuracy: 0.9458 - val_loss: 0.3190 - val_accuracy: 0.8928\nEpoch 25/25\n430/430 [==============================] - 2s 5ms/step - loss: 0.1609 - accuracy: 0.9465 - val_loss: 0.3183 - val_accuracy: 0.8940\n",
     "output_type": "stream"
    }
   ]
  },
  {
   "cell_type": "markdown",
   "source": "# Avoiding Overfitting Through Regularization",
   "metadata": {
    "cell_id": "00152-c4da1b57-aacb-4117-a179-ee14451b6b2d",
    "deepnote_cell_type": "markdown",
    "deepnote_cell_height": 82
   }
  },
  {
   "cell_type": "markdown",
   "source": "## $\\ell_1$ and $\\ell_2$ regularization",
   "metadata": {
    "cell_id": "00153-ab62d008-1ed8-4fa6-9630-1ad3722fcdea",
    "deepnote_cell_type": "markdown",
    "deepnote_cell_height": 73.546875
   }
  },
  {
   "cell_type": "code",
   "metadata": {
    "cell_id": "00154-62129818-e037-4bae-95f1-fd1c49df51a3",
    "deepnote_to_be_reexecuted": false,
    "source_hash": "6380fdfc",
    "execution_start": 1659356848299,
    "execution_millis": 0,
    "deepnote_cell_type": "code",
    "deepnote_cell_height": 148
   },
   "source": "layer = keras.layers.Dense(100, activation=\"elu\",\n                           kernel_initializer=\"he_normal\",\n                           kernel_regularizer=keras.regularizers.l2(0.01))\n# or l1(0.1) for ℓ1 regularization with a factor of 0.1\n# or l1_l2(0.1, 0.01) for both ℓ1 and ℓ2 regularization, with factors 0.1 and 0.01 respectively",
   "execution_count": null,
   "outputs": []
  },
  {
   "cell_type": "code",
   "metadata": {
    "cell_id": "00155-54685fbf-5fe1-45e5-899e-d16bc96666ec",
    "deepnote_to_be_reexecuted": false,
    "source_hash": "479d3a8c",
    "execution_start": 1659356848300,
    "execution_millis": 19043,
    "deepnote_cell_type": "code",
    "deepnote_cell_height": 419.75
   },
   "source": "model = keras.models.Sequential([\n    keras.layers.Flatten(input_shape=[28, 28]),\n    keras.layers.Dense(300, activation=\"elu\",\n                       kernel_initializer=\"he_normal\",\n                       kernel_regularizer=keras.regularizers.l2(0.01)),\n    keras.layers.Dense(100, activation=\"elu\",\n                       kernel_initializer=\"he_normal\",\n                       kernel_regularizer=keras.regularizers.l2(0.01)),\n    keras.layers.Dense(10, activation=\"softmax\",\n                       kernel_regularizer=keras.regularizers.l2(0.01))\n])\nmodel.compile(loss=\"sparse_categorical_crossentropy\", optimizer=\"nadam\", metrics=[\"accuracy\"])\nn_epochs = 2\nhistory = model.fit(X_train_scaled, y_train, epochs=n_epochs,\n                    validation_data=(X_valid_scaled, y_valid))",
   "execution_count": null,
   "outputs": [
    {
     "name": "stdout",
     "text": "Epoch 1/2\n1719/1719 [==============================] - 10s 5ms/step - loss: 1.5956 - accuracy: 0.8124 - val_loss: 0.7169 - val_accuracy: 0.8340\nEpoch 2/2\n1719/1719 [==============================] - 9s 5ms/step - loss: 0.7197 - accuracy: 0.8274 - val_loss: 0.6850 - val_accuracy: 0.8376\n",
     "output_type": "stream"
    }
   ]
  },
  {
   "cell_type": "code",
   "metadata": {
    "cell_id": "00156-8bc54353-9873-4f5e-adc6-ecb29bcaccea",
    "deepnote_to_be_reexecuted": false,
    "source_hash": "63aa3099",
    "execution_start": 1659356867303,
    "execution_millis": 19100,
    "deepnote_cell_type": "code",
    "deepnote_cell_height": 455.75
   },
   "source": "from functools import partial\n\nRegularizedDense = partial(keras.layers.Dense,\n                           activation=\"elu\",\n                           kernel_initializer=\"he_normal\",\n                           kernel_regularizer=keras.regularizers.l2(0.01))\n\nmodel = keras.models.Sequential([\n    keras.layers.Flatten(input_shape=[28, 28]),\n    RegularizedDense(300),\n    RegularizedDense(100),\n    RegularizedDense(10, activation=\"softmax\")\n])\nmodel.compile(loss=\"sparse_categorical_crossentropy\", optimizer=\"nadam\", metrics=[\"accuracy\"])\nn_epochs = 2\nhistory = model.fit(X_train_scaled, y_train, epochs=n_epochs,\n                    validation_data=(X_valid_scaled, y_valid))",
   "execution_count": null,
   "outputs": [
    {
     "name": "stdout",
     "text": "Epoch 1/2\n1719/1719 [==============================] - 10s 5ms/step - loss: 1.6313 - accuracy: 0.8113 - val_loss: 0.7218 - val_accuracy: 0.8310\nEpoch 2/2\n1719/1719 [==============================] - 9s 5ms/step - loss: 0.7187 - accuracy: 0.8273 - val_loss: 0.6826 - val_accuracy: 0.8382\n",
     "output_type": "stream"
    }
   ]
  },
  {
   "cell_type": "markdown",
   "source": "## Dropout",
   "metadata": {
    "cell_id": "00157-88106a58-7377-4c3b-b4cb-1f7f7ed037fc",
    "deepnote_cell_type": "markdown",
    "deepnote_cell_height": 70
   }
  },
  {
   "cell_type": "code",
   "metadata": {
    "cell_id": "00158-6a186161-8d75-4450-b1cc-ca924c06d65e",
    "deepnote_to_be_reexecuted": false,
    "source_hash": "dd15e6fd",
    "execution_start": 1659356886392,
    "execution_millis": 41836,
    "deepnote_cell_type": "code",
    "deepnote_cell_height": 383.75
   },
   "source": "model = keras.models.Sequential([\n    keras.layers.Flatten(input_shape=[28, 28]),\n    keras.layers.Dropout(rate=0.2),\n    keras.layers.Dense(300, activation=\"elu\", kernel_initializer=\"he_normal\"),\n    keras.layers.Dropout(rate=0.2),\n    keras.layers.Dense(100, activation=\"elu\", kernel_initializer=\"he_normal\"),\n    keras.layers.Dropout(rate=0.2),\n    keras.layers.Dense(10, activation=\"softmax\")\n])\nmodel.compile(loss=\"sparse_categorical_crossentropy\", optimizer=\"nadam\", metrics=[\"accuracy\"])\nn_epochs = 2\nhistory = model.fit(X_train_scaled, y_train, epochs=n_epochs,\n                    validation_data=(X_valid_scaled, y_valid))",
   "execution_count": null,
   "outputs": [
    {
     "name": "stdout",
     "text": "Epoch 1/2\n1719/1719 [==============================] - 14s 8ms/step - loss: 0.5838 - accuracy: 0.7997 - val_loss: 0.3730 - val_accuracy: 0.8644\nEpoch 2/2\n1719/1719 [==============================] - 14s 8ms/step - loss: 0.4209 - accuracy: 0.8442 - val_loss: 0.3397 - val_accuracy: 0.8716\n",
     "output_type": "stream"
    }
   ]
  },
  {
   "cell_type": "markdown",
   "source": "## Alpha Dropout",
   "metadata": {
    "cell_id": "00159-43a7a2dc-6476-474f-bcd9-1f3e47b94390",
    "deepnote_cell_type": "markdown",
    "deepnote_cell_height": 70
   }
  },
  {
   "cell_type": "code",
   "metadata": {
    "cell_id": "00160-37f6a791-465c-4616-8775-6f7a112e4f70",
    "deepnote_to_be_reexecuted": false,
    "source_hash": "d690901b",
    "execution_start": 1659356928241,
    "execution_millis": 0,
    "deepnote_cell_type": "code",
    "deepnote_cell_height": 94
   },
   "source": "tf.random.set_seed(42)\nnp.random.seed(42)",
   "execution_count": null,
   "outputs": []
  },
  {
   "cell_type": "code",
   "metadata": {
    "cell_id": "00161-e6036fc9-de95-4658-9b7d-7e0e33d329f8",
    "deepnote_to_be_reexecuted": false,
    "source_hash": "46b19aa3",
    "execution_start": 1659356928247,
    "execution_millis": 142617,
    "deepnote_cell_type": "code",
    "deepnote_cell_height": 930
   },
   "source": "model = keras.models.Sequential([\n    keras.layers.Flatten(input_shape=[28, 28]),\n    keras.layers.AlphaDropout(rate=0.2),\n    keras.layers.Dense(300, activation=\"selu\", kernel_initializer=\"lecun_normal\"),\n    keras.layers.AlphaDropout(rate=0.2),\n    keras.layers.Dense(100, activation=\"selu\", kernel_initializer=\"lecun_normal\"),\n    keras.layers.AlphaDropout(rate=0.2),\n    keras.layers.Dense(10, activation=\"softmax\")\n])\noptimizer = keras.optimizers.SGD(learning_rate=0.01, momentum=0.9, nesterov=True)\nmodel.compile(loss=\"sparse_categorical_crossentropy\", optimizer=optimizer, metrics=[\"accuracy\"])\nn_epochs = 20\nhistory = model.fit(X_train_scaled, y_train, epochs=n_epochs,\n                    validation_data=(X_valid_scaled, y_valid))",
   "execution_count": null,
   "outputs": [
    {
     "name": "stdout",
     "text": "Epoch 1/20\n1719/1719 [==============================] - 6s 3ms/step - loss: 0.6617 - accuracy: 0.7611 - val_loss: 0.5777 - val_accuracy: 0.8410\nEpoch 2/20\n1719/1719 [==============================] - 6s 3ms/step - loss: 0.5548 - accuracy: 0.7966 - val_loss: 0.5403 - val_accuracy: 0.8480\nEpoch 3/20\n1719/1719 [==============================] - 6s 3ms/step - loss: 0.5259 - accuracy: 0.8063 - val_loss: 0.4997 - val_accuracy: 0.8552\nEpoch 4/20\n1719/1719 [==============================] - 6s 3ms/step - loss: 0.5050 - accuracy: 0.8126 - val_loss: 0.4763 - val_accuracy: 0.8622\nEpoch 5/20\n1719/1719 [==============================] - 6s 3ms/step - loss: 0.4925 - accuracy: 0.8171 - val_loss: 0.4592 - val_accuracy: 0.8636\nEpoch 6/20\n1719/1719 [==============================] - 6s 3ms/step - loss: 0.4837 - accuracy: 0.8198 - val_loss: 0.4856 - val_accuracy: 0.8566\nEpoch 7/20\n1719/1719 [==============================] - 6s 4ms/step - loss: 0.4709 - accuracy: 0.8250 - val_loss: 0.5037 - val_accuracy: 0.8492\nEpoch 8/20\n1719/1719 [==============================] - 6s 4ms/step - loss: 0.4640 - accuracy: 0.8281 - val_loss: 0.4556 - val_accuracy: 0.8634\nEpoch 9/20\n1719/1719 [==============================] - 6s 4ms/step - loss: 0.4605 - accuracy: 0.8302 - val_loss: 0.4234 - val_accuracy: 0.8750\nEpoch 10/20\n1719/1719 [==============================] - 6s 3ms/step - loss: 0.4524 - accuracy: 0.8317 - val_loss: 0.4398 - val_accuracy: 0.8620\nEpoch 11/20\n1719/1719 [==============================] - 6s 4ms/step - loss: 0.4480 - accuracy: 0.8338 - val_loss: 0.3997 - val_accuracy: 0.8746\nEpoch 12/20\n1719/1719 [==============================] - 6s 3ms/step - loss: 0.4432 - accuracy: 0.8343 - val_loss: 0.5301 - val_accuracy: 0.8542\nEpoch 13/20\n1719/1719 [==============================] - 6s 3ms/step - loss: 0.4425 - accuracy: 0.8361 - val_loss: 0.4214 - val_accuracy: 0.8776\nEpoch 14/20\n1719/1719 [==============================] - 9s 5ms/step - loss: 0.4375 - accuracy: 0.8383 - val_loss: 0.4407 - val_accuracy: 0.8642\nEpoch 15/20\n1719/1719 [==============================] - 10s 6ms/step - loss: 0.4316 - accuracy: 0.8393 - val_loss: 0.4450 - val_accuracy: 0.8660\nEpoch 16/20\n1719/1719 [==============================] - 13s 8ms/step - loss: 0.4301 - accuracy: 0.8409 - val_loss: 0.4142 - val_accuracy: 0.8766\nEpoch 17/20\n1719/1719 [==============================] - 10s 6ms/step - loss: 0.4288 - accuracy: 0.8418 - val_loss: 0.5106 - val_accuracy: 0.8608\nEpoch 18/20\n1719/1719 [==============================] - 6s 3ms/step - loss: 0.4274 - accuracy: 0.8395 - val_loss: 0.4619 - val_accuracy: 0.8760\nEpoch 19/20\n1719/1719 [==============================] - 6s 3ms/step - loss: 0.4240 - accuracy: 0.8435 - val_loss: 0.4752 - val_accuracy: 0.8698\nEpoch 20/20\n1719/1719 [==============================] - 6s 3ms/step - loss: 0.4177 - accuracy: 0.8433 - val_loss: 0.4095 - val_accuracy: 0.8762\n",
     "output_type": "stream"
    }
   ]
  },
  {
   "cell_type": "code",
   "metadata": {
    "cell_id": "00162-502d1a3c-576c-4a7d-8d63-c8025c049533",
    "deepnote_to_be_reexecuted": false,
    "source_hash": "9afd4cd5",
    "execution_start": 1659357070869,
    "execution_millis": 712,
    "deepnote_cell_type": "code",
    "deepnote_cell_height": 159.375,
    "deepnote_output_heights": [
     null,
     21.1875
    ]
   },
   "source": "model.evaluate(X_test_scaled, y_test)",
   "execution_count": null,
   "outputs": [
    {
     "name": "stdout",
     "text": "313/313 [==============================] - 1s 2ms/step - loss: 0.4627 - accuracy: 0.8604\n",
     "output_type": "stream"
    },
    {
     "output_type": "execute_result",
     "execution_count": 107,
     "data": {
      "text/plain": "[0.4626573622226715, 0.8604000210762024]"
     },
     "metadata": {}
    }
   ]
  },
  {
   "cell_type": "code",
   "metadata": {
    "cell_id": "00163-a0cd0869-d245-4af5-afa5-2e057f32cffa",
    "deepnote_to_be_reexecuted": false,
    "source_hash": "d676405a",
    "execution_start": 1659357071585,
    "execution_millis": 5374,
    "deepnote_cell_type": "code",
    "deepnote_cell_height": 159.375,
    "deepnote_output_heights": [
     null,
     21.1875
    ]
   },
   "source": "model.evaluate(X_train_scaled, y_train)",
   "execution_count": null,
   "outputs": [
    {
     "name": "stdout",
     "text": "1719/1719 [==============================] - 3s 2ms/step - loss: 0.3372 - accuracy: 0.8837\n",
     "output_type": "stream"
    },
    {
     "output_type": "execute_result",
     "execution_count": 108,
     "data": {
      "text/plain": "[0.3371737599372864, 0.8836727142333984]"
     },
     "metadata": {}
    }
   ]
  },
  {
   "cell_type": "code",
   "metadata": {
    "cell_id": "00164-a961cd87-9189-4488-945a-a8ebe91a6794",
    "deepnote_to_be_reexecuted": false,
    "source_hash": "3a185b5b",
    "execution_start": 1659357076961,
    "execution_millis": 10467,
    "deepnote_cell_type": "code",
    "deepnote_cell_height": 107.1875
   },
   "source": "history = model.fit(X_train_scaled, y_train)",
   "execution_count": null,
   "outputs": [
    {
     "name": "stdout",
     "text": "1719/1719 [==============================] - 6s 3ms/step - loss: 0.4201 - accuracy: 0.8433\n",
     "output_type": "stream"
    }
   ]
  },
  {
   "cell_type": "markdown",
   "source": "## MC Dropout",
   "metadata": {
    "cell_id": "00165-10eed768-aa9c-467d-a923-936f3679e003",
    "deepnote_cell_type": "markdown",
    "deepnote_cell_height": 70
   }
  },
  {
   "cell_type": "code",
   "metadata": {
    "cell_id": "00166-583c1d5f-e913-49b3-8df8-394933c9c794",
    "deepnote_to_be_reexecuted": false,
    "source_hash": "d690901b",
    "execution_start": 1659357087436,
    "execution_millis": 5,
    "deepnote_cell_type": "code",
    "deepnote_cell_height": 94
   },
   "source": "tf.random.set_seed(42)\nnp.random.seed(42)",
   "execution_count": null,
   "outputs": []
  },
  {
   "cell_type": "code",
   "metadata": {
    "cell_id": "00167-d4a36eef-8217-4db3-9a65-5cfe66b78bc8",
    "deepnote_to_be_reexecuted": false,
    "source_hash": "9d2b5e9",
    "execution_start": 1659358010747,
    "execution_millis": 331,
    "deepnote_cell_type": "code",
    "deepnote_cell_height": 196.1875
   },
   "source": "y_probas = np.stack([model(X_test_scaled, training=True)\n                     for sample in range(100)])\ny_proba = y_probas.mean(axis=0)\ny_std = y_probas.std(axis=0)",
   "execution_count": null,
   "outputs": [
    {
     "output_type": "error",
     "ename": "NameError",
     "evalue": "name 'np' is not defined",
     "traceback": [
      "\u001b[0;31m---------------------------------------------------------------------------\u001b[0m",
      "\u001b[0;31mNameError\u001b[0m                                 Traceback (most recent call last)",
      "\u001b[0;32m<ipython-input-1-2d810fa5cda9>\u001b[0m in \u001b[0;36m<cell line: 1>\u001b[0;34m()\u001b[0m\n\u001b[0;32m----> 1\u001b[0;31m y_probas = np.stack([model(X_test_scaled, training=True)\n\u001b[0m\u001b[1;32m      2\u001b[0m                      for sample in range(100)])\n\u001b[1;32m      3\u001b[0m \u001b[0my_proba\u001b[0m \u001b[0;34m=\u001b[0m \u001b[0my_probas\u001b[0m\u001b[0;34m.\u001b[0m\u001b[0mmean\u001b[0m\u001b[0;34m(\u001b[0m\u001b[0maxis\u001b[0m\u001b[0;34m=\u001b[0m\u001b[0;36m0\u001b[0m\u001b[0;34m)\u001b[0m\u001b[0;34m\u001b[0m\u001b[0;34m\u001b[0m\u001b[0m\n\u001b[1;32m      4\u001b[0m \u001b[0my_std\u001b[0m \u001b[0;34m=\u001b[0m \u001b[0my_probas\u001b[0m\u001b[0;34m.\u001b[0m\u001b[0mstd\u001b[0m\u001b[0;34m(\u001b[0m\u001b[0maxis\u001b[0m\u001b[0;34m=\u001b[0m\u001b[0;36m0\u001b[0m\u001b[0;34m)\u001b[0m\u001b[0;34m\u001b[0m\u001b[0;34m\u001b[0m\u001b[0m\n",
      "\u001b[0;31mNameError\u001b[0m: name 'np' is not defined"
     ]
    }
   ]
  },
  {
   "cell_type": "code",
   "metadata": {
    "cell_id": "00168-3cd96ed8-f6b1-4523-9a77-4251b2368c1a",
    "deepnote_to_be_reexecuted": true,
    "source_hash": "1b4c7fe3",
    "deepnote_cell_type": "code",
    "deepnote_cell_height": 132.375,
    "deepnote_output_heights": [
     40.375
    ]
   },
   "source": "np.round(model.predict(X_test_scaled[:1]), 2)",
   "execution_count": null,
   "outputs": [
    {
     "data": {
      "text/plain": "array([[0.  , 0.  , 0.  , 0.  , 0.  , 0.  , 0.  , 0.04, 0.  , 0.96]],\n      dtype=float32)"
     },
     "execution_count": 112,
     "metadata": {},
     "output_type": "execute_result"
    }
   ]
  },
  {
   "cell_type": "code",
   "metadata": {
    "cell_id": "00169-bebf9d01-8ff4-4bc4-9a15-2ddc28674c2c",
    "deepnote_to_be_reexecuted": true,
    "source_hash": "6a473bbe",
    "deepnote_cell_type": "code",
    "deepnote_cell_height": 699,
    "deepnote_output_heights": [
     607
    ]
   },
   "source": "np.round(y_probas[:, :1], 2)",
   "execution_count": null,
   "outputs": [
    {
     "data": {
      "text/plain": "array([[[0.  , 0.  , 0.  , 0.  , 0.  , 0.01, 0.  , 0.57, 0.  , 0.42]],\n\n       [[0.  , 0.  , 0.  , 0.  , 0.  , 0.03, 0.  , 0.93, 0.  , 0.05]],\n\n       [[0.  , 0.  , 0.  , 0.  , 0.  , 0.01, 0.  , 0.  , 0.  , 0.99]],\n\n       [[0.  , 0.  , 0.  , 0.  , 0.  , 0.  , 0.  , 0.08, 0.  , 0.92]],\n\n       [[0.  , 0.  , 0.  , 0.  , 0.  , 0.  , 0.  , 0.46, 0.  , 0.53]],\n\n       [[0.  , 0.  , 0.  , 0.  , 0.  , 0.  , 0.  , 0.75, 0.  , 0.24]],\n\n       [[0.  , 0.  , 0.  , 0.  , 0.  , 0.06, 0.  , 0.43, 0.  , 0.51]],\n\n       [[0.  , 0.  , 0.  , 0.  , 0.  , 0.13, 0.  , 0.28, 0.  , 0.59]],\n\n       [[0.  , 0.  , 0.  , 0.  , 0.  , 0.12, 0.  , 0.06, 0.  , 0.81]],\n\n       [[0.  , 0.  , 0.  , 0.  , 0.  , 0.01, 0.  , 0.02, 0.  , 0.98]],\n\n       [[0.  , 0.  , 0.  , 0.  , 0.  , 0.01, 0.  , 0.07, 0.  , 0.92]],\n\n       [[0.  , 0.  , 0.  , 0.  , 0.  , 0.08, 0.  , 0.28, 0.  , 0.64]],\n\n       [[0.  , 0.  , 0.  , 0.  , 0.  , 0.01, 0.  , 0.29, 0.  , 0.7 ]],\n\n       [[0.  , 0.  , 0.  , 0.  , 0.  , 0.26, 0.  , 0.22, 0.  , 0.52]],\n\n       [[0.  , 0.  , 0.  , 0.  , 0.  , 0.03, 0.  , 0.25, 0.  , 0.72]],\n\n       [[0.  , 0.  , 0.  , 0.  , 0.  , 0.3 , 0.  , 0.06, 0.  , 0.65]],\n\n       [[0.  , 0.  , 0.  , 0.  , 0.  , 0.04, 0.  , 0.  , 0.  , 0.96]],\n\n       [[0.  , 0.  , 0.  , 0.  , 0.  , 0.02, 0.  , 0.81, 0.  , 0.17]],\n\n       [[0.  , 0.  , 0.  , 0.  , 0.  , 0.01, 0.  , 0.25, 0.  , 0.75]],\n\n       [[0.  , 0.  , 0.  , 0.  , 0.  , 0.04, 0.  , 0.03, 0.  , 0.93]],\n\n       [[0.  , 0.  , 0.  , 0.  , 0.  , 0.84, 0.04, 0.01, 0.  , 0.1 ]],\n\n       [[0.  , 0.  , 0.  , 0.  , 0.  , 0.2 , 0.  , 0.1 , 0.  , 0.7 ]],\n\n       [[0.  , 0.  , 0.  , 0.  , 0.  , 0.  , 0.  , 0.  , 0.  , 1.  ]],\n\n       [[0.  , 0.  , 0.  , 0.  , 0.  , 0.01, 0.  , 0.28, 0.  , 0.72]],\n\n       [[0.  , 0.  , 0.  , 0.  , 0.  , 0.12, 0.  , 0.12, 0.  , 0.76]],\n\n       [[0.  , 0.  , 0.  , 0.  , 0.  , 0.04, 0.  , 0.75, 0.  , 0.21]],\n\n       [[0.  , 0.  , 0.  , 0.  , 0.  , 0.02, 0.  , 0.11, 0.  , 0.87]],\n\n       [[0.  , 0.  , 0.  , 0.  , 0.  , 0.28, 0.  , 0.39, 0.  , 0.34]],\n\n       [[0.  , 0.  , 0.  , 0.  , 0.  , 0.02, 0.  , 0.04, 0.  , 0.95]],\n\n       [[0.  , 0.  , 0.  , 0.  , 0.  , 0.18, 0.  , 0.51, 0.01, 0.3 ]],\n\n       [[0.  , 0.  , 0.  , 0.  , 0.  , 0.01, 0.  , 0.01, 0.  , 0.99]],\n\n       [[0.  , 0.  , 0.  , 0.  , 0.  , 0.  , 0.  , 0.  , 0.  , 1.  ]],\n\n       [[0.  , 0.  , 0.  , 0.  , 0.  , 0.59, 0.  , 0.01, 0.  , 0.39]],\n\n       [[0.  , 0.  , 0.  , 0.  , 0.  , 0.12, 0.  , 0.8 , 0.  , 0.08]],\n\n       [[0.  , 0.  , 0.  , 0.  , 0.  , 0.05, 0.  , 0.27, 0.  , 0.67]],\n\n       [[0.  , 0.  , 0.  , 0.  , 0.  , 0.07, 0.  , 0.77, 0.  , 0.16]],\n\n       [[0.  , 0.  , 0.  , 0.  , 0.  , 0.  , 0.  , 0.01, 0.  , 0.99]],\n\n       [[0.  , 0.  , 0.  , 0.  , 0.  , 0.01, 0.  , 0.18, 0.  , 0.81]],\n\n       [[0.  , 0.  , 0.  , 0.  , 0.  , 0.04, 0.  , 0.32, 0.  , 0.64]],\n\n       [[0.  , 0.  , 0.  , 0.  , 0.  , 0.75, 0.  , 0.04, 0.  , 0.21]],\n\n       [[0.  , 0.  , 0.  , 0.  , 0.  , 0.01, 0.  , 0.24, 0.  , 0.75]],\n\n       [[0.  , 0.  , 0.  , 0.  , 0.  , 0.  , 0.  , 0.04, 0.  , 0.96]],\n\n       [[0.  , 0.  , 0.  , 0.  , 0.  , 0.44, 0.  , 0.38, 0.  , 0.17]],\n\n       [[0.  , 0.  , 0.  , 0.  , 0.  , 0.  , 0.  , 0.02, 0.  , 0.98]],\n\n       [[0.  , 0.  , 0.  , 0.  , 0.  , 0.01, 0.  , 0.02, 0.  , 0.96]],\n\n       [[0.  , 0.  , 0.  , 0.  , 0.  , 0.  , 0.  , 0.01, 0.  , 0.99]],\n\n       [[0.  , 0.  , 0.  , 0.  , 0.  , 0.06, 0.  , 0.12, 0.  , 0.82]],\n\n       [[0.  , 0.  , 0.  , 0.  , 0.  , 0.  , 0.  , 0.02, 0.  , 0.97]],\n\n       [[0.  , 0.  , 0.  , 0.  , 0.  , 0.  , 0.  , 0.28, 0.  , 0.71]],\n\n       [[0.  , 0.  , 0.  , 0.  , 0.  , 0.02, 0.  , 0.17, 0.  , 0.82]],\n\n       [[0.  , 0.  , 0.  , 0.  , 0.  , 0.23, 0.  , 0.27, 0.  , 0.5 ]],\n\n       [[0.  , 0.  , 0.  , 0.  , 0.  , 0.06, 0.  , 0.78, 0.  , 0.16]],\n\n       [[0.  , 0.  , 0.  , 0.  , 0.  , 0.  , 0.  , 0.01, 0.  , 0.99]],\n\n       [[0.  , 0.  , 0.  , 0.  , 0.  , 0.03, 0.  , 0.03, 0.  , 0.94]],\n\n       [[0.  , 0.  , 0.01, 0.  , 0.02, 0.21, 0.01, 0.01, 0.  , 0.75]],\n\n       [[0.  , 0.  , 0.  , 0.  , 0.  , 0.01, 0.  , 0.06, 0.  , 0.93]],\n\n       [[0.  , 0.  , 0.  , 0.  , 0.  , 0.  , 0.  , 0.4 , 0.  , 0.6 ]],\n\n       [[0.  , 0.  , 0.  , 0.  , 0.  , 0.12, 0.  , 0.18, 0.01, 0.69]],\n\n       [[0.  , 0.  , 0.  , 0.  , 0.  , 0.02, 0.  , 0.15, 0.  , 0.83]],\n\n       [[0.  , 0.  , 0.  , 0.  , 0.  , 0.24, 0.  , 0.24, 0.  , 0.52]],\n\n       [[0.  , 0.  , 0.  , 0.  , 0.  , 0.11, 0.  , 0.01, 0.  , 0.88]],\n\n       [[0.  , 0.  , 0.  , 0.  , 0.  , 0.  , 0.  , 0.2 , 0.  , 0.8 ]],\n\n       [[0.  , 0.  , 0.  , 0.  , 0.  , 0.05, 0.  , 0.04, 0.  , 0.91]],\n\n       [[0.  , 0.  , 0.  , 0.  , 0.  , 0.02, 0.  , 0.21, 0.  , 0.77]],\n\n       [[0.  , 0.  , 0.  , 0.  , 0.  , 0.26, 0.  , 0.67, 0.  , 0.07]],\n\n       [[0.  , 0.  , 0.  , 0.  , 0.  , 0.27, 0.  , 0.55, 0.  , 0.19]],\n\n       [[0.  , 0.  , 0.  , 0.  , 0.  , 0.09, 0.  , 0.47, 0.  , 0.43]],\n\n       [[0.  , 0.  , 0.  , 0.  , 0.  , 0.  , 0.  , 0.01, 0.  , 0.99]],\n\n       [[0.  , 0.  , 0.  , 0.  , 0.  , 0.07, 0.  , 0.71, 0.  , 0.22]],\n\n       [[0.  , 0.  , 0.  , 0.  , 0.  , 0.1 , 0.  , 0.63, 0.01, 0.26]],\n\n       [[0.  , 0.  , 0.  , 0.  , 0.  , 0.  , 0.  , 0.  , 0.  , 1.  ]],\n\n       [[0.  , 0.  , 0.  , 0.  , 0.  , 0.03, 0.  , 0.16, 0.  , 0.81]],\n\n       [[0.  , 0.  , 0.  , 0.  , 0.  , 0.04, 0.  , 0.15, 0.  , 0.8 ]],\n\n       [[0.  , 0.  , 0.  , 0.  , 0.  , 0.01, 0.  , 0.24, 0.  , 0.75]],\n\n       [[0.  , 0.  , 0.  , 0.  , 0.  , 0.06, 0.  , 0.13, 0.  , 0.81]],\n\n       [[0.  , 0.  , 0.  , 0.  , 0.  , 0.42, 0.  , 0.01, 0.  , 0.58]],\n\n       [[0.  , 0.  , 0.  , 0.  , 0.  , 0.02, 0.  , 0.15, 0.  , 0.83]],\n\n       [[0.  , 0.  , 0.  , 0.  , 0.  , 0.01, 0.  , 0.79, 0.  , 0.19]],\n\n       [[0.  , 0.  , 0.  , 0.  , 0.  , 0.  , 0.  , 0.21, 0.  , 0.79]],\n\n       [[0.  , 0.  , 0.  , 0.  , 0.  , 0.  , 0.  , 0.06, 0.  , 0.93]],\n\n       [[0.  , 0.  , 0.  , 0.  , 0.  , 0.01, 0.  , 0.12, 0.  , 0.87]],\n\n       [[0.  , 0.  , 0.  , 0.  , 0.  , 0.04, 0.  , 0.06, 0.  , 0.9 ]],\n\n       [[0.  , 0.  , 0.  , 0.  , 0.  , 0.  , 0.  , 0.  , 0.  , 1.  ]],\n\n       [[0.  , 0.  , 0.  , 0.  , 0.  , 0.01, 0.  , 0.01, 0.  , 0.98]],\n\n       [[0.  , 0.  , 0.  , 0.  , 0.  , 0.05, 0.  , 0.08, 0.  , 0.87]],\n\n       [[0.  , 0.  , 0.  , 0.  , 0.  , 0.03, 0.  , 0.51, 0.  , 0.46]],\n\n       [[0.  , 0.  , 0.  , 0.  , 0.  , 0.96, 0.  , 0.02, 0.  , 0.02]],\n\n       [[0.  , 0.  , 0.  , 0.  , 0.  , 0.38, 0.  , 0.05, 0.  , 0.57]],\n\n       [[0.  , 0.  , 0.  , 0.  , 0.  , 0.01, 0.  , 0.07, 0.  , 0.92]],\n\n       [[0.  , 0.  , 0.  , 0.  , 0.  , 0.  , 0.  , 0.02, 0.  , 0.98]],\n\n       [[0.  , 0.  , 0.  , 0.  , 0.  , 0.05, 0.  , 0.06, 0.  , 0.89]],\n\n       [[0.  , 0.  , 0.  , 0.  , 0.  , 0.01, 0.  , 0.05, 0.  , 0.94]],\n\n       [[0.  , 0.  , 0.  , 0.  , 0.  , 0.37, 0.  , 0.37, 0.  , 0.26]],\n\n       [[0.  , 0.  , 0.  , 0.  , 0.  , 0.37, 0.  , 0.19, 0.  , 0.44]],\n\n       [[0.  , 0.  , 0.  , 0.  , 0.  , 0.02, 0.  , 0.11, 0.  , 0.87]],\n\n       [[0.  , 0.  , 0.  , 0.  , 0.  , 0.01, 0.  , 0.01, 0.  , 0.98]],\n\n       [[0.  , 0.  , 0.  , 0.  , 0.  , 0.01, 0.  , 0.41, 0.  , 0.59]],\n\n       [[0.  , 0.  , 0.  , 0.  , 0.  , 0.  , 0.  , 0.12, 0.  , 0.87]],\n\n       [[0.  , 0.  , 0.  , 0.  , 0.  , 0.08, 0.  , 0.21, 0.  , 0.71]],\n\n       [[0.  , 0.  , 0.  , 0.  , 0.  , 0.12, 0.  , 0.13, 0.  , 0.75]]],\n      dtype=float32)"
     },
     "execution_count": 113,
     "metadata": {},
     "output_type": "execute_result"
    }
   ]
  },
  {
   "cell_type": "code",
   "metadata": {
    "cell_id": "00170-985a535c-36a0-4022-8bfe-efbe1d140b98",
    "deepnote_to_be_reexecuted": true,
    "source_hash": "56e67949",
    "deepnote_cell_type": "code",
    "deepnote_cell_height": 132.375,
    "deepnote_output_heights": [
     40.375
    ]
   },
   "source": "np.round(y_proba[:1], 2)",
   "execution_count": null,
   "outputs": [
    {
     "data": {
      "text/plain": "array([[0.  , 0.  , 0.  , 0.  , 0.  , 0.1 , 0.  , 0.22, 0.  , 0.68]],\n      dtype=float32)"
     },
     "execution_count": 114,
     "metadata": {},
     "output_type": "execute_result"
    }
   ]
  },
  {
   "cell_type": "code",
   "metadata": {
    "cell_id": "00171-ee229e78-1664-4a33-80e4-6bb2bf35e713",
    "deepnote_to_be_reexecuted": true,
    "source_hash": "4d303287",
    "deepnote_cell_type": "code",
    "deepnote_cell_height": 150.375,
    "deepnote_output_heights": [
     40.375
    ]
   },
   "source": "y_std = y_probas.std(axis=0)\nnp.round(y_std[:1], 2)",
   "execution_count": null,
   "outputs": [
    {
     "data": {
      "text/plain": "array([[0.  , 0.  , 0.  , 0.  , 0.  , 0.18, 0.  , 0.24, 0.  , 0.29]],\n      dtype=float32)"
     },
     "execution_count": 115,
     "metadata": {},
     "output_type": "execute_result"
    }
   ]
  },
  {
   "cell_type": "code",
   "metadata": {
    "cell_id": "00172-1507067d-4851-42d9-8207-a6a660102d18",
    "deepnote_to_be_reexecuted": true,
    "source_hash": "4fdfb0f1",
    "deepnote_cell_type": "code",
    "deepnote_cell_height": 76
   },
   "source": "y_pred = np.argmax(y_proba, axis=1)",
   "execution_count": null,
   "outputs": []
  },
  {
   "cell_type": "code",
   "metadata": {
    "cell_id": "00173-81719507-49c5-47d6-a211-1cb1741ba8f3",
    "deepnote_to_be_reexecuted": true,
    "source_hash": "185a70f3",
    "deepnote_cell_type": "code",
    "deepnote_cell_height": 131.1875,
    "deepnote_output_heights": [
     21.1875
    ]
   },
   "source": "accuracy = np.sum(y_pred == y_test) / len(y_test)\naccuracy",
   "execution_count": null,
   "outputs": [
    {
     "data": {
      "text/plain": "0.8661"
     },
     "execution_count": 117,
     "metadata": {},
     "output_type": "execute_result"
    }
   ]
  },
  {
   "cell_type": "code",
   "metadata": {
    "cell_id": "00174-e581c382-52cf-455a-931c-152194380c6d",
    "deepnote_to_be_reexecuted": true,
    "source_hash": "686a1ad7",
    "deepnote_cell_type": "code",
    "deepnote_cell_height": 184
   },
   "source": "class MCDropout(keras.layers.Dropout):\n    def call(self, inputs):\n        return super().call(inputs, training=True)\n\nclass MCAlphaDropout(keras.layers.AlphaDropout):\n    def call(self, inputs):\n        return super().call(inputs, training=True)",
   "execution_count": null,
   "outputs": []
  },
  {
   "cell_type": "code",
   "metadata": {
    "cell_id": "00175-6a6b3aa9-4606-49fe-a74d-09f474068af5",
    "deepnote_to_be_reexecuted": true,
    "source_hash": "d690901b",
    "deepnote_cell_type": "code",
    "deepnote_cell_height": 94
   },
   "source": "tf.random.set_seed(42)\nnp.random.seed(42)",
   "execution_count": null,
   "outputs": []
  },
  {
   "cell_type": "code",
   "metadata": {
    "cell_id": "00176-c5c05750-81ca-4560-a0fd-3a934b4b5f2f",
    "deepnote_to_be_reexecuted": true,
    "source_hash": "e9f125ad",
    "deepnote_cell_type": "code",
    "deepnote_cell_height": 130
   },
   "source": "mc_model = keras.models.Sequential([\n    MCAlphaDropout(layer.rate) if isinstance(layer, keras.layers.AlphaDropout) else layer\n    for layer in model.layers\n])",
   "execution_count": null,
   "outputs": []
  },
  {
   "cell_type": "code",
   "metadata": {
    "cell_id": "00177-81d612b2-290f-4c48-af04-c76c08247b45",
    "deepnote_to_be_reexecuted": true,
    "source_hash": "20fccbf1",
    "deepnote_cell_type": "code",
    "deepnote_cell_height": 531.125
   },
   "source": "mc_model.summary()",
   "execution_count": null,
   "outputs": [
    {
     "name": "stdout",
     "output_type": "stream",
     "text": "Model: \"sequential_20\"\n_________________________________________________________________\nLayer (type)                 Output Shape              Param #   \n=================================================================\nflatten_18 (Flatten)         (None, 784)               0         \n_________________________________________________________________\nmc_alpha_dropout (MCAlphaDro (None, 784)               0         \n_________________________________________________________________\ndense_262 (Dense)            (None, 300)               235500    \n_________________________________________________________________\nmc_alpha_dropout_1 (MCAlphaD (None, 300)               0         \n_________________________________________________________________\ndense_263 (Dense)            (None, 100)               30100     \n_________________________________________________________________\nmc_alpha_dropout_2 (MCAlphaD (None, 100)               0         \n_________________________________________________________________\ndense_264 (Dense)            (None, 10)                1010      \n=================================================================\nTotal params: 266,610\nTrainable params: 266,610\nNon-trainable params: 0\n_________________________________________________________________\n"
    }
   ]
  },
  {
   "cell_type": "code",
   "metadata": {
    "cell_id": "00178-1973d9cb-dabe-419b-9491-10830d094ae1",
    "deepnote_to_be_reexecuted": true,
    "source_hash": "4cd2bce0",
    "deepnote_cell_type": "code",
    "deepnote_cell_height": 94
   },
   "source": "optimizer = keras.optimizers.SGD(learning_rate=0.01, momentum=0.9, nesterov=True)\nmc_model.compile(loss=\"sparse_categorical_crossentropy\", optimizer=optimizer, metrics=[\"accuracy\"])",
   "execution_count": null,
   "outputs": []
  },
  {
   "cell_type": "code",
   "metadata": {
    "cell_id": "00179-62844632-0491-4dcb-a7dc-d26f634b2991",
    "deepnote_to_be_reexecuted": true,
    "source_hash": "fc49a37a",
    "deepnote_cell_type": "code",
    "deepnote_cell_height": 76
   },
   "source": "mc_model.set_weights(model.get_weights())",
   "execution_count": null,
   "outputs": []
  },
  {
   "cell_type": "markdown",
   "source": "Now we can use the model with MC Dropout:",
   "metadata": {
    "cell_id": "00180-8eace055-5445-4990-9a88-15d103459d3b",
    "deepnote_cell_type": "markdown",
    "deepnote_cell_height": 52.390625
   }
  },
  {
   "cell_type": "code",
   "metadata": {
    "cell_id": "00181-9bc33c82-a42d-4a88-bb79-e15f118d93cc",
    "deepnote_to_be_reexecuted": true,
    "source_hash": "d8139e66",
    "deepnote_cell_type": "code",
    "deepnote_cell_height": 132.375,
    "deepnote_output_heights": [
     40.375
    ]
   },
   "source": "np.round(np.mean([mc_model.predict(X_test_scaled[:1]) for sample in range(100)], axis=0), 2)",
   "execution_count": null,
   "outputs": [
    {
     "data": {
      "text/plain": "array([[0.  , 0.  , 0.  , 0.  , 0.  , 0.14, 0.  , 0.25, 0.01, 0.61]],\n      dtype=float32)"
     },
     "execution_count": 124,
     "metadata": {},
     "output_type": "execute_result"
    }
   ]
  },
  {
   "cell_type": "markdown",
   "source": "## Max norm",
   "metadata": {
    "cell_id": "00182-a77434bd-5a1c-44f9-af9d-36f52c4324b5",
    "deepnote_cell_type": "markdown",
    "deepnote_cell_height": 70
   }
  },
  {
   "cell_type": "code",
   "metadata": {
    "cell_id": "00183-d7b3da83-74c8-4224-9e75-afa63cc751dd",
    "deepnote_to_be_reexecuted": true,
    "source_hash": "3d0f9eee",
    "deepnote_cell_type": "code",
    "deepnote_cell_height": 94
   },
   "source": "layer = keras.layers.Dense(100, activation=\"selu\", kernel_initializer=\"lecun_normal\",\n                           kernel_constraint=keras.constraints.max_norm(1.))",
   "execution_count": null,
   "outputs": []
  },
  {
   "cell_type": "code",
   "metadata": {
    "cell_id": "00184-6e9b021d-fafd-4ec5-9ef5-9df9446c75bd",
    "deepnote_to_be_reexecuted": true,
    "source_hash": "e12f41d3",
    "deepnote_cell_type": "code",
    "deepnote_cell_height": 401.75
   },
   "source": "MaxNormDense = partial(keras.layers.Dense,\n                       activation=\"selu\", kernel_initializer=\"lecun_normal\",\n                       kernel_constraint=keras.constraints.max_norm(1.))\n\nmodel = keras.models.Sequential([\n    keras.layers.Flatten(input_shape=[28, 28]),\n    MaxNormDense(300),\n    MaxNormDense(100),\n    keras.layers.Dense(10, activation=\"softmax\")\n])\nmodel.compile(loss=\"sparse_categorical_crossentropy\", optimizer=\"nadam\", metrics=[\"accuracy\"])\nn_epochs = 2\nhistory = model.fit(X_train_scaled, y_train, epochs=n_epochs,\n                    validation_data=(X_valid_scaled, y_valid))",
   "execution_count": null,
   "outputs": [
    {
     "name": "stdout",
     "output_type": "stream",
     "text": "Epoch 1/2\n1719/1719 [==============================] - 5s 3ms/step - loss: 0.5763 - accuracy: 0.8020 - val_loss: 0.3674 - val_accuracy: 0.8674\nEpoch 2/2\n1719/1719 [==============================] - 5s 3ms/step - loss: 0.3545 - accuracy: 0.8709 - val_loss: 0.3714 - val_accuracy: 0.8662\n"
    }
   ]
  },
  {
   "cell_type": "markdown",
   "source": "# Exercises",
   "metadata": {
    "cell_id": "00185-965cded5-3017-4695-bbb4-e52c75c2455e",
    "deepnote_cell_type": "markdown",
    "deepnote_cell_height": 82
   }
  },
  {
   "cell_type": "markdown",
   "source": "## 1. to 7.",
   "metadata": {
    "cell_id": "00186-cd5bae67-3ad7-4d15-85f7-2433b37667e4",
    "deepnote_cell_type": "markdown",
    "deepnote_cell_height": 70
   }
  },
  {
   "cell_type": "markdown",
   "source": "See appendix A.",
   "metadata": {
    "cell_id": "00187-7d2b9354-d430-46a3-8051-d47f2ba4f757",
    "deepnote_cell_type": "markdown",
    "deepnote_cell_height": 52.390625
   }
  },
  {
   "cell_type": "markdown",
   "source": "1. Is it OK to initialize all the weights to the same value as long as that value is selected randomly using He initialization?\n",
   "metadata": {
    "cell_id": "87ed37a8194e4a4ba32eb052c23420e9",
    "tags": [],
    "deepnote_cell_type": "markdown",
    "deepnote_cell_height": 69.390625
   }
  },
  {
   "cell_type": "markdown",
   "source": "No, all weights should be sampled independently; they should not all have the same initial value. One important goal of sampling weights randomly is to break symmetry: if all the weights have the same initial value, even if that value is not zero, then symmetry is not broken (i.e., all neurons in a given layer are equivalent), and backpropagation will be unable to break it. Concretely, this means that all the neurons in any given layer will always have the same weights. It’s like having just one neuron per layer, and much slower. It is virtually impossible for such a configuration to converge to a good solution.",
   "metadata": {
    "cell_id": "2e03a500bb63436983e2afcb1c3504e5",
    "tags": [],
    "deepnote_cell_type": "markdown",
    "deepnote_cell_height": 119.5625
   }
  },
  {
   "cell_type": "markdown",
   "source": "2. Is it OK to initialize the bias terms to 0?",
   "metadata": {
    "cell_id": "ab94fc7469d143bca92188bb93efeb4b",
    "tags": [],
    "deepnote_cell_type": "markdown",
    "deepnote_cell_height": 69.390625
   }
  },
  {
   "cell_type": "markdown",
   "source": "It is perfectly fine to initialize the bias terms to zero. Some people like to initialize them just like weights, and that’s okay too; it does not make much difference.",
   "metadata": {
    "cell_id": "b1298fec2cd64bd4aae6060a350e566a",
    "tags": [],
    "deepnote_cell_type": "markdown",
    "deepnote_cell_height": 52.390625
   }
  },
  {
   "cell_type": "markdown",
   "source": "3. Name three advantages of the SELU activation function over ReLU.\n",
   "metadata": {
    "cell_id": "3621e6c384ba4bbca9d39b786f357e6f",
    "tags": [],
    "deepnote_cell_type": "markdown",
    "deepnote_cell_height": 69.390625
   }
  },
  {
   "cell_type": "markdown",
   "source": "A few advantages of the SELU function over the ReLU function are:\n- It can take on negative values, so the average output of the neurons in any given layer is typically closer to zero than when using the ReLU activation function (which never outputs negative values). This helps alleviate the vanishing gradients problem.\n- It always has a nonzero derivative, which avoids the dying units issue that can affect ReLU units. \n- When the conditions are right (i.e., if the model is sequential, and the weights are initialized using LeCun initialization, and the inputs are standardized, and there’s no incompatible layer or regularization, such as dropout or $l_1$ regularization), then the SELU activation function ensures the model is self-normalized, which solves the exploding/vanishing gradients problems.\n",
   "metadata": {
    "cell_id": "4ac94b81da324b7aabb7c65d3981fd92",
    "tags": [],
    "deepnote_cell_type": "markdown",
    "deepnote_cell_height": 393.734375
   }
  },
  {
   "cell_type": "markdown",
   "source": "4. In which cases would you want to use each of the following activation functions: SELU, leaky ReLU (and its variants), ReLU, tanh, logistic, and softmax?",
   "metadata": {
    "cell_id": "e5beebb6724d4179afc953b99ca0a7d8",
    "tags": [],
    "deepnote_cell_type": "markdown",
    "deepnote_cell_height": 69.390625
   }
  },
  {
   "cell_type": "markdown",
   "source": "The SELU activation function is a good default. If you need the neural network to be as fast as possible, you can use one of the leaky ReLU variants instead (e.g., a simple leaky ReLU using the default hyperparameter value). The simplicity of the ReLU activation function makes it many people’s preferred option, despite the fact that it is generally outperformed by SELU and leaky ReLU. However, the ReLU activation function’s ability to output precisely zero can be useful in some cases (e.g., see Chapter 17). Moreover, it can sometimes benefit from  optimized implementation as well as from hardware acceleration. The hyperbolic tangent (tanh) can be useful in the output layer if you need to output a number between –1 and 1, but nowadays it is not used much in hidden layers (except in recurrent nets). The logistic activation function is also useful in the output layer when you need to estimate a probability (e.g., for binary classification), but is rarely used in hidden layers (there are exceptions—for example, for the coding layer of variational autoencoders; see Chapter 17). Finally, the softmax activation function is useful in the output layer to output probabilities for mutually exclusive classes, but it is rarely (if ever) used in hidden layers.\n",
   "metadata": {
    "cell_id": "3b551d83455b4e9da60fa43bcec2e8bd",
    "tags": [],
    "deepnote_cell_type": "markdown",
    "deepnote_cell_height": 209.125
   }
  },
  {
   "cell_type": "markdown",
   "source": "5. What may happen if you set the `momentum` hyperparameter too close to 1 (e.g., 0.99999) when using an SGD optimizer?",
   "metadata": {
    "cell_id": "2f98b33f57394297be5ec6cea0360452",
    "tags": [],
    "deepnote_cell_type": "markdown",
    "deepnote_cell_height": 69.390625
   }
  },
  {
   "cell_type": "markdown",
   "source": "If you set the momentum hyperparameter too close to 1 (e.g., 0.99999) when using an SGD optimizer, then the algorithm will likely pick up a lot of speed, hopefully moving roughly toward the global minimum, but its momentum will carry it right past the minimum. Then it will slow down and come back, accelerate again, overshoot again, and so on. It may oscillate this way many times before converging, so overall it will take much longer to converge than with a smaller momentum value.",
   "metadata": {
    "cell_id": "08136a575171441cab9da7c1d900d5f6",
    "tags": [],
    "deepnote_cell_type": "markdown",
    "deepnote_cell_height": 119.5625
   }
  },
  {
   "cell_type": "markdown",
   "source": "6. Name three ways you can produce a sparse model.\n",
   "metadata": {
    "cell_id": "ce06e2f9302a4573895256d6fbf9fa5e",
    "tags": [],
    "deepnote_cell_type": "markdown",
    "deepnote_cell_height": 69.390625
   }
  },
  {
   "cell_type": "markdown",
   "source": "One way to produce a sparse model (i.e., with most weights equal to zero) is to train the model normally, then zero out tiny weights. For more sparsity, you can apply $l_1$ regularization during training, which pushes the optimizer toward sparsity. A third option is to use the TensorFlow Model Optimization Toolkit.",
   "metadata": {
    "cell_id": "0ecacedab38d486e82658bb38f723bbc",
    "tags": [],
    "deepnote_cell_type": "markdown",
    "deepnote_cell_height": 74.78125
   }
  },
  {
   "cell_type": "markdown",
   "source": "7. Does dropout slow down training? Does it slow down inference (i.e., making predictions on new instances)? What about MC Dropout?\n",
   "metadata": {
    "cell_id": "5168360ff4fe49448958c29e5afcfbcc",
    "tags": [],
    "deepnote_cell_type": "markdown",
    "deepnote_cell_height": 69.390625
   }
  },
  {
   "cell_type": "markdown",
   "source": "Yes, dropout does slow down training, in general roughly by a factor of two. However, it has no impact on inference speed since it is only turned on during training. MC Dropout is exactly like dropout during training, but it is still active during inference, so each inference is slowed down slightly. More importantly, when using MC Dropout you generally want to run inference 10 times or more to get better predictions. This means that making predictions is slowed down by a factor of 10 or more.\n",
   "metadata": {
    "cell_id": "823f98dc13444227b3369aed85034032",
    "tags": [],
    "deepnote_cell_type": "markdown",
    "deepnote_cell_height": 119.5625
   }
  },
  {
   "cell_type": "markdown",
   "source": "8. Practice training a deep neural network on the CIFAR10 image dataset:\n    - Build a DNN with 20 hidden layers of 100 neurons each (that’s too many, but it’s the point of this exercise). Use He initialization and the ELU activation function.\n    - Using Nadam optimization and early stopping, train the network on the CIFAR10 dataset. You can load it with `keras.datasets.cifar10.load_ data()`. The dataset is composed of 60,000 32 × 32–pixel color images (50,000 for training, 10,000 for testing) with 10 classes, so you’ll need a softmax output layer with 10 neurons. Remember to search for the right learning rate each time you change the model’s architecture or hyperparameters.\n    - Now try adding Batch Normalization and compare the learning curves: Is it converging faster than before? Does it produce a better model? How does it affect training speed?\n    - Try replacing Batch Normalization with SELU, and  make the necessary adjustements to ensure the network self normalizes (i.e., standardize the input features, use LeCun normal initialization, make sure the DNN contains only a sequence of dense layers, etc.).\n    - Try regularizing the model with alpha dropout. Then, without retraining your model, see if you can achieve better accuracy using MC Dropout. \n    - Retrain your model using 1cycle scheduling and see if it improves training speed and model accuracy.",
   "metadata": {
    "cell_id": "b810e630b10d470e9942d9c0ab015868",
    "tags": [],
    "deepnote_cell_type": "markdown",
    "deepnote_cell_height": 333.6875
   }
  },
  {
   "cell_type": "markdown",
   "source": "## 8. Deep Learning on CIFAR10",
   "metadata": {
    "cell_id": "00188-9fd6280c-5624-4885-83a5-57078672d100",
    "deepnote_cell_type": "markdown",
    "deepnote_cell_height": 70
   }
  },
  {
   "cell_type": "markdown",
   "source": "### a.\n*Exercise: Build a DNN with 20 hidden layers of 100 neurons each (that's too many, but it's the point of this exercise). Use He initialization and the ELU activation function.*",
   "metadata": {
    "cell_id": "00189-9c10ac35-8e49-4923-b7e9-760bfe9e39da",
    "deepnote_cell_type": "markdown",
    "deepnote_cell_height": 122.78125
   }
  },
  {
   "cell_type": "code",
   "metadata": {
    "cell_id": "00190-a008560d-6baf-43ae-ada9-12178adf9071",
    "deepnote_to_be_reexecuted": true,
    "source_hash": "99b489b",
    "deepnote_cell_type": "code",
    "deepnote_cell_height": 238
   },
   "source": "keras.backend.clear_session()\ntf.random.set_seed(42)\nnp.random.seed(42)\n\nmodel = keras.models.Sequential()\nmodel.add(keras.layers.Flatten(input_shape=[32, 32, 3]))\nfor _ in range(20):\n    model.add(keras.layers.Dense(100,\n                                 activation=\"elu\",\n                                 kernel_initializer=\"he_normal\"))",
   "execution_count": null,
   "outputs": []
  },
  {
   "cell_type": "markdown",
   "source": "### b.\n*Exercise: Using Nadam optimization and early stopping, train the network on the CIFAR10 dataset. You can load it with `keras.datasets.cifar10.load_data()`. The dataset is composed of 60,000 32 × 32–pixel color images (50,000 for training, 10,000 for testing) with 10 classes, so you'll need a softmax output layer with 10 neurons. Remember to search for the right learning rate each time you change the model's architecture or hyperparameters.*",
   "metadata": {
    "cell_id": "00191-e034f403-bb27-42b4-a01c-694638ec47ab",
    "deepnote_cell_type": "markdown",
    "deepnote_cell_height": 145.171875
   }
  },
  {
   "cell_type": "markdown",
   "source": "Let's add the output layer to the model:",
   "metadata": {
    "cell_id": "00192-560f387e-4c92-46c3-a7e5-c9e1044783ee",
    "deepnote_cell_type": "markdown",
    "deepnote_cell_height": 52.390625
   }
  },
  {
   "cell_type": "code",
   "metadata": {
    "cell_id": "00193-7db63013-3244-48e2-ba1c-2d1e97dd451b",
    "deepnote_to_be_reexecuted": true,
    "source_hash": "4eae7f1e",
    "deepnote_cell_type": "code",
    "deepnote_cell_height": 76
   },
   "source": "model.add(keras.layers.Dense(10, activation=\"softmax\"))",
   "execution_count": null,
   "outputs": []
  },
  {
   "cell_type": "markdown",
   "source": "Let's use a Nadam optimizer with a learning rate of 5e-5. I tried learning rates 1e-5, 3e-5, 1e-4, 3e-4, 1e-3, 3e-3 and 1e-2, and I compared their learning curves for 10 epochs each (using the TensorBoard callback, below). The learning rates 3e-5 and 1e-4 were pretty good, so I tried 5e-5, which turned out to be slightly better.",
   "metadata": {
    "cell_id": "00194-6cded11a-10d1-47f2-ac60-3d76a9fc3597",
    "deepnote_cell_type": "markdown",
    "deepnote_cell_height": 97.171875
   }
  },
  {
   "cell_type": "code",
   "metadata": {
    "cell_id": "00195-c8054eb9-e638-4455-9ff8-8f0fea293b15",
    "deepnote_to_be_reexecuted": true,
    "source_hash": "1cb6db96",
    "deepnote_cell_type": "code",
    "deepnote_cell_height": 130
   },
   "source": "optimizer = keras.optimizers.Nadam(learning_rate=5e-5)\nmodel.compile(loss=\"sparse_categorical_crossentropy\",\n              optimizer=optimizer,\n              metrics=[\"accuracy\"])",
   "execution_count": null,
   "outputs": []
  },
  {
   "cell_type": "markdown",
   "source": "Let's load the CIFAR10 dataset. We also want to use early stopping, so we need a validation set. Let's use the first 5,000 images of the original training set as the validation set:",
   "metadata": {
    "cell_id": "00196-87502ab8-8673-474d-99f1-e5ab172af78c",
    "deepnote_cell_type": "markdown",
    "deepnote_cell_height": 74.78125
   }
  },
  {
   "cell_type": "code",
   "metadata": {
    "cell_id": "00197-6397dddb-d96d-47ed-8b86-7339bb8ad28c",
    "deepnote_to_be_reexecuted": true,
    "source_hash": "54203219",
    "deepnote_cell_type": "code",
    "deepnote_cell_height": 166
   },
   "source": "(X_train_full, y_train_full), (X_test, y_test) = keras.datasets.cifar10.load_data()\n\nX_train = X_train_full[5000:]\ny_train = y_train_full[5000:]\nX_valid = X_train_full[:5000]\ny_valid = y_train_full[:5000]",
   "execution_count": null,
   "outputs": []
  },
  {
   "cell_type": "markdown",
   "source": "Now we can create the callbacks we need and train the model:",
   "metadata": {
    "cell_id": "00198-87eb6964-75b4-42e7-a0cc-48e390df533b",
    "deepnote_cell_type": "markdown",
    "deepnote_cell_height": 52.390625
   }
  },
  {
   "cell_type": "code",
   "metadata": {
    "cell_id": "00199-dfb109c2-3822-4b9a-8af7-0172cc6aa6ac",
    "deepnote_to_be_reexecuted": true,
    "source_hash": "5799edf",
    "deepnote_cell_type": "code",
    "deepnote_cell_height": 166
   },
   "source": "early_stopping_cb = keras.callbacks.EarlyStopping(patience=20)\nmodel_checkpoint_cb = keras.callbacks.ModelCheckpoint(\"my_cifar10_model.h5\", save_best_only=True)\nrun_index = 1 # increment every time you train the model\nrun_logdir = os.path.join(os.curdir, \"my_cifar10_logs\", \"run_{:03d}\".format(run_index))\ntensorboard_cb = keras.callbacks.TensorBoard(run_logdir)\ncallbacks = [early_stopping_cb, model_checkpoint_cb, tensorboard_cb]",
   "execution_count": null,
   "outputs": []
  },
  {
   "cell_type": "code",
   "metadata": {
    "cell_id": "00200-57917064-6d92-4338-9027-3c533f9e5143",
    "deepnote_to_be_reexecuted": true,
    "source_hash": "ae0162b6",
    "deepnote_cell_type": "code",
    "deepnote_cell_height": 170.75
   },
   "source": "%tensorboard --logdir=./my_cifar10_logs --port=6006",
   "execution_count": null,
   "outputs": [
    {
     "data": {
      "text/plain": "ERROR: Failed to launch TensorBoard (exited with 255).\nContents of stderr:\nE0213 19:12:55.493896 4621630912 program.py:311] TensorBoard could not bind to port 6006, it was already in use\nERROR: TensorBoard could not bind to port 6006, it was already in use"
     },
     "metadata": {},
     "output_type": "display_data"
    }
   ]
  },
  {
   "cell_type": "code",
   "metadata": {
    "cell_id": "00201-684ec2bc-947b-4d63-b8d1-df82bfc8842d",
    "deepnote_to_be_reexecuted": true,
    "source_hash": "9de92f89",
    "deepnote_cell_type": "code",
    "deepnote_cell_height": 784.1875,
    "deepnote_output_heights": [
     null,
     21.1875
    ]
   },
   "source": "model.fit(X_train, y_train, epochs=100,\n          validation_data=(X_valid, y_valid),\n          callbacks=callbacks)",
   "execution_count": null,
   "outputs": [
    {
     "name": "stdout",
     "output_type": "stream",
     "text": "Epoch 1/100\n1407/1407 [==============================] - 9s 5ms/step - loss: 9.4191 - accuracy: 0.1388 - val_loss: 2.2328 - val_accuracy: 0.2040\nEpoch 2/100\n1407/1407 [==============================] - 7s 5ms/step - loss: 2.1097 - accuracy: 0.2317 - val_loss: 2.0485 - val_accuracy: 0.2402\nEpoch 3/100\n1407/1407 [==============================] - 7s 5ms/step - loss: 1.9667 - accuracy: 0.2844 - val_loss: 1.9681 - val_accuracy: 0.2964\nEpoch 4/100\n1407/1407 [==============================] - 7s 5ms/step - loss: 1.8740 - accuracy: 0.3149 - val_loss: 1.9178 - val_accuracy: 0.3254\nEpoch 5/100\n1407/1407 [==============================] - 7s 5ms/step - loss: 1.8064 - accuracy: 0.3423 - val_loss: 1.8256 - val_accuracy: 0.3384\nEpoch 6/100\n1407/1407 [==============================] - 7s 5ms/step - loss: 1.7525 - accuracy: 0.3595 - val_loss: 1.7430 - val_accuracy: 0.3692\nEpoch 7/100\n1407/1407 [==============================] - 7s 5ms/step - loss: 1.7116 - accuracy: 0.3819 - val_loss: 1.7199 - val_accuracy: 0.3824\nEpoch 8/100\n1407/1407 [==============================] - 8s 5ms/step - loss: 1.6782 - accuracy: 0.3935 - val_loss: 1.6746 - val_accuracy: 0.3972\nEpoch 9/100\n1407/1407 [==============================] - 8s 5ms/step - loss: 1.6517 - accuracy: 0.4025 - val_loss: 1.6622 - val_accuracy: 0.4004\nEpoch 10/100\n1407/1407 [==============================] - 7s 5ms/step - loss: 1.6140 - accuracy: 0.4194 - val_loss: 1.7065 - val_accuracy: 0.3840\nEpoch 11/100\n1407/1407 [==============================] - 7s 5ms/step - loss: 1.5884 - accuracy: 0.4301 - val_loss: 1.6736 - val_accuracy: 0.3914\nEpoch 12/100\n1407/1407 [==============================] - 7s 5ms/step - loss: 1.5640 - accuracy: 0.4378 - val_loss: 1.6220 - val_accuracy: 0.4224\nEpoch 13/100\n1407/1407 [==============================] - 7s 5ms/step - loss: 1.5437 - accuracy: 0.4448 - val_loss: 1.6332 - val_accuracy: 0.4144\nEpoch 14/100\n1407/1407 [==============================] - 7s 5ms/step - loss: 1.5214 - accuracy: 0.4555 - val_loss: 1.5785 - val_accuracy: 0.4326\nEpoch 15/100\n1407/1407 [==============================] - 7s 5ms/step - loss: 1.5117 - accuracy: 0.4564 - val_loss: 1.6267 - val_accuracy: 0.4164\nEpoch 16/100\n1407/1407 [==============================] - 7s 5ms/step - loss: 1.4972 - accuracy: 0.4622 - val_loss: 1.5846 - val_accuracy: 0.4316\nEpoch 17/100\n1407/1407 [==============================] - 7s 5ms/step - loss: 1.4888 - accuracy: 0.4661 - val_loss: 1.5549 - val_accuracy: 0.4420\nEpoch 18/100\n<<24 more lines>>\n1407/1407 [==============================] - 8s 5ms/step - loss: 1.3362 - accuracy: 0.5212 - val_loss: 1.6025 - val_accuracy: 0.4500\nEpoch 31/100\n1407/1407 [==============================] - 7s 5ms/step - loss: 1.3360 - accuracy: 0.5207 - val_loss: 1.5175 - val_accuracy: 0.4602\nEpoch 32/100\n1407/1407 [==============================] - 8s 5ms/step - loss: 1.3031 - accuracy: 0.5302 - val_loss: 1.5397 - val_accuracy: 0.4572\nEpoch 33/100\n1407/1407 [==============================] - 8s 5ms/step - loss: 1.3082 - accuracy: 0.5308 - val_loss: 1.4997 - val_accuracy: 0.4776\nEpoch 34/100\n1407/1407 [==============================] - 8s 5ms/step - loss: 1.2882 - accuracy: 0.5338 - val_loss: 1.5482 - val_accuracy: 0.4620\nEpoch 35/100\n1407/1407 [==============================] - 8s 5ms/step - loss: 1.2889 - accuracy: 0.5355 - val_loss: 1.5474 - val_accuracy: 0.4604\nEpoch 36/100\n1407/1407 [==============================] - 7s 5ms/step - loss: 1.2761 - accuracy: 0.5410 - val_loss: 1.5434 - val_accuracy: 0.4658\nEpoch 37/100\n1407/1407 [==============================] - 7s 5ms/step - loss: 1.2658 - accuracy: 0.5481 - val_loss: 1.5502 - val_accuracy: 0.4706\nEpoch 38/100\n1407/1407 [==============================] - 7s 5ms/step - loss: 1.2554 - accuracy: 0.5489 - val_loss: 1.5527 - val_accuracy: 0.4624\nEpoch 39/100\n1407/1407 [==============================] - 7s 5ms/step - loss: 1.2504 - accuracy: 0.5471 - val_loss: 1.5482 - val_accuracy: 0.4602\nEpoch 40/100\n1407/1407 [==============================] - 7s 5ms/step - loss: 1.2516 - accuracy: 0.5545 - val_loss: 1.5881 - val_accuracy: 0.4574\nEpoch 41/100\n1407/1407 [==============================] - 7s 5ms/step - loss: 1.2401 - accuracy: 0.5566 - val_loss: 1.5403 - val_accuracy: 0.4670\nEpoch 42/100\n1407/1407 [==============================] - 8s 5ms/step - loss: 1.2305 - accuracy: 0.5570 - val_loss: 1.5343 - val_accuracy: 0.4790\nEpoch 43/100\n1407/1407 [==============================] - 7s 5ms/step - loss: 1.2228 - accuracy: 0.5615 - val_loss: 1.5344 - val_accuracy: 0.4708\nEpoch 44/100\n1407/1407 [==============================] - 7s 5ms/step - loss: 1.2161 - accuracy: 0.5619 - val_loss: 1.5782 - val_accuracy: 0.4526\nEpoch 45/100\n1407/1407 [==============================] - 7s 5ms/step - loss: 1.2124 - accuracy: 0.5641 - val_loss: 1.5182 - val_accuracy: 0.4794\nEpoch 46/100\n1407/1407 [==============================] - 7s 5ms/step - loss: 1.1870 - accuracy: 0.5766 - val_loss: 1.5435 - val_accuracy: 0.4650\nEpoch 47/100\n1407/1407 [==============================] - 7s 5ms/step - loss: 1.1925 - accuracy: 0.5701 - val_loss: 1.5532 - val_accuracy: 0.4686\n"
    },
    {
     "data": {
      "text/plain": "<tensorflow.python.keras.callbacks.History at 0x7fb1d8ef8790>"
     },
     "execution_count": 133,
     "metadata": {},
     "output_type": "execute_result"
    }
   ]
  },
  {
   "cell_type": "code",
   "metadata": {
    "cell_id": "00202-5704e032-355c-4e6c-b82e-d75eada679c0",
    "deepnote_to_be_reexecuted": true,
    "source_hash": "4fcc449",
    "deepnote_cell_type": "code",
    "deepnote_cell_height": 177.375,
    "deepnote_output_heights": [
     null,
     21.1875
    ]
   },
   "source": "model = keras.models.load_model(\"my_cifar10_model.h5\")\nmodel.evaluate(X_valid, y_valid)",
   "execution_count": null,
   "outputs": [
    {
     "name": "stdout",
     "output_type": "stream",
     "text": "157/157 [==============================] - 0s 1ms/step - loss: 1.4960 - accuracy: 0.4762\n"
    },
    {
     "data": {
      "text/plain": "[1.4960416555404663, 0.47620001435279846]"
     },
     "execution_count": 134,
     "metadata": {},
     "output_type": "execute_result"
    }
   ]
  },
  {
   "cell_type": "markdown",
   "source": "The model with the lowest validation loss gets about 47.6% accuracy on the validation set. It took 27 epochs to reach the lowest validation loss, with roughly 8 seconds per epoch on my laptop (without a GPU). Let's see if we can improve performance using Batch Normalization.",
   "metadata": {
    "cell_id": "00203-5359c5dd-0a05-4eb1-a824-33529f09e2df",
    "deepnote_cell_type": "markdown",
    "deepnote_cell_height": 74.78125
   }
  },
  {
   "cell_type": "markdown",
   "source": "### c.\n*Exercise: Now try adding Batch Normalization and compare the learning curves: Is it converging faster than before? Does it produce a better model? How does it affect training speed?*",
   "metadata": {
    "cell_id": "00204-9ef821b9-e2b4-4509-957d-c0428e45b865",
    "deepnote_cell_type": "markdown",
    "deepnote_cell_height": 122.78125
   }
  },
  {
   "cell_type": "markdown",
   "source": "The code below is very similar to the code above, with a few changes:\n\n* I added a BN layer after every Dense layer (before the activation function), except for the output layer. I also added a BN layer before the first hidden layer.\n* I changed the learning rate to 5e-4. I experimented with 1e-5, 3e-5, 5e-5, 1e-4, 3e-4, 5e-4, 1e-3 and 3e-3, and I chose the one with the best validation performance after 20 epochs.\n* I renamed the run directories to run_bn_* and the model file name to my_cifar10_bn_model.h5.",
   "metadata": {
    "cell_id": "00205-456f687f-c46c-46bc-b08a-720c94066c70",
    "deepnote_cell_type": "markdown",
    "deepnote_cell_height": 175.953125
   }
  },
  {
   "cell_type": "code",
   "metadata": {
    "cell_id": "00206-9f3619b4-d4d0-4a65-9464-56dea6a145be",
    "deepnote_to_be_reexecuted": true,
    "source_hash": "181b1300",
    "deepnote_cell_type": "code",
    "deepnote_cell_height": 1288.1875,
    "deepnote_output_heights": [
     null,
     21.1875
    ]
   },
   "source": "keras.backend.clear_session()\ntf.random.set_seed(42)\nnp.random.seed(42)\n\nmodel = keras.models.Sequential()\nmodel.add(keras.layers.Flatten(input_shape=[32, 32, 3]))\nmodel.add(keras.layers.BatchNormalization())\nfor _ in range(20):\n    model.add(keras.layers.Dense(100, kernel_initializer=\"he_normal\"))\n    model.add(keras.layers.BatchNormalization())\n    model.add(keras.layers.Activation(\"elu\"))\nmodel.add(keras.layers.Dense(10, activation=\"softmax\"))\n\noptimizer = keras.optimizers.Nadam(learning_rate=5e-4)\nmodel.compile(loss=\"sparse_categorical_crossentropy\",\n              optimizer=optimizer,\n              metrics=[\"accuracy\"])\n\nearly_stopping_cb = keras.callbacks.EarlyStopping(patience=20)\nmodel_checkpoint_cb = keras.callbacks.ModelCheckpoint(\"my_cifar10_bn_model.h5\", save_best_only=True)\nrun_index = 1 # increment every time you train the model\nrun_logdir = os.path.join(os.curdir, \"my_cifar10_logs\", \"run_bn_{:03d}\".format(run_index))\ntensorboard_cb = keras.callbacks.TensorBoard(run_logdir)\ncallbacks = [early_stopping_cb, model_checkpoint_cb, tensorboard_cb]\n\nmodel.fit(X_train, y_train, epochs=100,\n          validation_data=(X_valid, y_valid),\n          callbacks=callbacks)\n\nmodel = keras.models.load_model(\"my_cifar10_bn_model.h5\")\nmodel.evaluate(X_valid, y_valid)",
   "execution_count": null,
   "outputs": [
    {
     "name": "stdout",
     "output_type": "stream",
     "text": "Epoch 1/100\n1407/1407 [==============================] - 19s 9ms/step - loss: 1.9765 - accuracy: 0.2968 - val_loss: 1.6602 - val_accuracy: 0.4042\nEpoch 2/100\n1407/1407 [==============================] - 11s 8ms/step - loss: 1.6787 - accuracy: 0.4056 - val_loss: 1.5887 - val_accuracy: 0.4304\nEpoch 3/100\n1407/1407 [==============================] - 11s 8ms/step - loss: 1.6097 - accuracy: 0.4274 - val_loss: 1.5781 - val_accuracy: 0.4326\nEpoch 4/100\n1407/1407 [==============================] - 11s 8ms/step - loss: 1.5574 - accuracy: 0.4486 - val_loss: 1.5064 - val_accuracy: 0.4676\nEpoch 5/100\n1407/1407 [==============================] - 11s 8ms/step - loss: 1.5075 - accuracy: 0.4642 - val_loss: 1.4412 - val_accuracy: 0.4844\nEpoch 6/100\n1407/1407 [==============================] - 11s 8ms/step - loss: 1.4664 - accuracy: 0.4787 - val_loss: 1.4179 - val_accuracy: 0.4984\nEpoch 7/100\n1407/1407 [==============================] - 11s 8ms/step - loss: 1.4334 - accuracy: 0.4932 - val_loss: 1.4277 - val_accuracy: 0.4906\nEpoch 8/100\n1407/1407 [==============================] - 12s 8ms/step - loss: 1.4054 - accuracy: 0.5038 - val_loss: 1.3843 - val_accuracy: 0.5130\nEpoch 9/100\n1407/1407 [==============================] - 12s 8ms/step - loss: 1.3816 - accuracy: 0.5106 - val_loss: 1.3691 - val_accuracy: 0.5108\nEpoch 10/100\n1407/1407 [==============================] - 12s 8ms/step - loss: 1.3547 - accuracy: 0.5206 - val_loss: 1.3552 - val_accuracy: 0.5226\nEpoch 11/100\n1407/1407 [==============================] - 12s 9ms/step - loss: 1.3244 - accuracy: 0.5371 - val_loss: 1.3678 - val_accuracy: 0.5142\nEpoch 12/100\n1407/1407 [==============================] - 12s 8ms/step - loss: 1.3078 - accuracy: 0.5393 - val_loss: 1.3844 - val_accuracy: 0.5080\nEpoch 13/100\n1407/1407 [==============================] - 12s 9ms/step - loss: 1.2889 - accuracy: 0.5431 - val_loss: 1.3566 - val_accuracy: 0.5164\nEpoch 14/100\n1407/1407 [==============================] - 12s 9ms/step - loss: 1.2607 - accuracy: 0.5559 - val_loss: 1.3626 - val_accuracy: 0.5248\nEpoch 15/100\n1407/1407 [==============================] - 12s 8ms/step - loss: 1.2580 - accuracy: 0.5587 - val_loss: 1.3616 - val_accuracy: 0.5276\nEpoch 16/100\n1407/1407 [==============================] - 12s 8ms/step - loss: 1.2441 - accuracy: 0.5586 - val_loss: 1.3350 - val_accuracy: 0.5286\nEpoch 17/100\n1407/1407 [==============================] - 12s 8ms/step - loss: 1.2241 - accuracy: 0.5676 - val_loss: 1.3370 - val_accuracy: 0.5408\nEpoch 18/100\n<<29 more lines>>\nEpoch 33/100\n1407/1407 [==============================] - 12s 8ms/step - loss: 1.0336 - accuracy: 0.6369 - val_loss: 1.3682 - val_accuracy: 0.5450\nEpoch 34/100\n1407/1407 [==============================] - 11s 8ms/step - loss: 1.0228 - accuracy: 0.6388 - val_loss: 1.3348 - val_accuracy: 0.5458\nEpoch 35/100\n1407/1407 [==============================] - 12s 8ms/step - loss: 1.0205 - accuracy: 0.6407 - val_loss: 1.3490 - val_accuracy: 0.5440\nEpoch 36/100\n1407/1407 [==============================] - 12s 9ms/step - loss: 1.0008 - accuracy: 0.6489 - val_loss: 1.3568 - val_accuracy: 0.5408\nEpoch 37/100\n1407/1407 [==============================] - 12s 9ms/step - loss: 0.9785 - accuracy: 0.6543 - val_loss: 1.3628 - val_accuracy: 0.5396\nEpoch 38/100\n1407/1407 [==============================] - 12s 9ms/step - loss: 0.9832 - accuracy: 0.6592 - val_loss: 1.3617 - val_accuracy: 0.5482\nEpoch 39/100\n1407/1407 [==============================] - 12s 8ms/step - loss: 0.9707 - accuracy: 0.6581 - val_loss: 1.3767 - val_accuracy: 0.5446\nEpoch 40/100\n1407/1407 [==============================] - 12s 9ms/step - loss: 0.9590 - accuracy: 0.6651 - val_loss: 1.4200 - val_accuracy: 0.5314\nEpoch 41/100\n1407/1407 [==============================] - 12s 9ms/step - loss: 0.9548 - accuracy: 0.6668 - val_loss: 1.3692 - val_accuracy: 0.5450\nEpoch 42/100\n1407/1407 [==============================] - 12s 9ms/step - loss: 0.9480 - accuracy: 0.6667 - val_loss: 1.3841 - val_accuracy: 0.5310\nEpoch 43/100\n1407/1407 [==============================] - 12s 9ms/step - loss: 0.9411 - accuracy: 0.6716 - val_loss: 1.4036 - val_accuracy: 0.5382\nEpoch 44/100\n1407/1407 [==============================] - 12s 9ms/step - loss: 0.9383 - accuracy: 0.6708 - val_loss: 1.4114 - val_accuracy: 0.5236\nEpoch 45/100\n1407/1407 [==============================] - 12s 9ms/step - loss: 0.9258 - accuracy: 0.6769 - val_loss: 1.4224 - val_accuracy: 0.5324\nEpoch 46/100\n1407/1407 [==============================] - 12s 9ms/step - loss: 0.9072 - accuracy: 0.6836 - val_loss: 1.3875 - val_accuracy: 0.5442\nEpoch 47/100\n1407/1407 [==============================] - 12s 9ms/step - loss: 0.8996 - accuracy: 0.6850 - val_loss: 1.4449 - val_accuracy: 0.5280\nEpoch 48/100\n1407/1407 [==============================] - 13s 9ms/step - loss: 0.9050 - accuracy: 0.6835 - val_loss: 1.4167 - val_accuracy: 0.5338\nEpoch 49/100\n1407/1407 [==============================] - 12s 9ms/step - loss: 0.8934 - accuracy: 0.6880 - val_loss: 1.4260 - val_accuracy: 0.5294\n157/157 [==============================] - 1s 2ms/step - loss: 1.3344 - accuracy: 0.5398\n"
    },
    {
     "data": {
      "text/plain": "[1.3343921899795532, 0.5397999882698059]"
     },
     "execution_count": 135,
     "metadata": {},
     "output_type": "execute_result"
    }
   ]
  },
  {
   "cell_type": "markdown",
   "source": "* *Is the model converging faster than before?* Much faster! The previous model took 27 epochs to reach the lowest validation loss, while the new model achieved that same loss in just 5 epochs and continued to make progress until the 16th epoch. The BN layers stabilized training and allowed us to use a much larger learning rate, so convergence was faster.\n* *Does BN produce a better model?* Yes! The final model is also much better, with 54.0% accuracy instead of 47.6%. It's still not a very good model, but at least it's much better than before (a Convolutional Neural Network would do much better, but that's a different topic, see chapter 14).\n* *How does BN affect training speed?* Although the model converged much faster, each epoch took about 12s instead of 8s, because of the extra computations required by the BN layers. But overall the training time (wall time) was shortened significantly!",
   "metadata": {
    "cell_id": "00207-fd15760a-37b7-4796-833c-7e88d2936735",
    "deepnote_cell_type": "markdown",
    "deepnote_cell_height": 209.734375
   }
  },
  {
   "cell_type": "markdown",
   "source": "### d.\n*Exercise: Try replacing Batch Normalization with SELU, and make the necessary adjustements to ensure the network self-normalizes (i.e., standardize the input features, use LeCun normal initialization, make sure the DNN contains only a sequence of dense layers, etc.).*",
   "metadata": {
    "cell_id": "00208-afc2ecac-a083-4deb-b623-4403b19cd589",
    "deepnote_cell_type": "markdown",
    "deepnote_cell_height": 122.78125
   }
  },
  {
   "cell_type": "code",
   "metadata": {
    "scrolled": true,
    "cell_id": "00209-7418b013-2552-49dc-9dd1-0848b3e65eae",
    "deepnote_to_be_reexecuted": true,
    "source_hash": "65264ce9",
    "deepnote_cell_type": "code",
    "deepnote_cell_height": 1378.1875,
    "deepnote_output_heights": [
     null,
     21.1875
    ]
   },
   "source": "keras.backend.clear_session()\ntf.random.set_seed(42)\nnp.random.seed(42)\n\nmodel = keras.models.Sequential()\nmodel.add(keras.layers.Flatten(input_shape=[32, 32, 3]))\nfor _ in range(20):\n    model.add(keras.layers.Dense(100,\n                                 kernel_initializer=\"lecun_normal\",\n                                 activation=\"selu\"))\nmodel.add(keras.layers.Dense(10, activation=\"softmax\"))\n\noptimizer = keras.optimizers.Nadam(learning_rate=7e-4)\nmodel.compile(loss=\"sparse_categorical_crossentropy\",\n              optimizer=optimizer,\n              metrics=[\"accuracy\"])\n\nearly_stopping_cb = keras.callbacks.EarlyStopping(patience=20)\nmodel_checkpoint_cb = keras.callbacks.ModelCheckpoint(\"my_cifar10_selu_model.h5\", save_best_only=True)\nrun_index = 1 # increment every time you train the model\nrun_logdir = os.path.join(os.curdir, \"my_cifar10_logs\", \"run_selu_{:03d}\".format(run_index))\ntensorboard_cb = keras.callbacks.TensorBoard(run_logdir)\ncallbacks = [early_stopping_cb, model_checkpoint_cb, tensorboard_cb]\n\nX_means = X_train.mean(axis=0)\nX_stds = X_train.std(axis=0)\nX_train_scaled = (X_train - X_means) / X_stds\nX_valid_scaled = (X_valid - X_means) / X_stds\nX_test_scaled = (X_test - X_means) / X_stds\n\nmodel.fit(X_train_scaled, y_train, epochs=100,\n          validation_data=(X_valid_scaled, y_valid),\n          callbacks=callbacks)\n\nmodel = keras.models.load_model(\"my_cifar10_selu_model.h5\")\nmodel.evaluate(X_valid_scaled, y_valid)",
   "execution_count": null,
   "outputs": [
    {
     "name": "stdout",
     "output_type": "stream",
     "text": "Epoch 1/100\n1407/1407 [==============================] - 10s 5ms/step - loss: 2.0622 - accuracy: 0.2631 - val_loss: 1.7878 - val_accuracy: 0.3552\nEpoch 2/100\n1407/1407 [==============================] - 7s 5ms/step - loss: 1.7328 - accuracy: 0.3830 - val_loss: 1.7028 - val_accuracy: 0.3828\nEpoch 3/100\n1407/1407 [==============================] - 7s 5ms/step - loss: 1.6342 - accuracy: 0.4279 - val_loss: 1.6692 - val_accuracy: 0.4022\nEpoch 4/100\n1407/1407 [==============================] - 7s 5ms/step - loss: 1.5524 - accuracy: 0.4538 - val_loss: 1.6350 - val_accuracy: 0.4300\nEpoch 5/100\n1407/1407 [==============================] - 7s 5ms/step - loss: 1.4979 - accuracy: 0.4756 - val_loss: 1.5773 - val_accuracy: 0.4356\nEpoch 6/100\n1407/1407 [==============================] - 7s 5ms/step - loss: 1.4428 - accuracy: 0.4902 - val_loss: 1.5529 - val_accuracy: 0.4630\nEpoch 7/100\n1407/1407 [==============================] - 7s 5ms/step - loss: 1.3966 - accuracy: 0.5126 - val_loss: 1.5290 - val_accuracy: 0.4682\nEpoch 8/100\n1407/1407 [==============================] - 7s 5ms/step - loss: 1.3549 - accuracy: 0.5232 - val_loss: 1.4633 - val_accuracy: 0.4792\nEpoch 9/100\n1407/1407 [==============================] - 7s 5ms/step - loss: 1.3162 - accuracy: 0.5444 - val_loss: 1.4787 - val_accuracy: 0.4776\nEpoch 10/100\n1407/1407 [==============================] - 7s 5ms/step - loss: 1.2825 - accuracy: 0.5534 - val_loss: 1.4794 - val_accuracy: 0.4934\nEpoch 11/100\n1407/1407 [==============================] - 7s 5ms/step - loss: 1.2529 - accuracy: 0.5682 - val_loss: 1.5529 - val_accuracy: 0.4982\nEpoch 12/100\n1407/1407 [==============================] - 7s 5ms/step - loss: 1.2256 - accuracy: 0.5784 - val_loss: 1.4942 - val_accuracy: 0.4902\nEpoch 13/100\n1407/1407 [==============================] - 7s 5ms/step - loss: 1.2049 - accuracy: 0.5823 - val_loss: 1.4868 - val_accuracy: 0.5024\nEpoch 14/100\n1407/1407 [==============================] - 7s 5ms/step - loss: 1.1627 - accuracy: 0.6012 - val_loss: 1.4839 - val_accuracy: 0.5082\nEpoch 15/100\n1407/1407 [==============================] - 7s 5ms/step - loss: 1.1543 - accuracy: 0.6034 - val_loss: 1.5097 - val_accuracy: 0.4968\nEpoch 16/100\n1407/1407 [==============================] - 7s 5ms/step - loss: 1.1200 - accuracy: 0.6135 - val_loss: 1.5001 - val_accuracy: 0.5120\nEpoch 17/100\n1407/1407 [==============================] - 7s 5ms/step - loss: 1.1028 - accuracy: 0.6199 - val_loss: 1.4856 - val_accuracy: 0.5056\nEpoch 18/100\n1407/1407 [==============================] - 7s 5ms/step - loss: 1.0863 - accuracy: 0.6265 - val_loss: 1.5116 - val_accuracy: 0.4966\nEpoch 19/100\n1407/1407 [==============================] - 7s 5ms/step - loss: 1.0715 - accuracy: 0.6345 - val_loss: 1.5787 - val_accuracy: 0.5070\nEpoch 20/100\n1407/1407 [==============================] - 7s 5ms/step - loss: 1.0342 - accuracy: 0.6453 - val_loss: 1.4987 - val_accuracy: 0.5144\nEpoch 21/100\n1407/1407 [==============================] - 7s 5ms/step - loss: 1.0169 - accuracy: 0.6531 - val_loss: 1.6292 - val_accuracy: 0.4462\nEpoch 22/100\n1407/1407 [==============================] - 7s 5ms/step - loss: 1.1346 - accuracy: 0.6074 - val_loss: 1.5280 - val_accuracy: 0.5136\nEpoch 23/100\n1407/1407 [==============================] - 7s 5ms/step - loss: 0.9820 - accuracy: 0.6678 - val_loss: 1.5392 - val_accuracy: 0.5040\nEpoch 24/100\n1407/1407 [==============================] - 7s 5ms/step - loss: 0.9701 - accuracy: 0.6679 - val_loss: 1.5505 - val_accuracy: 0.5170\nEpoch 25/100\n1407/1407 [==============================] - 7s 5ms/step - loss: 1.3604 - accuracy: 0.6753 - val_loss: 1.5468 - val_accuracy: 0.4992\nEpoch 26/100\n1407/1407 [==============================] - 7s 5ms/step - loss: 1.0177 - accuracy: 0.6510 - val_loss: 1.5474 - val_accuracy: 0.5020\nEpoch 27/100\n1407/1407 [==============================] - 7s 5ms/step - loss: 0.9425 - accuracy: 0.6798 - val_loss: 1.5545 - val_accuracy: 0.5076\nEpoch 28/100\n1407/1407 [==============================] - 7s 5ms/step - loss: 0.9005 - accuracy: 0.6902 - val_loss: 1.5659 - val_accuracy: 0.5138\n157/157 [==============================] - 0s 1ms/step - loss: 1.4633 - accuracy: 0.4792\n"
    },
    {
     "data": {
      "text/plain": "[1.4633383750915527, 0.47920000553131104]"
     },
     "execution_count": 136,
     "metadata": {},
     "output_type": "execute_result"
    }
   ]
  },
  {
   "cell_type": "code",
   "metadata": {
    "cell_id": "00210-d633a453-cff0-4de8-956a-bc8ac070bb39",
    "deepnote_to_be_reexecuted": true,
    "source_hash": "703a20a3",
    "deepnote_cell_type": "code",
    "deepnote_cell_height": 177.375,
    "deepnote_output_heights": [
     null,
     21.1875
    ]
   },
   "source": "model = keras.models.load_model(\"my_cifar10_selu_model.h5\")\nmodel.evaluate(X_valid_scaled, y_valid)",
   "execution_count": null,
   "outputs": [
    {
     "name": "stdout",
     "output_type": "stream",
     "text": "157/157 [==============================] - 0s 1ms/step - loss: 1.4633 - accuracy: 0.4792\n"
    },
    {
     "data": {
      "text/plain": "[1.4633383750915527, 0.47920000553131104]"
     },
     "execution_count": 137,
     "metadata": {},
     "output_type": "execute_result"
    }
   ]
  },
  {
   "cell_type": "markdown",
   "source": "We get 47.9% accuracy, which is not much better than the original model (47.6%), and not as good as the model using batch normalization (54.0%). However, convergence was almost as fast as with the BN model, plus each epoch took only 7 seconds. So it's by far the fastest model to train so far.",
   "metadata": {
    "cell_id": "00211-710afb36-26b7-4705-bd3e-a8b45e9190d6",
    "deepnote_cell_type": "markdown",
    "deepnote_cell_height": 74.78125
   }
  },
  {
   "cell_type": "markdown",
   "source": "### e.\n*Exercise: Try regularizing the model with alpha dropout. Then, without retraining your model, see if you can achieve better accuracy using MC Dropout.*",
   "metadata": {
    "cell_id": "00212-08c67e73-53a1-44fe-91ff-9b71464f7bdc",
    "deepnote_cell_type": "markdown",
    "deepnote_cell_height": 100.390625
   }
  },
  {
   "cell_type": "code",
   "metadata": {
    "cell_id": "00213-d8193a8f-67d7-424b-82b7-6f7784773a11",
    "deepnote_to_be_reexecuted": true,
    "source_hash": "58ff3dea",
    "deepnote_cell_type": "code",
    "deepnote_cell_height": 1414.1875,
    "deepnote_output_heights": [
     null,
     21.1875
    ]
   },
   "source": "keras.backend.clear_session()\ntf.random.set_seed(42)\nnp.random.seed(42)\n\nmodel = keras.models.Sequential()\nmodel.add(keras.layers.Flatten(input_shape=[32, 32, 3]))\nfor _ in range(20):\n    model.add(keras.layers.Dense(100,\n                                 kernel_initializer=\"lecun_normal\",\n                                 activation=\"selu\"))\n\nmodel.add(keras.layers.AlphaDropout(rate=0.1))\nmodel.add(keras.layers.Dense(10, activation=\"softmax\"))\n\noptimizer = keras.optimizers.Nadam(learning_rate=5e-4)\nmodel.compile(loss=\"sparse_categorical_crossentropy\",\n              optimizer=optimizer,\n              metrics=[\"accuracy\"])\n\nearly_stopping_cb = keras.callbacks.EarlyStopping(patience=20)\nmodel_checkpoint_cb = keras.callbacks.ModelCheckpoint(\"my_cifar10_alpha_dropout_model.h5\", save_best_only=True)\nrun_index = 1 # increment every time you train the model\nrun_logdir = os.path.join(os.curdir, \"my_cifar10_logs\", \"run_alpha_dropout_{:03d}\".format(run_index))\ntensorboard_cb = keras.callbacks.TensorBoard(run_logdir)\ncallbacks = [early_stopping_cb, model_checkpoint_cb, tensorboard_cb]\n\nX_means = X_train.mean(axis=0)\nX_stds = X_train.std(axis=0)\nX_train_scaled = (X_train - X_means) / X_stds\nX_valid_scaled = (X_valid - X_means) / X_stds\nX_test_scaled = (X_test - X_means) / X_stds\n\nmodel.fit(X_train_scaled, y_train, epochs=100,\n          validation_data=(X_valid_scaled, y_valid),\n          callbacks=callbacks)\n\nmodel = keras.models.load_model(\"my_cifar10_alpha_dropout_model.h5\")\nmodel.evaluate(X_valid_scaled, y_valid)",
   "execution_count": null,
   "outputs": [
    {
     "name": "stdout",
     "output_type": "stream",
     "text": "Epoch 1/100\n1407/1407 [==============================] - 9s 5ms/step - loss: 2.0583 - accuracy: 0.2742 - val_loss: 1.7429 - val_accuracy: 0.3858\nEpoch 2/100\n1407/1407 [==============================] - 6s 5ms/step - loss: 1.6852 - accuracy: 0.4008 - val_loss: 1.7055 - val_accuracy: 0.3792\nEpoch 3/100\n1407/1407 [==============================] - 7s 5ms/step - loss: 1.5963 - accuracy: 0.4413 - val_loss: 1.7401 - val_accuracy: 0.4072\nEpoch 4/100\n1407/1407 [==============================] - 7s 5ms/step - loss: 1.5231 - accuracy: 0.4634 - val_loss: 1.5728 - val_accuracy: 0.4584\nEpoch 5/100\n1407/1407 [==============================] - 7s 5ms/step - loss: 1.4619 - accuracy: 0.4887 - val_loss: 1.5448 - val_accuracy: 0.4702\nEpoch 6/100\n1407/1407 [==============================] - 6s 5ms/step - loss: 1.4074 - accuracy: 0.5061 - val_loss: 1.5678 - val_accuracy: 0.4664\nEpoch 7/100\n1407/1407 [==============================] - 6s 5ms/step - loss: 1.3718 - accuracy: 0.5222 - val_loss: 1.5764 - val_accuracy: 0.4824\nEpoch 8/100\n1407/1407 [==============================] - 7s 5ms/step - loss: 1.3220 - accuracy: 0.5387 - val_loss: 1.4805 - val_accuracy: 0.4890\nEpoch 9/100\n1407/1407 [==============================] - 6s 5ms/step - loss: 1.2908 - accuracy: 0.5487 - val_loss: 1.5521 - val_accuracy: 0.4638\nEpoch 10/100\n1407/1407 [==============================] - 7s 5ms/step - loss: 1.2537 - accuracy: 0.5607 - val_loss: 1.5281 - val_accuracy: 0.4924\nEpoch 11/100\n1407/1407 [==============================] - 6s 5ms/step - loss: 1.2215 - accuracy: 0.5782 - val_loss: 1.5147 - val_accuracy: 0.5046\nEpoch 12/100\n1407/1407 [==============================] - 7s 5ms/step - loss: 1.1910 - accuracy: 0.5831 - val_loss: 1.5248 - val_accuracy: 0.5002\nEpoch 13/100\n1407/1407 [==============================] - 6s 5ms/step - loss: 1.1659 - accuracy: 0.5982 - val_loss: 1.5620 - val_accuracy: 0.5066\nEpoch 14/100\n1407/1407 [==============================] - 6s 5ms/step - loss: 1.1282 - accuracy: 0.6120 - val_loss: 1.5440 - val_accuracy: 0.5180\nEpoch 15/100\n1407/1407 [==============================] - 6s 5ms/step - loss: 1.1127 - accuracy: 0.6133 - val_loss: 1.5782 - val_accuracy: 0.5146\nEpoch 16/100\n1407/1407 [==============================] - 7s 5ms/step - loss: 1.0917 - accuracy: 0.6266 - val_loss: 1.6182 - val_accuracy: 0.5182\nEpoch 17/100\n1407/1407 [==============================] - 6s 5ms/step - loss: 1.0620 - accuracy: 0.6331 - val_loss: 1.6285 - val_accuracy: 0.5126\nEpoch 18/100\n1407/1407 [==============================] - 7s 5ms/step - loss: 1.0433 - accuracy: 0.6413 - val_loss: 1.6299 - val_accuracy: 0.5158\nEpoch 19/100\n1407/1407 [==============================] - 7s 5ms/step - loss: 1.0087 - accuracy: 0.6549 - val_loss: 1.7172 - val_accuracy: 0.5062\nEpoch 20/100\n1407/1407 [==============================] - 6s 5ms/step - loss: 0.9950 - accuracy: 0.6571 - val_loss: 1.6524 - val_accuracy: 0.5098\nEpoch 21/100\n1407/1407 [==============================] - 7s 5ms/step - loss: 0.9848 - accuracy: 0.6652 - val_loss: 1.7686 - val_accuracy: 0.5038\nEpoch 22/100\n1407/1407 [==============================] - 7s 5ms/step - loss: 0.9597 - accuracy: 0.6744 - val_loss: 1.6177 - val_accuracy: 0.5084\nEpoch 23/100\n1407/1407 [==============================] - 7s 5ms/step - loss: 0.9399 - accuracy: 0.6790 - val_loss: 1.7095 - val_accuracy: 0.5082\nEpoch 24/100\n1407/1407 [==============================] - 7s 5ms/step - loss: 0.9148 - accuracy: 0.6884 - val_loss: 1.7160 - val_accuracy: 0.5150\nEpoch 25/100\n1407/1407 [==============================] - 6s 5ms/step - loss: 0.9023 - accuracy: 0.6949 - val_loss: 1.7017 - val_accuracy: 0.5152\nEpoch 26/100\n1407/1407 [==============================] - 7s 5ms/step - loss: 0.8732 - accuracy: 0.7031 - val_loss: 1.7274 - val_accuracy: 0.5088\nEpoch 27/100\n1407/1407 [==============================] - 6s 5ms/step - loss: 0.8542 - accuracy: 0.7091 - val_loss: 1.7648 - val_accuracy: 0.5166\nEpoch 28/100\n1407/1407 [==============================] - 7s 5ms/step - loss: 0.8499 - accuracy: 0.7118 - val_loss: 1.7973 - val_accuracy: 0.5000\n157/157 [==============================] - 0s 1ms/step - loss: 1.4805 - accuracy: 0.4890\n"
    },
    {
     "data": {
      "text/plain": "[1.4804893732070923, 0.48899999260902405]"
     },
     "execution_count": 138,
     "metadata": {},
     "output_type": "execute_result"
    }
   ]
  },
  {
   "cell_type": "markdown",
   "source": "The model reaches 48.9% accuracy on the validation set. That's very slightly better than without dropout (47.6%). With an extensive hyperparameter search, it might be possible to do better (I tried dropout rates of 5%, 10%, 20% and 40%, and learning rates 1e-4, 3e-4, 5e-4, and 1e-3), but probably not much better in this case.",
   "metadata": {
    "cell_id": "00214-c62e6fff-bdbc-4098-9de6-1f9d7c409c47",
    "deepnote_cell_type": "markdown",
    "deepnote_cell_height": 97.171875
   }
  },
  {
   "cell_type": "markdown",
   "source": "Let's use MC Dropout now. We will need the `MCAlphaDropout` class we used earlier, so let's just copy it here for convenience:",
   "metadata": {
    "cell_id": "00215-592170c5-c8c2-4b0c-be5c-20b9abcfdb79",
    "deepnote_cell_type": "markdown",
    "deepnote_cell_height": 52.390625
   }
  },
  {
   "cell_type": "code",
   "metadata": {
    "cell_id": "00216-0849e103-b6f4-49dc-a98e-df01c8ad2b83",
    "deepnote_to_be_reexecuted": true,
    "source_hash": "8c2a7c93",
    "deepnote_cell_type": "code",
    "deepnote_cell_height": 112
   },
   "source": "class MCAlphaDropout(keras.layers.AlphaDropout):\n    def call(self, inputs):\n        return super().call(inputs, training=True)",
   "execution_count": null,
   "outputs": []
  },
  {
   "cell_type": "markdown",
   "source": "Now let's create a new model, identical to the one we just trained (with the same weights), but with `MCAlphaDropout` dropout layers instead of `AlphaDropout` layers:",
   "metadata": {
    "cell_id": "00217-8116f61d-f1d4-4875-881f-358640d46497",
    "deepnote_cell_type": "markdown",
    "deepnote_cell_height": 74.78125
   }
  },
  {
   "cell_type": "code",
   "metadata": {
    "cell_id": "00218-24eb8a4e-53e9-4160-83de-22a79cf16696",
    "deepnote_to_be_reexecuted": true,
    "source_hash": "e9f125ad",
    "deepnote_cell_type": "code",
    "deepnote_cell_height": 130
   },
   "source": "mc_model = keras.models.Sequential([\n    MCAlphaDropout(layer.rate) if isinstance(layer, keras.layers.AlphaDropout) else layer\n    for layer in model.layers\n])",
   "execution_count": null,
   "outputs": []
  },
  {
   "cell_type": "markdown",
   "source": "Then let's add a couple utility functions. The first will run the model many times (10 by default) and it will return the mean predicted class probabilities. The second will use these mean probabilities to predict the most likely class for each instance:",
   "metadata": {
    "cell_id": "00219-5ad038cf-2330-480f-ab28-2f78a4a9da55",
    "deepnote_cell_type": "markdown",
    "deepnote_cell_height": 74.78125
   }
  },
  {
   "cell_type": "code",
   "metadata": {
    "cell_id": "00220-d8d70f5b-8db5-44e2-a5ea-5fc514dd0f46",
    "deepnote_to_be_reexecuted": true,
    "source_hash": "a824ab09",
    "deepnote_cell_type": "code",
    "deepnote_cell_height": 184
   },
   "source": "def mc_dropout_predict_probas(mc_model, X, n_samples=10):\n    Y_probas = [mc_model.predict(X) for sample in range(n_samples)]\n    return np.mean(Y_probas, axis=0)\n\ndef mc_dropout_predict_classes(mc_model, X, n_samples=10):\n    Y_probas = mc_dropout_predict_probas(mc_model, X, n_samples)\n    return np.argmax(Y_probas, axis=1)",
   "execution_count": null,
   "outputs": []
  },
  {
   "cell_type": "markdown",
   "source": "Now let's make predictions for all the instances in the validation set, and compute the accuracy:",
   "metadata": {
    "cell_id": "00221-0a3eb718-c76c-4fd9-b58b-b433c7a7c28d",
    "deepnote_cell_type": "markdown",
    "deepnote_cell_height": 52.390625
   }
  },
  {
   "cell_type": "code",
   "metadata": {
    "cell_id": "00222-bf895036-122e-4451-8d01-32370f38e5a0",
    "deepnote_to_be_reexecuted": true,
    "source_hash": "2dd51ae7",
    "deepnote_cell_type": "code",
    "deepnote_cell_height": 221.1875,
    "deepnote_output_heights": [
     21.1875
    ]
   },
   "source": "keras.backend.clear_session()\ntf.random.set_seed(42)\nnp.random.seed(42)\n\ny_pred = mc_dropout_predict_classes(mc_model, X_valid_scaled)\naccuracy = np.mean(y_pred == y_valid[:, 0])\naccuracy",
   "execution_count": null,
   "outputs": [
    {
     "data": {
      "text/plain": "0.4892"
     },
     "execution_count": 142,
     "metadata": {},
     "output_type": "execute_result"
    }
   ]
  },
  {
   "cell_type": "markdown",
   "source": "We get no accuracy improvement in this case (we're still at 48.9% accuracy).\n\nSo the best model we got in this exercise is the Batch Normalization model.",
   "metadata": {
    "cell_id": "00223-32f295da-7e30-4ed6-bb34-b69da59fede2",
    "deepnote_cell_type": "markdown",
    "deepnote_cell_height": 88.78125
   }
  },
  {
   "cell_type": "markdown",
   "source": "### f.\n*Exercise: Retrain your model using 1cycle scheduling and see if it improves training speed and model accuracy.*",
   "metadata": {
    "cell_id": "00224-722b2bdb-0a64-4082-93d5-369652b66dd6",
    "deepnote_cell_type": "markdown",
    "deepnote_cell_height": 100.390625
   }
  },
  {
   "cell_type": "code",
   "metadata": {
    "cell_id": "00225-9be05859-de2b-45c2-89ce-bbd9a19fae81",
    "deepnote_to_be_reexecuted": true,
    "source_hash": "ebcff951",
    "deepnote_cell_type": "code",
    "deepnote_cell_height": 382
   },
   "source": "keras.backend.clear_session()\ntf.random.set_seed(42)\nnp.random.seed(42)\n\nmodel = keras.models.Sequential()\nmodel.add(keras.layers.Flatten(input_shape=[32, 32, 3]))\nfor _ in range(20):\n    model.add(keras.layers.Dense(100,\n                                 kernel_initializer=\"lecun_normal\",\n                                 activation=\"selu\"))\n\nmodel.add(keras.layers.AlphaDropout(rate=0.1))\nmodel.add(keras.layers.Dense(10, activation=\"softmax\"))\n\noptimizer = keras.optimizers.SGD(learning_rate=1e-3)\nmodel.compile(loss=\"sparse_categorical_crossentropy\",\n              optimizer=optimizer,\n              metrics=[\"accuracy\"])",
   "execution_count": null,
   "outputs": []
  },
  {
   "cell_type": "code",
   "metadata": {
    "cell_id": "00226-6f4c8e7f-4028-48cc-9c38-d56f4bb3eea6",
    "deepnote_to_be_reexecuted": true,
    "source_hash": "519388f3",
    "deepnote_cell_type": "code",
    "deepnote_cell_height": 576.9375,
    "deepnote_output_heights": [
     null,
     78.75,
     275
    ]
   },
   "source": "batch_size = 128\nrates, losses = find_learning_rate(model, X_train_scaled, y_train, epochs=1, batch_size=batch_size)\nplot_lr_vs_loss(rates, losses)\nplt.axis([min(rates), max(rates), min(losses), (losses[0] + min(losses)) / 1.4])",
   "execution_count": null,
   "outputs": [
    {
     "name": "stdout",
     "output_type": "stream",
     "text": "352/352 [==============================] - 2s 6ms/step - loss: nan - accuracy: 0.1255\n"
    },
    {
     "data": {
      "text/plain": "(9.999999747378752e-06,\n 9.999868392944336,\n 2.6167492866516113,\n 3.9354368618556435)"
     },
     "execution_count": 144,
     "metadata": {},
     "output_type": "execute_result"
    },
    {
     "data": {
      "image/png": "[encoded data removed]",
      "text/plain": "<Figure size 432x288 with 1 Axes>"
     },
     "metadata": {
      "needs_background": "light",
      "image/png": {
       "width": 393,
       "height": 273
      }
     },
     "output_type": "display_data"
    }
   ]
  },
  {
   "cell_type": "code",
   "metadata": {
    "cell_id": "00227-4033b784-7996-4b1a-9fb8-8c56eca7e425",
    "deepnote_to_be_reexecuted": true,
    "source_hash": "5bb1a84c",
    "deepnote_cell_type": "code",
    "deepnote_cell_height": 382
   },
   "source": "keras.backend.clear_session()\ntf.random.set_seed(42)\nnp.random.seed(42)\n\nmodel = keras.models.Sequential()\nmodel.add(keras.layers.Flatten(input_shape=[32, 32, 3]))\nfor _ in range(20):\n    model.add(keras.layers.Dense(100,\n                                 kernel_initializer=\"lecun_normal\",\n                                 activation=\"selu\"))\n\nmodel.add(keras.layers.AlphaDropout(rate=0.1))\nmodel.add(keras.layers.Dense(10, activation=\"softmax\"))\n\noptimizer = keras.optimizers.SGD(learning_rate=1e-2)\nmodel.compile(loss=\"sparse_categorical_crossentropy\",\n              optimizer=optimizer,\n              metrics=[\"accuracy\"])",
   "execution_count": null,
   "outputs": []
  },
  {
   "cell_type": "code",
   "metadata": {
    "cell_id": "00228-f9f6dda1-34a8-4729-8d0f-3dcfc07ae901",
    "deepnote_to_be_reexecuted": true,
    "source_hash": "d5a79ec",
    "deepnote_cell_type": "code",
    "deepnote_cell_height": 764.625
   },
   "source": "n_epochs = 15\nonecycle = OneCycleScheduler(math.ceil(len(X_train_scaled) / batch_size) * n_epochs, max_rate=0.05)\nhistory = model.fit(X_train_scaled, y_train, epochs=n_epochs, batch_size=batch_size,\n                    validation_data=(X_valid_scaled, y_valid),\n                    callbacks=[onecycle])",
   "execution_count": null,
   "outputs": [
    {
     "name": "stdout",
     "output_type": "stream",
     "text": "Epoch 1/15\n352/352 [==============================] - 3s 6ms/step - loss: 2.2298 - accuracy: 0.2349 - val_loss: 1.7841 - val_accuracy: 0.3834\nEpoch 2/15\n352/352 [==============================] - 2s 6ms/step - loss: 1.7928 - accuracy: 0.3689 - val_loss: 1.6806 - val_accuracy: 0.4086\nEpoch 3/15\n352/352 [==============================] - 2s 6ms/step - loss: 1.6475 - accuracy: 0.4190 - val_loss: 1.6378 - val_accuracy: 0.4350\nEpoch 4/15\n352/352 [==============================] - 2s 6ms/step - loss: 1.5428 - accuracy: 0.4543 - val_loss: 1.6266 - val_accuracy: 0.4390\nEpoch 5/15\n352/352 [==============================] - 2s 6ms/step - loss: 1.4865 - accuracy: 0.4769 - val_loss: 1.6158 - val_accuracy: 0.4384\nEpoch 6/15\n352/352 [==============================] - 2s 6ms/step - loss: 1.4339 - accuracy: 0.4866 - val_loss: 1.5850 - val_accuracy: 0.4412\nEpoch 7/15\n352/352 [==============================] - 2s 6ms/step - loss: 1.4042 - accuracy: 0.5056 - val_loss: 1.6146 - val_accuracy: 0.4384\nEpoch 8/15\n352/352 [==============================] - 2s 6ms/step - loss: 1.3437 - accuracy: 0.5229 - val_loss: 1.5299 - val_accuracy: 0.4846\nEpoch 9/15\n352/352 [==============================] - 2s 5ms/step - loss: 1.2721 - accuracy: 0.5459 - val_loss: 1.5145 - val_accuracy: 0.4874\nEpoch 10/15\n352/352 [==============================] - 2s 6ms/step - loss: 1.1942 - accuracy: 0.5698 - val_loss: 1.4958 - val_accuracy: 0.5040\nEpoch 11/15\n352/352 [==============================] - 2s 6ms/step - loss: 1.1211 - accuracy: 0.6033 - val_loss: 1.5406 - val_accuracy: 0.4984\nEpoch 12/15\n352/352 [==============================] - 2s 6ms/step - loss: 1.0673 - accuracy: 0.6161 - val_loss: 1.5284 - val_accuracy: 0.5144\nEpoch 13/15\n352/352 [==============================] - 2s 6ms/step - loss: 0.9927 - accuracy: 0.6435 - val_loss: 1.5449 - val_accuracy: 0.5140\nEpoch 14/15\n352/352 [==============================] - 2s 6ms/step - loss: 0.9205 - accuracy: 0.6703 - val_loss: 1.5652 - val_accuracy: 0.5224\nEpoch 15/15\n352/352 [==============================] - 2s 6ms/step - loss: 0.8936 - accuracy: 0.6801 - val_loss: 1.5912 - val_accuracy: 0.5198\n"
    }
   ]
  },
  {
   "cell_type": "markdown",
   "source": "One cycle allowed us to train the model in just 15 epochs, each taking only 2 seconds (thanks to the larger batch size). This is several times faster than the fastest model we trained so far. Moreover, we improved the model's performance (from 47.6% to 52.0%). The batch normalized model reaches a slightly better performance (54%), but it's much slower to train.",
   "metadata": {
    "cell_id": "00229-4217ae33-7964-4100-86b7-2ae4aacb43de",
    "deepnote_cell_type": "markdown",
    "deepnote_cell_height": 97.171875
   }
  },
  {
   "cell_type": "code",
   "metadata": {
    "cell_id": "00230-afcea27c-6ae7-48cf-bf6a-d8d500a2fba7",
    "deepnote_to_be_reexecuted": true,
    "source_hash": "b623e53d",
    "deepnote_cell_type": "code",
    "deepnote_cell_height": 76
   },
   "source": "",
   "execution_count": null,
   "outputs": []
  },
  {
   "cell_type": "markdown",
   "source": "<a style='text-decoration:none;line-height:16px;display:flex;color:#5B5B62;padding:10px;justify-content:end;' href='https://deepnote.com?utm_source=created-in-deepnote-cell&projectId=8b8747e0-d5e2-4759-af6a-42b7fe569db7' target=\"_blank\">\n<img alt='Created in deepnote.com' style='display:inline;max-height:16px;margin:0px;margin-right:7.5px;' src='data:image/svg+xml;base64,PD94bWwgdmVyc2lvbj0iMS4wIiBlbmNvZGluZz0iVVRGLTgiPz4KPHN2ZyB3aWR0aD0iODBweCIgaGVpZ2h0PSI4MHB4IiB2aWV3Qm94PSIwIDAgODAgODAiIHZlcnNpb249IjEuMSIgeG1sbnM9Imh0dHA6Ly93d3cudzMub3JnLzIwMDAvc3ZnIiB4bWxuczp4bGluaz0iaHR0cDovL3d3dy53My5vcmcvMTk5OS94bGluayI+CiAgICA8IS0tIEdlbmVyYXRvcjogU2tldGNoIDU0LjEgKDc2NDkwKSAtIGh0dHBzOi8vc2tldGNoYXBwLmNvbSAtLT4KICAgIDx0aXRsZT5Hcm91cCAzPC90aXRsZT4KICAgIDxkZXNjPkNyZWF0ZWQgd2l0aCBTa2V0Y2guPC9kZXNjPgogICAgPGcgaWQ9IkxhbmRpbmciIHN0cm9rZT0ibm9uZSIgc3Ryb2tlLXdpZHRoPSIxIiBmaWxsPSJub25lIiBmaWxsLXJ1bGU9ImV2ZW5vZGQiPgogICAgICAgIDxnIGlkPSJBcnRib2FyZCIgdHJhbnNmb3JtPSJ0cmFuc2xhdGUoLTEyMzUuMDAwMDAwLCAtNzkuMDAwMDAwKSI+CiAgICAgICAgICAgIDxnIGlkPSJHcm91cC0zIiB0cmFuc2Zvcm09InRyYW5zbGF0ZSgxMjM1LjAwMDAwMCwgNzkuMDAwMDAwKSI+CiAgICAgICAgICAgICAgICA8cG9seWdvbiBpZD0iUGF0aC0yMCIgZmlsbD0iIzAyNjVCNCIgcG9pbnRzPSIyLjM3NjIzNzYyIDgwIDM4LjA0NzY2NjcgODAgNTcuODIxNzgyMiA3My44MDU3NTkyIDU3LjgyMTc4MjIgMzIuNzU5MjczOSAzOS4xNDAyMjc4IDMxLjY4MzE2ODMiPjwvcG9seWdvbj4KICAgICAgICAgICAgICAgIDxwYXRoIGQ9Ik0zNS4wMDc3MTgsODAgQzQyLjkwNjIwMDcsNzYuNDU0OTM1OCA0Ny41NjQ5MTY3LDcxLjU0MjI2NzEgNDguOTgzODY2LDY1LjI2MTk5MzkgQzUxLjExMjI4OTksNTUuODQxNTg0MiA0MS42NzcxNzk1LDQ5LjIxMjIyODQgMjUuNjIzOTg0Niw0OS4yMTIyMjg0IEMyNS40ODQ5Mjg5LDQ5LjEyNjg0NDggMjkuODI2MTI5Niw0My4yODM4MjQ4IDM4LjY0NzU4NjksMzEuNjgzMTY4MyBMNzIuODcxMjg3MSwzMi41NTQ0MjUgTDY1LjI4MDk3Myw2Ny42NzYzNDIxIEw1MS4xMTIyODk5LDc3LjM3NjE0NCBMMzUuMDA3NzE4LDgwIFoiIGlkPSJQYXRoLTIyIiBmaWxsPSIjMDAyODY4Ij48L3BhdGg+CiAgICAgICAgICAgICAgICA8cGF0aCBkPSJNMCwzNy43MzA0NDA1IEwyNy4xMTQ1MzcsMC4yNTcxMTE0MzYgQzYyLjM3MTUxMjMsLTEuOTkwNzE3MDEgODAsMTAuNTAwMzkyNyA4MCwzNy43MzA0NDA1IEM4MCw2NC45NjA0ODgyIDY0Ljc3NjUwMzgsNzkuMDUwMzQxNCAzNC4zMjk1MTEzLDgwIEM0Ny4wNTUzNDg5LDc3LjU2NzA4MDggNTMuNDE4MjY3Nyw3MC4zMTM2MTAzIDUzLjQxODI2NzcsNTguMjM5NTg4NSBDNTMuNDE4MjY3Nyw0MC4xMjg1NTU3IDM2LjMwMzk1NDQsMzcuNzMwNDQwNSAyNS4yMjc0MTcsMzcuNzMwNDQwNSBDMTcuODQzMDU4NiwzNy43MzA0NDA1IDkuNDMzOTE5NjYsMzcuNzMwNDQwNSAwLDM3LjczMDQ0MDUgWiIgaWQ9IlBhdGgtMTkiIGZpbGw9IiMzNzkzRUYiPjwvcGF0aD4KICAgICAgICAgICAgPC9nPgogICAgICAgIDwvZz4KICAgIDwvZz4KPC9zdmc+' > </img>\nCreated in <span style='font-weight:600;margin-left:4px;'>Deepnote</span></a>",
   "metadata": {
    "tags": [],
    "created_in_deepnote_cell": true,
    "deepnote_cell_type": "markdown"
   }
  }
 ],
 "nbformat": 4,
 "nbformat_minor": 4,
 "metadata": {
  "kernelspec": {
   "display_name": "Python 3",
   "language": "python",
   "name": "python3"
  },
  "language_info": {
   "codemirror_mode": {
    "name": "ipython",
    "version": 3
   },
   "file_extension": ".py",
   "mimetype": "text/x-python",
   "name": "python",
   "nbconvert_exporter": "python",
   "pygments_lexer": "ipython3",
   "version": "3.8.12"
  },
  "nav_menu": {
   "height": "360px",
   "width": "416px"
  },
  "toc": {
   "navigate_menu": true,
   "number_sections": true,
   "sideBar": true,
   "threshold": 6,
   "toc_cell": false,
   "toc_section_display": "block",
   "toc_window_display": false
  },
  "deepnote_notebook_id": "057c6ec3-a4d3-4c6f-93ab-0d4d1d0a5984",
  "deepnote": {},
  "deepnote_execution_queue": []
 }
}