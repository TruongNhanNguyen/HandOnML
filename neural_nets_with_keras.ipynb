{
 "cells": [
  {
   "cell_type": "markdown",
   "source": "# Setup",
   "metadata": {
    "cell_id": "1f31532d-ba19-4e47-8d47-8ac1f3fabfaf",
    "deepnote_cell_type": "markdown",
    "deepnote_cell_height": 82
   }
  },
  {
   "cell_type": "markdown",
   "source": "First, let's import a few common modules, ensure MatplotLib plots figures inline and prepare a function to save the figures. We also check that Python 3.5 or later is installed (although Python 2.x may work, it is deprecated so we strongly recommend you use Python 3 instead), as well as Scikit-Learn >= 0.20 and TensorFlow >= 2.0.",
   "metadata": {
    "cell_id": "00001-4439061e-f12e-4fea-9f44-e490585ab559",
    "deepnote_cell_type": "markdown",
    "deepnote_cell_height": 97.171875
   }
  },
  {
   "cell_type": "code",
   "metadata": {
    "cell_id": "00002-17fbe845-9e89-44a9-9bbe-aae7ef17bead",
    "deepnote_to_be_reexecuted": false,
    "source_hash": "8977a559",
    "execution_start": 1659186490674,
    "execution_millis": 4649,
    "deepnote_cell_type": "code",
    "deepnote_cell_height": 886
   },
   "source": "# Python >= 3.5 is required\nimport sys\nassert sys.version_info >= (3, 5)\n\n# Scikit-Learn >= 0.20 is required\nimport sklearn\nassert sklearn.__version__ >= \"0.20\"\n\ntry:\n    # %tensorflow_version only exists in Colab.\n    %tensorflow_version 2.x\nexcept Exception:\n    pass\n\n# TensorFlow >= 2.0 is required\nimport tensorflow as tf\nassert tf.__version__ >= \"2.0\"\n\n# Common imports\nimport numpy as np\nimport os\n\n# To make this notebook's output stable across runs\nnp.random.seed(42)\n\n# To plot pretty figures\n%matplotlib inline\nimport matplotlib as mpl\nimport matplotlib.pyplot as plt\nmpl.rc('axes', labelsize=14)\nmpl.rc('xtick', labelsize=12)\nmpl.rc('ytick', labelsize=12)\n\n# Where to save the figures\nPROJECT_ROOT_DIR = \".\"\nCHAPTER_ID = \"ann\"\nIMAGES_PATH = os.path.join(PROJECT_ROOT_DIR, \"images\", CHAPTER_ID)\nos.makedirs(IMAGES_PATH, exist_ok=True)\n\ndef save_fig(fig_id, tight_layout=True, fig_extension=\"png\", resolution=300):\n    path = os.path.join(IMAGES_PATH, fig_id + \".\" + fig_extension)\n    print(\"Saving figure\", fig_id)\n    if tight_layout:\n        plt.tight_layout()\n    plt.savefig(path, format=fig_extension, dpi=resolution)\n",
   "execution_count": null,
   "outputs": []
  },
  {
   "cell_type": "markdown",
   "source": "# Perceptrons",
   "metadata": {
    "cell_id": "00003-3001bf5c-97ef-4d29-b49a-aa0af26e4c60",
    "deepnote_cell_type": "markdown",
    "deepnote_cell_height": 82
   }
  },
  {
   "cell_type": "markdown",
   "source": "**Note**: we set `max_iter` and `tol` explicitly to avoid warnings about the fact that their default value will change in future versions of Scikit-Learn.",
   "metadata": {
    "cell_id": "00004-a3e671af-bb05-40b2-aad0-94898cd01615",
    "deepnote_cell_type": "markdown",
    "deepnote_cell_height": 74.78125
   }
  },
  {
   "cell_type": "code",
   "metadata": {
    "cell_id": "00005-594bbd89-3efa-496c-a318-a17893bffd6d",
    "deepnote_to_be_reexecuted": false,
    "source_hash": "88b4afd5",
    "execution_start": 1659186495324,
    "execution_millis": 166,
    "deepnote_cell_type": "code",
    "deepnote_cell_height": 274
   },
   "source": "import numpy as np\nfrom sklearn.datasets import load_iris\nfrom sklearn.linear_model import Perceptron\n\niris = load_iris()\nX = iris.data[:, (2, 3)]  # petal length, petal width\ny = (iris.target == 0).astype(int)\n\nper_clf = Perceptron(max_iter=1000, tol=1e-3, random_state=42)\nper_clf.fit(X, y)\n\ny_pred = per_clf.predict([[2, 0.5]])",
   "execution_count": null,
   "outputs": []
  },
  {
   "cell_type": "code",
   "metadata": {
    "cell_id": "00006-24b81fa9-bb30-4cbb-bb1c-e58e844041a0",
    "deepnote_to_be_reexecuted": false,
    "source_hash": "ba549d12",
    "execution_start": 1659186495500,
    "execution_millis": 380,
    "deepnote_cell_type": "code",
    "deepnote_cell_height": 113.1875,
    "deepnote_output_heights": [
     21.1875
    ]
   },
   "source": "y_pred",
   "execution_count": null,
   "outputs": [
    {
     "output_type": "execute_result",
     "execution_count": 3,
     "data": {
      "text/plain": "array([1])"
     },
     "metadata": {}
    }
   ]
  },
  {
   "cell_type": "code",
   "metadata": {
    "cell_id": "00007-858aa6ab-b9de-45e9-9133-c9310c41c106",
    "deepnote_to_be_reexecuted": false,
    "source_hash": "aee84082",
    "execution_start": 1659186495519,
    "execution_millis": 899,
    "deepnote_cell_type": "code",
    "deepnote_cell_height": 924.1875,
    "deepnote_output_heights": [
     null,
     282
    ]
   },
   "source": "a = -per_clf.coef_[0][0] / per_clf.coef_[0][1]\nb = -per_clf.intercept_ / per_clf.coef_[0][1]\n\naxes = [0, 5, 0, 2]\n\nx0, x1 = np.meshgrid(\n        np.linspace(axes[0], axes[1], 500).reshape(-1, 1),\n        np.linspace(axes[2], axes[3], 200).reshape(-1, 1),\n    )\nX_new = np.c_[x0.ravel(), x1.ravel()]\ny_predict = per_clf.predict(X_new)\nzz = y_predict.reshape(x0.shape)\n\nplt.figure(figsize=(10, 4))\nplt.plot(X[y==0, 0], X[y==0, 1], \"bs\", label=\"Not Iris-Setosa\")\nplt.plot(X[y==1, 0], X[y==1, 1], \"yo\", label=\"Iris-Setosa\")\n\nplt.plot([axes[0], axes[1]], [a * axes[0] + b, a * axes[1] + b], \"k-\", linewidth=3)\nfrom matplotlib.colors import ListedColormap\ncustom_cmap = ListedColormap(['#9898ff', '#fafab0'])\n\nplt.contourf(x0, x1, zz, cmap=custom_cmap)\nplt.xlabel(\"Petal length\", fontsize=14)\nplt.ylabel(\"Petal width\", fontsize=14)\nplt.legend(loc=\"lower right\", fontsize=14)\nplt.axis(axes)\n\nsave_fig(\"perceptron_iris_plot\")\nplt.show()",
   "execution_count": null,
   "outputs": [
    {
     "name": "stdout",
     "text": "Saving figure perceptron_iris_plot\n",
     "output_type": "stream"
    },
    {
     "data": {
      "text/plain": "<Figure size 720x288 with 1 Axes>",
      "image/png": "[encoded data removed]"
     },
     "metadata": {
      "needs_background": "light",
      "image/png": {
       "width": 712,
       "height": 280
      }
     },
     "output_type": "display_data"
    }
   ]
  },
  {
   "cell_type": "markdown",
   "source": "# Activation functions",
   "metadata": {
    "cell_id": "00008-8f42edb2-ed97-4ab2-b6d6-f41a3eb185b5",
    "deepnote_cell_type": "markdown",
    "deepnote_cell_height": 82
   }
  },
  {
   "cell_type": "code",
   "metadata": {
    "cell_id": "00009-92584274-8203-4def-83c6-375b4c4464a2",
    "deepnote_to_be_reexecuted": false,
    "source_hash": "ca572cf",
    "execution_start": 1659186496419,
    "execution_millis": 5,
    "deepnote_cell_type": "code",
    "deepnote_cell_height": 202
   },
   "source": "def sigmoid(z):\n    return 1 / (1 + np.exp(-z))\n\ndef relu(z):\n    return np.maximum(0, z)\n\ndef derivative(f, z, eps=0.000001):\n    return (f(z + eps) - f(z - eps))/(2 * eps)",
   "execution_count": null,
   "outputs": []
  },
  {
   "cell_type": "code",
   "metadata": {
    "cell_id": "00010-ef789bf5-6cb2-42c4-983b-95e664e13fdf",
    "deepnote_to_be_reexecuted": false,
    "source_hash": "f820f334",
    "execution_start": 1659186496425,
    "execution_millis": 861,
    "deepnote_cell_type": "code",
    "deepnote_cell_height": 906.1875,
    "deepnote_output_heights": [
     null,
     282
    ]
   },
   "source": "z = np.linspace(-5, 5, 200)\n\nplt.figure(figsize=(11,4))\n\nplt.subplot(121)\nplt.plot(z, np.sign(z), \"r-\", linewidth=1, label=\"Step\")\nplt.plot(z, sigmoid(z), \"g--\", linewidth=2, label=\"Sigmoid\")\nplt.plot(z, np.tanh(z), \"b-\", linewidth=2, label=\"Tanh\")\nplt.plot(z, relu(z), \"m-.\", linewidth=2, label=\"ReLU\")\nplt.grid(True)\nplt.legend(loc=\"center right\", fontsize=14)\nplt.title(\"Activation functions\", fontsize=14)\nplt.axis([-5, 5, -1.2, 1.2])\n\nplt.subplot(122)\nplt.plot(z, derivative(np.sign, z), \"r-\", linewidth=1, label=\"Step\")\nplt.plot(0, 0, \"ro\", markersize=5)\nplt.plot(0, 0, \"rx\", markersize=10)\nplt.plot(z, derivative(sigmoid, z), \"g--\", linewidth=2, label=\"Sigmoid\")\nplt.plot(z, derivative(np.tanh, z), \"b-\", linewidth=2, label=\"Tanh\")\nplt.plot(z, derivative(relu, z), \"m-.\", linewidth=2, label=\"ReLU\")\nplt.grid(True)\n#plt.legend(loc=\"center right\", fontsize=14)\nplt.title(\"Derivatives\", fontsize=14)\nplt.axis([-5, 5, -0.2, 1.2])\n\nsave_fig(\"activation_functions_plot\")\nplt.show()",
   "execution_count": null,
   "outputs": [
    {
     "name": "stdout",
     "text": "Saving figure activation_functions_plot\n",
     "output_type": "stream"
    },
    {
     "data": {
      "text/plain": "<Figure size 792x288 with 2 Axes>",
      "image/png": "[encoded data removed]"
     },
     "metadata": {
      "needs_background": "light",
      "image/png": {
       "width": 784,
       "height": 280
      }
     },
     "output_type": "display_data"
    }
   ]
  },
  {
   "cell_type": "code",
   "metadata": {
    "cell_id": "00011-7d6ac778-a34d-4d24-9ee9-5b302830478a",
    "deepnote_to_be_reexecuted": false,
    "source_hash": "296a473c",
    "execution_start": 1659186497287,
    "execution_millis": 4,
    "deepnote_cell_type": "code",
    "deepnote_cell_height": 148
   },
   "source": "def heaviside(z):\n    return (z >= 0).astype(z.dtype)\n\ndef mlp_xor(x1, x2, activation=heaviside):\n    return activation(-activation(x1 + x2 - 1.5) + activation(x1 + x2 - 0.5) - 0.5)",
   "execution_count": null,
   "outputs": []
  },
  {
   "cell_type": "code",
   "metadata": {
    "scrolled": true,
    "cell_id": "00012-ed9626f0-78fa-416f-a979-e00df0400cb1",
    "deepnote_to_be_reexecuted": false,
    "source_hash": "cf36b917",
    "execution_start": 1659186497302,
    "execution_millis": 335,
    "deepnote_cell_type": "code",
    "deepnote_cell_height": 740,
    "deepnote_output_heights": [
     270
    ]
   },
   "source": "x1s = np.linspace(-0.2, 1.2, 100)\nx2s = np.linspace(-0.2, 1.2, 100)\nx1, x2 = np.meshgrid(x1s, x2s)\n\nz1 = mlp_xor(x1, x2, activation=heaviside)\nz2 = mlp_xor(x1, x2, activation=sigmoid)\n\nplt.figure(figsize=(10,4))\n\nplt.subplot(121)\nplt.contourf(x1, x2, z1)\nplt.plot([0, 1], [0, 1], \"gs\", markersize=20)\nplt.plot([0, 1], [1, 0], \"y^\", markersize=20)\nplt.title(\"Activation function: heaviside\", fontsize=14)\nplt.grid(True)\n\nplt.subplot(122)\nplt.contourf(x1, x2, z2)\nplt.plot([0, 1], [0, 1], \"gs\", markersize=20)\nplt.plot([0, 1], [1, 0], \"y^\", markersize=20)\nplt.title(\"Activation function: sigmoid\", fontsize=14)\nplt.grid(True)",
   "execution_count": null,
   "outputs": [
    {
     "data": {
      "text/plain": "<Figure size 720x288 with 2 Axes>",
      "image/png": "[encoded data removed]"
     },
     "metadata": {
      "needs_background": "light",
      "image/png": {
       "width": 617,
       "height": 268
      }
     },
     "output_type": "display_data"
    }
   ]
  },
  {
   "cell_type": "markdown",
   "source": "# Building an Image Classifier",
   "metadata": {
    "cell_id": "00013-531295f8-e09a-4fca-8fda-7dae111fabc3",
    "deepnote_cell_type": "markdown",
    "deepnote_cell_height": 82
   }
  },
  {
   "cell_type": "markdown",
   "source": "First let's import TensorFlow and Keras.",
   "metadata": {
    "cell_id": "00014-337e392d-43ee-4d96-8ec1-b776fbdc752a",
    "deepnote_cell_type": "markdown",
    "deepnote_cell_height": 52.390625
   }
  },
  {
   "cell_type": "code",
   "metadata": {
    "cell_id": "00015-95402d13-cf9e-486c-a2bc-685dc46fccb1",
    "deepnote_to_be_reexecuted": false,
    "source_hash": "cc0515f2",
    "execution_start": 1659186497645,
    "execution_millis": 4,
    "deepnote_cell_type": "code",
    "deepnote_cell_height": 94
   },
   "source": "import tensorflow as tf\nfrom tensorflow import keras",
   "execution_count": null,
   "outputs": []
  },
  {
   "cell_type": "code",
   "metadata": {
    "cell_id": "00016-26ac36f4-6b28-4120-b137-356046704f23",
    "deepnote_to_be_reexecuted": false,
    "source_hash": "de35829e",
    "execution_start": 1659186497657,
    "execution_millis": 8,
    "deepnote_cell_type": "code",
    "deepnote_cell_height": 113.1875,
    "deepnote_output_heights": [
     21.1875
    ]
   },
   "source": "tf.__version__",
   "execution_count": null,
   "outputs": [
    {
     "output_type": "execute_result",
     "execution_count": 10,
     "data": {
      "text/plain": "'2.9.1'"
     },
     "metadata": {}
    }
   ]
  },
  {
   "cell_type": "code",
   "metadata": {
    "cell_id": "00017-ae254d14-f2a0-45b8-8558-c50a8c788c47",
    "deepnote_to_be_reexecuted": false,
    "source_hash": "6007d765",
    "execution_start": 1659186497666,
    "execution_millis": 7,
    "deepnote_cell_type": "code",
    "deepnote_cell_height": 113.1875,
    "deepnote_output_heights": [
     21.1875
    ]
   },
   "source": "keras.__version__",
   "execution_count": null,
   "outputs": [
    {
     "output_type": "execute_result",
     "execution_count": 11,
     "data": {
      "text/plain": "'2.9.0'"
     },
     "metadata": {}
    }
   ]
  },
  {
   "cell_type": "markdown",
   "source": "Let's start by loading the fashion MNIST dataset. Keras has a number of functions to load popular datasets in `keras.datasets`. The dataset is already split for you between a training set and a test set, but it can be useful to split the training set further to have a validation set:",
   "metadata": {
    "cell_id": "00018-24064f7d-6fb2-48db-9f4f-71cc8afaa669",
    "deepnote_cell_type": "markdown",
    "deepnote_cell_height": 97.171875
   }
  },
  {
   "cell_type": "code",
   "metadata": {
    "cell_id": "00019-39c2a6bd-268e-450e-83b1-b63120aefb8b",
    "deepnote_to_be_reexecuted": false,
    "source_hash": "e40172d1",
    "execution_start": 1659186497677,
    "execution_millis": 458,
    "deepnote_cell_type": "code",
    "deepnote_cell_height": 94
   },
   "source": "fashion_mnist = keras.datasets.fashion_mnist\n(X_train_full, y_train_full), (X_test, y_test) = fashion_mnist.load_data()",
   "execution_count": null,
   "outputs": []
  },
  {
   "cell_type": "markdown",
   "source": "The training set contains 60,000 grayscale images, each 28x28 pixels:",
   "metadata": {
    "cell_id": "00020-d67b7e1f-f635-40fe-ab20-4a5e8657d667",
    "deepnote_cell_type": "markdown",
    "deepnote_cell_height": 52.390625
   }
  },
  {
   "cell_type": "code",
   "metadata": {
    "cell_id": "00021-3b4c3c7c-932d-4648-b1be-be206cf258f4",
    "deepnote_to_be_reexecuted": false,
    "source_hash": "3b45a169",
    "execution_start": 1659186498139,
    "execution_millis": 580,
    "deepnote_cell_type": "code",
    "deepnote_cell_height": 113.1875
   },
   "source": "X_train_full.shape",
   "execution_count": null,
   "outputs": [
    {
     "output_type": "execute_result",
     "execution_count": 13,
     "data": {
      "text/plain": "(60000, 28, 28)"
     },
     "metadata": {}
    }
   ]
  },
  {
   "cell_type": "markdown",
   "source": "Each pixel intensity is represented as a byte (0 to 255):",
   "metadata": {
    "cell_id": "00022-b5fe5968-dfc0-430d-82d1-7e4d29984a22",
    "deepnote_cell_type": "markdown",
    "deepnote_cell_height": 52.390625
   }
  },
  {
   "cell_type": "code",
   "metadata": {
    "cell_id": "00023-8c1db79f-0581-4ba9-9297-373a6664e3bf",
    "deepnote_to_be_reexecuted": false,
    "source_hash": "32a91791",
    "execution_start": 1659186498194,
    "execution_millis": 527,
    "deepnote_cell_type": "code",
    "deepnote_cell_height": 113.1875,
    "deepnote_output_heights": [
     21.1875
    ]
   },
   "source": "X_train_full.dtype",
   "execution_count": null,
   "outputs": [
    {
     "output_type": "execute_result",
     "execution_count": 14,
     "data": {
      "text/plain": "dtype('uint8')"
     },
     "metadata": {}
    }
   ]
  },
  {
   "cell_type": "markdown",
   "source": "Let's split the full training set into a validation set and a (smaller) training set. We also scale the pixel intensities down to the 0-1 range and convert them to floats, by dividing by 255.",
   "metadata": {
    "cell_id": "00024-89067007-c7c4-4e08-80d9-d860e34dedaa",
    "deepnote_cell_type": "markdown",
    "deepnote_cell_height": 74.78125
   }
  },
  {
   "cell_type": "code",
   "metadata": {
    "cell_id": "00025-bc7b4ebe-e9c3-4234-8a1e-50f8e2b16465",
    "deepnote_to_be_reexecuted": false,
    "source_hash": "364f401f",
    "execution_start": 1659186498195,
    "execution_millis": 112,
    "deepnote_cell_type": "code",
    "deepnote_cell_height": 112
   },
   "source": "X_valid, X_train = X_train_full[:5000] / 255., X_train_full[5000:] / 255.\ny_valid, y_train = y_train_full[:5000], y_train_full[5000:]\nX_test = X_test / 255.",
   "execution_count": null,
   "outputs": []
  },
  {
   "cell_type": "markdown",
   "source": "You can plot an image using Matplotlib's `imshow()` function, with a `'binary'`\n color map:",
   "metadata": {
    "cell_id": "00026-cf2d12f6-c521-46ec-a918-9b7bb5116036",
    "deepnote_cell_type": "markdown",
    "deepnote_cell_height": 74.78125
   }
  },
  {
   "cell_type": "code",
   "metadata": {
    "cell_id": "00027-e33843a0-bf1d-44fa-b7ff-4df2d0183333",
    "deepnote_to_be_reexecuted": false,
    "source_hash": "c03cb47f",
    "execution_start": 1659186498317,
    "execution_millis": 109,
    "deepnote_cell_type": "code",
    "deepnote_cell_height": 361,
    "deepnote_output_heights": [
     233
    ]
   },
   "source": "plt.imshow(X_train[0], cmap=\"binary\")\nplt.axis('off')\nplt.show()",
   "execution_count": null,
   "outputs": [
    {
     "data": {
      "text/plain": "<Figure size 432x288 with 1 Axes>",
      "image/png": "[encoded data removed]"
     },
     "metadata": {
      "needs_background": "light",
      "image/png": {
       "width": 231,
       "height": 231
      }
     },
     "output_type": "display_data"
    }
   ]
  },
  {
   "cell_type": "markdown",
   "source": "The labels are the class IDs (represented as uint8), from 0 to 9:",
   "metadata": {
    "cell_id": "00028-b8de4f57-a9c6-4597-8a9b-6c7a8a4634a6",
    "deepnote_cell_type": "markdown",
    "deepnote_cell_height": 52.390625
   }
  },
  {
   "cell_type": "code",
   "metadata": {
    "cell_id": "00029-73553e5e-509f-4f82-acdf-af18ee76b803",
    "deepnote_to_be_reexecuted": false,
    "source_hash": "ed857f47",
    "execution_start": 1659186498427,
    "execution_millis": 296,
    "deepnote_cell_type": "code",
    "deepnote_cell_height": 113.1875
   },
   "source": "y_train",
   "execution_count": null,
   "outputs": [
    {
     "output_type": "execute_result",
     "execution_count": 17,
     "data": {
      "text/plain": "array([4, 0, 7, ..., 3, 0, 5], dtype=uint8)"
     },
     "metadata": {}
    }
   ]
  },
  {
   "cell_type": "markdown",
   "source": "Here are the corresponding class names:",
   "metadata": {
    "cell_id": "00030-a1c11a05-ff5a-4ecd-8f10-f3b3d97ff8b5",
    "deepnote_cell_type": "markdown",
    "deepnote_cell_height": 52.390625
   }
  },
  {
   "cell_type": "code",
   "metadata": {
    "cell_id": "00031-1c4988f4-a5f9-460c-b933-753ccb861013",
    "deepnote_to_be_reexecuted": false,
    "source_hash": "ca5041f8",
    "execution_start": 1659186498427,
    "execution_millis": 1,
    "deepnote_cell_type": "code",
    "deepnote_cell_height": 94
   },
   "source": "class_names = [\"T-shirt/top\", \"Trouser\", \"Pullover\", \"Dress\", \"Coat\",\n               \"Sandal\", \"Shirt\", \"Sneaker\", \"Bag\", \"Ankle boot\"]",
   "execution_count": null,
   "outputs": []
  },
  {
   "cell_type": "markdown",
   "source": "So the first image in the training set is a coat:",
   "metadata": {
    "cell_id": "00032-4ab6a297-fa96-4c44-8f2f-609f50280a3c",
    "deepnote_cell_type": "markdown",
    "deepnote_cell_height": 52.390625
   }
  },
  {
   "cell_type": "code",
   "metadata": {
    "cell_id": "00033-82d304e4-2f49-475a-9606-823520636159",
    "deepnote_to_be_reexecuted": false,
    "source_hash": "cfaa7dfd",
    "execution_start": 1659186498487,
    "execution_millis": 238,
    "deepnote_cell_type": "code",
    "deepnote_cell_height": 113.1875
   },
   "source": "class_names[y_train[0]]",
   "execution_count": null,
   "outputs": [
    {
     "output_type": "execute_result",
     "execution_count": 19,
     "data": {
      "text/plain": "'Coat'"
     },
     "metadata": {}
    }
   ]
  },
  {
   "cell_type": "markdown",
   "source": "The validation set contains 5,000 images, and the test set contains 10,000 images:",
   "metadata": {
    "cell_id": "00034-8646866b-db84-435e-98ee-d5af8589a450",
    "deepnote_cell_type": "markdown",
    "deepnote_cell_height": 52.390625
   }
  },
  {
   "cell_type": "code",
   "metadata": {
    "cell_id": "00035-d7434a5d-c50a-45fc-b761-2cc41d61e50f",
    "deepnote_to_be_reexecuted": false,
    "source_hash": "ffc02169",
    "execution_start": 1659186498492,
    "execution_millis": 234,
    "deepnote_cell_type": "code",
    "deepnote_cell_height": 113.1875
   },
   "source": "X_valid.shape",
   "execution_count": null,
   "outputs": [
    {
     "output_type": "execute_result",
     "execution_count": 20,
     "data": {
      "text/plain": "(5000, 28, 28)"
     },
     "metadata": {}
    }
   ]
  },
  {
   "cell_type": "code",
   "metadata": {
    "cell_id": "00036-8142d8f8-4bb0-441a-9aa2-c7f555134582",
    "deepnote_to_be_reexecuted": false,
    "source_hash": "251bcee5",
    "execution_start": 1659186498496,
    "execution_millis": 232,
    "deepnote_cell_type": "code",
    "deepnote_cell_height": 113.1875
   },
   "source": "X_test.shape",
   "execution_count": null,
   "outputs": [
    {
     "output_type": "execute_result",
     "execution_count": 21,
     "data": {
      "text/plain": "(10000, 28, 28)"
     },
     "metadata": {}
    }
   ]
  },
  {
   "cell_type": "markdown",
   "source": "Let's take a look at a sample of the images in the dataset:",
   "metadata": {
    "cell_id": "00037-758278ba-b08f-4c17-8501-e7cc439f73a7",
    "deepnote_cell_type": "markdown",
    "deepnote_cell_height": 52.390625
   }
  },
  {
   "cell_type": "code",
   "metadata": {
    "cell_id": "00038-8ae2e9bc-8726-45aa-8288-9050be9e644a",
    "deepnote_to_be_reexecuted": false,
    "source_hash": "d7bc000d",
    "execution_start": 1659186498509,
    "execution_millis": 1875,
    "deepnote_cell_type": "code",
    "deepnote_cell_height": 647.1875,
    "deepnote_output_heights": [
     null,
     293
    ]
   },
   "source": "n_rows = 4\nn_cols = 10\nplt.figure(figsize=(n_cols * 1.2, n_rows * 1.2))\nfor row in range(n_rows):\n    for col in range(n_cols):\n        index = n_cols * row + col\n        plt.subplot(n_rows, n_cols, index + 1)\n        plt.imshow(X_train[index], cmap=\"binary\", interpolation=\"nearest\")\n        plt.axis('off')\n        plt.title(class_names[y_train[index]], fontsize=12)\nplt.subplots_adjust(wspace=0.2, hspace=0.5)\nsave_fig('fashion_mnist_plot', tight_layout=False)\nplt.show()",
   "execution_count": null,
   "outputs": [
    {
     "name": "stdout",
     "text": "Saving figure fashion_mnist_plot\n",
     "output_type": "stream"
    },
    {
     "data": {
      "text/plain": "<Figure size 864x345.6 with 40 Axes>",
      "image/png": "[encoded data removed]"
     },
     "metadata": {
      "needs_background": "light",
      "image/png": {
       "width": 681,
       "height": 291
      }
     },
     "output_type": "display_data"
    }
   ]
  },
  {
   "cell_type": "code",
   "metadata": {
    "cell_id": "00039-4af898a6-8e81-4952-a20e-9d9ff85b6ee2",
    "deepnote_to_be_reexecuted": false,
    "source_hash": "7ea9606",
    "execution_start": 1659186500433,
    "execution_millis": 1,
    "deepnote_cell_type": "code",
    "deepnote_cell_height": 148
   },
   "source": "model = keras.models.Sequential()\nmodel.add(keras.layers.Flatten(input_shape=[28, 28]))\nmodel.add(keras.layers.Dense(300, activation=\"relu\"))\nmodel.add(keras.layers.Dense(100, activation=\"relu\"))\nmodel.add(keras.layers.Dense(10, activation=\"softmax\"))",
   "execution_count": null,
   "outputs": []
  },
  {
   "cell_type": "code",
   "metadata": {
    "cell_id": "00040-e0b1dfe4-835c-4e32-b90c-41d01ab2bb76",
    "deepnote_to_be_reexecuted": false,
    "source_hash": "b86c7ea",
    "execution_start": 1659186500434,
    "execution_millis": 44,
    "deepnote_cell_type": "code",
    "deepnote_cell_height": 112
   },
   "source": "keras.backend.clear_session()\nnp.random.seed(42)\ntf.random.set_seed(42)",
   "execution_count": null,
   "outputs": []
  },
  {
   "cell_type": "code",
   "metadata": {
    "cell_id": "00041-2edbf181-56a7-45e2-8f49-35cb1bd8cd12",
    "deepnote_to_be_reexecuted": false,
    "source_hash": "e2bfe76c",
    "execution_start": 1659186500479,
    "execution_millis": 0,
    "deepnote_cell_type": "code",
    "deepnote_cell_height": 166
   },
   "source": "model = keras.models.Sequential([\n    keras.layers.Flatten(input_shape=[28, 28]),\n    keras.layers.Dense(300, activation=\"relu\"),\n    keras.layers.Dense(100, activation=\"relu\"),\n    keras.layers.Dense(10, activation=\"softmax\")\n])",
   "execution_count": null,
   "outputs": []
  },
  {
   "cell_type": "code",
   "metadata": {
    "cell_id": "00042-4da9eca5-b97d-4e99-bdd0-cedd067f022b",
    "deepnote_to_be_reexecuted": false,
    "source_hash": "e081c798",
    "execution_start": 1659186500492,
    "execution_millis": 1,
    "deepnote_cell_type": "code",
    "deepnote_cell_height": 170.75
   },
   "source": "model.layers",
   "execution_count": null,
   "outputs": [
    {
     "output_type": "execute_result",
     "execution_count": 26,
     "data": {
      "text/plain": "[<keras.layers.reshaping.flatten.Flatten at 0x7f3b266895b0>,\n <keras.layers.core.dense.Dense at 0x7f3b266896d0>,\n <keras.layers.core.dense.Dense at 0x7f3b26689700>,\n <keras.layers.core.dense.Dense at 0x7f3b26689880>]"
     },
     "metadata": {}
    }
   ]
  },
  {
   "cell_type": "code",
   "metadata": {
    "cell_id": "00043-df26277b-80c7-40e1-8eb2-055cd6f202dd",
    "deepnote_to_be_reexecuted": false,
    "source_hash": "4e6a3b95",
    "execution_start": 1659186500523,
    "execution_millis": 3,
    "deepnote_cell_type": "code",
    "deepnote_cell_height": 430.1875
   },
   "source": "model.summary()",
   "execution_count": null,
   "outputs": [
    {
     "name": "stdout",
     "text": "Model: \"sequential\"\n_________________________________________________________________\n Layer (type)                Output Shape              Param #   \n=================================================================\n flatten (Flatten)           (None, 784)               0         \n                                                                 \n dense (Dense)               (None, 300)               235500    \n                                                                 \n dense_1 (Dense)             (None, 100)               30100     \n                                                                 \n dense_2 (Dense)             (None, 10)                1010      \n                                                                 \n=================================================================\nTotal params: 266,610\nTrainable params: 266,610\nNon-trainable params: 0\n_________________________________________________________________\n",
     "output_type": "stream"
    }
   ]
  },
  {
   "cell_type": "code",
   "metadata": {
    "cell_id": "00044-32b8120a-623c-4737-a6fe-a1463ffc21ef",
    "deepnote_to_be_reexecuted": false,
    "source_hash": "7845e35c",
    "execution_start": 1659186500577,
    "execution_millis": 28,
    "deepnote_cell_type": "code",
    "deepnote_cell_height": 610,
    "deepnote_output_heights": [
     518
    ]
   },
   "source": "keras.utils.plot_model(model, \"my_fashion_mnist_model.png\", show_shapes=True)",
   "execution_count": null,
   "outputs": [
    {
     "output_type": "execute_result",
     "execution_count": 28,
     "data": {
      "image/png": "[encoded data removed]",
      "text/plain": "<IPython.core.display.Image object>"
     },
     "metadata": {
      "image/png": {
       "width": 420,
       "height": 516
      }
     }
    }
   ]
  },
  {
   "cell_type": "code",
   "metadata": {
    "cell_id": "00045-a7535fce-b479-4d6f-bf34-05315404042e",
    "deepnote_to_be_reexecuted": false,
    "source_hash": "89350fb9",
    "execution_start": 1659186500606,
    "execution_millis": 10,
    "deepnote_cell_type": "code",
    "deepnote_cell_height": 131.1875,
    "deepnote_output_heights": [
     21.1875
    ]
   },
   "source": "hidden1 = model.layers[1]\nhidden1.name",
   "execution_count": null,
   "outputs": [
    {
     "output_type": "execute_result",
     "execution_count": 29,
     "data": {
      "text/plain": "'dense'"
     },
     "metadata": {}
    }
   ]
  },
  {
   "cell_type": "code",
   "metadata": {
    "cell_id": "00046-3c433c77-4ac9-4611-a62a-6934abce0fa3",
    "deepnote_to_be_reexecuted": false,
    "source_hash": "468ed498",
    "execution_start": 1659186500617,
    "execution_millis": 4,
    "deepnote_cell_type": "code",
    "deepnote_cell_height": 113.1875,
    "deepnote_output_heights": [
     21.1875
    ]
   },
   "source": "model.get_layer(hidden1.name) is hidden1",
   "execution_count": null,
   "outputs": [
    {
     "output_type": "execute_result",
     "execution_count": 30,
     "data": {
      "text/plain": "True"
     },
     "metadata": {}
    }
   ]
  },
  {
   "cell_type": "code",
   "metadata": {
    "cell_id": "00047-ce7e6134-37dd-4448-ab8d-6937832617b1",
    "deepnote_to_be_reexecuted": false,
    "source_hash": "7ca43ca4",
    "execution_start": 1659186500625,
    "execution_millis": 3,
    "deepnote_cell_type": "code",
    "deepnote_cell_height": 76
   },
   "source": "weights, biases = hidden1.get_weights()",
   "execution_count": null,
   "outputs": []
  },
  {
   "cell_type": "code",
   "metadata": {
    "cell_id": "00048-6115cb12-0da4-4778-8440-70a48f29e247",
    "deepnote_to_be_reexecuted": false,
    "source_hash": "262735a6",
    "execution_start": 1659186500634,
    "execution_millis": 5,
    "deepnote_cell_type": "code",
    "deepnote_cell_height": 343.4375,
    "deepnote_output_heights": [
     251.4375
    ]
   },
   "source": "weights",
   "execution_count": null,
   "outputs": [
    {
     "output_type": "execute_result",
     "execution_count": 32,
     "data": {
      "text/plain": "array([[ 0.02448617, -0.00877795, -0.02189048, ..., -0.02766046,\n         0.03859074, -0.06889391],\n       [ 0.00476504, -0.03105379, -0.0586676 , ...,  0.00602964,\n        -0.02763776, -0.04165364],\n       [-0.06189284, -0.06901957,  0.07102345, ..., -0.04238207,\n         0.07121518, -0.07331658],\n       ...,\n       [-0.03048757,  0.02155137, -0.05400612, ..., -0.00113463,\n         0.00228987,  0.05581069],\n       [ 0.07061854, -0.06960931,  0.07038955, ..., -0.00384101,\n         0.00034875,  0.02878492],\n       [-0.06022581,  0.01577859, -0.02585464, ..., -0.00527829,\n         0.00272203, -0.06793761]], dtype=float32)"
     },
     "metadata": {}
    }
   ]
  },
  {
   "cell_type": "code",
   "metadata": {
    "cell_id": "00049-922bef0a-6852-4d58-8b80-ea5a4d4e074c",
    "deepnote_to_be_reexecuted": false,
    "source_hash": "6a6092a8",
    "execution_start": 1659186500646,
    "execution_millis": 1,
    "deepnote_cell_type": "code",
    "deepnote_cell_height": 113.1875,
    "deepnote_output_heights": [
     21.1875
    ]
   },
   "source": "weights.shape",
   "execution_count": null,
   "outputs": [
    {
     "output_type": "execute_result",
     "execution_count": 33,
     "data": {
      "text/plain": "(784, 300)"
     },
     "metadata": {}
    }
   ]
  },
  {
   "cell_type": "code",
   "metadata": {
    "cell_id": "00050-c78b1f87-ee4e-47c4-a99d-07a843e19cf7",
    "deepnote_to_be_reexecuted": false,
    "source_hash": "abb7e81b",
    "execution_start": 1659186500654,
    "execution_millis": 5,
    "deepnote_cell_type": "code",
    "deepnote_cell_height": 439.375
   },
   "source": "biases",
   "execution_count": null,
   "outputs": [
    {
     "output_type": "execute_result",
     "execution_count": 34,
     "data": {
      "text/plain": "array([0., 0., 0., 0., 0., 0., 0., 0., 0., 0., 0., 0., 0., 0., 0., 0., 0.,\n       0., 0., 0., 0., 0., 0., 0., 0., 0., 0., 0., 0., 0., 0., 0., 0., 0.,\n       0., 0., 0., 0., 0., 0., 0., 0., 0., 0., 0., 0., 0., 0., 0., 0., 0.,\n       0., 0., 0., 0., 0., 0., 0., 0., 0., 0., 0., 0., 0., 0., 0., 0., 0.,\n       0., 0., 0., 0., 0., 0., 0., 0., 0., 0., 0., 0., 0., 0., 0., 0., 0.,\n       0., 0., 0., 0., 0., 0., 0., 0., 0., 0., 0., 0., 0., 0., 0., 0., 0.,\n       0., 0., 0., 0., 0., 0., 0., 0., 0., 0., 0., 0., 0., 0., 0., 0., 0.,\n       0., 0., 0., 0., 0., 0., 0., 0., 0., 0., 0., 0., 0., 0., 0., 0., 0.,\n       0., 0., 0., 0., 0., 0., 0., 0., 0., 0., 0., 0., 0., 0., 0., 0., 0.,\n       0., 0., 0., 0., 0., 0., 0., 0., 0., 0., 0., 0., 0., 0., 0., 0., 0.,\n       0., 0., 0., 0., 0., 0., 0., 0., 0., 0., 0., 0., 0., 0., 0., 0., 0.,\n       0., 0., 0., 0., 0., 0., 0., 0., 0., 0., 0., 0., 0., 0., 0., 0., 0.,\n       0., 0., 0., 0., 0., 0., 0., 0., 0., 0., 0., 0., 0., 0., 0., 0., 0.,\n       0., 0., 0., 0., 0., 0., 0., 0., 0., 0., 0., 0., 0., 0., 0., 0., 0.,\n       0., 0., 0., 0., 0., 0., 0., 0., 0., 0., 0., 0., 0., 0., 0., 0., 0.,\n       0., 0., 0., 0., 0., 0., 0., 0., 0., 0., 0., 0., 0., 0., 0., 0., 0.,\n       0., 0., 0., 0., 0., 0., 0., 0., 0., 0., 0., 0., 0., 0., 0., 0., 0.,\n       0., 0., 0., 0., 0., 0., 0., 0., 0., 0., 0.], dtype=float32)"
     },
     "metadata": {}
    }
   ]
  },
  {
   "cell_type": "code",
   "metadata": {
    "cell_id": "00051-1de2c631-8f9f-4deb-a93c-9f13255e4943",
    "deepnote_to_be_reexecuted": false,
    "source_hash": "12fb90da",
    "execution_start": 1659186500662,
    "execution_millis": 4,
    "deepnote_cell_type": "code",
    "deepnote_cell_height": 113.1875
   },
   "source": "biases.shape",
   "execution_count": null,
   "outputs": [
    {
     "output_type": "execute_result",
     "execution_count": 35,
     "data": {
      "text/plain": "(300,)"
     },
     "metadata": {}
    }
   ]
  },
  {
   "cell_type": "code",
   "metadata": {
    "cell_id": "00052-076a3d50-5d2c-4031-97d6-ec77d9c47f3d",
    "deepnote_to_be_reexecuted": false,
    "source_hash": "11a72e69",
    "execution_start": 1659186500671,
    "execution_millis": 842,
    "deepnote_cell_type": "code",
    "deepnote_cell_height": 112
   },
   "source": "model.compile(loss=\"sparse_categorical_crossentropy\",\n              optimizer=\"sgd\",\n              metrics=[\"accuracy\"])",
   "execution_count": null,
   "outputs": []
  },
  {
   "cell_type": "markdown",
   "source": "This is equivalent to:",
   "metadata": {
    "cell_id": "00053-3e1de890-af63-4e0f-b400-bc73380e6bf3",
    "deepnote_cell_type": "markdown",
    "deepnote_cell_height": 52.390625
   }
  },
  {
   "cell_type": "markdown",
   "source": "```python\nmodel.compile(loss=keras.losses.sparse_categorical_crossentropy,\n              optimizer=keras.optimizers.SGD(),\n              metrics=[keras.metrics.sparse_categorical_accuracy])\n```",
   "metadata": {
    "cell_id": "00054-9ca3bd49-5587-4804-8f51-d154058853b5",
    "deepnote_cell_type": "markdown",
    "deepnote_cell_height": 117.171875
   }
  },
  {
   "cell_type": "code",
   "metadata": {
    "cell_id": "00055-701ecd99-a6e0-4bef-88b2-2fd4d369ae24",
    "deepnote_to_be_reexecuted": false,
    "source_hash": "5c55cc88",
    "execution_start": 1659186500686,
    "execution_millis": 135027,
    "deepnote_cell_type": "code",
    "deepnote_cell_height": 714
   },
   "source": "history = model.fit(X_train, y_train, epochs=30,\n                    validation_data=(X_valid, y_valid))",
   "execution_count": null,
   "outputs": [
    {
     "name": "stdout",
     "text": "Epoch 1/30\n1719/1719 [==============================] - 5s 3ms/step - loss: 0.7237 - accuracy: 0.7644 - val_loss: 0.5212 - val_accuracy: 0.8228\nEpoch 2/30\n1719/1719 [==============================] - 4s 3ms/step - loss: 0.4843 - accuracy: 0.8317 - val_loss: 0.4357 - val_accuracy: 0.8512\nEpoch 3/30\n1719/1719 [==============================] - 4s 3ms/step - loss: 0.4392 - accuracy: 0.8455 - val_loss: 0.5309 - val_accuracy: 0.7994\nEpoch 4/30\n1719/1719 [==============================] - 4s 3ms/step - loss: 0.4123 - accuracy: 0.8564 - val_loss: 0.3915 - val_accuracy: 0.8660\nEpoch 5/30\n1719/1719 [==============================] - 4s 3ms/step - loss: 0.3937 - accuracy: 0.8618 - val_loss: 0.3753 - val_accuracy: 0.8684\nEpoch 6/30\n1719/1719 [==============================] - 4s 3ms/step - loss: 0.3751 - accuracy: 0.8678 - val_loss: 0.3712 - val_accuracy: 0.8726\nEpoch 7/30\n1719/1719 [==============================] - 4s 3ms/step - loss: 0.3633 - accuracy: 0.8716 - val_loss: 0.3627 - val_accuracy: 0.8728\nEpoch 8/30\n1719/1719 [==============================] - 4s 3ms/step - loss: 0.3518 - accuracy: 0.8748 - val_loss: 0.3863 - val_accuracy: 0.8608\nEpoch 9/30\n1719/1719 [==============================] - 4s 3ms/step - loss: 0.3416 - accuracy: 0.8791 - val_loss: 0.3612 - val_accuracy: 0.8696\nEpoch 10/30\n1719/1719 [==============================] - 5s 3ms/step - loss: 0.3320 - accuracy: 0.8822 - val_loss: 0.3441 - val_accuracy: 0.8764\nEpoch 11/30\n1719/1719 [==============================] - 4s 3ms/step - loss: 0.3242 - accuracy: 0.8836 - val_loss: 0.3430 - val_accuracy: 0.8776\nEpoch 12/30\n1719/1719 [==============================] - 4s 3ms/step - loss: 0.3149 - accuracy: 0.8867 - val_loss: 0.3306 - val_accuracy: 0.8812\nEpoch 13/30\n1719/1719 [==============================] - 4s 3ms/step - loss: 0.3080 - accuracy: 0.8889 - val_loss: 0.3278 - val_accuracy: 0.8866\nEpoch 14/30\n1719/1719 [==============================] - 4s 3ms/step - loss: 0.3021 - accuracy: 0.8919 - val_loss: 0.3401 - val_accuracy: 0.8776\nEpoch 15/30\n1719/1719 [==============================] - 4s 3ms/step - loss: 0.2947 - accuracy: 0.8940 - val_loss: 0.3209 - val_accuracy: 0.8864\nEpoch 16/30\n1719/1719 [==============================] - 4s 3ms/step - loss: 0.2891 - accuracy: 0.8971 - val_loss: 0.3091 - val_accuracy: 0.8906\nEpoch 17/30\n1719/1719 [==============================] - 5s 3ms/step - loss: 0.2839 - accuracy: 0.8975 - val_loss: 0.3536 - val_accuracy: 0.8724\nEpoch 18/30\n1719/1719 [==============================] - 4s 3ms/step - loss: 0.2778 - accuracy: 0.9002 - val_loss: 0.3138 - val_accuracy: 0.8892\nEpoch 19/30\n1719/1719 [==============================] - 5s 3ms/step - loss: 0.2730 - accuracy: 0.9025 - val_loss: 0.3118 - val_accuracy: 0.8900\nEpoch 20/30\n1719/1719 [==============================] - 4s 3ms/step - loss: 0.2674 - accuracy: 0.9034 - val_loss: 0.3265 - val_accuracy: 0.8816\nEpoch 21/30\n1719/1719 [==============================] - 4s 3ms/step - loss: 0.2628 - accuracy: 0.9052 - val_loss: 0.3065 - val_accuracy: 0.8910\nEpoch 22/30\n1719/1719 [==============================] - 4s 3ms/step - loss: 0.2579 - accuracy: 0.9073 - val_loss: 0.2966 - val_accuracy: 0.8972\nEpoch 23/30\n1719/1719 [==============================] - 5s 3ms/step - loss: 0.2540 - accuracy: 0.9083 - val_loss: 0.2983 - val_accuracy: 0.8926\nEpoch 24/30\n1719/1719 [==============================] - 5s 3ms/step - loss: 0.2487 - accuracy: 0.9104 - val_loss: 0.3083 - val_accuracy: 0.8882\nEpoch 25/30\n1719/1719 [==============================] - 5s 3ms/step - loss: 0.2442 - accuracy: 0.9121 - val_loss: 0.2967 - val_accuracy: 0.8952\nEpoch 26/30\n1719/1719 [==============================] - 5s 3ms/step - loss: 0.2405 - accuracy: 0.9134 - val_loss: 0.3067 - val_accuracy: 0.8896\nEpoch 27/30\n1719/1719 [==============================] - 4s 3ms/step - loss: 0.2363 - accuracy: 0.9155 - val_loss: 0.3019 - val_accuracy: 0.8948\nEpoch 28/30\n1719/1719 [==============================] - 4s 3ms/step - loss: 0.2329 - accuracy: 0.9167 - val_loss: 0.2994 - val_accuracy: 0.8934\nEpoch 29/30\n1719/1719 [==============================] - 4s 3ms/step - loss: 0.2288 - accuracy: 0.9182 - val_loss: 0.3057 - val_accuracy: 0.8900\nEpoch 30/30\n1719/1719 [==============================] - 4s 3ms/step - loss: 0.2251 - accuracy: 0.9191 - val_loss: 0.2998 - val_accuracy: 0.8938\n",
     "output_type": "stream"
    }
   ]
  },
  {
   "cell_type": "code",
   "metadata": {
    "cell_id": "00056-f3aad56f-c06d-428d-b354-40bb3de0ac41",
    "deepnote_to_be_reexecuted": false,
    "source_hash": "6ebe03f4",
    "execution_start": 1659186635715,
    "execution_millis": 9,
    "deepnote_cell_type": "code",
    "deepnote_cell_height": 113.1875,
    "deepnote_output_heights": [
     21.1875
    ]
   },
   "source": "history.params",
   "execution_count": null,
   "outputs": [
    {
     "output_type": "execute_result",
     "execution_count": 38,
     "data": {
      "text/plain": "{'verbose': 1, 'epochs': 30, 'steps': 1719}"
     },
     "metadata": {}
    }
   ]
  },
  {
   "cell_type": "code",
   "metadata": {
    "cell_id": "00057-cd7ebb5d-ee1f-408c-9d3c-1131e7516170",
    "deepnote_to_be_reexecuted": false,
    "source_hash": "b46972e2",
    "execution_start": 1659186635727,
    "execution_millis": 7,
    "deepnote_cell_type": "code",
    "deepnote_cell_height": 107.1875
   },
   "source": "print(history.epoch)",
   "execution_count": null,
   "outputs": [
    {
     "name": "stdout",
     "text": "[0, 1, 2, 3, 4, 5, 6, 7, 8, 9, 10, 11, 12, 13, 14, 15, 16, 17, 18, 19, 20, 21, 22, 23, 24, 25, 26, 27, 28, 29]\n",
     "output_type": "stream"
    }
   ]
  },
  {
   "cell_type": "code",
   "metadata": {
    "cell_id": "00058-1b44348b-410b-4126-9f2d-35d146966c56",
    "deepnote_to_be_reexecuted": false,
    "source_hash": "56e797ad",
    "execution_start": 1659186635734,
    "execution_millis": 4,
    "deepnote_cell_type": "code",
    "deepnote_cell_height": 113.1875,
    "deepnote_output_heights": [
     21.1875
    ]
   },
   "source": "history.history.keys()",
   "execution_count": null,
   "outputs": [
    {
     "output_type": "execute_result",
     "execution_count": 40,
     "data": {
      "text/plain": "dict_keys(['loss', 'accuracy', 'val_loss', 'val_accuracy'])"
     },
     "metadata": {}
    }
   ]
  },
  {
   "cell_type": "code",
   "metadata": {
    "cell_id": "00059-4fd2fc13-4119-4038-abf4-b5bbdd24ee8f",
    "deepnote_to_be_reexecuted": false,
    "source_hash": "42f51e9c",
    "execution_start": 1659186635785,
    "execution_millis": 926,
    "deepnote_cell_type": "code",
    "deepnote_cell_height": 600.1875,
    "deepnote_output_heights": [
     null,
     354
    ]
   },
   "source": "import pandas as pd\n\npd.DataFrame(history.history).plot(figsize=(8, 5))\nplt.grid(True)\nplt.gca().set_ylim(0, 1)\nsave_fig(\"keras_learning_curves_plot\")\nplt.show()",
   "execution_count": null,
   "outputs": [
    {
     "name": "stdout",
     "text": "Saving figure keras_learning_curves_plot\n",
     "output_type": "stream"
    },
    {
     "data": {
      "text/plain": "<Figure size 576x360 with 1 Axes>",
      "image/png": "[encoded data removed]"
     },
     "metadata": {
      "needs_background": "light",
      "image/png": {
       "width": 567,
       "height": 352
      }
     },
     "output_type": "display_data"
    }
   ]
  },
  {
   "cell_type": "code",
   "metadata": {
    "cell_id": "00060-25e878f7-85c2-4dc8-a64c-b854023d0449",
    "deepnote_to_be_reexecuted": false,
    "source_hash": "ef7ab4e3",
    "execution_start": 1659186636712,
    "execution_millis": 697,
    "deepnote_cell_type": "code",
    "deepnote_cell_height": 159.375,
    "deepnote_output_heights": [
     null,
     21.1875
    ]
   },
   "source": "model.evaluate(X_test, y_test)",
   "execution_count": null,
   "outputs": [
    {
     "name": "stdout",
     "text": "313/313 [==============================] - 1s 2ms/step - loss: 0.3335 - accuracy: 0.8837\n",
     "output_type": "stream"
    },
    {
     "output_type": "execute_result",
     "execution_count": 42,
     "data": {
      "text/plain": "[0.33345213532447815, 0.8837000131607056]"
     },
     "metadata": {}
    }
   ]
  },
  {
   "cell_type": "code",
   "metadata": {
    "cell_id": "00061-a2255b7b-43bb-429e-a258-be61e5f4d6e3",
    "deepnote_to_be_reexecuted": false,
    "source_hash": "970fa916",
    "execution_start": 1659186637456,
    "execution_millis": 113,
    "deepnote_cell_type": "code",
    "deepnote_cell_height": 252.9375
   },
   "source": "X_new = X_test[:3]\ny_proba = model.predict(X_new)\ny_proba.round(2)",
   "execution_count": null,
   "outputs": [
    {
     "name": "stdout",
     "text": "1/1 [==============================] - 0s 78ms/step\n",
     "output_type": "stream"
    },
    {
     "output_type": "execute_result",
     "execution_count": 43,
     "data": {
      "text/plain": "array([[0.  , 0.  , 0.  , 0.  , 0.  , 0.01, 0.  , 0.03, 0.  , 0.96],\n       [0.  , 0.  , 0.98, 0.  , 0.02, 0.  , 0.  , 0.  , 0.  , 0.  ],\n       [0.  , 1.  , 0.  , 0.  , 0.  , 0.  , 0.  , 0.  , 0.  , 0.  ]],\n      dtype=float32)"
     },
     "metadata": {}
    }
   ]
  },
  {
   "cell_type": "markdown",
   "source": "**Warning**: `model.predict_classes(X_new)` is deprecated. It is replaced with `np.argmax(model.predict(X_new), axis=-1)`.",
   "metadata": {
    "cell_id": "00062-469c5886-5499-4a73-9c05-9988f972d5d7",
    "deepnote_cell_type": "markdown",
    "deepnote_cell_height": 52.390625
   }
  },
  {
   "cell_type": "code",
   "metadata": {
    "cell_id": "00063-88e47ac2-dc12-4d79-baac-e0bef8e05e1d",
    "deepnote_to_be_reexecuted": false,
    "source_hash": "b2930ea6",
    "execution_start": 1659186637563,
    "execution_millis": 34,
    "deepnote_cell_type": "code",
    "deepnote_cell_height": 195.375
   },
   "source": "#y_pred = model.predict_classes(X_new) # deprecated\ny_pred = np.argmax(model.predict(X_new), axis=-1)\ny_pred",
   "execution_count": null,
   "outputs": [
    {
     "name": "stdout",
     "text": "1/1 [==============================] - 0s 14ms/step\n",
     "output_type": "stream"
    },
    {
     "output_type": "execute_result",
     "execution_count": 44,
     "data": {
      "text/plain": "array([9, 2, 1])"
     },
     "metadata": {}
    }
   ]
  },
  {
   "cell_type": "code",
   "metadata": {
    "cell_id": "00064-dc45334d-684c-466b-8960-e331a0eef894",
    "deepnote_to_be_reexecuted": false,
    "source_hash": "6a1358ff",
    "execution_start": 1659186637595,
    "execution_millis": 3,
    "deepnote_cell_type": "code",
    "deepnote_cell_height": 113.1875,
    "deepnote_output_heights": [
     21.1875
    ]
   },
   "source": "np.array(class_names)[y_pred]",
   "execution_count": null,
   "outputs": [
    {
     "output_type": "execute_result",
     "execution_count": 45,
     "data": {
      "text/plain": "array(['Ankle boot', 'Pullover', 'Trouser'], dtype='<U11')"
     },
     "metadata": {}
    }
   ]
  },
  {
   "cell_type": "code",
   "metadata": {
    "cell_id": "00065-9cd17e84-11fa-4ab8-aecc-95786235d2f5",
    "deepnote_to_be_reexecuted": false,
    "source_hash": "640f2365",
    "execution_start": 1659186637596,
    "execution_millis": 0,
    "deepnote_cell_type": "code",
    "deepnote_cell_height": 131.1875,
    "deepnote_output_heights": [
     21.1875
    ]
   },
   "source": "y_new = y_test[:3]\ny_new",
   "execution_count": null,
   "outputs": [
    {
     "output_type": "execute_result",
     "execution_count": 46,
     "data": {
      "text/plain": "array([9, 2, 1], dtype=uint8)"
     },
     "metadata": {}
    }
   ]
  },
  {
   "cell_type": "code",
   "metadata": {
    "cell_id": "00066-dc3c6b03-06e1-4a75-bfc2-ebbdda6a3802",
    "deepnote_to_be_reexecuted": false,
    "source_hash": "2b608b2c",
    "execution_start": 1659186637644,
    "execution_millis": 846,
    "deepnote_cell_type": "code",
    "deepnote_cell_height": 432.1875,
    "deepnote_output_heights": [
     null,
     150
    ]
   },
   "source": "plt.figure(figsize=(7.2, 2.4))\nfor index, image in enumerate(X_new):\n    plt.subplot(1, 3, index + 1)\n    plt.imshow(image, cmap=\"binary\", interpolation=\"nearest\")\n    plt.axis('off')\n    plt.title(class_names[y_test[index]], fontsize=12)\nplt.subplots_adjust(wspace=0.2, hspace=0.5)\nsave_fig('fashion_mnist_images_plot', tight_layout=False)\nplt.show()",
   "execution_count": null,
   "outputs": [
    {
     "name": "stdout",
     "text": "Saving figure fashion_mnist_images_plot\n",
     "output_type": "stream"
    },
    {
     "data": {
      "text/plain": "<Figure size 518.4x172.8 with 3 Axes>",
      "image/png": "[encoded data removed]"
     },
     "metadata": {
      "needs_background": "light",
      "image/png": {
       "width": 416,
       "height": 148
      }
     },
     "output_type": "display_data"
    }
   ]
  },
  {
   "cell_type": "markdown",
   "source": "# Regression MLP",
   "metadata": {
    "cell_id": "00067-0e35ddd3-7832-4c54-bfe7-0a2fae973641",
    "deepnote_cell_type": "markdown",
    "deepnote_cell_height": 82
   }
  },
  {
   "cell_type": "markdown",
   "source": "Let's load, split and scale the California housing dataset (the original one, not the modified one as in chapter 2):",
   "metadata": {
    "cell_id": "00068-ed7636cf-4edd-4d36-813b-5a37743128a8",
    "deepnote_cell_type": "markdown",
    "deepnote_cell_height": 52.390625
   }
  },
  {
   "cell_type": "code",
   "metadata": {
    "cell_id": "00069-dfc18b72-e7c2-4e96-a673-787a426a0085",
    "deepnote_to_be_reexecuted": false,
    "source_hash": "79813033",
    "execution_start": 1659186637927,
    "execution_millis": 0,
    "deepnote_cell_type": "code",
    "deepnote_cell_height": 292
   },
   "source": "from sklearn.datasets import fetch_california_housing\nfrom sklearn.model_selection import train_test_split\nfrom sklearn.preprocessing import StandardScaler\n\nhousing = fetch_california_housing()\n\nX_train_full, X_test, y_train_full, y_test = train_test_split(housing.data, housing.target, random_state=42)\nX_train, X_valid, y_train, y_valid = train_test_split(X_train_full, y_train_full, random_state=42)\n\nscaler = StandardScaler()\nX_train = scaler.fit_transform(X_train)\nX_valid = scaler.transform(X_valid)\nX_test = scaler.transform(X_test)",
   "execution_count": null,
   "outputs": []
  },
  {
   "cell_type": "code",
   "metadata": {
    "cell_id": "00070-93199f77-dc9b-489e-9b65-9f467f72a105",
    "deepnote_to_be_reexecuted": false,
    "source_hash": "8905d08a",
    "execution_start": 1659186637928,
    "execution_millis": 2,
    "deepnote_cell_type": "code",
    "deepnote_cell_height": 94
   },
   "source": "np.random.seed(42)\ntf.random.set_seed(42)",
   "execution_count": null,
   "outputs": []
  },
  {
   "cell_type": "code",
   "metadata": {
    "cell_id": "00071-1668f9e1-c22b-46ca-b921-7ec158974ed9",
    "deepnote_to_be_reexecuted": false,
    "source_hash": "6355ede6",
    "execution_start": 1659186637993,
    "execution_millis": 20973,
    "deepnote_cell_type": "code",
    "deepnote_cell_height": 840
   },
   "source": "model = keras.models.Sequential([\n    keras.layers.Dense(30, activation=\"relu\", input_shape=X_train.shape[1:]),\n    keras.layers.Dense(1)\n])\nmodel.compile(loss=\"mean_squared_error\", optimizer=keras.optimizers.SGD(learning_rate=1e-3))\nhistory = model.fit(X_train, y_train, epochs=20, validation_data=(X_valid, y_valid))\nmse_test = model.evaluate(X_test, y_test)\nX_new = X_test[:3]\ny_pred = model.predict(X_new)",
   "execution_count": null,
   "outputs": [
    {
     "name": "stdout",
     "text": "Epoch 1/20\n363/363 [==============================] - 1s 2ms/step - loss: 1.6419 - val_loss: 0.8560\nEpoch 2/20\n363/363 [==============================] - 1s 1ms/step - loss: 0.7047 - val_loss: 0.6531\nEpoch 3/20\n363/363 [==============================] - 1s 1ms/step - loss: 0.6345 - val_loss: 0.6099\nEpoch 4/20\n363/363 [==============================] - 1s 2ms/step - loss: 0.5977 - val_loss: 0.5658\nEpoch 5/20\n363/363 [==============================] - 1s 2ms/step - loss: 0.5706 - val_loss: 0.5355\nEpoch 6/20\n363/363 [==============================] - 1s 1ms/step - loss: 0.5472 - val_loss: 0.5173\nEpoch 7/20\n363/363 [==============================] - 1s 2ms/step - loss: 0.5288 - val_loss: 0.5081\nEpoch 8/20\n363/363 [==============================] - 1s 2ms/step - loss: 0.5130 - val_loss: 0.4799\nEpoch 9/20\n363/363 [==============================] - 1s 1ms/step - loss: 0.4992 - val_loss: 0.4690\nEpoch 10/20\n363/363 [==============================] - 1s 1ms/step - loss: 0.4875 - val_loss: 0.4656\nEpoch 11/20\n363/363 [==============================] - 1s 2ms/step - loss: 0.4777 - val_loss: 0.4482\nEpoch 12/20\n363/363 [==============================] - 1s 1ms/step - loss: 0.4688 - val_loss: 0.4479\nEpoch 13/20\n363/363 [==============================] - 1s 2ms/step - loss: 0.4615 - val_loss: 0.4296\nEpoch 14/20\n363/363 [==============================] - 1s 2ms/step - loss: 0.4547 - val_loss: 0.4233\nEpoch 15/20\n363/363 [==============================] - 1s 2ms/step - loss: 0.4488 - val_loss: 0.4176\nEpoch 16/20\n363/363 [==============================] - 1s 1ms/step - loss: 0.4435 - val_loss: 0.4123\nEpoch 17/20\n363/363 [==============================] - 1s 2ms/step - loss: 0.4389 - val_loss: 0.4071\nEpoch 18/20\n363/363 [==============================] - 1s 1ms/step - loss: 0.4347 - val_loss: 0.4037\nEpoch 19/20\n363/363 [==============================] - 1s 2ms/step - loss: 0.4306 - val_loss: 0.4000\nEpoch 20/20\n363/363 [==============================] - 1s 2ms/step - loss: 0.4273 - val_loss: 0.3969\n162/162 [==============================] - 0s 1ms/step - loss: 0.4212\n1/1 [==============================] - 0s 37ms/step\n",
     "output_type": "stream"
    }
   ]
  },
  {
   "cell_type": "code",
   "metadata": {
    "cell_id": "00072-e31da946-35c4-4a77-b772-a48d286ac162",
    "deepnote_to_be_reexecuted": false,
    "source_hash": "47027dec",
    "execution_start": 1659186658974,
    "execution_millis": 179,
    "deepnote_cell_type": "code",
    "deepnote_cell_height": 404,
    "deepnote_output_heights": [
     258
    ]
   },
   "source": "plt.plot(pd.DataFrame(history.history))\nplt.grid(True)\nplt.gca().set_ylim(0, 1)\nplt.show()",
   "execution_count": null,
   "outputs": [
    {
     "data": {
      "text/plain": "<Figure size 432x288 with 1 Axes>",
      "image/png": "[encoded data removed]"
     },
     "metadata": {
      "needs_background": "light",
      "image/png": {
       "width": 375,
       "height": 256
      }
     },
     "output_type": "display_data"
    }
   ]
  },
  {
   "cell_type": "code",
   "metadata": {
    "cell_id": "00073-79d03169-e7f8-4926-a5ac-428976761169",
    "deepnote_to_be_reexecuted": false,
    "source_hash": "ba549d12",
    "execution_start": 1659186659152,
    "execution_millis": 12,
    "deepnote_cell_type": "code",
    "deepnote_cell_height": 151.5625,
    "deepnote_output_heights": [
     59.5625
    ]
   },
   "source": "y_pred",
   "execution_count": null,
   "outputs": [
    {
     "output_type": "execute_result",
     "execution_count": 52,
     "data": {
      "text/plain": "array([[0.38856643],\n       [1.6792021 ],\n       [3.1022794 ]], dtype=float32)"
     },
     "metadata": {}
    }
   ]
  },
  {
   "cell_type": "markdown",
   "source": "# Functional API",
   "metadata": {
    "cell_id": "00074-ca65f9bf-a4ea-43b0-b6b2-eb6283e4b36f",
    "deepnote_cell_type": "markdown",
    "deepnote_cell_height": 82
   }
  },
  {
   "cell_type": "markdown",
   "source": "Not all neural network models are simply sequential. Some may have complex topologies. Some may have multiple inputs and/or multiple outputs. For example, a Wide & Deep neural network (see [paper](https://ai.google/research/pubs/pub45413)) connects all or part of the inputs directly to the output layer.",
   "metadata": {
    "cell_id": "00075-8a88fee4-6f59-4385-9bf8-b7d09743af5b",
    "deepnote_cell_type": "markdown",
    "deepnote_cell_height": 74.78125
   }
  },
  {
   "cell_type": "code",
   "metadata": {
    "cell_id": "00076-5b205a20-af75-4d8d-857b-e6a6b1029df3",
    "deepnote_to_be_reexecuted": false,
    "source_hash": "8905d08a",
    "execution_start": 1659186659165,
    "execution_millis": 5,
    "deepnote_cell_type": "code",
    "deepnote_cell_height": 94
   },
   "source": "np.random.seed(42)\ntf.random.set_seed(42)",
   "execution_count": null,
   "outputs": []
  },
  {
   "cell_type": "code",
   "metadata": {
    "cell_id": "00077-f55dfea6-6f80-4262-ade4-067a124c880f",
    "deepnote_to_be_reexecuted": false,
    "source_hash": "78219b5b",
    "execution_start": 1659186659174,
    "execution_millis": 27,
    "deepnote_cell_type": "code",
    "deepnote_cell_height": 166
   },
   "source": "input_ = keras.layers.Input(shape=X_train.shape[1:])\nhidden1 = keras.layers.Dense(30, activation=\"relu\")(input_)\nhidden2 = keras.layers.Dense(30, activation=\"relu\")(hidden1)\nconcat = keras.layers.concatenate([input_, hidden2])\noutput = keras.layers.Dense(1)(concat)\nmodel = keras.models.Model(inputs=[input_], outputs=[output])",
   "execution_count": null,
   "outputs": []
  },
  {
   "cell_type": "code",
   "metadata": {
    "cell_id": "00078-937f09ce-9a9b-4b9e-83bd-3d63cca7e6d6",
    "deepnote_to_be_reexecuted": false,
    "source_hash": "4e6a3b95",
    "execution_start": 1659186659229,
    "execution_millis": 4,
    "deepnote_cell_type": "code",
    "deepnote_cell_height": 490.75
   },
   "source": "model.summary()",
   "execution_count": null,
   "outputs": [
    {
     "name": "stdout",
     "text": "Model: \"model\"\n__________________________________________________________________________________________________\n Layer (type)                   Output Shape         Param #     Connected to                     \n==================================================================================================\n input_1 (InputLayer)           [(None, 8)]          0           []                               \n                                                                                                  \n dense_5 (Dense)                (None, 30)           270         ['input_1[0][0]']                \n                                                                                                  \n dense_6 (Dense)                (None, 30)           930         ['dense_5[0][0]']                \n                                                                                                  \n concatenate (Concatenate)      (None, 38)           0           ['input_1[0][0]',                \n                                                                  'dense_6[0][0]']                \n                                                                                                  \n dense_7 (Dense)                (None, 1)            39          ['concatenate[0][0]']            \n                                                                                                  \n==================================================================================================\nTotal params: 1,239\nTrainable params: 1,239\nNon-trainable params: 0\n__________________________________________________________________________________________________\n",
     "output_type": "stream"
    }
   ]
  },
  {
   "cell_type": "code",
   "metadata": {
    "cell_id": "00079-bef07a32-3140-4e43-98ad-c7c8728b4f6d",
    "deepnote_to_be_reexecuted": false,
    "source_hash": "a3fb3d23",
    "execution_start": 1659186659278,
    "execution_millis": 21922,
    "deepnote_cell_type": "code",
    "deepnote_cell_height": 768
   },
   "source": "model.compile(loss=\"mean_squared_error\", optimizer=keras.optimizers.SGD(learning_rate=1e-3))\nhistory = model.fit(X_train, y_train, epochs=20,\n                    validation_data=(X_valid, y_valid))\nmse_test = model.evaluate(X_test, y_test)\ny_pred = model.predict(X_new)",
   "execution_count": null,
   "outputs": [
    {
     "name": "stdout",
     "text": "Epoch 1/20\n363/363 [==============================] - 1s 2ms/step - loss: 1.2611 - val_loss: 3.3940\nEpoch 2/20\n363/363 [==============================] - 1s 2ms/step - loss: 0.6580 - val_loss: 0.9360\nEpoch 3/20\n363/363 [==============================] - 1s 2ms/step - loss: 0.5878 - val_loss: 0.5649\nEpoch 4/20\n363/363 [==============================] - 1s 2ms/step - loss: 0.5582 - val_loss: 0.5712\nEpoch 5/20\n363/363 [==============================] - 1s 2ms/step - loss: 0.5347 - val_loss: 0.5045\nEpoch 6/20\n363/363 [==============================] - 1s 2ms/step - loss: 0.5158 - val_loss: 0.4831\nEpoch 7/20\n363/363 [==============================] - 1s 2ms/step - loss: 0.5002 - val_loss: 0.4639\nEpoch 8/20\n363/363 [==============================] - 1s 2ms/step - loss: 0.4876 - val_loss: 0.4638\nEpoch 9/20\n363/363 [==============================] - 1s 2ms/step - loss: 0.4760 - val_loss: 0.4421\nEpoch 10/20\n363/363 [==============================] - 1s 2ms/step - loss: 0.4659 - val_loss: 0.4313\nEpoch 11/20\n363/363 [==============================] - 1s 2ms/step - loss: 0.4577 - val_loss: 0.4345\nEpoch 12/20\n363/363 [==============================] - 1s 2ms/step - loss: 0.4498 - val_loss: 0.4168\nEpoch 13/20\n363/363 [==============================] - 1s 2ms/step - loss: 0.4428 - val_loss: 0.4230\nEpoch 14/20\n363/363 [==============================] - 1s 2ms/step - loss: 0.4366 - val_loss: 0.4047\nEpoch 15/20\n363/363 [==============================] - 1s 2ms/step - loss: 0.4307 - val_loss: 0.4078\nEpoch 16/20\n363/363 [==============================] - 1s 2ms/step - loss: 0.4257 - val_loss: 0.3938\nEpoch 17/20\n363/363 [==============================] - 1s 2ms/step - loss: 0.4210 - val_loss: 0.3952\nEpoch 18/20\n363/363 [==============================] - 1s 2ms/step - loss: 0.4167 - val_loss: 0.3860\nEpoch 19/20\n363/363 [==============================] - 1s 2ms/step - loss: 0.4121 - val_loss: 0.3827\nEpoch 20/20\n363/363 [==============================] - 1s 2ms/step - loss: 0.4088 - val_loss: 0.4054\n162/162 [==============================] - 0s 1ms/step - loss: 0.4032\n1/1 [==============================] - 0s 43ms/step\n",
     "output_type": "stream"
    }
   ]
  },
  {
   "cell_type": "markdown",
   "source": "What if you want to send different subsets of input features through the wide or deep paths? We will send 5 features (features 0 to 4), and 6 through the deep path (features 2 to 7). Note that 3 features will go through both (features 2, 3 and 4).",
   "metadata": {
    "cell_id": "00080-55a6ce40-8314-4d09-b4d8-c0d1688e25f4",
    "deepnote_cell_type": "markdown",
    "deepnote_cell_height": 74.78125
   }
  },
  {
   "cell_type": "code",
   "metadata": {
    "cell_id": "00081-86f240b4-be86-4017-932c-36e213cf61d2",
    "deepnote_to_be_reexecuted": false,
    "source_hash": "8905d08a",
    "execution_start": 1659186680461,
    "execution_millis": 4,
    "deepnote_cell_type": "code",
    "deepnote_cell_height": 94
   },
   "source": "np.random.seed(42)\ntf.random.set_seed(42)",
   "execution_count": null,
   "outputs": []
  },
  {
   "cell_type": "code",
   "metadata": {
    "cell_id": "00082-1a20d521-b65f-4a8e-a149-3bfeca42e741",
    "deepnote_to_be_reexecuted": false,
    "source_hash": "c326d3f2",
    "execution_start": 1659186680469,
    "execution_millis": 43,
    "deepnote_cell_type": "code",
    "deepnote_cell_height": 184
   },
   "source": "input_A = keras.layers.Input(shape=[5], name=\"wide_input\")\ninput_B = keras.layers.Input(shape=[6], name=\"deep_input\")\nhidden1 = keras.layers.Dense(30, activation=\"relu\")(input_B)\nhidden2 = keras.layers.Dense(30, activation=\"relu\")(hidden1)\nconcat = keras.layers.concatenate([input_A, hidden2])\noutput = keras.layers.Dense(1, name=\"output\")(concat)\nmodel = keras.models.Model(inputs=[input_A, input_B], outputs=[output])",
   "execution_count": null,
   "outputs": []
  },
  {
   "cell_type": "code",
   "metadata": {
    "cell_id": "00083-dbb7e023-5137-403c-9285-3d9a9793ca7c",
    "deepnote_to_be_reexecuted": false,
    "source_hash": "b9623ae4",
    "execution_start": 1659186680522,
    "execution_millis": 21285,
    "deepnote_cell_type": "code",
    "deepnote_cell_height": 876
   },
   "source": "model.compile(loss=\"mse\", optimizer=keras.optimizers.SGD(learning_rate=1e-3))\n\nX_train_A, X_train_B = X_train[:, :5], X_train[:, 2:]\nX_valid_A, X_valid_B = X_valid[:, :5], X_valid[:, 2:]\nX_test_A, X_test_B = X_test[:, :5], X_test[:, 2:]\nX_new_A, X_new_B = X_test_A[:3], X_test_B[:3]\n\nhistory = model.fit((X_train_A, X_train_B), y_train, epochs=20,\n                    validation_data=((X_valid_A, X_valid_B), y_valid))\nmse_test = model.evaluate((X_test_A, X_test_B), y_test)\ny_pred = model.predict((X_new_A, X_new_B))",
   "execution_count": null,
   "outputs": [
    {
     "name": "stdout",
     "text": "Epoch 1/20\n363/363 [==============================] - 1s 2ms/step - loss: 1.8145 - val_loss: 0.8072\nEpoch 2/20\n363/363 [==============================] - 1s 2ms/step - loss: 0.6771 - val_loss: 0.6658\nEpoch 3/20\n363/363 [==============================] - 1s 2ms/step - loss: 0.5979 - val_loss: 0.5687\nEpoch 4/20\n363/363 [==============================] - 1s 2ms/step - loss: 0.5584 - val_loss: 0.5296\nEpoch 5/20\n363/363 [==============================] - 1s 2ms/step - loss: 0.5334 - val_loss: 0.4993\nEpoch 6/20\n363/363 [==============================] - 1s 2ms/step - loss: 0.5120 - val_loss: 0.4811\nEpoch 7/20\n363/363 [==============================] - 1s 2ms/step - loss: 0.4970 - val_loss: 0.4696\nEpoch 8/20\n363/363 [==============================] - 1s 2ms/step - loss: 0.4843 - val_loss: 0.4496\nEpoch 9/20\n363/363 [==============================] - 1s 2ms/step - loss: 0.4730 - val_loss: 0.4404\nEpoch 10/20\n363/363 [==============================] - 1s 2ms/step - loss: 0.4644 - val_loss: 0.4315\nEpoch 11/20\n363/363 [==============================] - 1s 2ms/step - loss: 0.4570 - val_loss: 0.4268\nEpoch 12/20\n363/363 [==============================] - 1s 2ms/step - loss: 0.4510 - val_loss: 0.4166\nEpoch 13/20\n363/363 [==============================] - 1s 2ms/step - loss: 0.4462 - val_loss: 0.4125\nEpoch 14/20\n363/363 [==============================] - 1s 2ms/step - loss: 0.4421 - val_loss: 0.4074\nEpoch 15/20\n363/363 [==============================] - 1s 2ms/step - loss: 0.4385 - val_loss: 0.4044\nEpoch 16/20\n363/363 [==============================] - 1s 2ms/step - loss: 0.4356 - val_loss: 0.4007\nEpoch 17/20\n363/363 [==============================] - 1s 2ms/step - loss: 0.4322 - val_loss: 0.4013\nEpoch 18/20\n363/363 [==============================] - 1s 2ms/step - loss: 0.4305 - val_loss: 0.3987\nEpoch 19/20\n363/363 [==============================] - 1s 2ms/step - loss: 0.4274 - val_loss: 0.3934\nEpoch 20/20\n363/363 [==============================] - 1s 2ms/step - loss: 0.4261 - val_loss: 0.4204\n162/162 [==============================] - 0s 1ms/step - loss: 0.4219\n1/1 [==============================] - 0s 146ms/step\n",
     "output_type": "stream"
    }
   ]
  },
  {
   "cell_type": "markdown",
   "source": "Adding an auxiliary output for regularization:",
   "metadata": {
    "cell_id": "00084-d680552b-e8c8-46fe-82b6-f06f4dd0f7f1",
    "deepnote_cell_type": "markdown",
    "deepnote_cell_height": 52.390625
   }
  },
  {
   "cell_type": "code",
   "metadata": {
    "cell_id": "00085-783f7df8-4a97-48d4-b96c-315d9182bc56",
    "deepnote_to_be_reexecuted": false,
    "source_hash": "8905d08a",
    "execution_start": 1659186701813,
    "execution_millis": 4,
    "deepnote_cell_type": "code",
    "deepnote_cell_height": 94
   },
   "source": "np.random.seed(42)\ntf.random.set_seed(42)",
   "execution_count": null,
   "outputs": []
  },
  {
   "cell_type": "code",
   "metadata": {
    "cell_id": "00086-ceff8c74-6ff3-4ce9-ad87-ec2c697216c6",
    "deepnote_to_be_reexecuted": false,
    "source_hash": "1ba57094",
    "execution_start": 1659186701827,
    "execution_millis": 36,
    "deepnote_cell_type": "code",
    "deepnote_cell_height": 220
   },
   "source": "input_A = keras.layers.Input(shape=[5], name=\"wide_input\")\ninput_B = keras.layers.Input(shape=[6], name=\"deep_input\")\nhidden1 = keras.layers.Dense(30, activation=\"relu\")(input_B)\nhidden2 = keras.layers.Dense(30, activation=\"relu\")(hidden1)\nconcat = keras.layers.concatenate([input_A, hidden2])\noutput = keras.layers.Dense(1, name=\"main_output\")(concat)\naux_output = keras.layers.Dense(1, name=\"aux_output\")(hidden2)\nmodel = keras.models.Model(inputs=[input_A, input_B],\n                           outputs=[output, aux_output])",
   "execution_count": null,
   "outputs": []
  },
  {
   "cell_type": "code",
   "metadata": {
    "cell_id": "00087-4cd92b94-354c-4acf-b67a-ee630fe4ce96",
    "deepnote_to_be_reexecuted": false,
    "source_hash": "4fe7a41d",
    "execution_start": 1659186701870,
    "execution_millis": 3,
    "deepnote_cell_type": "code",
    "deepnote_cell_height": 81
   },
   "source": "model.compile(loss=[\"mse\", \"mse\"], loss_weights=[0.9, 0.1], optimizer=keras.optimizers.SGD(learning_rate=1e-3))",
   "execution_count": null,
   "outputs": []
  },
  {
   "cell_type": "code",
   "metadata": {
    "cell_id": "00088-9abb44e5-474e-46c7-abd3-6725fcdea40d",
    "deepnote_to_be_reexecuted": false,
    "source_hash": "daec0a71",
    "execution_start": 1659186701882,
    "execution_millis": 14293,
    "deepnote_cell_type": "code",
    "deepnote_cell_height": 714
   },
   "source": "history = model.fit([X_train_A, X_train_B], [y_train, y_train], epochs=20,\n                    validation_data=([X_valid_A, X_valid_B], [y_valid, y_valid]))",
   "execution_count": null,
   "outputs": [
    {
     "name": "stdout",
     "text": "Epoch 1/20\n363/363 [==============================] - 1s 2ms/step - loss: 2.1365 - main_output_loss: 1.9196 - aux_output_loss: 4.0890 - val_loss: 1.6233 - val_main_output_loss: 0.8468 - val_aux_output_loss: 8.6117\nEpoch 2/20\n363/363 [==============================] - 1s 2ms/step - loss: 0.8905 - main_output_loss: 0.6969 - aux_output_loss: 2.6326 - val_loss: 1.5163 - val_main_output_loss: 0.6836 - val_aux_output_loss: 9.0109\nEpoch 3/20\n363/363 [==============================] - 1s 2ms/step - loss: 0.7429 - main_output_loss: 0.6088 - aux_output_loss: 1.9499 - val_loss: 1.4639 - val_main_output_loss: 0.6229 - val_aux_output_loss: 9.0326\nEpoch 4/20\n363/363 [==============================] - 1s 2ms/step - loss: 0.6771 - main_output_loss: 0.5691 - aux_output_loss: 1.6485 - val_loss: 1.3388 - val_main_output_loss: 0.5481 - val_aux_output_loss: 8.4552\nEpoch 5/20\n363/363 [==============================] - 1s 2ms/step - loss: 0.6381 - main_output_loss: 0.5434 - aux_output_loss: 1.4911 - val_loss: 1.2177 - val_main_output_loss: 0.5194 - val_aux_output_loss: 7.5030\nEpoch 6/20\n363/363 [==============================] - 1s 2ms/step - loss: 0.6079 - main_output_loss: 0.5207 - aux_output_loss: 1.3923 - val_loss: 1.0935 - val_main_output_loss: 0.5106 - val_aux_output_loss: 6.3396\nEpoch 7/20\n363/363 [==============================] - 1s 2ms/step - loss: 0.5853 - main_output_loss: 0.5040 - aux_output_loss: 1.3175 - val_loss: 0.9918 - val_main_output_loss: 0.5115 - val_aux_output_loss: 5.3151\nEpoch 8/20\n363/363 [==============================] - 1s 2ms/step - loss: 0.5666 - main_output_loss: 0.4898 - aux_output_loss: 1.2572 - val_loss: 0.8733 - val_main_output_loss: 0.4733 - val_aux_output_loss: 4.4740\nEpoch 9/20\n363/363 [==============================] - 1s 2ms/step - loss: 0.5504 - main_output_loss: 0.4771 - aux_output_loss: 1.2101 - val_loss: 0.7832 - val_main_output_loss: 0.4555 - val_aux_output_loss: 3.7323\nEpoch 10/20\n363/363 [==============================] - 1s 2ms/step - loss: 0.5373 - main_output_loss: 0.4671 - aux_output_loss: 1.1695 - val_loss: 0.7170 - val_main_output_loss: 0.4604 - val_aux_output_loss: 3.0262\nEpoch 11/20\n363/363 [==============================] - 1s 2ms/step - loss: 0.5266 - main_output_loss: 0.4591 - aux_output_loss: 1.1344 - val_loss: 0.6510 - val_main_output_loss: 0.4293 - val_aux_output_loss: 2.6468\nEpoch 12/20\n363/363 [==============================] - 1s 2ms/step - loss: 0.5173 - main_output_loss: 0.4520 - aux_output_loss: 1.1048 - val_loss: 0.6051 - val_main_output_loss: 0.4310 - val_aux_output_loss: 2.1722\nEpoch 13/20\n363/363 [==============================] - 1s 2ms/step - loss: 0.5095 - main_output_loss: 0.4465 - aux_output_loss: 1.0765 - val_loss: 0.5644 - val_main_output_loss: 0.4161 - val_aux_output_loss: 1.8992\nEpoch 14/20\n363/363 [==============================] - 1s 2ms/step - loss: 0.5027 - main_output_loss: 0.4417 - aux_output_loss: 1.0511 - val_loss: 0.5354 - val_main_output_loss: 0.4119 - val_aux_output_loss: 1.6466\nEpoch 15/20\n363/363 [==============================] - 1s 2ms/step - loss: 0.4967 - main_output_loss: 0.4376 - aux_output_loss: 1.0280 - val_loss: 0.5124 - val_main_output_loss: 0.4047 - val_aux_output_loss: 1.4812\nEpoch 16/20\n363/363 [==============================] - 1s 2ms/step - loss: 0.4916 - main_output_loss: 0.4343 - aux_output_loss: 1.0070 - val_loss: 0.4934 - val_main_output_loss: 0.4034 - val_aux_output_loss: 1.3035\nEpoch 17/20\n363/363 [==============================] - 1s 2ms/step - loss: 0.4867 - main_output_loss: 0.4311 - aux_output_loss: 0.9872 - val_loss: 0.4801 - val_main_output_loss: 0.3984 - val_aux_output_loss: 1.2150\nEpoch 18/20\n363/363 [==============================] - 1s 2ms/step - loss: 0.4829 - main_output_loss: 0.4289 - aux_output_loss: 0.9686 - val_loss: 0.4694 - val_main_output_loss: 0.3962 - val_aux_output_loss: 1.1279\nEpoch 19/20\n363/363 [==============================] - 1s 2ms/step - loss: 0.4785 - main_output_loss: 0.4260 - aux_output_loss: 0.9510 - val_loss: 0.4580 - val_main_output_loss: 0.3936 - val_aux_output_loss: 1.0372\nEpoch 20/20\n363/363 [==============================] - 1s 2ms/step - loss: 0.4756 - main_output_loss: 0.4246 - aux_output_loss: 0.9344 - val_loss: 0.4655 - val_main_output_loss: 0.4048 - val_aux_output_loss: 1.0118\n",
     "output_type": "stream"
    }
   ]
  },
  {
   "cell_type": "code",
   "metadata": {
    "cell_id": "00089-40e94cf1-7132-4880-a184-d04f1d56e24c",
    "deepnote_to_be_reexecuted": false,
    "source_hash": "a53a99ac",
    "execution_start": 1659186716186,
    "execution_millis": 346,
    "deepnote_cell_type": "code",
    "deepnote_cell_height": 187.5625
   },
   "source": "total_loss, main_loss, aux_loss = model.evaluate(\n    [X_test_A, X_test_B], [y_test, y_test])\ny_pred_main, y_pred_aux = model.predict([X_new_A, X_new_B])",
   "execution_count": null,
   "outputs": [
    {
     "name": "stdout",
     "text": "162/162 [==============================] - 0s 1ms/step - loss: 0.4668 - main_output_loss: 0.4178 - aux_output_loss: 0.9082\nWARNING:tensorflow:5 out of the last 6 calls to <function Model.make_predict_function.<locals>.predict_function at 0x7f3b26d414c0> triggered tf.function retracing. Tracing is expensive and the excessive number of tracings could be due to (1) creating @tf.function repeatedly in a loop, (2) passing tensors with different shapes, (3) passing Python objects instead of tensors. For (1), please define your @tf.function outside of the loop. For (2), @tf.function has reduce_retracing=True option that can avoid unnecessary retracing. For (3), please refer to https://www.tensorflow.org/guide/function#controlling_retracing and https://www.tensorflow.org/api_docs/python/tf/function for  more details.\n1/1 [==============================] - 0s 57ms/step\n",
     "output_type": "stream"
    }
   ]
  },
  {
   "cell_type": "markdown",
   "source": "# The subclassing API",
   "metadata": {
    "cell_id": "00090-edc3c866-ec1b-4f20-a0ef-02282ec87986",
    "deepnote_cell_type": "markdown",
    "deepnote_cell_height": 82
   }
  },
  {
   "cell_type": "code",
   "metadata": {
    "cell_id": "00091-53fa76cf-32fd-477d-8e1b-874cf6bacb28",
    "deepnote_to_be_reexecuted": false,
    "source_hash": "939539cd",
    "execution_start": 1659186716546,
    "execution_millis": 42,
    "deepnote_cell_type": "code",
    "deepnote_cell_height": 382
   },
   "source": "class WideAndDeepModel(keras.models.Model):\n    def __init__(self, units=30, activation=\"relu\", **kwargs):\n        super().__init__(**kwargs)\n        self.hidden1 = keras.layers.Dense(units, activation=activation)\n        self.hidden2 = keras.layers.Dense(units, activation=activation)\n        self.main_output = keras.layers.Dense(1)\n        self.aux_output = keras.layers.Dense(1)\n        \n    def call(self, inputs):\n        input_A, input_B = inputs\n        hidden1 = self.hidden1(input_B)\n        hidden2 = self.hidden2(hidden1)\n        concat = keras.layers.concatenate([input_A, hidden2])\n        main_output = self.main_output(concat)\n        aux_output = self.aux_output(hidden2)\n        return main_output, aux_output\n\nmodel = WideAndDeepModel(30, activation=\"relu\")",
   "execution_count": null,
   "outputs": []
  },
  {
   "cell_type": "code",
   "metadata": {
    "cell_id": "00092-fc61ae78-9f1b-4a42-8c63-7e32ff9509ff",
    "deepnote_to_be_reexecuted": false,
    "source_hash": "fd607918",
    "execution_start": 1659186716588,
    "execution_millis": 11167,
    "deepnote_cell_type": "code",
    "deepnote_cell_height": 627.3125
   },
   "source": "model.compile(loss=\"mse\", loss_weights=[0.9, 0.1], optimizer=keras.optimizers.SGD(learning_rate=1e-3))\nhistory = model.fit((X_train_A, X_train_B), (y_train, y_train), epochs=10,\n                    validation_data=((X_valid_A, X_valid_B), (y_valid, y_valid)))\ntotal_loss, main_loss, aux_loss = model.evaluate((X_test_A, X_test_B), (y_test, y_test))\ny_pred_main, y_pred_aux = model.predict((X_new_A, X_new_B))",
   "execution_count": null,
   "outputs": [
    {
     "name": "stdout",
     "text": "Epoch 1/10\n363/363 [==============================] - 1s 2ms/step - loss: 2.3298 - output_1_loss: 2.2186 - output_2_loss: 3.3304 - val_loss: 2.1435 - val_output_1_loss: 1.1581 - val_output_2_loss: 11.0117\nEpoch 2/10\n363/363 [==============================] - 1s 2ms/step - loss: 0.9714 - output_1_loss: 0.8543 - output_2_loss: 2.0252 - val_loss: 1.7567 - val_output_1_loss: 0.8205 - val_output_2_loss: 10.1825\nEpoch 3/10\n363/363 [==============================] - 1s 2ms/step - loss: 0.8268 - output_1_loss: 0.7289 - output_2_loss: 1.7082 - val_loss: 1.5664 - val_output_1_loss: 0.7913 - val_output_2_loss: 8.5419\nEpoch 4/10\n363/363 [==============================] - 1s 2ms/step - loss: 0.7636 - output_1_loss: 0.6764 - output_2_loss: 1.5477 - val_loss: 1.3088 - val_output_1_loss: 0.6549 - val_output_2_loss: 7.1933\nEpoch 5/10\n363/363 [==============================] - 1s 2ms/step - loss: 0.7211 - output_1_loss: 0.6402 - output_2_loss: 1.4489 - val_loss: 1.1357 - val_output_1_loss: 0.5964 - val_output_2_loss: 5.9898\nEpoch 6/10\n363/363 [==============================] - 1s 2ms/step - loss: 0.6895 - output_1_loss: 0.6124 - output_2_loss: 1.3833 - val_loss: 1.0036 - val_output_1_loss: 0.5937 - val_output_2_loss: 4.6933\nEpoch 7/10\n363/363 [==============================] - 1s 2ms/step - loss: 0.6632 - output_1_loss: 0.5894 - output_2_loss: 1.3274 - val_loss: 0.8904 - val_output_1_loss: 0.5591 - val_output_2_loss: 3.8714\nEpoch 8/10\n363/363 [==============================] - 1s 2ms/step - loss: 0.6410 - output_1_loss: 0.5701 - output_2_loss: 1.2796 - val_loss: 0.8009 - val_output_1_loss: 0.5243 - val_output_2_loss: 3.2903\nEpoch 9/10\n363/363 [==============================] - 1s 2ms/step - loss: 0.6204 - output_1_loss: 0.5514 - output_2_loss: 1.2416 - val_loss: 0.7357 - val_output_1_loss: 0.5144 - val_output_2_loss: 2.7275\nEpoch 10/10\n363/363 [==============================] - 1s 2ms/step - loss: 0.6024 - output_1_loss: 0.5355 - output_2_loss: 1.2043 - val_loss: 0.6849 - val_output_1_loss: 0.5014 - val_output_2_loss: 2.3370\n162/162 [==============================] - 0s 1ms/step - loss: 0.5841 - output_1_loss: 0.5188 - output_2_loss: 1.1722\nWARNING:tensorflow:6 out of the last 7 calls to <function Model.make_predict_function.<locals>.predict_function at 0x7f3b26bb3160> triggered tf.function retracing. Tracing is expensive and the excessive number of tracings could be due to (1) creating @tf.function repeatedly in a loop, (2) passing tensors with different shapes, (3) passing Python objects instead of tensors. For (1), please define your @tf.function outside of the loop. For (2), @tf.function has reduce_retracing=True option that can avoid unnecessary retracing. For (3), please refer to https://www.tensorflow.org/guide/function#controlling_retracing and https://www.tensorflow.org/api_docs/python/tf/function for  more details.\n1/1 [==============================] - 0s 50ms/step\n",
     "output_type": "stream"
    }
   ]
  },
  {
   "cell_type": "markdown",
   "source": "# Saving and Restoring",
   "metadata": {
    "cell_id": "00093-51b76e31-46c8-4150-a5ad-7f6f915fe978",
    "deepnote_cell_type": "markdown",
    "deepnote_cell_height": 82
   }
  },
  {
   "cell_type": "code",
   "metadata": {
    "cell_id": "00094-7a0d1da8-ebaa-40a5-aede-a6896d952f3c",
    "deepnote_to_be_reexecuted": false,
    "source_hash": "8905d08a",
    "execution_start": 1659186727766,
    "execution_millis": 0,
    "deepnote_cell_type": "code",
    "deepnote_cell_height": 94
   },
   "source": "np.random.seed(42)\ntf.random.set_seed(42)",
   "execution_count": null,
   "outputs": []
  },
  {
   "cell_type": "code",
   "metadata": {
    "cell_id": "00095-ac8ca286-0d9f-4634-8e18-459b0c23fde9",
    "deepnote_to_be_reexecuted": false,
    "source_hash": "61946d12",
    "execution_start": 1659186727771,
    "execution_millis": 29,
    "deepnote_cell_type": "code",
    "deepnote_cell_height": 148
   },
   "source": "model = keras.models.Sequential([\n    keras.layers.Dense(30, activation=\"relu\", input_shape=[8]),\n    keras.layers.Dense(30, activation=\"relu\"),\n    keras.layers.Dense(1)\n])    ",
   "execution_count": null,
   "outputs": []
  },
  {
   "cell_type": "code",
   "metadata": {
    "cell_id": "00096-c0aa2cd6-5ecd-44ef-a410-ddc38be79ade",
    "deepnote_to_be_reexecuted": false,
    "source_hash": "c083ee39",
    "execution_start": 1659186727810,
    "execution_millis": 10833,
    "deepnote_cell_type": "code",
    "deepnote_cell_height": 546.9375
   },
   "source": "model.compile(loss=\"mse\", optimizer=keras.optimizers.SGD(learning_rate=1e-3))\nhistory = model.fit(X_train, y_train, epochs=10, validation_data=(X_valid, y_valid))\nmse_test = model.evaluate(X_test, y_test)",
   "execution_count": null,
   "outputs": [
    {
     "name": "stdout",
     "text": "Epoch 1/10\n363/363 [==============================] - 1s 2ms/step - loss: 1.8866 - val_loss: 0.7126\nEpoch 2/10\n363/363 [==============================] - 1s 2ms/step - loss: 0.6577 - val_loss: 0.6880\nEpoch 3/10\n363/363 [==============================] - 1s 1ms/step - loss: 0.5934 - val_loss: 0.5803\nEpoch 4/10\n363/363 [==============================] - 1s 2ms/step - loss: 0.5557 - val_loss: 0.5166\nEpoch 5/10\n363/363 [==============================] - 1s 2ms/step - loss: 0.5272 - val_loss: 0.4895\nEpoch 6/10\n363/363 [==============================] - 1s 2ms/step - loss: 0.5033 - val_loss: 0.4951\nEpoch 7/10\n363/363 [==============================] - 1s 2ms/step - loss: 0.4854 - val_loss: 0.4861\nEpoch 8/10\n363/363 [==============================] - 1s 2ms/step - loss: 0.4709 - val_loss: 0.4554\nEpoch 9/10\n363/363 [==============================] - 1s 2ms/step - loss: 0.4578 - val_loss: 0.4413\nEpoch 10/10\n363/363 [==============================] - 1s 2ms/step - loss: 0.4474 - val_loss: 0.4379\n162/162 [==============================] - 0s 1ms/step - loss: 0.4382\n",
     "output_type": "stream"
    }
   ]
  },
  {
   "cell_type": "code",
   "metadata": {
    "cell_id": "00097-b09d8852-9c4b-4e35-bc48-8d58ce26b8e8",
    "deepnote_to_be_reexecuted": false,
    "source_hash": "cba57df",
    "execution_start": 1659186738556,
    "execution_millis": 100,
    "deepnote_cell_type": "code",
    "deepnote_cell_height": 76
   },
   "source": "model.save(\"my_keras_model.h5\")",
   "execution_count": null,
   "outputs": []
  },
  {
   "cell_type": "code",
   "metadata": {
    "cell_id": "00098-ffc0cf25-c3c2-4ccc-93c3-28197f1ba510",
    "deepnote_to_be_reexecuted": false,
    "source_hash": "b7ed004d",
    "execution_start": 1659186738656,
    "execution_millis": 1,
    "deepnote_cell_type": "code",
    "deepnote_cell_height": 76
   },
   "source": "model = keras.models.load_model(\"my_keras_model.h5\")",
   "execution_count": null,
   "outputs": []
  },
  {
   "cell_type": "code",
   "metadata": {
    "cell_id": "00099-31005450-daf6-4900-a237-052843a93e73",
    "deepnote_to_be_reexecuted": false,
    "source_hash": "aa544900",
    "execution_start": 1659186738657,
    "execution_millis": 75,
    "deepnote_cell_type": "code",
    "deepnote_cell_height": 197.75,
    "deepnote_output_heights": [
     null,
     59.5625
    ]
   },
   "source": "model.predict(X_new)",
   "execution_count": null,
   "outputs": [
    {
     "name": "stdout",
     "text": "1/1 [==============================] - 0s 43ms/step\n",
     "output_type": "stream"
    },
    {
     "output_type": "execute_result",
     "execution_count": 72,
     "data": {
      "text/plain": "array([[0.54002357],\n       [1.650597  ],\n       [3.0098243 ]], dtype=float32)"
     },
     "metadata": {}
    }
   ]
  },
  {
   "cell_type": "code",
   "metadata": {
    "cell_id": "00100-42cf3025-0f81-4cac-85df-3828fb291b94",
    "deepnote_to_be_reexecuted": false,
    "source_hash": "3f7f5e19",
    "execution_start": 1659186738730,
    "execution_millis": 1,
    "deepnote_cell_type": "code",
    "deepnote_cell_height": 76
   },
   "source": "model.save_weights(\"my_keras_weights.ckpt\")",
   "execution_count": null,
   "outputs": []
  },
  {
   "cell_type": "code",
   "metadata": {
    "cell_id": "00101-eebabd8c-91f7-40ee-9195-d1f6a722116b",
    "deepnote_to_be_reexecuted": false,
    "source_hash": "ba2f3eca",
    "execution_start": 1659186738731,
    "execution_millis": 2,
    "deepnote_cell_type": "code",
    "deepnote_cell_height": 113.1875,
    "deepnote_output_heights": [
     21.1875
    ]
   },
   "source": "model.load_weights(\"my_keras_weights.ckpt\")",
   "execution_count": null,
   "outputs": [
    {
     "output_type": "execute_result",
     "execution_count": 74,
     "data": {
      "text/plain": "<tensorflow.python.training.tracking.util.CheckpointLoadStatus at 0x7f3b26c9b610>"
     },
     "metadata": {}
    }
   ]
  },
  {
   "cell_type": "markdown",
   "source": "# Using Callbacks during Training",
   "metadata": {
    "cell_id": "00102-77e74b05-ef4b-4572-8bfd-84facf10c442",
    "deepnote_cell_type": "markdown",
    "deepnote_cell_height": 82
   }
  },
  {
   "cell_type": "code",
   "metadata": {
    "cell_id": "00103-fcd30b50-b607-48e1-9056-f3db4e57faa7",
    "deepnote_to_be_reexecuted": false,
    "source_hash": "b86c7ea",
    "execution_start": 1659186738777,
    "execution_millis": 0,
    "deepnote_cell_type": "code",
    "deepnote_cell_height": 112
   },
   "source": "keras.backend.clear_session()\nnp.random.seed(42)\ntf.random.set_seed(42)",
   "execution_count": null,
   "outputs": []
  },
  {
   "cell_type": "code",
   "metadata": {
    "cell_id": "00104-8ad0fdb7-03f5-4490-abce-5320e6dc3569",
    "deepnote_to_be_reexecuted": false,
    "source_hash": "61946d12",
    "execution_start": 1659186738777,
    "execution_millis": 1,
    "deepnote_cell_type": "code",
    "deepnote_cell_height": 148
   },
   "source": "model = keras.models.Sequential([\n    keras.layers.Dense(30, activation=\"relu\", input_shape=[8]),\n    keras.layers.Dense(30, activation=\"relu\"),\n    keras.layers.Dense(1)\n])    ",
   "execution_count": null,
   "outputs": []
  },
  {
   "cell_type": "code",
   "metadata": {
    "cell_id": "00105-163e47b3-fda5-4b97-bbf5-84dcb80871ab",
    "deepnote_to_be_reexecuted": false,
    "source_hash": "b0c0ebcc",
    "execution_start": 1659186738782,
    "execution_millis": 10958,
    "deepnote_cell_type": "code",
    "deepnote_cell_height": 618.9375
   },
   "source": "model.compile(loss=\"mse\", optimizer=keras.optimizers.SGD(learning_rate=1e-3))\ncheckpoint_cb = keras.callbacks.ModelCheckpoint(\"my_keras_model.h5\", save_best_only=True)\nhistory = model.fit(X_train, y_train, epochs=10,\n                    validation_data=(X_valid, y_valid),\n                    callbacks=[checkpoint_cb])\nmodel = keras.models.load_model(\"my_keras_model.h5\") # rollback to best model\nmse_test = model.evaluate(X_test, y_test)",
   "execution_count": null,
   "outputs": [
    {
     "name": "stdout",
     "text": "Epoch 1/10\n363/363 [==============================] - 1s 2ms/step - loss: 1.8866 - val_loss: 0.7126\nEpoch 2/10\n363/363 [==============================] - 1s 2ms/step - loss: 0.6577 - val_loss: 0.6880\nEpoch 3/10\n363/363 [==============================] - 1s 2ms/step - loss: 0.5934 - val_loss: 0.5803\nEpoch 4/10\n363/363 [==============================] - 1s 2ms/step - loss: 0.5557 - val_loss: 0.5166\nEpoch 5/10\n363/363 [==============================] - 1s 2ms/step - loss: 0.5272 - val_loss: 0.4895\nEpoch 6/10\n363/363 [==============================] - 1s 2ms/step - loss: 0.5033 - val_loss: 0.4951\nEpoch 7/10\n363/363 [==============================] - 1s 2ms/step - loss: 0.4854 - val_loss: 0.4861\nEpoch 8/10\n363/363 [==============================] - 1s 2ms/step - loss: 0.4709 - val_loss: 0.4554\nEpoch 9/10\n363/363 [==============================] - 1s 2ms/step - loss: 0.4578 - val_loss: 0.4413\nEpoch 10/10\n363/363 [==============================] - 1s 2ms/step - loss: 0.4474 - val_loss: 0.4379\n162/162 [==============================] - 0s 1ms/step - loss: 0.4382\n",
     "output_type": "stream"
    }
   ]
  },
  {
   "cell_type": "code",
   "metadata": {
    "cell_id": "00106-14cab56c-de85-45e2-abae-c2c3307f6712",
    "deepnote_to_be_reexecuted": false,
    "source_hash": "86c885ea",
    "execution_start": 1659186749737,
    "execution_millis": 57081,
    "deepnote_cell_type": "code",
    "deepnote_cell_height": 804
   },
   "source": "model.compile(loss=\"mse\", optimizer=keras.optimizers.SGD(learning_rate=1e-3))\nearly_stopping_cb = keras.callbacks.EarlyStopping(patience=10,\n                                                  restore_best_weights=True)\nhistory = model.fit(X_train, y_train, epochs=100,\n                    validation_data=(X_valid, y_valid),\n                    callbacks=[checkpoint_cb, early_stopping_cb])\nmse_test = model.evaluate(X_test, y_test)",
   "execution_count": null,
   "outputs": [
    {
     "name": "stdout",
     "text": "Epoch 1/100\n363/363 [==============================] - 1s 2ms/step - loss: 0.4393 - val_loss: 0.4110\nEpoch 2/100\n363/363 [==============================] - 1s 2ms/step - loss: 0.4315 - val_loss: 0.4266\nEpoch 3/100\n363/363 [==============================] - 1s 2ms/step - loss: 0.4259 - val_loss: 0.3996\nEpoch 4/100\n363/363 [==============================] - 1s 2ms/step - loss: 0.4201 - val_loss: 0.3939\nEpoch 5/100\n363/363 [==============================] - 1s 2ms/step - loss: 0.4154 - val_loss: 0.3889\nEpoch 6/100\n363/363 [==============================] - 1s 2ms/step - loss: 0.4111 - val_loss: 0.3866\nEpoch 7/100\n363/363 [==============================] - 1s 2ms/step - loss: 0.4074 - val_loss: 0.3860\nEpoch 8/100\n363/363 [==============================] - 1s 2ms/step - loss: 0.4040 - val_loss: 0.3793\nEpoch 9/100\n363/363 [==============================] - 1s 2ms/step - loss: 0.4008 - val_loss: 0.3746\nEpoch 10/100\n363/363 [==============================] - 1s 2ms/step - loss: 0.3976 - val_loss: 0.3723\nEpoch 11/100\n363/363 [==============================] - 1s 2ms/step - loss: 0.3950 - val_loss: 0.3697\nEpoch 12/100\n363/363 [==============================] - 1s 2ms/step - loss: 0.3923 - val_loss: 0.3669\nEpoch 13/100\n363/363 [==============================] - 1s 2ms/step - loss: 0.3897 - val_loss: 0.3661\nEpoch 14/100\n363/363 [==============================] - 1s 2ms/step - loss: 0.3874 - val_loss: 0.3631\nEpoch 15/100\n363/363 [==============================] - 1s 2ms/step - loss: 0.3851 - val_loss: 0.3660\nEpoch 16/100\n363/363 [==============================] - 1s 1ms/step - loss: 0.3829 - val_loss: 0.3625\nEpoch 17/100\n363/363 [==============================] - 1s 2ms/step - loss: 0.3810 - val_loss: 0.3592\nEpoch 18/100\n363/363 [==============================] - 1s 2ms/step - loss: 0.3788 - val_loss: 0.3563\nEpoch 19/100\n363/363 [==============================] - 1s 2ms/step - loss: 0.3766 - val_loss: 0.3535\nEpoch 20/100\n363/363 [==============================] - 1s 2ms/step - loss: 0.3750 - val_loss: 0.3709\nEpoch 21/100\n363/363 [==============================] - 1s 2ms/step - loss: 0.3732 - val_loss: 0.3512\nEpoch 22/100\n363/363 [==============================] - 1s 2ms/step - loss: 0.3715 - val_loss: 0.3699\nEpoch 23/100\n363/363 [==============================] - 1s 2ms/step - loss: 0.3700 - val_loss: 0.3476\nEpoch 24/100\n363/363 [==============================] - 1s 2ms/step - loss: 0.3685 - val_loss: 0.3561\nEpoch 25/100\n363/363 [==============================] - 1s 2ms/step - loss: 0.3671 - val_loss: 0.3527\nEpoch 26/100\n363/363 [==============================] - 1s 2ms/step - loss: 0.3658 - val_loss: 0.3700\nEpoch 27/100\n363/363 [==============================] - 1s 2ms/step - loss: 0.3647 - val_loss: 0.3432\nEpoch 28/100\n363/363 [==============================] - 1s 2ms/step - loss: 0.3635 - val_loss: 0.3592\nEpoch 29/100\n363/363 [==============================] - 1s 2ms/step - loss: 0.3625 - val_loss: 0.3521\nEpoch 30/100\n363/363 [==============================] - 1s 2ms/step - loss: 0.3613 - val_loss: 0.3626\nEpoch 31/100\n363/363 [==============================] - 1s 2ms/step - loss: 0.3601 - val_loss: 0.3431\nEpoch 32/100\n363/363 [==============================] - 1s 2ms/step - loss: 0.3589 - val_loss: 0.3766\nEpoch 33/100\n363/363 [==============================] - 1s 2ms/step - loss: 0.3584 - val_loss: 0.3374\nEpoch 34/100\n363/363 [==============================] - 1s 2ms/step - loss: 0.3572 - val_loss: 0.3407\nEpoch 35/100\n363/363 [==============================] - 1s 2ms/step - loss: 0.3563 - val_loss: 0.3614\nEpoch 36/100\n363/363 [==============================] - 1s 2ms/step - loss: 0.3555 - val_loss: 0.3348\nEpoch 37/100\n363/363 [==============================] - 1s 2ms/step - loss: 0.3546 - val_loss: 0.3573\nEpoch 38/100\n363/363 [==============================] - 1s 2ms/step - loss: 0.3538 - val_loss: 0.3367\nEpoch 39/100\n363/363 [==============================] - 1s 2ms/step - loss: 0.3530 - val_loss: 0.3425\nEpoch 40/100\n363/363 [==============================] - 1s 1ms/step - loss: 0.3523 - val_loss: 0.3368\nEpoch 41/100\n363/363 [==============================] - 1s 2ms/step - loss: 0.3515 - val_loss: 0.3514\nEpoch 42/100\n363/363 [==============================] - 1s 2ms/step - loss: 0.3511 - val_loss: 0.3426\nEpoch 43/100\n363/363 [==============================] - 1s 2ms/step - loss: 0.3500 - val_loss: 0.3677\nEpoch 44/100\n363/363 [==============================] - 1s 2ms/step - loss: 0.3496 - val_loss: 0.3563\nEpoch 45/100\n363/363 [==============================] - 1s 2ms/step - loss: 0.3490 - val_loss: 0.3336\nEpoch 46/100\n363/363 [==============================] - 1s 2ms/step - loss: 0.3481 - val_loss: 0.3456\nEpoch 47/100\n363/363 [==============================] - 1s 2ms/step - loss: 0.3478 - val_loss: 0.3433\nEpoch 48/100\n363/363 [==============================] - 1s 2ms/step - loss: 0.3471 - val_loss: 0.3658\nEpoch 49/100\n363/363 [==============================] - 1s 2ms/step - loss: 0.3466 - val_loss: 0.3286\nEpoch 50/100\n363/363 [==============================] - 1s 2ms/step - loss: 0.3460 - val_loss: 0.3268\nEpoch 51/100\n363/363 [==============================] - 1s 2ms/step - loss: 0.3454 - val_loss: 0.3438\nEpoch 52/100\n363/363 [==============================] - 1s 2ms/step - loss: 0.3449 - val_loss: 0.3263\nEpoch 53/100\n363/363 [==============================] - 1s 2ms/step - loss: 0.3444 - val_loss: 0.3910\nEpoch 54/100\n363/363 [==============================] - 1s 2ms/step - loss: 0.3439 - val_loss: 0.3275\nEpoch 55/100\n363/363 [==============================] - 1s 2ms/step - loss: 0.3435 - val_loss: 0.3560\nEpoch 56/100\n363/363 [==============================] - 1s 2ms/step - loss: 0.3430 - val_loss: 0.3237\nEpoch 57/100\n363/363 [==============================] - 1s 2ms/step - loss: 0.3423 - val_loss: 0.3242\nEpoch 58/100\n363/363 [==============================] - 1s 2ms/step - loss: 0.3419 - val_loss: 0.3764\nEpoch 59/100\n363/363 [==============================] - 1s 2ms/step - loss: 0.3417 - val_loss: 0.3289\nEpoch 60/100\n363/363 [==============================] - 1s 2ms/step - loss: 0.3410 - val_loss: 0.3502\nEpoch 61/100\n363/363 [==============================] - 1s 2ms/step - loss: 0.3404 - val_loss: 0.3456\nEpoch 62/100\n363/363 [==============================] - 1s 2ms/step - loss: 0.3402 - val_loss: 0.3445\nEpoch 63/100\n363/363 [==============================] - 1s 1ms/step - loss: 0.3392 - val_loss: 0.3290\nEpoch 64/100\n363/363 [==============================] - 1s 2ms/step - loss: 0.3393 - val_loss: 0.3217\nEpoch 65/100\n363/363 [==============================] - 1s 2ms/step - loss: 0.3387 - val_loss: 0.3351\nEpoch 66/100\n363/363 [==============================] - 1s 2ms/step - loss: 0.3383 - val_loss: 0.3232\nEpoch 67/100\n363/363 [==============================] - 1s 2ms/step - loss: 0.3376 - val_loss: 0.3568\nEpoch 68/100\n363/363 [==============================] - 1s 2ms/step - loss: 0.3374 - val_loss: 0.3256\nEpoch 69/100\n363/363 [==============================] - 1s 2ms/step - loss: 0.3370 - val_loss: 0.3349\nEpoch 70/100\n363/363 [==============================] - 1s 2ms/step - loss: 0.3365 - val_loss: 0.3560\nEpoch 71/100\n363/363 [==============================] - 1s 2ms/step - loss: 0.3361 - val_loss: 0.3582\nEpoch 72/100\n363/363 [==============================] - 1s 2ms/step - loss: 0.3357 - val_loss: 0.3286\nEpoch 73/100\n363/363 [==============================] - 1s 2ms/step - loss: 0.3351 - val_loss: 0.3203\nEpoch 74/100\n363/363 [==============================] - 1s 1ms/step - loss: 0.3350 - val_loss: 0.3839\nEpoch 75/100\n363/363 [==============================] - 1s 2ms/step - loss: 0.3347 - val_loss: 0.3234\nEpoch 76/100\n363/363 [==============================] - 1s 2ms/step - loss: 0.3342 - val_loss: 0.3475\nEpoch 77/100\n363/363 [==============================] - 1s 2ms/step - loss: 0.3338 - val_loss: 0.3409\nEpoch 78/100\n363/363 [==============================] - 1s 2ms/step - loss: 0.3335 - val_loss: 0.3461\nEpoch 79/100\n363/363 [==============================] - 1s 2ms/step - loss: 0.3332 - val_loss: 0.3348\nEpoch 80/100\n363/363 [==============================] - 1s 2ms/step - loss: 0.3329 - val_loss: 0.3352\nEpoch 81/100\n363/363 [==============================] - 1s 2ms/step - loss: 0.3324 - val_loss: 0.3277\nEpoch 82/100\n363/363 [==============================] - 1s 2ms/step - loss: 0.3320 - val_loss: 0.3167\nEpoch 83/100\n363/363 [==============================] - 1s 1ms/step - loss: 0.3317 - val_loss: 0.3280\nEpoch 84/100\n363/363 [==============================] - 1s 2ms/step - loss: 0.3312 - val_loss: 0.3636\nEpoch 85/100\n363/363 [==============================] - 1s 2ms/step - loss: 0.3310 - val_loss: 0.3175\nEpoch 86/100\n363/363 [==============================] - 1s 2ms/step - loss: 0.3308 - val_loss: 0.3156\nEpoch 87/100\n363/363 [==============================] - 1s 1ms/step - loss: 0.3305 - val_loss: 0.3530\nEpoch 88/100\n363/363 [==============================] - 1s 2ms/step - loss: 0.3299 - val_loss: 0.3256\nEpoch 89/100\n363/363 [==============================] - 1s 2ms/step - loss: 0.3294 - val_loss: 0.3625\nEpoch 90/100\n363/363 [==============================] - 1s 2ms/step - loss: 0.3296 - val_loss: 0.3378\nEpoch 91/100\n363/363 [==============================] - 1s 1ms/step - loss: 0.3291 - val_loss: 0.3211\nEpoch 92/100\n363/363 [==============================] - 1s 2ms/step - loss: 0.3287 - val_loss: 0.3455\nEpoch 93/100\n363/363 [==============================] - 1s 2ms/step - loss: 0.3285 - val_loss: 0.3158\nEpoch 94/100\n363/363 [==============================] - 1s 2ms/step - loss: 0.3281 - val_loss: 0.3408\nEpoch 95/100\n363/363 [==============================] - 1s 2ms/step - loss: 0.3276 - val_loss: 0.3380\nEpoch 96/100\n363/363 [==============================] - 1s 2ms/step - loss: 0.3273 - val_loss: 0.3212\n162/162 [==============================] - 0s 1ms/step - loss: 0.3310\n",
     "output_type": "stream"
    }
   ]
  },
  {
   "cell_type": "code",
   "metadata": {
    "cell_id": "00107-a5f00abc-bcd0-497a-aac8-8e6f92969840",
    "deepnote_to_be_reexecuted": false,
    "source_hash": "d16417ff",
    "execution_start": 1659186806866,
    "execution_millis": 0,
    "deepnote_cell_type": "code",
    "deepnote_cell_height": 112
   },
   "source": "class PrintValTrainRatioCallback(keras.callbacks.Callback):\n    def on_epoch_end(self, epoch, logs):\n        print(\"\\nval/train: {:.2f}\".format(logs[\"val_loss\"] / logs[\"loss\"]))",
   "execution_count": null,
   "outputs": []
  },
  {
   "cell_type": "code",
   "metadata": {
    "cell_id": "00108-934f553f-9a78-468c-8df4-7884f89c5702",
    "deepnote_to_be_reexecuted": false,
    "source_hash": "6bbf3d45",
    "execution_start": 1659186806867,
    "execution_millis": 626,
    "deepnote_cell_type": "code",
    "deepnote_cell_height": 201.5625
   },
   "source": "val_train_ratio_cb = PrintValTrainRatioCallback()\nhistory = model.fit(X_train, y_train, epochs=1,\n                    validation_data=(X_valid, y_valid),\n                    callbacks=[val_train_ratio_cb])",
   "execution_count": null,
   "outputs": [
    {
     "name": "stdout",
     "text": "352/363 [============================>.] - ETA: 0s - loss: 0.3293\nval/train: 1.08\n363/363 [==============================] - 1s 2ms/step - loss: 0.3302 - val_loss: 0.3560\n",
     "output_type": "stream"
    }
   ]
  },
  {
   "cell_type": "markdown",
   "source": "# TensorBoard",
   "metadata": {
    "cell_id": "00109-ce92266e-7719-4e6d-80fb-cd5f39d32add",
    "deepnote_cell_type": "markdown",
    "deepnote_cell_height": 82
   }
  },
  {
   "cell_type": "code",
   "metadata": {
    "cell_id": "00110-2211dd1c-2136-4602-926b-c1288c75fe53",
    "deepnote_to_be_reexecuted": false,
    "source_hash": "32c569b2",
    "execution_start": 1659186807489,
    "execution_millis": 1,
    "deepnote_cell_type": "code",
    "deepnote_cell_height": 76
   },
   "source": "root_logdir = os.path.join(os.curdir, \"my_logs\")",
   "execution_count": null,
   "outputs": []
  },
  {
   "cell_type": "code",
   "metadata": {
    "cell_id": "00111-1f31c930-e076-475e-bbf7-ad4bcd3eedae",
    "deepnote_to_be_reexecuted": false,
    "source_hash": "1f34451f",
    "execution_start": 1659186807490,
    "execution_millis": 3,
    "deepnote_cell_type": "code",
    "deepnote_cell_height": 221.1875,
    "deepnote_output_heights": [
     21.1875
    ]
   },
   "source": "def get_run_logdir():\n    import time\n    run_id = time.strftime(\"run_%Y_%m_%d-%H_%M_%S\")\n    return os.path.join(root_logdir, run_id)\n\nrun_logdir = get_run_logdir()\nrun_logdir",
   "execution_count": null,
   "outputs": [
    {
     "output_type": "execute_result",
     "execution_count": 82,
     "data": {
      "text/plain": "'./my_logs/run_2022_07_30-13_13_27'"
     },
     "metadata": {}
    }
   ]
  },
  {
   "cell_type": "code",
   "metadata": {
    "cell_id": "00112-95c0f883-b7e1-4ccc-8e1d-e1ff40172486",
    "deepnote_to_be_reexecuted": false,
    "source_hash": "b86c7ea",
    "execution_start": 1659186807492,
    "execution_millis": 4,
    "deepnote_cell_type": "code",
    "deepnote_cell_height": 112
   },
   "source": "keras.backend.clear_session()\nnp.random.seed(42)\ntf.random.set_seed(42)",
   "execution_count": null,
   "outputs": []
  },
  {
   "cell_type": "code",
   "metadata": {
    "cell_id": "00113-64b98ec5-11ec-4eaf-9b23-b985fb7017f8",
    "deepnote_to_be_reexecuted": false,
    "source_hash": "7cf21963",
    "execution_start": 1659186807541,
    "execution_millis": 1,
    "deepnote_cell_type": "code",
    "deepnote_cell_height": 166
   },
   "source": "model = keras.models.Sequential([\n    keras.layers.Dense(30, activation=\"relu\", input_shape=[8]),\n    keras.layers.Dense(30, activation=\"relu\"),\n    keras.layers.Dense(1)\n])    \nmodel.compile(loss=\"mse\", optimizer=keras.optimizers.SGD(learning_rate=1e-3))",
   "execution_count": null,
   "outputs": []
  },
  {
   "cell_type": "code",
   "metadata": {
    "cell_id": "00114-039b8746-2ac8-4cc7-946e-929da37f1596",
    "deepnote_to_be_reexecuted": false,
    "source_hash": "6dfcce10",
    "execution_start": 1659186807542,
    "execution_millis": 19118,
    "deepnote_cell_type": "code",
    "deepnote_cell_height": 750
   },
   "source": "tensorboard_cb = keras.callbacks.TensorBoard(run_logdir)\nhistory = model.fit(X_train, y_train, epochs=30,\n                    validation_data=(X_valid, y_valid),\n                    callbacks=[checkpoint_cb, tensorboard_cb])",
   "execution_count": null,
   "outputs": [
    {
     "name": "stdout",
     "text": "Epoch 1/30\n363/363 [==============================] - 1s 2ms/step - loss: 1.8866 - val_loss: 0.7126\nEpoch 2/30\n363/363 [==============================] - 1s 1ms/step - loss: 0.6577 - val_loss: 0.6880\nEpoch 3/30\n363/363 [==============================] - 1s 2ms/step - loss: 0.5934 - val_loss: 0.5803\nEpoch 4/30\n363/363 [==============================] - 1s 2ms/step - loss: 0.5557 - val_loss: 0.5166\nEpoch 5/30\n363/363 [==============================] - 1s 2ms/step - loss: 0.5272 - val_loss: 0.4895\nEpoch 6/30\n363/363 [==============================] - 1s 2ms/step - loss: 0.5033 - val_loss: 0.4951\nEpoch 7/30\n363/363 [==============================] - 1s 2ms/step - loss: 0.4854 - val_loss: 0.4861\nEpoch 8/30\n363/363 [==============================] - 1s 2ms/step - loss: 0.4709 - val_loss: 0.4554\nEpoch 9/30\n363/363 [==============================] - 1s 2ms/step - loss: 0.4578 - val_loss: 0.4413\nEpoch 10/30\n363/363 [==============================] - 1s 2ms/step - loss: 0.4474 - val_loss: 0.4379\nEpoch 11/30\n363/363 [==============================] - 1s 2ms/step - loss: 0.4393 - val_loss: 0.4396\nEpoch 12/30\n363/363 [==============================] - 1s 2ms/step - loss: 0.4318 - val_loss: 0.4507\nEpoch 13/30\n363/363 [==============================] - 1s 2ms/step - loss: 0.4261 - val_loss: 0.3997\nEpoch 14/30\n363/363 [==============================] - 1s 2ms/step - loss: 0.4202 - val_loss: 0.3956\nEpoch 15/30\n363/363 [==============================] - 1s 2ms/step - loss: 0.4155 - val_loss: 0.3916\nEpoch 16/30\n363/363 [==============================] - 1s 2ms/step - loss: 0.4112 - val_loss: 0.3937\nEpoch 17/30\n363/363 [==============================] - 1s 2ms/step - loss: 0.4077 - val_loss: 0.3809\nEpoch 18/30\n363/363 [==============================] - 1s 2ms/step - loss: 0.4040 - val_loss: 0.3793\nEpoch 19/30\n363/363 [==============================] - 1s 1ms/step - loss: 0.4004 - val_loss: 0.3850\nEpoch 20/30\n363/363 [==============================] - 1s 2ms/step - loss: 0.3980 - val_loss: 0.3809\nEpoch 21/30\n363/363 [==============================] - 1s 2ms/step - loss: 0.3949 - val_loss: 0.3701\nEpoch 22/30\n363/363 [==============================] - 1s 2ms/step - loss: 0.3924 - val_loss: 0.3781\nEpoch 23/30\n363/363 [==============================] - 1s 2ms/step - loss: 0.3898 - val_loss: 0.3650\nEpoch 24/30\n363/363 [==============================] - 1s 2ms/step - loss: 0.3874 - val_loss: 0.3655\nEpoch 25/30\n363/363 [==============================] - 1s 2ms/step - loss: 0.3851 - val_loss: 0.3611\nEpoch 26/30\n363/363 [==============================] - 1s 2ms/step - loss: 0.3829 - val_loss: 0.3626\nEpoch 27/30\n363/363 [==============================] - 1s 2ms/step - loss: 0.3809 - val_loss: 0.3564\nEpoch 28/30\n363/363 [==============================] - 1s 2ms/step - loss: 0.3788 - val_loss: 0.3579\nEpoch 29/30\n363/363 [==============================] - 1s 2ms/step - loss: 0.3769 - val_loss: 0.3561\nEpoch 30/30\n363/363 [==============================] - 1s 2ms/step - loss: 0.3750 - val_loss: 0.3548\n",
     "output_type": "stream"
    }
   ]
  },
  {
   "cell_type": "markdown",
   "source": "To start the TensorBoard server, one option is to open a terminal, if needed activate the virtualenv where you installed TensorBoard, go to this notebook's directory, then type:\n\n```bash\n$ tensorboard --logdir=./my_logs --port=6006\n```\n\nYou can then open your web browser to [localhost:6006](http://localhost:6006) and use TensorBoard. Once you are done, press Ctrl-C in the terminal window, this will shutdown the TensorBoard server.\n\nAlternatively, you can load TensorBoard's Jupyter extension and run it like this:",
   "metadata": {
    "cell_id": "00115-7d2e8de1-6f78-46dd-adea-67bb9b420447",
    "deepnote_cell_type": "markdown",
    "deepnote_cell_height": 212.34375
   }
  },
  {
   "cell_type": "code",
   "metadata": {
    "cell_id": "00116-5422c717-8887-4484-a105-368682075434",
    "deepnote_to_be_reexecuted": false,
    "source_hash": "d8e7869",
    "execution_start": 1659186826140,
    "execution_millis": 5539,
    "deepnote_cell_type": "code",
    "deepnote_cell_height": 131.1875
   },
   "source": "%load_ext tensorboard\n%tensorboard --logdir=./my_logs --port=6006",
   "execution_count": null,
   "outputs": [
    {
     "data": {
      "text/plain": "Launching TensorBoard..."
     },
     "metadata": {},
     "output_type": "display_data"
    }
   ]
  },
  {
   "cell_type": "code",
   "metadata": {
    "cell_id": "00117-d930eb0f-323c-4025-9cdc-617fe6f6a9eb",
    "deepnote_to_be_reexecuted": false,
    "source_hash": "7150b5ca",
    "execution_start": 1659186831684,
    "execution_millis": 718,
    "deepnote_cell_type": "code",
    "deepnote_cell_height": 131.1875
   },
   "source": "run_logdir2 = get_run_logdir()\nrun_logdir2",
   "execution_count": null,
   "outputs": [
    {
     "output_type": "execute_result",
     "execution_count": 87,
     "data": {
      "text/plain": "'./my_logs/run_2022_07_30-13_13_51'"
     },
     "metadata": {}
    }
   ]
  },
  {
   "cell_type": "code",
   "metadata": {
    "cell_id": "00118-dfb7036f-c92c-4383-938a-dc604816f220",
    "deepnote_to_be_reexecuted": false,
    "source_hash": "b86c7ea",
    "execution_start": 1659186831692,
    "execution_millis": 16,
    "deepnote_cell_type": "code",
    "deepnote_cell_height": 112
   },
   "source": "keras.backend.clear_session()\nnp.random.seed(42)\ntf.random.set_seed(42)",
   "execution_count": null,
   "outputs": []
  },
  {
   "cell_type": "code",
   "metadata": {
    "cell_id": "00119-af160032-73f3-423d-ba06-8055befd1385",
    "deepnote_to_be_reexecuted": false,
    "source_hash": "87190c6",
    "execution_start": 1659186831716,
    "execution_millis": 29,
    "deepnote_cell_type": "code",
    "deepnote_cell_height": 166
   },
   "source": "model = keras.models.Sequential([\n    keras.layers.Dense(30, activation=\"relu\", input_shape=[8]),\n    keras.layers.Dense(30, activation=\"relu\"),\n    keras.layers.Dense(1)\n])    \nmodel.compile(loss=\"mse\", optimizer=keras.optimizers.SGD(learning_rate=0.05))",
   "execution_count": null,
   "outputs": []
  },
  {
   "cell_type": "code",
   "metadata": {
    "cell_id": "00120-ec4076f9-3891-4174-8a28-3465102e441a",
    "deepnote_to_be_reexecuted": false,
    "source_hash": "36d2bf44",
    "execution_start": 1659186831750,
    "execution_millis": 18023,
    "deepnote_cell_type": "code",
    "deepnote_cell_height": 750
   },
   "source": "tensorboard_cb = keras.callbacks.TensorBoard(run_logdir2)\nhistory = model.fit(X_train, y_train, epochs=30,\n                    validation_data=(X_valid, y_valid),\n                    callbacks=[checkpoint_cb, tensorboard_cb])",
   "execution_count": null,
   "outputs": [
    {
     "name": "stdout",
     "text": "Epoch 1/30\n363/363 [==============================] - 1s 2ms/step - loss: 0.5530 - val_loss: 302.8523\nEpoch 2/30\n363/363 [==============================] - 1s 2ms/step - loss: nan - val_loss: nan\nEpoch 3/30\n363/363 [==============================] - 1s 2ms/step - loss: nan - val_loss: nan\nEpoch 4/30\n363/363 [==============================] - 1s 2ms/step - loss: nan - val_loss: nan\nEpoch 5/30\n363/363 [==============================] - 1s 2ms/step - loss: nan - val_loss: nan\nEpoch 6/30\n363/363 [==============================] - 1s 2ms/step - loss: nan - val_loss: nan\nEpoch 7/30\n363/363 [==============================] - 1s 2ms/step - loss: nan - val_loss: nan\nEpoch 8/30\n363/363 [==============================] - 1s 2ms/step - loss: nan - val_loss: nan\nEpoch 9/30\n363/363 [==============================] - 1s 2ms/step - loss: nan - val_loss: nan\nEpoch 10/30\n363/363 [==============================] - 1s 2ms/step - loss: nan - val_loss: nan\nEpoch 11/30\n363/363 [==============================] - 1s 1ms/step - loss: nan - val_loss: nan\nEpoch 12/30\n363/363 [==============================] - 1s 2ms/step - loss: nan - val_loss: nan\nEpoch 13/30\n363/363 [==============================] - 1s 1ms/step - loss: nan - val_loss: nan\nEpoch 14/30\n363/363 [==============================] - 1s 2ms/step - loss: nan - val_loss: nan\nEpoch 15/30\n363/363 [==============================] - 1s 2ms/step - loss: nan - val_loss: nan\nEpoch 16/30\n363/363 [==============================] - 1s 2ms/step - loss: nan - val_loss: nan\nEpoch 17/30\n363/363 [==============================] - 1s 2ms/step - loss: nan - val_loss: nan\nEpoch 18/30\n363/363 [==============================] - 1s 2ms/step - loss: nan - val_loss: nan\nEpoch 19/30\n363/363 [==============================] - 1s 2ms/step - loss: nan - val_loss: nan\nEpoch 20/30\n363/363 [==============================] - 1s 1ms/step - loss: nan - val_loss: nan\nEpoch 21/30\n363/363 [==============================] - 1s 2ms/step - loss: nan - val_loss: nan\nEpoch 22/30\n363/363 [==============================] - 1s 2ms/step - loss: nan - val_loss: nan\nEpoch 23/30\n363/363 [==============================] - 1s 2ms/step - loss: nan - val_loss: nan\nEpoch 24/30\n363/363 [==============================] - 1s 2ms/step - loss: nan - val_loss: nan\nEpoch 25/30\n363/363 [==============================] - 1s 1ms/step - loss: nan - val_loss: nan\nEpoch 26/30\n363/363 [==============================] - 1s 2ms/step - loss: nan - val_loss: nan\nEpoch 27/30\n363/363 [==============================] - 1s 2ms/step - loss: nan - val_loss: nan\nEpoch 28/30\n363/363 [==============================] - 1s 2ms/step - loss: nan - val_loss: nan\nEpoch 29/30\n363/363 [==============================] - 1s 2ms/step - loss: nan - val_loss: nan\nEpoch 30/30\n363/363 [==============================] - 1s 2ms/step - loss: nan - val_loss: nan\n",
     "output_type": "stream"
    }
   ]
  },
  {
   "cell_type": "markdown",
   "source": "Notice how TensorBoard now sees two runs, and you can compare the learning curves.",
   "metadata": {
    "cell_id": "00121-175b73fb-2b19-45dd-ae6e-b6797af77bdc",
    "deepnote_cell_type": "markdown",
    "deepnote_cell_height": 52.390625
   }
  },
  {
   "cell_type": "markdown",
   "source": "Check out the other available logging options:",
   "metadata": {
    "cell_id": "00122-e65de519-b658-4545-9f60-d250a182ac59",
    "deepnote_cell_type": "markdown",
    "deepnote_cell_height": 52.390625
   }
  },
  {
   "cell_type": "code",
   "metadata": {
    "cell_id": "00123-9326cd7c-ca72-43cb-be7c-5f4d48d94981",
    "deepnote_to_be_reexecuted": false,
    "source_hash": "5895030",
    "execution_start": 1659186849642,
    "execution_millis": 137,
    "deepnote_cell_type": "code",
    "deepnote_cell_height": 191.9375
   },
   "source": "help(keras.callbacks.TensorBoard.__init__)",
   "execution_count": null,
   "outputs": [
    {
     "name": "stdout",
     "text": "Help on function __init__ in module keras.callbacks:\n\n__init__(self, log_dir='logs', histogram_freq=0, write_graph=True, write_images=False, write_steps_per_second=False, update_freq='epoch', profile_batch=0, embeddings_freq=0, embeddings_metadata=None, **kwargs)\n    Initialize self.  See help(type(self)) for accurate signature.\n\n",
     "output_type": "stream"
    }
   ]
  },
  {
   "cell_type": "markdown",
   "source": "# Hyperparameter Tuning",
   "metadata": {
    "cell_id": "00124-40611e03-b778-44ff-bca0-70f1e489cf0c",
    "deepnote_cell_type": "markdown",
    "deepnote_cell_height": 82
   }
  },
  {
   "cell_type": "code",
   "metadata": {
    "cell_id": "00125-e32e276a-18f0-4a0e-b9fa-2fff40ae42ff",
    "deepnote_to_be_reexecuted": false,
    "source_hash": "b86c7ea",
    "execution_start": 1659186849643,
    "execution_millis": 0,
    "deepnote_cell_type": "code",
    "deepnote_cell_height": 112
   },
   "source": "keras.backend.clear_session()\nnp.random.seed(42)\ntf.random.set_seed(42)",
   "execution_count": null,
   "outputs": []
  },
  {
   "cell_type": "code",
   "metadata": {
    "cell_id": "00126-4373267a-bebd-4dce-bcac-dccb9f87e4c2",
    "deepnote_to_be_reexecuted": false,
    "source_hash": "32bf1a74",
    "execution_start": 1659186849644,
    "execution_millis": 2,
    "deepnote_cell_type": "code",
    "deepnote_cell_height": 220
   },
   "source": "def build_model(n_hidden=1, n_neurons=30, learning_rate=3e-3, input_shape=[8]):\n    model = keras.models.Sequential()\n    model.add(keras.layers.InputLayer(input_shape=input_shape))\n    for layer in range(n_hidden):\n        model.add(keras.layers.Dense(n_neurons, activation=\"relu\"))\n    model.add(keras.layers.Dense(1))\n    optimizer = keras.optimizers.SGD(learning_rate=learning_rate)\n    model.compile(loss=\"mse\", optimizer=optimizer)\n    return model",
   "execution_count": null,
   "outputs": []
  },
  {
   "cell_type": "code",
   "metadata": {
    "cell_id": "00127-9ad174d3-72db-4944-8244-4b3819f2ee4f",
    "deepnote_to_be_reexecuted": false,
    "source_hash": "69370f20",
    "execution_start": 1659186849649,
    "execution_millis": 2,
    "deepnote_cell_type": "code",
    "deepnote_cell_height": 131.375
   },
   "source": "keras_reg = keras.wrappers.scikit_learn.KerasRegressor(build_model)",
   "execution_count": null,
   "outputs": [
    {
     "name": "stderr",
     "text": "<ipython-input-94-651c14c6d32f>:1: DeprecationWarning: KerasRegressor is deprecated, use Sci-Keras (https://github.com/adriangb/scikeras) instead. See https://www.adriangb.com/scikeras/stable/migration.html for help migrating.\n  keras_reg = keras.wrappers.scikit_learn.KerasRegressor(build_model)\n",
     "output_type": "stream"
    }
   ]
  },
  {
   "cell_type": "code",
   "metadata": {
    "cell_id": "00128-8eb28132-0dc2-4e00-87ee-54989bf26cdc",
    "deepnote_to_be_reexecuted": false,
    "source_hash": "d6871ce1",
    "execution_start": 1659186849711,
    "execution_millis": 45862,
    "deepnote_cell_type": "code",
    "deepnote_cell_height": 784.1875,
    "deepnote_output_heights": [
     null,
     21.1875
    ]
   },
   "source": "keras_reg.fit(X_train, y_train, epochs=100,\n              validation_data=(X_valid, y_valid),\n              callbacks=[keras.callbacks.EarlyStopping(patience=10)])",
   "execution_count": null,
   "outputs": [
    {
     "name": "stdout",
     "text": "Epoch 1/100\n363/363 [==============================] - 1s 2ms/step - loss: 1.0896 - val_loss: 20.7721\nEpoch 2/100\n363/363 [==============================] - 1s 2ms/step - loss: 0.7606 - val_loss: 5.0266\nEpoch 3/100\n363/363 [==============================] - 1s 1ms/step - loss: 0.5456 - val_loss: 0.5490\nEpoch 4/100\n363/363 [==============================] - 1s 2ms/step - loss: 0.4732 - val_loss: 0.4529\nEpoch 5/100\n363/363 [==============================] - 1s 2ms/step - loss: 0.4503 - val_loss: 0.4188\nEpoch 6/100\n363/363 [==============================] - 1s 2ms/step - loss: 0.4338 - val_loss: 0.4129\nEpoch 7/100\n363/363 [==============================] - 1s 2ms/step - loss: 0.4241 - val_loss: 0.4004\nEpoch 8/100\n363/363 [==============================] - 1s 1ms/step - loss: 0.4168 - val_loss: 0.3944\nEpoch 9/100\n363/363 [==============================] - 1s 2ms/step - loss: 0.4108 - val_loss: 0.3961\nEpoch 10/100\n363/363 [==============================] - 1s 1ms/step - loss: 0.4060 - val_loss: 0.4071\nEpoch 11/100\n363/363 [==============================] - 1s 2ms/step - loss: 0.4021 - val_loss: 0.3855\nEpoch 12/100\n363/363 [==============================] - 1s 1ms/step - loss: 0.3984 - val_loss: 0.4136\nEpoch 13/100\n363/363 [==============================] - 1s 2ms/step - loss: 0.3951 - val_loss: 0.3997\nEpoch 14/100\n363/363 [==============================] - 1s 2ms/step - loss: 0.3921 - val_loss: 0.3818\nEpoch 15/100\n363/363 [==============================] - 1s 2ms/step - loss: 0.3894 - val_loss: 0.3829\nEpoch 16/100\n363/363 [==============================] - 1s 2ms/step - loss: 0.3869 - val_loss: 0.3739\nEpoch 17/100\n363/363 [==============================] - 1s 1ms/step - loss: 0.3848 - val_loss: 0.4022\nEpoch 18/100\n363/363 [==============================] - 1s 1ms/step - loss: 0.3829 - val_loss: 0.3873\nEpoch 19/100\n363/363 [==============================] - 1s 2ms/step - loss: 0.3807 - val_loss: 0.3768\nEpoch 20/100\n363/363 [==============================] - 1s 2ms/step - loss: 0.3791 - val_loss: 0.4191\nEpoch 21/100\n363/363 [==============================] - 1s 1ms/step - loss: 0.3774 - val_loss: 0.3926\nEpoch 22/100\n363/363 [==============================] - 1s 2ms/step - loss: 0.3756 - val_loss: 0.4238\nEpoch 23/100\n363/363 [==============================] - 1s 1ms/step - loss: 0.3742 - val_loss: 0.3523\nEpoch 24/100\n363/363 [==============================] - 1s 2ms/step - loss: 0.3725 - val_loss: 0.3842\nEpoch 25/100\n363/363 [==============================] - 1s 2ms/step - loss: 0.3710 - val_loss: 0.4162\nEpoch 26/100\n363/363 [==============================] - 1s 1ms/step - loss: 0.3700 - val_loss: 0.3980\nEpoch 27/100\n363/363 [==============================] - 1s 2ms/step - loss: 0.3691 - val_loss: 0.3474\nEpoch 28/100\n363/363 [==============================] - 1s 2ms/step - loss: 0.3677 - val_loss: 0.3920\nEpoch 29/100\n363/363 [==============================] - 1s 1ms/step - loss: 0.3670 - val_loss: 0.3566\nEpoch 30/100\n363/363 [==============================] - 1s 1ms/step - loss: 0.3653 - val_loss: 0.4191\nEpoch 31/100\n363/363 [==============================] - 1s 2ms/step - loss: 0.3647 - val_loss: 0.3721\nEpoch 32/100\n363/363 [==============================] - 1s 2ms/step - loss: 0.3633 - val_loss: 0.3947\nEpoch 33/100\n363/363 [==============================] - 1s 2ms/step - loss: 0.3632 - val_loss: 0.3423\nEpoch 34/100\n363/363 [==============================] - 1s 2ms/step - loss: 0.3617 - val_loss: 0.3453\nEpoch 35/100\n363/363 [==============================] - 1s 1ms/step - loss: 0.3610 - val_loss: 0.4068\nEpoch 36/100\n363/363 [==============================] - 1s 1ms/step - loss: 0.3607 - val_loss: 0.3416\nEpoch 37/100\n363/363 [==============================] - 1s 2ms/step - loss: 0.3596 - val_loss: 0.3787\nEpoch 38/100\n363/363 [==============================] - 1s 2ms/step - loss: 0.3589 - val_loss: 0.3379\nEpoch 39/100\n363/363 [==============================] - 1s 2ms/step - loss: 0.3582 - val_loss: 0.3419\nEpoch 40/100\n363/363 [==============================] - 1s 2ms/step - loss: 0.3572 - val_loss: 0.3704\nEpoch 41/100\n363/363 [==============================] - 1s 1ms/step - loss: 0.3570 - val_loss: 0.3660\nEpoch 42/100\n363/363 [==============================] - 1s 2ms/step - loss: 0.3563 - val_loss: 0.3803\nEpoch 43/100\n363/363 [==============================] - 1s 2ms/step - loss: 0.3551 - val_loss: 0.3766\nEpoch 44/100\n363/363 [==============================] - 1s 1ms/step - loss: 0.3548 - val_loss: 0.3814\nEpoch 45/100\n363/363 [==============================] - 1s 1ms/step - loss: 0.3543 - val_loss: 0.3326\nEpoch 46/100\n363/363 [==============================] - 1s 2ms/step - loss: 0.3532 - val_loss: 0.3385\nEpoch 47/100\n363/363 [==============================] - 1s 2ms/step - loss: 0.3527 - val_loss: 0.3657\nEpoch 48/100\n363/363 [==============================] - 1s 2ms/step - loss: 0.3521 - val_loss: 0.3577\nEpoch 49/100\n363/363 [==============================] - 1s 1ms/step - loss: 0.3525 - val_loss: 0.3359\nEpoch 50/100\n363/363 [==============================] - 1s 2ms/step - loss: 0.3510 - val_loss: 0.3317\nEpoch 51/100\n363/363 [==============================] - 1s 1ms/step - loss: 0.3504 - val_loss: 0.3564\nEpoch 52/100\n363/363 [==============================] - 1s 2ms/step - loss: 0.3502 - val_loss: 0.3524\nEpoch 53/100\n363/363 [==============================] - 1s 2ms/step - loss: 0.3496 - val_loss: 0.4589\nEpoch 54/100\n363/363 [==============================] - 1s 1ms/step - loss: 0.3497 - val_loss: 0.3810\nEpoch 55/100\n363/363 [==============================] - 1s 1ms/step - loss: 0.3490 - val_loss: 0.3544\nEpoch 56/100\n363/363 [==============================] - 1s 2ms/step - loss: 0.3485 - val_loss: 0.3728\nEpoch 57/100\n363/363 [==============================] - 1s 2ms/step - loss: 0.3478 - val_loss: 0.3339\nEpoch 58/100\n363/363 [==============================] - 1s 1ms/step - loss: 0.3469 - val_loss: 0.4001\nEpoch 59/100\n363/363 [==============================] - 1s 2ms/step - loss: 0.3474 - val_loss: 0.3264\nEpoch 60/100\n363/363 [==============================] - 1s 2ms/step - loss: 0.3465 - val_loss: 0.3271\nEpoch 61/100\n363/363 [==============================] - 1s 2ms/step - loss: 0.3452 - val_loss: 0.3350\nEpoch 62/100\n363/363 [==============================] - 1s 1ms/step - loss: 0.3453 - val_loss: 0.3489\nEpoch 63/100\n363/363 [==============================] - 1s 2ms/step - loss: 0.3444 - val_loss: 0.3398\nEpoch 64/100\n363/363 [==============================] - 1s 2ms/step - loss: 0.3450 - val_loss: 0.3273\nEpoch 65/100\n363/363 [==============================] - 1s 2ms/step - loss: 0.3437 - val_loss: 0.3296\nEpoch 66/100\n363/363 [==============================] - 1s 2ms/step - loss: 0.3431 - val_loss: 0.3307\nEpoch 67/100\n363/363 [==============================] - 1s 1ms/step - loss: 0.3428 - val_loss: 0.3251\nEpoch 68/100\n363/363 [==============================] - 1s 2ms/step - loss: 0.3423 - val_loss: 0.3242\nEpoch 69/100\n363/363 [==============================] - 1s 1ms/step - loss: 0.3419 - val_loss: 0.3253\nEpoch 70/100\n363/363 [==============================] - 1s 1ms/step - loss: 0.3412 - val_loss: 0.3661\nEpoch 71/100\n363/363 [==============================] - 1s 2ms/step - loss: 0.3413 - val_loss: 0.3378\nEpoch 72/100\n363/363 [==============================] - 1s 2ms/step - loss: 0.3405 - val_loss: 0.3271\nEpoch 73/100\n363/363 [==============================] - 1s 1ms/step - loss: 0.3399 - val_loss: 0.3242\nEpoch 74/100\n363/363 [==============================] - 1s 2ms/step - loss: 0.3402 - val_loss: 0.3664\nEpoch 75/100\n363/363 [==============================] - 1s 2ms/step - loss: 0.3397 - val_loss: 0.3284\nEpoch 76/100\n363/363 [==============================] - 1s 1ms/step - loss: 0.3395 - val_loss: 0.3242\nEpoch 77/100\n363/363 [==============================] - 1s 2ms/step - loss: 0.3383 - val_loss: 0.3375\nEpoch 78/100\n363/363 [==============================] - 1s 2ms/step - loss: 0.3384 - val_loss: 0.3365\n",
     "output_type": "stream"
    },
    {
     "output_type": "execute_result",
     "execution_count": 95,
     "data": {
      "text/plain": "<keras.callbacks.History at 0x7f3b26df75b0>"
     },
     "metadata": {}
    }
   ]
  },
  {
   "cell_type": "code",
   "metadata": {
    "cell_id": "00129-0ca2a339-c07d-4623-9493-35d6a935c86c",
    "deepnote_to_be_reexecuted": false,
    "source_hash": "a8cd03ed",
    "execution_start": 1659186894806,
    "execution_millis": 768,
    "deepnote_cell_type": "code",
    "deepnote_cell_height": 107.1875
   },
   "source": "mse_test = keras_reg.score(X_test, y_test)",
   "execution_count": null,
   "outputs": [
    {
     "name": "stdout",
     "text": "162/162 [==============================] - 0s 1ms/step - loss: 0.3411\n",
     "output_type": "stream"
    }
   ]
  },
  {
   "cell_type": "code",
   "metadata": {
    "cell_id": "00130-3d7188e9-0c58-418a-9b15-67c226694bd2",
    "deepnote_to_be_reexecuted": false,
    "source_hash": "853a8b98",
    "execution_start": 1659186895047,
    "execution_millis": 528,
    "deepnote_cell_type": "code",
    "deepnote_cell_height": 107.1875
   },
   "source": "y_pred = keras_reg.predict(X_new)",
   "execution_count": null,
   "outputs": [
    {
     "name": "stdout",
     "text": "1/1 [==============================] - 0s 41ms/step\n",
     "output_type": "stream"
    }
   ]
  },
  {
   "cell_type": "code",
   "metadata": {
    "cell_id": "00131-52f54252-8eb1-44ed-8fa1-b7a93a028622",
    "deepnote_to_be_reexecuted": false,
    "source_hash": "8905d08a",
    "execution_start": 1659186895118,
    "execution_millis": 3,
    "deepnote_cell_type": "code",
    "deepnote_cell_height": 94
   },
   "source": "np.random.seed(42)\ntf.random.set_seed(42)",
   "execution_count": null,
   "outputs": []
  },
  {
   "cell_type": "markdown",
   "source": "**Warning**: the following cell crashes at the end of training. This seems to be caused by [Keras issue #13586](https://github.com/keras-team/keras/issues/13586), which was triggered by a recent change in Scikit-Learn. [Pull Request #13598](https://github.com/keras-team/keras/pull/13598) seems to fix the issue, so this problem should be resolved soon. In the meantime, I've added `.tolist()` and `.rvs(1000).tolist()` as workarounds.",
   "metadata": {
    "cell_id": "00132-2cfcb821-17aa-4d11-af63-dc6fd7248bc4",
    "deepnote_cell_type": "markdown",
    "deepnote_cell_height": 97.171875
   }
  },
  {
   "cell_type": "code",
   "metadata": {
    "cell_id": "00133-44731e85-23cd-46a3-874a-c74d89cf12cb",
    "deepnote_to_be_reexecuted": false,
    "source_hash": "ecb7905b",
    "execution_start": 1659186895129,
    "execution_millis": 716981,
    "deepnote_cell_type": "code",
    "deepnote_cell_height": 1036.328125,
    "deepnote_output_heights": [
     null,
     93.328125
    ]
   },
   "source": "from scipy.stats import reciprocal\nfrom sklearn.model_selection import RandomizedSearchCV\n\nparam_distribs = {\n    \"n_hidden\": [0, 1, 2, 3],\n    \"n_neurons\": np.arange(1, 100).tolist(),\n    \"learning_rate\": reciprocal(3e-4, 3e-2).rvs(1000).tolist(),\n}\n\nrnd_search_cv = RandomizedSearchCV(keras_reg, param_distribs, n_iter=10, cv=3, verbose=2)\nrnd_search_cv.fit(X_train, y_train, epochs=100,\n                  validation_data=(X_valid, y_valid),\n                  callbacks=[keras.callbacks.EarlyStopping(patience=10)])",
   "execution_count": null,
   "outputs": [
    {
     "name": "stdout",
     "text": "[CV] END learning_rate=0.0020587676114196545, n_hidden=1, n_neurons=49; total time=   5.5s\nEpoch 1/100\n242/242 [==============================] - 1s 2ms/step - loss: 1.7445 - val_loss: 2.5834\nEpoch 2/100\n242/242 [==============================] - 0s 2ms/step - loss: 0.7268 - val_loss: 3.5564\nEpoch 3/100\n242/242 [==============================] - 0s 2ms/step - loss: 0.6419 - val_loss: 1.7895\nEpoch 4/100\n242/242 [==============================] - 0s 2ms/step - loss: 0.6134 - val_loss: 1.7436\nEpoch 5/100\n242/242 [==============================] - 0s 2ms/step - loss: 0.5564 - val_loss: 0.6344\nEpoch 6/100\n242/242 [==============================] - 0s 2ms/step - loss: 0.5303 - val_loss: 0.8713\nEpoch 7/100\n242/242 [==============================] - 0s 2ms/step - loss: 0.5070 - val_loss: 0.5604\nEpoch 8/100\n242/242 [==============================] - 0s 2ms/step - loss: 0.4919 - val_loss: 0.4695\nEpoch 9/100\n242/242 [==============================] - 0s 2ms/step - loss: 0.4759 - val_loss: 0.4942\nEpoch 10/100\n242/242 [==============================] - 0s 2ms/step - loss: 0.4659 - val_loss: 0.4375\nEpoch 11/100\n242/242 [==============================] - 1s 2ms/step - loss: 0.4561 - val_loss: 0.4536\nEpoch 12/100\n242/242 [==============================] - 0s 2ms/step - loss: 0.4481 - val_loss: 0.4276\nEpoch 13/100\n242/242 [==============================] - 0s 2ms/step - loss: 0.4408 - val_loss: 0.4084\nEpoch 14/100\n242/242 [==============================] - 0s 2ms/step - loss: 0.4354 - val_loss: 0.4897\nEpoch 15/100\n242/242 [==============================] - 0s 2ms/step - loss: 0.4300 - val_loss: 0.4018\nEpoch 16/100\n242/242 [==============================] - 0s 2ms/step - loss: 0.4246 - val_loss: 0.5505\nEpoch 17/100\n242/242 [==============================] - 0s 2ms/step - loss: 0.4211 - val_loss: 0.4602\nEpoch 18/100\n242/242 [==============================] - 0s 2ms/step - loss: 0.4171 - val_loss: 0.4347\nEpoch 19/100\n242/242 [==============================] - 0s 2ms/step - loss: 0.4132 - val_loss: 0.3835\nEpoch 20/100\n242/242 [==============================] - 0s 2ms/step - loss: 0.4092 - val_loss: 0.4115\nEpoch 21/100\n242/242 [==============================] - 0s 2ms/step - loss: 0.4065 - val_loss: 0.3817\nEpoch 22/100\n242/242 [==============================] - 0s 2ms/step - loss: 0.4035 - val_loss: 0.3737\nEpoch 23/100\n242/242 [==============================] - 0s 2ms/step - loss: 0.4008 - val_loss: 0.3720\nEpoch 24/100\n242/242 [==============================] - 0s 2ms/step - loss: 0.3983 - val_loss: 0.4318\nEpoch 25/100\n242/242 [==============================] - 0s 2ms/step - loss: 0.3970 - val_loss: 0.4158\nEpoch 26/100\n242/242 [==============================] - 0s 2ms/step - loss: 0.3943 - val_loss: 0.3821\nEpoch 27/100\n242/242 [==============================] - 0s 2ms/step - loss: 0.3922 - val_loss: 0.4069\nEpoch 28/100\n242/242 [==============================] - 0s 2ms/step - loss: 0.3909 - val_loss: 0.4024\nEpoch 29/100\n242/242 [==============================] - 0s 2ms/step - loss: 0.3887 - val_loss: 0.5904\nEpoch 30/100\n242/242 [==============================] - 0s 2ms/step - loss: 0.3898 - val_loss: 0.4027\nEpoch 31/100\n242/242 [==============================] - 0s 2ms/step - loss: 0.3858 - val_loss: 0.4216\nEpoch 32/100\n242/242 [==============================] - 0s 2ms/step - loss: 0.3847 - val_loss: 0.3603\nEpoch 33/100\n242/242 [==============================] - 0s 2ms/step - loss: 0.3825 - val_loss: 0.4134\nEpoch 34/100\n242/242 [==============================] - 1s 2ms/step - loss: 0.3819 - val_loss: 0.3633\nEpoch 35/100\n242/242 [==============================] - 0s 2ms/step - loss: 0.3805 - val_loss: 0.3542\nEpoch 36/100\n242/242 [==============================] - 0s 2ms/step - loss: 0.3786 - val_loss: 0.3568\nEpoch 37/100\n242/242 [==============================] - 0s 2ms/step - loss: 0.3783 - val_loss: 0.4216\nEpoch 38/100\n242/242 [==============================] - 0s 2ms/step - loss: 0.3770 - val_loss: 0.5522\nEpoch 39/100\n242/242 [==============================] - 0s 2ms/step - loss: 0.3792 - val_loss: 0.5648\nEpoch 40/100\n242/242 [==============================] - 0s 2ms/step - loss: 0.3763 - val_loss: 0.6416\nEpoch 41/100\n242/242 [==============================] - 0s 2ms/step - loss: 0.3785 - val_loss: 0.3847\nEpoch 42/100\n242/242 [==============================] - 0s 2ms/step - loss: 0.3729 - val_loss: 0.5255\nEpoch 43/100\n242/242 [==============================] - 0s 2ms/step - loss: 0.3744 - val_loss: 0.7023\nEpoch 44/100\n242/242 [==============================] - 0s 2ms/step - loss: 0.3741 - val_loss: 0.7508\nEpoch 45/100\n242/242 [==============================] - 0s 2ms/step - loss: 0.3771 - val_loss: 0.5608\n121/121 [==============================] - 0s 1ms/step - loss: 0.3745\n[CV] END learning_rate=0.0020587676114196545, n_hidden=1, n_neurons=49; total time=  20.0s\nEpoch 1/100\n242/242 [==============================] - 1s 2ms/step - loss: 1.0682 - val_loss: 6.4183\nEpoch 2/100\n242/242 [==============================] - 1s 2ms/step - loss: 0.7154 - val_loss: 16.7917\nEpoch 3/100\n242/242 [==============================] - 0s 2ms/step - loss: 0.5830 - val_loss: 4.7824\nEpoch 4/100\n242/242 [==============================] - 0s 2ms/step - loss: 0.4475 - val_loss: 8.6078\nEpoch 5/100\n242/242 [==============================] - 0s 2ms/step - loss: 0.4779 - val_loss: 1.8032\nEpoch 6/100\n242/242 [==============================] - 1s 2ms/step - loss: 0.4008 - val_loss: 0.3655\nEpoch 7/100\n242/242 [==============================] - 0s 2ms/step - loss: 0.3682 - val_loss: 0.3783\nEpoch 8/100\n242/242 [==============================] - 0s 2ms/step - loss: 0.3591 - val_loss: 0.4054\nEpoch 9/100\n242/242 [==============================] - 0s 2ms/step - loss: 0.3533 - val_loss: 0.3909\nEpoch 10/100\n242/242 [==============================] - 1s 2ms/step - loss: 0.3488 - val_loss: 0.3907\nEpoch 11/100\n242/242 [==============================] - 0s 2ms/step - loss: 0.3445 - val_loss: 0.3554\nEpoch 12/100\n242/242 [==============================] - 0s 2ms/step - loss: 0.3395 - val_loss: 0.3610\nEpoch 13/100\n242/242 [==============================] - 0s 2ms/step - loss: 0.3352 - val_loss: 0.3665\nEpoch 14/100\n242/242 [==============================] - 0s 2ms/step - loss: 0.3334 - val_loss: 0.3635\nEpoch 15/100\n242/242 [==============================] - 0s 2ms/step - loss: 0.3294 - val_loss: 0.3581\nEpoch 16/100\n242/242 [==============================] - 0s 2ms/step - loss: 0.3272 - val_loss: 0.3566\nEpoch 17/100\n242/242 [==============================] - 0s 2ms/step - loss: 0.3240 - val_loss: 0.3580\nEpoch 18/100\n242/242 [==============================] - 0s 2ms/step - loss: 0.3224 - val_loss: 0.3481\nEpoch 19/100\n242/242 [==============================] - 0s 2ms/step - loss: 0.3187 - val_loss: 0.3540\nEpoch 20/100\n242/242 [==============================] - 0s 2ms/step - loss: 0.3166 - val_loss: 0.3415\nEpoch 21/100\n242/242 [==============================] - 0s 2ms/step - loss: 0.3148 - val_loss: 0.3362\nEpoch 22/100\n242/242 [==============================] - 0s 2ms/step - loss: 0.3122 - val_loss: 0.3555\nEpoch 23/100\n242/242 [==============================] - 0s 2ms/step - loss: 0.3099 - val_loss: 0.3351\nEpoch 24/100\n242/242 [==============================] - 1s 2ms/step - loss: 0.3094 - val_loss: 0.3081\nEpoch 25/100\n242/242 [==============================] - 0s 2ms/step - loss: 0.3047 - val_loss: 0.3495\nEpoch 26/100\n242/242 [==============================] - 0s 2ms/step - loss: 0.3032 - val_loss: 0.3064\nEpoch 27/100\n242/242 [==============================] - 1s 2ms/step - loss: 0.3026 - val_loss: 0.3311\nEpoch 28/100\n242/242 [==============================] - 0s 2ms/step - loss: 0.3019 - val_loss: 0.3436\nEpoch 29/100\n242/242 [==============================] - 0s 2ms/step - loss: 0.2984 - val_loss: 0.3358\nEpoch 30/100\n242/242 [==============================] - 0s 2ms/step - loss: 0.2963 - val_loss: 0.2964\nEpoch 31/100\n242/242 [==============================] - 1s 2ms/step - loss: 0.2953 - val_loss: 0.3071\nEpoch 32/100\n242/242 [==============================] - 0s 2ms/step - loss: 0.2934 - val_loss: 0.2941\nEpoch 33/100\n242/242 [==============================] - 0s 2ms/step - loss: 0.2909 - val_loss: 0.3172\nEpoch 34/100\n242/242 [==============================] - 0s 2ms/step - loss: 0.2889 - val_loss: 0.3220\nEpoch 35/100\n242/242 [==============================] - 0s 2ms/step - loss: 0.2878 - val_loss: 0.2902\nEpoch 36/100\n242/242 [==============================] - 0s 2ms/step - loss: 0.2865 - val_loss: 0.3640\nEpoch 37/100\n242/242 [==============================] - 0s 2ms/step - loss: 0.2859 - val_loss: 0.3461\nEpoch 38/100\n242/242 [==============================] - 0s 2ms/step - loss: 0.2855 - val_loss: 0.3547\nEpoch 39/100\n242/242 [==============================] - 0s 2ms/step - loss: 0.2838 - val_loss: 0.2935\nEpoch 40/100\n242/242 [==============================] - 0s 2ms/step - loss: 0.2820 - val_loss: 0.3328\nEpoch 41/100\n242/242 [==============================] - 0s 2ms/step - loss: 0.2808 - val_loss: 0.2871\nEpoch 42/100\n242/242 [==============================] - 0s 2ms/step - loss: 0.2796 - val_loss: 0.2931\nEpoch 43/100\n242/242 [==============================] - 0s 2ms/step - loss: 0.2789 - val_loss: 0.2863\nEpoch 44/100\n242/242 [==============================] - 0s 2ms/step - loss: 0.2766 - val_loss: 0.3160\nEpoch 45/100\n242/242 [==============================] - 0s 2ms/step - loss: 0.2767 - val_loss: 0.3112\nEpoch 46/100\n242/242 [==============================] - 0s 2ms/step - loss: 0.2755 - val_loss: 0.3287\nEpoch 47/100\n242/242 [==============================] - 0s 2ms/step - loss: 0.2736 - val_loss: 0.2909\nEpoch 48/100\n242/242 [==============================] - 1s 2ms/step - loss: 0.2733 - val_loss: 0.2857\nEpoch 49/100\n242/242 [==============================] - 0s 2ms/step - loss: 0.2709 - val_loss: 0.2870\nEpoch 50/100\n242/242 [==============================] - 0s 2ms/step - loss: 0.2712 - val_loss: 0.3483\nEpoch 51/100\n242/242 [==============================] - 0s 2ms/step - loss: 0.2696 - val_loss: 0.3198\nEpoch 52/100\n242/242 [==============================] - 1s 2ms/step - loss: 0.2685 - val_loss: 0.3309\nEpoch 53/100\n242/242 [==============================] - 0s 2ms/step - loss: 0.2680 - val_loss: 0.2791\nEpoch 54/100\n242/242 [==============================] - 0s 2ms/step - loss: 0.2663 - val_loss: 0.2888\nEpoch 55/100\n242/242 [==============================] - 0s 2ms/step - loss: 0.2650 - val_loss: 0.2911\nEpoch 56/100\n242/242 [==============================] - 0s 2ms/step - loss: 0.2653 - val_loss: 0.2880\nEpoch 57/100\n242/242 [==============================] - 0s 2ms/step - loss: 0.2636 - val_loss: 0.2979\nEpoch 58/100\n242/242 [==============================] - 0s 2ms/step - loss: 0.2638 - val_loss: 0.2780\nEpoch 59/100\n242/242 [==============================] - 0s 2ms/step - loss: 0.2629 - val_loss: 0.2879\nEpoch 60/100\n242/242 [==============================] - 0s 2ms/step - loss: 0.2607 - val_loss: 0.2777\nEpoch 61/100\n242/242 [==============================] - 0s 2ms/step - loss: 0.2619 - val_loss: 0.3540\nEpoch 62/100\n242/242 [==============================] - 0s 2ms/step - loss: 0.2611 - val_loss: 0.2796\nEpoch 63/100\n242/242 [==============================] - 0s 2ms/step - loss: 0.2599 - val_loss: 0.3687\nEpoch 64/100\n242/242 [==============================] - 0s 2ms/step - loss: 0.2604 - val_loss: 0.2725\nEpoch 65/100\n242/242 [==============================] - 0s 2ms/step - loss: 0.2575 - val_loss: 0.3111\nEpoch 66/100\n242/242 [==============================] - 0s 2ms/step - loss: 0.2586 - val_loss: 0.3697\nEpoch 67/100\n242/242 [==============================] - 0s 2ms/step - loss: 0.2600 - val_loss: 0.6054\nEpoch 68/100\n242/242 [==============================] - 0s 2ms/step - loss: 0.2603 - val_loss: 0.3292\nEpoch 69/100\n242/242 [==============================] - 1s 2ms/step - loss: 0.2587 - val_loss: 0.4400\nEpoch 70/100\n242/242 [==============================] - 0s 2ms/step - loss: 0.2582 - val_loss: 0.3052\nEpoch 71/100\n242/242 [==============================] - 0s 2ms/step - loss: 0.2576 - val_loss: 0.3678\nEpoch 72/100\n242/242 [==============================] - 0s 2ms/step - loss: 0.2560 - val_loss: 0.2706\nEpoch 73/100\n242/242 [==============================] - 1s 2ms/step - loss: 0.2540 - val_loss: 0.3026\nEpoch 74/100\n242/242 [==============================] - 0s 2ms/step - loss: 0.2529 - val_loss: 0.2902\nEpoch 75/100\n242/242 [==============================] - 0s 2ms/step - loss: 0.2529 - val_loss: 0.2898\nEpoch 76/100\n242/242 [==============================] - 0s 2ms/step - loss: 0.2517 - val_loss: 0.2819\nEpoch 77/100\n242/242 [==============================] - 0s 2ms/step - loss: 0.2532 - val_loss: 0.2768\nEpoch 78/100\n242/242 [==============================] - 0s 2ms/step - loss: 0.2517 - val_loss: 0.2968\nEpoch 79/100\n242/242 [==============================] - 0s 2ms/step - loss: 0.2516 - val_loss: 0.2747\nEpoch 80/100\n242/242 [==============================] - 0s 2ms/step - loss: 0.2510 - val_loss: 0.3076\nEpoch 81/100\n242/242 [==============================] - 0s 2ms/step - loss: 0.2498 - val_loss: 0.2699\nEpoch 82/100\n242/242 [==============================] - 0s 2ms/step - loss: 0.2503 - val_loss: 0.3005\nEpoch 83/100\n242/242 [==============================] - 0s 2ms/step - loss: 0.2485 - val_loss: 0.2661\nEpoch 84/100\n242/242 [==============================] - 0s 2ms/step - loss: 0.2486 - val_loss: 0.3072\nEpoch 85/100\n242/242 [==============================] - 0s 2ms/step - loss: 0.2495 - val_loss: 0.2743\nEpoch 86/100\n242/242 [==============================] - 0s 2ms/step - loss: 0.2466 - val_loss: 0.2968\nEpoch 87/100\n242/242 [==============================] - 0s 2ms/step - loss: 0.2460 - val_loss: 0.2698\nEpoch 88/100\n242/242 [==============================] - 0s 2ms/step - loss: 0.2469 - val_loss: 0.2919\nEpoch 89/100\n242/242 [==============================] - 0s 2ms/step - loss: 0.2452 - val_loss: 0.3179\nEpoch 90/100\n242/242 [==============================] - 1s 2ms/step - loss: 0.2451 - val_loss: 0.2897\nEpoch 91/100\n242/242 [==============================] - 0s 2ms/step - loss: 0.2470 - val_loss: 0.2693\nEpoch 92/100\n242/242 [==============================] - 0s 2ms/step - loss: 0.2448 - val_loss: 0.3358\nEpoch 93/100\n242/242 [==============================] - 0s 2ms/step - loss: 0.2454 - val_loss: 0.2735\n121/121 [==============================] - 0s 1ms/step - loss: 0.3005\n[CV] END learning_rate=0.005803602934201024, n_hidden=3, n_neurons=74; total time=  45.0s\nEpoch 1/100\n242/242 [==============================] - 1s 2ms/step - loss: 0.8717 - val_loss: 0.7369\nEpoch 2/100\n242/242 [==============================] - 1s 2ms/step - loss: 0.5007 - val_loss: 0.4431\nEpoch 3/100\n242/242 [==============================] - 1s 3ms/step - loss: 0.4272 - val_loss: 0.3919\nEpoch 4/100\n242/242 [==============================] - 1s 4ms/step - loss: 0.3961 - val_loss: 0.3834\nEpoch 5/100\n242/242 [==============================] - 1s 4ms/step - loss: 0.3777 - val_loss: 0.3951\nEpoch 6/100\n242/242 [==============================] - 1s 4ms/step - loss: 0.3661 - val_loss: 0.4649\nEpoch 7/100\n242/242 [==============================] - 1s 4ms/step - loss: 0.3580 - val_loss: 0.6408\nEpoch 8/100\n242/242 [==============================] - 1s 4ms/step - loss: 0.3524 - val_loss: 0.7273\nEpoch 9/100\n242/242 [==============================] - 1s 4ms/step - loss: 0.3462 - val_loss: 0.9104\nEpoch 10/100\n242/242 [==============================] - 1s 4ms/step - loss: 0.3421 - val_loss: 0.6969\nEpoch 11/100\n242/242 [==============================] - 1s 3ms/step - loss: 0.3364 - val_loss: 0.6999\nEpoch 12/100\n242/242 [==============================] - 1s 4ms/step - loss: 0.3327 - val_loss: 0.7835\nEpoch 13/100\n242/242 [==============================] - 1s 4ms/step - loss: 0.3292 - val_loss: 0.8539\nEpoch 14/100\n242/242 [==============================] - 1s 4ms/step - loss: 0.3277 - val_loss: 0.8282\n121/121 [==============================] - 0s 2ms/step - loss: 0.3525\n[CV] END learning_rate=0.005803602934201024, n_hidden=3, n_neurons=74; total time=  21.2s\nEpoch 1/100\n242/242 [==============================] - 1s 3ms/step - loss: 0.9177 - val_loss: 0.9196\nEpoch 2/100\n242/242 [==============================] - 1s 3ms/step - loss: 0.4767 - val_loss: 2.1025\nEpoch 3/100\n242/242 [==============================] - 0s 2ms/step - loss: 0.4329 - val_loss: 3.5511\nEpoch 4/100\n242/242 [==============================] - 0s 2ms/step - loss: 0.4408 - val_loss: 1.5867\nEpoch 5/100\n242/242 [==============================] - 0s 2ms/step - loss: 0.3910 - val_loss: 0.4227\nEpoch 6/100\n242/242 [==============================] - 0s 2ms/step - loss: 0.3715 - val_loss: 0.3738\nEpoch 7/100\n242/242 [==============================] - 0s 2ms/step - loss: 0.3634 - val_loss: 0.3350\nEpoch 8/100\n242/242 [==============================] - 0s 2ms/step - loss: 0.3569 - val_loss: 0.3384\nEpoch 9/100\n242/242 [==============================] - 0s 2ms/step - loss: 0.3518 - val_loss: 0.3720\nEpoch 10/100\n242/242 [==============================] - 0s 2ms/step - loss: 0.3514 - val_loss: 0.3276\nEpoch 11/100\n242/242 [==============================] - 0s 2ms/step - loss: 0.3456 - val_loss: 0.3971\nEpoch 12/100\n242/242 [==============================] - 1s 2ms/step - loss: 0.3420 - val_loss: 0.3329\nEpoch 13/100\n242/242 [==============================] - 1s 2ms/step - loss: 0.3373 - val_loss: 0.3227\nEpoch 14/100\n242/242 [==============================] - 0s 2ms/step - loss: 0.3347 - val_loss: 0.3675\nEpoch 15/100\n242/242 [==============================] - 0s 2ms/step - loss: 0.3324 - val_loss: 0.3209\nEpoch 16/100\n242/242 [==============================] - 1s 3ms/step - loss: 0.3294 - val_loss: 0.3560\nEpoch 17/100\n242/242 [==============================] - 0s 2ms/step - loss: 0.3269 - val_loss: 0.3215\nEpoch 18/100\n242/242 [==============================] - 0s 2ms/step - loss: 0.3243 - val_loss: 0.3555\nEpoch 19/100\n242/242 [==============================] - 0s 2ms/step - loss: 0.3224 - val_loss: 0.3386\nEpoch 20/100\n242/242 [==============================] - 0s 2ms/step - loss: 0.3193 - val_loss: 0.3563\nEpoch 21/100\n242/242 [==============================] - 0s 2ms/step - loss: 0.3181 - val_loss: 0.3165\nEpoch 22/100\n242/242 [==============================] - 0s 2ms/step - loss: 0.3156 - val_loss: 0.3194\nEpoch 23/100\n242/242 [==============================] - 0s 2ms/step - loss: 0.3132 - val_loss: 0.3725\nEpoch 24/100\n242/242 [==============================] - 0s 2ms/step - loss: 0.3118 - val_loss: 0.3028\nEpoch 25/100\n242/242 [==============================] - 0s 2ms/step - loss: 0.3100 - val_loss: 0.3214\nEpoch 26/100\n242/242 [==============================] - 0s 2ms/step - loss: 0.3071 - val_loss: 0.3261\nEpoch 27/100\n242/242 [==============================] - 0s 2ms/step - loss: 0.3055 - val_loss: 0.3141\nEpoch 28/100\n242/242 [==============================] - 0s 2ms/step - loss: 0.3046 - val_loss: 0.3434\nEpoch 29/100\n242/242 [==============================] - 0s 2ms/step - loss: 0.3060 - val_loss: 0.4403\nEpoch 30/100\n242/242 [==============================] - 0s 2ms/step - loss: 0.3045 - val_loss: 0.3030\nEpoch 31/100\n242/242 [==============================] - 0s 2ms/step - loss: 0.3000 - val_loss: 0.3273\nEpoch 32/100\n242/242 [==============================] - 0s 2ms/step - loss: 0.2978 - val_loss: 0.3051\nEpoch 33/100\n242/242 [==============================] - 0s 2ms/step - loss: 0.2982 - val_loss: 0.3385\nEpoch 34/100\n242/242 [==============================] - 1s 2ms/step - loss: 0.2972 - val_loss: 0.2970\nEpoch 35/100\n242/242 [==============================] - 0s 2ms/step - loss: 0.2934 - val_loss: 0.2939\nEpoch 36/100\n242/242 [==============================] - 0s 2ms/step - loss: 0.2909 - val_loss: 0.3894\nEpoch 37/100\n242/242 [==============================] - 1s 2ms/step - loss: 0.2907 - val_loss: 0.3670\nEpoch 38/100\n242/242 [==============================] - 1s 2ms/step - loss: 0.2937 - val_loss: 0.4261\nEpoch 39/100\n242/242 [==============================] - 1s 3ms/step - loss: 0.2921 - val_loss: 0.3230\nEpoch 40/100\n242/242 [==============================] - 1s 4ms/step - loss: 0.2913 - val_loss: 0.3934\nEpoch 41/100\n242/242 [==============================] - 1s 4ms/step - loss: 0.2874 - val_loss: 0.3208\nEpoch 42/100\n242/242 [==============================] - 0s 2ms/step - loss: 0.2859 - val_loss: 0.3375\nEpoch 43/100\n242/242 [==============================] - 0s 2ms/step - loss: 0.2874 - val_loss: 0.2842\nEpoch 44/100\n242/242 [==============================] - 0s 2ms/step - loss: 0.2839 - val_loss: 0.3527\nEpoch 45/100\n242/242 [==============================] - 0s 2ms/step - loss: 0.2847 - val_loss: 0.3067\nEpoch 46/100\n242/242 [==============================] - 0s 2ms/step - loss: 0.2818 - val_loss: 0.3564\nEpoch 47/100\n242/242 [==============================] - 0s 2ms/step - loss: 0.2806 - val_loss: 0.2940\nEpoch 48/100\n242/242 [==============================] - 0s 2ms/step - loss: 0.2804 - val_loss: 0.2865\nEpoch 49/100\n242/242 [==============================] - 0s 2ms/step - loss: 0.2795 - val_loss: 0.3518\nEpoch 50/100\n242/242 [==============================] - 0s 2ms/step - loss: 0.2784 - val_loss: 0.2951\nEpoch 51/100\n242/242 [==============================] - 0s 2ms/step - loss: 0.2774 - val_loss: 0.3477\nEpoch 52/100\n242/242 [==============================] - 1s 2ms/step - loss: 0.2767 - val_loss: 0.2899\nEpoch 53/100\n242/242 [==============================] - 0s 2ms/step - loss: 0.2761 - val_loss: 0.3003\n121/121 [==============================] - 0s 1ms/step - loss: 0.3003\n[CV] END learning_rate=0.005803602934201024, n_hidden=3, n_neurons=74; total time=  41.8s\nEpoch 1/100\n242/242 [==============================] - 1s 3ms/step - loss: 0.9615 - val_loss: 10.9251\nEpoch 2/100\n242/242 [==============================] - 0s 2ms/step - loss: 0.5921 - val_loss: 3.3912\nEpoch 3/100\n242/242 [==============================] - 0s 2ms/step - loss: 0.4539 - val_loss: 0.4039\nEpoch 4/100\n242/242 [==============================] - 0s 2ms/step - loss: 0.3914 - val_loss: 0.3692\nEpoch 5/100\n242/242 [==============================] - 0s 2ms/step - loss: 0.3713 - val_loss: 0.3555\nEpoch 6/100\n242/242 [==============================] - 0s 2ms/step - loss: 0.3601 - val_loss: 0.3875\nEpoch 7/100\n242/242 [==============================] - 0s 2ms/step - loss: 0.3523 - val_loss: 0.3633\nEpoch 8/100\n242/242 [==============================] - 0s 2ms/step - loss: 0.3454 - val_loss: 0.3991\nEpoch 9/100\n242/242 [==============================] - 0s 2ms/step - loss: 0.3411 - val_loss: 0.3797\nEpoch 10/100\n242/242 [==============================] - 1s 2ms/step - loss: 0.3382 - val_loss: 0.3703\nEpoch 11/100\n242/242 [==============================] - 0s 2ms/step - loss: 0.3351 - val_loss: 0.3310\nEpoch 12/100\n242/242 [==============================] - 1s 2ms/step - loss: 0.3304 - val_loss: 0.3511\nEpoch 13/100\n242/242 [==============================] - 0s 2ms/step - loss: 0.3269 - val_loss: 0.3793\nEpoch 14/100\n242/242 [==============================] - 1s 2ms/step - loss: 0.3261 - val_loss: 0.3316\nEpoch 15/100\n242/242 [==============================] - 0s 2ms/step - loss: 0.3217 - val_loss: 0.3488\nEpoch 16/100\n242/242 [==============================] - 0s 2ms/step - loss: 0.3194 - val_loss: 0.3472\nEpoch 17/100\n242/242 [==============================] - 0s 2ms/step - loss: 0.3172 - val_loss: 0.3264\nEpoch 18/100\n242/242 [==============================] - 0s 2ms/step - loss: 0.3157 - val_loss: 0.3422\nEpoch 19/100\n242/242 [==============================] - 0s 2ms/step - loss: 0.3123 - val_loss: 0.3366\nEpoch 20/100\n242/242 [==============================] - 0s 2ms/step - loss: 0.3108 - val_loss: 0.3223\nEpoch 21/100\n242/242 [==============================] - 0s 2ms/step - loss: 0.3085 - val_loss: 0.4004\nEpoch 22/100\n242/242 [==============================] - 0s 2ms/step - loss: 0.3087 - val_loss: 0.3110\nEpoch 23/100\n242/242 [==============================] - 0s 2ms/step - loss: 0.3050 - val_loss: 0.3629\nEpoch 24/100\n242/242 [==============================] - 0s 2ms/step - loss: 0.3068 - val_loss: 0.3638\nEpoch 25/100\n242/242 [==============================] - 0s 2ms/step - loss: 0.3030 - val_loss: 0.3312\nEpoch 26/100\n242/242 [==============================] - 0s 2ms/step - loss: 0.2990 - val_loss: 0.3076\nEpoch 27/100\n242/242 [==============================] - 0s 2ms/step - loss: 0.2981 - val_loss: 0.3395\nEpoch 28/100\n242/242 [==============================] - 0s 2ms/step - loss: 0.2973 - val_loss: 0.3367\nEpoch 29/100\n242/242 [==============================] - 0s 2ms/step - loss: 0.2943 - val_loss: 0.3433\nEpoch 30/100\n242/242 [==============================] - 0s 2ms/step - loss: 0.2922 - val_loss: 0.3107\nEpoch 31/100\n242/242 [==============================] - 1s 2ms/step - loss: 0.2920 - val_loss: 0.3300\nEpoch 32/100\n242/242 [==============================] - 0s 2ms/step - loss: 0.2900 - val_loss: 0.2955\nEpoch 33/100\n242/242 [==============================] - 0s 2ms/step - loss: 0.2881 - val_loss: 0.3283\nEpoch 34/100\n242/242 [==============================] - 0s 2ms/step - loss: 0.2855 - val_loss: 0.3040\nEpoch 35/100\n242/242 [==============================] - 1s 2ms/step - loss: 0.2841 - val_loss: 0.2912\nEpoch 36/100\n242/242 [==============================] - 0s 2ms/step - loss: 0.2831 - val_loss: 0.3502\nEpoch 37/100\n242/242 [==============================] - 0s 2ms/step - loss: 0.2830 - val_loss: 0.3753\nEpoch 38/100\n242/242 [==============================] - 0s 2ms/step - loss: 0.2856 - val_loss: 0.3571\nEpoch 39/100\n242/242 [==============================] - 0s 2ms/step - loss: 0.2821 - val_loss: 0.3035\nEpoch 40/100\n242/242 [==============================] - 0s 2ms/step - loss: 0.2800 - val_loss: 0.3377\nEpoch 41/100\n242/242 [==============================] - 0s 2ms/step - loss: 0.2784 - val_loss: 0.2931\nEpoch 42/100\n242/242 [==============================] - 0s 2ms/step - loss: 0.2767 - val_loss: 0.3050\nEpoch 43/100\n242/242 [==============================] - 0s 2ms/step - loss: 0.2762 - val_loss: 0.2960\nEpoch 44/100\n242/242 [==============================] - 0s 2ms/step - loss: 0.2742 - val_loss: 0.3425\nEpoch 45/100\n242/242 [==============================] - 0s 2ms/step - loss: 0.2760 - val_loss: 0.2857\nEpoch 46/100\n242/242 [==============================] - 0s 2ms/step - loss: 0.2747 - val_loss: 0.3202\nEpoch 47/100\n242/242 [==============================] - 0s 2ms/step - loss: 0.2724 - val_loss: 0.3137\nEpoch 48/100\n242/242 [==============================] - 0s 2ms/step - loss: 0.2716 - val_loss: 0.3078\nEpoch 49/100\n242/242 [==============================] - 1s 2ms/step - loss: 0.2700 - val_loss: 0.2757\nEpoch 50/100\n242/242 [==============================] - 0s 2ms/step - loss: 0.2701 - val_loss: 0.3335\nEpoch 51/100\n242/242 [==============================] - 0s 2ms/step - loss: 0.2686 - val_loss: 0.3330\nEpoch 52/100\n242/242 [==============================] - 1s 2ms/step - loss: 0.2664 - val_loss: 0.3651\nEpoch 53/100\n242/242 [==============================] - 0s 2ms/step - loss: 0.2679 - val_loss: 0.2800\nEpoch 54/100\n242/242 [==============================] - 0s 2ms/step - loss: 0.2651 - val_loss: 0.3159\nEpoch 55/100\n242/242 [==============================] - 0s 2ms/step - loss: 0.2640 - val_loss: 0.2924\nEpoch 56/100\n242/242 [==============================] - 1s 2ms/step - loss: 0.2642 - val_loss: 0.3006\nEpoch 57/100\n242/242 [==============================] - 0s 2ms/step - loss: 0.2626 - val_loss: 0.3504\nEpoch 58/100\n242/242 [==============================] - 0s 2ms/step - loss: 0.2642 - val_loss: 0.2772\nEpoch 59/100\n242/242 [==============================] - 0s 2ms/step - loss: 0.2627 - val_loss: 0.3071\n121/121 [==============================] - 0s 1ms/step - loss: 0.3018\n[CV] END learning_rate=0.0059640580092043885, n_hidden=3, n_neurons=80; total time=  29.0s\nEpoch 1/100\n242/242 [==============================] - 1s 2ms/step - loss: 0.8381 - val_loss: 0.6551\nEpoch 2/100\n242/242 [==============================] - 0s 2ms/step - loss: 0.4570 - val_loss: 0.4129\nEpoch 3/100\n242/242 [==============================] - 0s 2ms/step - loss: 0.4107 - val_loss: 0.6096\nEpoch 4/100\n242/242 [==============================] - 0s 2ms/step - loss: 0.3911 - val_loss: 0.6534\nEpoch 5/100\n242/242 [==============================] - 0s 2ms/step - loss: 0.3755 - val_loss: 0.6227\nEpoch 6/100\n242/242 [==============================] - 0s 2ms/step - loss: 0.3647 - val_loss: 0.8404\nEpoch 7/100\n242/242 [==============================] - 0s 2ms/step - loss: 0.3602 - val_loss: 1.0610\nEpoch 8/100\n242/242 [==============================] - 0s 2ms/step - loss: 0.3516 - val_loss: 1.1319\nEpoch 9/100\n242/242 [==============================] - 0s 2ms/step - loss: 0.3456 - val_loss: 1.2348\nEpoch 10/100\n242/242 [==============================] - 1s 2ms/step - loss: 0.3425 - val_loss: 0.7924\nEpoch 11/100\n242/242 [==============================] - 0s 2ms/step - loss: 0.3374 - val_loss: 0.8270\nEpoch 12/100\n242/242 [==============================] - 0s 2ms/step - loss: 0.3338 - val_loss: 0.7641\n121/121 [==============================] - 0s 1ms/step - loss: 0.3593\n[CV] END learning_rate=0.0059640580092043885, n_hidden=3, n_neurons=80; total time=  10.8s\nEpoch 1/100\n242/242 [==============================] - 1s 2ms/step - loss: 0.8683 - val_loss: 2.2007\nEpoch 2/100\n242/242 [==============================] - 0s 2ms/step - loss: 0.5072 - val_loss: 3.3028\nEpoch 3/100\n242/242 [==============================] - 0s 2ms/step - loss: 0.4486 - val_loss: 0.9130\nEpoch 4/100\n242/242 [==============================] - 0s 2ms/step - loss: 0.4071 - val_loss: 0.5328\nEpoch 5/100\n242/242 [==============================] - 0s 2ms/step - loss: 0.3842 - val_loss: 0.3609\nEpoch 6/100\n242/242 [==============================] - 0s 2ms/step - loss: 0.3729 - val_loss: 0.4151\nEpoch 7/100\n242/242 [==============================] - 0s 2ms/step - loss: 0.3659 - val_loss: 0.3580\nEpoch 8/100\n242/242 [==============================] - 1s 2ms/step - loss: 0.3596 - val_loss: 0.3516\nEpoch 9/100\n242/242 [==============================] - 0s 2ms/step - loss: 0.3528 - val_loss: 0.3983\nEpoch 10/100\n242/242 [==============================] - 1s 2ms/step - loss: 0.3511 - val_loss: 0.3323\nEpoch 11/100\n242/242 [==============================] - 0s 2ms/step - loss: 0.3445 - val_loss: 0.4230\nEpoch 12/100\n242/242 [==============================] - 0s 2ms/step - loss: 0.3420 - val_loss: 0.3284\nEpoch 13/100\n242/242 [==============================] - 0s 2ms/step - loss: 0.3374 - val_loss: 0.3469\nEpoch 14/100\n242/242 [==============================] - 1s 3ms/step - loss: 0.3337 - val_loss: 0.4036\nEpoch 15/100\n242/242 [==============================] - 0s 2ms/step - loss: 0.3326 - val_loss: 0.3275\nEpoch 16/100\n242/242 [==============================] - 0s 2ms/step - loss: 0.3291 - val_loss: 0.3779\nEpoch 17/100\n242/242 [==============================] - 0s 2ms/step - loss: 0.3263 - val_loss: 0.3211\nEpoch 18/100\n242/242 [==============================] - 1s 3ms/step - loss: 0.3227 - val_loss: 0.3306\nEpoch 19/100\n242/242 [==============================] - 0s 2ms/step - loss: 0.3216 - val_loss: 0.3842\nEpoch 20/100\n242/242 [==============================] - 0s 2ms/step - loss: 0.3192 - val_loss: 0.3373\nEpoch 21/100\n242/242 [==============================] - 0s 2ms/step - loss: 0.3178 - val_loss: 0.3721\nEpoch 22/100\n242/242 [==============================] - 1s 3ms/step - loss: 0.3177 - val_loss: 0.3072\nEpoch 23/100\n242/242 [==============================] - 0s 2ms/step - loss: 0.3146 - val_loss: 0.3415\nEpoch 24/100\n242/242 [==============================] - 0s 2ms/step - loss: 0.3131 - val_loss: 0.3277\nEpoch 25/100\n242/242 [==============================] - 0s 2ms/step - loss: 0.3099 - val_loss: 0.3047\nEpoch 26/100\n242/242 [==============================] - 0s 2ms/step - loss: 0.3072 - val_loss: 0.3040\nEpoch 27/100\n242/242 [==============================] - 0s 2ms/step - loss: 0.3047 - val_loss: 0.4404\nEpoch 28/100\n242/242 [==============================] - 1s 2ms/step - loss: 0.3070 - val_loss: 0.3396\nEpoch 29/100\n242/242 [==============================] - 0s 2ms/step - loss: 0.3048 - val_loss: 0.3881\nEpoch 30/100\n242/242 [==============================] - 1s 3ms/step - loss: 0.3033 - val_loss: 0.3153\nEpoch 31/100\n242/242 [==============================] - 0s 2ms/step - loss: 0.2999 - val_loss: 0.3274\nEpoch 32/100\n242/242 [==============================] - 0s 2ms/step - loss: 0.2977 - val_loss: 0.3988\nEpoch 33/100\n242/242 [==============================] - 0s 2ms/step - loss: 0.2985 - val_loss: 0.3137\nEpoch 34/100\n242/242 [==============================] - 1s 2ms/step - loss: 0.2941 - val_loss: 0.3805\nEpoch 35/100\n242/242 [==============================] - 0s 2ms/step - loss: 0.3004 - val_loss: 0.3012\nEpoch 36/100\n242/242 [==============================] - 0s 2ms/step - loss: 0.2939 - val_loss: 0.3426\nEpoch 37/100\n242/242 [==============================] - 0s 2ms/step - loss: 0.2922 - val_loss: 0.2940\nEpoch 38/100\n242/242 [==============================] - 0s 2ms/step - loss: 0.2909 - val_loss: 0.3713\nEpoch 39/100\n242/242 [==============================] - 0s 2ms/step - loss: 0.2896 - val_loss: 0.2951\nEpoch 40/100\n242/242 [==============================] - 0s 2ms/step - loss: 0.2880 - val_loss: 0.3647\nEpoch 41/100\n242/242 [==============================] - 0s 2ms/step - loss: 0.2866 - val_loss: 0.3173\nEpoch 42/100\n242/242 [==============================] - 0s 2ms/step - loss: 0.2853 - val_loss: 0.3686\nEpoch 43/100\n242/242 [==============================] - 0s 2ms/step - loss: 0.2855 - val_loss: 0.2952\nEpoch 44/100\n242/242 [==============================] - 0s 2ms/step - loss: 0.2835 - val_loss: 0.3360\nEpoch 45/100\n242/242 [==============================] - 0s 2ms/step - loss: 0.2831 - val_loss: 0.3028\nEpoch 46/100\n242/242 [==============================] - 0s 2ms/step - loss: 0.2804 - val_loss: 0.3377\nEpoch 47/100\n242/242 [==============================] - 0s 2ms/step - loss: 0.2796 - val_loss: 0.2843\nEpoch 48/100\n242/242 [==============================] - 0s 2ms/step - loss: 0.2796 - val_loss: 0.2984\nEpoch 49/100\n242/242 [==============================] - 0s 2ms/step - loss: 0.2780 - val_loss: 0.3985\nEpoch 50/100\n242/242 [==============================] - 0s 2ms/step - loss: 0.2775 - val_loss: 0.3136\nEpoch 51/100\n242/242 [==============================] - 1s 2ms/step - loss: 0.2757 - val_loss: 0.4747\nEpoch 52/100\n242/242 [==============================] - 0s 2ms/step - loss: 0.2761 - val_loss: 0.2996\nEpoch 53/100\n242/242 [==============================] - 0s 2ms/step - loss: 0.2752 - val_loss: 0.2927\nEpoch 54/100\n242/242 [==============================] - 0s 2ms/step - loss: 0.2742 - val_loss: 0.3249\nEpoch 55/100\n242/242 [==============================] - 1s 3ms/step - loss: 0.2729 - val_loss: 0.2812\nEpoch 56/100\n242/242 [==============================] - 0s 2ms/step - loss: 0.2729 - val_loss: 0.3926\nEpoch 57/100\n242/242 [==============================] - 0s 2ms/step - loss: 0.2720 - val_loss: 0.2858\nEpoch 58/100\n242/242 [==============================] - 0s 2ms/step - loss: 0.2714 - val_loss: 0.4391\nEpoch 59/100\n242/242 [==============================] - 0s 2ms/step - loss: 0.2711 - val_loss: 0.2852\nEpoch 60/100\n242/242 [==============================] - 1s 2ms/step - loss: 0.2696 - val_loss: 0.3030\nEpoch 61/100\n242/242 [==============================] - 0s 2ms/step - loss: 0.2686 - val_loss: 0.2995\nEpoch 62/100\n242/242 [==============================] - 0s 2ms/step - loss: 0.2676 - val_loss: 0.3672\nEpoch 63/100\n242/242 [==============================] - 0s 2ms/step - loss: 0.2696 - val_loss: 0.3024\nEpoch 64/100\n242/242 [==============================] - 0s 2ms/step - loss: 0.2702 - val_loss: 0.3348\nEpoch 65/100\n242/242 [==============================] - 0s 2ms/step - loss: 0.2685 - val_loss: 0.3026\n121/121 [==============================] - 0s 1ms/step - loss: 0.2913\n[CV] END learning_rate=0.0059640580092043885, n_hidden=3, n_neurons=80; total time=  32.4s\nEpoch 1/100\n242/242 [==============================] - 1s 2ms/step - loss: 1.2259 - val_loss: 0.5753\nEpoch 2/100\n242/242 [==============================] - 0s 2ms/step - loss: 0.5658 - val_loss: 8.9878\nEpoch 3/100\n242/242 [==============================] - 0s 2ms/step - loss: 0.5484 - val_loss: 11.0986\nEpoch 4/100\n242/242 [==============================] - 0s 2ms/step - loss: 0.5602 - val_loss: 1.1306\nEpoch 5/100\n242/242 [==============================] - 0s 2ms/step - loss: 0.4336 - val_loss: 0.5256\nEpoch 6/100\n242/242 [==============================] - 0s 2ms/step - loss: 0.4072 - val_loss: 0.4498\nEpoch 7/100\n242/242 [==============================] - 0s 2ms/step - loss: 0.3939 - val_loss: 0.4056\nEpoch 8/100\n242/242 [==============================] - 0s 2ms/step - loss: 0.3835 - val_loss: 0.3999\nEpoch 9/100\n242/242 [==============================] - 0s 2ms/step - loss: 0.3766 - val_loss: 0.3957\nEpoch 10/100\n242/242 [==============================] - 1s 2ms/step - loss: 0.3712 - val_loss: 0.3904\nEpoch 11/100\n242/242 [==============================] - 0s 2ms/step - loss: 0.3672 - val_loss: 0.3688\nEpoch 12/100\n242/242 [==============================] - 0s 2ms/step - loss: 0.3630 - val_loss: 0.3651\nEpoch 13/100\n242/242 [==============================] - 0s 2ms/step - loss: 0.3587 - val_loss: 0.3709\nEpoch 14/100\n242/242 [==============================] - 0s 2ms/step - loss: 0.3579 - val_loss: 0.3816\nEpoch 15/100\n242/242 [==============================] - 0s 2ms/step - loss: 0.3534 - val_loss: 0.3620\nEpoch 16/100\n242/242 [==============================] - 0s 2ms/step - loss: 0.3528 - val_loss: 0.3670\nEpoch 17/100\n242/242 [==============================] - 0s 2ms/step - loss: 0.3490 - val_loss: 0.3671\nEpoch 18/100\n242/242 [==============================] - 0s 2ms/step - loss: 0.3474 - val_loss: 0.3605\nEpoch 19/100\n242/242 [==============================] - 0s 2ms/step - loss: 0.3445 - val_loss: 0.3552\nEpoch 20/100\n242/242 [==============================] - 0s 2ms/step - loss: 0.3421 - val_loss: 0.3538\nEpoch 21/100\n242/242 [==============================] - 0s 2ms/step - loss: 0.3417 - val_loss: 0.3520\nEpoch 22/100\n242/242 [==============================] - 0s 2ms/step - loss: 0.3388 - val_loss: 0.3477\nEpoch 23/100\n242/242 [==============================] - 0s 2ms/step - loss: 0.3372 - val_loss: 0.3509\nEpoch 24/100\n242/242 [==============================] - 0s 2ms/step - loss: 0.3374 - val_loss: 0.3304\nEpoch 25/100\n242/242 [==============================] - 0s 2ms/step - loss: 0.3333 - val_loss: 0.3686\nEpoch 26/100\n242/242 [==============================] - 0s 2ms/step - loss: 0.3334 - val_loss: 0.3246\nEpoch 27/100\n242/242 [==============================] - 0s 2ms/step - loss: 0.3336 - val_loss: 0.3389\nEpoch 28/100\n242/242 [==============================] - 0s 2ms/step - loss: 0.3322 - val_loss: 0.3368\nEpoch 29/100\n242/242 [==============================] - 0s 2ms/step - loss: 0.3278 - val_loss: 0.3387\nEpoch 30/100\n242/242 [==============================] - 0s 2ms/step - loss: 0.3276 - val_loss: 0.3212\nEpoch 31/100\n242/242 [==============================] - 0s 2ms/step - loss: 0.3255 - val_loss: 0.3220\nEpoch 32/100\n242/242 [==============================] - 0s 2ms/step - loss: 0.3256 - val_loss: 0.3150\nEpoch 33/100\n242/242 [==============================] - 0s 2ms/step - loss: 0.3239 - val_loss: 0.3453\nEpoch 34/100\n242/242 [==============================] - 0s 2ms/step - loss: 0.3221 - val_loss: 0.3164\nEpoch 35/100\n242/242 [==============================] - 0s 2ms/step - loss: 0.3209 - val_loss: 0.3140\nEpoch 36/100\n242/242 [==============================] - 0s 2ms/step - loss: 0.3191 - val_loss: 0.3903\nEpoch 37/100\n242/242 [==============================] - 0s 2ms/step - loss: 0.3189 - val_loss: 0.3813\nEpoch 38/100\n242/242 [==============================] - 0s 2ms/step - loss: 0.3190 - val_loss: 0.3408\nEpoch 39/100\n242/242 [==============================] - 0s 2ms/step - loss: 0.3160 - val_loss: 0.3149\nEpoch 40/100\n242/242 [==============================] - 0s 2ms/step - loss: 0.3154 - val_loss: 0.3380\nEpoch 41/100\n242/242 [==============================] - 0s 2ms/step - loss: 0.3188 - val_loss: 0.3146\nEpoch 42/100\n242/242 [==============================] - 0s 2ms/step - loss: 0.3149 - val_loss: 0.3146\nEpoch 43/100\n242/242 [==============================] - 0s 2ms/step - loss: 0.3150 - val_loss: 0.3101\nEpoch 44/100\n242/242 [==============================] - 0s 2ms/step - loss: 0.3114 - val_loss: 0.3410\nEpoch 45/100\n242/242 [==============================] - 0s 2ms/step - loss: 0.3154 - val_loss: 0.3052\nEpoch 46/100\n242/242 [==============================] - 0s 2ms/step - loss: 0.3107 - val_loss: 0.3328\nEpoch 47/100\n242/242 [==============================] - 0s 2ms/step - loss: 0.3088 - val_loss: 0.3337\nEpoch 48/100\n242/242 [==============================] - 0s 2ms/step - loss: 0.3114 - val_loss: 0.3183\nEpoch 49/100\n242/242 [==============================] - 0s 2ms/step - loss: 0.3073 - val_loss: 0.3022\nEpoch 50/100\n242/242 [==============================] - 0s 2ms/step - loss: 0.3069 - val_loss: 0.3594\nEpoch 51/100\n242/242 [==============================] - 0s 2ms/step - loss: 0.3060 - val_loss: 0.3319\nEpoch 52/100\n242/242 [==============================] - 0s 2ms/step - loss: 0.3047 - val_loss: 0.3446\nEpoch 53/100\n242/242 [==============================] - 0s 2ms/step - loss: 0.3052 - val_loss: 0.3080\nEpoch 54/100\n242/242 [==============================] - 0s 2ms/step - loss: 0.3034 - val_loss: 0.3094\nEpoch 55/100\n242/242 [==============================] - 1s 2ms/step - loss: 0.3036 - val_loss: 0.3467\nEpoch 56/100\n242/242 [==============================] - 0s 2ms/step - loss: 0.3043 - val_loss: 0.3008\nEpoch 57/100\n242/242 [==============================] - 0s 2ms/step - loss: 0.3015 - val_loss: 0.3702\nEpoch 58/100\n242/242 [==============================] - 0s 2ms/step - loss: 0.3037 - val_loss: 0.3175\nEpoch 59/100\n242/242 [==============================] - 0s 2ms/step - loss: 0.3005 - val_loss: 0.2984\nEpoch 60/100\n242/242 [==============================] - 0s 2ms/step - loss: 0.2989 - val_loss: 0.3179\nEpoch 61/100\n242/242 [==============================] - 0s 2ms/step - loss: 0.2999 - val_loss: 0.3294\nEpoch 62/100\n242/242 [==============================] - 0s 2ms/step - loss: 0.2986 - val_loss: 0.3430\nEpoch 63/100\n242/242 [==============================] - 0s 2ms/step - loss: 0.2987 - val_loss: 0.3159\nEpoch 64/100\n242/242 [==============================] - 0s 2ms/step - loss: 0.2961 - val_loss: 0.3646\nEpoch 65/100\n242/242 [==============================] - 0s 2ms/step - loss: 0.2961 - val_loss: 0.2956\nEpoch 66/100\n242/242 [==============================] - 0s 2ms/step - loss: 0.3030 - val_loss: 0.3076\nEpoch 67/100\n242/242 [==============================] - 0s 2ms/step - loss: 0.2951 - val_loss: 0.3313\nEpoch 68/100\n242/242 [==============================] - 0s 2ms/step - loss: 0.2946 - val_loss: 0.2963\nEpoch 69/100\n242/242 [==============================] - 0s 2ms/step - loss: 0.2945 - val_loss: 0.4154\nEpoch 70/100\n242/242 [==============================] - 0s 2ms/step - loss: 0.2977 - val_loss: 0.2994\nEpoch 71/100\n242/242 [==============================] - 0s 2ms/step - loss: 0.2925 - val_loss: 0.4090\nEpoch 72/100\n242/242 [==============================] - 0s 2ms/step - loss: 0.2927 - val_loss: 0.2960\nEpoch 73/100\n242/242 [==============================] - 0s 2ms/step - loss: 0.2923 - val_loss: 0.3041\nEpoch 74/100\n242/242 [==============================] - 0s 2ms/step - loss: 0.2897 - val_loss: 0.3494\nEpoch 75/100\n242/242 [==============================] - 0s 2ms/step - loss: 0.2916 - val_loss: 0.2979\n121/121 [==============================] - 0s 1ms/step - loss: 0.3269\n[CV] END learning_rate=0.004591455636549438, n_hidden=2, n_neurons=59; total time=  34.4s\nEpoch 1/100\n242/242 [==============================] - 1s 2ms/step - loss: 1.1975 - val_loss: 0.8898\nEpoch 2/100\n242/242 [==============================] - 0s 2ms/step - loss: 0.5319 - val_loss: 0.5270\nEpoch 3/100\n242/242 [==============================] - 0s 2ms/step - loss: 0.4524 - val_loss: 0.4844\nEpoch 4/100\n242/242 [==============================] - 0s 2ms/step - loss: 0.4199 - val_loss: 0.4250\nEpoch 5/100\n242/242 [==============================] - 0s 2ms/step - loss: 0.4023 - val_loss: 0.3735\nEpoch 6/100\n242/242 [==============================] - 0s 2ms/step - loss: 0.3907 - val_loss: 0.3859\nEpoch 7/100\n242/242 [==============================] - 0s 2ms/step - loss: 0.3833 - val_loss: 0.4576\nEpoch 8/100\n242/242 [==============================] - 0s 2ms/step - loss: 0.3754 - val_loss: 0.4926\nEpoch 9/100\n242/242 [==============================] - 0s 2ms/step - loss: 0.3691 - val_loss: 0.6246\nEpoch 10/100\n242/242 [==============================] - 0s 2ms/step - loss: 0.3660 - val_loss: 0.5262\nEpoch 11/100\n242/242 [==============================] - 0s 2ms/step - loss: 0.3611 - val_loss: 0.5952\nEpoch 12/100\n242/242 [==============================] - 0s 2ms/step - loss: 0.3570 - val_loss: 0.6355\nEpoch 13/100\n242/242 [==============================] - 1s 3ms/step - loss: 0.3550 - val_loss: 0.7437\nEpoch 14/100\n242/242 [==============================] - 0s 2ms/step - loss: 0.3530 - val_loss: 0.7102\nEpoch 15/100\n242/242 [==============================] - 0s 2ms/step - loss: 0.3502 - val_loss: 0.6823\n121/121 [==============================] - 0s 1ms/step - loss: 0.3613\n[CV] END learning_rate=0.004591455636549438, n_hidden=2, n_neurons=59; total time=   8.0s\nEpoch 1/100\n242/242 [==============================] - 1s 2ms/step - loss: 1.1315 - val_loss: 2.8528\nEpoch 2/100\n242/242 [==============================] - 0s 2ms/step - loss: 0.6016 - val_loss: 2.3412\nEpoch 3/100\n242/242 [==============================] - 0s 2ms/step - loss: 0.5108 - val_loss: 0.9015\nEpoch 4/100\n242/242 [==============================] - 0s 2ms/step - loss: 0.4594 - val_loss: 0.8313\nEpoch 5/100\n242/242 [==============================] - 1s 2ms/step - loss: 0.4291 - val_loss: 0.5217\nEpoch 6/100\n242/242 [==============================] - 0s 2ms/step - loss: 0.4115 - val_loss: 0.4956\nEpoch 7/100\n242/242 [==============================] - 0s 2ms/step - loss: 0.4016 - val_loss: 0.3745\nEpoch 8/100\n242/242 [==============================] - 0s 2ms/step - loss: 0.3917 - val_loss: 0.4012\nEpoch 9/100\n242/242 [==============================] - 0s 2ms/step - loss: 0.3848 - val_loss: 0.4170\nEpoch 10/100\n242/242 [==============================] - 0s 2ms/step - loss: 0.3814 - val_loss: 0.3841\nEpoch 11/100\n242/242 [==============================] - 0s 2ms/step - loss: 0.3756 - val_loss: 0.6120\nEpoch 12/100\n242/242 [==============================] - 0s 2ms/step - loss: 0.3743 - val_loss: 0.3577\nEpoch 13/100\n242/242 [==============================] - 1s 2ms/step - loss: 0.3671 - val_loss: 0.3498\nEpoch 14/100\n242/242 [==============================] - 0s 2ms/step - loss: 0.3632 - val_loss: 0.5168\nEpoch 15/100\n242/242 [==============================] - 0s 2ms/step - loss: 0.3635 - val_loss: 0.4302\nEpoch 16/100\n242/242 [==============================] - 0s 2ms/step - loss: 0.3592 - val_loss: 0.5771\nEpoch 17/100\n242/242 [==============================] - 0s 2ms/step - loss: 0.3601 - val_loss: 0.5042\nEpoch 18/100\n242/242 [==============================] - 1s 2ms/step - loss: 0.3547 - val_loss: 0.4974\nEpoch 19/100\n242/242 [==============================] - 0s 2ms/step - loss: 0.3535 - val_loss: 0.3362\nEpoch 20/100\n242/242 [==============================] - 0s 2ms/step - loss: 0.3484 - val_loss: 0.4162\nEpoch 21/100\n242/242 [==============================] - 1s 2ms/step - loss: 0.3485 - val_loss: 0.3327\nEpoch 22/100\n242/242 [==============================] - 1s 2ms/step - loss: 0.3459 - val_loss: 0.3290\nEpoch 23/100\n242/242 [==============================] - 0s 2ms/step - loss: 0.3435 - val_loss: 0.3294\nEpoch 24/100\n242/242 [==============================] - 0s 2ms/step - loss: 0.3410 - val_loss: 0.5383\nEpoch 25/100\n242/242 [==============================] - 0s 2ms/step - loss: 0.3439 - val_loss: 0.7764\nEpoch 26/100\n242/242 [==============================] - 1s 2ms/step - loss: 0.3428 - val_loss: 0.9064\nEpoch 27/100\n242/242 [==============================] - 0s 2ms/step - loss: 0.3451 - val_loss: 0.4924\nEpoch 28/100\n242/242 [==============================] - 0s 2ms/step - loss: 0.3370 - val_loss: 0.6255\nEpoch 29/100\n242/242 [==============================] - 0s 2ms/step - loss: 0.3373 - val_loss: 0.3391\nEpoch 30/100\n242/242 [==============================] - 1s 3ms/step - loss: 0.3327 - val_loss: 0.5513\nEpoch 31/100\n242/242 [==============================] - 0s 2ms/step - loss: 0.3329 - val_loss: 0.3596\nEpoch 32/100\n242/242 [==============================] - 0s 2ms/step - loss: 0.3306 - val_loss: 0.6998\n121/121 [==============================] - 0s 1ms/step - loss: 0.3341\n[CV] END learning_rate=0.004591455636549438, n_hidden=2, n_neurons=59; total time=  21.0s\nEpoch 1/100\n363/363 [==============================] - 1s 2ms/step - loss: 0.8571 - val_loss: 6.5088\nEpoch 2/100\n363/363 [==============================] - 1s 2ms/step - loss: 0.5640 - val_loss: 7.3062\nEpoch 3/100\n363/363 [==============================] - 1s 2ms/step - loss: 0.4741 - val_loss: 0.5231\nEpoch 4/100\n363/363 [==============================] - 1s 2ms/step - loss: 0.3858 - val_loss: 0.4529\nEpoch 5/100\n363/363 [==============================] - 1s 2ms/step - loss: 0.3723 - val_loss: 0.3947\nEpoch 6/100\n363/363 [==============================] - 1s 2ms/step - loss: 0.3606 - val_loss: 0.5391\nEpoch 7/100\n363/363 [==============================] - 1s 2ms/step - loss: 0.3567 - val_loss: 0.3491\nEpoch 8/100\n363/363 [==============================] - 1s 2ms/step - loss: 0.3485 - val_loss: 0.3398\nEpoch 9/100\n363/363 [==============================] - 1s 2ms/step - loss: 0.3426 - val_loss: 0.3289\nEpoch 10/100\n363/363 [==============================] - 1s 2ms/step - loss: 0.3381 - val_loss: 0.4486\nEpoch 11/100\n363/363 [==============================] - 1s 2ms/step - loss: 0.3368 - val_loss: 0.9015\nEpoch 12/100\n363/363 [==============================] - 1s 2ms/step - loss: 0.3382 - val_loss: 0.9359\nEpoch 13/100\n363/363 [==============================] - 1s 2ms/step - loss: 0.3346 - val_loss: 0.3400\nEpoch 14/100\n363/363 [==============================] - 1s 2ms/step - loss: 0.3267 - val_loss: 0.3275\nEpoch 15/100\n363/363 [==============================] - 1s 2ms/step - loss: 0.3240 - val_loss: 0.3164\nEpoch 16/100\n363/363 [==============================] - 1s 2ms/step - loss: 0.3209 - val_loss: 0.3049\nEpoch 17/100\n363/363 [==============================] - 1s 2ms/step - loss: 0.3179 - val_loss: 0.4308\nEpoch 18/100\n363/363 [==============================] - 1s 2ms/step - loss: 0.3170 - val_loss: 0.3051\nEpoch 19/100\n363/363 [==============================] - 1s 2ms/step - loss: 0.3147 - val_loss: 0.3356\nEpoch 20/100\n363/363 [==============================] - 1s 2ms/step - loss: 0.3125 - val_loss: 0.4239\nEpoch 21/100\n363/363 [==============================] - 1s 2ms/step - loss: 0.3101 - val_loss: 0.3352\nEpoch 22/100\n363/363 [==============================] - 1s 2ms/step - loss: 0.3071 - val_loss: 0.6459\nEpoch 23/100\n363/363 [==============================] - 1s 2ms/step - loss: 0.3081 - val_loss: 1.1851\nEpoch 24/100\n363/363 [==============================] - 1s 2ms/step - loss: 0.3120 - val_loss: 0.5988\nEpoch 25/100\n363/363 [==============================] - 1s 2ms/step - loss: 0.3044 - val_loss: 0.3239\nEpoch 26/100\n363/363 [==============================] - 1s 2ms/step - loss: 0.3009 - val_loss: 0.3598\n",
     "output_type": "stream"
    },
    {
     "output_type": "execute_result",
     "execution_count": 99,
     "data": {
      "text/plain": "RandomizedSearchCV(cv=3,\n                   estimator=<keras.wrappers.scikit_learn.KerasRegressor object at 0x7f3b264ee3d0>,\n                   param_distributions={'learning_rate': [0.001683454924600351,\n                                                          0.02390836445593178,\n                                                          0.008731907739399206,\n                                                          0.004725396149933917,\n                                                          0.0006154014789262348,\n                                                          0.0006153331256530192,\n                                                          0.0003920021771415983,\n                                                          0.01619845322936229,\n                                                          0.004779156784872302,\n                                                          0.007821074275112298,...\n                                                          0.005021425736625637,\n                                                          0.0005703073595961105,\n                                                          0.001151888789941251,\n                                                          0.001621231156394198,\n                                                          0.0024505367684280487,\n                                                          0.011155092541719619,\n                                                          0.0007524347058135697,\n                                                          0.0032032448128444043,\n                                                          0.004591455636549438,\n                                                          0.0003715541189658278, ...],\n                                        'n_hidden': [0, 1, 2, 3],\n                                        'n_neurons': [1, 2, 3, 4, 5, 6, 7, 8, 9,\n                                                      10, 11, 12, 13, 14, 15,\n                                                      16, 17, 18, 19, 20, 21,\n                                                      22, 23, 24, 25, 26, 27,\n                                                      28, 29, 30, ...]},\n                   verbose=2)",
      "text/html": "<style>#sk-container-id-1 {color: black;background-color: white;}#sk-container-id-1 pre{padding: 0;}#sk-container-id-1 div.sk-toggleable {background-color: white;}#sk-container-id-1 label.sk-toggleable__label {cursor: pointer;display: block;width: 100%;margin-bottom: 0;padding: 0.3em;box-sizing: border-box;text-align: center;}#sk-container-id-1 label.sk-toggleable__label-arrow:before {content: \"▸\";float: left;margin-right: 0.25em;color: #696969;}#sk-container-id-1 label.sk-toggleable__label-arrow:hover:before {color: black;}#sk-container-id-1 div.sk-estimator:hover label.sk-toggleable__label-arrow:before {color: black;}#sk-container-id-1 div.sk-toggleable__content {max-height: 0;max-width: 0;overflow: hidden;text-align: left;background-color: #f0f8ff;}#sk-container-id-1 div.sk-toggleable__content pre {margin: 0.2em;color: black;border-radius: 0.25em;background-color: #f0f8ff;}#sk-container-id-1 input.sk-toggleable__control:checked~div.sk-toggleable__content {max-height: 200px;max-width: 100%;overflow: auto;}#sk-container-id-1 input.sk-toggleable__control:checked~label.sk-toggleable__label-arrow:before {content: \"▾\";}#sk-container-id-1 div.sk-estimator input.sk-toggleable__control:checked~label.sk-toggleable__label {background-color: #d4ebff;}#sk-container-id-1 div.sk-label input.sk-toggleable__control:checked~label.sk-toggleable__label {background-color: #d4ebff;}#sk-container-id-1 input.sk-hidden--visually {border: 0;clip: rect(1px 1px 1px 1px);clip: rect(1px, 1px, 1px, 1px);height: 1px;margin: -1px;overflow: hidden;padding: 0;position: absolute;width: 1px;}#sk-container-id-1 div.sk-estimator {font-family: monospace;background-color: #f0f8ff;border: 1px dotted black;border-radius: 0.25em;box-sizing: border-box;margin-bottom: 0.5em;}#sk-container-id-1 div.sk-estimator:hover {background-color: #d4ebff;}#sk-container-id-1 div.sk-parallel-item::after {content: \"\";width: 100%;border-bottom: 1px solid gray;flex-grow: 1;}#sk-container-id-1 div.sk-label:hover label.sk-toggleable__label {background-color: #d4ebff;}#sk-container-id-1 div.sk-serial::before {content: \"\";position: absolute;border-left: 1px solid gray;box-sizing: border-box;top: 0;bottom: 0;left: 50%;z-index: 0;}#sk-container-id-1 div.sk-serial {display: flex;flex-direction: column;align-items: center;background-color: white;padding-right: 0.2em;padding-left: 0.2em;position: relative;}#sk-container-id-1 div.sk-item {position: relative;z-index: 1;}#sk-container-id-1 div.sk-parallel {display: flex;align-items: stretch;justify-content: center;background-color: white;position: relative;}#sk-container-id-1 div.sk-item::before, #sk-container-id-1 div.sk-parallel-item::before {content: \"\";position: absolute;border-left: 1px solid gray;box-sizing: border-box;top: 0;bottom: 0;left: 50%;z-index: -1;}#sk-container-id-1 div.sk-parallel-item {display: flex;flex-direction: column;z-index: 1;position: relative;background-color: white;}#sk-container-id-1 div.sk-parallel-item:first-child::after {align-self: flex-end;width: 50%;}#sk-container-id-1 div.sk-parallel-item:last-child::after {align-self: flex-start;width: 50%;}#sk-container-id-1 div.sk-parallel-item:only-child::after {width: 0;}#sk-container-id-1 div.sk-dashed-wrapped {border: 1px dashed gray;margin: 0 0.4em 0.5em 0.4em;box-sizing: border-box;padding-bottom: 0.4em;background-color: white;}#sk-container-id-1 div.sk-label label {font-family: monospace;font-weight: bold;display: inline-block;line-height: 1.2em;}#sk-container-id-1 div.sk-label-container {text-align: center;}#sk-container-id-1 div.sk-container {/* jupyter's `normalize.less` sets `[hidden] { display: none; }` but bootstrap.min.css set `[hidden] { display: none !important; }` so we also need the `!important` here to be able to override the default hidden behavior on the sphinx rendered scikit-learn.org. See: https://github.com/scikit-learn/scikit-learn/issues/21755 */display: inline-block !important;position: relative;}#sk-container-id-1 div.sk-text-repr-fallback {display: none;}</style><div id=\"sk-container-id-1\" class=\"sk-top-container\"><div class=\"sk-text-repr-fallback\"><pre>RandomizedSearchCV(cv=3,\n                   estimator=&lt;keras.wrappers.scikit_learn.KerasRegressor object at 0x7f3b264ee3d0&gt;,\n                   param_distributions={&#x27;learning_rate&#x27;: [0.001683454924600351,\n                                                          0.02390836445593178,\n                                                          0.008731907739399206,\n                                                          0.004725396149933917,\n                                                          0.0006154014789262348,\n                                                          0.0006153331256530192,\n                                                          0.0003920021771415983,\n                                                          0.01619845322936229,\n                                                          0.004779156784872302,\n                                                          0.007821074275112298,...\n                                                          0.005021425736625637,\n                                                          0.0005703073595961105,\n                                                          0.001151888789941251,\n                                                          0.001621231156394198,\n                                                          0.0024505367684280487,\n                                                          0.011155092541719619,\n                                                          0.0007524347058135697,\n                                                          0.0032032448128444043,\n                                                          0.004591455636549438,\n                                                          0.0003715541189658278, ...],\n                                        &#x27;n_hidden&#x27;: [0, 1, 2, 3],\n                                        &#x27;n_neurons&#x27;: [1, 2, 3, 4, 5, 6, 7, 8, 9,\n                                                      10, 11, 12, 13, 14, 15,\n                                                      16, 17, 18, 19, 20, 21,\n                                                      22, 23, 24, 25, 26, 27,\n                                                      28, 29, 30, ...]},\n                   verbose=2)</pre><b>In a Jupyter environment, please rerun this cell to show the HTML representation or trust the notebook. <br />On GitHub, the HTML representation is unable to render, please try loading this page with nbviewer.org.</b></div><div class=\"sk-container\" hidden><div class=\"sk-item sk-dashed-wrapped\"><div class=\"sk-label-container\"><div class=\"sk-label sk-toggleable\"><input class=\"sk-toggleable__control sk-hidden--visually\" id=\"sk-estimator-id-1\" type=\"checkbox\" ><label for=\"sk-estimator-id-1\" class=\"sk-toggleable__label sk-toggleable__label-arrow\">RandomizedSearchCV</label><div class=\"sk-toggleable__content\"><pre>RandomizedSearchCV(cv=3,\n                   estimator=&lt;keras.wrappers.scikit_learn.KerasRegressor object at 0x7f3b264ee3d0&gt;,\n                   param_distributions={&#x27;learning_rate&#x27;: [0.001683454924600351,\n                                                          0.02390836445593178,\n                                                          0.008731907739399206,\n                                                          0.004725396149933917,\n                                                          0.0006154014789262348,\n                                                          0.0006153331256530192,\n                                                          0.0003920021771415983,\n                                                          0.01619845322936229,\n                                                          0.004779156784872302,\n                                                          0.007821074275112298,...\n                                                          0.005021425736625637,\n                                                          0.0005703073595961105,\n                                                          0.001151888789941251,\n                                                          0.001621231156394198,\n                                                          0.0024505367684280487,\n                                                          0.011155092541719619,\n                                                          0.0007524347058135697,\n                                                          0.0032032448128444043,\n                                                          0.004591455636549438,\n                                                          0.0003715541189658278, ...],\n                                        &#x27;n_hidden&#x27;: [0, 1, 2, 3],\n                                        &#x27;n_neurons&#x27;: [1, 2, 3, 4, 5, 6, 7, 8, 9,\n                                                      10, 11, 12, 13, 14, 15,\n                                                      16, 17, 18, 19, 20, 21,\n                                                      22, 23, 24, 25, 26, 27,\n                                                      28, 29, 30, ...]},\n                   verbose=2)</pre></div></div></div><div class=\"sk-parallel\"><div class=\"sk-parallel-item\"><div class=\"sk-item\"><div class=\"sk-label-container\"><div class=\"sk-label sk-toggleable\"><input class=\"sk-toggleable__control sk-hidden--visually\" id=\"sk-estimator-id-2\" type=\"checkbox\" ><label for=\"sk-estimator-id-2\" class=\"sk-toggleable__label sk-toggleable__label-arrow\">estimator: KerasRegressor</label><div class=\"sk-toggleable__content\"><pre>&lt;keras.wrappers.scikit_learn.KerasRegressor object at 0x7f3b264ee3d0&gt;</pre></div></div></div><div class=\"sk-serial\"><div class=\"sk-item\"><div class=\"sk-estimator sk-toggleable\"><input class=\"sk-toggleable__control sk-hidden--visually\" id=\"sk-estimator-id-3\" type=\"checkbox\" ><label for=\"sk-estimator-id-3\" class=\"sk-toggleable__label sk-toggleable__label-arrow\">KerasRegressor</label><div class=\"sk-toggleable__content\"><pre>&lt;keras.wrappers.scikit_learn.KerasRegressor object at 0x7f3b264ee3d0&gt;</pre></div></div></div></div></div></div></div></div></div></div>"
     },
     "metadata": {}
    }
   ]
  },
  {
   "cell_type": "code",
   "metadata": {
    "cell_id": "00134-e5756b93-d404-47ce-b13e-5dd25bb6f54c",
    "deepnote_to_be_reexecuted": false,
    "source_hash": "9a3880fe",
    "execution_start": 1659187611989,
    "execution_millis": 134,
    "deepnote_cell_type": "code",
    "deepnote_cell_height": 113.1875,
    "deepnote_output_heights": [
     21.1875
    ]
   },
   "source": "rnd_search_cv.best_params_",
   "execution_count": null,
   "outputs": [
    {
     "output_type": "execute_result",
     "execution_count": 100,
     "data": {
      "text/plain": "{'n_neurons': 80, 'n_hidden': 3, 'learning_rate': 0.0059640580092043885}"
     },
     "metadata": {}
    }
   ]
  },
  {
   "cell_type": "code",
   "metadata": {
    "cell_id": "00135-87a01c03-249b-4033-9e5c-5327fa45d185",
    "deepnote_to_be_reexecuted": false,
    "source_hash": "65a033a1",
    "execution_start": 1659187612042,
    "execution_millis": 100,
    "deepnote_cell_type": "code",
    "deepnote_cell_height": 113.1875,
    "deepnote_output_heights": [
     21.1875
    ]
   },
   "source": "rnd_search_cv.best_score_",
   "execution_count": null,
   "outputs": [
    {
     "output_type": "execute_result",
     "execution_count": 101,
     "data": {
      "text/plain": "-0.3174845178922017"
     },
     "metadata": {}
    }
   ]
  },
  {
   "cell_type": "code",
   "metadata": {
    "cell_id": "00136-5d899128-71e3-4f98-9dc3-0da481bc1a28",
    "deepnote_to_be_reexecuted": false,
    "source_hash": "13f8bf78",
    "execution_start": 1659187612043,
    "execution_millis": 1519370,
    "deepnote_cell_type": "code",
    "deepnote_cell_height": 113.1875,
    "deepnote_output_heights": [
     21.1875
    ]
   },
   "source": "rnd_search_cv.best_estimator_",
   "execution_count": null,
   "outputs": [
    {
     "output_type": "execute_result",
     "execution_count": 102,
     "data": {
      "text/plain": "<keras.wrappers.scikit_learn.KerasRegressor at 0x7f3b24947c40>"
     },
     "metadata": {}
    }
   ]
  },
  {
   "cell_type": "code",
   "metadata": {
    "cell_id": "00137-4c0cd004-003e-4cfd-bf80-7dfa0827804b",
    "deepnote_to_be_reexecuted": false,
    "source_hash": "36c7ba14",
    "execution_start": 1659187612043,
    "execution_millis": 3733,
    "deepnote_cell_type": "code",
    "deepnote_cell_height": 159.375,
    "deepnote_output_heights": [
     null,
     21.1875
    ]
   },
   "source": "rnd_search_cv.score(X_test, y_test)",
   "execution_count": null,
   "outputs": [
    {
     "name": "stdout",
     "text": "162/162 [==============================] - 0s 1ms/step - loss: 0.3066\n",
     "output_type": "stream"
    },
    {
     "output_type": "execute_result",
     "execution_count": 103,
     "data": {
      "text/plain": "-0.3066314160823822"
     },
     "metadata": {}
    }
   ]
  },
  {
   "cell_type": "code",
   "metadata": {
    "cell_id": "00138-15d4de2b-0da0-4e00-a519-fd7ed34475a9",
    "deepnote_to_be_reexecuted": false,
    "source_hash": "302b02e6",
    "execution_start": 1659187615782,
    "execution_millis": 5,
    "deepnote_cell_type": "code",
    "deepnote_cell_height": 131.1875,
    "deepnote_output_heights": [
     21.1875
    ]
   },
   "source": "model = rnd_search_cv.best_estimator_.model\nmodel",
   "execution_count": null,
   "outputs": [
    {
     "output_type": "execute_result",
     "execution_count": 104,
     "data": {
      "text/plain": "<keras.engine.sequential.Sequential at 0x7f3b24947e50>"
     },
     "metadata": {}
    }
   ]
  },
  {
   "cell_type": "code",
   "metadata": {
    "scrolled": true,
    "cell_id": "00139-137c49e3-a706-44fd-902a-9eb9d6178b31",
    "deepnote_to_be_reexecuted": false,
    "source_hash": "ef7ab4e3",
    "execution_start": 1659187615793,
    "execution_millis": 356,
    "deepnote_cell_type": "code",
    "deepnote_cell_height": 159.375,
    "deepnote_output_heights": [
     null,
     21.1875
    ]
   },
   "source": "model.evaluate(X_test, y_test)",
   "execution_count": null,
   "outputs": [
    {
     "name": "stdout",
     "text": "162/162 [==============================] - 0s 2ms/step - loss: 0.3066\n",
     "output_type": "stream"
    },
    {
     "output_type": "execute_result",
     "execution_count": 105,
     "data": {
      "text/plain": "0.3066314160823822"
     },
     "metadata": {}
    }
   ]
  },
  {
   "cell_type": "markdown",
   "source": "# Exercise solutions",
   "metadata": {
    "cell_id": "00140-81a3f10f-0c40-4df3-8943-e21d6f98f7b9",
    "deepnote_cell_type": "markdown",
    "deepnote_cell_height": 82
   }
  },
  {
   "cell_type": "markdown",
   "source": "## 1. to 9.",
   "metadata": {
    "cell_id": "00141-93db5695-9309-446a-bd3a-40457db7cee9",
    "deepnote_cell_type": "markdown",
    "deepnote_cell_height": 70
   }
  },
  {
   "cell_type": "markdown",
   "source": "See appendix A.",
   "metadata": {
    "cell_id": "00142-b2c257c0-516e-48d7-a00b-f2afa10fa269",
    "deepnote_cell_type": "markdown",
    "deepnote_cell_height": 52.390625
   }
  },
  {
   "cell_type": "markdown",
   "source": "1. The [TensorFlow Playground](https://playground.tensorflow.org/) is a handy neural network simulator built by the TensorFlow team. In this exercise, you will train several binary classifiers in just a few clicks, and tweak the model’s architecture and its hyperparameters to gain some intuition on how neural networks work and what their hyperparameters do. Take some time to explore the following:\n\n    - The patterns learned by a neural net. Try training the default neural network by clicking the Run button (top left). Notice how it quickly finds a good solution for the classification task. The neurons in the first hidden layer have learned simple patterns, while the neurons in the second hidden layer have learned to combine the simple patterns of the first hidden layer into more complex patterns. In general, the more layers there are, the more complex the patterns can be. \n    - Activation functions. Try replacing the tanh activation function with a ReLU activation function, and train the network again. Notice that it finds a solution even faster, but this time the boundaries are linear. This is due to the shape of the ReLU function.\n    - The risk of local minima. Modify the network architecture to have just one hidden layer with three neurons. Train it multiple times (to reset the network weights, click the Reset button next to the Play button). Notice that the training time varies a lot, and sometimes it even gets stuck in a local minimum.\n    - What happens when neural nets are too small. Remove one neuron to keep just two. Notice that the neural network is now incapable of finding a good solution, even if you try multiple times. The model has too few parameters and systematically underfits the training set.\n    - What happens when neural nets are large enough. Set the number of neurons to eight, and train the network several times. Notice that it is now consistently fast and never gets stuck. This highlights an important finding in neural network theory: large neural networks almost never get stuck in local minima, and even when they do these local optima are almost as good as the global optimum. However, they can still get stuck on long plateaus for a long time.\n    - The risk of vanishing gradients in deep networks. Select the spiral dataset (the bottom-right dataset under “DATA”), and change the network architecture to have four hidden layers with eight neurons each. Notice that training takes much longer and often gets stuck on plateaus for long periods of time. Also notice that the neurons in the highest layers (on the right) tend to evolve faster than the  neurons in the lowest layers (on the left).  This problem, called the “vanishing gradients” problem, can be alleviated with better weight initialization and other techniques, better optimizers (such as AdaGrad or Adam), or Batch Normalization (discussed in Chapter 11).\n    - Go further. Take an hour or so to play around with other parameters and get a feel for what they do, to build an intuitive understanding about neural networks.\n",
   "metadata": {
    "cell_id": "d341b6800c874e418fd79074dc430e7b",
    "tags": [],
    "deepnote_cell_type": "markdown",
    "deepnote_cell_height": 683.546875
   }
  },
  {
   "cell_type": "markdown",
   "source": "Visit the [TensorFlow Playground](https://playground.tensorflow.org/) and play around with it, as described in this exercise.\n",
   "metadata": {
    "cell_id": "89fab1eb5a6b4481bf13e1cd726ce02c",
    "tags": [],
    "deepnote_cell_type": "markdown",
    "deepnote_cell_height": 52.390625
   }
  },
  {
   "cell_type": "markdown",
   "source": "2. Draw an ANN using the original artificial neurons (like the ones in Figure 10-3) that computes $A \\oplus B$ (where $\\oplus$ represents the XOR operation). Hint: $A \\oplus B = (A \\wedge \\neg B) \\vee (\\neg A \\wedge B).$",
   "metadata": {
    "cell_id": "7653f9ce64484bed915272ed9d24d903",
    "tags": [],
    "deepnote_cell_type": "markdown",
    "deepnote_cell_height": 91.78125
   }
  },
  {
   "cell_type": "markdown",
   "source": "Here is a neural network based on the original artificial neurons that computes $A \\oplus B$ (where $\\oplus$ represents the exclusive OR), using the fact that $A \\oplus B = (A \\wedge \\neg B) \\vee (\\neg A \\wedge B).$ There are other solutions—for example, using the fact that $A \\oplus B = (A \\vee B) \\wedge \\neg(A\n\\wedge B$), or the fact that $A \\oplus B = (A \\vee B) \\wedge (\\neg A \\vee \\wedge B)$, and so on.\n\n![image](/work/images/ann/2.jpg)\n",
   "metadata": {
    "cell_id": "7e4c4ffb52c646e78acaaf2df02f0c2c",
    "tags": [],
    "deepnote_cell_type": "markdown",
    "deepnote_cell_height": 137.171875
   }
  },
  {
   "cell_type": "markdown",
   "source": "3. Why is it generally preferable to use a Logistic Regression classifier rather than a classical Perceptron (i.e., a single layer of threshold logic units trained using the Perceptron training algorithm)? How can you tweak a Perceptron to make it equivalent to a Logistic Regression classifier?",
   "metadata": {
    "cell_id": "bde2e196047245abb084a39e7d1334f5",
    "tags": [],
    "deepnote_cell_type": "markdown",
    "deepnote_cell_height": 114.171875
   }
  },
  {
   "cell_type": "markdown",
   "source": "A classical Perceptron will converge only if the dataset is linearly separable, and it won’t be able to estimate class probabilities. In contrast, a Logistic Regression classifier will converge to a good solution even if the dataset is not linearly separable, and it will output class probabilities. If you change the Perceptron’s activation function to the logistic activation function (or the softmax activation function if there are multiple neurons), and if you train it using Gradient Descent (or some other optimization algorithm minimizing the cost function, typically cross entropy), then it becomes equivalent to a Logistic Regression classifier.",
   "metadata": {
    "cell_id": "dbb113b1a59044a380a97767a157e8ff",
    "tags": [],
    "deepnote_cell_type": "markdown",
    "deepnote_cell_height": 141.953125
   }
  },
  {
   "cell_type": "markdown",
   "source": "4. Why was the logistic activation function a key ingredient in training the first MLPs?\n",
   "metadata": {
    "cell_id": "ea17ab12e4ee49c881d4acf29a688ad7",
    "tags": [],
    "deepnote_cell_type": "markdown",
    "deepnote_cell_height": 69.390625
   }
  },
  {
   "cell_type": "markdown",
   "source": "The logistic activation function was a key ingredient in training the first MLPs because its derivative is always nonzero, so Gradient Descent can always roll down the slope. When the activation function is a step function, Gradient Descent cannot move, as there is no slope at all.\n\n",
   "metadata": {
    "cell_id": "86c1de97e4b240b097c92b91221cf66f",
    "tags": [],
    "deepnote_cell_type": "markdown",
    "deepnote_cell_height": 97.171875
   }
  },
  {
   "cell_type": "markdown",
   "source": "5. Name three popular activation functions. Can you draw them?",
   "metadata": {
    "cell_id": "3397ae521fc64700bea0ad960eaa8ad7",
    "tags": [],
    "deepnote_cell_type": "markdown",
    "deepnote_cell_height": 69.390625
   }
  },
  {
   "cell_type": "markdown",
   "source": "Popular activation functions include the step function, the logistic (sigmoid) function, the hyperbolic tangent (tanh) function, and the Rectified Linear Unit (ReLU) function (see Figure 10-8). See Chapter 11 for other examples, such as ELU and variants of the ReLU function",
   "metadata": {
    "cell_id": "32b1d16bf157458997f588b5c4f05771",
    "tags": [],
    "deepnote_cell_type": "markdown",
    "deepnote_cell_height": 97.171875
   }
  },
  {
   "cell_type": "markdown",
   "source": "6. Suppose you have an MLP composed of one input layer with 10 passthrough neurons, followed by one hidden layer with 50 artificial neurons, and finally one output layer with 3 artificial neurons. All artificial neurons use the ReLU activation function.\n\n    - What is the shape of the input matrix $\\mathbf{X}$?\n    - What are the shapes of the hidden layer’s weight vector $\\mathbf{W}_h$ and its bias vector $\\mathbf{b}_h$ ?\n    - What are the shapes of the output layer’s weight vector $\\mathbf{W}_o$ and its bias vector $\\mathbf{b}_o$ ?\n    - What is the shape of the network’s output matrix $\\mathbf{Y}$?\n    - Write the equation that computes the network’s output matrix $\\mathbf{Y}$ as a function of $\\mathbf{X}, \\mathbf{W}_h , \\mathbf{b}_h , \\mathbf{W}_o , \\text{and}\\, \\mathbf{b}_o .$",
   "metadata": {
    "cell_id": "2e09338efd0340c1a666b7e203628997",
    "tags": [],
    "deepnote_cell_type": "markdown",
    "deepnote_cell_height": 229.734375
   }
  },
  {
   "cell_type": "markdown",
   "source": "Considering the MLP described in the question, composed of one input layer with 10 passthrough neurons, followed by one hidden layer with 50 artificial neurons, and finally one output layer with 3 artificial neurons, where all artificial neurons use the ReLU activation function: \n\n- The shape of the input matrix $\\mathbf{X}$ is $m \\times 10$, where $m$ represents the training batch size.\n- The shape of the hidden layer's weight vector $\\mathbf{W}_h$ is $10 \\times 50$, and the length of its bias vector $\\mathbf{b}_h$ is 50.\n- The shape of the output layer’s weight vector $\\mathbf{W}_o$ is $50 \\times 3$, and the length of its bias vector $\\mathbf{b}_o$ is 3.\n- The shape of the network’s output matrix $\\mathbf{Y}$ is $m \\times 3$.\n- $\\mathbf{Y}* = ReLU(ReLU(\\mathbf{X}\\mathbf{W}_h + \\mathbf{b}_h)\\mathbf{W}_o + \\mathbf{b}_o)$. Recall that the ReLU function just sets every negative number in the matrix to zero. Also note that when you are adding a bias vector to a matrix, it is added to every single row in the matrix, which is called broadcasting.\n",
   "metadata": {
    "cell_id": "daa50fd88b8c4654aa044ee058815407",
    "tags": [],
    "deepnote_cell_type": "markdown",
    "deepnote_cell_height": 293.90625
   }
  },
  {
   "cell_type": "markdown",
   "source": "7. How many neurons do you need in the output layer if you want to classify email into spam or ham? What activation function should you use in the output layer? If instead you want to tackle MNIST, how many neurons do you need in the output layer, and which activation function should you use? What about for getting your network to predict housing prices, as in Chapter 2?",
   "metadata": {
    "cell_id": "c582a09175524a428b17ccac2e51046a",
    "tags": [],
    "deepnote_cell_type": "markdown",
    "deepnote_cell_height": 114.171875
   }
  },
  {
   "cell_type": "markdown",
   "source": "To classify email into spam or ham, you just need one neuron in the output layer of a neural network—for example, indicating the probability that the email is spam. You would typically use the logistic activation function in the output layer when estimating a probability. If instead you want to tackle MNIST, you need 10 neurons in the output layer, and you must replace the logistic function with the softmax activation function, which can handle multiple classes, outputting one probability per class. If you want your neural network to predict housing prices like in Chapter 2, then you need one output neuron, using no activation function at all in the output layer.",
   "metadata": {
    "cell_id": "c61e467022f74ca1ad45a3e0781b0e72",
    "tags": [],
    "deepnote_cell_type": "markdown",
    "deepnote_cell_height": 164.34375
   }
  },
  {
   "cell_type": "markdown",
   "source": "8. What is backpropagation and how does it work? What is the difference between backpropagation and reverse-mode autodiff?",
   "metadata": {
    "cell_id": "155ad8f300eb45ceaf067e34192cb9da",
    "tags": [],
    "deepnote_cell_type": "markdown",
    "deepnote_cell_height": 69.390625
   }
  },
  {
   "cell_type": "markdown",
   "source": "Backpropagation is a technique used to train artificial neural networks. It first computes the gradients of the cost function with regard to every model parameter (all the weights and biases), then it performs a Gradient Descent step using these gradients. This backpropagation step is typically performed thousands or millions of times, using many training batches, until the model parameters converge to values that (hopefully) minimize the cost function. To compute the gradients,  backpropagation uses reverse-mode autodiff (although it wasn’t called that when backpropagation was invented, and it has been reinvented several times). Reverse-mode\nautodiff performs a forward pass through a computation graph, computing every node’s value for the current training batch, and then it performs a reverse pass, computing all the gradients at once (see Appendix D for more details). So what’s the difference? Well, backpropagation refers to the whole process of training an artificial neural network using multiple backpropagation steps, each of which computes gradients and uses them to perform a Gradient Descent step. In contrast, reverse-mode autodiff is just a technique to compute gradients efficiently, and it happens to be used by backpropagation.",
   "metadata": {
    "cell_id": "1ad16405d71c4c14876cf29375e49ea6",
    "tags": [],
    "deepnote_cell_type": "markdown",
    "deepnote_cell_height": 253.90625
   }
  },
  {
   "cell_type": "markdown",
   "source": "9. Can you list all the hyperparameters you can tweak in a basic MLP? If the MLP overfits the training data, how could you tweak these hyperparameters to try to solve the problem?",
   "metadata": {
    "cell_id": "d1649d234fbb438c8343413302ca4eab",
    "tags": [],
    "deepnote_cell_type": "markdown",
    "deepnote_cell_height": 91.78125
   }
  },
  {
   "cell_type": "markdown",
   "source": "Here is a list of all the hyperparameters you can tweak in a basic MLP: the number of hidden layers, the number of neurons in each hidden layer, and the activation function used in each hidden layer and in the output layer. In general, the ReLU activation function\n(or one of its variants; see Chapter 11) is a good default for the hidden layers. For the output layer, in general you will want the logistic activation function for binary classification, the softmax activation function for multiclass classification, or no activation\nfunction for regression. If the MLP overfits the training data, you can try reducing the number of hidden layers and reducing the number of neurons per hidden layer.",
   "metadata": {
    "cell_id": "1d36519f415647e98333f0ae61c02689",
    "tags": [],
    "deepnote_cell_type": "markdown",
    "deepnote_cell_height": 164.34375
   }
  },
  {
   "cell_type": "markdown",
   "source": "10. Train a deep MLP on the MNIST dataset (you can load it using `keras.datasets.mnist.load_data()`. See if you can get over 98% precision. Try searching for the optimal learning rate by using the approach presented in this chapter (i.e., by growing the learning rate exponentially, plotting the error, and finding the point where the error shoots up). Try adding all the bells and whistles—save checkpoints, use early stopping, and plot learning curves using TensorBoard.",
   "metadata": {
    "cell_id": "874e6ec50eee4521bb129a728a1a298f",
    "tags": [],
    "deepnote_cell_type": "markdown",
    "deepnote_cell_height": 136.5625
   }
  },
  {
   "cell_type": "markdown",
   "source": "## 10.",
   "metadata": {
    "cell_id": "00143-7729f964-b5b7-489c-a1dc-81fff0ee3ecc",
    "deepnote_cell_type": "markdown",
    "deepnote_cell_height": 70
   }
  },
  {
   "cell_type": "markdown",
   "source": "*Exercise: Train a deep MLP on the MNIST dataset (you can load it using `keras.datasets.mnist.load_data()`. See if you can get over 98% precision. Try searching for the optimal learning rate by using the approach presented in this chapter (i.e., by growing the learning rate exponentially, plotting the loss, and finding the point where the loss shoots up). Try adding all the bells and whistles—save checkpoints, use early stopping, and plot learning curves using TensorBoard.*",
   "metadata": {
    "cell_id": "00144-ebd60ac2-e4b8-4650-882a-22735a1de643",
    "deepnote_cell_type": "markdown",
    "deepnote_cell_height": 119.5625
   }
  },
  {
   "cell_type": "markdown",
   "source": "Let's load the dataset:",
   "metadata": {
    "cell_id": "00145-316d3c75-98e4-4b2a-9e98-09b3cc1166b1",
    "deepnote_cell_type": "markdown",
    "deepnote_cell_height": 52.390625
   }
  },
  {
   "cell_type": "code",
   "metadata": {
    "cell_id": "00146-1876e957-2728-45d3-acfe-170cdd54b548",
    "deepnote_to_be_reexecuted": false,
    "source_hash": "487f7870",
    "execution_start": 1659187616150,
    "execution_millis": 284,
    "deepnote_cell_type": "code",
    "deepnote_cell_height": 76
   },
   "source": "(X_train_full, y_train_full), (X_test, y_test) = keras.datasets.mnist.load_data()",
   "execution_count": null,
   "outputs": []
  },
  {
   "cell_type": "markdown",
   "source": "Just like for the Fashion MNIST dataset, the MNIST training set contains 60,000 grayscale images, each 28x28 pixels:",
   "metadata": {
    "cell_id": "00147-6a45de61-68c1-4a45-a943-35be21f84829",
    "deepnote_cell_type": "markdown",
    "deepnote_cell_height": 52.390625
   }
  },
  {
   "cell_type": "code",
   "metadata": {
    "cell_id": "00148-597345e9-38f4-4a19-9784-c0d4501f2c38",
    "deepnote_to_be_reexecuted": false,
    "source_hash": "3b45a169",
    "execution_start": 1659187616437,
    "execution_millis": 8,
    "deepnote_cell_type": "code",
    "deepnote_cell_height": 113.1875,
    "deepnote_output_heights": [
     21.1875
    ]
   },
   "source": "X_train_full.shape",
   "execution_count": null,
   "outputs": [
    {
     "output_type": "execute_result",
     "execution_count": 107,
     "data": {
      "text/plain": "(60000, 28, 28)"
     },
     "metadata": {}
    }
   ]
  },
  {
   "cell_type": "markdown",
   "source": "Each pixel intensity is also represented as a byte (0 to 255):",
   "metadata": {
    "cell_id": "00149-f6412f9c-7559-4471-9ec2-c087bfdde977",
    "deepnote_cell_type": "markdown",
    "deepnote_cell_height": 52.390625
   }
  },
  {
   "cell_type": "code",
   "metadata": {
    "cell_id": "00150-9271bf97-6e14-4bc4-8a1a-ddeb04c223a5",
    "deepnote_to_be_reexecuted": false,
    "source_hash": "32a91791",
    "execution_start": 1659187616451,
    "execution_millis": 1522671,
    "deepnote_cell_type": "code",
    "deepnote_cell_height": 113.1875
   },
   "source": "X_train_full.dtype",
   "execution_count": null,
   "outputs": [
    {
     "output_type": "execute_result",
     "execution_count": 108,
     "data": {
      "text/plain": "dtype('uint8')"
     },
     "metadata": {}
    }
   ]
  },
  {
   "cell_type": "markdown",
   "source": "Let's split the full training set into a validation set and a (smaller) training set. We also scale the pixel intensities down to the 0-1 range and convert them to floats, by dividing by 255, just like we did for Fashion MNIST:",
   "metadata": {
    "cell_id": "00151-56b7f64f-9630-4133-8322-d6e2122e64b1",
    "deepnote_cell_type": "markdown",
    "deepnote_cell_height": 74.78125
   }
  },
  {
   "cell_type": "code",
   "metadata": {
    "cell_id": "00152-2df54109-731d-4dcd-b42c-87a5c20d798c",
    "deepnote_to_be_reexecuted": false,
    "source_hash": "364f401f",
    "execution_start": 1659187616458,
    "execution_millis": 141,
    "deepnote_cell_type": "code",
    "deepnote_cell_height": 112
   },
   "source": "X_valid, X_train = X_train_full[:5000] / 255., X_train_full[5000:] / 255.\ny_valid, y_train = y_train_full[:5000], y_train_full[5000:]\nX_test = X_test / 255.",
   "execution_count": null,
   "outputs": []
  },
  {
   "cell_type": "markdown",
   "source": "Let's plot an image using Matplotlib's `imshow()` function, with a `'binary'`\n color map:",
   "metadata": {
    "cell_id": "00153-1850e05e-5c7c-4fb7-a6d9-807719fb33f8",
    "deepnote_cell_type": "markdown",
    "deepnote_cell_height": 74.78125
   }
  },
  {
   "cell_type": "code",
   "metadata": {
    "cell_id": "00154-8224bcae-3dc9-413b-add1-8ed0ec6c38d7",
    "deepnote_to_be_reexecuted": false,
    "source_hash": "c03cb47f",
    "execution_start": 1659187616606,
    "execution_millis": 116,
    "deepnote_cell_type": "code",
    "deepnote_cell_height": 361,
    "deepnote_output_heights": [
     233
    ]
   },
   "source": "plt.imshow(X_train[0], cmap=\"binary\")\nplt.axis('off')\nplt.show()",
   "execution_count": null,
   "outputs": [
    {
     "data": {
      "text/plain": "<Figure size 432x288 with 1 Axes>",
      "image/png": "[encoded data removed]"
     },
     "metadata": {
      "needs_background": "light",
      "image/png": {
       "width": 231,
       "height": 231
      }
     },
     "output_type": "display_data"
    }
   ]
  },
  {
   "cell_type": "markdown",
   "source": "The labels are the class IDs (represented as uint8), from 0 to 9. Conveniently, the class IDs correspond to the digits represented in the images, so we don't need a `class_names` array:",
   "metadata": {
    "cell_id": "00155-d07aa8bd-5f94-4998-b9d0-1657af110fbb",
    "deepnote_cell_type": "markdown",
    "deepnote_cell_height": 74.78125
   }
  },
  {
   "cell_type": "code",
   "metadata": {
    "cell_id": "00156-3f911ff8-e16b-40aa-9d4e-e6a9a8f2508e",
    "deepnote_to_be_reexecuted": false,
    "source_hash": "ed857f47",
    "execution_start": 1659187616718,
    "execution_millis": 5,
    "deepnote_cell_type": "code",
    "deepnote_cell_height": 113.1875
   },
   "source": "y_train",
   "execution_count": null,
   "outputs": [
    {
     "output_type": "execute_result",
     "execution_count": 111,
     "data": {
      "text/plain": "array([7, 3, 4, ..., 5, 6, 8], dtype=uint8)"
     },
     "metadata": {}
    }
   ]
  },
  {
   "cell_type": "markdown",
   "source": "The validation set contains 5,000 images, and the test set contains 10,000 images:",
   "metadata": {
    "cell_id": "00157-a02fb737-60b1-447b-bd94-038ef4551413",
    "deepnote_cell_type": "markdown",
    "deepnote_cell_height": 52.390625
   }
  },
  {
   "cell_type": "code",
   "metadata": {
    "cell_id": "00158-54fd8a08-ebf6-497b-97a6-13cd3833584b",
    "deepnote_to_be_reexecuted": false,
    "source_hash": "ffc02169",
    "execution_start": 1659187616719,
    "execution_millis": 1,
    "deepnote_cell_type": "code",
    "deepnote_cell_height": 113.1875
   },
   "source": "X_valid.shape",
   "execution_count": null,
   "outputs": [
    {
     "output_type": "execute_result",
     "execution_count": 112,
     "data": {
      "text/plain": "(5000, 28, 28)"
     },
     "metadata": {}
    }
   ]
  },
  {
   "cell_type": "code",
   "metadata": {
    "cell_id": "00159-50dc13e4-4fbe-4b63-b407-b95e3404f072",
    "deepnote_to_be_reexecuted": false,
    "source_hash": "251bcee5",
    "execution_start": 1659187616720,
    "execution_millis": 6,
    "deepnote_cell_type": "code",
    "deepnote_cell_height": 113.1875
   },
   "source": "X_test.shape",
   "execution_count": null,
   "outputs": [
    {
     "output_type": "execute_result",
     "execution_count": 113,
     "data": {
      "text/plain": "(10000, 28, 28)"
     },
     "metadata": {}
    }
   ]
  },
  {
   "cell_type": "markdown",
   "source": "Let's take a look at a sample of the images in the dataset:",
   "metadata": {
    "cell_id": "00160-04f40ae9-8c4a-47ff-8bf4-7dfbd875ebd1",
    "deepnote_cell_type": "markdown",
    "deepnote_cell_height": 52.390625
   }
  },
  {
   "cell_type": "code",
   "metadata": {
    "cell_id": "00161-448ee193-bb07-4d4a-8067-5d6998d69383",
    "deepnote_to_be_reexecuted": false,
    "source_hash": "5c688ef5",
    "execution_start": 1659187616785,
    "execution_millis": 1285,
    "deepnote_cell_type": "code",
    "deepnote_cell_height": 583,
    "deepnote_output_heights": [
     293
    ]
   },
   "source": "n_rows = 4\nn_cols = 10\nplt.figure(figsize=(n_cols * 1.2, n_rows * 1.2))\nfor row in range(n_rows):\n    for col in range(n_cols):\n        index = n_cols * row + col\n        plt.subplot(n_rows, n_cols, index + 1)\n        plt.imshow(X_train[index], cmap=\"binary\", interpolation=\"nearest\")\n        plt.axis('off')\n        plt.title(y_train[index], fontsize=12)\nplt.subplots_adjust(wspace=0.2, hspace=0.5)\nplt.show()",
   "execution_count": null,
   "outputs": [
    {
     "data": {
      "text/plain": "<Figure size 864x345.6 with 40 Axes>",
      "image/png": "[encoded data removed]"
     },
     "metadata": {
      "needs_background": "light",
      "image/png": {
       "width": 674,
       "height": 291
      }
     },
     "output_type": "display_data"
    }
   ]
  },
  {
   "cell_type": "markdown",
   "source": "Let's build a simple dense network and find the optimal learning rate. We will need a callback to grow the learning rate at each iteration. It will also record the learning rate and the loss at each iteration:",
   "metadata": {
    "cell_id": "00162-658b73da-c3f7-4121-8983-24acee4fabf6",
    "deepnote_cell_type": "markdown",
    "deepnote_cell_height": 74.78125
   }
  },
  {
   "cell_type": "code",
   "metadata": {
    "cell_id": "00163-2d18400c-72e7-47f9-8bb4-d5089733b527",
    "deepnote_to_be_reexecuted": false,
    "source_hash": "d85ee5c7",
    "execution_start": 1659187618071,
    "execution_millis": 6,
    "deepnote_cell_type": "code",
    "deepnote_cell_height": 256
   },
   "source": "K = keras.backend\n\nclass ExponentialLearningRate(keras.callbacks.Callback):\n    def __init__(self, factor):\n        self.factor = factor\n        self.rates = []\n        self.losses = []\n    def on_batch_end(self, batch, logs):\n        self.rates.append(K.get_value(self.model.optimizer.learning_rate))\n        self.losses.append(logs[\"loss\"])\n        K.set_value(self.model.optimizer.learning_rate, self.model.optimizer.learning_rate * self.factor)",
   "execution_count": null,
   "outputs": []
  },
  {
   "cell_type": "code",
   "metadata": {
    "cell_id": "00164-a4a8f0a6-08aa-445e-a756-85ffe0b19cea",
    "deepnote_to_be_reexecuted": false,
    "source_hash": "b86c7ea",
    "execution_start": 1659187618081,
    "execution_millis": 7,
    "deepnote_cell_type": "code",
    "deepnote_cell_height": 112
   },
   "source": "keras.backend.clear_session()\nnp.random.seed(42)\ntf.random.set_seed(42)",
   "execution_count": null,
   "outputs": []
  },
  {
   "cell_type": "code",
   "metadata": {
    "cell_id": "00165-75291e58-158a-4354-8582-2a3215d2a8fe",
    "deepnote_to_be_reexecuted": false,
    "source_hash": "e2bfe76c",
    "execution_start": 1659187618096,
    "execution_millis": 46,
    "deepnote_cell_type": "code",
    "deepnote_cell_height": 166
   },
   "source": "model = keras.models.Sequential([\n    keras.layers.Flatten(input_shape=[28, 28]),\n    keras.layers.Dense(300, activation=\"relu\"),\n    keras.layers.Dense(100, activation=\"relu\"),\n    keras.layers.Dense(10, activation=\"softmax\")\n])",
   "execution_count": null,
   "outputs": []
  },
  {
   "cell_type": "markdown",
   "source": "We will start with a small learning rate of 1e-3, and grow it by 0.5% at each iteration:",
   "metadata": {
    "cell_id": "00166-aede6a80-6189-4e34-9921-e0f88c71ee07",
    "deepnote_cell_type": "markdown",
    "deepnote_cell_height": 52.390625
   }
  },
  {
   "cell_type": "code",
   "metadata": {
    "cell_id": "00167-e673d1bd-51ed-41b8-8c25-cfb518de89b4",
    "deepnote_to_be_reexecuted": false,
    "source_hash": "df88f995",
    "execution_start": 1659187618142,
    "execution_millis": 0,
    "deepnote_cell_type": "code",
    "deepnote_cell_height": 130
   },
   "source": "model.compile(loss=\"sparse_categorical_crossentropy\",\n              optimizer=keras.optimizers.SGD(learning_rate=1e-3),\n              metrics=[\"accuracy\"])\nexpon_lr = ExponentialLearningRate(factor=1.005)",
   "execution_count": null,
   "outputs": []
  },
  {
   "cell_type": "markdown",
   "source": "Now let's train the model for just 1 epoch:",
   "metadata": {
    "cell_id": "00168-cdf66aec-7236-40ce-9cef-287924bbf2cb",
    "deepnote_cell_type": "markdown",
    "deepnote_cell_height": 52.390625
   }
  },
  {
   "cell_type": "code",
   "metadata": {
    "cell_id": "00169-d3ba4328-804d-473d-ae67-239e32ac360b",
    "deepnote_to_be_reexecuted": false,
    "source_hash": "d0b90c6e",
    "execution_start": 1659187618185,
    "execution_millis": 5957,
    "deepnote_cell_type": "code",
    "deepnote_cell_height": 147.1875
   },
   "source": "history = model.fit(X_train, y_train, epochs=1,\n                    validation_data=(X_valid, y_valid),\n                    callbacks=[expon_lr])",
   "execution_count": null,
   "outputs": [
    {
     "name": "stdout",
     "text": "1719/1719 [==============================] - 6s 3ms/step - loss: 51261587931141196574883840.0000 - accuracy: 0.5922 - val_loss: 2.3912 - val_accuracy: 0.1126\n",
     "output_type": "stream"
    }
   ]
  },
  {
   "cell_type": "markdown",
   "source": "We can now plot the loss as a functionof the learning rate:",
   "metadata": {
    "cell_id": "00170-b23da088-c0b7-4bef-bbc8-eecc7230275f",
    "deepnote_cell_type": "markdown",
    "deepnote_cell_height": 52.390625
   }
  },
  {
   "cell_type": "code",
   "metadata": {
    "cell_id": "00171-b39e1889-b938-42e7-b9cc-72182f05aad9",
    "deepnote_to_be_reexecuted": false,
    "source_hash": "4ca6abf7",
    "execution_start": 1659187624145,
    "execution_millis": 507,
    "deepnote_cell_type": "code",
    "deepnote_cell_height": 527.1875,
    "deepnote_output_heights": [
     21.1875,
     275
    ]
   },
   "source": "plt.plot(expon_lr.rates, expon_lr.losses)\nplt.gca().set_xscale('log')\nplt.hlines(min(expon_lr.losses), min(expon_lr.rates), max(expon_lr.rates))\nplt.axis([min(expon_lr.rates), max(expon_lr.rates), 0, expon_lr.losses[0]])\nplt.grid()\nplt.xlabel(\"Learning rate\")\nplt.ylabel(\"Loss\")",
   "execution_count": null,
   "outputs": [
    {
     "output_type": "execute_result",
     "execution_count": 120,
     "data": {
      "text/plain": "Text(0, 0.5, 'Loss')"
     },
     "metadata": {}
    },
    {
     "data": {
      "text/plain": "<Figure size 432x288 with 1 Axes>",
      "image/png": "[encoded data removed]"
     },
     "metadata": {
      "needs_background": "light",
      "image/png": {
       "width": 393,
       "height": 273
      }
     },
     "output_type": "display_data"
    }
   ]
  },
  {
   "cell_type": "markdown",
   "source": "The loss starts shooting back up violently when the learning rate goes over 6e-1, so let's try using half of that, at 3e-1:",
   "metadata": {
    "cell_id": "00172-e719558e-6337-4eda-90ab-a10bca979468",
    "deepnote_cell_type": "markdown",
    "deepnote_cell_height": 52.390625
   }
  },
  {
   "cell_type": "code",
   "metadata": {
    "cell_id": "00173-cc5d0b56-4ab7-40a5-bd38-fee96d6ab637",
    "deepnote_to_be_reexecuted": false,
    "source_hash": "b86c7ea",
    "execution_start": 1659187624656,
    "execution_millis": 9,
    "deepnote_cell_type": "code",
    "deepnote_cell_height": 112
   },
   "source": "keras.backend.clear_session()\nnp.random.seed(42)\ntf.random.set_seed(42)",
   "execution_count": null,
   "outputs": []
  },
  {
   "cell_type": "code",
   "metadata": {
    "cell_id": "00174-492545c8-53d8-4ec5-8f58-93c98a7d7c05",
    "deepnote_to_be_reexecuted": false,
    "source_hash": "e2bfe76c",
    "execution_start": 1659187624674,
    "execution_millis": 25,
    "deepnote_cell_type": "code",
    "deepnote_cell_height": 166
   },
   "source": "model = keras.models.Sequential([\n    keras.layers.Flatten(input_shape=[28, 28]),\n    keras.layers.Dense(300, activation=\"relu\"),\n    keras.layers.Dense(100, activation=\"relu\"),\n    keras.layers.Dense(10, activation=\"softmax\")\n])",
   "execution_count": null,
   "outputs": []
  },
  {
   "cell_type": "code",
   "metadata": {
    "cell_id": "00175-342e7e7a-8558-4507-ae31-f9c02be8ac42",
    "deepnote_to_be_reexecuted": false,
    "source_hash": "3a042439",
    "execution_start": 1659187624706,
    "execution_millis": 4,
    "deepnote_cell_type": "code",
    "deepnote_cell_height": 112
   },
   "source": "model.compile(loss=\"sparse_categorical_crossentropy\",\n              optimizer=keras.optimizers.SGD(learning_rate=3e-1),\n              metrics=[\"accuracy\"])",
   "execution_count": null,
   "outputs": []
  },
  {
   "cell_type": "code",
   "metadata": {
    "cell_id": "00176-11a7c299-f19e-4e48-9910-ada71de67eb2",
    "deepnote_to_be_reexecuted": false,
    "source_hash": "ffc9457c",
    "execution_start": 1659187624715,
    "execution_millis": 4,
    "deepnote_cell_type": "code",
    "deepnote_cell_height": 149.1875,
    "deepnote_output_heights": [
     21.1875
    ]
   },
   "source": "run_index = 1 # increment this at every run\nrun_logdir = os.path.join(os.curdir, \"my_mnist_logs\", \"run_{:03d}\".format(run_index))\nrun_logdir",
   "execution_count": null,
   "outputs": [
    {
     "output_type": "execute_result",
     "execution_count": 124,
     "data": {
      "text/plain": "'./my_mnist_logs/run_001'"
     },
     "metadata": {}
    }
   ]
  },
  {
   "cell_type": "code",
   "metadata": {
    "cell_id": "00177-e5f22ee8-f332-42b4-af60-0bb785562582",
    "deepnote_to_be_reexecuted": false,
    "source_hash": "3aee099d",
    "execution_start": 1659187624723,
    "execution_millis": 106216,
    "deepnote_cell_type": "code",
    "deepnote_cell_height": 804
   },
   "source": "early_stopping_cb = keras.callbacks.EarlyStopping(patience=20)\ncheckpoint_cb = keras.callbacks.ModelCheckpoint(\"my_mnist_model.h5\", save_best_only=True)\ntensorboard_cb = keras.callbacks.TensorBoard(run_logdir)\n\nhistory = model.fit(X_train, y_train, epochs=100,\n                    validation_data=(X_valid, y_valid),\n                    callbacks=[checkpoint_cb, early_stopping_cb, tensorboard_cb])",
   "execution_count": null,
   "outputs": [
    {
     "name": "stdout",
     "text": "Epoch 1/100\n1719/1719 [==============================] - 5s 3ms/step - loss: 0.2360 - accuracy: 0.9263 - val_loss: 0.1022 - val_accuracy: 0.9720\nEpoch 2/100\n1719/1719 [==============================] - 5s 3ms/step - loss: 0.0951 - accuracy: 0.9699 - val_loss: 0.1032 - val_accuracy: 0.9706\nEpoch 3/100\n1719/1719 [==============================] - 5s 3ms/step - loss: 0.0660 - accuracy: 0.9792 - val_loss: 0.0691 - val_accuracy: 0.9790\nEpoch 4/100\n1719/1719 [==============================] - 4s 3ms/step - loss: 0.0487 - accuracy: 0.9835 - val_loss: 0.0778 - val_accuracy: 0.9798\nEpoch 5/100\n1719/1719 [==============================] - 5s 3ms/step - loss: 0.0352 - accuracy: 0.9889 - val_loss: 0.0815 - val_accuracy: 0.9786\nEpoch 6/100\n1719/1719 [==============================] - 5s 3ms/step - loss: 0.0300 - accuracy: 0.9902 - val_loss: 0.0856 - val_accuracy: 0.9796\nEpoch 7/100\n1719/1719 [==============================] - 5s 3ms/step - loss: 0.0215 - accuracy: 0.9931 - val_loss: 0.0842 - val_accuracy: 0.9806\nEpoch 8/100\n1719/1719 [==============================] - 5s 3ms/step - loss: 0.0194 - accuracy: 0.9933 - val_loss: 0.0849 - val_accuracy: 0.9800\nEpoch 9/100\n1719/1719 [==============================] - 5s 3ms/step - loss: 0.0142 - accuracy: 0.9951 - val_loss: 0.0921 - val_accuracy: 0.9820\nEpoch 10/100\n1719/1719 [==============================] - 4s 3ms/step - loss: 0.0129 - accuracy: 0.9955 - val_loss: 0.0790 - val_accuracy: 0.9828\nEpoch 11/100\n1719/1719 [==============================] - 5s 3ms/step - loss: 0.0147 - accuracy: 0.9954 - val_loss: 0.0820 - val_accuracy: 0.9842\nEpoch 12/100\n1719/1719 [==============================] - 4s 3ms/step - loss: 0.0103 - accuracy: 0.9967 - val_loss: 0.0915 - val_accuracy: 0.9802\nEpoch 13/100\n1719/1719 [==============================] - 5s 3ms/step - loss: 0.0119 - accuracy: 0.9965 - val_loss: 0.0971 - val_accuracy: 0.9804\nEpoch 14/100\n1719/1719 [==============================] - 5s 3ms/step - loss: 0.0081 - accuracy: 0.9975 - val_loss: 0.0884 - val_accuracy: 0.9834\nEpoch 15/100\n1719/1719 [==============================] - 5s 3ms/step - loss: 0.0057 - accuracy: 0.9983 - val_loss: 0.1142 - val_accuracy: 0.9792\nEpoch 16/100\n1719/1719 [==============================] - 5s 3ms/step - loss: 0.0029 - accuracy: 0.9991 - val_loss: 0.0910 - val_accuracy: 0.9836\nEpoch 17/100\n1719/1719 [==============================] - 4s 3ms/step - loss: 3.8993e-04 - accuracy: 1.0000 - val_loss: 0.0893 - val_accuracy: 0.9854\nEpoch 18/100\n1719/1719 [==============================] - 5s 3ms/step - loss: 1.2783e-04 - accuracy: 1.0000 - val_loss: 0.0911 - val_accuracy: 0.9846\nEpoch 19/100\n1719/1719 [==============================] - 4s 3ms/step - loss: 9.1791e-05 - accuracy: 1.0000 - val_loss: 0.0924 - val_accuracy: 0.9846\nEpoch 20/100\n1719/1719 [==============================] - 5s 3ms/step - loss: 7.6138e-05 - accuracy: 1.0000 - val_loss: 0.0936 - val_accuracy: 0.9846\nEpoch 21/100\n1719/1719 [==============================] - 4s 3ms/step - loss: 6.5733e-05 - accuracy: 1.0000 - val_loss: 0.0945 - val_accuracy: 0.9848\nEpoch 22/100\n1719/1719 [==============================] - 5s 3ms/step - loss: 5.8258e-05 - accuracy: 1.0000 - val_loss: 0.0953 - val_accuracy: 0.9850\nEpoch 23/100\n1719/1719 [==============================] - 4s 3ms/step - loss: 5.2673e-05 - accuracy: 1.0000 - val_loss: 0.0960 - val_accuracy: 0.9850\n",
     "output_type": "stream"
    }
   ]
  },
  {
   "cell_type": "code",
   "metadata": {
    "cell_id": "00178-5d767fe1-e54d-4c46-8c34-c51992e08940",
    "deepnote_to_be_reexecuted": false,
    "source_hash": "61259277",
    "execution_start": 1659187730939,
    "execution_millis": 1164,
    "deepnote_cell_type": "code",
    "deepnote_cell_height": 177.375,
    "deepnote_output_heights": [
     null,
     21.1875
    ]
   },
   "source": "model = keras.models.load_model(\"my_mnist_model.h5\") # rollback to best model\nmodel.evaluate(X_test, y_test)",
   "execution_count": null,
   "outputs": [
    {
     "name": "stdout",
     "text": "313/313 [==============================] - 1s 2ms/step - loss: 0.0833 - accuracy: 0.9744\n",
     "output_type": "stream"
    },
    {
     "output_type": "execute_result",
     "execution_count": 126,
     "data": {
      "text/plain": "[0.08327189832925797, 0.974399983882904]"
     },
     "metadata": {}
    }
   ]
  },
  {
   "cell_type": "markdown",
   "source": "We got over 98% accuracy. Finally, let's look at the learning curves using TensorBoard:",
   "metadata": {
    "cell_id": "00179-4b8508b1-4000-49f8-871f-45d78a84b9bc",
    "deepnote_cell_type": "markdown",
    "deepnote_cell_height": 52.390625
   }
  },
  {
   "cell_type": "code",
   "metadata": {
    "cell_id": "00180-59c7ef7b-717c-4a43-8d4d-a43306ab23d0",
    "deepnote_to_be_reexecuted": false,
    "source_hash": "c522cde0",
    "execution_start": 1659187731813,
    "execution_millis": 6055,
    "deepnote_cell_type": "code",
    "deepnote_cell_height": 113.1875
   },
   "source": "%tensorboard --logdir=./my_mnist_logs --port=6006",
   "execution_count": null,
   "outputs": [
    {
     "data": {
      "text/plain": "Launching TensorBoard..."
     },
     "metadata": {},
     "output_type": "display_data"
    }
   ]
  },
  {
   "cell_type": "code",
   "metadata": {
    "cell_id": "00181-ae2f5e0b-f63d-475d-af69-188ae58ddd8e",
    "deepnote_to_be_reexecuted": false,
    "source_hash": "b623e53d",
    "execution_start": 1659187737873,
    "execution_millis": 2,
    "deepnote_cell_type": "code",
    "deepnote_cell_height": 76
   },
   "source": "",
   "execution_count": null,
   "outputs": []
  },
  {
   "cell_type": "markdown",
   "source": "<a style='text-decoration:none;line-height:16px;display:flex;color:#5B5B62;padding:10px;justify-content:end;' href='https://deepnote.com?utm_source=created-in-deepnote-cell&projectId=8b8747e0-d5e2-4759-af6a-42b7fe569db7' target=\"_blank\">\n<img alt='Created in deepnote.com' style='display:inline;max-height:16px;margin:0px;margin-right:7.5px;' src='data:image/svg+xml;base64,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' > </img>\nCreated in <span style='font-weight:600;margin-left:4px;'>Deepnote</span></a>",
   "metadata": {
    "tags": [],
    "created_in_deepnote_cell": true,
    "deepnote_cell_type": "markdown"
   }
  }
 ],
 "nbformat": 4,
 "nbformat_minor": 4,
 "metadata": {
  "kernelspec": {
   "display_name": "Python 3 (ipykernel)",
   "language": "python",
   "name": "python3"
  },
  "language_info": {
   "codemirror_mode": {
    "name": "ipython",
    "version": 3
   },
   "file_extension": ".py",
   "mimetype": "text/x-python",
   "name": "python",
   "nbconvert_exporter": "python",
   "pygments_lexer": "ipython3",
   "version": "3.9.12"
  },
  "nav_menu": {
   "height": "264px",
   "width": "369px"
  },
  "toc": {
   "navigate_menu": true,
   "number_sections": true,
   "sideBar": true,
   "threshold": 6,
   "toc_cell": false,
   "toc_section_display": "block",
   "toc_window_display": false
  },
  "widgets": {
   "application/vnd.jupyter.widget-state+json": {
    "state": {},
    "version_major": 2,
    "version_minor": 0
   }
  },
  "deepnote_notebook_id": "d3118ad9-4c2f-49e2-915b-80cd78cc7dc0",
  "deepnote": {},
  "deepnote_execution_queue": []
 }
}